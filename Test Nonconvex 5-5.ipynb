{
 "cells": [
  {
   "cell_type": "code",
   "execution_count": 1,
   "id": "be61b914-e1af-43b9-9766-5092593f92dd",
   "metadata": {},
   "outputs": [],
   "source": [
    "import time\n",
    "\n",
    "import numpy as np\n",
    "import pandas as pd\n",
    "import torch\n",
    "from torch import nn\n",
    "from tqdm import tqdm\n",
    "\n",
    "# random seed\n",
    "np.random.seed(42)\n",
    "torch.manual_seed(42)\n",
    "torch.cuda.manual_seed(42)"
   ]
  },
  {
   "cell_type": "code",
   "execution_count": 2,
   "id": "35fe4527-9dbf-48f0-bfb3-62cda59092aa",
   "metadata": {},
   "outputs": [],
   "source": [
    "# turn off warning\n",
    "import logging\n",
    "logging.getLogger('pyomo.core').setLevel(logging.ERROR)"
   ]
  },
  {
   "cell_type": "markdown",
   "id": "c5560447-da9d-4cbe-aab4-538aa11c8ee8",
   "metadata": {},
   "source": [
    "## Problem Setting"
   ]
  },
  {
   "cell_type": "code",
   "execution_count": 3,
   "id": "52363c72-0d20-4c08-bd00-0f62aa73686c",
   "metadata": {},
   "outputs": [],
   "source": [
    "# init\n",
    "num_var = 5       # number of variables\n",
    "num_ineq = 5      # number of constraints\n",
    "num_data = 10000  # number of data\n",
    "test_size = 1000  # number of test size\n",
    "val_size = 1000   # number of validation size\n",
    "train_size = num_data - test_size - val_size"
   ]
  },
  {
   "cell_type": "code",
   "execution_count": 4,
   "id": "21938c00-d73f-4255-bc7c-bce6e8034cf8",
   "metadata": {},
   "outputs": [],
   "source": [
    "# data sample from uniform distribution\n",
    "b_samples = torch.from_numpy(np.random.uniform(-1, 1, size=(num_data, num_ineq))).float()\n",
    "data = {\"b\":b_samples}\n",
    "# data split\n",
    "from src.utlis import data_split\n",
    "data_train, data_test, data_dev = data_split(data, test_size=test_size, val_size=val_size)"
   ]
  },
  {
   "cell_type": "code",
   "execution_count": 5,
   "id": "5ecf81ff-627d-444d-8d90-121c7e20c217",
   "metadata": {},
   "outputs": [],
   "source": [
    "# torch dataloaders\n",
    "from torch.utils.data import DataLoader\n",
    "batch_size = 64\n",
    "loader_train = DataLoader(data_train, batch_size, num_workers=0, collate_fn=data_train.collate_fn, shuffle=True)\n",
    "loader_test = DataLoader(data_test, batch_size, num_workers=0, collate_fn=data_test.collate_fn, shuffle=False)\n",
    "loader_dev = DataLoader(data_dev, batch_size, num_workers=0, collate_fn=data_dev.collate_fn, shuffle=False)"
   ]
  },
  {
   "cell_type": "markdown",
   "id": "16ec0a67-54ea-4a9d-b037-0c7c9390e3f9",
   "metadata": {},
   "source": [
    "## Exact Solver"
   ]
  },
  {
   "cell_type": "code",
   "execution_count": 6,
   "id": "50aaabd7-90ed-4628-a1da-c98777868d92",
   "metadata": {},
   "outputs": [],
   "source": [
    "from src.problem import msNonconvex\n",
    "model = msNonconvex(num_var, num_ineq, timelimit=60)"
   ]
  },
  {
   "cell_type": "code",
   "execution_count": 7,
   "id": "76222165-3add-4d9f-a4d1-2a00ba3a20ca",
   "metadata": {},
   "outputs": [
    {
     "name": "stderr",
     "output_type": "stream",
     "text": [
      "100%|██████████████████████████████████████████████████████████████████████████████| 1000/1000 [03:24<00:00,  4.90it/s]\n"
     ]
    },
    {
     "name": "stdout",
     "output_type": "stream",
     "text": [
      "           Obj Val  Constraints Viol  Elapsed Time\n",
      "count  1000.000000            1000.0   1000.000000\n",
      "mean     -0.022894               0.0      0.203028\n",
      "std       0.154194               0.0      0.108530\n",
      "min      -0.182410               0.0      0.075976\n",
      "25%      -0.138515               0.0      0.122437\n",
      "50%      -0.078114               0.0      0.177850\n",
      "75%       0.034901               0.0      0.248992\n",
      "max       0.678077               0.0      1.009168\n",
      "Number of infeasible solution: 0\n"
     ]
    }
   ],
   "source": [
    "params, sols, objvals, conviols, elapseds = [], [], [], [], []\n",
    "for b in tqdm(data_test.datadict[\"b\"]):\n",
    "    # set params\n",
    "    model.set_param_val({\"b\":b.cpu().numpy()})\n",
    "    # solve\n",
    "    tick = time.time()\n",
    "    xval, objval = model.solve(\"scip\")\n",
    "    tock = time.time()\n",
    "    # eval\n",
    "    params.append(list(b))\n",
    "    sols.append(list(list(xval.values())[0].values()))\n",
    "    objvals.append(objval)\n",
    "    conviols.append(sum(model.cal_violation()))\n",
    "    elapseds.append(tock - tick)\n",
    "df = pd.DataFrame({\"Param\":params, \"Sol\":sols, \"Obj Val\": objvals, \"Constraints Viol\": conviols, \"Elapsed Time\": elapseds})\n",
    "time.sleep(1)\n",
    "print(df.describe())\n",
    "print(\"Number of infeasible solution: {}\".format(np.sum(df[\"Constraints Viol\"] > 0)))\n",
    "df.to_csv(\"result/nc_exact_5-5.csv\")"
   ]
  },
  {
   "cell_type": "markdown",
   "id": "cad38e16-1a87-4f11-92b4-b608f7f3ea11",
   "metadata": {},
   "source": [
    "## Heuristic - Round"
   ]
  },
  {
   "cell_type": "code",
   "execution_count": 8,
   "id": "03328361-3f39-461d-ac81-40c8c14717bb",
   "metadata": {},
   "outputs": [],
   "source": [
    "from src.heuristic import naive_round"
   ]
  },
  {
   "cell_type": "code",
   "execution_count": 9,
   "id": "2e57b62f-dfb4-4c87-b42e-e43b202ef96c",
   "metadata": {},
   "outputs": [
    {
     "name": "stderr",
     "output_type": "stream",
     "text": [
      "100%|██████████████████████████████████████████████████████████████████████████████| 1000/1000 [12:26<00:00,  1.34it/s]\n"
     ]
    },
    {
     "name": "stdout",
     "output_type": "stream",
     "text": [
      "           Obj Val  Constraints Viol  Elapsed Time\n",
      "count  1000.000000       1000.000000   1000.000000\n",
      "mean     -0.043882          0.040585      0.740334\n",
      "std       0.137256          0.048872      1.877338\n",
      "min      -0.182410          0.000000      0.149239\n",
      "25%      -0.144368          0.000000      0.447507\n",
      "50%      -0.090895          0.020409      0.690370\n",
      "75%       0.002064          0.071587      0.802516\n",
      "max       0.552763          0.265027     59.526771\n",
      "Number of infeasible solution: 622\n"
     ]
    }
   ],
   "source": [
    "params, sols, objvals, conviols, elapseds = [], [], [], [], []\n",
    "for b in tqdm(data_test.datadict[\"b\"]):\n",
    "    # set params\n",
    "    model.set_param_val({\"b\":b.cpu().numpy()})\n",
    "    # relax\n",
    "    model_rel = model.relax()\n",
    "    # solve\n",
    "    tick = time.time()\n",
    "    xval_rel, _ = model_rel.solve(\"scip\")\n",
    "    xval, objval = naive_round(xval_rel, model)\n",
    "    tock = time.time()\n",
    "    # eval\n",
    "    params.append(list(b))\n",
    "    sols.append(list(list(xval.values())[0].values()))\n",
    "    objvals.append(objval)\n",
    "    conviols.append(sum(model.cal_violation()))\n",
    "    elapseds.append(tock - tick)\n",
    "df = pd.DataFrame({\"Param\":params, \"Sol\":sols, \"Obj Val\": objvals, \"Constraints Viol\": conviols, \"Elapsed Time\": elapseds})\n",
    "time.sleep(1)\n",
    "print(df.describe())\n",
    "print(\"Number of infeasible solution: {}\".format(np.sum(df[\"Constraints Viol\"] > 0)))\n",
    "df.to_csv(\"result/nc_heur_rnd_5-5.csv\")"
   ]
  },
  {
   "cell_type": "markdown",
   "id": "96304fbd-08f5-4be7-a81e-83c85332029c",
   "metadata": {},
   "source": [
    "## Heuristic - N1"
   ]
  },
  {
   "cell_type": "code",
   "execution_count": 10,
   "id": "356187af-e02d-4478-bf78-ada6a2e1b94b",
   "metadata": {},
   "outputs": [],
   "source": [
    "model_heur = model.first_solution_heuristic(nodes_limit=1)"
   ]
  },
  {
   "cell_type": "code",
   "execution_count": 11,
   "id": "f4c7fc52-cbbc-4414-bf1d-316d65c8db5b",
   "metadata": {},
   "outputs": [
    {
     "name": "stderr",
     "output_type": "stream",
     "text": [
      "100%|██████████████████████████████████████████████████████████████████████████████| 1000/1000 [01:31<00:00, 10.98it/s]\n"
     ]
    },
    {
     "name": "stdout",
     "output_type": "stream",
     "text": [
      "           Obj Val  Constraints Viol  Elapsed Time\n",
      "count  1000.000000            1000.0   1000.000000\n",
      "mean      1.110827               0.0      0.090344\n",
      "std       1.782178               0.0      0.033578\n",
      "min      -0.084455               0.0      0.059285\n",
      "25%       0.112639               0.0      0.076307\n",
      "50%       0.299847               0.0      0.077373\n",
      "75%       1.149328               0.0      0.079154\n",
      "max       7.894967               0.0      0.233585\n",
      "Number of infeasible solution: 0\n"
     ]
    }
   ],
   "source": [
    "params, sols, objvals, conviols, elapseds = [], [], [], [], []\n",
    "for b in tqdm(data_test.datadict[\"b\"]):\n",
    "    # set params\n",
    "    model_heur.set_param_val({\"b\":b.cpu().numpy()})\n",
    "    # solve\n",
    "    tick = time.time()\n",
    "    xval, objval = model_heur.solve(\"scip\")\n",
    "    tock = time.time()\n",
    "    # eval\n",
    "    params.append(list(b))\n",
    "    sols.append(list(list(xval.values())[0].values()))\n",
    "    objvals.append(objval)\n",
    "    conviols.append(sum(model_heur.cal_violation()))\n",
    "    elapseds.append(tock - tick)\n",
    "df = pd.DataFrame({\"Param\":params, \"Sol\":sols, \"Obj Val\": objvals, \"Constraints Viol\": conviols, \"Elapsed Time\": elapseds})\n",
    "time.sleep(1)\n",
    "print(df.describe())\n",
    "print(\"Number of infeasible solution: {}\".format(np.sum(df[\"Constraints Viol\"] > 0)))\n",
    "df.to_csv(\"result/nc_heur_n1_5-5.csv\")"
   ]
  },
  {
   "cell_type": "markdown",
   "id": "316273d7-690a-424a-bab4-6a7638457d87",
   "metadata": {},
   "source": [
    "### Heuristic - N3"
   ]
  },
  {
   "cell_type": "code",
   "execution_count": 12,
   "id": "52ce4b8c-8469-4aaa-9346-e650c2e19b81",
   "metadata": {},
   "outputs": [],
   "source": [
    "model_heur = model.first_solution_heuristic(nodes_limit=3)"
   ]
  },
  {
   "cell_type": "code",
   "execution_count": 13,
   "id": "c06bcc68-76fc-42af-89fc-dff179a85999",
   "metadata": {},
   "outputs": [
    {
     "name": "stderr",
     "output_type": "stream",
     "text": [
      "100%|██████████████████████████████████████████████████████████████████████████████| 1000/1000 [01:43<00:00,  9.68it/s]\n"
     ]
    },
    {
     "name": "stdout",
     "output_type": "stream",
     "text": [
      "           Obj Val  Constraints Viol  Elapsed Time\n",
      "count  1000.000000            1000.0   1000.000000\n",
      "mean      0.226923               0.0      0.102537\n",
      "std       0.414379               0.0      0.045570\n",
      "min      -0.180625               0.0      0.073249\n",
      "25%      -0.021205               0.0      0.076886\n",
      "50%       0.069121               0.0      0.078802\n",
      "75%       0.264289               0.0      0.107023\n",
      "max       2.196364               0.0      0.342980\n",
      "Number of infeasible solution: 0\n"
     ]
    }
   ],
   "source": [
    "params, sols, objvals, conviols, elapseds = [], [], [], [], []\n",
    "for b in tqdm(data_test.datadict[\"b\"]):\n",
    "    # set params\n",
    "    model_heur.set_param_val({\"b\":b.cpu().numpy()})\n",
    "    # solve\n",
    "    tick = time.time()\n",
    "    xval, objval = model_heur.solve(\"scip\")\n",
    "    tock = time.time()\n",
    "    # eval\n",
    "    params.append(list(b))\n",
    "    sols.append(list(list(xval.values())[0].values()))\n",
    "    objvals.append(objval)\n",
    "    conviols.append(sum(model_heur.cal_violation()))\n",
    "    elapseds.append(tock - tick)\n",
    "df = pd.DataFrame({\"Param\":params, \"Sol\":sols, \"Obj Val\": objvals, \"Constraints Viol\": conviols, \"Elapsed Time\": elapseds})\n",
    "time.sleep(1)\n",
    "print(df.describe())\n",
    "print(\"Number of infeasible solution: {}\".format(np.sum(df[\"Constraints Viol\"] > 0)))\n",
    "df.to_csv(\"result/nc_heur_n3_5-5.csv\")"
   ]
  },
  {
   "cell_type": "markdown",
   "id": "9819c60c-df5f-41c6-ae83-888c75aa78d7",
   "metadata": {},
   "source": [
    "## Learnable Rounding"
   ]
  },
  {
   "cell_type": "code",
   "execution_count": 14,
   "id": "6a4fb3e2-9c47-4c10-8116-e94be18ea59c",
   "metadata": {},
   "outputs": [],
   "source": [
    "# random seed\n",
    "np.random.seed(42)\n",
    "torch.manual_seed(42)\n",
    "torch.cuda.manual_seed(42)"
   ]
  },
  {
   "cell_type": "code",
   "execution_count": 15,
   "id": "536d2d58-67ba-408a-b72a-7c5bd54a5ff4",
   "metadata": {},
   "outputs": [],
   "source": [
    "# hyperparameters\n",
    "penalty_weight = 100  # weight of constraint violation penealty\n",
    "hlayers_sol = 5       # number of hidden layers for solution mapping\n",
    "hlayers_rnd = 4       # number of hidden layers for solution mapping\n",
    "hsize = 16            # width of hidden layers for solution mapping\n",
    "lr = 1e-3             # learning rate"
   ]
  },
  {
   "cell_type": "code",
   "execution_count": 16,
   "id": "fee1241e-e53a-4cbb-927a-edcdb3537303",
   "metadata": {},
   "outputs": [],
   "source": [
    "# set problem\n",
    "import neuromancer as nm\n",
    "from src.problem import nmNonconvex\n",
    "from src.func.layer import netFC\n",
    "from src.func import roundGumbelModel\n",
    "# build neural architecture for the solution map\n",
    "func = nm.modules.blocks.MLP(insize=num_ineq, outsize=num_var, bias=True,\n",
    "                             linear_map=nm.slim.maps[\"linear\"],\n",
    "                             nonlin=nn.ReLU, hsizes=[hsize]*hlayers_sol)\n",
    "smap = nm.system.Node(func, [\"b\"], [\"x\"], name=\"smap\")\n",
    "# define rounding model\n",
    "layers_rnd = netFC(input_dim=num_ineq+num_var, hidden_dims=[hsize]*hlayers_rnd, output_dim=num_var)\n",
    "rnd = roundGumbelModel(layers=layers_rnd, param_keys=[\"b\"], var_keys=[\"x\"],  output_keys=[\"x_rnd\"], \n",
    "                       int_ind=model.int_ind, continuous_update=True, name=\"round\")\n",
    "# build neuromancer problem for rounding\n",
    "components = nn.ModuleList([smap, rnd]).to(\"cuda\")\n",
    "loss_fn = nmNonconvex([\"b\", \"x_rnd\"], num_var, num_ineq, penalty_weight)"
   ]
  },
  {
   "cell_type": "code",
   "execution_count": 17,
   "id": "e4f10263-5f69-4288-a4e8-8be83929c8d6",
   "metadata": {},
   "outputs": [
    {
     "name": "stdout",
     "output_type": "stream",
     "text": [
      "Epoch 0, Validation Loss: 132.74\n",
      "Epoch 1, Validation Loss: 12.75\n",
      "Epoch 2, Validation Loss: 1.24\n",
      "Epoch 3, Validation Loss: 1.05\n",
      "Epoch 4, Validation Loss: 0.98\n",
      "Epoch 5, Validation Loss: 0.91\n",
      "Epoch 6, Validation Loss: 0.87\n",
      "Epoch 7, Validation Loss: 0.80\n",
      "Epoch 8, Validation Loss: 0.82\n",
      "Epoch 9, Validation Loss: 0.73\n",
      "Epoch 10, Validation Loss: 0.68\n",
      "Epoch 11, Validation Loss: 0.69\n",
      "Epoch 12, Validation Loss: 0.62\n",
      "Epoch 13, Validation Loss: 0.66\n",
      "Epoch 14, Validation Loss: 0.58\n",
      "Epoch 15, Validation Loss: 0.55\n",
      "Epoch 16, Validation Loss: 0.50\n",
      "Epoch 17, Validation Loss: 0.53\n",
      "Epoch 18, Validation Loss: 0.56\n",
      "Epoch 19, Validation Loss: 0.47\n",
      "Epoch 20, Validation Loss: 0.44\n",
      "Epoch 21, Validation Loss: 0.46\n",
      "Epoch 22, Validation Loss: 0.45\n",
      "Epoch 23, Validation Loss: 0.52\n",
      "Epoch 24, Validation Loss: 0.40\n",
      "Epoch 25, Validation Loss: 0.40\n",
      "Epoch 26, Validation Loss: 0.41\n",
      "Epoch 27, Validation Loss: 0.43\n",
      "Epoch 28, Validation Loss: 0.42\n",
      "Epoch 29, Validation Loss: 0.41\n",
      "Epoch 30, Validation Loss: 0.52\n",
      "Epoch 31, Validation Loss: 0.49\n",
      "Epoch 32, Validation Loss: 0.44\n",
      "Epoch 33, Validation Loss: 0.42\n",
      "Epoch 34, Validation Loss: 0.39\n",
      "Epoch 35, Validation Loss: 0.37\n",
      "Epoch 36, Validation Loss: 0.39\n",
      "Epoch 37, Validation Loss: 0.39\n",
      "Epoch 38, Validation Loss: 0.40\n",
      "Epoch 39, Validation Loss: 0.40\n",
      "Epoch 40, Validation Loss: 0.38\n",
      "Epoch 41, Validation Loss: 0.39\n",
      "Epoch 42, Validation Loss: 0.38\n",
      "Epoch 43, Validation Loss: 0.36\n",
      "Epoch 44, Validation Loss: 0.38\n",
      "Epoch 45, Validation Loss: 0.37\n",
      "Epoch 46, Validation Loss: 0.38\n",
      "Epoch 47, Validation Loss: 0.34\n",
      "Epoch 48, Validation Loss: 0.36\n",
      "Epoch 49, Validation Loss: 0.36\n",
      "Epoch 50, Validation Loss: 0.36\n",
      "Epoch 51, Validation Loss: 0.40\n",
      "Epoch 52, Validation Loss: 0.35\n",
      "Epoch 53, Validation Loss: 0.35\n",
      "Epoch 54, Validation Loss: 0.38\n",
      "Epoch 55, Validation Loss: 0.40\n",
      "Epoch 56, Validation Loss: 0.35\n",
      "Epoch 57, Validation Loss: 0.37\n",
      "Epoch 58, Validation Loss: 0.35\n",
      "Epoch 59, Validation Loss: 0.36\n",
      "Epoch 60, Validation Loss: 0.38\n",
      "Epoch 61, Validation Loss: 0.33\n",
      "Epoch 62, Validation Loss: 0.34\n",
      "Epoch 63, Validation Loss: 0.33\n",
      "Epoch 64, Validation Loss: 0.32\n",
      "Epoch 65, Validation Loss: 0.31\n",
      "Epoch 66, Validation Loss: 0.32\n",
      "Epoch 67, Validation Loss: 0.35\n",
      "Epoch 68, Validation Loss: 0.31\n",
      "Epoch 69, Validation Loss: 0.31\n",
      "Epoch 70, Validation Loss: 0.32\n",
      "Epoch 71, Validation Loss: 0.35\n",
      "Epoch 72, Validation Loss: 0.31\n",
      "Epoch 73, Validation Loss: 0.32\n",
      "Epoch 74, Validation Loss: 0.33\n",
      "Epoch 75, Validation Loss: 0.31\n",
      "Epoch 76, Validation Loss: 0.33\n",
      "Epoch 77, Validation Loss: 0.29\n",
      "Epoch 78, Validation Loss: 0.31\n",
      "Epoch 79, Validation Loss: 0.32\n",
      "Epoch 80, Validation Loss: 0.32\n",
      "Epoch 81, Validation Loss: 0.32\n",
      "Epoch 82, Validation Loss: 0.32\n",
      "Epoch 83, Validation Loss: 0.30\n",
      "Epoch 84, Validation Loss: 0.28\n",
      "Epoch 85, Validation Loss: 0.29\n",
      "Epoch 86, Validation Loss: 0.30\n",
      "Epoch 87, Validation Loss: 0.30\n",
      "Epoch 88, Validation Loss: 0.29\n",
      "Epoch 89, Validation Loss: 0.29\n",
      "Epoch 90, Validation Loss: 0.28\n",
      "Epoch 91, Validation Loss: 0.29\n",
      "Epoch 92, Validation Loss: 0.28\n",
      "Epoch 93, Validation Loss: 0.29\n",
      "Epoch 94, Validation Loss: 0.29\n",
      "Epoch 95, Validation Loss: 0.30\n",
      "Epoch 96, Validation Loss: 0.27\n",
      "Epoch 97, Validation Loss: 0.28\n",
      "Epoch 98, Validation Loss: 0.29\n",
      "Epoch 99, Validation Loss: 0.30\n",
      "Epoch 100, Validation Loss: 0.27\n",
      "Epoch 101, Validation Loss: 0.29\n",
      "Epoch 102, Validation Loss: 0.26\n",
      "Epoch 103, Validation Loss: 0.28\n",
      "Epoch 104, Validation Loss: 0.28\n",
      "Epoch 105, Validation Loss: 0.27\n",
      "Epoch 106, Validation Loss: 0.26\n",
      "Epoch 107, Validation Loss: 0.27\n",
      "Epoch 108, Validation Loss: 0.27\n",
      "Epoch 109, Validation Loss: 0.27\n",
      "Epoch 110, Validation Loss: 0.27\n",
      "Epoch 111, Validation Loss: 0.26\n",
      "Epoch 112, Validation Loss: 0.25\n",
      "Epoch 113, Validation Loss: 0.32\n",
      "Epoch 114, Validation Loss: 0.29\n",
      "Epoch 115, Validation Loss: 0.28\n",
      "Epoch 116, Validation Loss: 0.24\n",
      "Epoch 117, Validation Loss: 0.28\n",
      "Epoch 118, Validation Loss: 0.26\n",
      "Epoch 119, Validation Loss: 0.26\n",
      "Epoch 120, Validation Loss: 0.26\n",
      "Epoch 121, Validation Loss: 0.26\n",
      "Epoch 122, Validation Loss: 0.24\n",
      "Epoch 123, Validation Loss: 0.24\n",
      "Epoch 124, Validation Loss: 0.25\n",
      "Epoch 125, Validation Loss: 0.25\n",
      "Epoch 126, Validation Loss: 0.28\n",
      "Epoch 127, Validation Loss: 0.27\n",
      "Epoch 128, Validation Loss: 0.28\n",
      "Epoch 129, Validation Loss: 0.23\n",
      "Epoch 130, Validation Loss: 0.24\n",
      "Epoch 131, Validation Loss: 0.25\n",
      "Epoch 132, Validation Loss: 0.26\n",
      "Epoch 133, Validation Loss: 0.24\n",
      "Epoch 134, Validation Loss: 0.23\n",
      "Epoch 135, Validation Loss: 0.28\n",
      "Epoch 136, Validation Loss: 0.25\n",
      "Epoch 137, Validation Loss: 0.24\n",
      "Epoch 138, Validation Loss: 0.22\n",
      "Epoch 139, Validation Loss: 0.26\n",
      "Epoch 140, Validation Loss: 0.23\n",
      "Epoch 141, Validation Loss: 0.26\n",
      "Epoch 142, Validation Loss: 0.24\n",
      "Epoch 143, Validation Loss: 0.27\n",
      "Epoch 144, Validation Loss: 0.24\n",
      "Epoch 145, Validation Loss: 0.26\n",
      "Epoch 146, Validation Loss: 0.24\n",
      "Epoch 147, Validation Loss: 0.21\n",
      "Epoch 148, Validation Loss: 0.25\n",
      "Epoch 149, Validation Loss: 0.25\n",
      "Epoch 150, Validation Loss: 0.28\n",
      "Epoch 151, Validation Loss: 0.23\n",
      "Epoch 152, Validation Loss: 0.22\n",
      "Epoch 153, Validation Loss: 0.23\n",
      "Epoch 154, Validation Loss: 0.23\n",
      "Epoch 155, Validation Loss: 0.22\n",
      "Epoch 156, Validation Loss: 0.22\n",
      "Epoch 157, Validation Loss: 0.24\n",
      "Epoch 158, Validation Loss: 0.22\n",
      "Epoch 159, Validation Loss: 0.26\n",
      "Epoch 160, Validation Loss: 0.25\n",
      "Epoch 161, Validation Loss: 0.22\n",
      "Epoch 162, Validation Loss: 0.26\n",
      "Epoch 163, Validation Loss: 0.23\n",
      "Epoch 164, Validation Loss: 0.21\n",
      "Epoch 165, Validation Loss: 0.23\n",
      "Epoch 166, Validation Loss: 0.25\n",
      "Early stopping at epoch 166\n",
      "Best model loaded.\n",
      "Training complete.\n"
     ]
    }
   ],
   "source": [
    "from src.problem.neuromancer.trainer import trainer\n",
    "# training\n",
    "epochs = 200                    # number of training epochs\n",
    "warmup = 20                     # number of epochs to wait before enacting early stopping policy\n",
    "patience = 20                   # number of epochs with no improvement in eval metric to allow before early stopping\n",
    "optimizer = torch.optim.AdamW(components.parameters(), lr=lr)\n",
    "# create a trainer for the problem\n",
    "my_trainer = trainer(components, loss_fn, optimizer, epochs, patience, warmup, device=\"cuda\")\n",
    "# training for the rounding problem\n",
    "my_trainer.train(loader_train, loader_dev)"
   ]
  },
  {
   "cell_type": "code",
   "execution_count": 18,
   "id": "3e835084-eb75-45d9-bcbd-5fb4c613fb41",
   "metadata": {},
   "outputs": [
    {
     "name": "stderr",
     "output_type": "stream",
     "text": [
      "100%|█████████████████████████████████████████████████████████████████████████████| 1000/1000 [00:04<00:00, 247.55it/s]\n"
     ]
    },
    {
     "name": "stdout",
     "output_type": "stream",
     "text": [
      "           Obj Val  Constraints Viol  Elapsed Time\n",
      "count  1000.000000       1000.000000   1000.000000\n",
      "mean      0.202430          0.000038      0.002979\n",
      "std       0.196878          0.000889      0.001608\n",
      "min      -0.042898          0.000000      0.000999\n",
      "25%       0.041265          0.000000      0.002005\n",
      "50%       0.163571          0.000000      0.002512\n",
      "75%       0.278137          0.000000      0.003121\n",
      "max       1.064301          0.025181      0.014828\n",
      "Number of infeasible solution: 2\n"
     ]
    }
   ],
   "source": [
    "params, sols, objvals, conviols, elapseds = [], [], [], [], []\n",
    "for b in tqdm(data_test.datadict[\"b\"]):\n",
    "    # data point as tensor\n",
    "    datapoints = {\"b\": torch.unsqueeze(b, 0).to(\"cuda\"), \n",
    "                  \"name\": \"test\"}\n",
    "    # infer\n",
    "    components.eval()\n",
    "    tick = time.time()\n",
    "    with torch.no_grad():\n",
    "        for comp in components:\n",
    "            datapoints.update(comp(datapoints))\n",
    "    tock = time.time()\n",
    "    # assign params\n",
    "    model.set_param_val({\"b\":b.cpu().numpy()})\n",
    "    # assign vars\n",
    "    x = datapoints[\"x_rnd\"]\n",
    "    for i in range(num_var):\n",
    "        model.vars[\"x\"][i].value = x[0,i].item()\n",
    "    # get solutions\n",
    "    xval, objval = model.get_val()    \n",
    "    params.append(list(b.cpu().numpy()))\n",
    "    sols.append(list(list(xval.values())[0].values()))\n",
    "    objvals.append(objval)\n",
    "    conviols.append(sum(model.cal_violation()))\n",
    "    elapseds.append(tock - tick)\n",
    "df = pd.DataFrame({\"Param\":params, \"Sol\":sols, \"Obj Val\": objvals, \"Constraints Viol\": conviols, \"Elapsed Time\": elapseds})\n",
    "time.sleep(1)\n",
    "print(df.describe())\n",
    "print(\"Number of infeasible solution: {}\".format(np.sum(df[\"Constraints Viol\"] > 0)))\n",
    "df.to_csv(\"result/nc_lr_5-5.csv\")"
   ]
  },
  {
   "cell_type": "markdown",
   "id": "2dbf8a72-29b9-49c4-b3c1-0d68895c1c1f",
   "metadata": {},
   "source": [
    "## Learnable Threshold"
   ]
  },
  {
   "cell_type": "code",
   "execution_count": 19,
   "id": "36c57dbb-8dee-4976-8922-82a155fe0128",
   "metadata": {},
   "outputs": [],
   "source": [
    "# random seed\n",
    "np.random.seed(42)\n",
    "torch.manual_seed(42)\n",
    "torch.cuda.manual_seed(42)"
   ]
  },
  {
   "cell_type": "code",
   "execution_count": 20,
   "id": "d46b9817-87ac-4af0-b387-b10c9a4998f4",
   "metadata": {},
   "outputs": [],
   "source": [
    "# hyperparameters\n",
    "penalty_weight = 100  # weight of constraint violation penealty\n",
    "hlayers_sol = 5       # number of hidden layers for solution mapping\n",
    "hlayers_rnd = 4       # number of hidden layers for solution mapping\n",
    "hsize = 16            # width of hidden layers for solution mapping\n",
    "lr = 1e-3             # learning rate"
   ]
  },
  {
   "cell_type": "code",
   "execution_count": 21,
   "id": "fa8b147f-39c8-4eb7-bb95-93dd8e4cb1cf",
   "metadata": {},
   "outputs": [],
   "source": [
    "# set problem\n",
    "import neuromancer as nm\n",
    "from src.problem import nmNonconvex\n",
    "from src.func.layer import netFC\n",
    "from src.func import roundThresholdModel\n",
    "# build neural architecture for the solution map\n",
    "func = nm.modules.blocks.MLP(insize=num_ineq, outsize=num_var, bias=True,\n",
    "                             linear_map=nm.slim.maps[\"linear\"],\n",
    "                             nonlin=nn.ReLU, hsizes=[hsize]*hlayers_sol)\n",
    "smap = nm.system.Node(func, [\"b\"], [\"x\"], name=\"smap\")\n",
    "# define rounding model\n",
    "layers_rnd = netFC(input_dim=num_ineq+num_var, hidden_dims=[hsize]*hlayers_rnd, output_dim=num_var)\n",
    "rnd = roundThresholdModel(layers=layers_rnd, param_keys=[\"b\"], var_keys=[\"x\"],  output_keys=[\"x_rnd\"], \n",
    "                       int_ind=model.int_ind, continuous_update=True, name=\"round\")\n",
    "# build neuromancer problem for rounding\n",
    "components = nn.ModuleList([smap, rnd]).to(\"cuda\")\n",
    "loss_fn = nmNonconvex([\"b\", \"x_rnd\"], num_var, num_ineq, penalty_weight)"
   ]
  },
  {
   "cell_type": "code",
   "execution_count": 22,
   "id": "c6f5bb17-8c3c-4dcd-952d-caa1d7c4c4fa",
   "metadata": {},
   "outputs": [
    {
     "name": "stdout",
     "output_type": "stream",
     "text": [
      "Epoch 0, Validation Loss: 126.15\n",
      "Epoch 1, Validation Loss: 17.68\n",
      "Epoch 2, Validation Loss: 1.36\n",
      "Epoch 3, Validation Loss: 1.03\n",
      "Epoch 4, Validation Loss: 0.97\n",
      "Epoch 5, Validation Loss: 0.91\n",
      "Epoch 6, Validation Loss: 0.84\n",
      "Epoch 7, Validation Loss: 0.80\n",
      "Epoch 8, Validation Loss: 0.78\n",
      "Epoch 9, Validation Loss: 0.80\n",
      "Epoch 10, Validation Loss: 0.69\n",
      "Epoch 11, Validation Loss: 0.69\n",
      "Epoch 12, Validation Loss: 0.69\n",
      "Epoch 13, Validation Loss: 0.67\n",
      "Epoch 14, Validation Loss: 0.60\n",
      "Epoch 15, Validation Loss: 0.63\n",
      "Epoch 16, Validation Loss: 0.61\n",
      "Epoch 17, Validation Loss: 0.58\n",
      "Epoch 18, Validation Loss: 0.58\n",
      "Epoch 19, Validation Loss: 0.54\n",
      "Epoch 20, Validation Loss: 0.58\n",
      "Epoch 21, Validation Loss: 0.67\n",
      "Epoch 22, Validation Loss: 0.56\n",
      "Epoch 23, Validation Loss: 0.61\n",
      "Epoch 24, Validation Loss: 0.54\n",
      "Epoch 25, Validation Loss: 0.57\n",
      "Epoch 26, Validation Loss: 0.54\n",
      "Epoch 27, Validation Loss: 0.55\n",
      "Epoch 28, Validation Loss: 0.52\n",
      "Epoch 29, Validation Loss: 0.50\n",
      "Epoch 30, Validation Loss: 0.48\n",
      "Epoch 31, Validation Loss: 0.46\n",
      "Epoch 32, Validation Loss: 0.47\n",
      "Epoch 33, Validation Loss: 0.47\n",
      "Epoch 34, Validation Loss: 0.44\n",
      "Epoch 35, Validation Loss: 0.43\n",
      "Epoch 36, Validation Loss: 0.44\n",
      "Epoch 37, Validation Loss: 0.45\n",
      "Epoch 38, Validation Loss: 0.42\n",
      "Epoch 39, Validation Loss: 0.42\n",
      "Epoch 40, Validation Loss: 0.40\n",
      "Epoch 41, Validation Loss: 0.41\n",
      "Epoch 42, Validation Loss: 0.42\n",
      "Epoch 43, Validation Loss: 0.39\n",
      "Epoch 44, Validation Loss: 0.39\n",
      "Epoch 45, Validation Loss: 0.40\n",
      "Epoch 46, Validation Loss: 0.38\n",
      "Epoch 47, Validation Loss: 0.38\n",
      "Epoch 48, Validation Loss: 0.40\n",
      "Epoch 49, Validation Loss: 0.39\n",
      "Epoch 50, Validation Loss: 0.38\n",
      "Epoch 51, Validation Loss: 0.37\n",
      "Epoch 52, Validation Loss: 0.38\n",
      "Epoch 53, Validation Loss: 0.37\n",
      "Epoch 54, Validation Loss: 0.37\n",
      "Epoch 55, Validation Loss: 0.37\n",
      "Epoch 56, Validation Loss: 0.36\n",
      "Epoch 57, Validation Loss: 0.34\n",
      "Epoch 58, Validation Loss: 0.37\n",
      "Epoch 59, Validation Loss: 0.35\n",
      "Epoch 60, Validation Loss: 0.36\n",
      "Epoch 61, Validation Loss: 0.34\n",
      "Epoch 62, Validation Loss: 0.32\n",
      "Epoch 63, Validation Loss: 0.35\n",
      "Epoch 64, Validation Loss: 0.35\n",
      "Epoch 65, Validation Loss: 0.32\n",
      "Epoch 66, Validation Loss: 0.35\n",
      "Epoch 67, Validation Loss: 0.31\n",
      "Epoch 68, Validation Loss: 0.31\n",
      "Epoch 69, Validation Loss: 0.33\n",
      "Epoch 70, Validation Loss: 0.31\n",
      "Epoch 71, Validation Loss: 0.31\n",
      "Epoch 72, Validation Loss: 0.31\n",
      "Epoch 73, Validation Loss: 0.32\n",
      "Epoch 74, Validation Loss: 0.30\n",
      "Epoch 75, Validation Loss: 0.30\n",
      "Epoch 76, Validation Loss: 0.30\n",
      "Epoch 77, Validation Loss: 0.33\n",
      "Epoch 78, Validation Loss: 0.34\n",
      "Epoch 79, Validation Loss: 0.29\n",
      "Epoch 80, Validation Loss: 0.29\n",
      "Epoch 81, Validation Loss: 0.29\n",
      "Epoch 82, Validation Loss: 0.30\n",
      "Epoch 83, Validation Loss: 0.29\n",
      "Epoch 84, Validation Loss: 0.30\n",
      "Epoch 85, Validation Loss: 0.31\n",
      "Epoch 86, Validation Loss: 0.29\n",
      "Epoch 87, Validation Loss: 0.28\n",
      "Epoch 88, Validation Loss: 0.29\n",
      "Epoch 89, Validation Loss: 0.27\n",
      "Epoch 90, Validation Loss: 0.28\n",
      "Epoch 91, Validation Loss: 0.31\n",
      "Epoch 92, Validation Loss: 0.31\n",
      "Epoch 93, Validation Loss: 0.32\n",
      "Epoch 94, Validation Loss: 0.28\n",
      "Epoch 95, Validation Loss: 0.28\n",
      "Epoch 96, Validation Loss: 0.27\n",
      "Epoch 97, Validation Loss: 0.27\n",
      "Epoch 98, Validation Loss: 0.28\n",
      "Epoch 99, Validation Loss: 0.27\n",
      "Epoch 100, Validation Loss: 0.32\n",
      "Epoch 101, Validation Loss: 0.25\n",
      "Epoch 102, Validation Loss: 0.26\n",
      "Epoch 103, Validation Loss: 0.26\n",
      "Epoch 104, Validation Loss: 0.27\n",
      "Epoch 105, Validation Loss: 0.27\n",
      "Epoch 106, Validation Loss: 0.25\n",
      "Epoch 107, Validation Loss: 0.27\n",
      "Epoch 108, Validation Loss: 0.27\n",
      "Epoch 109, Validation Loss: 0.26\n",
      "Epoch 110, Validation Loss: 0.28\n",
      "Epoch 111, Validation Loss: 0.27\n",
      "Epoch 112, Validation Loss: 0.27\n",
      "Epoch 113, Validation Loss: 0.27\n",
      "Epoch 114, Validation Loss: 0.28\n",
      "Epoch 115, Validation Loss: 0.26\n",
      "Epoch 116, Validation Loss: 0.27\n",
      "Epoch 117, Validation Loss: 0.25\n",
      "Epoch 118, Validation Loss: 0.26\n",
      "Epoch 119, Validation Loss: 0.25\n",
      "Epoch 120, Validation Loss: 0.27\n",
      "Epoch 121, Validation Loss: 0.25\n",
      "Epoch 122, Validation Loss: 0.25\n",
      "Epoch 123, Validation Loss: 0.26\n",
      "Epoch 124, Validation Loss: 0.24\n",
      "Epoch 125, Validation Loss: 0.27\n",
      "Epoch 126, Validation Loss: 0.25\n",
      "Epoch 127, Validation Loss: 0.25\n",
      "Epoch 128, Validation Loss: 0.25\n",
      "Epoch 129, Validation Loss: 0.24\n",
      "Epoch 130, Validation Loss: 0.23\n",
      "Epoch 131, Validation Loss: 0.22\n",
      "Epoch 132, Validation Loss: 0.23\n",
      "Epoch 133, Validation Loss: 0.29\n",
      "Epoch 134, Validation Loss: 0.26\n",
      "Epoch 135, Validation Loss: 0.24\n",
      "Epoch 136, Validation Loss: 0.25\n",
      "Epoch 137, Validation Loss: 0.25\n",
      "Epoch 138, Validation Loss: 0.24\n",
      "Epoch 139, Validation Loss: 0.26\n",
      "Epoch 140, Validation Loss: 0.27\n",
      "Epoch 141, Validation Loss: 0.24\n",
      "Epoch 142, Validation Loss: 0.28\n",
      "Epoch 143, Validation Loss: 0.23\n",
      "Epoch 144, Validation Loss: 0.24\n",
      "Epoch 145, Validation Loss: 0.24\n",
      "Epoch 146, Validation Loss: 0.31\n",
      "Epoch 147, Validation Loss: 0.25\n",
      "Epoch 148, Validation Loss: 0.26\n",
      "Epoch 149, Validation Loss: 0.27\n",
      "Epoch 150, Validation Loss: 0.23\n",
      "Early stopping at epoch 150\n",
      "Best model loaded.\n",
      "Training complete.\n"
     ]
    }
   ],
   "source": [
    "from src.problem.neuromancer.trainer import trainer\n",
    "# training\n",
    "epochs = 200                    # number of training epochs\n",
    "warmup = 20                     # number of epochs to wait before enacting early stopping policy\n",
    "patience = 20                   # number of epochs with no improvement in eval metric to allow before early stopping\n",
    "optimizer = torch.optim.AdamW(components.parameters(), lr=lr)\n",
    "# create a trainer for the problem\n",
    "my_trainer = trainer(components, loss_fn, optimizer, epochs, patience, warmup, device=\"cuda\")\n",
    "# training for the rounding problem\n",
    "my_trainer.train(loader_train, loader_dev)"
   ]
  },
  {
   "cell_type": "code",
   "execution_count": 23,
   "id": "6584d57e-6b4c-4262-82f5-55735ef17cac",
   "metadata": {},
   "outputs": [
    {
     "name": "stderr",
     "output_type": "stream",
     "text": [
      "100%|█████████████████████████████████████████████████████████████████████████████| 1000/1000 [00:03<00:00, 264.66it/s]\n"
     ]
    },
    {
     "name": "stdout",
     "output_type": "stream",
     "text": [
      "           Obj Val  Constraints Viol  Elapsed Time\n",
      "count  1000.000000       1000.000000   1000.000000\n",
      "mean      0.215118          0.000171      0.002860\n",
      "std       0.173971          0.002777      0.001468\n",
      "min       0.091262          0.000000      0.000999\n",
      "25%       0.100285          0.000000      0.002001\n",
      "50%       0.131750          0.000000      0.002510\n",
      "75%       0.275424          0.000000      0.003034\n",
      "max       1.052636          0.075770      0.014105\n",
      "Number of infeasible solution: 6\n"
     ]
    }
   ],
   "source": [
    "params, sols, objvals, conviols, elapseds = [], [], [], [], []\n",
    "for b in tqdm(data_test.datadict[\"b\"]):\n",
    "    # data point as tensor\n",
    "    datapoints = {\"b\": torch.unsqueeze(b, 0).to(\"cuda\"), \n",
    "                  \"name\": \"test\"}\n",
    "    # infer\n",
    "    components.eval()\n",
    "    tick = time.time()\n",
    "    with torch.no_grad():\n",
    "        for comp in components:\n",
    "            datapoints.update(comp(datapoints))\n",
    "    tock = time.time()\n",
    "    # assign params\n",
    "    model.set_param_val({\"b\":b.cpu().numpy()})\n",
    "    # assign vars\n",
    "    x = datapoints[\"x_rnd\"]\n",
    "    for i in range(num_var):\n",
    "        model.vars[\"x\"][i].value = x[0,i].item()\n",
    "    # get solutions\n",
    "    xval, objval = model.get_val()    \n",
    "    params.append(list(b.cpu().numpy()))\n",
    "    sols.append(list(list(xval.values())[0].values()))\n",
    "    objvals.append(objval)\n",
    "    conviols.append(sum(model.cal_violation()))\n",
    "    elapseds.append(tock - tick)\n",
    "df = pd.DataFrame({\"Param\":params, \"Sol\":sols, \"Obj Val\": objvals, \"Constraints Viol\": conviols, \"Elapsed Time\": elapseds})\n",
    "time.sleep(1)\n",
    "print(df.describe())\n",
    "print(\"Number of infeasible solution: {}\".format(np.sum(df[\"Constraints Viol\"] > 0)))\n",
    "df.to_csv(\"result/nc_lt_5-5.csv\")"
   ]
  },
  {
   "cell_type": "code",
   "execution_count": null,
   "id": "382a0a8a-d846-4182-ab69-7d618edea9cf",
   "metadata": {},
   "outputs": [],
   "source": []
  }
 ],
 "metadata": {
  "kernelspec": {
   "display_name": "Python 3 (ipykernel)",
   "language": "python",
   "name": "python3"
  },
  "language_info": {
   "codemirror_mode": {
    "name": "ipython",
    "version": 3
   },
   "file_extension": ".py",
   "mimetype": "text/x-python",
   "name": "python",
   "nbconvert_exporter": "python",
   "pygments_lexer": "ipython3",
   "version": "3.10.13"
  }
 },
 "nbformat": 4,
 "nbformat_minor": 5
}
