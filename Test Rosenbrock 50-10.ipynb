{
 "cells": [
  {
   "cell_type": "code",
   "execution_count": 1,
   "id": "be61b914-e1af-43b9-9766-5092593f92dd",
   "metadata": {},
   "outputs": [],
   "source": [
    "import time\n",
    "\n",
    "import numpy as np\n",
    "import pandas as pd\n",
    "import torch\n",
    "from torch import nn\n",
    "from tqdm import tqdm\n",
    "\n",
    "# random seed\n",
    "np.random.seed(42)\n",
    "torch.manual_seed(42)\n",
    "torch.cuda.manual_seed(42)"
   ]
  },
  {
   "cell_type": "code",
   "execution_count": 2,
   "id": "35fe4527-9dbf-48f0-bfb3-62cda59092aa",
   "metadata": {},
   "outputs": [],
   "source": [
    "# turn off warning\n",
    "import logging\n",
    "logging.getLogger('pyomo.core').setLevel(logging.ERROR)"
   ]
  },
  {
   "cell_type": "markdown",
   "id": "c5560447-da9d-4cbe-aab4-538aa11c8ee8",
   "metadata": {},
   "source": [
    "## Problem Setting"
   ]
  },
  {
   "cell_type": "code",
   "execution_count": 3,
   "id": "52363c72-0d20-4c08-bd00-0f62aa73686c",
   "metadata": {},
   "outputs": [],
   "source": [
    "# init\n",
    "steepness = 50    # steepness factor\n",
    "num_blocks = 10   # number of expression blocks\n",
    "num_data = 5000   # number of data\n",
    "test_size = 1000  # number of test size\n",
    "val_size = 1000   # number of validation size\n",
    "train_size = num_data - test_size - val_size"
   ]
  },
  {
   "cell_type": "code",
   "execution_count": 4,
   "id": "21938c00-d73f-4255-bc7c-bce6e8034cf8",
   "metadata": {},
   "outputs": [],
   "source": [
    "# parameters as input data\n",
    "p_low, p_high = 1.0, 8.0\n",
    "a_low, a_high = 0.5, 4.5\n",
    "p_train = np.random.uniform(p_low, p_high, (train_size, 1)).astype(np.float32)\n",
    "p_test  = np.random.uniform(p_low, p_high, (test_size, 1)).astype(np.float32)\n",
    "p_dev   = np.random.uniform(p_low, p_high, (val_size, 1)).astype(np.float32)\n",
    "a_train = np.random.uniform(a_low, a_high, (train_size, num_blocks)).astype(np.float32)\n",
    "a_test  = np.random.uniform(a_low, a_high, (test_size, num_blocks)).astype(np.float32)\n",
    "a_dev   = np.random.uniform(a_low, a_high, (val_size, num_blocks)).astype(np.float32)"
   ]
  },
  {
   "cell_type": "code",
   "execution_count": 5,
   "id": "5ecf81ff-627d-444d-8d90-121c7e20c217",
   "metadata": {},
   "outputs": [],
   "source": [
    "# nm datasets\n",
    "from neuromancer.dataset import DictDataset\n",
    "data_train = DictDataset({\"p\":p_train, \"a\":a_train}, name=\"train\")\n",
    "data_test = DictDataset({\"p\":p_test, \"a\":a_test}, name=\"test\")\n",
    "data_dev = DictDataset({\"p\":p_dev, \"a\":a_dev}, name=\"dev\")\n",
    "# torch dataloaders\n",
    "from torch.utils.data import DataLoader\n",
    "loader_train = DataLoader(data_train, batch_size=32, num_workers=0, collate_fn=data_train.collate_fn, shuffle=True)\n",
    "loader_test = DataLoader(data_test, batch_size=32, num_workers=0, collate_fn=data_test.collate_fn, shuffle=False)\n",
    "loader_dev = DataLoader(data_dev, batch_size=32, num_workers=0, collate_fn=data_dev.collate_fn, shuffle=True)"
   ]
  },
  {
   "cell_type": "markdown",
   "id": "16ec0a67-54ea-4a9d-b037-0c7c9390e3f9",
   "metadata": {},
   "source": [
    "## Exact Solver"
   ]
  },
  {
   "cell_type": "code",
   "execution_count": 6,
   "id": "50aaabd7-90ed-4628-a1da-c98777868d92",
   "metadata": {},
   "outputs": [],
   "source": [
    "from src.problem import msRosenbrock\n",
    "model = msRosenbrock(steepness, num_blocks, timelimit=60)"
   ]
  },
  {
   "cell_type": "markdown",
   "id": "96304fbd-08f5-4be7-a81e-83c85332029c",
   "metadata": {},
   "source": [
    "## Heuristic - N1"
   ]
  },
  {
   "cell_type": "code",
   "execution_count": 7,
   "id": "356187af-e02d-4478-bf78-ada6a2e1b94b",
   "metadata": {},
   "outputs": [],
   "source": [
    "model_heur = model.first_solution_heuristic(nodes_limit=1)"
   ]
  },
  {
   "cell_type": "code",
   "execution_count": 8,
   "id": "f4c7fc52-cbbc-4414-bf1d-316d65c8db5b",
   "metadata": {},
   "outputs": [
    {
     "name": "stderr",
     "output_type": "stream",
     "text": [
      "100%|██████████████████████████████████████████████████████████████████████████████| 1000/1000 [02:42<00:00,  6.14it/s]\n"
     ]
    },
    {
     "name": "stdout",
     "output_type": "stream",
     "text": [
      "           Obj Val  Constraints Viol  Elapsed Time\n",
      "count  1000.000000            1000.0   1000.000000\n",
      "mean     85.916926               0.0      0.161831\n",
      "std      32.425162               0.0      0.060330\n",
      "min      16.546269               0.0      0.092269\n",
      "25%      60.859942               0.0      0.124139\n",
      "50%      79.301375               0.0      0.140816\n",
      "75%     104.622241               0.0      0.172325\n",
      "max     190.131414               0.0      0.686475\n",
      "Number of infeasible solution: 0\n"
     ]
    }
   ],
   "source": [
    "params, sols, objvals, conviols, elapseds = [], [], [], [], []\n",
    "for p, a in tqdm(list(zip(p_dev, a_dev))):\n",
    "    # set params\n",
    "    model_heur.set_param_val({\"p\":p, \"a\":a})\n",
    "    # solve\n",
    "    tick = time.time()\n",
    "    xval, objval = model_heur.solve(\"scip\")\n",
    "    tock = time.time()\n",
    "    # eval\n",
    "    params.append(list(p)+list(a))\n",
    "    sols.append(list(list(xval.values())[0].values()))\n",
    "    objvals.append(objval)\n",
    "    conviols.append(sum(model_heur.cal_violation()))\n",
    "    elapseds.append(tock - tick)\n",
    "df = pd.DataFrame({\"Param\":params, \"Sol\":sols, \"Obj Val\": objvals, \"Constraints Viol\": conviols, \"Elapsed Time\": elapseds})\n",
    "time.sleep(1)\n",
    "print(df.describe())\n",
    "print(\"Number of infeasible solution: {}\".format(np.sum(df[\"Constraints Viol\"] > 0)))\n",
    "df.to_csv(\"result/rb_heur_n1_50-10.csv\")"
   ]
  },
  {
   "cell_type": "markdown",
   "id": "9819c60c-df5f-41c6-ae83-888c75aa78d7",
   "metadata": {},
   "source": [
    "## Learnable Rounding"
   ]
  },
  {
   "cell_type": "code",
   "execution_count": 9,
   "id": "536d2d58-67ba-408a-b72a-7c5bd54a5ff4",
   "metadata": {},
   "outputs": [],
   "source": [
    "# hyperparameters\n",
    "penalty_weight = 100  # weight of constraint violation penealty\n",
    "hlayers_sol = 4       # number of hidden layers for solution mapping\n",
    "hlayers_rnd = 4       # number of hidden layers for solution mapping\n",
    "hsize = 128           # width of hidden layers for solution mapping\n",
    "lr = 1e-3             # learning rate\n",
    "batch_size = 64       # batch size"
   ]
  },
  {
   "cell_type": "code",
   "execution_count": 10,
   "id": "fee1241e-e53a-4cbb-927a-edcdb3537303",
   "metadata": {},
   "outputs": [],
   "source": [
    "# set problem\n",
    "import neuromancer as nm\n",
    "from src.problem import nmRosenbrock\n",
    "from src.func.layer import netFC\n",
    "from src.func import roundGumbelModel\n",
    "# build neural architecture for the solution map\n",
    "func = nm.modules.blocks.MLP(insize=num_blocks+1, outsize=2*num_blocks, bias=True,\n",
    "                             linear_map=nm.slim.maps[\"linear\"],\n",
    "                             nonlin=nn.ReLU, hsizes=[hsize]*hlayers_sol)\n",
    "smap = nm.system.Node(func, [\"p\", \"a\"], [\"x\"], name=\"smap\")\n",
    "# define rounding model\n",
    "layers_rnd = netFC(input_dim=3*num_blocks+1, hidden_dims=[hsize]*hlayers_rnd, output_dim=2*num_blocks)\n",
    "rnd = roundGumbelModel(layers=layers_rnd, param_keys=[\"p\", \"a\"], var_keys=[\"x\"],  output_keys=[\"x_rnd\"], \n",
    "                       int_ind=model.int_ind, continuous_update=True, name=\"round\")\n",
    "# build neuromancer problem for rounding\n",
    "components = nn.ModuleList([smap, rnd])\n",
    "loss_fn = nmRosenbrock([\"p\", \"a\", \"x_rnd\"], steepness, num_blocks)"
   ]
  },
  {
   "cell_type": "code",
   "execution_count": 11,
   "id": "e4f10263-5f69-4288-a4e8-8be83929c8d6",
   "metadata": {},
   "outputs": [
    {
     "name": "stdout",
     "output_type": "stream",
     "text": [
      "Epoch 0, Validation Loss: 1477.58\n",
      "Epoch 1, Validation Loss: 423.54\n",
      "Epoch 2, Validation Loss: 163.74\n",
      "Epoch 3, Validation Loss: 201.29\n",
      "Epoch 4, Validation Loss: 101.80\n",
      "Epoch 5, Validation Loss: 97.69\n",
      "Epoch 6, Validation Loss: 123.69\n",
      "Epoch 7, Validation Loss: 80.20\n",
      "Epoch 8, Validation Loss: 93.23\n",
      "Epoch 9, Validation Loss: 74.29\n",
      "Epoch 10, Validation Loss: 91.83\n",
      "Epoch 11, Validation Loss: 73.19\n",
      "Epoch 12, Validation Loss: 91.12\n",
      "Epoch 13, Validation Loss: 70.36\n",
      "Epoch 14, Validation Loss: 68.83\n",
      "Epoch 15, Validation Loss: 62.92\n",
      "Epoch 16, Validation Loss: 75.18\n",
      "Epoch 17, Validation Loss: 64.26\n",
      "Epoch 18, Validation Loss: 62.91\n",
      "Epoch 19, Validation Loss: 72.56\n",
      "Epoch 20, Validation Loss: 67.04\n",
      "Epoch 21, Validation Loss: 62.06\n",
      "Epoch 22, Validation Loss: 56.99\n",
      "Epoch 23, Validation Loss: 56.56\n",
      "Epoch 24, Validation Loss: 63.54\n",
      "Epoch 25, Validation Loss: 58.56\n",
      "Epoch 26, Validation Loss: 66.47\n",
      "Epoch 27, Validation Loss: 72.28\n",
      "Epoch 28, Validation Loss: 67.33\n",
      "Epoch 29, Validation Loss: 58.69\n",
      "Epoch 30, Validation Loss: 52.15\n",
      "Epoch 31, Validation Loss: 53.90\n",
      "Epoch 32, Validation Loss: 56.01\n",
      "Epoch 33, Validation Loss: 69.23\n",
      "Epoch 34, Validation Loss: 60.91\n",
      "Epoch 35, Validation Loss: 58.27\n",
      "Epoch 36, Validation Loss: 55.61\n",
      "Epoch 37, Validation Loss: 67.56\n",
      "Epoch 38, Validation Loss: 52.87\n",
      "Epoch 39, Validation Loss: 72.29\n",
      "Epoch 40, Validation Loss: 50.58\n",
      "Epoch 41, Validation Loss: 57.07\n",
      "Epoch 42, Validation Loss: 63.53\n",
      "Epoch 43, Validation Loss: 62.08\n",
      "Epoch 44, Validation Loss: 56.85\n",
      "Epoch 45, Validation Loss: 66.19\n",
      "Epoch 46, Validation Loss: 51.71\n",
      "Epoch 47, Validation Loss: 61.65\n",
      "Epoch 48, Validation Loss: 69.17\n",
      "Epoch 49, Validation Loss: 60.07\n",
      "Epoch 50, Validation Loss: 52.97\n",
      "Epoch 51, Validation Loss: 58.61\n",
      "Epoch 52, Validation Loss: 60.98\n",
      "Epoch 53, Validation Loss: 49.12\n",
      "Epoch 54, Validation Loss: 56.94\n",
      "Epoch 55, Validation Loss: 54.94\n",
      "Epoch 56, Validation Loss: 55.94\n",
      "Epoch 57, Validation Loss: 74.34\n",
      "Epoch 58, Validation Loss: 64.98\n",
      "Epoch 59, Validation Loss: 95.64\n",
      "Epoch 60, Validation Loss: 66.64\n",
      "Epoch 61, Validation Loss: 53.14\n",
      "Epoch 62, Validation Loss: 62.61\n",
      "Epoch 63, Validation Loss: 78.63\n",
      "Epoch 64, Validation Loss: 60.31\n",
      "Epoch 65, Validation Loss: 58.16\n",
      "Epoch 66, Validation Loss: 63.53\n",
      "Epoch 67, Validation Loss: 78.98\n",
      "Epoch 68, Validation Loss: 59.59\n",
      "Epoch 69, Validation Loss: 66.83\n",
      "Epoch 70, Validation Loss: 67.59\n",
      "Epoch 71, Validation Loss: 59.43\n",
      "Epoch 72, Validation Loss: 64.21\n",
      "Early stopping at epoch 72\n",
      "Best model loaded.\n",
      "Training complete.\n"
     ]
    }
   ],
   "source": [
    "from src.problem.neuromancer.trainer import trainer\n",
    "# training\n",
    "epochs = 200                    # number of training epochs\n",
    "warmup = 20                     # number of epochs to wait before enacting early stopping policy\n",
    "patience = 20                   # number of epochs with no improvement in eval metric to allow before early stopping\n",
    "optimizer = torch.optim.AdamW(components.parameters(), lr=lr)\n",
    "# create a trainer for the problem\n",
    "my_trainer = trainer(components, loss_fn, optimizer, epochs, patience, warmup)\n",
    "# training for the rounding problem\n",
    "my_trainer.train(loader_train, loader_dev)"
   ]
  },
  {
   "cell_type": "code",
   "execution_count": 12,
   "id": "3e835084-eb75-45d9-bcbd-5fb4c613fb41",
   "metadata": {},
   "outputs": [
    {
     "name": "stderr",
     "output_type": "stream",
     "text": [
      "100%|█████████████████████████████████████████████████████████████████████████████| 1000/1000 [00:01<00:00, 510.79it/s]\n"
     ]
    },
    {
     "name": "stdout",
     "output_type": "stream",
     "text": [
      "           Obj Val  Constraints Viol  Elapsed Time\n",
      "count  1000.000000       1000.000000   1000.000000\n",
      "mean     49.129072          0.006474      0.000978\n",
      "std      33.485141          0.053596      0.000547\n",
      "min       5.838198          0.000000      0.000000\n",
      "25%      24.669100          0.000000      0.000998\n",
      "50%      36.332399          0.000000      0.001000\n",
      "75%      68.636498          0.000000      0.001011\n",
      "max     195.198677          0.779251      0.003025\n",
      "Number of infeasible solution: 20\n"
     ]
    }
   ],
   "source": [
    "params, sols, objvals, conviols, elapseds = [], [], [], [], []\n",
    "for p, a in tqdm(list(zip(p_dev, a_dev))):\n",
    "    # data point as tensor\n",
    "    datapoints = {\"p\": torch.tensor(np.array([p]), dtype=torch.float32), \n",
    "                  \"a\": torch.tensor(np.array([a]), dtype=torch.float32),\n",
    "                  \"name\": \"test\"}\n",
    "    # infer\n",
    "    components.eval()\n",
    "    tick = time.time()\n",
    "    with torch.no_grad():\n",
    "        for comp in components:\n",
    "            datapoints.update(comp(datapoints))\n",
    "    tock = time.time()\n",
    "    # assign params\n",
    "    model.set_param_val({\"p\":p, \"a\":a})\n",
    "    # assign vars\n",
    "    x = datapoints[\"x_rnd\"]\n",
    "    for i in range(2*num_blocks):\n",
    "        model.vars[\"x\"][i].value = x[0,i].item()\n",
    "    # get solutions\n",
    "    xval, objval = model.get_val()    \n",
    "    params.append(list(p))\n",
    "    sols.append(list(list(xval.values())[0].values()))\n",
    "    objvals.append(objval)\n",
    "    conviols.append(sum(model.cal_violation()))\n",
    "    elapseds.append(tock - tick)\n",
    "df = pd.DataFrame({\"Param\":params, \"Sol\":sols, \"Obj Val\": objvals, \"Constraints Viol\": conviols, \"Elapsed Time\": elapseds})\n",
    "time.sleep(1)\n",
    "print(df.describe())\n",
    "print(\"Number of infeasible solution: {}\".format(np.sum(df[\"Constraints Viol\"] > 0)))\n",
    "df.to_csv(\"result/rb_lr_50-10.csv\")"
   ]
  },
  {
   "cell_type": "markdown",
   "id": "2dbf8a72-29b9-49c4-b3c1-0d68895c1c1f",
   "metadata": {},
   "source": [
    "## Learnable Threshold"
   ]
  },
  {
   "cell_type": "code",
   "execution_count": 13,
   "id": "d46b9817-87ac-4af0-b387-b10c9a4998f4",
   "metadata": {},
   "outputs": [],
   "source": [
    "# hyperparameters\n",
    "penalty_weight = 100  # weight of constraint violation penealty\n",
    "hlayers_sol = 4       # number of hidden layers for solution mapping\n",
    "hlayers_rnd = 4       # number of hidden layers for solution mapping\n",
    "hsize = 128           # width of hidden layers for solution mapping\n",
    "lr = 1e-3             # learning rate\n",
    "batch_size = 64       # batch size"
   ]
  },
  {
   "cell_type": "code",
   "execution_count": 14,
   "id": "fa8b147f-39c8-4eb7-bb95-93dd8e4cb1cf",
   "metadata": {},
   "outputs": [],
   "source": [
    "# set problem\n",
    "import neuromancer as nm\n",
    "from src.problem import nmRosenbrock\n",
    "from src.func.layer import netFC\n",
    "from src.func import roundThresholdModel\n",
    "# build neural architecture for the solution map\n",
    "func = nm.modules.blocks.MLP(insize=num_blocks+1, outsize=2*num_blocks, bias=True,\n",
    "                             linear_map=nm.slim.maps[\"linear\"],\n",
    "                             nonlin=nn.ReLU, hsizes=[hsize]*hlayers_sol)\n",
    "smap = nm.system.Node(func, [\"p\", \"a\"], [\"x\"], name=\"smap\")\n",
    "# define rounding model\n",
    "layers_rnd = netFC(input_dim=3*num_blocks+1, hidden_dims=[hsize]*hlayers_rnd, output_dim=2*num_blocks)\n",
    "rnd = roundThresholdModel(layers=layers_rnd, param_keys=[\"p\", \"a\"], var_keys=[\"x\"],  output_keys=[\"x_rnd\"], \n",
    "                          int_ind=model.int_ind, continuous_update=True, name=\"round\")\n",
    "# build neuromancer problem for rounding\n",
    "components = nn.ModuleList([smap, rnd])\n",
    "loss_fn = nmRosenbrock([\"p\", \"a\", \"x_rnd\"], steepness, num_blocks)"
   ]
  },
  {
   "cell_type": "code",
   "execution_count": 15,
   "id": "c6f5bb17-8c3c-4dcd-952d-caa1d7c4c4fa",
   "metadata": {},
   "outputs": [
    {
     "name": "stdout",
     "output_type": "stream",
     "text": [
      "Epoch 0, Validation Loss: 1181.47\n",
      "Epoch 1, Validation Loss: 299.29\n",
      "Epoch 2, Validation Loss: 115.10\n",
      "Epoch 3, Validation Loss: 89.94\n",
      "Epoch 4, Validation Loss: 84.29\n",
      "Epoch 5, Validation Loss: 88.62\n",
      "Epoch 6, Validation Loss: 93.83\n",
      "Epoch 7, Validation Loss: 70.88\n",
      "Epoch 8, Validation Loss: 105.97\n",
      "Epoch 9, Validation Loss: 79.58\n",
      "Epoch 10, Validation Loss: 74.93\n",
      "Epoch 11, Validation Loss: 65.94\n",
      "Epoch 12, Validation Loss: 67.08\n",
      "Epoch 13, Validation Loss: 65.75\n",
      "Epoch 14, Validation Loss: 67.71\n",
      "Epoch 15, Validation Loss: 70.37\n",
      "Epoch 16, Validation Loss: 79.35\n",
      "Epoch 17, Validation Loss: 69.52\n",
      "Epoch 18, Validation Loss: 67.20\n",
      "Epoch 19, Validation Loss: 70.34\n",
      "Epoch 20, Validation Loss: 65.64\n",
      "Epoch 21, Validation Loss: 68.67\n",
      "Epoch 22, Validation Loss: 66.15\n",
      "Epoch 23, Validation Loss: 70.06\n",
      "Epoch 24, Validation Loss: 65.69\n",
      "Epoch 25, Validation Loss: 68.19\n",
      "Epoch 26, Validation Loss: 68.53\n",
      "Epoch 27, Validation Loss: 84.78\n",
      "Epoch 28, Validation Loss: 60.56\n",
      "Epoch 29, Validation Loss: 68.81\n",
      "Epoch 30, Validation Loss: 66.42\n",
      "Epoch 31, Validation Loss: 62.13\n",
      "Epoch 32, Validation Loss: 86.23\n",
      "Epoch 33, Validation Loss: 60.75\n",
      "Epoch 34, Validation Loss: 63.59\n",
      "Epoch 35, Validation Loss: 63.33\n",
      "Epoch 36, Validation Loss: 68.81\n",
      "Epoch 37, Validation Loss: 68.34\n",
      "Epoch 38, Validation Loss: 68.53\n",
      "Epoch 39, Validation Loss: 71.18\n",
      "Epoch 40, Validation Loss: 64.97\n",
      "Epoch 41, Validation Loss: 70.18\n",
      "Epoch 42, Validation Loss: 68.57\n",
      "Epoch 43, Validation Loss: 62.10\n",
      "Epoch 44, Validation Loss: 72.28\n",
      "Epoch 45, Validation Loss: 67.38\n",
      "Epoch 46, Validation Loss: 67.02\n",
      "Epoch 47, Validation Loss: 61.20\n",
      "Early stopping at epoch 47\n",
      "Best model loaded.\n",
      "Training complete.\n"
     ]
    }
   ],
   "source": [
    "from src.problem.neuromancer.trainer import trainer\n",
    "# training\n",
    "epochs = 200                    # number of training epochs\n",
    "warmup = 20                     # number of epochs to wait before enacting early stopping policy\n",
    "patience = 20                   # number of epochs with no improvement in eval metric to allow before early stopping\n",
    "optimizer = torch.optim.AdamW(components.parameters(), lr=lr)\n",
    "# create a trainer for the problem\n",
    "my_trainer = trainer(components, loss_fn, optimizer, epochs, patience, warmup)\n",
    "# training for the rounding problem\n",
    "my_trainer.train(loader_train, loader_dev)"
   ]
  },
  {
   "cell_type": "code",
   "execution_count": 16,
   "id": "6584d57e-6b4c-4262-82f5-55735ef17cac",
   "metadata": {},
   "outputs": [
    {
     "name": "stderr",
     "output_type": "stream",
     "text": [
      "100%|█████████████████████████████████████████████████████████████████████████████| 1000/1000 [00:01<00:00, 577.68it/s]\n"
     ]
    },
    {
     "name": "stdout",
     "output_type": "stream",
     "text": [
      "           Obj Val  Constraints Viol  Elapsed Time\n",
      "count  1000.000000       1000.000000   1000.000000\n",
      "mean     60.816328          0.000086      0.000854\n",
      "std      32.344015          0.002733      0.000506\n",
      "min      10.258056          0.000000      0.000000\n",
      "25%      33.469664          0.000000      0.000977\n",
      "50%      52.941373          0.000000      0.001000\n",
      "75%      82.242033          0.000000      0.001005\n",
      "max     162.907531          0.086434      0.002517\n",
      "Number of infeasible solution: 1\n"
     ]
    }
   ],
   "source": [
    "params, sols, objvals, conviols, elapseds = [], [], [], [], []\n",
    "for p, a in tqdm(list(zip(p_dev, a_dev))):\n",
    "    # data point as tensor\n",
    "    datapoints = {\"p\": torch.tensor(np.array([p]), dtype=torch.float32), \n",
    "                  \"a\": torch.tensor(np.array([a]), dtype=torch.float32),\n",
    "                  \"name\": \"test\"}\n",
    "    # infer\n",
    "    components.eval()\n",
    "    tick = time.time()\n",
    "    with torch.no_grad():\n",
    "        for comp in components:\n",
    "            datapoints.update(comp(datapoints))\n",
    "    tock = time.time()\n",
    "    # assign params\n",
    "    model.set_param_val({\"p\":p, \"a\":a})\n",
    "    # assign vars\n",
    "    x = datapoints[\"x_rnd\"]\n",
    "    for i in range(2*num_blocks):\n",
    "        model.vars[\"x\"][i].value = x[0,i].item()\n",
    "    # get solutions\n",
    "    xval, objval = model.get_val()    \n",
    "    params.append(list(p))\n",
    "    sols.append(list(list(xval.values())[0].values()))\n",
    "    objvals.append(objval)\n",
    "    conviols.append(sum(model.cal_violation()))\n",
    "    elapseds.append(tock - tick)\n",
    "df = pd.DataFrame({\"Param\":params, \"Sol\":sols, \"Obj Val\": objvals, \"Constraints Viol\": conviols, \"Elapsed Time\": elapseds})\n",
    "time.sleep(1)\n",
    "print(df.describe())\n",
    "print(\"Number of infeasible solution: {}\".format(np.sum(df[\"Constraints Viol\"] > 0)))\n",
    "df.to_csv(\"result/rb_lt_50-10.csv\")"
   ]
  },
  {
   "cell_type": "code",
   "execution_count": null,
   "id": "c89bcb04-0e0f-4bad-9a4a-bd6bed7660dd",
   "metadata": {},
   "outputs": [],
   "source": []
  }
 ],
 "metadata": {
  "kernelspec": {
   "display_name": "Python 3 (ipykernel)",
   "language": "python",
   "name": "python3"
  },
  "language_info": {
   "codemirror_mode": {
    "name": "ipython",
    "version": 3
   },
   "file_extension": ".py",
   "mimetype": "text/x-python",
   "name": "python",
   "nbconvert_exporter": "python",
   "pygments_lexer": "ipython3",
   "version": "3.10.13"
  }
 },
 "nbformat": 4,
 "nbformat_minor": 5
}
