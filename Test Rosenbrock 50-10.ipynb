{
 "cells": [
  {
   "cell_type": "code",
   "execution_count": 1,
   "id": "be61b914-e1af-43b9-9766-5092593f92dd",
   "metadata": {},
   "outputs": [],
   "source": [
    "import time\n",
    "\n",
    "import numpy as np\n",
    "import pandas as pd\n",
    "import torch\n",
    "from torch import nn\n",
    "from tqdm import tqdm\n",
    "\n",
    "# random seed\n",
    "np.random.seed(42)\n",
    "torch.manual_seed(42)\n",
    "torch.cuda.manual_seed(42)"
   ]
  },
  {
   "cell_type": "code",
   "execution_count": 2,
   "id": "35fe4527-9dbf-48f0-bfb3-62cda59092aa",
   "metadata": {},
   "outputs": [],
   "source": [
    "# turn off warning\n",
    "import logging\n",
    "logging.getLogger('pyomo.core').setLevel(logging.ERROR)"
   ]
  },
  {
   "cell_type": "markdown",
   "id": "c5560447-da9d-4cbe-aab4-538aa11c8ee8",
   "metadata": {},
   "source": [
    "## Problem Setting"
   ]
  },
  {
   "cell_type": "code",
   "execution_count": 3,
   "id": "52363c72-0d20-4c08-bd00-0f62aa73686c",
   "metadata": {},
   "outputs": [],
   "source": [
    "# init\n",
    "steepness = 50    # steepness factor\n",
    "num_blocks = 10   # number of expression blocks\n",
    "num_data = 5000   # number of data\n",
    "test_size = 1000  # number of test size\n",
    "val_size = 1000   # number of validation size\n",
    "train_size = num_data - test_size - val_size"
   ]
  },
  {
   "cell_type": "code",
   "execution_count": 4,
   "id": "21938c00-d73f-4255-bc7c-bce6e8034cf8",
   "metadata": {},
   "outputs": [],
   "source": [
    "# parameters as input data\n",
    "p_low, p_high = 1.0, 8.0\n",
    "a_low, a_high = 0.5, 4.5\n",
    "p_train = np.random.uniform(p_low, p_high, (train_size, 1)).astype(np.float32)\n",
    "p_test  = np.random.uniform(p_low, p_high, (test_size, 1)).astype(np.float32)\n",
    "p_dev   = np.random.uniform(p_low, p_high, (val_size, 1)).astype(np.float32)\n",
    "a_train = np.random.uniform(a_low, a_high, (train_size, num_blocks)).astype(np.float32)\n",
    "a_test  = np.random.uniform(a_low, a_high, (test_size, num_blocks)).astype(np.float32)\n",
    "a_dev   = np.random.uniform(a_low, a_high, (val_size, num_blocks)).astype(np.float32)"
   ]
  },
  {
   "cell_type": "code",
   "execution_count": 5,
   "id": "5ecf81ff-627d-444d-8d90-121c7e20c217",
   "metadata": {},
   "outputs": [],
   "source": [
    "# nm datasets\n",
    "from neuromancer.dataset import DictDataset\n",
    "data_train = DictDataset({\"p\":p_train, \"a\":a_train}, name=\"train\")\n",
    "data_test = DictDataset({\"p\":p_test, \"a\":a_test}, name=\"test\")\n",
    "data_dev = DictDataset({\"p\":p_dev, \"a\":a_dev}, name=\"dev\")\n",
    "# torch dataloaders\n",
    "from torch.utils.data import DataLoader\n",
    "batch_size = 32\n",
    "loader_train = DataLoader(data_train, batch_size, num_workers=0, collate_fn=data_train.collate_fn, shuffle=True)\n",
    "loader_test = DataLoader(data_test, batch_size, num_workers=0, collate_fn=data_test.collate_fn, shuffle=False)\n",
    "loader_dev = DataLoader(data_dev, batch_size, num_workers=0, collate_fn=data_dev.collate_fn, shuffle=False)"
   ]
  },
  {
   "cell_type": "markdown",
   "id": "16ec0a67-54ea-4a9d-b037-0c7c9390e3f9",
   "metadata": {},
   "source": [
    "## Exact Solver"
   ]
  },
  {
   "cell_type": "code",
   "execution_count": 6,
   "id": "50aaabd7-90ed-4628-a1da-c98777868d92",
   "metadata": {},
   "outputs": [],
   "source": [
    "from src.problem import msRosenbrock\n",
    "model = msRosenbrock(steepness, num_blocks, timelimit=60)"
   ]
  },
  {
   "cell_type": "markdown",
   "id": "96304fbd-08f5-4be7-a81e-83c85332029c",
   "metadata": {},
   "source": [
    "## Heuristic - N1"
   ]
  },
  {
   "cell_type": "code",
   "execution_count": 7,
   "id": "356187af-e02d-4478-bf78-ada6a2e1b94b",
   "metadata": {},
   "outputs": [],
   "source": [
    "model_heur = model.first_solution_heuristic(nodes_limit=1)"
   ]
  },
  {
   "cell_type": "code",
   "execution_count": 8,
   "id": "f4c7fc52-cbbc-4414-bf1d-316d65c8db5b",
   "metadata": {},
   "outputs": [
    {
     "name": "stderr",
     "output_type": "stream",
     "text": [
      "100%|██████████████████████████████████████████████████████████████████████████████| 1000/1000 [03:13<00:00,  5.18it/s]\n"
     ]
    },
    {
     "name": "stdout",
     "output_type": "stream",
     "text": [
      "           Obj Val  Constraints Viol  Elapsed Time\n",
      "count  1000.000000            1000.0   1000.000000\n",
      "mean     85.916926               0.0      0.192038\n",
      "std      32.425162               0.0      0.132293\n",
      "min      16.546269               0.0      0.106474\n",
      "25%      60.859942               0.0      0.138505\n",
      "50%      79.301375               0.0      0.156199\n",
      "75%     104.622241               0.0      0.201613\n",
      "max     190.131414               0.0      2.859052\n",
      "Number of infeasible solution: 0\n"
     ]
    }
   ],
   "source": [
    "params, sols, objvals, conviols, elapseds = [], [], [], [], []\n",
    "for p, a in tqdm(list(zip(p_dev, a_dev))):\n",
    "    # set params\n",
    "    model_heur.set_param_val({\"p\":p, \"a\":a})\n",
    "    # solve\n",
    "    tick = time.time()\n",
    "    xval, objval = model_heur.solve(\"scip\")\n",
    "    tock = time.time()\n",
    "    # eval\n",
    "    params.append(list(p)+list(a))\n",
    "    sols.append(list(list(xval.values())[0].values()))\n",
    "    objvals.append(objval)\n",
    "    conviols.append(sum(model_heur.cal_violation()))\n",
    "    elapseds.append(tock - tick)\n",
    "df = pd.DataFrame({\"Param\":params, \"Sol\":sols, \"Obj Val\": objvals, \"Constraints Viol\": conviols, \"Elapsed Time\": elapseds})\n",
    "time.sleep(1)\n",
    "print(df.describe())\n",
    "print(\"Number of infeasible solution: {}\".format(np.sum(df[\"Constraints Viol\"] > 0)))\n",
    "df.to_csv(\"result/rb_heur_n1_50-10.csv\")"
   ]
  },
  {
   "cell_type": "markdown",
   "id": "9819c60c-df5f-41c6-ae83-888c75aa78d7",
   "metadata": {},
   "source": [
    "## Learnable Rounding"
   ]
  },
  {
   "cell_type": "code",
   "execution_count": 7,
   "id": "6a4fb3e2-9c47-4c10-8116-e94be18ea59c",
   "metadata": {},
   "outputs": [],
   "source": [
    "# random seed\n",
    "np.random.seed(42)\n",
    "torch.manual_seed(42)\n",
    "torch.cuda.manual_seed(42)"
   ]
  },
  {
   "cell_type": "code",
   "execution_count": 8,
   "id": "536d2d58-67ba-408a-b72a-7c5bd54a5ff4",
   "metadata": {},
   "outputs": [],
   "source": [
    "# hyperparameters\n",
    "penalty_weight = 100  # weight of constraint violation penealty\n",
    "hlayers_sol = 4       # number of hidden layers for solution mapping\n",
    "hlayers_rnd = 4       # number of hidden layers for solution mapping\n",
    "hsize = 128           # width of hidden layers for solution mapping\n",
    "lr = 1e-3             # learning rate"
   ]
  },
  {
   "cell_type": "code",
   "execution_count": 9,
   "id": "fee1241e-e53a-4cbb-927a-edcdb3537303",
   "metadata": {},
   "outputs": [],
   "source": [
    "# set problem\n",
    "import neuromancer as nm\n",
    "from src.problem import nmRosenbrock\n",
    "from src.func.layer import netFC\n",
    "from src.func import roundGumbelModel\n",
    "# build neural architecture for the solution map\n",
    "func = nm.modules.blocks.MLP(insize=num_blocks+1, outsize=2*num_blocks, bias=True,\n",
    "                             linear_map=nm.slim.maps[\"linear\"],\n",
    "                             nonlin=nn.ReLU, hsizes=[hsize]*hlayers_sol)\n",
    "smap = nm.system.Node(func, [\"p\", \"a\"], [\"x\"], name=\"smap\")\n",
    "# define rounding model\n",
    "layers_rnd = netFC(input_dim=3*num_blocks+1, hidden_dims=[hsize]*hlayers_rnd, output_dim=2*num_blocks)\n",
    "rnd = roundGumbelModel(layers=layers_rnd, param_keys=[\"p\", \"a\"], var_keys=[\"x\"],  output_keys=[\"x_rnd\"], \n",
    "                       int_ind=model.int_ind, continuous_update=True, name=\"round\")\n",
    "# build neuromancer problem for rounding\n",
    "components = nn.ModuleList([smap, rnd]).to(\"cuda\")\n",
    "loss_fn = nmRosenbrock([\"p\", \"a\", \"x_rnd\"], steepness, num_blocks)"
   ]
  },
  {
   "cell_type": "code",
   "execution_count": 10,
   "id": "e4f10263-5f69-4288-a4e8-8be83929c8d6",
   "metadata": {},
   "outputs": [
    {
     "name": "stdout",
     "output_type": "stream",
     "text": [
      "Epoch 0, Validation Loss: 1476.02\n",
      "Epoch 1, Validation Loss: 447.90\n",
      "Epoch 2, Validation Loss: 232.15\n",
      "Epoch 3, Validation Loss: 158.07\n",
      "Epoch 4, Validation Loss: 122.24\n",
      "Epoch 5, Validation Loss: 102.63\n",
      "Epoch 6, Validation Loss: 84.71\n",
      "Epoch 7, Validation Loss: 85.92\n",
      "Epoch 8, Validation Loss: 83.06\n",
      "Epoch 9, Validation Loss: 78.74\n",
      "Epoch 10, Validation Loss: 79.32\n",
      "Epoch 11, Validation Loss: 69.89\n",
      "Epoch 12, Validation Loss: 64.02\n",
      "Epoch 13, Validation Loss: 61.32\n",
      "Epoch 14, Validation Loss: 58.90\n",
      "Epoch 15, Validation Loss: 53.83\n",
      "Epoch 16, Validation Loss: 57.97\n",
      "Epoch 17, Validation Loss: 57.09\n",
      "Epoch 18, Validation Loss: 56.57\n",
      "Epoch 19, Validation Loss: 57.31\n",
      "Epoch 20, Validation Loss: 60.09\n",
      "Epoch 21, Validation Loss: 59.06\n",
      "Epoch 22, Validation Loss: 57.28\n",
      "Epoch 23, Validation Loss: 55.00\n",
      "Epoch 24, Validation Loss: 61.50\n",
      "Epoch 25, Validation Loss: 62.82\n",
      "Epoch 26, Validation Loss: 66.60\n",
      "Epoch 27, Validation Loss: 55.70\n",
      "Epoch 28, Validation Loss: 51.29\n",
      "Epoch 29, Validation Loss: 57.21\n",
      "Epoch 30, Validation Loss: 54.15\n",
      "Epoch 31, Validation Loss: 62.52\n",
      "Epoch 32, Validation Loss: 75.54\n",
      "Epoch 33, Validation Loss: 52.57\n",
      "Epoch 34, Validation Loss: 53.75\n",
      "Epoch 35, Validation Loss: 62.98\n",
      "Epoch 36, Validation Loss: 67.66\n",
      "Epoch 37, Validation Loss: 52.50\n",
      "Epoch 38, Validation Loss: 56.37\n",
      "Epoch 39, Validation Loss: 50.65\n",
      "Epoch 40, Validation Loss: 64.91\n",
      "Epoch 41, Validation Loss: 86.37\n",
      "Epoch 42, Validation Loss: 57.41\n",
      "Epoch 43, Validation Loss: 55.71\n",
      "Epoch 44, Validation Loss: 69.65\n",
      "Epoch 45, Validation Loss: 60.12\n",
      "Epoch 46, Validation Loss: 59.01\n",
      "Epoch 47, Validation Loss: 61.40\n",
      "Epoch 48, Validation Loss: 61.31\n",
      "Epoch 49, Validation Loss: 51.69\n",
      "Epoch 50, Validation Loss: 58.02\n",
      "Epoch 51, Validation Loss: 56.01\n",
      "Epoch 52, Validation Loss: 62.39\n",
      "Epoch 53, Validation Loss: 57.74\n",
      "Epoch 54, Validation Loss: 59.30\n",
      "Epoch 55, Validation Loss: 57.01\n",
      "Epoch 56, Validation Loss: 64.65\n",
      "Epoch 57, Validation Loss: 59.87\n",
      "Epoch 58, Validation Loss: 73.05\n",
      "Early stopping at epoch 58\n",
      "Best model loaded.\n",
      "Training complete.\n"
     ]
    }
   ],
   "source": [
    "from src.problem.neuromancer.trainer import trainer\n",
    "# training\n",
    "epochs = 200                    # number of training epochs\n",
    "warmup = 20                     # number of epochs to wait before enacting early stopping policy\n",
    "patience = 20                   # number of epochs with no improvement in eval metric to allow before early stopping\n",
    "optimizer = torch.optim.AdamW(components.parameters(), lr=lr)\n",
    "# create a trainer for the problem\n",
    "my_trainer = trainer(components, loss_fn, optimizer, epochs, patience, warmup, device=\"cuda\")\n",
    "# training for the rounding problem\n",
    "my_trainer.train(loader_train, loader_dev)"
   ]
  },
  {
   "cell_type": "code",
   "execution_count": 11,
   "id": "3e835084-eb75-45d9-bcbd-5fb4c613fb41",
   "metadata": {},
   "outputs": [
    {
     "name": "stderr",
     "output_type": "stream",
     "text": [
      "100%|█████████████████████████████████████████████████████████████████████████████| 1000/1000 [00:06<00:00, 163.55it/s]\n"
     ]
    },
    {
     "name": "stdout",
     "output_type": "stream",
     "text": [
      "           Obj Val  Constraints Viol  Elapsed Time\n",
      "count  1000.000000       1000.000000   1000.000000\n",
      "mean     50.769843          0.000664      0.003276\n",
      "std      23.805431          0.013374      0.000882\n",
      "min      16.175062          0.000000      0.001505\n",
      "25%      33.960098          0.000000      0.002583\n",
      "50%      44.983535          0.000000      0.003099\n",
      "75%      62.077217          0.000000      0.003826\n",
      "max     144.758310          0.360057      0.008720\n",
      "Number of infeasible solution: 4\n"
     ]
    }
   ],
   "source": [
    "params, sols, objvals, conviols, elapseds = [], [], [], [], []\n",
    "for p, a in tqdm(list(zip(p_dev, a_dev))):\n",
    "    # data point as tensor\n",
    "    datapoints = {\"p\": torch.tensor(np.array([p]), dtype=torch.float32).to(\"cuda\"), \n",
    "                  \"a\": torch.tensor(np.array([a]), dtype=torch.float32).to(\"cuda\"),\n",
    "                  \"name\": \"test\"}\n",
    "    # infer\n",
    "    components.eval()\n",
    "    tick = time.time()\n",
    "    with torch.no_grad():\n",
    "        for comp in components:\n",
    "            datapoints.update(comp(datapoints))\n",
    "    tock = time.time()\n",
    "    # assign params\n",
    "    model.set_param_val({\"p\":p, \"a\":a})\n",
    "    # assign vars\n",
    "    x = datapoints[\"x_rnd\"]\n",
    "    for i in range(2*num_blocks):\n",
    "        model.vars[\"x\"][i].value = x[0,i].item()\n",
    "    # get solutions\n",
    "    xval, objval = model.get_val()    \n",
    "    params.append(list(p))\n",
    "    sols.append(list(list(xval.values())[0].values()))\n",
    "    objvals.append(objval)\n",
    "    conviols.append(sum(model.cal_violation()))\n",
    "    elapseds.append(tock - tick)\n",
    "df = pd.DataFrame({\"Param\":params, \"Sol\":sols, \"Obj Val\": objvals, \"Constraints Viol\": conviols, \"Elapsed Time\": elapseds})\n",
    "time.sleep(1)\n",
    "print(df.describe())\n",
    "print(\"Number of infeasible solution: {}\".format(np.sum(df[\"Constraints Viol\"] > 0)))\n",
    "df.to_csv(\"result/rb_lr_50-10.csv\")"
   ]
  },
  {
   "cell_type": "markdown",
   "id": "2dbf8a72-29b9-49c4-b3c1-0d68895c1c1f",
   "metadata": {},
   "source": [
    "## Learnable Threshold"
   ]
  },
  {
   "cell_type": "code",
   "execution_count": 12,
   "id": "36c57dbb-8dee-4976-8922-82a155fe0128",
   "metadata": {},
   "outputs": [],
   "source": [
    "# random seed\n",
    "np.random.seed(42)\n",
    "torch.manual_seed(42)\n",
    "torch.cuda.manual_seed(42)"
   ]
  },
  {
   "cell_type": "code",
   "execution_count": 13,
   "id": "d46b9817-87ac-4af0-b387-b10c9a4998f4",
   "metadata": {},
   "outputs": [],
   "source": [
    "# hyperparameters\n",
    "penalty_weight = 100  # weight of constraint violation penealty\n",
    "hlayers_sol = 4       # number of hidden layers for solution mapping\n",
    "hlayers_rnd = 4       # number of hidden layers for solution mapping\n",
    "hsize = 128           # width of hidden layers for solution mapping\n",
    "lr = 1e-3             # learning rate"
   ]
  },
  {
   "cell_type": "code",
   "execution_count": 14,
   "id": "fa8b147f-39c8-4eb7-bb95-93dd8e4cb1cf",
   "metadata": {},
   "outputs": [],
   "source": [
    "# set problem\n",
    "import neuromancer as nm\n",
    "from src.problem import nmRosenbrock\n",
    "from src.func.layer import netFC\n",
    "from src.func import roundThresholdModel\n",
    "# build neural architecture for the solution map\n",
    "func = nm.modules.blocks.MLP(insize=num_blocks+1, outsize=2*num_blocks, bias=True,\n",
    "                             linear_map=nm.slim.maps[\"linear\"],\n",
    "                             nonlin=nn.ReLU, hsizes=[hsize]*hlayers_sol)\n",
    "smap = nm.system.Node(func, [\"p\", \"a\"], [\"x\"], name=\"smap\")\n",
    "# define rounding model\n",
    "layers_rnd = netFC(input_dim=3*num_blocks+1, hidden_dims=[hsize]*hlayers_rnd, output_dim=2*num_blocks)\n",
    "rnd = roundThresholdModel(layers=layers_rnd, param_keys=[\"p\", \"a\"], var_keys=[\"x\"],  output_keys=[\"x_rnd\"], \n",
    "                          int_ind=model.int_ind, continuous_update=True, name=\"round\")\n",
    "# build neuromancer problem for rounding\n",
    "components = nn.ModuleList([smap, rnd]).to(\"cuda\")\n",
    "loss_fn = nmRosenbrock([\"p\", \"a\", \"x_rnd\"], steepness, num_blocks)"
   ]
  },
  {
   "cell_type": "code",
   "execution_count": 15,
   "id": "c6f5bb17-8c3c-4dcd-952d-caa1d7c4c4fa",
   "metadata": {},
   "outputs": [
    {
     "name": "stdout",
     "output_type": "stream",
     "text": [
      "Epoch 0, Validation Loss: 1187.90\n",
      "Epoch 1, Validation Loss: 405.60\n",
      "Epoch 2, Validation Loss: 112.12\n",
      "Epoch 3, Validation Loss: 100.49\n",
      "Epoch 4, Validation Loss: 77.23\n",
      "Epoch 5, Validation Loss: 95.82\n",
      "Epoch 6, Validation Loss: 79.39\n",
      "Epoch 7, Validation Loss: 82.70\n",
      "Epoch 8, Validation Loss: 71.22\n",
      "Epoch 9, Validation Loss: 74.49\n",
      "Epoch 10, Validation Loss: 72.54\n",
      "Epoch 11, Validation Loss: 83.04\n",
      "Epoch 12, Validation Loss: 74.20\n",
      "Epoch 13, Validation Loss: 75.75\n",
      "Epoch 14, Validation Loss: 72.42\n",
      "Epoch 15, Validation Loss: 66.66\n",
      "Epoch 16, Validation Loss: 70.40\n",
      "Epoch 17, Validation Loss: 66.79\n",
      "Epoch 18, Validation Loss: 69.06\n",
      "Epoch 19, Validation Loss: 68.58\n",
      "Epoch 20, Validation Loss: 68.68\n",
      "Epoch 21, Validation Loss: 65.69\n",
      "Epoch 22, Validation Loss: 69.57\n",
      "Epoch 23, Validation Loss: 67.66\n",
      "Epoch 24, Validation Loss: 67.15\n",
      "Epoch 25, Validation Loss: 71.50\n",
      "Epoch 26, Validation Loss: 70.82\n",
      "Epoch 27, Validation Loss: 74.32\n",
      "Epoch 28, Validation Loss: 64.25\n",
      "Epoch 29, Validation Loss: 66.30\n",
      "Epoch 30, Validation Loss: 70.57\n",
      "Epoch 31, Validation Loss: 68.86\n",
      "Epoch 32, Validation Loss: 66.03\n",
      "Epoch 33, Validation Loss: 70.43\n",
      "Epoch 34, Validation Loss: 65.62\n",
      "Epoch 35, Validation Loss: 70.20\n",
      "Epoch 36, Validation Loss: 64.85\n",
      "Epoch 37, Validation Loss: 65.73\n",
      "Epoch 38, Validation Loss: 67.57\n",
      "Epoch 39, Validation Loss: 62.05\n",
      "Epoch 40, Validation Loss: 67.98\n",
      "Epoch 41, Validation Loss: 61.78\n",
      "Epoch 42, Validation Loss: 66.45\n",
      "Epoch 43, Validation Loss: 66.14\n",
      "Epoch 44, Validation Loss: 64.22\n",
      "Epoch 45, Validation Loss: 65.29\n",
      "Epoch 46, Validation Loss: 61.82\n",
      "Epoch 47, Validation Loss: 71.21\n",
      "Epoch 48, Validation Loss: 61.81\n",
      "Epoch 49, Validation Loss: 68.98\n",
      "Epoch 50, Validation Loss: 64.88\n",
      "Epoch 51, Validation Loss: 68.34\n",
      "Epoch 52, Validation Loss: 70.82\n",
      "Epoch 53, Validation Loss: 61.72\n",
      "Epoch 54, Validation Loss: 65.85\n",
      "Epoch 55, Validation Loss: 61.57\n",
      "Epoch 56, Validation Loss: 68.63\n",
      "Epoch 57, Validation Loss: 69.62\n",
      "Epoch 58, Validation Loss: 70.59\n",
      "Epoch 59, Validation Loss: 62.56\n",
      "Epoch 60, Validation Loss: 69.39\n",
      "Epoch 61, Validation Loss: 67.07\n",
      "Epoch 62, Validation Loss: 66.52\n",
      "Epoch 63, Validation Loss: 64.83\n",
      "Epoch 64, Validation Loss: 68.71\n",
      "Epoch 65, Validation Loss: 65.62\n",
      "Epoch 66, Validation Loss: 69.09\n",
      "Epoch 67, Validation Loss: 69.34\n",
      "Epoch 68, Validation Loss: 74.18\n",
      "Epoch 69, Validation Loss: 66.39\n",
      "Epoch 70, Validation Loss: 72.91\n",
      "Epoch 71, Validation Loss: 67.97\n",
      "Epoch 72, Validation Loss: 69.31\n",
      "Epoch 73, Validation Loss: 67.32\n",
      "Epoch 74, Validation Loss: 67.64\n",
      "Early stopping at epoch 74\n",
      "Best model loaded.\n",
      "Training complete.\n"
     ]
    }
   ],
   "source": [
    "from src.problem.neuromancer.trainer import trainer\n",
    "# training\n",
    "epochs = 200                    # number of training epochs\n",
    "warmup = 20                     # number of epochs to wait before enacting early stopping policy\n",
    "patience = 20                   # number of epochs with no improvement in eval metric to allow before early stopping\n",
    "optimizer = torch.optim.AdamW(components.parameters(), lr=lr)\n",
    "# create a trainer for the problem\n",
    "my_trainer = trainer(components, loss_fn, optimizer, epochs, patience, warmup, device=\"cuda\")\n",
    "# training for the rounding problem\n",
    "my_trainer.train(loader_train, loader_dev)"
   ]
  },
  {
   "cell_type": "code",
   "execution_count": 16,
   "id": "6584d57e-6b4c-4262-82f5-55735ef17cac",
   "metadata": {},
   "outputs": [
    {
     "name": "stderr",
     "output_type": "stream",
     "text": [
      "100%|█████████████████████████████████████████████████████████████████████████████| 1000/1000 [00:05<00:00, 182.11it/s]\n"
     ]
    },
    {
     "name": "stdout",
     "output_type": "stream",
     "text": [
      "           Obj Val  Constraints Viol  Elapsed Time\n",
      "count  1000.000000       1000.000000   1000.000000\n",
      "mean     61.242237          0.003479      0.002981\n",
      "std      24.403990          0.079699      0.000739\n",
      "min       8.234531          0.000000      0.001000\n",
      "25%      43.504385          0.000000      0.002350\n",
      "50%      56.753799          0.000000      0.003013\n",
      "75%      78.066198          0.000000      0.003436\n",
      "max     134.794266          2.437754      0.005433\n",
      "Number of infeasible solution: 5\n"
     ]
    }
   ],
   "source": [
    "params, sols, objvals, conviols, elapseds = [], [], [], [], []\n",
    "for p, a in tqdm(list(zip(p_dev, a_dev))):\n",
    "    # data point as tensor\n",
    "    datapoints = {\"p\": torch.tensor(np.array([p]), dtype=torch.float32).to(\"cuda\"), \n",
    "                  \"a\": torch.tensor(np.array([a]), dtype=torch.float32).to(\"cuda\"),\n",
    "                  \"name\": \"test\"}\n",
    "    # infer\n",
    "    components.eval()\n",
    "    tick = time.time()\n",
    "    with torch.no_grad():\n",
    "        for comp in components:\n",
    "            datapoints.update(comp(datapoints))\n",
    "    tock = time.time()\n",
    "    # assign params\n",
    "    model.set_param_val({\"p\":p, \"a\":a})\n",
    "    # assign vars\n",
    "    x = datapoints[\"x_rnd\"]\n",
    "    for i in range(2*num_blocks):\n",
    "        model.vars[\"x\"][i].value = x[0,i].item()\n",
    "    # get solutions\n",
    "    xval, objval = model.get_val()    \n",
    "    params.append(list(p))\n",
    "    sols.append(list(list(xval.values())[0].values()))\n",
    "    objvals.append(objval)\n",
    "    conviols.append(sum(model.cal_violation()))\n",
    "    elapseds.append(tock - tick)\n",
    "df = pd.DataFrame({\"Param\":params, \"Sol\":sols, \"Obj Val\": objvals, \"Constraints Viol\": conviols, \"Elapsed Time\": elapseds})\n",
    "time.sleep(1)\n",
    "print(df.describe())\n",
    "print(\"Number of infeasible solution: {}\".format(np.sum(df[\"Constraints Viol\"] > 0)))\n",
    "df.to_csv(\"result/rb_lt_50-10.csv\")"
   ]
  },
  {
   "cell_type": "code",
   "execution_count": null,
   "id": "c89bcb04-0e0f-4bad-9a4a-bd6bed7660dd",
   "metadata": {},
   "outputs": [],
   "source": []
  }
 ],
 "metadata": {
  "kernelspec": {
   "display_name": "Python 3 (ipykernel)",
   "language": "python",
   "name": "python3"
  },
  "language_info": {
   "codemirror_mode": {
    "name": "ipython",
    "version": 3
   },
   "file_extension": ".py",
   "mimetype": "text/x-python",
   "name": "python",
   "nbconvert_exporter": "python",
   "pygments_lexer": "ipython3",
   "version": "3.10.13"
  }
 },
 "nbformat": 4,
 "nbformat_minor": 5
}
