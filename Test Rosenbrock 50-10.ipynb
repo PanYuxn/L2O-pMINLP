{
 "cells": [
  {
   "cell_type": "code",
   "execution_count": 1,
   "id": "be61b914-e1af-43b9-9766-5092593f92dd",
   "metadata": {},
   "outputs": [],
   "source": [
    "import time\n",
    "\n",
    "import numpy as np\n",
    "import pandas as pd\n",
    "import torch\n",
    "from torch import nn\n",
    "from tqdm import tqdm\n",
    "\n",
    "# random seed\n",
    "np.random.seed(42)\n",
    "torch.manual_seed(42)\n",
    "torch.cuda.manual_seed(42)"
   ]
  },
  {
   "cell_type": "code",
   "execution_count": 2,
   "id": "35fe4527-9dbf-48f0-bfb3-62cda59092aa",
   "metadata": {},
   "outputs": [],
   "source": [
    "# turn off warning\n",
    "import logging\n",
    "logging.getLogger('pyomo.core').setLevel(logging.ERROR)"
   ]
  },
  {
   "cell_type": "markdown",
   "id": "c5560447-da9d-4cbe-aab4-538aa11c8ee8",
   "metadata": {},
   "source": [
    "## Problem Setting"
   ]
  },
  {
   "cell_type": "code",
   "execution_count": 3,
   "id": "52363c72-0d20-4c08-bd00-0f62aa73686c",
   "metadata": {},
   "outputs": [],
   "source": [
    "# init\n",
    "steepness = 50    # steepness factor\n",
    "num_blocks = 10   # number of expression blocks\n",
    "num_data = 9100   # number of data\n",
    "test_size = 100   # number of test size\n",
    "val_size = 1000   # number of validation size\n",
    "train_size = num_data - test_size - val_size"
   ]
  },
  {
   "cell_type": "code",
   "execution_count": 4,
   "id": "21938c00-d73f-4255-bc7c-bce6e8034cf8",
   "metadata": {},
   "outputs": [],
   "source": [
    "# parameters as input data\n",
    "p_low, p_high = 1.0, 8.0\n",
    "a_low, a_high = 0.5, 4.5\n",
    "p_train = np.random.uniform(p_low, p_high, (train_size, 1)).astype(np.float32)\n",
    "p_test  = np.random.uniform(p_low, p_high, (test_size, 1)).astype(np.float32)\n",
    "p_dev   = np.random.uniform(p_low, p_high, (val_size, 1)).astype(np.float32)\n",
    "a_train = np.random.uniform(a_low, a_high, (train_size, num_blocks)).astype(np.float32)\n",
    "a_test  = np.random.uniform(a_low, a_high, (test_size, num_blocks)).astype(np.float32)\n",
    "a_dev   = np.random.uniform(a_low, a_high, (val_size, num_blocks)).astype(np.float32)"
   ]
  },
  {
   "cell_type": "code",
   "execution_count": 5,
   "id": "5ecf81ff-627d-444d-8d90-121c7e20c217",
   "metadata": {},
   "outputs": [],
   "source": [
    "# nm datasets\n",
    "from neuromancer.dataset import DictDataset\n",
    "data_train = DictDataset({\"p\":p_train, \"a\":a_train}, name=\"train\")\n",
    "data_test = DictDataset({\"p\":p_test, \"a\":a_test}, name=\"test\")\n",
    "data_dev = DictDataset({\"p\":p_dev, \"a\":a_dev}, name=\"dev\")\n",
    "# torch dataloaders\n",
    "from torch.utils.data import DataLoader\n",
    "batch_size = 64\n",
    "loader_train = DataLoader(data_train, batch_size, num_workers=0, collate_fn=data_train.collate_fn, shuffle=True)\n",
    "loader_test = DataLoader(data_test, batch_size, num_workers=0, collate_fn=data_test.collate_fn, shuffle=False)\n",
    "loader_dev = DataLoader(data_dev, batch_size, num_workers=0, collate_fn=data_dev.collate_fn, shuffle=True)"
   ]
  },
  {
   "cell_type": "markdown",
   "id": "a2b99751-3a6e-46dc-9e33-fdf68d813034",
   "metadata": {},
   "source": [
    "## Exact Solver"
   ]
  },
  {
   "cell_type": "code",
   "execution_count": 6,
   "id": "f2e7f07c-6a97-44d6-aca7-56f395e0c964",
   "metadata": {},
   "outputs": [],
   "source": [
    "from src.problem import msRosenbrock\n",
    "model = msRosenbrock(steepness, num_blocks, timelimit=60)"
   ]
  },
  {
   "cell_type": "code",
   "execution_count": 22,
   "id": "77e326fa-de2f-415e-a4d4-1f28eef6511a",
   "metadata": {},
   "outputs": [
    {
     "name": "stderr",
     "output_type": "stream",
     "text": [
      "100%|██████████████████████████████████████████████████████████████████████████████| 100/100 [1:40:13<00:00, 60.14s/it]\n"
     ]
    },
    {
     "name": "stdout",
     "output_type": "stream",
     "text": [
      "          Obj Val  Constraints Viol  Elapsed Time\n",
      "count  100.000000             100.0    100.000000\n",
      "mean    63.582075               0.0     60.138493\n",
      "std     25.764417               0.0      0.341542\n",
      "min     32.576882               0.0     59.440404\n",
      "25%     43.602677               0.0     59.931598\n",
      "50%     56.839336               0.0     60.060533\n",
      "75%     77.274428               0.0     60.293208\n",
      "max    143.750384               0.0     61.081650\n",
      "Number of infeasible solution: 0\n",
      "Number of None values:  0\n"
     ]
    }
   ],
   "source": [
    "params, sols, objvals, conviols, elapseds = [], [], [], [], []\n",
    "for p, a in tqdm(list(zip(p_test, a_test))):\n",
    "    # set params\n",
    "    model.set_param_val({\"p\":p, \"a\":a})\n",
    "    # solve\n",
    "    tick = time.time()\n",
    "    try:\n",
    "        xval, objval = model.solve(\"scip\")\n",
    "        # eval\n",
    "        params.append(list(p)+list(a))\n",
    "        sols.append(list(list(xval.values())[0].values()))\n",
    "        objvals.append(objval)\n",
    "        conviols.append(sum(model.cal_violation()))\n",
    "    except:\n",
    "        params.append(list(p)+list(a))\n",
    "        sols.append(None)\n",
    "        objvals.append(None)\n",
    "        conviols.append(None)\n",
    "    tock = time.time()\n",
    "    elapseds.append(tock - tick)\n",
    "df = pd.DataFrame({\"Param\":params, \"Sol\":sols, \"Obj Val\": objvals, \"Constraints Viol\": conviols, \"Elapsed Time\": elapseds})\n",
    "df.to_csv(\"result/rb_exact_50-10.csv\")\n",
    "time.sleep(1)\n",
    "print(df.describe())\n",
    "print(\"Number of infeasible solution: {}\".format(np.sum(df[\"Constraints Viol\"] > 0)))\n",
    "print(\"Number of None values: \", df[\"Sol\"].isna().sum())"
   ]
  },
  {
   "cell_type": "markdown",
   "id": "28b8053d-2fb9-419e-ab27-56d35a7310c2",
   "metadata": {},
   "source": [
    "## Heuristic - Round"
   ]
  },
  {
   "cell_type": "code",
   "execution_count": 23,
   "id": "8ac297ea-1ea4-4368-bbcf-e64f185397da",
   "metadata": {},
   "outputs": [],
   "source": [
    "from src.heuristic import naive_round"
   ]
  },
  {
   "cell_type": "code",
   "execution_count": 24,
   "id": "317ca34b-ef96-4149-9354-cc76439f4713",
   "metadata": {},
   "outputs": [
    {
     "name": "stderr",
     "output_type": "stream",
     "text": [
      "100%|████████████████████████████████████████████████████████████████████████████████| 100/100 [01:49<00:00,  1.09s/it]\n"
     ]
    },
    {
     "name": "stdout",
     "output_type": "stream",
     "text": [
      "          Obj Val  Constraints Viol  Elapsed Time\n",
      "count  100.000000        100.000000    100.000000\n",
      "mean    52.032736          0.305178      1.086002\n",
      "std     12.989899          0.485807      0.205181\n",
      "min     24.551208          0.000000      0.794311\n",
      "25%     43.351718          0.000000      0.913846\n",
      "50%     50.916983          0.000000      1.027520\n",
      "75%     57.789929          0.515183      1.164178\n",
      "max    104.705610          1.722386      1.892454\n",
      "Number of infeasible solution: 42\n"
     ]
    }
   ],
   "source": [
    "params, sols, objvals, conviols, elapseds = [], [], [], [], []\n",
    "for p, a in tqdm(list(zip(p_test, a_test))):\n",
    "    # set params\n",
    "    model.set_param_val({\"p\":p, \"a\":a})\n",
    "    # relax\n",
    "    model_rel = model.relax()\n",
    "    # solve\n",
    "    tick = time.time()\n",
    "    xval_rel, _ = model_rel.solve(\"scip\")\n",
    "    xval, objval = naive_round(xval_rel, model)\n",
    "    tock = time.time()\n",
    "    # eval\n",
    "    params.append(list(p)+list(a))\n",
    "    sols.append(list(list(xval.values())[0].values()))\n",
    "    objvals.append(objval)\n",
    "    conviols.append(sum(model.cal_violation()))\n",
    "    elapseds.append(tock - tick)\n",
    "df = pd.DataFrame({\"Param\":params, \"Sol\":sols, \"Obj Val\": objvals, \"Constraints Viol\": conviols, \"Elapsed Time\": elapseds})\n",
    "time.sleep(1)\n",
    "df.to_csv(\"result/rb_heur_rnd_50-10.csv\")\n",
    "time.sleep(1)\n",
    "print(df.describe())\n",
    "print(\"Number of infeasible solution: {}\".format(np.sum(df[\"Constraints Viol\"] > 0)))"
   ]
  },
  {
   "cell_type": "markdown",
   "id": "96304fbd-08f5-4be7-a81e-83c85332029c",
   "metadata": {},
   "source": [
    "## Heuristic - N1"
   ]
  },
  {
   "cell_type": "code",
   "execution_count": 25,
   "id": "356187af-e02d-4478-bf78-ada6a2e1b94b",
   "metadata": {},
   "outputs": [],
   "source": [
    "model_heur = model.first_solution_heuristic(nodes_limit=1)"
   ]
  },
  {
   "cell_type": "code",
   "execution_count": 27,
   "id": "f4c7fc52-cbbc-4414-bf1d-316d65c8db5b",
   "metadata": {},
   "outputs": [
    {
     "name": "stderr",
     "output_type": "stream",
     "text": [
      "100%|████████████████████████████████████████████████████████████████████████████████| 100/100 [00:16<00:00,  6.04it/s]\n"
     ]
    },
    {
     "name": "stdout",
     "output_type": "stream",
     "text": [
      "          Obj Val  Constraints Viol  Elapsed Time\n",
      "count  100.000000             100.0    100.000000\n",
      "mean    88.293410               0.0      0.164690\n",
      "std     35.390073               0.0      0.051742\n",
      "min     34.826312               0.0      0.120786\n",
      "25%     59.420381               0.0      0.126149\n",
      "50%     78.585167               0.0      0.140700\n",
      "75%    114.883516               0.0      0.170366\n",
      "max    180.932596               0.0      0.343926\n",
      "Number of infeasible solution: 0\n"
     ]
    }
   ],
   "source": [
    "params, sols, objvals, conviols, elapseds = [], [], [], [], []\n",
    "for p, a in tqdm(list(zip(p_test, a_test))):\n",
    "    # set params\n",
    "    model_heur.set_param_val({\"p\":p, \"a\":a})\n",
    "    # solve\n",
    "    tick = time.time()\n",
    "    try:\n",
    "        xval, objval = model_heur.solve(\"scip\")\n",
    "        # eval\n",
    "        params.append(list(p)+list(a))\n",
    "        sols.append(list(list(xval.values())[0].values()))\n",
    "        objvals.append(objval)\n",
    "        conviols.append(sum(model_heur.cal_violation()))\n",
    "    except:\n",
    "        params.append(list(p)+list(a))\n",
    "        sols.append(None)\n",
    "        objvals.append(None)\n",
    "        conviols.append(None)\n",
    "    tock = time.time()\n",
    "    elapseds.append(tock - tick)\n",
    "df = pd.DataFrame({\"Param\":params, \"Sol\":sols, \"Obj Val\": objvals, \"Constraints Viol\": conviols, \"Elapsed Time\": elapseds})\n",
    "time.sleep(1)\n",
    "df.to_csv(\"result/rb_heur_n1_50-10.csv\")\n",
    "time.sleep(1)\n",
    "print(df.describe())\n",
    "print(\"Number of infeasible solution: {}\".format(np.sum(df[\"Constraints Viol\"] > 0)))"
   ]
  },
  {
   "cell_type": "markdown",
   "id": "9819c60c-df5f-41c6-ae83-888c75aa78d7",
   "metadata": {},
   "source": [
    "## Learnable Rounding"
   ]
  },
  {
   "cell_type": "code",
   "execution_count": 7,
   "id": "6c2bdd74-a0d1-4afa-b610-4f29559a5860",
   "metadata": {},
   "outputs": [],
   "source": [
    "# random seed\n",
    "np.random.seed(42)\n",
    "torch.manual_seed(42)\n",
    "torch.cuda.manual_seed(42)"
   ]
  },
  {
   "cell_type": "code",
   "execution_count": 8,
   "id": "536d2d58-67ba-408a-b72a-7c5bd54a5ff4",
   "metadata": {},
   "outputs": [],
   "source": [
    "# hyperparameters\n",
    "penalty_weight = 100   # weight of constraint violation penealty\n",
    "hlayers_sol = 5       # number of hidden layers for solution mapping\n",
    "hlayers_rnd = 4       # number of hidden layers for solution mapping\n",
    "hsize = 64            # width of hidden layers for solution mapping\n",
    "lr = 1e-3             # learning rate"
   ]
  },
  {
   "cell_type": "code",
   "execution_count": 9,
   "id": "fee1241e-e53a-4cbb-927a-edcdb3537303",
   "metadata": {},
   "outputs": [],
   "source": [
    "# set problem\n",
    "import neuromancer as nm\n",
    "from src.problem import nmRosenbrock\n",
    "from src.func.layer import netFC\n",
    "from src.func import roundGumbelModel\n",
    "# build neural architecture for the solution map\n",
    "func = nm.modules.blocks.MLP(insize=num_blocks+1, outsize=2*num_blocks, bias=True,\n",
    "                             linear_map=nm.slim.maps[\"linear\"],\n",
    "                             nonlin=nn.ReLU, hsizes=[hsize]*hlayers_sol)\n",
    "smap = nm.system.Node(func, [\"p\", \"a\"], [\"x\"], name=\"smap\")\n",
    "# define rounding model\n",
    "layers_rnd = netFC(input_dim=3*num_blocks+1, hidden_dims=[hsize]*hlayers_rnd, output_dim=2*num_blocks)\n",
    "rnd = roundGumbelModel(layers=layers_rnd, param_keys=[\"p\", \"a\"], var_keys=[\"x\"],  output_keys=[\"x_rnd\"], \n",
    "                       int_ind=model.int_ind, continuous_update=True, name=\"round\")\n",
    "# build neuromancer problem for rounding\n",
    "components = nn.ModuleList([smap, rnd]).to(\"cuda\")\n",
    "loss_fn = nmRosenbrock([\"p\", \"a\", \"x_rnd\"], steepness, num_blocks, penalty_weight)"
   ]
  },
  {
   "cell_type": "code",
   "execution_count": 10,
   "id": "e4f10263-5f69-4288-a4e8-8be83929c8d6",
   "metadata": {},
   "outputs": [
    {
     "name": "stdout",
     "output_type": "stream",
     "text": [
      "Epoch 0, Validation Loss: 2695.52\n",
      "Epoch 1, Validation Loss: 304.88\n",
      "Epoch 2, Validation Loss: 214.59\n",
      "Epoch 3, Validation Loss: 173.45\n",
      "Epoch 4, Validation Loss: 163.32\n",
      "Epoch 5, Validation Loss: 147.10\n",
      "Epoch 6, Validation Loss: 130.27\n",
      "Epoch 7, Validation Loss: 125.61\n",
      "Epoch 8, Validation Loss: 128.29\n",
      "Epoch 9, Validation Loss: 110.26\n",
      "Epoch 10, Validation Loss: 118.30\n",
      "Epoch 11, Validation Loss: 122.71\n",
      "Epoch 12, Validation Loss: 116.96\n",
      "Epoch 13, Validation Loss: 114.30\n",
      "Epoch 14, Validation Loss: 115.89\n",
      "Epoch 15, Validation Loss: 106.61\n",
      "Epoch 16, Validation Loss: 110.83\n",
      "Epoch 17, Validation Loss: 100.27\n",
      "Epoch 18, Validation Loss: 92.73\n",
      "Epoch 19, Validation Loss: 88.48\n",
      "Epoch 20, Validation Loss: 80.35\n",
      "Epoch 21, Validation Loss: 76.37\n",
      "Epoch 22, Validation Loss: 90.92\n",
      "Epoch 23, Validation Loss: 80.14\n",
      "Epoch 24, Validation Loss: 73.43\n",
      "Epoch 25, Validation Loss: 81.36\n",
      "Epoch 26, Validation Loss: 78.28\n",
      "Epoch 27, Validation Loss: 76.66\n",
      "Epoch 28, Validation Loss: 80.77\n",
      "Epoch 29, Validation Loss: 87.83\n",
      "Epoch 30, Validation Loss: 74.39\n",
      "Epoch 31, Validation Loss: 64.51\n",
      "Epoch 32, Validation Loss: 66.86\n",
      "Epoch 33, Validation Loss: 66.13\n",
      "Epoch 34, Validation Loss: 66.74\n",
      "Epoch 35, Validation Loss: 69.39\n",
      "Epoch 36, Validation Loss: 62.64\n",
      "Epoch 37, Validation Loss: 82.48\n",
      "Epoch 38, Validation Loss: 66.82\n",
      "Epoch 39, Validation Loss: 69.17\n",
      "Epoch 40, Validation Loss: 65.26\n",
      "Epoch 41, Validation Loss: 63.81\n",
      "Epoch 42, Validation Loss: 64.27\n",
      "Epoch 43, Validation Loss: 66.69\n",
      "Epoch 44, Validation Loss: 62.08\n",
      "Epoch 45, Validation Loss: 76.42\n",
      "Epoch 46, Validation Loss: 86.08\n",
      "Epoch 47, Validation Loss: 69.36\n",
      "Epoch 48, Validation Loss: 60.71\n",
      "Epoch 49, Validation Loss: 62.20\n",
      "Epoch 50, Validation Loss: 63.83\n",
      "Epoch 51, Validation Loss: 62.80\n",
      "Epoch 52, Validation Loss: 90.14\n",
      "Epoch 53, Validation Loss: 78.06\n",
      "Epoch 54, Validation Loss: 72.38\n",
      "Epoch 55, Validation Loss: 65.60\n",
      "Epoch 56, Validation Loss: 76.43\n",
      "Epoch 57, Validation Loss: 71.92\n",
      "Epoch 58, Validation Loss: 69.24\n",
      "Epoch 59, Validation Loss: 74.17\n",
      "Epoch 60, Validation Loss: 71.66\n",
      "Epoch 61, Validation Loss: 73.79\n",
      "Epoch 62, Validation Loss: 56.93\n",
      "Epoch 63, Validation Loss: 69.16\n",
      "Epoch 64, Validation Loss: 70.78\n",
      "Epoch 65, Validation Loss: 62.87\n",
      "Epoch 66, Validation Loss: 61.89\n",
      "Epoch 67, Validation Loss: 61.23\n",
      "Epoch 68, Validation Loss: 66.72\n",
      "Epoch 69, Validation Loss: 71.44\n",
      "Epoch 70, Validation Loss: 71.79\n",
      "Epoch 71, Validation Loss: 65.47\n",
      "Epoch 72, Validation Loss: 82.29\n",
      "Epoch 73, Validation Loss: 74.47\n",
      "Epoch 74, Validation Loss: 82.16\n",
      "Epoch 75, Validation Loss: 82.02\n",
      "Epoch 76, Validation Loss: 62.52\n",
      "Epoch 77, Validation Loss: 60.19\n",
      "Epoch 78, Validation Loss: 80.71\n",
      "Epoch 79, Validation Loss: 55.79\n",
      "Epoch 80, Validation Loss: 71.21\n",
      "Epoch 81, Validation Loss: 64.69\n",
      "Epoch 82, Validation Loss: 82.70\n",
      "Epoch 83, Validation Loss: 72.60\n",
      "Epoch 84, Validation Loss: 67.79\n",
      "Epoch 85, Validation Loss: 53.81\n",
      "Epoch 86, Validation Loss: 82.41\n",
      "Epoch 87, Validation Loss: 70.74\n",
      "Epoch 88, Validation Loss: 61.79\n",
      "Epoch 89, Validation Loss: 72.81\n",
      "Epoch 90, Validation Loss: 65.81\n",
      "Epoch 91, Validation Loss: 65.02\n",
      "Epoch 92, Validation Loss: 64.37\n",
      "Epoch 93, Validation Loss: 66.14\n",
      "Epoch 94, Validation Loss: 62.18\n",
      "Epoch 95, Validation Loss: 57.63\n",
      "Epoch 96, Validation Loss: 61.61\n",
      "Epoch 97, Validation Loss: 59.75\n",
      "Epoch 98, Validation Loss: 72.82\n",
      "Epoch 99, Validation Loss: 58.45\n",
      "Epoch 100, Validation Loss: 62.84\n",
      "Epoch 101, Validation Loss: 83.72\n",
      "Epoch 102, Validation Loss: 75.78\n",
      "Epoch 103, Validation Loss: 87.87\n",
      "Epoch 104, Validation Loss: 60.52\n",
      "Early stopping at epoch 104\n",
      "Best model loaded.\n",
      "Training complete.\n",
      "The training time is 175.84 sec.\n"
     ]
    }
   ],
   "source": [
    "from src.problem.neuromancer.trainer import trainer\n",
    "# training\n",
    "epochs = 200                    # number of training epochs\n",
    "warmup = 20                     # number of epochs to wait before enacting early stopping policy\n",
    "patience = 20                   # number of epochs with no improvement in eval metric to allow before early stopping\n",
    "optimizer = torch.optim.AdamW(components.parameters(), lr=lr)\n",
    "# create a trainer for the problem\n",
    "my_trainer = trainer(components, loss_fn, optimizer, epochs, patience, warmup, device=\"cuda\")\n",
    "# training for the rounding problem\n",
    "my_trainer.train(loader_train, loader_dev)"
   ]
  },
  {
   "cell_type": "code",
   "execution_count": 11,
   "id": "3e835084-eb75-45d9-bcbd-5fb4c613fb41",
   "metadata": {},
   "outputs": [
    {
     "name": "stderr",
     "output_type": "stream",
     "text": [
      "100%|███████████████████████████████████████████████████████████████████████████████| 100/100 [00:00<00:00, 207.38it/s]\n"
     ]
    },
    {
     "name": "stdout",
     "output_type": "stream",
     "text": [
      "          Obj Val  Constraints Viol  Elapsed Time\n",
      "count  100.000000             100.0    100.000000\n",
      "mean    52.902318               0.0      0.002783\n",
      "std     19.218383               0.0      0.001061\n",
      "min     20.295887               0.0      0.001344\n",
      "25%     40.643305               0.0      0.002001\n",
      "50%     49.181261               0.0      0.002367\n",
      "75%     59.485950               0.0      0.003090\n",
      "max    132.618161               0.0      0.005535\n",
      "Number of infeasible solution: 0\n"
     ]
    }
   ],
   "source": [
    "params, sols, objvals, conviols, elapseds = [], [], [], [], []\n",
    "for p, a in tqdm(list(zip(p_test, a_test))):\n",
    "    # data point as tensor\n",
    "    datapoints = {\"p\": torch.tensor(np.array([p]), dtype=torch.float32).to(\"cuda\"), \n",
    "                  \"a\": torch.tensor(np.array([a]), dtype=torch.float32).to(\"cuda\"),\n",
    "                  \"name\": \"test\"}\n",
    "    # infer\n",
    "    components.eval()\n",
    "    tick = time.time()\n",
    "    with torch.no_grad():\n",
    "        for comp in components:\n",
    "            datapoints.update(comp(datapoints))\n",
    "    tock = time.time()\n",
    "    # assign params\n",
    "    model.set_param_val({\"p\":p, \"a\":a})\n",
    "    # assign vars\n",
    "    x = datapoints[\"x_rnd\"]\n",
    "    for i in range(2*num_blocks):\n",
    "        model.vars[\"x\"][i].value = x[0,i].item()\n",
    "    # get solutions\n",
    "    xval, objval = model.get_val()    \n",
    "    params.append(list(p)+list(a))\n",
    "    sols.append(list(list(xval.values())[0].values()))\n",
    "    objvals.append(objval)\n",
    "    conviols.append(sum(model.cal_violation()))\n",
    "    elapseds.append(tock - tick)\n",
    "df = pd.DataFrame({\"Param\":params, \"Sol\":sols, \"Obj Val\": objvals, \"Constraints Viol\": conviols, \"Elapsed Time\": elapseds})\n",
    "time.sleep(1)\n",
    "df.to_csv(\"result/rb_lr_50-10.csv\")\n",
    "time.sleep(1)\n",
    "print(df.describe())\n",
    "print(\"Number of infeasible solution: {}\".format(np.sum(df[\"Constraints Viol\"] > 0)))"
   ]
  },
  {
   "cell_type": "markdown",
   "id": "2dbf8a72-29b9-49c4-b3c1-0d68895c1c1f",
   "metadata": {},
   "source": [
    "## Learnable Threshold"
   ]
  },
  {
   "cell_type": "code",
   "execution_count": 12,
   "id": "7912a689-22cd-4d7b-a50f-d136dbdf5940",
   "metadata": {},
   "outputs": [],
   "source": [
    "# random seed\n",
    "np.random.seed(42)\n",
    "torch.manual_seed(42)\n",
    "torch.cuda.manual_seed(42)"
   ]
  },
  {
   "cell_type": "code",
   "execution_count": 13,
   "id": "d46b9817-87ac-4af0-b387-b10c9a4998f4",
   "metadata": {},
   "outputs": [],
   "source": [
    "# hyperparameters\n",
    "penalty_weight = 100  # weight of constraint violation penealty\n",
    "hlayers_sol = 5       # number of hidden layers for solution mapping\n",
    "hlayers_rnd = 4       # number of hidden layers for solution mapping\n",
    "hsize = 64            # width of hidden layers for solution mapping\n",
    "lr = 1e-3             # learning rate"
   ]
  },
  {
   "cell_type": "code",
   "execution_count": 14,
   "id": "fa8b147f-39c8-4eb7-bb95-93dd8e4cb1cf",
   "metadata": {},
   "outputs": [],
   "source": [
    "# set problem\n",
    "import neuromancer as nm\n",
    "from src.problem import nmRosenbrock\n",
    "from src.func.layer import netFC\n",
    "from src.func import roundThresholdModel\n",
    "# build neural architecture for the solution map\n",
    "func = nm.modules.blocks.MLP(insize=num_blocks+1, outsize=2*num_blocks, bias=True,\n",
    "                             linear_map=nm.slim.maps[\"linear\"],\n",
    "                             nonlin=nn.ReLU, hsizes=[hsize]*hlayers_sol)\n",
    "smap = nm.system.Node(func, [\"p\", \"a\"], [\"x\"], name=\"smap\")\n",
    "# define rounding model\n",
    "layers_rnd = netFC(input_dim=3*num_blocks+1, hidden_dims=[hsize]*hlayers_rnd, output_dim=2*num_blocks)\n",
    "rnd = roundThresholdModel(layers=layers_rnd, param_keys=[\"p\", \"a\"], var_keys=[\"x\"],  output_keys=[\"x_rnd\"], \n",
    "                          int_ind=model.int_ind, continuous_update=True, name=\"round\")\n",
    "# build neuromancer problem for rounding\n",
    "components = nn.ModuleList([smap, rnd]).to(\"cuda\")\n",
    "loss_fn = nmRosenbrock([\"p\", \"a\", \"x_rnd\"], steepness, num_blocks, penalty_weight)"
   ]
  },
  {
   "cell_type": "code",
   "execution_count": 15,
   "id": "c6f5bb17-8c3c-4dcd-952d-caa1d7c4c4fa",
   "metadata": {},
   "outputs": [
    {
     "name": "stdout",
     "output_type": "stream",
     "text": [
      "Epoch 0, Validation Loss: 2270.56\n",
      "Epoch 1, Validation Loss: 245.11\n",
      "Epoch 2, Validation Loss: 174.56\n",
      "Epoch 3, Validation Loss: 145.78\n",
      "Epoch 4, Validation Loss: 135.56\n",
      "Epoch 5, Validation Loss: 126.86\n",
      "Epoch 6, Validation Loss: 113.33\n",
      "Epoch 7, Validation Loss: 117.49\n",
      "Epoch 8, Validation Loss: 106.64\n",
      "Epoch 9, Validation Loss: 103.12\n",
      "Epoch 10, Validation Loss: 97.35\n",
      "Epoch 11, Validation Loss: 81.38\n",
      "Epoch 12, Validation Loss: 88.28\n",
      "Epoch 13, Validation Loss: 93.07\n",
      "Epoch 14, Validation Loss: 79.39\n",
      "Epoch 15, Validation Loss: 76.85\n",
      "Epoch 16, Validation Loss: 85.67\n",
      "Epoch 17, Validation Loss: 63.96\n",
      "Epoch 18, Validation Loss: 71.41\n",
      "Epoch 19, Validation Loss: 63.09\n",
      "Epoch 20, Validation Loss: 63.96\n",
      "Epoch 21, Validation Loss: 66.63\n",
      "Epoch 22, Validation Loss: 71.17\n",
      "Epoch 23, Validation Loss: 66.05\n",
      "Epoch 24, Validation Loss: 70.92\n",
      "Epoch 25, Validation Loss: 68.74\n",
      "Epoch 26, Validation Loss: 71.74\n",
      "Epoch 27, Validation Loss: 68.64\n",
      "Epoch 28, Validation Loss: 68.43\n",
      "Epoch 29, Validation Loss: 65.23\n",
      "Epoch 30, Validation Loss: 61.10\n",
      "Epoch 31, Validation Loss: 74.49\n",
      "Epoch 32, Validation Loss: 77.36\n",
      "Epoch 33, Validation Loss: 68.24\n",
      "Epoch 34, Validation Loss: 66.86\n",
      "Epoch 35, Validation Loss: 65.87\n",
      "Epoch 36, Validation Loss: 65.67\n",
      "Epoch 37, Validation Loss: 68.79\n",
      "Epoch 38, Validation Loss: 67.94\n",
      "Epoch 39, Validation Loss: 66.21\n",
      "Epoch 40, Validation Loss: 65.87\n",
      "Epoch 41, Validation Loss: 63.96\n",
      "Epoch 42, Validation Loss: 68.02\n",
      "Epoch 43, Validation Loss: 81.27\n",
      "Epoch 44, Validation Loss: 65.52\n",
      "Epoch 45, Validation Loss: 73.43\n",
      "Epoch 46, Validation Loss: 71.84\n",
      "Epoch 47, Validation Loss: 81.21\n",
      "Epoch 48, Validation Loss: 66.88\n",
      "Epoch 49, Validation Loss: 74.94\n",
      "Early stopping at epoch 49\n",
      "Best model loaded.\n",
      "Training complete.\n",
      "The training time is 86.75 sec.\n"
     ]
    }
   ],
   "source": [
    "from src.problem.neuromancer.trainer import trainer\n",
    "# training\n",
    "epochs = 200                    # number of training epochs\n",
    "warmup = 20                     # number of epochs to wait before enacting early stopping policy\n",
    "patience = 20                   # number of epochs with no improvement in eval metric to allow before early stopping\n",
    "optimizer = torch.optim.AdamW(components.parameters(), lr=lr)\n",
    "# create a trainer for the problem\n",
    "my_trainer = trainer(components, loss_fn, optimizer, epochs, patience, warmup, device=\"cuda\")\n",
    "# training for the rounding problem\n",
    "my_trainer.train(loader_train, loader_dev)"
   ]
  },
  {
   "cell_type": "code",
   "execution_count": 16,
   "id": "6584d57e-6b4c-4262-82f5-55735ef17cac",
   "metadata": {},
   "outputs": [
    {
     "name": "stderr",
     "output_type": "stream",
     "text": [
      "100%|███████████████████████████████████████████████████████████████████████████████| 100/100 [00:00<00:00, 174.48it/s]\n"
     ]
    },
    {
     "name": "stdout",
     "output_type": "stream",
     "text": [
      "          Obj Val  Constraints Viol  Elapsed Time\n",
      "count  100.000000        100.000000    100.000000\n",
      "mean    60.529631          0.011998      0.003421\n",
      "std     20.260515          0.086716      0.001106\n",
      "min     27.477511          0.000000      0.001008\n",
      "25%     48.115473          0.000000      0.002522\n",
      "50%     56.752007          0.000000      0.003139\n",
      "75%     70.691227          0.000000      0.004129\n",
      "max    160.995912          0.739758      0.005823\n",
      "Number of infeasible solution: 2\n"
     ]
    }
   ],
   "source": [
    "params, sols, objvals, conviols, elapseds = [], [], [], [], []\n",
    "for p, a in tqdm(list(zip(p_test, a_test))):\n",
    "    # data point as tensor\n",
    "    datapoints = {\"p\": torch.tensor(np.array([p]), dtype=torch.float32).to(\"cuda\"), \n",
    "                  \"a\": torch.tensor(np.array([a]), dtype=torch.float32).to(\"cuda\"),\n",
    "                  \"name\": \"test\"}\n",
    "    # infer\n",
    "    components.eval()\n",
    "    tick = time.time()\n",
    "    with torch.no_grad():\n",
    "        for comp in components:\n",
    "            datapoints.update(comp(datapoints))\n",
    "    tock = time.time()\n",
    "    # assign params\n",
    "    model.set_param_val({\"p\":p, \"a\":a})\n",
    "    # assign vars\n",
    "    x = datapoints[\"x_rnd\"]\n",
    "    for i in range(2*num_blocks):\n",
    "        model.vars[\"x\"][i].value = x[0,i].item()\n",
    "    # get solutions\n",
    "    xval, objval = model.get_val()    \n",
    "    params.append(list(p)+list(a))\n",
    "    sols.append(list(list(xval.values())[0].values()))\n",
    "    objvals.append(objval)\n",
    "    conviols.append(sum(model.cal_violation()))\n",
    "    elapseds.append(tock - tick)\n",
    "df = pd.DataFrame({\"Param\":params, \"Sol\":sols, \"Obj Val\": objvals, \"Constraints Viol\": conviols, \"Elapsed Time\": elapseds})\n",
    "time.sleep(1)\n",
    "df.to_csv(\"result/rb_lr_50-10.csv\")\n",
    "time.sleep(1)\n",
    "print(df.describe())\n",
    "print(\"Number of infeasible solution: {}\".format(np.sum(df[\"Constraints Viol\"] > 0)))"
   ]
  },
  {
   "cell_type": "markdown",
   "id": "bece4166-1c16-45d5-a544-dbc93ee03cd1",
   "metadata": {},
   "source": [
    "## Parametric Learning Then Rounding"
   ]
  },
  {
   "cell_type": "code",
   "execution_count": 17,
   "id": "2fb68ab1-eaf8-4821-93ec-65e8c4b0a00c",
   "metadata": {},
   "outputs": [],
   "source": [
    "# random seed\n",
    "np.random.seed(42)\n",
    "torch.manual_seed(42)\n",
    "torch.cuda.manual_seed(42)"
   ]
  },
  {
   "cell_type": "code",
   "execution_count": 18,
   "id": "d01e8d11-e6f5-4e99-8dc4-e173751c927e",
   "metadata": {},
   "outputs": [],
   "source": [
    "# hyperparameters\n",
    "penalty_weight = 100  # weight of constraint violation penealty\n",
    "hlayers_sol = 5       # number of hidden layers for solution mapping\n",
    "hsize = 8             # width of hidden layers for solution mapping\n",
    "lr = 1e-3             # learning rate\n",
    "batch_size = 64       # batch size"
   ]
  },
  {
   "cell_type": "code",
   "execution_count": 19,
   "id": "99131f79-d4e9-4bcb-ba80-1d6284cdc5f2",
   "metadata": {},
   "outputs": [],
   "source": [
    "# set problem\n",
    "import neuromancer as nm\n",
    "from src.problem import nmQuadratic\n",
    "from src.func.layer import netFC\n",
    "# build neural architecture for the solution map\n",
    "func = nm.modules.blocks.MLP(insize=num_blocks+1, outsize=2*num_blocks, bias=True,\n",
    "                             linear_map=nm.slim.maps[\"linear\"],\n",
    "                             nonlin=nn.ReLU, hsizes=[hsize]*hlayers_sol)\n",
    "smap = nm.system.Node(func, [\"p\", \"a\"], [\"x\"], name=\"smap\")\n",
    "# build neuromancer problem for rounding\n",
    "components = nn.ModuleList([smap]).to(\"cuda\")\n",
    "loss_fn = nmRosenbrock([\"p\", \"a\", \"x\"], steepness, num_blocks, penalty_weight)"
   ]
  },
  {
   "cell_type": "code",
   "execution_count": 20,
   "id": "dea5cd27-82b8-433f-bdc2-e539e78cfa36",
   "metadata": {},
   "outputs": [
    {
     "name": "stdout",
     "output_type": "stream",
     "text": [
      "Epoch 0, Validation Loss: 2407.90\n",
      "Epoch 1, Validation Loss: 2096.17\n",
      "Epoch 2, Validation Loss: 341.26\n",
      "Epoch 3, Validation Loss: 234.11\n",
      "Epoch 4, Validation Loss: 172.35\n",
      "Epoch 5, Validation Loss: 104.49\n",
      "Epoch 6, Validation Loss: 95.80\n",
      "Epoch 7, Validation Loss: 86.52\n",
      "Epoch 8, Validation Loss: 70.32\n",
      "Epoch 9, Validation Loss: 57.28\n",
      "Epoch 10, Validation Loss: 52.00\n",
      "Epoch 11, Validation Loss: 47.86\n",
      "Epoch 12, Validation Loss: 43.98\n",
      "Epoch 13, Validation Loss: 39.09\n",
      "Epoch 14, Validation Loss: 36.63\n",
      "Epoch 15, Validation Loss: 33.64\n",
      "Epoch 16, Validation Loss: 31.87\n",
      "Epoch 17, Validation Loss: 30.57\n",
      "Epoch 18, Validation Loss: 29.48\n",
      "Epoch 19, Validation Loss: 29.14\n",
      "Epoch 20, Validation Loss: 27.97\n",
      "Epoch 21, Validation Loss: 27.34\n",
      "Epoch 22, Validation Loss: 27.01\n",
      "Epoch 23, Validation Loss: 27.08\n",
      "Epoch 24, Validation Loss: 26.26\n",
      "Epoch 25, Validation Loss: 25.75\n",
      "Epoch 26, Validation Loss: 26.47\n",
      "Epoch 27, Validation Loss: 25.22\n",
      "Epoch 28, Validation Loss: 25.24\n",
      "Epoch 29, Validation Loss: 24.89\n",
      "Epoch 30, Validation Loss: 24.86\n",
      "Epoch 31, Validation Loss: 25.02\n",
      "Epoch 32, Validation Loss: 24.36\n",
      "Epoch 33, Validation Loss: 24.66\n",
      "Epoch 34, Validation Loss: 24.33\n",
      "Epoch 35, Validation Loss: 24.26\n",
      "Epoch 36, Validation Loss: 23.88\n",
      "Epoch 37, Validation Loss: 24.11\n",
      "Epoch 38, Validation Loss: 24.21\n",
      "Epoch 39, Validation Loss: 23.77\n",
      "Epoch 40, Validation Loss: 23.99\n",
      "Epoch 41, Validation Loss: 23.75\n",
      "Epoch 42, Validation Loss: 23.57\n",
      "Epoch 43, Validation Loss: 24.26\n",
      "Epoch 44, Validation Loss: 23.68\n",
      "Epoch 45, Validation Loss: 23.70\n",
      "Epoch 46, Validation Loss: 23.71\n",
      "Epoch 47, Validation Loss: 23.74\n",
      "Epoch 48, Validation Loss: 23.44\n",
      "Epoch 49, Validation Loss: 23.10\n",
      "Epoch 50, Validation Loss: 23.08\n",
      "Epoch 51, Validation Loss: 25.05\n",
      "Epoch 52, Validation Loss: 23.03\n",
      "Epoch 53, Validation Loss: 23.06\n",
      "Epoch 54, Validation Loss: 23.41\n",
      "Epoch 55, Validation Loss: 23.16\n",
      "Epoch 56, Validation Loss: 22.64\n",
      "Epoch 57, Validation Loss: 23.34\n",
      "Epoch 58, Validation Loss: 23.06\n",
      "Epoch 59, Validation Loss: 22.97\n",
      "Epoch 60, Validation Loss: 23.61\n",
      "Epoch 61, Validation Loss: 22.71\n",
      "Epoch 62, Validation Loss: 22.68\n",
      "Epoch 63, Validation Loss: 22.57\n",
      "Epoch 64, Validation Loss: 22.56\n",
      "Epoch 65, Validation Loss: 23.32\n",
      "Epoch 66, Validation Loss: 23.51\n",
      "Epoch 67, Validation Loss: 22.60\n",
      "Epoch 68, Validation Loss: 23.15\n",
      "Epoch 69, Validation Loss: 23.61\n",
      "Epoch 70, Validation Loss: 22.70\n",
      "Epoch 71, Validation Loss: 22.66\n",
      "Epoch 72, Validation Loss: 22.26\n",
      "Epoch 73, Validation Loss: 22.23\n",
      "Epoch 74, Validation Loss: 22.45\n",
      "Epoch 75, Validation Loss: 22.32\n",
      "Epoch 76, Validation Loss: 23.37\n",
      "Epoch 77, Validation Loss: 22.57\n",
      "Epoch 78, Validation Loss: 22.45\n",
      "Epoch 79, Validation Loss: 22.57\n",
      "Epoch 80, Validation Loss: 22.32\n",
      "Epoch 81, Validation Loss: 22.47\n",
      "Epoch 82, Validation Loss: 22.76\n",
      "Epoch 83, Validation Loss: 23.65\n",
      "Epoch 84, Validation Loss: 22.40\n",
      "Epoch 85, Validation Loss: 22.33\n",
      "Epoch 86, Validation Loss: 22.13\n",
      "Epoch 87, Validation Loss: 22.44\n",
      "Epoch 88, Validation Loss: 22.38\n",
      "Epoch 89, Validation Loss: 22.17\n",
      "Epoch 90, Validation Loss: 22.58\n",
      "Epoch 91, Validation Loss: 22.43\n",
      "Epoch 92, Validation Loss: 22.36\n",
      "Epoch 93, Validation Loss: 22.28\n",
      "Epoch 94, Validation Loss: 22.35\n",
      "Epoch 95, Validation Loss: 22.35\n",
      "Epoch 96, Validation Loss: 22.36\n",
      "Epoch 97, Validation Loss: 22.06\n",
      "Epoch 98, Validation Loss: 23.14\n",
      "Epoch 99, Validation Loss: 22.38\n",
      "Epoch 100, Validation Loss: 23.01\n",
      "Epoch 101, Validation Loss: 22.25\n",
      "Epoch 102, Validation Loss: 22.35\n",
      "Epoch 103, Validation Loss: 22.17\n",
      "Epoch 104, Validation Loss: 22.23\n",
      "Epoch 105, Validation Loss: 21.96\n",
      "Epoch 106, Validation Loss: 22.53\n",
      "Epoch 107, Validation Loss: 22.56\n",
      "Epoch 108, Validation Loss: 22.55\n",
      "Epoch 109, Validation Loss: 22.57\n",
      "Epoch 110, Validation Loss: 23.78\n",
      "Epoch 111, Validation Loss: 22.10\n",
      "Epoch 112, Validation Loss: 22.07\n",
      "Epoch 113, Validation Loss: 23.19\n",
      "Epoch 114, Validation Loss: 22.26\n",
      "Epoch 115, Validation Loss: 22.97\n",
      "Epoch 116, Validation Loss: 22.20\n",
      "Epoch 117, Validation Loss: 22.21\n",
      "Epoch 118, Validation Loss: 22.19\n",
      "Epoch 119, Validation Loss: 22.22\n",
      "Epoch 120, Validation Loss: 22.80\n",
      "Epoch 121, Validation Loss: 22.11\n",
      "Epoch 122, Validation Loss: 22.69\n",
      "Epoch 123, Validation Loss: 22.32\n",
      "Epoch 124, Validation Loss: 22.69\n",
      "Early stopping at epoch 124\n",
      "Best model loaded.\n",
      "Training complete.\n",
      "The training time is 109.74 sec.\n"
     ]
    }
   ],
   "source": [
    "from src.problem.neuromancer.trainer import trainer\n",
    "# training\n",
    "epochs = 200                    # number of training epochs\n",
    "warmup = 20                     # number of epochs to wait before enacting early stopping policy\n",
    "patience = 20                   # number of epochs with no improvement in eval metric to allow before early stopping\n",
    "optimizer = torch.optim.AdamW(components.parameters(), lr=lr)\n",
    "# create a trainer for the problem\n",
    "my_trainer = trainer(components, loss_fn, optimizer, epochs, patience, warmup, device=\"cuda\")\n",
    "# training for the rounding problem\n",
    "my_trainer.train(loader_train, loader_dev)"
   ]
  },
  {
   "cell_type": "code",
   "execution_count": 21,
   "id": "188c6d47-2e52-418c-ba52-33fed3701736",
   "metadata": {},
   "outputs": [
    {
     "name": "stderr",
     "output_type": "stream",
     "text": [
      "100%|███████████████████████████████████████████████████████████████████████████████| 100/100 [00:00<00:00, 274.61it/s]\n"
     ]
    },
    {
     "name": "stdout",
     "output_type": "stream",
     "text": [
      "          Obj Val  Constraints Viol  Elapsed Time\n",
      "count  100.000000        100.000000    100.000000\n",
      "mean    64.757818          0.418674      0.000861\n",
      "std     15.420400          0.582495      0.000468\n",
      "min     33.038987          0.000000      0.000000\n",
      "25%     54.041650          0.000000      0.000998\n",
      "50%     62.645760          0.000000      0.001000\n",
      "75%     72.244999          0.991003      0.001003\n",
      "max    123.427328          2.942806      0.002140\n",
      "Number of infeasible solution: 49\n"
     ]
    }
   ],
   "source": [
    "from src.heuristic import naive_round\n",
    "params, sols, objvals, conviols, elapseds = [], [], [], [], []\n",
    "for p, a in tqdm(list(zip(p_test, a_test))):\n",
    "    # data point as tensor\n",
    "    datapoints = {\"p\": torch.tensor(np.array([p]), dtype=torch.float32).to(\"cuda\"), \n",
    "                  \"a\": torch.tensor(np.array([a]), dtype=torch.float32).to(\"cuda\"),\n",
    "                  \"name\": \"test\"}\n",
    "    # infer\n",
    "    components.eval()\n",
    "    tick = time.time()\n",
    "    with torch.no_grad():\n",
    "        for comp in components:\n",
    "            datapoints.update(comp(datapoints))\n",
    "    tock = time.time()\n",
    "    # assign params\n",
    "    model.set_param_val({\"p\":p, \"a\":a})\n",
    "    # assign vars\n",
    "    x = datapoints[\"x\"]\n",
    "    for i in range(num_blocks*2):\n",
    "        model.vars[\"x\"][i].value = x[0,i].item()\n",
    "    # get solutions\n",
    "    xval_rel, _ = model.get_val()\n",
    "    xval, objval = naive_round(xval_rel, model)\n",
    "    params.append(list(p)+list(a))\n",
    "    sols.append(list(list(xval.values())[0].values()))\n",
    "    objvals.append(objval)\n",
    "    conviols.append(sum(model.cal_violation()))\n",
    "    elapseds.append(tock - tick)\n",
    "df = pd.DataFrame({\"Param\":params, \"Sol\":sols, \"Obj Val\": objvals, \"Constraints Viol\": conviols, \"Elapsed Time\": elapseds})\n",
    "time.sleep(1)\n",
    "df.to_csv(\"result/rb_pr_50-10.csv\")\n",
    "print(df.describe())\n",
    "print(\"Number of infeasible solution: {}\".format(np.sum(df[\"Constraints Viol\"] > 0)))"
   ]
  },
  {
   "cell_type": "code",
   "execution_count": null,
   "id": "db2a9d85-7f01-4468-a6ea-ae00b01770a2",
   "metadata": {},
   "outputs": [],
   "source": []
  }
 ],
 "metadata": {
  "kernelspec": {
   "display_name": "Python 3 (ipykernel)",
   "language": "python",
   "name": "python3"
  },
  "language_info": {
   "codemirror_mode": {
    "name": "ipython",
    "version": 3
   },
   "file_extension": ".py",
   "mimetype": "text/x-python",
   "name": "python",
   "nbconvert_exporter": "python",
   "pygments_lexer": "ipython3",
   "version": "3.10.13"
  }
 },
 "nbformat": 4,
 "nbformat_minor": 5
}
