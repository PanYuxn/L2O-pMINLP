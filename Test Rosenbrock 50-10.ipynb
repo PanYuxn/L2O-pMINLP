{
 "cells": [
  {
   "cell_type": "code",
   "execution_count": 2,
   "id": "be61b914-e1af-43b9-9766-5092593f92dd",
   "metadata": {},
   "outputs": [],
   "source": [
    "import time\n",
    "\n",
    "import numpy as np\n",
    "import pandas as pd\n",
    "import torch\n",
    "from torch import nn\n",
    "from tqdm import tqdm\n",
    "\n",
    "# random seed\n",
    "np.random.seed(42)\n",
    "torch.manual_seed(42)\n",
    "torch.cuda.manual_seed(42)"
   ]
  },
  {
   "cell_type": "code",
   "execution_count": 3,
   "id": "35fe4527-9dbf-48f0-bfb3-62cda59092aa",
   "metadata": {},
   "outputs": [],
   "source": [
    "# turn off warning\n",
    "import logging\n",
    "logging.getLogger('pyomo.core').setLevel(logging.ERROR)"
   ]
  },
  {
   "cell_type": "markdown",
   "id": "c5560447-da9d-4cbe-aab4-538aa11c8ee8",
   "metadata": {},
   "source": [
    "## Problem Setting"
   ]
  },
  {
   "cell_type": "code",
   "execution_count": 4,
   "id": "52363c72-0d20-4c08-bd00-0f62aa73686c",
   "metadata": {},
   "outputs": [],
   "source": [
    "# init\n",
    "steepness = 50    # steepness factor\n",
    "num_blocks = 10   # number of expression blocks\n",
    "num_data = 5000   # number of data\n",
    "test_size = 1000  # number of test size\n",
    "val_size = 1000   # number of validation size\n",
    "train_size = num_data - test_size - val_size"
   ]
  },
  {
   "cell_type": "code",
   "execution_count": 5,
   "id": "21938c00-d73f-4255-bc7c-bce6e8034cf8",
   "metadata": {},
   "outputs": [],
   "source": [
    "# parameters as input data\n",
    "p_low, p_high = 1.0, 8.0\n",
    "a_low, a_high = 0.5, 4.5\n",
    "p_train = np.random.uniform(p_low, p_high, (train_size, 1)).astype(np.float32)\n",
    "p_test  = np.random.uniform(p_low, p_high, (test_size, 1)).astype(np.float32)\n",
    "p_dev   = np.random.uniform(p_low, p_high, (val_size, 1)).astype(np.float32)\n",
    "a_train = np.random.uniform(a_low, a_high, (train_size, num_blocks)).astype(np.float32)\n",
    "a_test  = np.random.uniform(a_low, a_high, (test_size, num_blocks)).astype(np.float32)\n",
    "a_dev   = np.random.uniform(a_low, a_high, (val_size, num_blocks)).astype(np.float32)"
   ]
  },
  {
   "cell_type": "code",
   "execution_count": 6,
   "id": "5ecf81ff-627d-444d-8d90-121c7e20c217",
   "metadata": {},
   "outputs": [],
   "source": [
    "# nm datasets\n",
    "from neuromancer.dataset import DictDataset\n",
    "data_train = DictDataset({\"p\":p_train, \"a\":a_train}, name=\"train\")\n",
    "data_test = DictDataset({\"p\":p_test, \"a\":a_test}, name=\"test\")\n",
    "data_dev = DictDataset({\"p\":p_dev, \"a\":a_dev}, name=\"dev\")\n",
    "# torch dataloaders\n",
    "from torch.utils.data import DataLoader\n",
    "batch_size = 32\n",
    "loader_train = DataLoader(data_train, batch_size, num_workers=0, collate_fn=data_train.collate_fn, shuffle=True)\n",
    "loader_test = DataLoader(data_test, batch_size, num_workers=0, collate_fn=data_test.collate_fn, shuffle=False)\n",
    "loader_dev = DataLoader(data_dev, batch_size, num_workers=0, collate_fn=data_dev.collate_fn, shuffle=False)"
   ]
  },
  {
   "cell_type": "markdown",
   "id": "16ec0a67-54ea-4a9d-b037-0c7c9390e3f9",
   "metadata": {},
   "source": [
    "## Exact Solver"
   ]
  },
  {
   "cell_type": "code",
   "execution_count": 7,
   "id": "50aaabd7-90ed-4628-a1da-c98777868d92",
   "metadata": {},
   "outputs": [],
   "source": [
    "from src.problem import msRosenbrock\n",
    "model = msRosenbrock(steepness, num_blocks, timelimit=60)"
   ]
  },
  {
   "cell_type": "code",
   "execution_count": 7,
   "id": "cf9a1f8e-f2c1-4013-a97f-f374b389515d",
   "metadata": {},
   "outputs": [
    {
     "name": "stderr",
     "output_type": "stream",
     "text": [
      "100%|██████████████████████████████████████████████████████████████████████████████| 100/100 [1:40:13<00:00, 60.14s/it]\n"
     ]
    },
    {
     "name": "stdout",
     "output_type": "stream",
     "text": [
      "          Obj Val  Constraints Viol  Elapsed Time\n",
      "count  100.000000             100.0    100.000000\n",
      "mean    56.299994               0.0     60.135377\n",
      "std     29.319991               0.0      0.337887\n",
      "min     14.076352               0.0     59.336500\n",
      "25%     36.253682               0.0     59.941961\n",
      "50%     54.563601               0.0     60.075549\n",
      "75%     71.377076               0.0     60.252838\n",
      "max    193.248342               0.0     61.158490\n",
      "Number of infeasible solution: 0\n"
     ]
    }
   ],
   "source": [
    "params, sols, objvals, conviols, elapseds = [], [], [], [], []\n",
    "for p, a in tqdm(list(zip(p_test, a_test))[:100]):\n",
    "    # set params\n",
    "    model.set_param_val({\"p\":p, \"a\":a})\n",
    "    # solve\n",
    "    tick = time.time()\n",
    "    xval, objval = model.solve(\"scip\")\n",
    "    tock = time.time()\n",
    "    # eval\n",
    "    params.append(list(p)+list(a))\n",
    "    sols.append(list(list(xval.values())[0].values()))\n",
    "    objvals.append(objval)\n",
    "    conviols.append(sum(model.cal_violation()))\n",
    "    elapseds.append(tock - tick)\n",
    "df = pd.DataFrame({\"Param\":params, \"Sol\":sols, \"Obj Val\": objvals, \"Constraints Viol\": conviols, \"Elapsed Time\": elapseds})\n",
    "df.to_csv(\"result/rb_exact_50-10.csv\")\n",
    "df = df.iloc[:100]\n",
    "time.sleep(1)\n",
    "print(df.describe())\n",
    "print(\"Number of infeasible solution: {}\".format(np.sum(df[\"Constraints Viol\"] > 0)))\n",
    "print(\"Number of None values: \", df[\"Sol\"].isna().sum())"
   ]
  },
  {
   "cell_type": "markdown",
   "id": "b131a321-ce7c-4a17-868b-14fc1c173b45",
   "metadata": {},
   "source": [
    "## Heuristic - Round"
   ]
  },
  {
   "cell_type": "code",
   "execution_count": 8,
   "id": "cc1a78ef-21ea-4713-ae6a-d302e9ddacd2",
   "metadata": {},
   "outputs": [],
   "source": [
    "from src.heuristic import naive_round"
   ]
  },
  {
   "cell_type": "code",
   "execution_count": 9,
   "id": "3851598f-db94-47f3-9c2d-3571aac99e9f",
   "metadata": {},
   "outputs": [
    {
     "name": "stderr",
     "output_type": "stream",
     "text": [
      "100%|██████████████████████████████████████████████████████████████████████████████| 1000/1000 [20:05<00:00,  1.21s/it]\n"
     ]
    },
    {
     "name": "stdout",
     "output_type": "stream",
     "text": [
      "          Obj Val  Constraints Viol  Elapsed Time\n",
      "count  100.000000             100.0    100.000000\n",
      "mean    49.669134               0.0      1.146176\n",
      "std     15.012969               0.0      0.269541\n",
      "min     24.588444               0.0      0.799154\n",
      "25%     39.523352               0.0      0.987704\n",
      "50%     46.571316               0.0      1.124284\n",
      "75%     59.712077               0.0      1.241595\n",
      "max     95.044551               0.0      2.107445\n",
      "Number of infeasible solution: 0\n"
     ]
    }
   ],
   "source": [
    "params, sols, objvals, conviols, elapseds = [], [], [], [], []\n",
    "for p, a in tqdm(list(zip(p_test, a_test))):\n",
    "    # set params\n",
    "    model.set_param_val({\"p\":p, \"a\":a})\n",
    "    # relax\n",
    "    model_rel = model.relax()\n",
    "    # solve\n",
    "    tick = time.time()\n",
    "    xval_rel, _ = model_rel.solve(\"scip\")\n",
    "    xval, objval = naive_round(xval_rel, model)\n",
    "    tock = time.time()\n",
    "    # eval\n",
    "    params.append(list(p)+list(a))\n",
    "    sols.append(list(list(xval.values())[0].values()))\n",
    "    objvals.append(objval)\n",
    "    conviols.append(sum(model.cal_violation()))\n",
    "    elapseds.append(tock - tick)\n",
    "df = pd.DataFrame({\"Param\":params, \"Sol\":sols, \"Obj Val\": objvals, \"Constraints Viol\": conviols, \"Elapsed Time\": elapseds})\n",
    "time.sleep(1)\n",
    "df.to_csv(\"result/rb_heur_rnd_50-10.csv\")\n",
    "df = df.iloc[:100]\n",
    "time.sleep(1)\n",
    "print(df.describe())\n",
    "print(\"Number of infeasible solution: {}\".format(np.sum(df[\"Constraints Viol\"] > 0)))"
   ]
  },
  {
   "cell_type": "code",
   "execution_count": 8,
   "id": "54c118d5-2cc8-4aec-8600-2c2ad9fe3b80",
   "metadata": {},
   "outputs": [
    {
     "name": "stdout",
     "output_type": "stream",
     "text": [
      "          Obj Val  Constraints Viol  Elapsed Time\n",
      "count  100.000000             100.0    100.000000\n",
      "mean    49.669134               0.0      1.146176\n",
      "std     15.012969               0.0      0.269541\n",
      "min     24.588444               0.0      0.799154\n",
      "25%     39.523352               0.0      0.987704\n",
      "50%     46.571316               0.0      1.124284\n",
      "75%     59.712077               0.0      1.241595\n",
      "max     95.044551               0.0      2.107445\n",
      "Number of infeasible solution: 0\n"
     ]
    }
   ],
   "source": [
    "df = pd.read_csv(\"result/rb_heur_rnd_50-10.csv\", index_col=0).iloc[:100]\n",
    "print(df.describe())\n",
    "print(\"Number of infeasible solution: {}\".format(np.sum(df[\"Constraints Viol\"] > 0)+df[\"Sol\"].isna().sum()))"
   ]
  },
  {
   "cell_type": "markdown",
   "id": "96304fbd-08f5-4be7-a81e-83c85332029c",
   "metadata": {},
   "source": [
    "## Heuristic - N1"
   ]
  },
  {
   "cell_type": "code",
   "execution_count": 7,
   "id": "356187af-e02d-4478-bf78-ada6a2e1b94b",
   "metadata": {},
   "outputs": [],
   "source": [
    "model_heur = model.first_solution_heuristic(nodes_limit=1)"
   ]
  },
  {
   "cell_type": "code",
   "execution_count": 8,
   "id": "f4c7fc52-cbbc-4414-bf1d-316d65c8db5b",
   "metadata": {},
   "outputs": [
    {
     "name": "stderr",
     "output_type": "stream",
     "text": [
      "100%|██████████████████████████████████████████████████████████████████████████████| 1000/1000 [02:48<00:00,  5.92it/s]\n"
     ]
    },
    {
     "name": "stdout",
     "output_type": "stream",
     "text": [
      "           Obj Val  Constraints Viol  Elapsed Time\n",
      "count  1000.000000            1000.0   1000.000000\n",
      "mean     86.607460               0.0      0.167827\n",
      "std      33.153481               0.0      0.056185\n",
      "min      18.894174               0.0      0.092560\n",
      "25%      61.266989               0.0      0.135658\n",
      "50%      80.064215               0.0      0.153602\n",
      "75%     108.016210               0.0      0.186170\n",
      "max     197.637394               0.0      0.763410\n",
      "Number of infeasible solution: 0\n"
     ]
    }
   ],
   "source": [
    "params, sols, objvals, conviols, elapseds = [], [], [], [], []\n",
    "for p, a in tqdm(list(zip(p_test, a_test))):\n",
    "    # set params\n",
    "    model_heur.set_param_val({\"p\":p, \"a\":a})\n",
    "    # solve\n",
    "    tick = time.time()\n",
    "    xval, objval = model_heur.solve(\"scip\")\n",
    "    tock = time.time()\n",
    "    # eval\n",
    "    params.append(list(p)+list(a))\n",
    "    sols.append(list(list(xval.values())[0].values()))\n",
    "    objvals.append(objval)\n",
    "    conviols.append(sum(model_heur.cal_violation()))\n",
    "    elapseds.append(tock - tick)\n",
    "df = pd.DataFrame({\"Param\":params, \"Sol\":sols, \"Obj Val\": objvals, \"Constraints Viol\": conviols, \"Elapsed Time\": elapseds})\n",
    "time.sleep(1)\n",
    "print(df.describe())\n",
    "print(\"Number of infeasible solution: {}\".format(np.sum(df[\"Constraints Viol\"] > 0)))\n",
    "df.to_csv(\"result/rb_heur_n1_50-10.csv\")"
   ]
  },
  {
   "cell_type": "code",
   "execution_count": 10,
   "id": "beb037ba-c991-4bb4-8fa3-1e7bdcffecb3",
   "metadata": {},
   "outputs": [
    {
     "name": "stdout",
     "output_type": "stream",
     "text": [
      "          Obj Val  Constraints Viol  Elapsed Time\n",
      "count  100.000000             100.0    100.000000\n",
      "mean    88.140343               0.0      0.189450\n",
      "std     34.004166               0.0      0.078168\n",
      "min     32.800968               0.0      0.121152\n",
      "25%     62.629849               0.0      0.141907\n",
      "50%     79.042608               0.0      0.170548\n",
      "75%    109.904937               0.0      0.207376\n",
      "max    193.248342               0.0      0.763410\n",
      "Number of infeasible solution: 0\n"
     ]
    }
   ],
   "source": [
    "df = pd.read_csv(\"result/rb_heur_n1_50-10.csv\", index_col=0).iloc[:100]\n",
    "print(df.describe())\n",
    "print(\"Number of infeasible solution: {}\".format(np.sum(df[\"Constraints Viol\"] > 0)))"
   ]
  },
  {
   "cell_type": "markdown",
   "id": "9819c60c-df5f-41c6-ae83-888c75aa78d7",
   "metadata": {},
   "source": [
    "## Learnable Rounding"
   ]
  },
  {
   "cell_type": "code",
   "execution_count": 9,
   "id": "6a4fb3e2-9c47-4c10-8116-e94be18ea59c",
   "metadata": {},
   "outputs": [],
   "source": [
    "# random seed\n",
    "np.random.seed(42)\n",
    "torch.manual_seed(42)\n",
    "torch.cuda.manual_seed(42)"
   ]
  },
  {
   "cell_type": "code",
   "execution_count": 10,
   "id": "536d2d58-67ba-408a-b72a-7c5bd54a5ff4",
   "metadata": {},
   "outputs": [],
   "source": [
    "# hyperparameters\n",
    "penalty_weight = 60   # weight of constraint violation penealty\n",
    "hlayers_sol = 4       # number of hidden layers for solution mapping\n",
    "hlayers_rnd = 4       # number of hidden layers for solution mapping\n",
    "hsize = 128           # width of hidden layers for solution mapping\n",
    "lr = 1e-3             # learning rate"
   ]
  },
  {
   "cell_type": "code",
   "execution_count": 11,
   "id": "fee1241e-e53a-4cbb-927a-edcdb3537303",
   "metadata": {},
   "outputs": [],
   "source": [
    "# set problem\n",
    "import neuromancer as nm\n",
    "from src.problem import nmRosenbrock\n",
    "from src.func.layer import netFC\n",
    "from src.func import roundGumbelModel\n",
    "# build neural architecture for the solution map\n",
    "func = nm.modules.blocks.MLP(insize=num_blocks+1, outsize=2*num_blocks, bias=True,\n",
    "                             linear_map=nm.slim.maps[\"linear\"],\n",
    "                             nonlin=nn.ReLU, hsizes=[hsize]*hlayers_sol)\n",
    "smap = nm.system.Node(func, [\"p\", \"a\"], [\"x\"], name=\"smap\")\n",
    "# define rounding model\n",
    "layers_rnd = netFC(input_dim=3*num_blocks+1, hidden_dims=[hsize]*hlayers_rnd, output_dim=2*num_blocks)\n",
    "rnd = roundGumbelModel(layers=layers_rnd, param_keys=[\"p\", \"a\"], var_keys=[\"x\"],  output_keys=[\"x_rnd\"], \n",
    "                       int_ind=model.int_ind, continuous_update=True, name=\"round\")\n",
    "# build neuromancer problem for rounding\n",
    "components = nn.ModuleList([smap, rnd]).to(\"cuda\")\n",
    "loss_fn = nmRosenbrock([\"p\", \"a\", \"x_rnd\"], steepness, num_blocks, penalty_weight)"
   ]
  },
  {
   "cell_type": "code",
   "execution_count": 12,
   "id": "e4f10263-5f69-4288-a4e8-8be83929c8d6",
   "metadata": {},
   "outputs": [
    {
     "name": "stdout",
     "output_type": "stream",
     "text": [
      "Epoch 0, Validation Loss: 1704.93\n",
      "Epoch 1, Validation Loss: 387.71\n",
      "Epoch 2, Validation Loss: 192.06\n",
      "Epoch 3, Validation Loss: 154.03\n",
      "Epoch 4, Validation Loss: 119.63\n",
      "Epoch 5, Validation Loss: 100.79\n",
      "Epoch 6, Validation Loss: 97.23\n",
      "Epoch 7, Validation Loss: 90.80\n",
      "Epoch 8, Validation Loss: 73.20\n",
      "Epoch 9, Validation Loss: 80.31\n",
      "Epoch 10, Validation Loss: 77.94\n",
      "Epoch 11, Validation Loss: 68.36\n",
      "Epoch 12, Validation Loss: 77.64\n",
      "Epoch 13, Validation Loss: 74.17\n",
      "Epoch 14, Validation Loss: 67.03\n",
      "Epoch 15, Validation Loss: 65.92\n",
      "Epoch 16, Validation Loss: 65.04\n",
      "Epoch 17, Validation Loss: 58.32\n",
      "Epoch 18, Validation Loss: 60.63\n",
      "Epoch 19, Validation Loss: 64.26\n",
      "Epoch 20, Validation Loss: 74.40\n",
      "Epoch 21, Validation Loss: 75.13\n",
      "Epoch 22, Validation Loss: 68.91\n",
      "Epoch 23, Validation Loss: 64.21\n",
      "Epoch 24, Validation Loss: 58.74\n",
      "Epoch 25, Validation Loss: 60.76\n",
      "Epoch 26, Validation Loss: 64.89\n",
      "Epoch 27, Validation Loss: 54.73\n",
      "Epoch 28, Validation Loss: 61.64\n",
      "Epoch 29, Validation Loss: 61.32\n",
      "Epoch 30, Validation Loss: 58.24\n",
      "Epoch 31, Validation Loss: 55.93\n",
      "Epoch 32, Validation Loss: 69.88\n",
      "Epoch 33, Validation Loss: 64.33\n",
      "Epoch 34, Validation Loss: 62.65\n",
      "Epoch 35, Validation Loss: 57.26\n",
      "Epoch 36, Validation Loss: 63.41\n",
      "Epoch 37, Validation Loss: 52.64\n",
      "Epoch 38, Validation Loss: 54.51\n",
      "Epoch 39, Validation Loss: 55.31\n",
      "Epoch 40, Validation Loss: 50.42\n",
      "Epoch 41, Validation Loss: 60.59\n",
      "Epoch 42, Validation Loss: 54.45\n",
      "Epoch 43, Validation Loss: 65.24\n",
      "Epoch 44, Validation Loss: 58.55\n",
      "Epoch 45, Validation Loss: 71.69\n",
      "Epoch 46, Validation Loss: 60.11\n",
      "Epoch 47, Validation Loss: 60.25\n",
      "Epoch 48, Validation Loss: 62.35\n",
      "Epoch 49, Validation Loss: 62.72\n",
      "Epoch 50, Validation Loss: 77.94\n",
      "Epoch 51, Validation Loss: 63.10\n",
      "Epoch 52, Validation Loss: 59.56\n",
      "Epoch 53, Validation Loss: 60.05\n",
      "Epoch 54, Validation Loss: 49.28\n",
      "Epoch 55, Validation Loss: 55.38\n",
      "Epoch 56, Validation Loss: 67.04\n",
      "Epoch 57, Validation Loss: 52.03\n",
      "Epoch 58, Validation Loss: 54.16\n",
      "Epoch 59, Validation Loss: 58.90\n",
      "Epoch 60, Validation Loss: 55.60\n",
      "Epoch 61, Validation Loss: 76.90\n",
      "Epoch 62, Validation Loss: 67.27\n",
      "Epoch 63, Validation Loss: 65.64\n",
      "Epoch 64, Validation Loss: 60.14\n",
      "Epoch 65, Validation Loss: 59.21\n",
      "Epoch 66, Validation Loss: 54.20\n",
      "Epoch 67, Validation Loss: 103.07\n",
      "Epoch 68, Validation Loss: 60.93\n",
      "Epoch 69, Validation Loss: 61.68\n",
      "Epoch 70, Validation Loss: 65.40\n",
      "Epoch 71, Validation Loss: 56.06\n",
      "Epoch 72, Validation Loss: 62.16\n",
      "Epoch 73, Validation Loss: 57.23\n",
      "Early stopping at epoch 73\n",
      "Best model loaded.\n",
      "Training complete.\n"
     ]
    }
   ],
   "source": [
    "from src.problem.neuromancer.trainer import trainer\n",
    "# training\n",
    "epochs = 200                    # number of training epochs\n",
    "warmup = 20                     # number of epochs to wait before enacting early stopping policy\n",
    "patience = 20                   # number of epochs with no improvement in eval metric to allow before early stopping\n",
    "optimizer = torch.optim.AdamW(components.parameters(), lr=lr)\n",
    "# create a trainer for the problem\n",
    "my_trainer = trainer(components, loss_fn, optimizer, epochs, patience, warmup, device=\"cuda\")\n",
    "# training for the rounding problem\n",
    "my_trainer.train(loader_train, loader_dev)"
   ]
  },
  {
   "cell_type": "code",
   "execution_count": 13,
   "id": "3e835084-eb75-45d9-bcbd-5fb4c613fb41",
   "metadata": {},
   "outputs": [
    {
     "name": "stderr",
     "output_type": "stream",
     "text": [
      "100%|█████████████████████████████████████████████████████████████████████████████| 1000/1000 [00:04<00:00, 200.98it/s]\n"
     ]
    },
    {
     "name": "stdout",
     "output_type": "stream",
     "text": [
      "           Obj Val  Constraints Viol  Elapsed Time\n",
      "count  1000.000000       1000.000000   1000.000000\n",
      "mean     48.822808          0.002931      0.002664\n",
      "std      31.285391          0.085363      0.000712\n",
      "min       5.257703          0.000000      0.001000\n",
      "25%      25.840578          0.000000      0.002002\n",
      "50%      40.305008          0.000000      0.002516\n",
      "75%      64.697848          0.000000      0.003002\n",
      "max     217.889724          2.692807      0.006518\n",
      "Number of infeasible solution: 3\n"
     ]
    }
   ],
   "source": [
    "params, sols, objvals, conviols, elapseds = [], [], [], [], []\n",
    "for p, a in tqdm(list(zip(p_test, a_test))):\n",
    "    # data point as tensor\n",
    "    datapoints = {\"p\": torch.tensor(np.array([p]), dtype=torch.float32).to(\"cuda\"), \n",
    "                  \"a\": torch.tensor(np.array([a]), dtype=torch.float32).to(\"cuda\"),\n",
    "                  \"name\": \"test\"}\n",
    "    # infer\n",
    "    components.eval()\n",
    "    tick = time.time()\n",
    "    with torch.no_grad():\n",
    "        for comp in components:\n",
    "            datapoints.update(comp(datapoints))\n",
    "    tock = time.time()\n",
    "    # assign params\n",
    "    model.set_param_val({\"p\":p, \"a\":a})\n",
    "    # assign vars\n",
    "    x = datapoints[\"x_rnd\"]\n",
    "    for i in range(2*num_blocks):\n",
    "        model.vars[\"x\"][i].value = x[0,i].item()\n",
    "    # get solutions\n",
    "    xval, objval = model.get_val()    \n",
    "    params.append(list(p))\n",
    "    sols.append(list(list(xval.values())[0].values()))\n",
    "    objvals.append(objval)\n",
    "    conviols.append(sum(model.cal_violation()))\n",
    "    elapseds.append(tock - tick)\n",
    "df = pd.DataFrame({\"Param\":params, \"Sol\":sols, \"Obj Val\": objvals, \"Constraints Viol\": conviols, \"Elapsed Time\": elapseds})\n",
    "time.sleep(1)\n",
    "print(df.describe())\n",
    "print(\"Number of infeasible solution: {}\".format(np.sum(df[\"Constraints Viol\"] > 0)))\n",
    "df.to_csv(\"result/rb_lr_50-10.csv\")"
   ]
  },
  {
   "cell_type": "code",
   "execution_count": 11,
   "id": "a3d601ad-f479-43ef-b226-c8d4dde19b37",
   "metadata": {},
   "outputs": [
    {
     "name": "stdout",
     "output_type": "stream",
     "text": [
      "          Obj Val  Constraints Viol  Elapsed Time\n",
      "count  100.000000             100.0    100.000000\n",
      "mean    48.218733               0.0      0.002845\n",
      "std     37.224549               0.0      0.000796\n",
      "min     10.719886               0.0      0.001000\n",
      "25%     23.261847               0.0      0.002005\n",
      "50%     37.672530               0.0      0.003000\n",
      "75%     59.583418               0.0      0.003009\n",
      "max    217.889724               0.0      0.006518\n",
      "Number of infeasible solution: 0\n"
     ]
    }
   ],
   "source": [
    "df = pd.read_csv(\"result/rb_lr_50-10.csv\", index_col=0).iloc[:100]\n",
    "print(df.describe())\n",
    "print(\"Number of infeasible solution: {}\".format(np.sum(df[\"Constraints Viol\"] > 0)))"
   ]
  },
  {
   "cell_type": "markdown",
   "id": "2dbf8a72-29b9-49c4-b3c1-0d68895c1c1f",
   "metadata": {},
   "source": [
    "## Learnable Threshold"
   ]
  },
  {
   "cell_type": "code",
   "execution_count": 14,
   "id": "36c57dbb-8dee-4976-8922-82a155fe0128",
   "metadata": {},
   "outputs": [],
   "source": [
    "# random seed\n",
    "np.random.seed(42)\n",
    "torch.manual_seed(42)\n",
    "torch.cuda.manual_seed(42)"
   ]
  },
  {
   "cell_type": "code",
   "execution_count": 15,
   "id": "d46b9817-87ac-4af0-b387-b10c9a4998f4",
   "metadata": {},
   "outputs": [],
   "source": [
    "# hyperparameters\n",
    "penalty_weight = 60   # weight of constraint violation penealty\n",
    "hlayers_sol = 4       # number of hidden layers for solution mapping\n",
    "hlayers_rnd = 4       # number of hidden layers for solution mapping\n",
    "hsize = 128           # width of hidden layers for solution mapping\n",
    "lr = 1e-3             # learning rate"
   ]
  },
  {
   "cell_type": "code",
   "execution_count": 16,
   "id": "fa8b147f-39c8-4eb7-bb95-93dd8e4cb1cf",
   "metadata": {},
   "outputs": [],
   "source": [
    "# set problem\n",
    "import neuromancer as nm\n",
    "from src.problem import nmRosenbrock\n",
    "from src.func.layer import netFC\n",
    "from src.func import roundThresholdModel\n",
    "# build neural architecture for the solution map\n",
    "func = nm.modules.blocks.MLP(insize=num_blocks+1, outsize=2*num_blocks, bias=True,\n",
    "                             linear_map=nm.slim.maps[\"linear\"],\n",
    "                             nonlin=nn.ReLU, hsizes=[hsize]*hlayers_sol)\n",
    "smap = nm.system.Node(func, [\"p\", \"a\"], [\"x\"], name=\"smap\")\n",
    "# define rounding model\n",
    "layers_rnd = netFC(input_dim=3*num_blocks+1, hidden_dims=[hsize]*hlayers_rnd, output_dim=2*num_blocks)\n",
    "rnd = roundThresholdModel(layers=layers_rnd, param_keys=[\"p\", \"a\"], var_keys=[\"x\"],  output_keys=[\"x_rnd\"], \n",
    "                          int_ind=model.int_ind, continuous_update=True, name=\"round\")\n",
    "# build neuromancer problem for rounding\n",
    "components = nn.ModuleList([smap, rnd]).to(\"cuda\")\n",
    "loss_fn = nmRosenbrock([\"p\", \"a\", \"x_rnd\"], steepness, num_blocks, penalty_weight)"
   ]
  },
  {
   "cell_type": "code",
   "execution_count": 17,
   "id": "c6f5bb17-8c3c-4dcd-952d-caa1d7c4c4fa",
   "metadata": {},
   "outputs": [
    {
     "name": "stdout",
     "output_type": "stream",
     "text": [
      "Epoch 0, Validation Loss: 1410.69\n",
      "Epoch 1, Validation Loss: 235.52\n",
      "Epoch 2, Validation Loss: 106.07\n",
      "Epoch 3, Validation Loss: 85.14\n",
      "Epoch 4, Validation Loss: 94.56\n",
      "Epoch 5, Validation Loss: 83.00\n",
      "Epoch 6, Validation Loss: 79.81\n",
      "Epoch 7, Validation Loss: 78.99\n",
      "Epoch 8, Validation Loss: 78.03\n",
      "Epoch 9, Validation Loss: 81.62\n",
      "Epoch 10, Validation Loss: 69.11\n",
      "Epoch 11, Validation Loss: 70.51\n",
      "Epoch 12, Validation Loss: 72.32\n",
      "Epoch 13, Validation Loss: 69.13\n",
      "Epoch 14, Validation Loss: 69.14\n",
      "Epoch 15, Validation Loss: 67.26\n",
      "Epoch 16, Validation Loss: 73.56\n",
      "Epoch 17, Validation Loss: 71.02\n",
      "Epoch 18, Validation Loss: 69.29\n",
      "Epoch 19, Validation Loss: 67.08\n",
      "Epoch 20, Validation Loss: 66.12\n",
      "Epoch 21, Validation Loss: 71.69\n",
      "Epoch 22, Validation Loss: 65.39\n",
      "Epoch 23, Validation Loss: 68.40\n",
      "Epoch 24, Validation Loss: 67.37\n",
      "Epoch 25, Validation Loss: 72.51\n",
      "Epoch 26, Validation Loss: 66.58\n",
      "Epoch 27, Validation Loss: 74.93\n",
      "Epoch 28, Validation Loss: 67.20\n",
      "Epoch 29, Validation Loss: 68.08\n",
      "Epoch 30, Validation Loss: 62.66\n",
      "Epoch 31, Validation Loss: 70.26\n",
      "Epoch 32, Validation Loss: 72.48\n",
      "Epoch 33, Validation Loss: 66.24\n",
      "Epoch 34, Validation Loss: 65.23\n",
      "Epoch 35, Validation Loss: 70.64\n",
      "Epoch 36, Validation Loss: 66.65\n",
      "Epoch 37, Validation Loss: 77.75\n",
      "Epoch 38, Validation Loss: 68.61\n",
      "Epoch 39, Validation Loss: 63.50\n",
      "Epoch 40, Validation Loss: 66.05\n",
      "Epoch 41, Validation Loss: 68.83\n",
      "Epoch 42, Validation Loss: 62.92\n",
      "Epoch 43, Validation Loss: 61.81\n",
      "Epoch 44, Validation Loss: 68.71\n",
      "Epoch 45, Validation Loss: 65.11\n",
      "Epoch 46, Validation Loss: 62.52\n",
      "Epoch 47, Validation Loss: 75.66\n",
      "Epoch 48, Validation Loss: 61.59\n",
      "Epoch 49, Validation Loss: 66.11\n",
      "Epoch 50, Validation Loss: 68.28\n",
      "Epoch 51, Validation Loss: 61.06\n",
      "Epoch 52, Validation Loss: 72.39\n",
      "Epoch 53, Validation Loss: 70.62\n",
      "Epoch 54, Validation Loss: 60.85\n",
      "Epoch 55, Validation Loss: 76.90\n",
      "Epoch 56, Validation Loss: 63.92\n",
      "Epoch 57, Validation Loss: 75.96\n",
      "Epoch 58, Validation Loss: 75.86\n",
      "Epoch 59, Validation Loss: 65.80\n",
      "Epoch 60, Validation Loss: 66.43\n",
      "Epoch 61, Validation Loss: 62.46\n",
      "Epoch 62, Validation Loss: 66.53\n",
      "Epoch 63, Validation Loss: 63.88\n",
      "Epoch 64, Validation Loss: 60.55\n",
      "Epoch 65, Validation Loss: 71.25\n",
      "Epoch 66, Validation Loss: 78.71\n",
      "Epoch 67, Validation Loss: 62.43\n",
      "Epoch 68, Validation Loss: 64.77\n",
      "Epoch 69, Validation Loss: 68.65\n",
      "Epoch 70, Validation Loss: 66.63\n",
      "Epoch 71, Validation Loss: 60.71\n",
      "Epoch 72, Validation Loss: 71.02\n",
      "Epoch 73, Validation Loss: 66.12\n",
      "Epoch 74, Validation Loss: 72.81\n",
      "Epoch 75, Validation Loss: 63.70\n",
      "Epoch 76, Validation Loss: 70.41\n",
      "Epoch 77, Validation Loss: 61.08\n",
      "Epoch 78, Validation Loss: 62.99\n",
      "Epoch 79, Validation Loss: 64.14\n",
      "Epoch 80, Validation Loss: 70.99\n",
      "Epoch 81, Validation Loss: 65.07\n",
      "Epoch 82, Validation Loss: 61.35\n",
      "Epoch 83, Validation Loss: 62.32\n",
      "Early stopping at epoch 83\n",
      "Best model loaded.\n",
      "Training complete.\n"
     ]
    }
   ],
   "source": [
    "from src.problem.neuromancer.trainer import trainer\n",
    "# training\n",
    "epochs = 200                    # number of training epochs\n",
    "warmup = 20                     # number of epochs to wait before enacting early stopping policy\n",
    "patience = 20                   # number of epochs with no improvement in eval metric to allow before early stopping\n",
    "optimizer = torch.optim.AdamW(components.parameters(), lr=lr)\n",
    "# create a trainer for the problem\n",
    "my_trainer = trainer(components, loss_fn, optimizer, epochs, patience, warmup, device=\"cuda\")\n",
    "# training for the rounding problem\n",
    "my_trainer.train(loader_train, loader_dev)"
   ]
  },
  {
   "cell_type": "code",
   "execution_count": 18,
   "id": "6584d57e-6b4c-4262-82f5-55735ef17cac",
   "metadata": {},
   "outputs": [
    {
     "name": "stderr",
     "output_type": "stream",
     "text": [
      "100%|█████████████████████████████████████████████████████████████████████████████| 1000/1000 [00:04<00:00, 208.27it/s]\n"
     ]
    },
    {
     "name": "stdout",
     "output_type": "stream",
     "text": [
      "           Obj Val  Constraints Viol  Elapsed Time\n",
      "count  1000.000000       1000.000000   1000.000000\n",
      "mean     60.428413          0.007411      0.002564\n",
      "std      28.787232          0.090534      0.000733\n",
      "min      12.746076          0.000000      0.000996\n",
      "25%      36.438821          0.000000      0.002000\n",
      "50%      52.429313          0.000000      0.002506\n",
      "75%      84.480311          0.000000      0.003000\n",
      "max     166.475645          2.048779      0.008211\n",
      "Number of infeasible solution: 12\n"
     ]
    }
   ],
   "source": [
    "params, sols, objvals, conviols, elapseds = [], [], [], [], []\n",
    "for p, a in tqdm(list(zip(p_test, a_test))):\n",
    "    # data point as tensor\n",
    "    datapoints = {\"p\": torch.tensor(np.array([p]), dtype=torch.float32).to(\"cuda\"), \n",
    "                  \"a\": torch.tensor(np.array([a]), dtype=torch.float32).to(\"cuda\"),\n",
    "                  \"name\": \"test\"}\n",
    "    # infer\n",
    "    components.eval()\n",
    "    tick = time.time()\n",
    "    with torch.no_grad():\n",
    "        for comp in components:\n",
    "            datapoints.update(comp(datapoints))\n",
    "    tock = time.time()\n",
    "    # assign params\n",
    "    model.set_param_val({\"p\":p, \"a\":a})\n",
    "    # assign vars\n",
    "    x = datapoints[\"x_rnd\"]\n",
    "    for i in range(2*num_blocks):\n",
    "        model.vars[\"x\"][i].value = x[0,i].item()\n",
    "    # get solutions\n",
    "    xval, objval = model.get_val()    \n",
    "    params.append(list(p))\n",
    "    sols.append(list(list(xval.values())[0].values()))\n",
    "    objvals.append(objval)\n",
    "    conviols.append(sum(model.cal_violation()))\n",
    "    elapseds.append(tock - tick)\n",
    "df = pd.DataFrame({\"Param\":params, \"Sol\":sols, \"Obj Val\": objvals, \"Constraints Viol\": conviols, \"Elapsed Time\": elapseds})\n",
    "time.sleep(1)\n",
    "print(df.describe())\n",
    "print(\"Number of infeasible solution: {}\".format(np.sum(df[\"Constraints Viol\"] > 0)))\n",
    "df.to_csv(\"result/rb_lt_50-10.csv\")"
   ]
  },
  {
   "cell_type": "code",
   "execution_count": 12,
   "id": "f4a5e167-d793-4781-b780-1daf76f79c23",
   "metadata": {},
   "outputs": [
    {
     "name": "stdout",
     "output_type": "stream",
     "text": [
      "          Obj Val  Constraints Viol  Elapsed Time\n",
      "count  100.000000             100.0    100.000000\n",
      "mean    63.718770               0.0      0.002942\n",
      "std     32.265123               0.0      0.001112\n",
      "min     20.026440               0.0      0.001000\n",
      "25%     35.759567               0.0      0.002000\n",
      "50%     59.211945               0.0      0.003000\n",
      "75%     87.684815               0.0      0.003511\n",
      "max    143.387911               0.0      0.008211\n",
      "Number of infeasible solution: 0\n"
     ]
    }
   ],
   "source": [
    "df = pd.read_csv(\"result/rb_lt_50-10.csv\", index_col=0).iloc[:100]\n",
    "print(df.describe())\n",
    "print(\"Number of infeasible solution: {}\".format(np.sum(df[\"Constraints Viol\"] > 0)))"
   ]
  },
  {
   "cell_type": "markdown",
   "id": "8e32a4b8-1c70-4b96-b1b1-20a69f7dc330",
   "metadata": {},
   "source": [
    "## Parametric Learning Then Rounding"
   ]
  },
  {
   "cell_type": "code",
   "execution_count": 13,
   "id": "5eccfffd-9a18-43a9-b7c3-30fc645e4631",
   "metadata": {},
   "outputs": [],
   "source": [
    "# random seed\n",
    "np.random.seed(42)\n",
    "torch.manual_seed(42)\n",
    "torch.cuda.manual_seed(42)"
   ]
  },
  {
   "cell_type": "code",
   "execution_count": 14,
   "id": "78ace7bc-ddfe-4245-bb27-10473e86a282",
   "metadata": {},
   "outputs": [],
   "source": [
    "# hyperparameters\n",
    "penalty_weight = 60   # weight of constraint violation penealty\n",
    "hlayers_sol = 4       # number of hidden layers for solution mapping\n",
    "hsize = 128           # width of hidden layers for solution mapping\n",
    "lr = 1e-3             # learning rate"
   ]
  },
  {
   "cell_type": "code",
   "execution_count": 16,
   "id": "7fe88967-6712-4a06-9372-21d8d3b62f5f",
   "metadata": {},
   "outputs": [],
   "source": [
    "# set problem\n",
    "import neuromancer as nm\n",
    "from src.problem import nmRosenbrock\n",
    "from src.func.layer import netFC\n",
    "# build neural architecture for the solution map\n",
    "func = nm.modules.blocks.MLP(insize=num_blocks+1, outsize=2*num_blocks, bias=True,\n",
    "                             linear_map=nm.slim.maps[\"linear\"],\n",
    "                             nonlin=nn.ReLU, hsizes=[hsize]*hlayers_sol)\n",
    "smap = nm.system.Node(func, [\"p\", \"a\"], [\"x\"], name=\"smap\")\n",
    "# build neuromancer problem for rounding\n",
    "components = nn.ModuleList([smap]).to(\"cuda\")\n",
    "loss_fn = nmRosenbrock([\"p\", \"a\", \"x\"], steepness, num_blocks, penalty_weight)"
   ]
  },
  {
   "cell_type": "code",
   "execution_count": 17,
   "id": "ff86a9c6-18ae-4d07-8788-3028be453239",
   "metadata": {},
   "outputs": [
    {
     "name": "stdout",
     "output_type": "stream",
     "text": [
      "Epoch 0, Validation Loss: 1401.97\n",
      "Epoch 1, Validation Loss: 125.00\n",
      "Epoch 2, Validation Loss: 107.21\n",
      "Epoch 3, Validation Loss: 65.04\n",
      "Epoch 4, Validation Loss: 38.25\n",
      "Epoch 5, Validation Loss: 34.85\n",
      "Epoch 6, Validation Loss: 29.72\n",
      "Epoch 7, Validation Loss: 28.84\n",
      "Epoch 8, Validation Loss: 28.40\n",
      "Epoch 9, Validation Loss: 28.32\n",
      "Epoch 10, Validation Loss: 34.94\n",
      "Epoch 11, Validation Loss: 26.64\n",
      "Epoch 12, Validation Loss: 27.60\n",
      "Epoch 13, Validation Loss: 26.34\n",
      "Epoch 14, Validation Loss: 23.90\n",
      "Epoch 15, Validation Loss: 24.27\n",
      "Epoch 16, Validation Loss: 23.18\n",
      "Epoch 17, Validation Loss: 23.20\n",
      "Epoch 18, Validation Loss: 21.43\n",
      "Epoch 19, Validation Loss: 21.39\n",
      "Epoch 20, Validation Loss: 21.60\n",
      "Epoch 21, Validation Loss: 24.08\n",
      "Epoch 22, Validation Loss: 21.63\n",
      "Epoch 23, Validation Loss: 21.97\n",
      "Epoch 24, Validation Loss: 21.31\n",
      "Epoch 25, Validation Loss: 24.17\n",
      "Epoch 26, Validation Loss: 19.84\n",
      "Epoch 27, Validation Loss: 20.74\n",
      "Epoch 28, Validation Loss: 23.39\n",
      "Epoch 29, Validation Loss: 23.10\n",
      "Epoch 30, Validation Loss: 28.25\n",
      "Epoch 31, Validation Loss: 21.67\n",
      "Epoch 32, Validation Loss: 22.90\n",
      "Epoch 33, Validation Loss: 20.04\n",
      "Epoch 34, Validation Loss: 20.75\n",
      "Epoch 35, Validation Loss: 23.21\n",
      "Epoch 36, Validation Loss: 24.16\n",
      "Epoch 37, Validation Loss: 23.55\n",
      "Epoch 38, Validation Loss: 26.19\n",
      "Epoch 39, Validation Loss: 20.66\n",
      "Epoch 40, Validation Loss: 24.09\n",
      "Epoch 41, Validation Loss: 21.44\n",
      "Epoch 42, Validation Loss: 21.12\n",
      "Epoch 43, Validation Loss: 24.00\n",
      "Epoch 44, Validation Loss: 21.23\n",
      "Epoch 45, Validation Loss: 21.73\n",
      "Early stopping at epoch 45\n",
      "Best model loaded.\n",
      "Training complete.\n",
      "The training time is 24.17 sec.\n"
     ]
    }
   ],
   "source": [
    "from src.problem.neuromancer.trainer import trainer\n",
    "# training\n",
    "epochs = 200                    # number of training epochs\n",
    "warmup = 20                     # number of epochs to wait before enacting early stopping policy\n",
    "patience = 20                   # number of epochs with no improvement in eval metric to allow before early stopping\n",
    "optimizer = torch.optim.AdamW(components.parameters(), lr=lr)\n",
    "# create a trainer for the problem\n",
    "my_trainer = trainer(components, loss_fn, optimizer, epochs, patience, warmup, device=\"cuda\")\n",
    "# training for the rounding problem\n",
    "my_trainer.train(loader_train, loader_dev)"
   ]
  },
  {
   "cell_type": "code",
   "execution_count": 18,
   "id": "855a5f82-7a17-4514-b796-4b90b940bf94",
   "metadata": {},
   "outputs": [
    {
     "name": "stderr",
     "output_type": "stream",
     "text": [
      "100%|█████████████████████████████████████████████████████████████████████████████| 1000/1000 [00:02<00:00, 333.94it/s]\n"
     ]
    },
    {
     "name": "stdout",
     "output_type": "stream",
     "text": [
      "          Obj Val  Constraints Viol  Elapsed Time\n",
      "count  100.000000             100.0    100.000000\n",
      "mean    60.192886               0.0      0.000492\n",
      "std     28.203855               0.0      0.000722\n",
      "min     14.495794               0.0      0.000000\n",
      "25%     38.724998               0.0      0.000000\n",
      "50%     57.974880               0.0      0.000000\n",
      "75%     76.232206               0.0      0.001000\n",
      "max    142.242361               0.0      0.005659\n",
      "Number of infeasible solution: 0\n"
     ]
    }
   ],
   "source": [
    "from src.heuristic import naive_round\n",
    "params, sols, objvals, conviols, elapseds = [], [], [], [], []\n",
    "for p, a in tqdm(list(zip(p_test, a_test))):\n",
    "    # data point as tensor\n",
    "    datapoints = {\"p\": torch.tensor(np.array([p]), dtype=torch.float32).to(\"cuda\"), \n",
    "                  \"a\": torch.tensor(np.array([a]), dtype=torch.float32).to(\"cuda\"),\n",
    "                  \"name\": \"test\"}\n",
    "    # infer\n",
    "    components.eval()\n",
    "    tick = time.time()\n",
    "    with torch.no_grad():\n",
    "        for comp in components:\n",
    "            datapoints.update(comp(datapoints))\n",
    "    tock = time.time()\n",
    "    # assign params\n",
    "    model.set_param_val({\"p\":p, \"a\":a})\n",
    "    # assign vars\n",
    "    x = datapoints[\"x\"]\n",
    "    for i in range(num_blocks*2):\n",
    "        model.vars[\"x\"][i].value = x[0,i].item()\n",
    "    # get solutions\n",
    "    xval_rel, _ = model.get_val()\n",
    "    xval, objval = naive_round(xval_rel, model)\n",
    "    params.append(list(p)+list(a))\n",
    "    sols.append(list(list(xval.values())[0].values()))\n",
    "    objvals.append(objval)\n",
    "    conviols.append(sum(model.cal_violation()))\n",
    "    elapseds.append(tock - tick)\n",
    "df = pd.DataFrame({\"Param\":params, \"Sol\":sols, \"Obj Val\": objvals, \"Constraints Viol\": conviols, \"Elapsed Time\": elapseds})\n",
    "time.sleep(1)\n",
    "df.to_csv(\"result/rb_pr_50-10.csv\")\n",
    "df = df.iloc[:100]\n",
    "print(df.describe())\n",
    "print(\"Number of infeasible solution: {}\".format(np.sum(df[\"Constraints Viol\"] > 0)))"
   ]
  },
  {
   "cell_type": "code",
   "execution_count": null,
   "id": "3d03c4b7-ea7a-4492-997a-6fd8f9cc8492",
   "metadata": {},
   "outputs": [],
   "source": []
  }
 ],
 "metadata": {
  "kernelspec": {
   "display_name": "Python 3 (ipykernel)",
   "language": "python",
   "name": "python3"
  },
  "language_info": {
   "codemirror_mode": {
    "name": "ipython",
    "version": 3
   },
   "file_extension": ".py",
   "mimetype": "text/x-python",
   "name": "python",
   "nbconvert_exporter": "python",
   "pygments_lexer": "ipython3",
   "version": "3.10.13"
  }
 },
 "nbformat": 4,
 "nbformat_minor": 5
}
