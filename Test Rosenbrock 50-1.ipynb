{
 "cells": [
  {
   "cell_type": "code",
   "execution_count": 1,
   "id": "be61b914-e1af-43b9-9766-5092593f92dd",
   "metadata": {},
   "outputs": [],
   "source": [
    "import time\n",
    "\n",
    "import numpy as np\n",
    "import pandas as pd\n",
    "import torch\n",
    "from torch import nn\n",
    "from tqdm import tqdm\n",
    "\n",
    "# random seed\n",
    "np.random.seed(42)\n",
    "torch.manual_seed(42)\n",
    "torch.cuda.manual_seed(42)"
   ]
  },
  {
   "cell_type": "code",
   "execution_count": 2,
   "id": "35fe4527-9dbf-48f0-bfb3-62cda59092aa",
   "metadata": {},
   "outputs": [],
   "source": [
    "# turn off warning\n",
    "import logging\n",
    "logging.getLogger('pyomo.core').setLevel(logging.ERROR)"
   ]
  },
  {
   "cell_type": "markdown",
   "id": "c5560447-da9d-4cbe-aab4-538aa11c8ee8",
   "metadata": {},
   "source": [
    "## Problem Setting"
   ]
  },
  {
   "cell_type": "code",
   "execution_count": 3,
   "id": "52363c72-0d20-4c08-bd00-0f62aa73686c",
   "metadata": {},
   "outputs": [],
   "source": [
    "# init\n",
    "steepness = 50    # steepness factor\n",
    "num_blocks = 1    # number of expression blocks\n",
    "num_data = 5000   # number of data\n",
    "test_size = 100   # number of test size\n",
    "val_size = 1000   # number of validation size\n",
    "train_size = num_data - test_size - val_size"
   ]
  },
  {
   "cell_type": "code",
   "execution_count": 4,
   "id": "21938c00-d73f-4255-bc7c-bce6e8034cf8",
   "metadata": {},
   "outputs": [],
   "source": [
    "# parameters as input data\n",
    "p_low, p_high = 1.0, 8.0\n",
    "a_low, a_high = 0.5, 4.5\n",
    "p_train = np.random.uniform(p_low, p_high, (train_size, 1)).astype(np.float32)\n",
    "p_test  = np.random.uniform(p_low, p_high, (test_size, 1)).astype(np.float32)\n",
    "p_dev   = np.random.uniform(p_low, p_high, (val_size, 1)).astype(np.float32)\n",
    "a_train = np.random.uniform(a_low, a_high, (train_size, num_blocks)).astype(np.float32)\n",
    "a_test  = np.random.uniform(a_low, a_high, (test_size, num_blocks)).astype(np.float32)\n",
    "a_dev   = np.random.uniform(a_low, a_high, (val_size, num_blocks)).astype(np.float32)"
   ]
  },
  {
   "cell_type": "code",
   "execution_count": 5,
   "id": "5ecf81ff-627d-444d-8d90-121c7e20c217",
   "metadata": {},
   "outputs": [],
   "source": [
    "# nm datasets\n",
    "from neuromancer.dataset import DictDataset\n",
    "data_train = DictDataset({\"p\":p_train, \"a\":a_train}, name=\"train\")\n",
    "data_test = DictDataset({\"p\":p_test, \"a\":a_test}, name=\"test\")\n",
    "data_dev = DictDataset({\"p\":p_dev, \"a\":a_dev}, name=\"dev\")\n",
    "# torch dataloaders\n",
    "from torch.utils.data import DataLoader\n",
    "batch_size = 64\n",
    "loader_train = DataLoader(data_train, batch_size, num_workers=0, collate_fn=data_train.collate_fn, shuffle=True)\n",
    "loader_test = DataLoader(data_test, batch_size, num_workers=0, collate_fn=data_test.collate_fn, shuffle=False)\n",
    "loader_dev = DataLoader(data_dev, batch_size, num_workers=0, collate_fn=data_dev.collate_fn, shuffle=True)"
   ]
  },
  {
   "cell_type": "markdown",
   "id": "a2b99751-3a6e-46dc-9e33-fdf68d813034",
   "metadata": {},
   "source": [
    "## Exact Solver"
   ]
  },
  {
   "cell_type": "code",
   "execution_count": 6,
   "id": "f2e7f07c-6a97-44d6-aca7-56f395e0c964",
   "metadata": {},
   "outputs": [],
   "source": [
    "from src.problem import msRosenbrock\n",
    "model = msRosenbrock(steepness, num_blocks, timelimit=60)"
   ]
  },
  {
   "cell_type": "code",
   "execution_count": 7,
   "id": "77e326fa-de2f-415e-a4d4-1f28eef6511a",
   "metadata": {},
   "outputs": [
    {
     "name": "stderr",
     "output_type": "stream",
     "text": [
      "100%|████████████████████████████████████████████████████████████████████████████████| 100/100 [01:00<00:00,  1.64it/s]\n"
     ]
    },
    {
     "name": "stdout",
     "output_type": "stream",
     "text": [
      "          Obj Val  Constraints Viol  Elapsed Time\n",
      "count  100.000000             100.0    100.000000\n",
      "mean     2.012429               0.0      0.607808\n",
      "std      2.581801               0.0      0.256349\n",
      "min      0.000020               0.0      0.124618\n",
      "25%      0.228725               0.0      0.358065\n",
      "50%      0.808438               0.0      0.681139\n",
      "75%      2.995639               0.0      0.794783\n",
      "max     10.617350               0.0      1.116472\n",
      "Number of infeasible solution: 0\n"
     ]
    }
   ],
   "source": [
    "params, sols, objvals, conviols, elapseds = [], [], [], [], []\n",
    "for p, a in tqdm(list(zip(p_test, a_test))):\n",
    "    # set params\n",
    "    model.set_param_val({\"p\":p, \"a\":a})\n",
    "    # solve\n",
    "    tick = time.time()\n",
    "    xval, objval = model.solve(\"scip\")\n",
    "    tock = time.time()\n",
    "    # eval\n",
    "    params.append(list(p)+list(a))\n",
    "    sols.append(list(list(xval.values())[0].values()))\n",
    "    objvals.append(objval)\n",
    "    conviols.append(sum(model.cal_violation()))\n",
    "    elapseds.append(tock - tick)\n",
    "df = pd.DataFrame({\"Param\":params, \"Sol\":sols, \"Obj Val\": objvals, \"Constraints Viol\": conviols, \"Elapsed Time\": elapseds})\n",
    "df.to_csv(\"result/rb_exact_50-1.csv\")\n",
    "time.sleep(1)\n",
    "print(df.describe())\n",
    "print(\"Number of infeasible solution: {}\".format(np.sum(df[\"Constraints Viol\"] > 0)))"
   ]
  },
  {
   "cell_type": "markdown",
   "id": "28b8053d-2fb9-419e-ab27-56d35a7310c2",
   "metadata": {},
   "source": [
    "## Heuristic - Round"
   ]
  },
  {
   "cell_type": "code",
   "execution_count": 8,
   "id": "8ac297ea-1ea4-4368-bbcf-e64f185397da",
   "metadata": {},
   "outputs": [],
   "source": [
    "from src.heuristic import naive_round"
   ]
  },
  {
   "cell_type": "code",
   "execution_count": 9,
   "id": "317ca34b-ef96-4149-9354-cc76439f4713",
   "metadata": {},
   "outputs": [
    {
     "name": "stderr",
     "output_type": "stream",
     "text": [
      "100%|████████████████████████████████████████████████████████████████████████████████| 100/100 [01:27<00:00,  1.14it/s]\n"
     ]
    },
    {
     "name": "stdout",
     "output_type": "stream",
     "text": [
      "          Obj Val  Constraints Viol  Elapsed Time\n",
      "count  100.000000        100.000000    100.000000\n",
      "mean     5.672553          0.008490      0.869363\n",
      "std      4.052065          0.051887      0.154442\n",
      "min      0.008170          0.000000      0.462962\n",
      "25%      2.143000          0.000000      0.788311\n",
      "50%      5.429408          0.000000      0.898069\n",
      "75%      9.039523          0.000000      1.005212\n",
      "max     15.706952          0.360569      1.232177\n",
      "Number of infeasible solution: 3\n"
     ]
    }
   ],
   "source": [
    "params, sols, objvals, conviols, elapseds = [], [], [], [], []\n",
    "for p, a in tqdm(list(zip(p_test, a_test))):\n",
    "    # set params\n",
    "    model.set_param_val({\"p\":p, \"a\":a})\n",
    "    # relax\n",
    "    model_rel = model.relax()\n",
    "    # solve\n",
    "    tick = time.time()\n",
    "    xval_rel, _ = model_rel.solve(\"scip\")\n",
    "    xval, objval = naive_round(xval_rel, model)\n",
    "    tock = time.time()\n",
    "    # eval\n",
    "    params.append(list(p)+list(a))\n",
    "    sols.append(list(list(xval.values())[0].values()))\n",
    "    objvals.append(objval)\n",
    "    conviols.append(sum(model.cal_violation()))\n",
    "    elapseds.append(tock - tick)\n",
    "df = pd.DataFrame({\"Param\":params, \"Sol\":sols, \"Obj Val\": objvals, \"Constraints Viol\": conviols, \"Elapsed Time\": elapseds})\n",
    "time.sleep(1)\n",
    "df.to_csv(\"result/rb_heur_rnd_50-1.csv\")\n",
    "time.sleep(1)\n",
    "print(df.describe())\n",
    "print(\"Number of infeasible solution: {}\".format(np.sum(df[\"Constraints Viol\"] > 0)))"
   ]
  },
  {
   "cell_type": "markdown",
   "id": "96304fbd-08f5-4be7-a81e-83c85332029c",
   "metadata": {},
   "source": [
    "## Heuristic - N1"
   ]
  },
  {
   "cell_type": "code",
   "execution_count": 10,
   "id": "356187af-e02d-4478-bf78-ada6a2e1b94b",
   "metadata": {},
   "outputs": [],
   "source": [
    "model_heur = model.first_solution_heuristic(nodes_limit=1)"
   ]
  },
  {
   "cell_type": "code",
   "execution_count": 11,
   "id": "f4c7fc52-cbbc-4414-bf1d-316d65c8db5b",
   "metadata": {},
   "outputs": [
    {
     "name": "stderr",
     "output_type": "stream",
     "text": [
      "100%|████████████████████████████████████████████████████████████████████████████████| 100/100 [00:07<00:00, 13.24it/s]\n"
     ]
    },
    {
     "name": "stdout",
     "output_type": "stream",
     "text": [
      "          Obj Val  Constraints Viol  Elapsed Time\n",
      "count  100.000000             100.0    100.000000\n",
      "mean   104.881624               0.0      0.074986\n",
      "std     69.592172               0.0      0.032932\n",
      "min     11.253633               0.0      0.058766\n",
      "25%     42.798825               0.0      0.061067\n",
      "50%    106.690124               0.0      0.062082\n",
      "75%    141.728357               0.0      0.070550\n",
      "max    304.232321               0.0      0.183562\n",
      "Number of infeasible solution: 0\n"
     ]
    }
   ],
   "source": [
    "params, sols, objvals, conviols, elapseds = [], [], [], [], []\n",
    "for p, a in tqdm(list(zip(p_test, a_test))):\n",
    "    # set params\n",
    "    model_heur.set_param_val({\"p\":p, \"a\":a})\n",
    "    # solve\n",
    "    tick = time.time()\n",
    "    xval, objval = model_heur.solve(\"scip\")\n",
    "    tock = time.time()\n",
    "    # eval\n",
    "    params.append(list(p)+list(a))\n",
    "    sols.append(list(list(xval.values())[0].values()))\n",
    "    objvals.append(objval)\n",
    "    conviols.append(sum(model_heur.cal_violation()))\n",
    "    elapseds.append(tock - tick)\n",
    "df = pd.DataFrame({\"Param\":params, \"Sol\":sols, \"Obj Val\": objvals, \"Constraints Viol\": conviols, \"Elapsed Time\": elapseds})\n",
    "time.sleep(1)\n",
    "df.to_csv(\"result/rb_heur_n1_50-1.csv\")\n",
    "time.sleep(1)\n",
    "print(df.describe())\n",
    "print(\"Number of infeasible solution: {}\".format(np.sum(df[\"Constraints Viol\"] > 0)))"
   ]
  },
  {
   "cell_type": "markdown",
   "id": "9819c60c-df5f-41c6-ae83-888c75aa78d7",
   "metadata": {},
   "source": [
    "## Learnable Rounding"
   ]
  },
  {
   "cell_type": "code",
   "execution_count": 12,
   "id": "6c2bdd74-a0d1-4afa-b610-4f29559a5860",
   "metadata": {},
   "outputs": [],
   "source": [
    "# random seed\n",
    "np.random.seed(42)\n",
    "torch.manual_seed(42)\n",
    "torch.cuda.manual_seed(42)"
   ]
  },
  {
   "cell_type": "code",
   "execution_count": 13,
   "id": "536d2d58-67ba-408a-b72a-7c5bd54a5ff4",
   "metadata": {},
   "outputs": [],
   "source": [
    "# hyperparameters\n",
    "penalty_weight = 80   # weight of constraint violation penealty\n",
    "hlayers_sol = 5       # number of hidden layers for solution mapping\n",
    "hlayers_rnd = 4       # number of hidden layers for solution mapping\n",
    "hsize = 8             # width of hidden layers for solution mapping\n",
    "lr = 1e-3             # learning rate"
   ]
  },
  {
   "cell_type": "code",
   "execution_count": 14,
   "id": "fee1241e-e53a-4cbb-927a-edcdb3537303",
   "metadata": {},
   "outputs": [],
   "source": [
    "# set problem\n",
    "import neuromancer as nm\n",
    "from src.problem import nmRosenbrock\n",
    "from src.func.layer import netFC\n",
    "from src.func import roundGumbelModel\n",
    "# build neural architecture for the solution map\n",
    "func = nm.modules.blocks.MLP(insize=num_blocks+1, outsize=2*num_blocks, bias=True,\n",
    "                             linear_map=nm.slim.maps[\"linear\"],\n",
    "                             nonlin=nn.ReLU, hsizes=[hsize]*hlayers_sol)\n",
    "smap = nm.system.Node(func, [\"p\", \"a\"], [\"x\"], name=\"smap\")\n",
    "# define rounding model\n",
    "layers_rnd = netFC(input_dim=3*num_blocks+1, hidden_dims=[hsize]*hlayers_rnd, output_dim=2*num_blocks)\n",
    "rnd = roundGumbelModel(layers=layers_rnd, param_keys=[\"p\", \"a\"], var_keys=[\"x\"],  output_keys=[\"x_rnd\"], \n",
    "                       int_ind=model.int_ind, continuous_update=True, name=\"round\")\n",
    "# build neuromancer problem for rounding\n",
    "components = nn.ModuleList([smap, rnd]).to(\"cuda\")\n",
    "loss_fn = nmRosenbrock([\"p\", \"a\", \"x_rnd\"], steepness, num_blocks, penalty_weight)"
   ]
  },
  {
   "cell_type": "code",
   "execution_count": 15,
   "id": "e4f10263-5f69-4288-a4e8-8be83929c8d6",
   "metadata": {},
   "outputs": [
    {
     "name": "stdout",
     "output_type": "stream",
     "text": [
      "Epoch 0, Validation Loss: 185.95\n",
      "Epoch 1, Validation Loss: 163.09\n",
      "Epoch 2, Validation Loss: 127.20\n",
      "Epoch 3, Validation Loss: 12.72\n",
      "Epoch 4, Validation Loss: 16.47\n",
      "Epoch 5, Validation Loss: 13.96\n",
      "Epoch 6, Validation Loss: 14.41\n",
      "Epoch 7, Validation Loss: 14.16\n",
      "Epoch 8, Validation Loss: 12.18\n",
      "Epoch 9, Validation Loss: 12.99\n",
      "Epoch 10, Validation Loss: 13.55\n",
      "Epoch 11, Validation Loss: 9.56\n",
      "Epoch 12, Validation Loss: 11.76\n",
      "Epoch 13, Validation Loss: 11.88\n",
      "Epoch 14, Validation Loss: 10.24\n",
      "Epoch 15, Validation Loss: 9.83\n",
      "Epoch 16, Validation Loss: 10.01\n",
      "Epoch 17, Validation Loss: 12.34\n",
      "Epoch 18, Validation Loss: 12.48\n",
      "Epoch 19, Validation Loss: 14.20\n",
      "Epoch 20, Validation Loss: 10.19\n",
      "Epoch 21, Validation Loss: 14.13\n",
      "Epoch 22, Validation Loss: 10.78\n",
      "Epoch 23, Validation Loss: 9.79\n",
      "Epoch 24, Validation Loss: 10.28\n",
      "Epoch 25, Validation Loss: 10.31\n",
      "Epoch 26, Validation Loss: 9.94\n",
      "Epoch 27, Validation Loss: 10.33\n",
      "Epoch 28, Validation Loss: 9.23\n",
      "Epoch 29, Validation Loss: 8.37\n",
      "Epoch 30, Validation Loss: 11.07\n",
      "Epoch 31, Validation Loss: 10.14\n",
      "Epoch 32, Validation Loss: 9.11\n",
      "Epoch 33, Validation Loss: 9.65\n",
      "Epoch 34, Validation Loss: 12.35\n",
      "Epoch 35, Validation Loss: 9.99\n",
      "Epoch 36, Validation Loss: 9.09\n",
      "Epoch 37, Validation Loss: 9.98\n",
      "Epoch 38, Validation Loss: 10.01\n",
      "Epoch 39, Validation Loss: 9.14\n",
      "Epoch 40, Validation Loss: 9.60\n",
      "Epoch 41, Validation Loss: 9.75\n",
      "Epoch 42, Validation Loss: 9.28\n",
      "Epoch 43, Validation Loss: 9.30\n",
      "Epoch 44, Validation Loss: 9.61\n",
      "Epoch 45, Validation Loss: 8.95\n",
      "Epoch 46, Validation Loss: 9.83\n",
      "Epoch 47, Validation Loss: 9.85\n",
      "Epoch 48, Validation Loss: 9.53\n",
      "Early stopping at epoch 48\n",
      "Best model loaded.\n",
      "Training complete.\n",
      "The training time is 40.32 sec.\n"
     ]
    }
   ],
   "source": [
    "from src.problem.neuromancer.trainer import trainer\n",
    "# training\n",
    "epochs = 200                    # number of training epochs\n",
    "warmup = 20                     # number of epochs to wait before enacting early stopping policy\n",
    "patience = 20                   # number of epochs with no improvement in eval metric to allow before early stopping\n",
    "optimizer = torch.optim.AdamW(components.parameters(), lr=lr)\n",
    "# create a trainer for the problem\n",
    "my_trainer = trainer(components, loss_fn, optimizer, epochs, patience, warmup, device=\"cuda\")\n",
    "# training for the rounding problem\n",
    "my_trainer.train(loader_train, loader_dev)"
   ]
  },
  {
   "cell_type": "code",
   "execution_count": 16,
   "id": "3e835084-eb75-45d9-bcbd-5fb4c613fb41",
   "metadata": {},
   "outputs": [
    {
     "name": "stderr",
     "output_type": "stream",
     "text": [
      "100%|███████████████████████████████████████████████████████████████████████████████| 100/100 [00:00<00:00, 314.50it/s]\n"
     ]
    },
    {
     "name": "stdout",
     "output_type": "stream",
     "text": [
      "          Obj Val  Constraints Viol  Elapsed Time\n",
      "count  100.000000        100.000000    100.000000\n",
      "mean     9.685436          0.010450      0.002480\n",
      "std      9.993887          0.081436      0.000576\n",
      "min      0.110410          0.000000      0.001504\n",
      "25%      2.526931          0.000000      0.002000\n",
      "50%      6.413675          0.000000      0.002504\n",
      "75%     12.941375          0.000000      0.003000\n",
      "max     48.295884          0.808981      0.004495\n",
      "Number of infeasible solution: 7\n"
     ]
    }
   ],
   "source": [
    "params, sols, objvals, conviols, elapseds = [], [], [], [], []\n",
    "for p, a in tqdm(list(zip(p_test, a_test))):\n",
    "    # data point as tensor\n",
    "    datapoints = {\"p\": torch.tensor(np.array([p]), dtype=torch.float32).to(\"cuda\"), \n",
    "                  \"a\": torch.tensor(np.array([a]), dtype=torch.float32).to(\"cuda\"),\n",
    "                  \"name\": \"test\"}\n",
    "    # infer\n",
    "    components.eval()\n",
    "    tick = time.time()\n",
    "    with torch.no_grad():\n",
    "        for comp in components:\n",
    "            datapoints.update(comp(datapoints))\n",
    "    tock = time.time()\n",
    "    # assign params\n",
    "    model.set_param_val({\"p\":p, \"a\":a})\n",
    "    # assign vars\n",
    "    x = datapoints[\"x_rnd\"]\n",
    "    for i in range(2*num_blocks):\n",
    "        model.vars[\"x\"][i].value = x[0,i].item()\n",
    "    # get solutions\n",
    "    xval, objval = model.get_val()    \n",
    "    params.append(list(p)+list(a))\n",
    "    sols.append(list(list(xval.values())[0].values()))\n",
    "    objvals.append(objval)\n",
    "    conviols.append(sum(model.cal_violation()))\n",
    "    elapseds.append(tock - tick)\n",
    "df = pd.DataFrame({\"Param\":params, \"Sol\":sols, \"Obj Val\": objvals, \"Constraints Viol\": conviols, \"Elapsed Time\": elapseds})\n",
    "time.sleep(1)\n",
    "df.to_csv(\"result/rb_lr_50-1.csv\")\n",
    "time.sleep(1)\n",
    "print(df.describe())\n",
    "print(\"Number of infeasible solution: {}\".format(np.sum(df[\"Constraints Viol\"] > 0)))"
   ]
  },
  {
   "cell_type": "markdown",
   "id": "2dbf8a72-29b9-49c4-b3c1-0d68895c1c1f",
   "metadata": {},
   "source": [
    "## Learnable Threshold"
   ]
  },
  {
   "cell_type": "code",
   "execution_count": 7,
   "id": "7912a689-22cd-4d7b-a50f-d136dbdf5940",
   "metadata": {},
   "outputs": [],
   "source": [
    "# random seed\n",
    "np.random.seed(42)\n",
    "torch.manual_seed(42)\n",
    "torch.cuda.manual_seed(42)"
   ]
  },
  {
   "cell_type": "code",
   "execution_count": 8,
   "id": "d46b9817-87ac-4af0-b387-b10c9a4998f4",
   "metadata": {},
   "outputs": [],
   "source": [
    "# hyperparameters\n",
    "penalty_weight = 80   # weight of constraint violation penealty\n",
    "hlayers_sol = 5       # number of hidden layers for solution mapping\n",
    "hlayers_rnd = 4       # number of hidden layers for solution mapping\n",
    "hsize = 8             # width of hidden layers for solution mapping\n",
    "lr = 1e-3             # learning rate"
   ]
  },
  {
   "cell_type": "code",
   "execution_count": 9,
   "id": "fa8b147f-39c8-4eb7-bb95-93dd8e4cb1cf",
   "metadata": {},
   "outputs": [],
   "source": [
    "# set problem\n",
    "import neuromancer as nm\n",
    "from src.problem import nmRosenbrock\n",
    "from src.func.layer import netFC\n",
    "from src.func import roundThresholdModel\n",
    "# build neural architecture for the solution map\n",
    "func = nm.modules.blocks.MLP(insize=num_blocks+1, outsize=2*num_blocks, bias=True,\n",
    "                             linear_map=nm.slim.maps[\"linear\"],\n",
    "                             nonlin=nn.ReLU, hsizes=[hsize]*hlayers_sol)\n",
    "smap = nm.system.Node(func, [\"p\", \"a\"], [\"x\"], name=\"smap\")\n",
    "# define rounding model\n",
    "layers_rnd = netFC(input_dim=3*num_blocks+1, hidden_dims=[hsize]*hlayers_rnd, output_dim=2*num_blocks)\n",
    "rnd = roundThresholdModel(layers=layers_rnd, param_keys=[\"p\", \"a\"], var_keys=[\"x\"],  output_keys=[\"x_rnd\"], \n",
    "                          int_ind=model.int_ind, continuous_update=True, name=\"round\")\n",
    "# build neuromancer problem for rounding\n",
    "components = nn.ModuleList([smap, rnd]).to(\"cuda\")\n",
    "loss_fn = nmRosenbrock([\"p\", \"a\", \"x_rnd\"], steepness, num_blocks, penalty_weight)"
   ]
  },
  {
   "cell_type": "code",
   "execution_count": 10,
   "id": "c6f5bb17-8c3c-4dcd-952d-caa1d7c4c4fa",
   "metadata": {},
   "outputs": [
    {
     "name": "stdout",
     "output_type": "stream",
     "text": [
      "Epoch 0, Validation Loss: 185.95\n",
      "Epoch 1, Validation Loss: 174.13\n",
      "Epoch 2, Validation Loss: 113.96\n",
      "Epoch 3, Validation Loss: 19.13\n",
      "Epoch 4, Validation Loss: 9.99\n",
      "Epoch 5, Validation Loss: 7.48\n",
      "Epoch 6, Validation Loss: 7.32\n",
      "Epoch 7, Validation Loss: 7.49\n",
      "Epoch 8, Validation Loss: 7.06\n",
      "Epoch 9, Validation Loss: 8.06\n",
      "Epoch 10, Validation Loss: 6.86\n",
      "Epoch 11, Validation Loss: 7.25\n",
      "Epoch 12, Validation Loss: 6.70\n",
      "Epoch 13, Validation Loss: 6.87\n",
      "Epoch 14, Validation Loss: 6.79\n",
      "Epoch 15, Validation Loss: 6.30\n",
      "Epoch 16, Validation Loss: 6.47\n",
      "Epoch 17, Validation Loss: 6.30\n",
      "Epoch 18, Validation Loss: 6.17\n",
      "Epoch 19, Validation Loss: 6.08\n",
      "Epoch 20, Validation Loss: 6.10\n",
      "Epoch 21, Validation Loss: 6.38\n",
      "Epoch 22, Validation Loss: 6.55\n",
      "Epoch 23, Validation Loss: 6.26\n",
      "Epoch 24, Validation Loss: 5.98\n",
      "Epoch 25, Validation Loss: 5.66\n",
      "Epoch 26, Validation Loss: 6.26\n",
      "Epoch 27, Validation Loss: 5.58\n",
      "Epoch 28, Validation Loss: 5.57\n",
      "Epoch 29, Validation Loss: 5.46\n",
      "Epoch 30, Validation Loss: 5.38\n",
      "Epoch 31, Validation Loss: 5.48\n",
      "Epoch 32, Validation Loss: 5.57\n",
      "Epoch 33, Validation Loss: 5.42\n",
      "Epoch 34, Validation Loss: 5.40\n",
      "Epoch 35, Validation Loss: 5.24\n",
      "Epoch 36, Validation Loss: 5.89\n",
      "Epoch 37, Validation Loss: 5.38\n",
      "Epoch 38, Validation Loss: 5.61\n",
      "Epoch 39, Validation Loss: 5.35\n",
      "Epoch 40, Validation Loss: 5.22\n",
      "Epoch 41, Validation Loss: 5.23\n",
      "Epoch 42, Validation Loss: 5.56\n",
      "Epoch 43, Validation Loss: 5.32\n",
      "Epoch 44, Validation Loss: 5.47\n",
      "Epoch 45, Validation Loss: 5.17\n",
      "Epoch 46, Validation Loss: 5.37\n",
      "Epoch 47, Validation Loss: 5.65\n",
      "Epoch 48, Validation Loss: 5.60\n",
      "Epoch 49, Validation Loss: 6.28\n",
      "Epoch 50, Validation Loss: 5.23\n",
      "Epoch 51, Validation Loss: 5.36\n",
      "Epoch 52, Validation Loss: 5.38\n",
      "Epoch 53, Validation Loss: 5.64\n",
      "Epoch 54, Validation Loss: 5.66\n",
      "Epoch 55, Validation Loss: 5.42\n",
      "Epoch 56, Validation Loss: 5.43\n",
      "Epoch 57, Validation Loss: 5.44\n",
      "Epoch 58, Validation Loss: 5.77\n",
      "Epoch 59, Validation Loss: 5.86\n",
      "Epoch 60, Validation Loss: 5.71\n",
      "Epoch 61, Validation Loss: 6.37\n",
      "Epoch 62, Validation Loss: 5.82\n",
      "Epoch 63, Validation Loss: 5.94\n",
      "Epoch 64, Validation Loss: 5.83\n",
      "Early stopping at epoch 64\n",
      "Best model loaded.\n",
      "Training complete.\n",
      "The training time is 59.54 sec.\n"
     ]
    }
   ],
   "source": [
    "from src.problem.neuromancer.trainer import trainer\n",
    "# training\n",
    "epochs = 200                    # number of training epochs\n",
    "warmup = 20                     # number of epochs to wait before enacting early stopping policy\n",
    "patience = 20                   # number of epochs with no improvement in eval metric to allow before early stopping\n",
    "optimizer = torch.optim.AdamW(components.parameters(), lr=lr)\n",
    "# create a trainer for the problem\n",
    "my_trainer = trainer(components, loss_fn, optimizer, epochs, patience, warmup, device=\"cuda\")\n",
    "# training for the rounding problem\n",
    "my_trainer.train(loader_train, loader_dev)"
   ]
  },
  {
   "cell_type": "code",
   "execution_count": 11,
   "id": "6584d57e-6b4c-4262-82f5-55735ef17cac",
   "metadata": {},
   "outputs": [
    {
     "name": "stderr",
     "output_type": "stream",
     "text": [
      "100%|███████████████████████████████████████████████████████████████████████████████| 100/100 [00:00<00:00, 261.73it/s]\n"
     ]
    },
    {
     "name": "stdout",
     "output_type": "stream",
     "text": [
      "          Obj Val  Constraints Viol  Elapsed Time\n",
      "count  100.000000             100.0    100.000000\n",
      "mean     5.125322               0.0      0.002977\n",
      "std      4.409636               0.0      0.000954\n",
      "min      0.111074               0.0      0.001510\n",
      "25%      1.684655               0.0      0.002006\n",
      "50%      4.114165               0.0      0.002999\n",
      "75%      7.702470               0.0      0.003513\n",
      "max     26.133279               0.0      0.005774\n",
      "Number of infeasible solution: 0\n"
     ]
    }
   ],
   "source": [
    "params, sols, objvals, conviols, elapseds = [], [], [], [], []\n",
    "for p, a in tqdm(list(zip(p_test, a_test))):\n",
    "    # data point as tensor\n",
    "    datapoints = {\"p\": torch.tensor(np.array([p]), dtype=torch.float32).to(\"cuda\"), \n",
    "                  \"a\": torch.tensor(np.array([a]), dtype=torch.float32).to(\"cuda\"),\n",
    "                  \"name\": \"test\"}\n",
    "    # infer\n",
    "    components.eval()\n",
    "    tick = time.time()\n",
    "    with torch.no_grad():\n",
    "        for comp in components:\n",
    "            datapoints.update(comp(datapoints))\n",
    "    tock = time.time()\n",
    "    # assign params\n",
    "    model.set_param_val({\"p\":p, \"a\":a})\n",
    "    # assign vars\n",
    "    x = datapoints[\"x_rnd\"]\n",
    "    for i in range(2*num_blocks):\n",
    "        model.vars[\"x\"][i].value = x[0,i].item()\n",
    "    # get solutions\n",
    "    xval, objval = model.get_val()    \n",
    "    params.append(list(p)+list(a))\n",
    "    sols.append(list(list(xval.values())[0].values()))\n",
    "    objvals.append(objval)\n",
    "    conviols.append(sum(model.cal_violation()))\n",
    "    elapseds.append(tock - tick)\n",
    "df = pd.DataFrame({\"Param\":params, \"Sol\":sols, \"Obj Val\": objvals, \"Constraints Viol\": conviols, \"Elapsed Time\": elapseds})\n",
    "time.sleep(1)\n",
    "df.to_csv(\"result/rb_lr_50-1.csv\")\n",
    "time.sleep(1)\n",
    "print(df.describe())\n",
    "print(\"Number of infeasible solution: {}\".format(np.sum(df[\"Constraints Viol\"] > 0)))"
   ]
  },
  {
   "cell_type": "markdown",
   "id": "bece4166-1c16-45d5-a544-dbc93ee03cd1",
   "metadata": {},
   "source": [
    "## Parametric Learning Then Rounding"
   ]
  },
  {
   "cell_type": "code",
   "execution_count": 17,
   "id": "2fb68ab1-eaf8-4821-93ec-65e8c4b0a00c",
   "metadata": {},
   "outputs": [],
   "source": [
    "# random seed\n",
    "np.random.seed(42)\n",
    "torch.manual_seed(42)\n",
    "torch.cuda.manual_seed(42)"
   ]
  },
  {
   "cell_type": "code",
   "execution_count": 18,
   "id": "d01e8d11-e6f5-4e99-8dc4-e173751c927e",
   "metadata": {},
   "outputs": [],
   "source": [
    "# hyperparameters\n",
    "penalty_weight = 80   # weight of constraint violation penealty\n",
    "hlayers_sol = 5       # number of hidden layers for solution mapping\n",
    "hsize = 8             # width of hidden layers for solution mapping\n",
    "lr = 1e-3             # learning rate\n",
    "batch_size = 64       # batch size"
   ]
  },
  {
   "cell_type": "code",
   "execution_count": 19,
   "id": "99131f79-d4e9-4bcb-ba80-1d6284cdc5f2",
   "metadata": {},
   "outputs": [],
   "source": [
    "# set problem\n",
    "import neuromancer as nm\n",
    "from src.problem import nmQuadratic\n",
    "from src.func.layer import netFC\n",
    "# build neural architecture for the solution map\n",
    "func = nm.modules.blocks.MLP(insize=num_blocks+1, outsize=2*num_blocks, bias=True,\n",
    "                             linear_map=nm.slim.maps[\"linear\"],\n",
    "                             nonlin=nn.ReLU, hsizes=[hsize]*hlayers_sol)\n",
    "smap = nm.system.Node(func, [\"p\", \"a\"], [\"x\"], name=\"smap\")\n",
    "# build neuromancer problem for rounding\n",
    "components = nn.ModuleList([smap]).to(\"cuda\")\n",
    "loss_fn = nmRosenbrock([\"p\", \"a\", \"x\"], steepness, num_blocks, penalty_weight)"
   ]
  },
  {
   "cell_type": "code",
   "execution_count": 20,
   "id": "dea5cd27-82b8-433f-bdc2-e539e78cfa36",
   "metadata": {},
   "outputs": [
    {
     "name": "stdout",
     "output_type": "stream",
     "text": [
      "Epoch 0, Validation Loss: 167.33\n",
      "Epoch 1, Validation Loss: 154.45\n",
      "Epoch 2, Validation Loss: 109.40\n",
      "Epoch 3, Validation Loss: 5.06\n",
      "Epoch 4, Validation Loss: 3.37\n",
      "Epoch 5, Validation Loss: 2.65\n",
      "Epoch 6, Validation Loss: 2.46\n",
      "Epoch 7, Validation Loss: 2.47\n",
      "Epoch 8, Validation Loss: 2.39\n",
      "Epoch 9, Validation Loss: 2.33\n",
      "Epoch 10, Validation Loss: 2.30\n",
      "Epoch 11, Validation Loss: 2.26\n",
      "Epoch 12, Validation Loss: 2.22\n",
      "Epoch 13, Validation Loss: 2.15\n",
      "Epoch 14, Validation Loss: 2.11\n",
      "Epoch 15, Validation Loss: 2.05\n",
      "Epoch 16, Validation Loss: 1.99\n",
      "Epoch 17, Validation Loss: 1.97\n",
      "Epoch 18, Validation Loss: 1.92\n",
      "Epoch 19, Validation Loss: 1.89\n",
      "Epoch 20, Validation Loss: 1.91\n",
      "Epoch 21, Validation Loss: 1.86\n",
      "Epoch 22, Validation Loss: 1.85\n",
      "Epoch 23, Validation Loss: 1.86\n",
      "Epoch 24, Validation Loss: 1.84\n",
      "Epoch 25, Validation Loss: 1.82\n",
      "Epoch 26, Validation Loss: 1.85\n",
      "Epoch 27, Validation Loss: 1.82\n",
      "Epoch 28, Validation Loss: 1.83\n",
      "Epoch 29, Validation Loss: 1.82\n",
      "Epoch 30, Validation Loss: 1.82\n",
      "Epoch 31, Validation Loss: 1.80\n",
      "Epoch 32, Validation Loss: 1.86\n",
      "Epoch 33, Validation Loss: 1.80\n",
      "Epoch 34, Validation Loss: 1.78\n",
      "Epoch 35, Validation Loss: 1.79\n",
      "Epoch 36, Validation Loss: 1.83\n",
      "Epoch 37, Validation Loss: 1.78\n",
      "Epoch 38, Validation Loss: 1.82\n",
      "Epoch 39, Validation Loss: 1.77\n",
      "Epoch 40, Validation Loss: 1.80\n",
      "Epoch 41, Validation Loss: 1.83\n",
      "Epoch 42, Validation Loss: 1.76\n",
      "Epoch 43, Validation Loss: 1.78\n",
      "Epoch 44, Validation Loss: 1.77\n",
      "Epoch 45, Validation Loss: 1.78\n",
      "Epoch 46, Validation Loss: 1.78\n",
      "Epoch 47, Validation Loss: 1.76\n",
      "Epoch 48, Validation Loss: 1.80\n",
      "Epoch 49, Validation Loss: 1.81\n",
      "Epoch 50, Validation Loss: 1.77\n",
      "Epoch 51, Validation Loss: 1.76\n",
      "Epoch 52, Validation Loss: 1.77\n",
      "Epoch 53, Validation Loss: 1.75\n",
      "Epoch 54, Validation Loss: 1.79\n",
      "Epoch 55, Validation Loss: 1.77\n",
      "Epoch 56, Validation Loss: 1.75\n",
      "Epoch 57, Validation Loss: 1.77\n",
      "Epoch 58, Validation Loss: 1.81\n",
      "Epoch 59, Validation Loss: 1.74\n",
      "Epoch 60, Validation Loss: 1.73\n",
      "Epoch 61, Validation Loss: 1.77\n",
      "Epoch 62, Validation Loss: 1.73\n",
      "Epoch 63, Validation Loss: 1.75\n",
      "Epoch 64, Validation Loss: 1.74\n",
      "Epoch 65, Validation Loss: 1.77\n",
      "Epoch 66, Validation Loss: 1.74\n",
      "Epoch 67, Validation Loss: 1.76\n",
      "Epoch 68, Validation Loss: 1.75\n",
      "Epoch 69, Validation Loss: 1.72\n",
      "Epoch 70, Validation Loss: 1.73\n",
      "Epoch 71, Validation Loss: 1.79\n",
      "Epoch 72, Validation Loss: 1.74\n",
      "Epoch 73, Validation Loss: 1.78\n",
      "Epoch 74, Validation Loss: 1.73\n",
      "Epoch 75, Validation Loss: 1.72\n",
      "Epoch 76, Validation Loss: 1.77\n",
      "Epoch 77, Validation Loss: 1.69\n",
      "Epoch 78, Validation Loss: 1.67\n",
      "Epoch 79, Validation Loss: 1.64\n",
      "Epoch 80, Validation Loss: 1.65\n",
      "Epoch 81, Validation Loss: 1.63\n",
      "Epoch 82, Validation Loss: 1.64\n",
      "Epoch 83, Validation Loss: 1.63\n",
      "Epoch 84, Validation Loss: 1.65\n",
      "Epoch 85, Validation Loss: 1.61\n",
      "Epoch 86, Validation Loss: 1.63\n",
      "Epoch 87, Validation Loss: 1.62\n",
      "Epoch 88, Validation Loss: 1.60\n",
      "Epoch 89, Validation Loss: 1.61\n",
      "Epoch 90, Validation Loss: 1.62\n",
      "Epoch 91, Validation Loss: 1.60\n",
      "Epoch 92, Validation Loss: 1.60\n",
      "Epoch 93, Validation Loss: 1.66\n",
      "Epoch 94, Validation Loss: 1.59\n",
      "Epoch 95, Validation Loss: 1.64\n",
      "Epoch 96, Validation Loss: 1.58\n",
      "Epoch 97, Validation Loss: 1.59\n",
      "Epoch 98, Validation Loss: 1.61\n",
      "Epoch 99, Validation Loss: 1.59\n",
      "Epoch 100, Validation Loss: 1.59\n",
      "Epoch 101, Validation Loss: 1.59\n",
      "Epoch 102, Validation Loss: 1.61\n",
      "Epoch 103, Validation Loss: 1.62\n",
      "Epoch 104, Validation Loss: 1.58\n",
      "Epoch 105, Validation Loss: 1.58\n",
      "Epoch 106, Validation Loss: 1.62\n",
      "Epoch 107, Validation Loss: 1.58\n",
      "Epoch 108, Validation Loss: 1.61\n",
      "Epoch 109, Validation Loss: 1.59\n",
      "Epoch 110, Validation Loss: 1.58\n",
      "Epoch 111, Validation Loss: 1.59\n",
      "Epoch 112, Validation Loss: 1.57\n",
      "Epoch 113, Validation Loss: 1.58\n",
      "Epoch 114, Validation Loss: 1.58\n",
      "Epoch 115, Validation Loss: 1.58\n",
      "Epoch 116, Validation Loss: 1.55\n",
      "Epoch 117, Validation Loss: 1.58\n",
      "Epoch 118, Validation Loss: 1.63\n",
      "Epoch 119, Validation Loss: 1.57\n",
      "Epoch 120, Validation Loss: 1.60\n",
      "Epoch 121, Validation Loss: 1.57\n",
      "Epoch 122, Validation Loss: 1.57\n",
      "Epoch 123, Validation Loss: 1.57\n",
      "Epoch 124, Validation Loss: 1.56\n",
      "Epoch 125, Validation Loss: 1.61\n",
      "Epoch 126, Validation Loss: 1.56\n",
      "Epoch 127, Validation Loss: 1.55\n",
      "Epoch 128, Validation Loss: 1.60\n",
      "Epoch 129, Validation Loss: 1.54\n",
      "Epoch 130, Validation Loss: 1.55\n",
      "Epoch 131, Validation Loss: 1.55\n",
      "Epoch 132, Validation Loss: 1.62\n",
      "Epoch 133, Validation Loss: 1.58\n",
      "Epoch 134, Validation Loss: 1.54\n",
      "Epoch 135, Validation Loss: 1.55\n",
      "Epoch 136, Validation Loss: 1.55\n",
      "Epoch 137, Validation Loss: 1.56\n",
      "Epoch 138, Validation Loss: 1.54\n",
      "Epoch 139, Validation Loss: 1.56\n",
      "Epoch 140, Validation Loss: 1.59\n",
      "Epoch 141, Validation Loss: 1.53\n",
      "Epoch 142, Validation Loss: 1.57\n",
      "Epoch 143, Validation Loss: 1.60\n",
      "Epoch 144, Validation Loss: 1.54\n",
      "Epoch 145, Validation Loss: 1.57\n",
      "Epoch 146, Validation Loss: 1.55\n",
      "Epoch 147, Validation Loss: 1.53\n",
      "Epoch 148, Validation Loss: 1.56\n",
      "Epoch 149, Validation Loss: 1.61\n",
      "Epoch 150, Validation Loss: 1.54\n",
      "Epoch 151, Validation Loss: 1.57\n",
      "Epoch 152, Validation Loss: 1.52\n",
      "Epoch 153, Validation Loss: 1.52\n",
      "Epoch 154, Validation Loss: 1.52\n",
      "Epoch 155, Validation Loss: 1.54\n",
      "Epoch 156, Validation Loss: 1.53\n",
      "Epoch 157, Validation Loss: 1.58\n",
      "Epoch 158, Validation Loss: 1.53\n",
      "Epoch 159, Validation Loss: 1.55\n",
      "Epoch 160, Validation Loss: 1.55\n",
      "Epoch 161, Validation Loss: 1.53\n",
      "Epoch 162, Validation Loss: 1.54\n",
      "Epoch 163, Validation Loss: 1.55\n",
      "Epoch 164, Validation Loss: 1.54\n",
      "Epoch 165, Validation Loss: 1.53\n",
      "Epoch 166, Validation Loss: 1.52\n",
      "Epoch 167, Validation Loss: 1.60\n",
      "Epoch 168, Validation Loss: 1.50\n",
      "Epoch 169, Validation Loss: 1.52\n",
      "Epoch 170, Validation Loss: 1.51\n",
      "Epoch 171, Validation Loss: 1.53\n",
      "Epoch 172, Validation Loss: 1.54\n",
      "Epoch 173, Validation Loss: 1.52\n",
      "Epoch 174, Validation Loss: 1.51\n",
      "Epoch 175, Validation Loss: 1.52\n",
      "Epoch 176, Validation Loss: 1.56\n",
      "Epoch 177, Validation Loss: 1.51\n",
      "Epoch 178, Validation Loss: 1.52\n",
      "Epoch 179, Validation Loss: 1.54\n",
      "Epoch 180, Validation Loss: 1.54\n",
      "Epoch 181, Validation Loss: 1.55\n",
      "Epoch 182, Validation Loss: 1.53\n",
      "Epoch 183, Validation Loss: 1.51\n",
      "Epoch 184, Validation Loss: 1.50\n",
      "Epoch 185, Validation Loss: 1.52\n",
      "Epoch 186, Validation Loss: 1.51\n",
      "Epoch 187, Validation Loss: 1.51\n",
      "Early stopping at epoch 187\n",
      "Best model loaded.\n",
      "Training complete.\n",
      "The training time is 82.42 sec.\n"
     ]
    }
   ],
   "source": [
    "from src.problem.neuromancer.trainer import trainer\n",
    "# training\n",
    "epochs = 200                    # number of training epochs\n",
    "warmup = 20                     # number of epochs to wait before enacting early stopping policy\n",
    "patience = 20                   # number of epochs with no improvement in eval metric to allow before early stopping\n",
    "optimizer = torch.optim.AdamW(components.parameters(), lr=lr)\n",
    "# create a trainer for the problem\n",
    "my_trainer = trainer(components, loss_fn, optimizer, epochs, patience, warmup, device=\"cuda\")\n",
    "# training for the rounding problem\n",
    "my_trainer.train(loader_train, loader_dev)"
   ]
  },
  {
   "cell_type": "code",
   "execution_count": 21,
   "id": "188c6d47-2e52-418c-ba52-33fed3701736",
   "metadata": {},
   "outputs": [
    {
     "name": "stderr",
     "output_type": "stream",
     "text": [
      "100%|███████████████████████████████████████████████████████████████████████████████| 100/100 [00:00<00:00, 570.82it/s]\n"
     ]
    },
    {
     "name": "stdout",
     "output_type": "stream",
     "text": [
      "          Obj Val  Constraints Viol  Elapsed Time\n",
      "count  100.000000        100.000000    100.000000\n",
      "mean     6.483303          0.000071      0.000914\n",
      "std      3.959775          0.000553      0.000620\n",
      "min      0.150241          0.000000      0.000000\n",
      "25%      2.890288          0.000000      0.000510\n",
      "50%      6.299332          0.000000      0.001000\n",
      "75%      9.587027          0.000000      0.001136\n",
      "max     16.273808          0.005204      0.002519\n",
      "Number of infeasible solution: 2\n"
     ]
    }
   ],
   "source": [
    "from src.heuristic import naive_round\n",
    "params, sols, objvals, conviols, elapseds = [], [], [], [], []\n",
    "for p, a in tqdm(list(zip(p_test, a_test))):\n",
    "    # data point as tensor\n",
    "    datapoints = {\"p\": torch.tensor(np.array([p]), dtype=torch.float32).to(\"cuda\"), \n",
    "                  \"a\": torch.tensor(np.array([a]), dtype=torch.float32).to(\"cuda\"),\n",
    "                  \"name\": \"test\"}\n",
    "    # infer\n",
    "    components.eval()\n",
    "    tick = time.time()\n",
    "    with torch.no_grad():\n",
    "        for comp in components:\n",
    "            datapoints.update(comp(datapoints))\n",
    "    tock = time.time()\n",
    "    # assign params\n",
    "    model.set_param_val({\"p\":p, \"a\":a})\n",
    "    # assign vars\n",
    "    x = datapoints[\"x\"]\n",
    "    for i in range(num_blocks*2):\n",
    "        model.vars[\"x\"][i].value = x[0,i].item()\n",
    "    # get solutions\n",
    "    xval_rel, _ = model.get_val()\n",
    "    xval, objval = naive_round(xval_rel, model)\n",
    "    params.append(list(p)+list(a))\n",
    "    sols.append(list(list(xval.values())[0].values()))\n",
    "    objvals.append(objval)\n",
    "    conviols.append(sum(model.cal_violation()))\n",
    "    elapseds.append(tock - tick)\n",
    "df = pd.DataFrame({\"Param\":params, \"Sol\":sols, \"Obj Val\": objvals, \"Constraints Viol\": conviols, \"Elapsed Time\": elapseds})\n",
    "time.sleep(1)\n",
    "df.to_csv(\"result/rb_pr_50-1.csv\")\n",
    "print(df.describe())\n",
    "print(\"Number of infeasible solution: {}\".format(np.sum(df[\"Constraints Viol\"] > 0)))"
   ]
  },
  {
   "cell_type": "code",
   "execution_count": null,
   "id": "db2a9d85-7f01-4468-a6ea-ae00b01770a2",
   "metadata": {},
   "outputs": [],
   "source": []
  }
 ],
 "metadata": {
  "kernelspec": {
   "display_name": "Python 3 (ipykernel)",
   "language": "python",
   "name": "python3"
  },
  "language_info": {
   "codemirror_mode": {
    "name": "ipython",
    "version": 3
   },
   "file_extension": ".py",
   "mimetype": "text/x-python",
   "name": "python",
   "nbconvert_exporter": "python",
   "pygments_lexer": "ipython3",
   "version": "3.10.13"
  }
 },
 "nbformat": 4,
 "nbformat_minor": 5
}
