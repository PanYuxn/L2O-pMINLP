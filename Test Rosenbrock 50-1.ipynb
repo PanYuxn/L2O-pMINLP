{
 "cells": [
  {
   "cell_type": "code",
   "execution_count": 1,
   "id": "be61b914-e1af-43b9-9766-5092593f92dd",
   "metadata": {},
   "outputs": [],
   "source": [
    "import time\n",
    "\n",
    "import numpy as np\n",
    "import pandas as pd\n",
    "import torch\n",
    "from torch import nn\n",
    "from tqdm import tqdm\n",
    "\n",
    "# random seed\n",
    "np.random.seed(42)\n",
    "torch.manual_seed(42)\n",
    "torch.cuda.manual_seed(42)"
   ]
  },
  {
   "cell_type": "code",
   "execution_count": 2,
   "id": "35fe4527-9dbf-48f0-bfb3-62cda59092aa",
   "metadata": {},
   "outputs": [],
   "source": [
    "# turn off warning\n",
    "import logging\n",
    "logging.getLogger('pyomo.core').setLevel(logging.ERROR)"
   ]
  },
  {
   "cell_type": "markdown",
   "id": "c5560447-da9d-4cbe-aab4-538aa11c8ee8",
   "metadata": {},
   "source": [
    "## Problem Setting"
   ]
  },
  {
   "cell_type": "code",
   "execution_count": 3,
   "id": "52363c72-0d20-4c08-bd00-0f62aa73686c",
   "metadata": {},
   "outputs": [],
   "source": [
    "# init\n",
    "steepness = 50    # steepness factor\n",
    "num_blocks = 1    # number of expression blocks\n",
    "num_data = 5000   # number of data\n",
    "test_size = 1000  # number of test size\n",
    "val_size = 1000   # number of validation size\n",
    "train_size = num_data - test_size - val_size"
   ]
  },
  {
   "cell_type": "code",
   "execution_count": 4,
   "id": "21938c00-d73f-4255-bc7c-bce6e8034cf8",
   "metadata": {},
   "outputs": [],
   "source": [
    "# parameters as input data\n",
    "p_low, p_high = 1.0, 8.0\n",
    "a_low, a_high = 0.5, 4.5\n",
    "p_train = np.random.uniform(p_low, p_high, (train_size, 1)).astype(np.float32)\n",
    "p_test  = np.random.uniform(p_low, p_high, (test_size, 1)).astype(np.float32)\n",
    "p_dev   = np.random.uniform(p_low, p_high, (val_size, 1)).astype(np.float32)\n",
    "a_train = np.random.uniform(a_low, a_high, (train_size, num_blocks)).astype(np.float32)\n",
    "a_test  = np.random.uniform(a_low, a_high, (test_size, num_blocks)).astype(np.float32)\n",
    "a_dev   = np.random.uniform(a_low, a_high, (val_size, num_blocks)).astype(np.float32)"
   ]
  },
  {
   "cell_type": "code",
   "execution_count": 5,
   "id": "5ecf81ff-627d-444d-8d90-121c7e20c217",
   "metadata": {},
   "outputs": [],
   "source": [
    "# nm datasets\n",
    "from neuromancer.dataset import DictDataset\n",
    "data_train = DictDataset({\"p\":p_train, \"a\":a_train}, name=\"train\")\n",
    "data_test = DictDataset({\"p\":p_test, \"a\":a_test}, name=\"test\")\n",
    "data_dev = DictDataset({\"p\":p_dev, \"a\":a_dev}, name=\"dev\")\n",
    "# torch dataloaders\n",
    "from torch.utils.data import DataLoader\n",
    "loader_train = DataLoader(data_train, batch_size=32, num_workers=0, collate_fn=data_train.collate_fn, shuffle=True)\n",
    "loader_test = DataLoader(data_test, batch_size=32, num_workers=0, collate_fn=data_test.collate_fn, shuffle=False)\n",
    "loader_dev = DataLoader(data_dev, batch_size=32, num_workers=0, collate_fn=data_dev.collate_fn, shuffle=True)"
   ]
  },
  {
   "cell_type": "markdown",
   "id": "a2b99751-3a6e-46dc-9e33-fdf68d813034",
   "metadata": {},
   "source": [
    "## Exact Solver"
   ]
  },
  {
   "cell_type": "code",
   "execution_count": 6,
   "id": "f2e7f07c-6a97-44d6-aca7-56f395e0c964",
   "metadata": {},
   "outputs": [],
   "source": [
    "from src.problem import msRosenbrock\n",
    "model = msRosenbrock(steepness, num_blocks, timelimit=60)"
   ]
  },
  {
   "cell_type": "code",
   "execution_count": 7,
   "id": "77e326fa-de2f-415e-a4d4-1f28eef6511a",
   "metadata": {},
   "outputs": [
    {
     "name": "stderr",
     "output_type": "stream",
     "text": [
      "100%|██████████████████████████████████████████████████████████████████████████████| 1000/1000 [12:27<00:00,  1.34it/s]\n"
     ]
    },
    {
     "name": "stdout",
     "output_type": "stream",
     "text": [
      "           Obj Val  Constraints Viol  Elapsed Time\n",
      "count  1000.000000            1000.0   1000.000000\n",
      "mean      1.594587               0.0      0.746490\n",
      "std       2.217007               0.0      1.959974\n",
      "min       0.000007               0.0      0.168791\n",
      "25%       0.125986               0.0      0.404307\n",
      "50%       0.657168               0.0      0.686819\n",
      "75%       2.053709               0.0      0.896187\n",
      "max      11.428561               0.0     60.710659\n",
      "Number of infeasible solution: 0\n"
     ]
    }
   ],
   "source": [
    "params, sols, objvals, conviols, elapseds = [], [], [], [], []\n",
    "for p, a in tqdm(list(zip(p_test,a_test))):\n",
    "    # set params\n",
    "    model.set_param_val({\"p\":p, \"a\":a})\n",
    "    # solve\n",
    "    tick = time.time()\n",
    "    xval, objval = model.solve(\"scip\")\n",
    "    tock = time.time()\n",
    "    # eval\n",
    "    params.append(list(p)+list(a))\n",
    "    sols.append(list(list(xval.values())[0].values()))\n",
    "    objvals.append(objval)\n",
    "    conviols.append(sum(model.cal_violation()))\n",
    "    elapseds.append(tock - tick)\n",
    "df = pd.DataFrame({\"Param\":params, \"Sol\":sols, \"Obj Val\": objvals, \"Constraints Viol\": conviols, \"Elapsed Time\": elapseds})\n",
    "time.sleep(1)\n",
    "print(df.describe())\n",
    "print(\"Number of infeasible solution: {}\".format(np.sum(df[\"Constraints Viol\"] > 0)))\n",
    "df.to_csv(\"result/rb_exact_50-1.csv\")"
   ]
  },
  {
   "cell_type": "markdown",
   "id": "28b8053d-2fb9-419e-ab27-56d35a7310c2",
   "metadata": {},
   "source": [
    "## Heuristic - Round"
   ]
  },
  {
   "cell_type": "code",
   "execution_count": 8,
   "id": "8ac297ea-1ea4-4368-bbcf-e64f185397da",
   "metadata": {},
   "outputs": [],
   "source": [
    "from src.heuristic import naive_round"
   ]
  },
  {
   "cell_type": "code",
   "execution_count": 9,
   "id": "317ca34b-ef96-4149-9354-cc76439f4713",
   "metadata": {},
   "outputs": [
    {
     "name": "stderr",
     "output_type": "stream",
     "text": [
      "100%|██████████████████████████████████████████████████████████████████████████████| 1000/1000 [14:54<00:00,  1.12it/s]\n"
     ]
    },
    {
     "name": "stdout",
     "output_type": "stream",
     "text": [
      "           Obj Val  Constraints Viol  Elapsed Time\n",
      "count  1000.000000       1000.000000   1000.000000\n",
      "mean      5.655849          0.030167      0.890026\n",
      "std       4.235613          0.096639      0.142074\n",
      "min       0.001368          0.000000      0.370247\n",
      "25%       2.058067          0.000000      0.788906\n",
      "50%       4.906284          0.000000      0.895975\n",
      "75%       8.731726          0.000000      1.003572\n",
      "max      21.011748          0.485656      1.783174\n",
      "Number of infeasible solution: 120\n"
     ]
    }
   ],
   "source": [
    "params, sols, objvals, conviols, elapseds = [], [], [], [], []\n",
    "for p, a in tqdm(list(zip(p_test, a_test))):\n",
    "    # set params\n",
    "    model.set_param_val({\"p\":p, \"a\":a})\n",
    "    # relax\n",
    "    model_rel = model.relax()\n",
    "    # solve\n",
    "    tick = time.time()\n",
    "    xval_rel, _ = model_rel.solve(\"scip\")\n",
    "    xval, objval = naive_round(xval_rel, model)\n",
    "    tock = time.time()\n",
    "    # eval\n",
    "    params.append(list(p)+list(a))\n",
    "    sols.append(list(list(xval.values())[0].values()))\n",
    "    objvals.append(objval)\n",
    "    conviols.append(sum(model.cal_violation()))\n",
    "    elapseds.append(tock - tick)\n",
    "df = pd.DataFrame({\"Param\":params, \"Sol\":sols, \"Obj Val\": objvals, \"Constraints Viol\": conviols, \"Elapsed Time\": elapseds})\n",
    "time.sleep(1)\n",
    "print(df.describe())\n",
    "print(\"Number of infeasible solution: {}\".format(np.sum(df[\"Constraints Viol\"] > 0)))\n",
    "df.to_csv(\"result/rb_heur_rnd_50-1.csv\")"
   ]
  },
  {
   "cell_type": "markdown",
   "id": "39252c5b-845e-4ac3-817a-35732961069f",
   "metadata": {},
   "source": [
    "## Heuristic - RENS"
   ]
  },
  {
   "cell_type": "code",
   "execution_count": 10,
   "id": "992534ca-a00f-4d6d-b45f-ae8e15657948",
   "metadata": {},
   "outputs": [],
   "source": [
    "from src.heuristic import rens"
   ]
  },
  {
   "cell_type": "code",
   "execution_count": 11,
   "id": "4e007de6-c08f-4e43-8d45-9001f99decb4",
   "metadata": {},
   "outputs": [
    {
     "name": "stderr",
     "output_type": "stream",
     "text": [
      "100%|██████████████████████████████████████████████████████████████████████████████| 1000/1000 [24:13<00:00,  1.45s/it]\n"
     ]
    },
    {
     "name": "stdout",
     "output_type": "stream",
     "text": [
      "           Obj Val  Constraints Viol  Elapsed Time\n",
      "count  1000.000000            1000.0   1000.000000\n",
      "mean      1.594587               0.0      1.448748\n",
      "std       2.217007               0.0      0.222044\n",
      "min       0.000007               0.0      0.707071\n",
      "25%       0.125986               0.0      1.299234\n",
      "50%       0.657168               0.0      1.465973\n",
      "75%       2.053709               0.0      1.582807\n",
      "max      11.428561               0.0      2.128054\n",
      "Number of infeasible solution: 0\n"
     ]
    }
   ],
   "source": [
    "params, sols, objvals, conviols, elapseds = [], [], [], [], []\n",
    "for p, a in tqdm(list(zip(p_test, a_test))):\n",
    "    # set params\n",
    "    model.set_param_val({\"p\":p, \"a\":a})\n",
    "    # relax\n",
    "    model_rel = model.relax()\n",
    "    # solve\n",
    "    tick = time.time()\n",
    "    xval_rel, _ = model_rel.solve(\"scip\")\n",
    "    xval, objval = rens(xval_rel, model)\n",
    "    tock = time.time()\n",
    "    # eval\n",
    "    params.append(list(p)+list(a))\n",
    "    sols.append(list(list(xval.values())[0].values()))\n",
    "    objvals.append(objval)\n",
    "    conviols.append(sum(model.cal_violation()))\n",
    "    elapseds.append(tock - tick)\n",
    "df = pd.DataFrame({\"Param\":params, \"Sol\":sols, \"Obj Val\": objvals, \"Constraints Viol\": conviols, \"Elapsed Time\": elapseds})\n",
    "time.sleep(1)\n",
    "print(df.describe())\n",
    "print(\"Number of infeasible solution: {}\".format(np.sum(df[\"Constraints Viol\"] > 0)))\n",
    "df.to_csv(\"result/rb_heur_rens_50-1.csv\")"
   ]
  },
  {
   "cell_type": "markdown",
   "id": "96304fbd-08f5-4be7-a81e-83c85332029c",
   "metadata": {},
   "source": [
    "## Heuristic - N1"
   ]
  },
  {
   "cell_type": "code",
   "execution_count": 12,
   "id": "356187af-e02d-4478-bf78-ada6a2e1b94b",
   "metadata": {},
   "outputs": [],
   "source": [
    "model_heur = model.first_solution_heuristic(nodes_limit=1)"
   ]
  },
  {
   "cell_type": "code",
   "execution_count": 13,
   "id": "f4c7fc52-cbbc-4414-bf1d-316d65c8db5b",
   "metadata": {},
   "outputs": [
    {
     "name": "stderr",
     "output_type": "stream",
     "text": [
      "100%|██████████████████████████████████████████████████████████████████████████████| 1000/1000 [01:55<00:00,  8.66it/s]\n"
     ]
    },
    {
     "name": "stdout",
     "output_type": "stream",
     "text": [
      "           Obj Val  Constraints Viol  Elapsed Time\n",
      "count  1000.000000            1000.0   1000.000000\n",
      "mean    115.844676               0.0      0.114511\n",
      "std      73.526664               0.0      0.024021\n",
      "min       7.219464               0.0      0.099240\n",
      "25%      50.514805               0.0      0.106910\n",
      "50%     115.428330               0.0      0.107848\n",
      "75%     150.220972               0.0      0.109059\n",
      "max     498.093084               0.0      0.232943\n",
      "Number of infeasible solution: 0\n"
     ]
    }
   ],
   "source": [
    "params, sols, objvals, conviols, elapseds = [], [], [], [], []\n",
    "for p, a in tqdm(list(zip(p_test,a_test))):\n",
    "    # set params\n",
    "    model_heur.set_param_val({\"p\":p, \"a\":a})\n",
    "    # solve\n",
    "    tick = time.time()\n",
    "    xval, objval = model_heur.solve(\"scip\")\n",
    "    tock = time.time()\n",
    "    # eval\n",
    "    params.append(list(p)+list(a))\n",
    "    sols.append(list(list(xval.values())[0].values()))\n",
    "    objvals.append(objval)\n",
    "    conviols.append(sum(model_heur.cal_violation()))\n",
    "    elapseds.append(tock - tick)\n",
    "df = pd.DataFrame({\"Param\":params, \"Sol\":sols, \"Obj Val\": objvals, \"Constraints Viol\": conviols, \"Elapsed Time\": elapseds})\n",
    "time.sleep(1)\n",
    "print(df.describe())\n",
    "print(\"Number of infeasible solution: {}\".format(np.sum(df[\"Constraints Viol\"] > 0)))\n",
    "df.to_csv(\"result/rb_heur_n1_50-1.csv\")"
   ]
  },
  {
   "cell_type": "markdown",
   "id": "054837a3-7281-4c11-a7c8-9ecae9ea40c7",
   "metadata": {},
   "source": [
    "## Heuristic - N3"
   ]
  },
  {
   "cell_type": "code",
   "execution_count": 14,
   "id": "c3991fc7-8320-43ab-ac25-9bc8a6a759bd",
   "metadata": {},
   "outputs": [],
   "source": [
    "model_heur = model.first_solution_heuristic(nodes_limit=3)"
   ]
  },
  {
   "cell_type": "code",
   "execution_count": 15,
   "id": "4d916e20-f807-4728-9a24-0af68258539f",
   "metadata": {},
   "outputs": [
    {
     "name": "stderr",
     "output_type": "stream",
     "text": [
      "100%|██████████████████████████████████████████████████████████████████████████████| 1000/1000 [04:49<00:00,  3.45it/s]\n"
     ]
    },
    {
     "name": "stdout",
     "output_type": "stream",
     "text": [
      "           Obj Val  Constraints Viol  Elapsed Time\n",
      "count  1000.000000            1000.0   1000.000000\n",
      "mean      7.665065               0.0      0.288937\n",
      "std      11.051759               0.0      0.479149\n",
      "min       0.000007               0.0      0.106718\n",
      "25%       0.420074               0.0      0.151597\n",
      "50%       2.392478               0.0      0.231647\n",
      "75%       9.561415               0.0      0.309221\n",
      "max      57.349402               0.0     14.393204\n",
      "Number of infeasible solution: 0\n"
     ]
    }
   ],
   "source": [
    "params, sols, objvals, conviols, elapseds = [], [], [], [], []\n",
    "for p, a in tqdm(list(zip(p_test,a_test))):\n",
    "    # set params\n",
    "    model_heur.set_param_val({\"p\":p, \"a\":a})\n",
    "    # solve\n",
    "    tick = time.time()\n",
    "    xval, objval = model_heur.solve(\"scip\")\n",
    "    tock = time.time()\n",
    "    # eval\n",
    "    params.append(list(p)+list(a))\n",
    "    sols.append(list(list(xval.values())[0].values()))\n",
    "    objvals.append(objval)\n",
    "    conviols.append(sum(model_heur.cal_violation()))\n",
    "    elapseds.append(tock - tick)\n",
    "df = pd.DataFrame({\"Param\":params, \"Sol\":sols, \"Obj Val\": objvals, \"Constraints Viol\": conviols, \"Elapsed Time\": elapseds})\n",
    "time.sleep(1)\n",
    "print(df.describe())\n",
    "print(\"Number of infeasible solution: {}\".format(np.sum(df[\"Constraints Viol\"] > 0)))\n",
    "df.to_csv(\"result/rb_heur_n3_50-1.csv\")"
   ]
  },
  {
   "cell_type": "markdown",
   "id": "9819c60c-df5f-41c6-ae83-888c75aa78d7",
   "metadata": {},
   "source": [
    "## Learnable Rounding"
   ]
  },
  {
   "cell_type": "code",
   "execution_count": 16,
   "id": "536d2d58-67ba-408a-b72a-7c5bd54a5ff4",
   "metadata": {},
   "outputs": [],
   "source": [
    "# hyperparameters\n",
    "penalty_weight = 50   # weight of constraint violation penealty\n",
    "hlayers_sol = 4       # number of hidden layers for solution mapping\n",
    "hlayers_rnd = 4       # number of hidden layers for solution mapping\n",
    "hsize = 64            # width of hidden layers for solution mapping\n",
    "lr = 1e-3             # learning rate\n",
    "batch_size = 64       # batch size"
   ]
  },
  {
   "cell_type": "code",
   "execution_count": 17,
   "id": "fee1241e-e53a-4cbb-927a-edcdb3537303",
   "metadata": {},
   "outputs": [],
   "source": [
    "# set problem\n",
    "import neuromancer as nm\n",
    "from src.problem import nmRosenbrock\n",
    "from src.func.layer import netFC\n",
    "from src.func import roundGumbelModel\n",
    "# define Rosenbrock objective functions and constraints for both problem types\n",
    "obj_rel, constrs_rel = nmRosenbrock([\"x\"], [\"p\", \"a\"], steepness, num_blocks, penalty_weight=penalty_weight)\n",
    "obj_rnd, constrs_rnd = nmRosenbrock([\"x_rnd\"], [\"p\", \"a\"], steepness, num_blocks, penalty_weight=penalty_weight)\n",
    "# build neural architecture for the solution map\n",
    "func = nm.modules.blocks.MLP(insize=num_blocks+1, outsize=2*num_blocks, bias=True,\n",
    "                             linear_map=nm.slim.maps[\"linear\"],\n",
    "                             nonlin=nn.ReLU, hsizes=[hsize]*hlayers_sol)\n",
    "smap = nm.system.Node(func, [\"p\", \"a\"], [\"x\"], name=\"smap\")\n",
    "# define rounding model\n",
    "layers_rnd = netFC(input_dim=3*num_blocks+1, hidden_dims=[hsize]*hlayers_rnd, output_dim=2*num_blocks)\n",
    "rnd = roundGumbelModel(layers=layers_rnd, param_keys=[\"p\", \"a\"], var_keys=[\"x\"],  output_keys=[\"x_rnd\"], \n",
    "                       int_ind=model.int_ind, continuous_update=True, name=\"round\")\n",
    "# build neuromancer problem for rounding\n",
    "components = [smap, rnd]\n",
    "loss = nm.loss.PenaltyLoss(obj_rnd, constrs_rnd)\n",
    "problem = nm.problem.Problem(components, loss)"
   ]
  },
  {
   "cell_type": "code",
   "execution_count": 18,
   "id": "e4f10263-5f69-4288-a4e8-8be83929c8d6",
   "metadata": {},
   "outputs": [
    {
     "name": "stdout",
     "output_type": "stream",
     "text": [
      "epoch: 0  train_loss: 95.85124969482422\n",
      "epoch: 1  train_loss: 42.44343566894531\n",
      "epoch: 2  train_loss: 25.290496826171875\n",
      "epoch: 3  train_loss: 20.769079208374023\n",
      "epoch: 4  train_loss: 16.677532196044922\n",
      "epoch: 5  train_loss: 13.803874969482422\n",
      "epoch: 6  train_loss: 12.086336135864258\n",
      "epoch: 7  train_loss: 11.66338062286377\n",
      "epoch: 8  train_loss: 10.4960298538208\n",
      "epoch: 9  train_loss: 10.98294734954834\n",
      "epoch: 10  train_loss: 8.142115592956543\n",
      "epoch: 11  train_loss: 8.359756469726562\n",
      "epoch: 12  train_loss: 7.7702460289001465\n",
      "epoch: 13  train_loss: 8.44222640991211\n",
      "epoch: 14  train_loss: 7.556789398193359\n",
      "epoch: 15  train_loss: 7.439353942871094\n",
      "epoch: 16  train_loss: 7.1674017906188965\n",
      "epoch: 17  train_loss: 6.830772399902344\n",
      "epoch: 18  train_loss: 8.747583389282227\n",
      "epoch: 19  train_loss: 6.925155162811279\n",
      "epoch: 20  train_loss: 6.86478328704834\n",
      "epoch: 21  train_loss: 7.603288173675537\n",
      "epoch: 22  train_loss: 7.196815013885498\n",
      "epoch: 23  train_loss: 7.291717052459717\n",
      "epoch: 24  train_loss: 7.589517593383789\n",
      "epoch: 25  train_loss: 7.982796669006348\n",
      "epoch: 26  train_loss: 7.693236827850342\n",
      "epoch: 27  train_loss: 7.8371782302856445\n",
      "epoch: 28  train_loss: 7.373791217803955\n",
      "epoch: 29  train_loss: 7.690060138702393\n",
      "epoch: 30  train_loss: 7.985922336578369\n",
      "epoch: 31  train_loss: 6.647568702697754\n",
      "epoch: 32  train_loss: 7.068371772766113\n",
      "epoch: 33  train_loss: 7.603843688964844\n",
      "epoch: 34  train_loss: 7.685616493225098\n",
      "epoch: 35  train_loss: 7.382946491241455\n",
      "epoch: 36  train_loss: 8.036613464355469\n",
      "epoch: 37  train_loss: 7.199586391448975\n",
      "epoch: 38  train_loss: 7.261413097381592\n",
      "epoch: 39  train_loss: 6.5884809494018555\n",
      "epoch: 40  train_loss: 7.491424083709717\n",
      "epoch: 41  train_loss: 7.479515552520752\n",
      "Early stopping!!!\n"
     ]
    },
    {
     "data": {
      "text/plain": [
       "<All keys matched successfully>"
      ]
     },
     "execution_count": 18,
     "metadata": {},
     "output_type": "execute_result"
    }
   ],
   "source": [
    "# training\n",
    "epochs = 200                    # number of training epochs\n",
    "warmup = 20                     # number of epochs to wait before enacting early stopping policy\n",
    "patience = 20                   # number of epochs with no improvement in eval metric to allow before early stopping\n",
    "optimizer = torch.optim.Adam(problem.parameters(), lr=lr)\n",
    "# create a trainer for the problem\n",
    "trainer = nm.trainer.Trainer(problem, loader_train, loader_dev, loader_test, optimizer, \n",
    "                            epochs=epochs, patience=patience, warmup=warmup)\n",
    "# training for the rounding problem\n",
    "best_model = trainer.train()\n",
    "# load best model dict\n",
    "problem.load_state_dict(best_model)"
   ]
  },
  {
   "cell_type": "code",
   "execution_count": 19,
   "id": "3e835084-eb75-45d9-bcbd-5fb4c613fb41",
   "metadata": {},
   "outputs": [
    {
     "name": "stderr",
     "output_type": "stream",
     "text": [
      "100%|█████████████████████████████████████████████████████████████████████████████| 1000/1000 [00:02<00:00, 430.79it/s]\n"
     ]
    },
    {
     "name": "stdout",
     "output_type": "stream",
     "text": [
      "           Obj Val  Constraints Viol  Elapsed Time\n",
      "count  1000.000000       1000.000000   1000.000000\n",
      "mean      4.408696          0.000151      0.002024\n",
      "std       4.630498          0.002502      0.000628\n",
      "min       0.018090          0.000000      0.000998\n",
      "25%       1.199869          0.000000      0.001772\n",
      "50%       2.534193          0.000000      0.002000\n",
      "75%       6.262805          0.000000      0.002080\n",
      "max      35.863158          0.064772      0.005608\n",
      "Number of infeasible solution: 7\n"
     ]
    }
   ],
   "source": [
    "params, sols, objvals, conviols, elapseds = [], [], [], [], []\n",
    "for p, a in tqdm(list(zip(p_test,a_test))):\n",
    "    # data point as tensor\n",
    "    datapoints = {\"p\": torch.tensor(np.array([p]), dtype=torch.float32), \n",
    "                  \"a\": torch.tensor(np.array([a]), dtype=torch.float32),\n",
    "                  \"name\": \"test\"}\n",
    "    # infer\n",
    "    tick = time.time()\n",
    "    output = problem(datapoints)\n",
    "    tock = time.time()\n",
    "    # assign params\n",
    "    model.set_param_val({\"p\":p, \"a\":a})\n",
    "    # assign vars\n",
    "    x = output[\"test_x_rnd\"]\n",
    "    for i in range(2*num_blocks):\n",
    "        model.vars[\"x\"][i].value = x[0,i].item()\n",
    "    # get solutions\n",
    "    xval, objval = model.get_val()    \n",
    "    params.append(list(p))\n",
    "    sols.append(list(list(xval.values())[0].values()))\n",
    "    objvals.append(objval)\n",
    "    conviols.append(sum(model.cal_violation()))\n",
    "    elapseds.append(tock - tick)\n",
    "df = pd.DataFrame({\"Param\":params, \"Sol\":sols, \"Obj Val\": objvals, \"Constraints Viol\": conviols, \"Elapsed Time\": elapseds})\n",
    "time.sleep(1)\n",
    "print(df.describe())\n",
    "print(\"Number of infeasible solution: {}\".format(np.sum(df[\"Constraints Viol\"] > 0)))\n",
    "df.to_csv(\"result/rb_nm_50-1.csv\")"
   ]
  },
  {
   "cell_type": "code",
   "execution_count": null,
   "id": "603e5451-8d97-4bf3-a093-ee5444747a8f",
   "metadata": {},
   "outputs": [],
   "source": []
  }
 ],
 "metadata": {
  "kernelspec": {
   "display_name": "Python 3 (ipykernel)",
   "language": "python",
   "name": "python3"
  },
  "language_info": {
   "codemirror_mode": {
    "name": "ipython",
    "version": 3
   },
   "file_extension": ".py",
   "mimetype": "text/x-python",
   "name": "python",
   "nbconvert_exporter": "python",
   "pygments_lexer": "ipython3",
   "version": "3.10.13"
  }
 },
 "nbformat": 4,
 "nbformat_minor": 5
}
