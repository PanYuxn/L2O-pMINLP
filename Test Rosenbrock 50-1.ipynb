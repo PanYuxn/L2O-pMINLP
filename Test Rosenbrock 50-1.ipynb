{
 "cells": [
  {
   "cell_type": "code",
   "execution_count": 1,
   "id": "be61b914-e1af-43b9-9766-5092593f92dd",
   "metadata": {},
   "outputs": [],
   "source": [
    "import time\n",
    "\n",
    "import numpy as np\n",
    "import pandas as pd\n",
    "import torch\n",
    "from torch import nn\n",
    "from tqdm import tqdm\n",
    "\n",
    "# random seed\n",
    "np.random.seed(42)\n",
    "torch.manual_seed(42)\n",
    "torch.cuda.manual_seed(42)"
   ]
  },
  {
   "cell_type": "code",
   "execution_count": 2,
   "id": "35fe4527-9dbf-48f0-bfb3-62cda59092aa",
   "metadata": {},
   "outputs": [],
   "source": [
    "# turn off warning\n",
    "import logging\n",
    "logging.getLogger('pyomo.core').setLevel(logging.ERROR)"
   ]
  },
  {
   "cell_type": "markdown",
   "id": "c5560447-da9d-4cbe-aab4-538aa11c8ee8",
   "metadata": {},
   "source": [
    "## Problem Setting"
   ]
  },
  {
   "cell_type": "code",
   "execution_count": 3,
   "id": "52363c72-0d20-4c08-bd00-0f62aa73686c",
   "metadata": {},
   "outputs": [],
   "source": [
    "# init\n",
    "steepness = 50    # steepness factor\n",
    "num_blocks = 1    # number of expression blocks\n",
    "num_data = 5000   # number of data\n",
    "test_size = 1000  # number of test size\n",
    "val_size = 1000   # number of validation size\n",
    "train_size = num_data - test_size - val_size"
   ]
  },
  {
   "cell_type": "code",
   "execution_count": 4,
   "id": "21938c00-d73f-4255-bc7c-bce6e8034cf8",
   "metadata": {},
   "outputs": [],
   "source": [
    "# parameters as input data\n",
    "p_low, p_high = 1.0, 8.0\n",
    "a_low, a_high = 0.5, 4.5\n",
    "p_train = np.random.uniform(p_low, p_high, (train_size, 1)).astype(np.float32)\n",
    "p_test  = np.random.uniform(p_low, p_high, (test_size, 1)).astype(np.float32)\n",
    "p_dev   = np.random.uniform(p_low, p_high, (val_size, 1)).astype(np.float32)\n",
    "a_train = np.random.uniform(a_low, a_high, (train_size, num_blocks)).astype(np.float32)\n",
    "a_test  = np.random.uniform(a_low, a_high, (test_size, num_blocks)).astype(np.float32)\n",
    "a_dev   = np.random.uniform(a_low, a_high, (val_size, num_blocks)).astype(np.float32)"
   ]
  },
  {
   "cell_type": "code",
   "execution_count": 5,
   "id": "5ecf81ff-627d-444d-8d90-121c7e20c217",
   "metadata": {},
   "outputs": [],
   "source": [
    "# nm datasets\n",
    "from neuromancer.dataset import DictDataset\n",
    "data_train = DictDataset({\"p\":p_train, \"a\":a_train}, name=\"train\")\n",
    "data_test = DictDataset({\"p\":p_test, \"a\":a_test}, name=\"test\")\n",
    "data_dev = DictDataset({\"p\":p_dev, \"a\":a_dev}, name=\"dev\")\n",
    "# torch dataloaders\n",
    "from torch.utils.data import DataLoader\n",
    "loader_train = DataLoader(data_train, batch_size=32, num_workers=0, collate_fn=data_train.collate_fn, shuffle=True)\n",
    "loader_test = DataLoader(data_test, batch_size=32, num_workers=0, collate_fn=data_test.collate_fn, shuffle=False)\n",
    "loader_dev = DataLoader(data_dev, batch_size=32, num_workers=0, collate_fn=data_dev.collate_fn, shuffle=True)"
   ]
  },
  {
   "cell_type": "markdown",
   "id": "a2b99751-3a6e-46dc-9e33-fdf68d813034",
   "metadata": {},
   "source": [
    "## Exact Solver"
   ]
  },
  {
   "cell_type": "code",
   "execution_count": 6,
   "id": "f2e7f07c-6a97-44d6-aca7-56f395e0c964",
   "metadata": {},
   "outputs": [],
   "source": [
    "from src.problem import msRosenbrock\n",
    "model = msRosenbrock(steepness, num_blocks, timelimit=60)"
   ]
  },
  {
   "cell_type": "code",
   "execution_count": 7,
   "id": "77e326fa-de2f-415e-a4d4-1f28eef6511a",
   "metadata": {},
   "outputs": [
    {
     "name": "stderr",
     "output_type": "stream",
     "text": [
      "100%|██████████████████████████████████████████████████████████████████████████████| 1000/1000 [11:49<00:00,  1.41it/s]\n"
     ]
    },
    {
     "name": "stdout",
     "output_type": "stream",
     "text": [
      "          Obj Val  Constraints Viol  Elapsed Time\n",
      "count  100.000000             100.0    100.000000\n",
      "mean     1.527909               0.0      0.662830\n",
      "std      1.889268               0.0      0.253617\n",
      "min      0.000028               0.0      0.125504\n",
      "25%      0.166743               0.0      0.402626\n",
      "50%      0.775518               0.0      0.738829\n",
      "75%      2.170996               0.0      0.900489\n",
      "max      9.005967               0.0      1.125116\n",
      "Number of infeasible solution: 0\n"
     ]
    }
   ],
   "source": [
    "params, sols, objvals, conviols, elapseds = [], [], [], [], []\n",
    "for p, a in tqdm(list(zip(p_test, a_test))):\n",
    "    # set params\n",
    "    model.set_param_val({\"p\":p, \"a\":a})\n",
    "    # solve\n",
    "    tick = time.time()\n",
    "    xval, objval = model.solve(\"scip\")\n",
    "    tock = time.time()\n",
    "    # eval\n",
    "    params.append(list(p)+list(a))\n",
    "    sols.append(list(list(xval.values())[0].values()))\n",
    "    objvals.append(objval)\n",
    "    conviols.append(sum(model.cal_violation()))\n",
    "    elapseds.append(tock - tick)\n",
    "df = pd.DataFrame({\"Param\":params, \"Sol\":sols, \"Obj Val\": objvals, \"Constraints Viol\": conviols, \"Elapsed Time\": elapseds})\n",
    "df.to_csv(\"result/rb_exact_50-1.csv\")\n",
    "df = df.iloc[:100]\n",
    "time.sleep(1)\n",
    "print(df.describe())\n",
    "print(\"Number of infeasible solution: {}\".format(np.sum(df[\"Constraints Viol\"] > 0)))"
   ]
  },
  {
   "cell_type": "markdown",
   "id": "28b8053d-2fb9-419e-ab27-56d35a7310c2",
   "metadata": {},
   "source": [
    "## Heuristic - Round"
   ]
  },
  {
   "cell_type": "code",
   "execution_count": 8,
   "id": "8ac297ea-1ea4-4368-bbcf-e64f185397da",
   "metadata": {},
   "outputs": [],
   "source": [
    "from src.heuristic import naive_round"
   ]
  },
  {
   "cell_type": "code",
   "execution_count": 9,
   "id": "317ca34b-ef96-4149-9354-cc76439f4713",
   "metadata": {},
   "outputs": [
    {
     "name": "stderr",
     "output_type": "stream",
     "text": [
      "100%|██████████████████████████████████████████████████████████████████████████████| 1000/1000 [14:03<00:00,  1.19it/s]\n"
     ]
    },
    {
     "name": "stdout",
     "output_type": "stream",
     "text": [
      "          Obj Val  Constraints Viol  Elapsed Time\n",
      "count  100.000000        100.000000    100.000000\n",
      "mean     5.318809          0.023201      0.845810\n",
      "std      3.815887          0.088962      0.125804\n",
      "min      0.033126          0.000000      0.415789\n",
      "25%      1.929421          0.000000      0.788843\n",
      "50%      4.749954          0.000000      0.800843\n",
      "75%      7.944151          0.000000      0.906330\n",
      "max     14.637508          0.467117      1.131778\n",
      "Number of infeasible solution: 8\n"
     ]
    }
   ],
   "source": [
    "params, sols, objvals, conviols, elapseds = [], [], [], [], []\n",
    "for p, a in tqdm(list(zip(p_test, a_test))):\n",
    "    # set params\n",
    "    model.set_param_val({\"p\":p, \"a\":a})\n",
    "    # relax\n",
    "    model_rel = model.relax()\n",
    "    # solve\n",
    "    tick = time.time()\n",
    "    xval_rel, _ = model_rel.solve(\"scip\")\n",
    "    xval, objval = naive_round(xval_rel, model)\n",
    "    tock = time.time()\n",
    "    # eval\n",
    "    params.append(list(p)+list(a))\n",
    "    sols.append(list(list(xval.values())[0].values()))\n",
    "    objvals.append(objval)\n",
    "    conviols.append(sum(model.cal_violation()))\n",
    "    elapseds.append(tock - tick)\n",
    "df = pd.DataFrame({\"Param\":params, \"Sol\":sols, \"Obj Val\": objvals, \"Constraints Viol\": conviols, \"Elapsed Time\": elapseds})\n",
    "time.sleep(1)\n",
    "df.to_csv(\"result/rb_heur_rnd_50-1.csv\")\n",
    "df = df.iloc[:100]\n",
    "time.sleep(1)\n",
    "print(df.describe())\n",
    "print(\"Number of infeasible solution: {}\".format(np.sum(df[\"Constraints Viol\"] > 0)))"
   ]
  },
  {
   "cell_type": "markdown",
   "id": "96304fbd-08f5-4be7-a81e-83c85332029c",
   "metadata": {},
   "source": [
    "## Heuristic - N1"
   ]
  },
  {
   "cell_type": "code",
   "execution_count": 10,
   "id": "356187af-e02d-4478-bf78-ada6a2e1b94b",
   "metadata": {},
   "outputs": [],
   "source": [
    "model_heur = model.first_solution_heuristic(nodes_limit=1)"
   ]
  },
  {
   "cell_type": "code",
   "execution_count": 11,
   "id": "f4c7fc52-cbbc-4414-bf1d-316d65c8db5b",
   "metadata": {},
   "outputs": [
    {
     "name": "stderr",
     "output_type": "stream",
     "text": [
      "100%|██████████████████████████████████████████████████████████████████████████████| 1000/1000 [01:12<00:00, 13.76it/s]\n"
     ]
    },
    {
     "name": "stdout",
     "output_type": "stream",
     "text": [
      "          Obj Val  Constraints Viol  Elapsed Time\n",
      "count  100.000000             100.0    100.000000\n",
      "mean    99.761901               0.0      0.067367\n",
      "std     68.446574               0.0      0.022057\n",
      "min      9.367027               0.0      0.058092\n",
      "25%     45.777581               0.0      0.061003\n",
      "50%     87.586337               0.0      0.061796\n",
      "75%    130.537029               0.0      0.062925\n",
      "max    305.764538               0.0      0.173536\n",
      "Number of infeasible solution: 0\n"
     ]
    }
   ],
   "source": [
    "params, sols, objvals, conviols, elapseds = [], [], [], [], []\n",
    "for p, a in tqdm(list(zip(p_test, a_test))):\n",
    "    # set params\n",
    "    model_heur.set_param_val({\"p\":p, \"a\":a})\n",
    "    # solve\n",
    "    tick = time.time()\n",
    "    xval, objval = model_heur.solve(\"scip\")\n",
    "    tock = time.time()\n",
    "    # eval\n",
    "    params.append(list(p)+list(a))\n",
    "    sols.append(list(list(xval.values())[0].values()))\n",
    "    objvals.append(objval)\n",
    "    conviols.append(sum(model_heur.cal_violation()))\n",
    "    elapseds.append(tock - tick)\n",
    "df = pd.DataFrame({\"Param\":params, \"Sol\":sols, \"Obj Val\": objvals, \"Constraints Viol\": conviols, \"Elapsed Time\": elapseds})\n",
    "time.sleep(1)\n",
    "df.to_csv(\"result/rb_heur_n1_50-1.csv\")\n",
    "df = df.iloc[:100]\n",
    "time.sleep(1)\n",
    "print(df.describe())\n",
    "print(\"Number of infeasible solution: {}\".format(np.sum(df[\"Constraints Viol\"] > 0)))"
   ]
  },
  {
   "cell_type": "markdown",
   "id": "9819c60c-df5f-41c6-ae83-888c75aa78d7",
   "metadata": {},
   "source": [
    "## Learnable Rounding"
   ]
  },
  {
   "cell_type": "code",
   "execution_count": 12,
   "id": "6c2bdd74-a0d1-4afa-b610-4f29559a5860",
   "metadata": {},
   "outputs": [],
   "source": [
    "# random seed\n",
    "np.random.seed(42)\n",
    "torch.manual_seed(42)\n",
    "torch.cuda.manual_seed(42)"
   ]
  },
  {
   "cell_type": "code",
   "execution_count": 13,
   "id": "536d2d58-67ba-408a-b72a-7c5bd54a5ff4",
   "metadata": {},
   "outputs": [],
   "source": [
    "# hyperparameters\n",
    "penalty_weight = 80   # weight of constraint violation penealty\n",
    "hlayers_sol = 4       # number of hidden layers for solution mapping\n",
    "hlayers_rnd = 4       # number of hidden layers for solution mapping\n",
    "hsize = 32            # width of hidden layers for solution mapping\n",
    "lr = 1e-3             # learning rate\n",
    "batch_size = 64       # batch size"
   ]
  },
  {
   "cell_type": "code",
   "execution_count": 14,
   "id": "fee1241e-e53a-4cbb-927a-edcdb3537303",
   "metadata": {},
   "outputs": [],
   "source": [
    "# set problem\n",
    "import neuromancer as nm\n",
    "from src.problem import nmRosenbrock\n",
    "from src.func.layer import netFC\n",
    "from src.func import roundGumbelModel\n",
    "# build neural architecture for the solution map\n",
    "func = nm.modules.blocks.MLP(insize=num_blocks+1, outsize=2*num_blocks, bias=True,\n",
    "                             linear_map=nm.slim.maps[\"linear\"],\n",
    "                             nonlin=nn.ReLU, hsizes=[hsize]*hlayers_sol)\n",
    "smap = nm.system.Node(func, [\"p\", \"a\"], [\"x\"], name=\"smap\")\n",
    "# define rounding model\n",
    "layers_rnd = netFC(input_dim=3*num_blocks+1, hidden_dims=[hsize]*hlayers_rnd, output_dim=2*num_blocks)\n",
    "rnd = roundGumbelModel(layers=layers_rnd, param_keys=[\"p\", \"a\"], var_keys=[\"x\"],  output_keys=[\"x_rnd\"], \n",
    "                       int_ind=model.int_ind, continuous_update=True, name=\"round\")\n",
    "# build neuromancer problem for rounding\n",
    "components = nn.ModuleList([smap, rnd]).to(\"cuda\")\n",
    "loss_fn = nmRosenbrock([\"p\", \"a\", \"x_rnd\"], steepness, num_blocks, penalty_weight)"
   ]
  },
  {
   "cell_type": "code",
   "execution_count": 15,
   "id": "e4f10263-5f69-4288-a4e8-8be83929c8d6",
   "metadata": {},
   "outputs": [
    {
     "name": "stdout",
     "output_type": "stream",
     "text": [
      "Epoch 0, Validation Loss: 320.04\n",
      "Epoch 1, Validation Loss: 52.33\n",
      "Epoch 2, Validation Loss: 36.36\n",
      "Epoch 3, Validation Loss: 34.51\n",
      "Epoch 4, Validation Loss: 27.76\n",
      "Epoch 5, Validation Loss: 29.97\n",
      "Epoch 6, Validation Loss: 28.45\n",
      "Epoch 7, Validation Loss: 28.80\n",
      "Epoch 8, Validation Loss: 28.80\n",
      "Epoch 9, Validation Loss: 30.70\n",
      "Epoch 10, Validation Loss: 29.41\n",
      "Epoch 11, Validation Loss: 28.43\n",
      "Epoch 12, Validation Loss: 27.18\n",
      "Epoch 13, Validation Loss: 28.00\n",
      "Epoch 14, Validation Loss: 28.56\n",
      "Epoch 15, Validation Loss: 27.88\n",
      "Epoch 16, Validation Loss: 27.50\n",
      "Epoch 17, Validation Loss: 24.84\n",
      "Epoch 18, Validation Loss: 25.88\n",
      "Epoch 19, Validation Loss: 26.70\n",
      "Epoch 20, Validation Loss: 23.93\n",
      "Epoch 21, Validation Loss: 23.91\n",
      "Epoch 22, Validation Loss: 23.60\n",
      "Epoch 23, Validation Loss: 23.51\n",
      "Epoch 24, Validation Loss: 23.89\n",
      "Epoch 25, Validation Loss: 22.84\n",
      "Epoch 26, Validation Loss: 22.90\n",
      "Epoch 27, Validation Loss: 23.22\n",
      "Epoch 28, Validation Loss: 22.68\n",
      "Epoch 29, Validation Loss: 21.50\n",
      "Epoch 30, Validation Loss: 21.96\n",
      "Epoch 31, Validation Loss: 22.81\n",
      "Epoch 32, Validation Loss: 22.90\n",
      "Epoch 33, Validation Loss: 24.54\n",
      "Epoch 34, Validation Loss: 22.91\n",
      "Epoch 35, Validation Loss: 23.50\n",
      "Epoch 36, Validation Loss: 22.88\n",
      "Epoch 37, Validation Loss: 22.73\n",
      "Epoch 38, Validation Loss: 22.67\n",
      "Epoch 39, Validation Loss: 22.12\n",
      "Epoch 40, Validation Loss: 21.10\n",
      "Epoch 41, Validation Loss: 23.26\n",
      "Epoch 42, Validation Loss: 21.34\n",
      "Epoch 43, Validation Loss: 21.00\n",
      "Epoch 44, Validation Loss: 23.05\n",
      "Epoch 45, Validation Loss: 23.82\n",
      "Epoch 46, Validation Loss: 23.43\n",
      "Epoch 47, Validation Loss: 22.03\n",
      "Epoch 48, Validation Loss: 23.03\n",
      "Epoch 49, Validation Loss: 22.94\n",
      "Epoch 50, Validation Loss: 22.88\n",
      "Epoch 51, Validation Loss: 23.00\n",
      "Epoch 52, Validation Loss: 23.12\n",
      "Epoch 53, Validation Loss: 23.57\n",
      "Epoch 54, Validation Loss: 23.34\n",
      "Epoch 55, Validation Loss: 27.05\n",
      "Epoch 56, Validation Loss: 23.83\n",
      "Epoch 57, Validation Loss: 25.66\n",
      "Epoch 58, Validation Loss: 23.05\n",
      "Epoch 59, Validation Loss: 22.02\n",
      "Epoch 60, Validation Loss: 23.29\n",
      "Epoch 61, Validation Loss: 23.04\n",
      "Epoch 62, Validation Loss: 21.88\n",
      "Early stopping at epoch 62\n",
      "Best model loaded.\n",
      "Training complete.\n",
      "The training time is 70.10 sec.\n"
     ]
    }
   ],
   "source": [
    "from src.problem.neuromancer.trainer import trainer\n",
    "# training\n",
    "epochs = 200                    # number of training epochs\n",
    "warmup = 20                     # number of epochs to wait before enacting early stopping policy\n",
    "patience = 20                   # number of epochs with no improvement in eval metric to allow before early stopping\n",
    "optimizer = torch.optim.AdamW(components.parameters(), lr=lr)\n",
    "# create a trainer for the problem\n",
    "my_trainer = trainer(components, loss_fn, optimizer, epochs, patience, warmup, device=\"cuda\")\n",
    "# training for the rounding problem\n",
    "my_trainer.train(loader_train, loader_dev)"
   ]
  },
  {
   "cell_type": "code",
   "execution_count": 16,
   "id": "3e835084-eb75-45d9-bcbd-5fb4c613fb41",
   "metadata": {},
   "outputs": [
    {
     "name": "stderr",
     "output_type": "stream",
     "text": [
      "100%|█████████████████████████████████████████████████████████████████████████████| 1000/1000 [00:02<00:00, 334.02it/s]\n"
     ]
    },
    {
     "name": "stdout",
     "output_type": "stream",
     "text": [
      "          Obj Val  Constraints Viol  Elapsed Time\n",
      "count  100.000000        100.000000    100.000000\n",
      "mean    22.119247          0.002249      0.002634\n",
      "std     11.048114          0.012923      0.000987\n",
      "min      2.790326          0.000000      0.001000\n",
      "25%     12.229221          0.000000      0.002000\n",
      "50%     21.444718          0.000000      0.002510\n",
      "75%     30.391718          0.000000      0.003000\n",
      "max     46.643310          0.082597      0.010011\n",
      "Number of infeasible solution: 3\n"
     ]
    }
   ],
   "source": [
    "params, sols, objvals, conviols, elapseds = [], [], [], [], []\n",
    "for p, a in tqdm(list(zip(p_test, a_test))):\n",
    "    # data point as tensor\n",
    "    datapoints = {\"p\": torch.tensor(np.array([p]), dtype=torch.float32).to(\"cuda\"), \n",
    "                  \"a\": torch.tensor(np.array([a]), dtype=torch.float32).to(\"cuda\"),\n",
    "                  \"name\": \"test\"}\n",
    "    # infer\n",
    "    components.eval()\n",
    "    tick = time.time()\n",
    "    with torch.no_grad():\n",
    "        for comp in components:\n",
    "            datapoints.update(comp(datapoints))\n",
    "    tock = time.time()\n",
    "    # assign params\n",
    "    model.set_param_val({\"p\":p, \"a\":a})\n",
    "    # assign vars\n",
    "    x = datapoints[\"x_rnd\"]\n",
    "    for i in range(2*num_blocks):\n",
    "        model.vars[\"x\"][i].value = x[0,i].item()\n",
    "    # get solutions\n",
    "    xval, objval = model.get_val()    \n",
    "    params.append(list(p)+list(a))\n",
    "    sols.append(list(list(xval.values())[0].values()))\n",
    "    objvals.append(objval)\n",
    "    conviols.append(sum(model.cal_violation()))\n",
    "    elapseds.append(tock - tick)\n",
    "df = pd.DataFrame({\"Param\":params, \"Sol\":sols, \"Obj Val\": objvals, \"Constraints Viol\": conviols, \"Elapsed Time\": elapseds})\n",
    "time.sleep(1)\n",
    "df.to_csv(\"result/rb_lr_50-1.csv\")\n",
    "df = df.iloc[:100]\n",
    "time.sleep(1)\n",
    "print(df.describe())\n",
    "print(\"Number of infeasible solution: {}\".format(np.sum(df[\"Constraints Viol\"] > 0)))"
   ]
  },
  {
   "cell_type": "markdown",
   "id": "2dbf8a72-29b9-49c4-b3c1-0d68895c1c1f",
   "metadata": {},
   "source": [
    "## Learnable Threshold"
   ]
  },
  {
   "cell_type": "code",
   "execution_count": 17,
   "id": "7912a689-22cd-4d7b-a50f-d136dbdf5940",
   "metadata": {},
   "outputs": [],
   "source": [
    "# random seed\n",
    "np.random.seed(42)\n",
    "torch.manual_seed(42)\n",
    "torch.cuda.manual_seed(42)"
   ]
  },
  {
   "cell_type": "code",
   "execution_count": 18,
   "id": "d46b9817-87ac-4af0-b387-b10c9a4998f4",
   "metadata": {},
   "outputs": [],
   "source": [
    "# hyperparameters\n",
    "penalty_weight = 80   # weight of constraint violation penealty\n",
    "hlayers_sol = 4       # number of hidden layers for solution mapping\n",
    "hlayers_rnd = 4       # number of hidden layers for solution mapping\n",
    "hsize = 32            # width of hidden layers for solution mapping\n",
    "lr = 1e-3             # learning rate\n",
    "batch_size = 64       # batch size"
   ]
  },
  {
   "cell_type": "code",
   "execution_count": 19,
   "id": "fa8b147f-39c8-4eb7-bb95-93dd8e4cb1cf",
   "metadata": {},
   "outputs": [],
   "source": [
    "# set problem\n",
    "import neuromancer as nm\n",
    "from src.problem import nmRosenbrock\n",
    "from src.func.layer import netFC\n",
    "from src.func import roundThresholdModel\n",
    "# build neural architecture for the solution map\n",
    "func = nm.modules.blocks.MLP(insize=num_blocks+1, outsize=2*num_blocks, bias=True,\n",
    "                             linear_map=nm.slim.maps[\"linear\"],\n",
    "                             nonlin=nn.ReLU, hsizes=[hsize]*hlayers_sol)\n",
    "smap = nm.system.Node(func, [\"p\", \"a\"], [\"x\"], name=\"smap\")\n",
    "# define rounding model\n",
    "layers_rnd = netFC(input_dim=3*num_blocks+1, hidden_dims=[hsize]*hlayers_rnd, output_dim=2*num_blocks)\n",
    "rnd = roundThresholdModel(layers=layers_rnd, param_keys=[\"p\", \"a\"], var_keys=[\"x\"],  output_keys=[\"x_rnd\"], \n",
    "                          int_ind=model.int_ind, continuous_update=True, name=\"round\")\n",
    "# build neuromancer problem for rounding\n",
    "components = nn.ModuleList([smap, rnd]).to(\"cuda\")\n",
    "loss_fn = nmRosenbrock([\"p\", \"a\", \"x_rnd\"], steepness, num_blocks, penalty_weight)"
   ]
  },
  {
   "cell_type": "code",
   "execution_count": 20,
   "id": "c6f5bb17-8c3c-4dcd-952d-caa1d7c4c4fa",
   "metadata": {},
   "outputs": [
    {
     "name": "stdout",
     "output_type": "stream",
     "text": [
      "Epoch 0, Validation Loss: 187.43\n",
      "Epoch 1, Validation Loss: 30.85\n",
      "Epoch 2, Validation Loss: 25.13\n",
      "Epoch 3, Validation Loss: 23.88\n",
      "Epoch 4, Validation Loss: 24.17\n",
      "Epoch 5, Validation Loss: 23.73\n",
      "Epoch 6, Validation Loss: 23.26\n",
      "Epoch 7, Validation Loss: 22.98\n",
      "Epoch 8, Validation Loss: 22.39\n",
      "Epoch 9, Validation Loss: 22.09\n",
      "Epoch 10, Validation Loss: 22.19\n",
      "Epoch 11, Validation Loss: 22.04\n",
      "Epoch 12, Validation Loss: 22.53\n",
      "Epoch 13, Validation Loss: 21.87\n",
      "Epoch 14, Validation Loss: 21.77\n",
      "Epoch 15, Validation Loss: 22.12\n",
      "Epoch 16, Validation Loss: 21.72\n",
      "Epoch 17, Validation Loss: 22.96\n",
      "Epoch 18, Validation Loss: 21.60\n",
      "Epoch 19, Validation Loss: 22.78\n",
      "Epoch 20, Validation Loss: 21.38\n",
      "Epoch 21, Validation Loss: 23.08\n",
      "Epoch 22, Validation Loss: 21.62\n",
      "Epoch 23, Validation Loss: 21.39\n",
      "Epoch 24, Validation Loss: 21.33\n",
      "Epoch 25, Validation Loss: 21.38\n",
      "Epoch 26, Validation Loss: 21.92\n",
      "Epoch 27, Validation Loss: 21.23\n",
      "Epoch 28, Validation Loss: 21.53\n",
      "Epoch 29, Validation Loss: 20.89\n",
      "Epoch 30, Validation Loss: 21.35\n",
      "Epoch 31, Validation Loss: 23.47\n",
      "Epoch 32, Validation Loss: 20.99\n",
      "Epoch 33, Validation Loss: 20.89\n",
      "Epoch 34, Validation Loss: 21.14\n",
      "Epoch 35, Validation Loss: 21.54\n",
      "Epoch 36, Validation Loss: 21.46\n",
      "Epoch 37, Validation Loss: 22.19\n",
      "Epoch 38, Validation Loss: 23.03\n",
      "Epoch 39, Validation Loss: 20.97\n",
      "Epoch 40, Validation Loss: 20.77\n",
      "Epoch 41, Validation Loss: 20.81\n",
      "Epoch 42, Validation Loss: 20.64\n",
      "Epoch 43, Validation Loss: 20.68\n",
      "Epoch 44, Validation Loss: 21.89\n",
      "Epoch 45, Validation Loss: 20.52\n",
      "Epoch 46, Validation Loss: 21.26\n",
      "Epoch 47, Validation Loss: 23.17\n",
      "Epoch 48, Validation Loss: 20.98\n",
      "Epoch 49, Validation Loss: 21.41\n",
      "Epoch 50, Validation Loss: 20.52\n",
      "Epoch 51, Validation Loss: 20.91\n",
      "Epoch 52, Validation Loss: 21.13\n",
      "Epoch 53, Validation Loss: 24.54\n",
      "Epoch 54, Validation Loss: 20.69\n",
      "Epoch 55, Validation Loss: 20.48\n",
      "Epoch 56, Validation Loss: 20.53\n",
      "Epoch 57, Validation Loss: 20.59\n",
      "Epoch 58, Validation Loss: 21.02\n",
      "Epoch 59, Validation Loss: 20.47\n",
      "Epoch 60, Validation Loss: 20.56\n",
      "Epoch 61, Validation Loss: 21.92\n",
      "Epoch 62, Validation Loss: 20.43\n",
      "Epoch 63, Validation Loss: 19.95\n",
      "Epoch 64, Validation Loss: 20.62\n",
      "Epoch 65, Validation Loss: 20.67\n",
      "Epoch 66, Validation Loss: 20.40\n",
      "Epoch 67, Validation Loss: 19.87\n",
      "Epoch 68, Validation Loss: 19.95\n",
      "Epoch 69, Validation Loss: 20.64\n",
      "Epoch 70, Validation Loss: 21.47\n",
      "Epoch 71, Validation Loss: 20.12\n",
      "Epoch 72, Validation Loss: 19.73\n",
      "Epoch 73, Validation Loss: 20.68\n",
      "Epoch 74, Validation Loss: 21.47\n",
      "Epoch 75, Validation Loss: 22.77\n",
      "Epoch 76, Validation Loss: 21.14\n",
      "Epoch 77, Validation Loss: 20.12\n",
      "Epoch 78, Validation Loss: 19.97\n",
      "Epoch 79, Validation Loss: 19.56\n",
      "Epoch 80, Validation Loss: 19.52\n",
      "Epoch 81, Validation Loss: 19.78\n",
      "Epoch 82, Validation Loss: 20.07\n",
      "Epoch 83, Validation Loss: 20.34\n",
      "Epoch 84, Validation Loss: 21.29\n",
      "Epoch 85, Validation Loss: 22.98\n",
      "Epoch 86, Validation Loss: 20.33\n",
      "Epoch 87, Validation Loss: 20.34\n",
      "Epoch 88, Validation Loss: 20.32\n",
      "Epoch 89, Validation Loss: 20.29\n",
      "Epoch 90, Validation Loss: 20.09\n",
      "Epoch 91, Validation Loss: 20.97\n",
      "Epoch 92, Validation Loss: 19.85\n",
      "Epoch 93, Validation Loss: 20.51\n",
      "Epoch 94, Validation Loss: 21.14\n",
      "Epoch 95, Validation Loss: 23.03\n",
      "Epoch 96, Validation Loss: 19.59\n",
      "Epoch 97, Validation Loss: 19.47\n",
      "Epoch 98, Validation Loss: 19.77\n",
      "Epoch 99, Validation Loss: 19.76\n",
      "Epoch 100, Validation Loss: 22.83\n",
      "Epoch 101, Validation Loss: 19.82\n",
      "Epoch 102, Validation Loss: 20.68\n",
      "Epoch 103, Validation Loss: 20.49\n",
      "Epoch 104, Validation Loss: 19.78\n",
      "Epoch 105, Validation Loss: 20.34\n",
      "Epoch 106, Validation Loss: 21.33\n",
      "Epoch 107, Validation Loss: 20.57\n",
      "Epoch 108, Validation Loss: 19.68\n",
      "Epoch 109, Validation Loss: 19.49\n",
      "Epoch 110, Validation Loss: 20.58\n",
      "Epoch 111, Validation Loss: 20.10\n",
      "Epoch 112, Validation Loss: 20.82\n",
      "Epoch 113, Validation Loss: 20.22\n",
      "Epoch 114, Validation Loss: 19.70\n",
      "Epoch 115, Validation Loss: 20.48\n",
      "Epoch 116, Validation Loss: 19.48\n",
      "Early stopping at epoch 116\n",
      "Best model loaded.\n",
      "Training complete.\n",
      "The training time is 142.79 sec.\n"
     ]
    }
   ],
   "source": [
    "from src.problem.neuromancer.trainer import trainer\n",
    "# training\n",
    "epochs = 200                    # number of training epochs\n",
    "warmup = 20                     # number of epochs to wait before enacting early stopping policy\n",
    "patience = 20                   # number of epochs with no improvement in eval metric to allow before early stopping\n",
    "optimizer = torch.optim.AdamW(components.parameters(), lr=lr)\n",
    "# create a trainer for the problem\n",
    "my_trainer = trainer(components, loss_fn, optimizer, epochs, patience, warmup, device=\"cuda\")\n",
    "# training for the rounding problem\n",
    "my_trainer.train(loader_train, loader_dev)"
   ]
  },
  {
   "cell_type": "code",
   "execution_count": 21,
   "id": "6584d57e-6b4c-4262-82f5-55735ef17cac",
   "metadata": {},
   "outputs": [
    {
     "name": "stderr",
     "output_type": "stream",
     "text": [
      "100%|█████████████████████████████████████████████████████████████████████████████| 1000/1000 [00:03<00:00, 256.32it/s]\n"
     ]
    },
    {
     "name": "stdout",
     "output_type": "stream",
     "text": [
      "          Obj Val  Constraints Viol  Elapsed Time\n",
      "count  100.000000        100.000000    100.000000\n",
      "mean    19.438295          0.001846      0.003141\n",
      "std     10.391273          0.010171      0.000840\n",
      "min      2.838517          0.000000      0.001506\n",
      "25%     11.042235          0.000000      0.002510\n",
      "50%     19.526488          0.000000      0.003009\n",
      "75%     27.423908          0.000000      0.003993\n",
      "max     41.876709          0.075890      0.005085\n",
      "Number of infeasible solution: 5\n"
     ]
    }
   ],
   "source": [
    "params, sols, objvals, conviols, elapseds = [], [], [], [], []\n",
    "for p, a in tqdm(list(zip(p_test, a_test))):\n",
    "    # data point as tensor\n",
    "    datapoints = {\"p\": torch.tensor(np.array([p]), dtype=torch.float32).to(\"cuda\"), \n",
    "                  \"a\": torch.tensor(np.array([a]), dtype=torch.float32).to(\"cuda\"),\n",
    "                  \"name\": \"test\"}\n",
    "    # infer\n",
    "    components.eval()\n",
    "    tick = time.time()\n",
    "    with torch.no_grad():\n",
    "        for comp in components:\n",
    "            datapoints.update(comp(datapoints))\n",
    "    tock = time.time()\n",
    "    # assign params\n",
    "    model.set_param_val({\"p\":p, \"a\":a})\n",
    "    # assign vars\n",
    "    x = datapoints[\"x_rnd\"]\n",
    "    for i in range(2*num_blocks):\n",
    "        model.vars[\"x\"][i].value = x[0,i].item()\n",
    "    # get solutions\n",
    "    xval, objval = model.get_val()    \n",
    "    params.append(list(p)+list(a))\n",
    "    sols.append(list(list(xval.values())[0].values()))\n",
    "    objvals.append(objval)\n",
    "    conviols.append(sum(model.cal_violation()))\n",
    "    elapseds.append(tock - tick)\n",
    "df = pd.DataFrame({\"Param\":params, \"Sol\":sols, \"Obj Val\": objvals, \"Constraints Viol\": conviols, \"Elapsed Time\": elapseds})\n",
    "time.sleep(1)\n",
    "df.to_csv(\"result/rb_lr_50-1.csv\")\n",
    "df = df.iloc[:100]\n",
    "time.sleep(1)\n",
    "print(df.describe())\n",
    "print(\"Number of infeasible solution: {}\".format(np.sum(df[\"Constraints Viol\"] > 0)))"
   ]
  },
  {
   "cell_type": "markdown",
   "id": "bece4166-1c16-45d5-a544-dbc93ee03cd1",
   "metadata": {},
   "source": [
    "## Parametric Learning Then Rounding"
   ]
  },
  {
   "cell_type": "code",
   "execution_count": 22,
   "id": "2fb68ab1-eaf8-4821-93ec-65e8c4b0a00c",
   "metadata": {},
   "outputs": [],
   "source": [
    "# random seed\n",
    "np.random.seed(42)\n",
    "torch.manual_seed(42)\n",
    "torch.cuda.manual_seed(42)"
   ]
  },
  {
   "cell_type": "code",
   "execution_count": 23,
   "id": "d01e8d11-e6f5-4e99-8dc4-e173751c927e",
   "metadata": {},
   "outputs": [],
   "source": [
    "# hyperparameters\n",
    "penalty_weight = 80   # weight of constraint violation penealty\n",
    "hlayers_sol = 4       # number of hidden layers for solution mapping\n",
    "hsize = 32            # width of hidden layers for solution mapping\n",
    "lr = 1e-3             # learning rate\n",
    "batch_size = 64       # batch size"
   ]
  },
  {
   "cell_type": "code",
   "execution_count": 28,
   "id": "99131f79-d4e9-4bcb-ba80-1d6284cdc5f2",
   "metadata": {},
   "outputs": [],
   "source": [
    "# set problem\n",
    "import neuromancer as nm\n",
    "from src.problem import nmQuadratic\n",
    "from src.func.layer import netFC\n",
    "# build neural architecture for the solution map\n",
    "func = nm.modules.blocks.MLP(insize=num_blocks+1, outsize=2*num_blocks, bias=True,\n",
    "                             linear_map=nm.slim.maps[\"linear\"],\n",
    "                             nonlin=nn.ReLU, hsizes=[hsize]*hlayers_sol)\n",
    "smap = nm.system.Node(func, [\"p\", \"a\"], [\"x\"], name=\"smap\")\n",
    "# build neuromancer problem for rounding\n",
    "components = nn.ModuleList([smap]).to(\"cuda\")\n",
    "loss_fn = nmRosenbrock([\"p\", \"a\", \"x\"], steepness, num_blocks, penalty_weight)"
   ]
  },
  {
   "cell_type": "code",
   "execution_count": 29,
   "id": "dea5cd27-82b8-433f-bdc2-e539e78cfa36",
   "metadata": {},
   "outputs": [
    {
     "name": "stdout",
     "output_type": "stream",
     "text": [
      "Epoch 0, Validation Loss: 185.27\n",
      "Epoch 1, Validation Loss: 38.03\n",
      "Epoch 2, Validation Loss: 19.96\n",
      "Epoch 3, Validation Loss: 17.08\n",
      "Epoch 4, Validation Loss: 17.08\n",
      "Epoch 5, Validation Loss: 17.14\n",
      "Epoch 6, Validation Loss: 16.97\n",
      "Epoch 7, Validation Loss: 16.95\n",
      "Epoch 8, Validation Loss: 17.06\n",
      "Epoch 9, Validation Loss: 16.86\n",
      "Epoch 10, Validation Loss: 17.02\n",
      "Epoch 11, Validation Loss: 17.06\n",
      "Epoch 12, Validation Loss: 17.19\n",
      "Epoch 13, Validation Loss: 17.01\n",
      "Epoch 14, Validation Loss: 16.91\n",
      "Epoch 15, Validation Loss: 17.14\n",
      "Epoch 16, Validation Loss: 17.02\n",
      "Epoch 17, Validation Loss: 17.02\n",
      "Epoch 18, Validation Loss: 16.91\n",
      "Epoch 19, Validation Loss: 17.24\n",
      "Epoch 20, Validation Loss: 16.97\n",
      "Epoch 21, Validation Loss: 16.88\n",
      "Epoch 22, Validation Loss: 16.99\n",
      "Epoch 23, Validation Loss: 17.02\n",
      "Epoch 24, Validation Loss: 16.98\n",
      "Epoch 25, Validation Loss: 17.14\n",
      "Epoch 26, Validation Loss: 17.04\n",
      "Epoch 27, Validation Loss: 17.16\n",
      "Epoch 28, Validation Loss: 16.85\n",
      "Epoch 29, Validation Loss: 16.99\n",
      "Epoch 30, Validation Loss: 16.98\n",
      "Epoch 31, Validation Loss: 16.86\n",
      "Epoch 32, Validation Loss: 17.12\n",
      "Epoch 33, Validation Loss: 17.34\n",
      "Epoch 34, Validation Loss: 16.83\n",
      "Epoch 35, Validation Loss: 16.90\n",
      "Epoch 36, Validation Loss: 16.97\n",
      "Epoch 37, Validation Loss: 17.07\n",
      "Epoch 38, Validation Loss: 16.99\n",
      "Epoch 39, Validation Loss: 17.14\n",
      "Epoch 40, Validation Loss: 17.21\n",
      "Epoch 41, Validation Loss: 17.00\n",
      "Epoch 42, Validation Loss: 16.96\n",
      "Epoch 43, Validation Loss: 17.13\n",
      "Epoch 44, Validation Loss: 16.92\n",
      "Epoch 45, Validation Loss: 16.99\n",
      "Epoch 46, Validation Loss: 16.92\n",
      "Epoch 47, Validation Loss: 17.13\n",
      "Epoch 48, Validation Loss: 17.00\n",
      "Epoch 49, Validation Loss: 17.10\n",
      "Epoch 50, Validation Loss: 17.23\n",
      "Epoch 51, Validation Loss: 16.85\n",
      "Epoch 52, Validation Loss: 17.01\n",
      "Epoch 53, Validation Loss: 16.96\n",
      "Early stopping at epoch 53\n",
      "Best model loaded.\n",
      "Training complete.\n",
      "The training time is 27.63 sec.\n"
     ]
    }
   ],
   "source": [
    "from src.problem.neuromancer.trainer import trainer\n",
    "# training\n",
    "epochs = 200                    # number of training epochs\n",
    "warmup = 20                     # number of epochs to wait before enacting early stopping policy\n",
    "patience = 20                   # number of epochs with no improvement in eval metric to allow before early stopping\n",
    "optimizer = torch.optim.AdamW(components.parameters(), lr=lr)\n",
    "# create a trainer for the problem\n",
    "my_trainer = trainer(components, loss_fn, optimizer, epochs, patience, warmup, device=\"cuda\")\n",
    "# training for the rounding problem\n",
    "my_trainer.train(loader_train, loader_dev)"
   ]
  },
  {
   "cell_type": "code",
   "execution_count": 34,
   "id": "188c6d47-2e52-418c-ba52-33fed3701736",
   "metadata": {},
   "outputs": [
    {
     "name": "stderr",
     "output_type": "stream",
     "text": [
      "100%|█████████████████████████████████████████████████████████████████████████████| 1000/1000 [00:01<00:00, 825.19it/s]\n"
     ]
    },
    {
     "name": "stdout",
     "output_type": "stream",
     "text": [
      "          Obj Val  Constraints Viol  Elapsed Time\n",
      "count  100.000000        100.000000    100.000000\n",
      "mean    21.674119          0.070975      0.000634\n",
      "std     10.356389          0.140274      0.000544\n",
      "min      2.965154          0.000000      0.000000\n",
      "25%     13.824205          0.000000      0.000000\n",
      "50%     20.230306          0.000000      0.000998\n",
      "75%     29.364229          0.047537      0.001001\n",
      "max     47.744203          0.467117      0.002043\n",
      "Number of infeasible solution: 29\n"
     ]
    }
   ],
   "source": [
    "from src.heuristic import naive_round\n",
    "params, sols, objvals, conviols, elapseds = [], [], [], [], []\n",
    "for p, a in tqdm(list(zip(p_test, a_test))):\n",
    "    # data point as tensor\n",
    "    datapoints = {\"p\": torch.tensor(np.array([p]), dtype=torch.float32).to(\"cuda\"), \n",
    "                  \"a\": torch.tensor(np.array([a]), dtype=torch.float32).to(\"cuda\"),\n",
    "                  \"name\": \"test\"}\n",
    "    # infer\n",
    "    components.eval()\n",
    "    tick = time.time()\n",
    "    with torch.no_grad():\n",
    "        for comp in components:\n",
    "            datapoints.update(comp(datapoints))\n",
    "    tock = time.time()\n",
    "    # assign params\n",
    "    model.set_param_val({\"p\":p, \"a\":a})\n",
    "    # assign vars\n",
    "    x = datapoints[\"x\"]\n",
    "    for i in range(num_blocks*2):\n",
    "        model.vars[\"x\"][i].value = x[0,i].item()\n",
    "    # get solutions\n",
    "    xval_rel, _ = model.get_val()\n",
    "    xval, objval = naive_round(xval_rel, model)\n",
    "    params.append(list(p)+list(a))\n",
    "    sols.append(list(list(xval.values())[0].values()))\n",
    "    objvals.append(objval)\n",
    "    conviols.append(sum(model.cal_violation()))\n",
    "    elapseds.append(tock - tick)\n",
    "df = pd.DataFrame({\"Param\":params, \"Sol\":sols, \"Obj Val\": objvals, \"Constraints Viol\": conviols, \"Elapsed Time\": elapseds})\n",
    "time.sleep(1)\n",
    "df.to_csv(\"result/rb_pr_50-1.csv\")\n",
    "df = df.iloc[:100]\n",
    "print(df.describe())\n",
    "print(\"Number of infeasible solution: {}\".format(np.sum(df[\"Constraints Viol\"] > 0)))"
   ]
  },
  {
   "cell_type": "code",
   "execution_count": null,
   "id": "a0f59c6d-2e26-4136-9cbb-ac7b3b76f90e",
   "metadata": {},
   "outputs": [],
   "source": []
  }
 ],
 "metadata": {
  "kernelspec": {
   "display_name": "Python 3 (ipykernel)",
   "language": "python",
   "name": "python3"
  },
  "language_info": {
   "codemirror_mode": {
    "name": "ipython",
    "version": 3
   },
   "file_extension": ".py",
   "mimetype": "text/x-python",
   "name": "python",
   "nbconvert_exporter": "python",
   "pygments_lexer": "ipython3",
   "version": "3.10.13"
  }
 },
 "nbformat": 4,
 "nbformat_minor": 5
}
