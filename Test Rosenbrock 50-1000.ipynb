{
 "cells": [
  {
   "cell_type": "code",
   "execution_count": 1,
   "id": "be61b914-e1af-43b9-9766-5092593f92dd",
   "metadata": {},
   "outputs": [],
   "source": [
    "import time\n",
    "\n",
    "import numpy as np\n",
    "import pandas as pd\n",
    "import torch\n",
    "from torch import nn\n",
    "from tqdm import tqdm\n",
    "\n",
    "# random seed\n",
    "np.random.seed(42)\n",
    "torch.manual_seed(42)\n",
    "torch.cuda.manual_seed(42)"
   ]
  },
  {
   "cell_type": "code",
   "execution_count": 2,
   "id": "35fe4527-9dbf-48f0-bfb3-62cda59092aa",
   "metadata": {},
   "outputs": [],
   "source": [
    "# turn off warning\n",
    "import logging\n",
    "logging.getLogger('pyomo.core').setLevel(logging.ERROR)"
   ]
  },
  {
   "cell_type": "markdown",
   "id": "c5560447-da9d-4cbe-aab4-538aa11c8ee8",
   "metadata": {},
   "source": [
    "## Problem Setting"
   ]
  },
  {
   "cell_type": "code",
   "execution_count": 3,
   "id": "52363c72-0d20-4c08-bd00-0f62aa73686c",
   "metadata": {},
   "outputs": [],
   "source": [
    "# init\n",
    "steepness = 50    # steepness factor\n",
    "num_blocks = 1000 # number of expression blocks\n",
    "num_data = 5000   # number of data\n",
    "test_size = 1000  # number of test size\n",
    "val_size = 1000   # number of validation size\n",
    "train_size = num_data - test_size - val_size"
   ]
  },
  {
   "cell_type": "code",
   "execution_count": 4,
   "id": "21938c00-d73f-4255-bc7c-bce6e8034cf8",
   "metadata": {},
   "outputs": [],
   "source": [
    "# parameters as input data\n",
    "p_low, p_high = 1.0, 8.0\n",
    "a_low, a_high = 0.5, 4.5\n",
    "p_train = np.random.uniform(p_low, p_high, (train_size, 1)).astype(np.float32)\n",
    "p_test  = np.random.uniform(p_low, p_high, (test_size, 1)).astype(np.float32)\n",
    "p_dev   = np.random.uniform(p_low, p_high, (val_size, 1)).astype(np.float32)\n",
    "a_train = np.random.uniform(a_low, a_high, (train_size, num_blocks)).astype(np.float32)\n",
    "a_test  = np.random.uniform(a_low, a_high, (test_size, num_blocks)).astype(np.float32)\n",
    "a_dev   = np.random.uniform(a_low, a_high, (val_size, num_blocks)).astype(np.float32)"
   ]
  },
  {
   "cell_type": "code",
   "execution_count": 5,
   "id": "5ecf81ff-627d-444d-8d90-121c7e20c217",
   "metadata": {},
   "outputs": [],
   "source": [
    "# nm datasets\n",
    "from neuromancer.dataset import DictDataset\n",
    "data_train = DictDataset({\"p\":p_train, \"a\":a_train}, name=\"train\")\n",
    "data_test = DictDataset({\"p\":p_test, \"a\":a_test}, name=\"test\")\n",
    "data_dev = DictDataset({\"p\":p_dev, \"a\":a_dev}, name=\"dev\")\n",
    "# torch dataloaders\n",
    "from torch.utils.data import DataLoader\n",
    "batch_size = 32\n",
    "loader_train = DataLoader(data_train, batch_size, num_workers=0, collate_fn=data_train.collate_fn, shuffle=True)\n",
    "loader_test = DataLoader(data_test, batch_size, num_workers=0, collate_fn=data_test.collate_fn, shuffle=False)\n",
    "loader_dev = DataLoader(data_dev, batch_size, num_workers=0, collate_fn=data_dev.collate_fn, shuffle=False)"
   ]
  },
  {
   "cell_type": "markdown",
   "id": "16ec0a67-54ea-4a9d-b037-0c7c9390e3f9",
   "metadata": {},
   "source": [
    "## Exact Solver"
   ]
  },
  {
   "cell_type": "code",
   "execution_count": 6,
   "id": "50aaabd7-90ed-4628-a1da-c98777868d92",
   "metadata": {},
   "outputs": [],
   "source": [
    "from src.problem import msRosenbrock\n",
    "model = msRosenbrock(steepness, num_blocks, timelimit=60)"
   ]
  },
  {
   "cell_type": "markdown",
   "id": "96304fbd-08f5-4be7-a81e-83c85332029c",
   "metadata": {},
   "source": [
    "## Heuristic - N1"
   ]
  },
  {
   "cell_type": "code",
   "execution_count": 7,
   "id": "356187af-e02d-4478-bf78-ada6a2e1b94b",
   "metadata": {},
   "outputs": [
    {
     "name": "stdout",
     "output_type": "stream",
     "text": [
      "ERROR: Unable to clone Pyomo component attribute. Component 'obj' contains an\n",
      "uncopyable field '_init_sense' (<class\n",
      "'pyomo.core.base.initializer.ConstantInitializer'>).  Setting field to `None`\n",
      "on new object\n"
     ]
    }
   ],
   "source": [
    "model_heur = model.first_solution_heuristic(nodes_limit=1)"
   ]
  },
  {
   "cell_type": "code",
   "execution_count": 8,
   "id": "f4c7fc52-cbbc-4414-bf1d-316d65c8db5b",
   "metadata": {},
   "outputs": [
    {
     "name": "stderr",
     "output_type": "stream",
     "text": [
      "100%|████████████████████████████████████████████████████████████████████████████| 1000/1000 [1:59:36<00:00,  7.18s/it]\n"
     ]
    },
    {
     "name": "stdout",
     "output_type": "stream",
     "text": [
      "            Obj Val  Constraints Viol  Elapsed Time\n",
      "count  1.000000e+03            1000.0   1000.000000\n",
      "mean   1.249891e+14               0.0      7.164278\n",
      "std    2.165959e+14               0.0      1.811283\n",
      "min    6.677052e+03               0.0      5.159213\n",
      "25%    8.147731e+03               0.0      5.879934\n",
      "50%    9.319791e+03               0.0      6.702751\n",
      "75%    1.249802e+14               0.0      7.822459\n",
      "max    4.999892e+14               0.0     20.008771\n",
      "Number of infeasible solution: 0\n"
     ]
    }
   ],
   "source": [
    "params, sols, objvals, conviols, elapseds = [], [], [], [], []\n",
    "for p, a in tqdm(list(zip(p_dev, a_dev))):\n",
    "    # set params\n",
    "    model_heur.set_param_val({\"p\":p, \"a\":a})\n",
    "    # solve\n",
    "    tick = time.time()\n",
    "    xval, objval = model_heur.solve(\"scip\")\n",
    "    tock = time.time()\n",
    "    # eval\n",
    "    params.append(list(p)+list(a))\n",
    "    sols.append(list(list(xval.values())[0].values()))\n",
    "    objvals.append(objval)\n",
    "    conviols.append(sum(model_heur.cal_violation()))\n",
    "    elapseds.append(tock - tick)\n",
    "df = pd.DataFrame({\"Param\":params, \"Sol\":sols, \"Obj Val\": objvals, \"Constraints Viol\": conviols, \"Elapsed Time\": elapseds})\n",
    "time.sleep(1)\n",
    "print(df.describe())\n",
    "print(\"Number of infeasible solution: {}\".format(np.sum(df[\"Constraints Viol\"] > 0)))\n",
    "df.to_csv(\"result/rb_heur_n1_50-1000.csv\")"
   ]
  },
  {
   "cell_type": "markdown",
   "id": "9819c60c-df5f-41c6-ae83-888c75aa78d7",
   "metadata": {},
   "source": [
    "## Learnable Rounding"
   ]
  },
  {
   "cell_type": "code",
   "execution_count": 7,
   "id": "2134fc68-b81e-441b-bd6f-8cdc5bf74866",
   "metadata": {},
   "outputs": [],
   "source": [
    "# random seed\n",
    "np.random.seed(42)\n",
    "torch.manual_seed(42)\n",
    "torch.cuda.manual_seed(42)"
   ]
  },
  {
   "cell_type": "code",
   "execution_count": 8,
   "id": "536d2d58-67ba-408a-b72a-7c5bd54a5ff4",
   "metadata": {},
   "outputs": [],
   "source": [
    "# hyperparameters\n",
    "penalty_weight = 10000 # weight of constraint violation penealty\n",
    "hlayers_sol = 4        # number of hidden layers for solution mapping\n",
    "hlayers_rnd = 4        # number of hidden layers for solution mapping\n",
    "hsize = 2048           # width of hidden layers for solution mapping\n",
    "lr = 1e-3              # learning rate"
   ]
  },
  {
   "cell_type": "code",
   "execution_count": 9,
   "id": "fee1241e-e53a-4cbb-927a-edcdb3537303",
   "metadata": {},
   "outputs": [],
   "source": [
    "# set problem\n",
    "import neuromancer as nm\n",
    "from src.problem import nmRosenbrock\n",
    "from src.func.layer import netFC\n",
    "from src.func import roundGumbelModel\n",
    "# build neural architecture for the solution map\n",
    "func = nm.modules.blocks.MLP(insize=num_blocks+1, outsize=2*num_blocks, bias=True,\n",
    "                             linear_map=nm.slim.maps[\"linear\"],\n",
    "                             nonlin=nn.ReLU, hsizes=[hsize]*hlayers_sol)\n",
    "smap = nm.system.Node(func, [\"p\", \"a\"], [\"x\"], name=\"smap\")\n",
    "# define rounding model\n",
    "layers_rnd = netFC(input_dim=3*num_blocks+1, hidden_dims=[hsize]*hlayers_rnd, output_dim=2*num_blocks)\n",
    "rnd = roundGumbelModel(layers=layers_rnd, param_keys=[\"p\", \"a\"], var_keys=[\"x\"],  output_keys=[\"x_rnd\"], \n",
    "                       int_ind=model.int_ind, continuous_update=True, name=\"round\")\n",
    "# build neuromancer problem for rounding\n",
    "components = nn.ModuleList([smap, rnd]).to(\"cuda\")\n",
    "loss_fn = nmRosenbrock([\"p\", \"a\", \"x_rnd\"], steepness, num_blocks)"
   ]
  },
  {
   "cell_type": "code",
   "execution_count": 10,
   "id": "e4f10263-5f69-4288-a4e8-8be83929c8d6",
   "metadata": {},
   "outputs": [
    {
     "name": "stdout",
     "output_type": "stream",
     "text": [
      "Epoch 0, Validation Loss: 143429.63\n",
      "Epoch 1, Validation Loss: 115900.00\n",
      "Epoch 2, Validation Loss: 127993.11\n",
      "Epoch 3, Validation Loss: 63064.74\n",
      "Epoch 4, Validation Loss: 644523.97\n",
      "Epoch 5, Validation Loss: 938724.74\n",
      "Epoch 6, Validation Loss: 83263.77\n",
      "Epoch 7, Validation Loss: 4122373.37\n",
      "Epoch 8, Validation Loss: 46205.25\n",
      "Epoch 9, Validation Loss: 414026.08\n",
      "Epoch 10, Validation Loss: 37387.88\n",
      "Epoch 11, Validation Loss: 19799.74\n",
      "Epoch 12, Validation Loss: 47740.83\n",
      "Epoch 13, Validation Loss: 16443.97\n",
      "Epoch 14, Validation Loss: 58899.39\n",
      "Epoch 15, Validation Loss: 11640.24\n",
      "Epoch 16, Validation Loss: 13527.90\n",
      "Epoch 17, Validation Loss: 15559.42\n",
      "Epoch 18, Validation Loss: 15985.22\n",
      "Epoch 19, Validation Loss: 10621.04\n",
      "Epoch 20, Validation Loss: 10488.57\n",
      "Epoch 21, Validation Loss: 12285.20\n",
      "Epoch 22, Validation Loss: 11600.55\n",
      "Epoch 23, Validation Loss: 10271.51\n",
      "Epoch 24, Validation Loss: 10304.57\n",
      "Epoch 25, Validation Loss: 9358.16\n",
      "Epoch 26, Validation Loss: 8967.97\n",
      "Epoch 27, Validation Loss: 10550.18\n",
      "Epoch 28, Validation Loss: 7736.23\n",
      "Epoch 29, Validation Loss: 7810.00\n",
      "Epoch 30, Validation Loss: 7245.74\n",
      "Epoch 31, Validation Loss: 7907.74\n",
      "Epoch 32, Validation Loss: 7917.15\n",
      "Epoch 33, Validation Loss: 12672.85\n",
      "Epoch 34, Validation Loss: 7318.49\n",
      "Epoch 35, Validation Loss: 8306.85\n",
      "Epoch 36, Validation Loss: 7680.22\n",
      "Epoch 37, Validation Loss: 7668.20\n",
      "Epoch 38, Validation Loss: 13583741385504190.00\n",
      "Epoch 39, Validation Loss: 213553474719252.38\n",
      "Epoch 40, Validation Loss: 32067.51\n",
      "Epoch 41, Validation Loss: 8145.10\n",
      "Epoch 42, Validation Loss: 17115.89\n",
      "Epoch 43, Validation Loss: 6624.01\n",
      "Epoch 44, Validation Loss: 15464.95\n",
      "Epoch 45, Validation Loss: 15103.23\n",
      "Epoch 46, Validation Loss: 21603.33\n",
      "Epoch 47, Validation Loss: 17743.24\n",
      "Epoch 48, Validation Loss: 18272.18\n",
      "Epoch 49, Validation Loss: 6712.36\n",
      "Epoch 50, Validation Loss: 15833.00\n",
      "Epoch 51, Validation Loss: 22878.24\n",
      "Epoch 52, Validation Loss: 230210297406701.53\n",
      "Epoch 53, Validation Loss: 6942.00\n",
      "Epoch 54, Validation Loss: 154330441777152.00\n",
      "Epoch 55, Validation Loss: 11012.67\n",
      "Epoch 56, Validation Loss: 8868.20\n",
      "Epoch 57, Validation Loss: 12764.85\n",
      "Epoch 58, Validation Loss: 649751578036007.62\n",
      "Epoch 59, Validation Loss: 20516.58\n",
      "Epoch 60, Validation Loss: 14616.91\n",
      "Epoch 61, Validation Loss: 1182841.06\n",
      "Epoch 62, Validation Loss: 406334072952375476224.00\n",
      "Early stopping at epoch 62\n",
      "Best model loaded.\n",
      "Training complete.\n"
     ]
    }
   ],
   "source": [
    "from src.problem.neuromancer.trainer import trainer\n",
    "# training\n",
    "epochs = 200                    # number of training epochs\n",
    "warmup = 20                     # number of epochs to wait before enacting early stopping policy\n",
    "patience = 20                   # number of epochs with no improvement in eval metric to allow before early stopping\n",
    "optimizer = torch.optim.AdamW(components.parameters(), lr=lr)\n",
    "# create a trainer for the problem\n",
    "my_trainer = trainer(components, loss_fn, optimizer, epochs, patience, warmup, device=\"cuda\")\n",
    "# training for the rounding problem\n",
    "my_trainer.train(loader_train, loader_dev)"
   ]
  },
  {
   "cell_type": "code",
   "execution_count": 11,
   "id": "3e835084-eb75-45d9-bcbd-5fb4c613fb41",
   "metadata": {},
   "outputs": [
    {
     "name": "stderr",
     "output_type": "stream",
     "text": [
      "100%|██████████████████████████████████████████████████████████████████████████████| 1000/1000 [02:20<00:00,  7.10it/s]\n"
     ]
    },
    {
     "name": "stdout",
     "output_type": "stream",
     "text": [
      "            Obj Val  Constraints Viol  Elapsed Time\n",
      "count   1000.000000       1000.000000   1000.000000\n",
      "mean    6357.728138          5.738670      0.019345\n",
      "std     2310.145717         32.967547      0.002545\n",
      "min     2902.516872          0.000000      0.002996\n",
      "25%     4949.477974          0.000000      0.019212\n",
      "50%     5894.668679          0.000000      0.019745\n",
      "75%     6872.249410          0.000000      0.020049\n",
      "max    16660.015531        492.800426      0.022525\n",
      "Number of infeasible solution: 49\n"
     ]
    }
   ],
   "source": [
    "params, sols, objvals, conviols, elapseds = [], [], [], [], []\n",
    "for p, a in tqdm(list(zip(p_dev, a_dev))):\n",
    "    # data point as tensor\n",
    "    datapoints = {\"p\": torch.tensor(np.array([p]), dtype=torch.float32).to(\"cuda\"), \n",
    "                  \"a\": torch.tensor(np.array([a]), dtype=torch.float32).to(\"cuda\"),\n",
    "                  \"name\": \"test\"}\n",
    "    # infer\n",
    "    components.eval()\n",
    "    tick = time.time()\n",
    "    with torch.no_grad():\n",
    "        for comp in components:\n",
    "            datapoints.update(comp(datapoints))\n",
    "    tock = time.time()\n",
    "    # assign params\n",
    "    model.set_param_val({\"p\":p, \"a\":a})\n",
    "    # assign vars\n",
    "    x = datapoints[\"x_rnd\"]\n",
    "    for i in range(2*num_blocks):\n",
    "        model.vars[\"x\"][i].value = x[0,i].item()\n",
    "    # get solutions\n",
    "    xval, objval = model.get_val()    \n",
    "    params.append(list(p)+list(a))\n",
    "    sols.append(list(list(xval.values())[0].values()))\n",
    "    objvals.append(objval)\n",
    "    conviols.append(sum(model.cal_violation()))\n",
    "    elapseds.append(tock - tick)\n",
    "df = pd.DataFrame({\"Param\":params, \"Sol\":sols, \"Obj Val\": objvals, \"Constraints Viol\": conviols, \"Elapsed Time\": elapseds})\n",
    "time.sleep(1)\n",
    "print(df.describe())\n",
    "print(\"Number of infeasible solution: {}\".format(np.sum(df[\"Constraints Viol\"] > 0)))\n",
    "df.to_csv(\"result/rb_lr_50-1000.csv\")"
   ]
  },
  {
   "cell_type": "markdown",
   "id": "2dbf8a72-29b9-49c4-b3c1-0d68895c1c1f",
   "metadata": {},
   "source": [
    "## Learnable Threshold"
   ]
  },
  {
   "cell_type": "code",
   "execution_count": 12,
   "id": "a771b3d9-7916-4cf9-99bb-0d845ae602c9",
   "metadata": {},
   "outputs": [],
   "source": [
    "# random seed\n",
    "np.random.seed(42)\n",
    "torch.manual_seed(42)\n",
    "torch.cuda.manual_seed(42)"
   ]
  },
  {
   "cell_type": "code",
   "execution_count": 13,
   "id": "d46b9817-87ac-4af0-b387-b10c9a4998f4",
   "metadata": {},
   "outputs": [],
   "source": [
    "# hyperparameters\n",
    "penalty_weight = 1000 # weight of constraint violation penealty\n",
    "hlayers_sol = 4       # number of hidden layers for solution mapping\n",
    "hlayers_rnd = 4       # number of hidden layers for solution mapping\n",
    "hsize = 2048          # width of hidden layers for solution mapping\n",
    "lr = 1e-3             # learning rate"
   ]
  },
  {
   "cell_type": "code",
   "execution_count": 14,
   "id": "fa8b147f-39c8-4eb7-bb95-93dd8e4cb1cf",
   "metadata": {},
   "outputs": [],
   "source": [
    "# set problem\n",
    "import neuromancer as nm\n",
    "from src.problem import nmRosenbrock\n",
    "from src.func.layer import netFC\n",
    "from src.func import roundThresholdModel\n",
    "# build neural architecture for the solution map\n",
    "func = nm.modules.blocks.MLP(insize=num_blocks+1, outsize=2*num_blocks, bias=True,\n",
    "                             linear_map=nm.slim.maps[\"linear\"],\n",
    "                             nonlin=nn.ReLU, hsizes=[hsize]*hlayers_sol)\n",
    "smap = nm.system.Node(func, [\"p\", \"a\"], [\"x\"], name=\"smap\")\n",
    "# define rounding model\n",
    "layers_rnd = netFC(input_dim=3*num_blocks+1, hidden_dims=[hsize]*hlayers_rnd, output_dim=2*num_blocks)\n",
    "rnd = roundThresholdModel(layers=layers_rnd, param_keys=[\"p\", \"a\"], var_keys=[\"x\"],  output_keys=[\"x_rnd\"], \n",
    "                          int_ind=model.int_ind, continuous_update=True, name=\"round\")\n",
    "# build neuromancer problem for rounding\n",
    "components = nn.ModuleList([smap, rnd]).to(\"cuda\")\n",
    "loss_fn = nmRosenbrock([\"p\", \"a\", \"x_rnd\"], steepness, num_blocks)"
   ]
  },
  {
   "cell_type": "code",
   "execution_count": 15,
   "id": "c6f5bb17-8c3c-4dcd-952d-caa1d7c4c4fa",
   "metadata": {},
   "outputs": [
    {
     "name": "stdout",
     "output_type": "stream",
     "text": [
      "Epoch 0, Validation Loss: 119191.00\n",
      "Epoch 1, Validation Loss: 103242.50\n",
      "Epoch 2, Validation Loss: 49453.37\n",
      "Epoch 3, Validation Loss: 39898.60\n",
      "Epoch 4, Validation Loss: 35072.94\n",
      "Epoch 5, Validation Loss: 21384.19\n",
      "Epoch 6, Validation Loss: 38918.05\n",
      "Epoch 7, Validation Loss: 30468.62\n",
      "Epoch 8, Validation Loss: 25291.34\n",
      "Epoch 9, Validation Loss: 22412.84\n",
      "Epoch 10, Validation Loss: 33291.81\n",
      "Epoch 11, Validation Loss: 15737.15\n",
      "Epoch 12, Validation Loss: 15881.57\n",
      "Epoch 13, Validation Loss: 16797.99\n",
      "Epoch 14, Validation Loss: 20727.59\n",
      "Epoch 15, Validation Loss: 14368.88\n",
      "Epoch 16, Validation Loss: 13701.97\n",
      "Epoch 17, Validation Loss: 21516.69\n",
      "Epoch 18, Validation Loss: 12356.11\n",
      "Epoch 19, Validation Loss: 13896.57\n",
      "Epoch 20, Validation Loss: 19742.80\n",
      "Epoch 21, Validation Loss: 12957.02\n",
      "Epoch 22, Validation Loss: 66736.64\n",
      "Epoch 23, Validation Loss: 29196.55\n",
      "Epoch 24, Validation Loss: 9596.76\n",
      "Epoch 25, Validation Loss: 2896213.92\n",
      "Epoch 26, Validation Loss: 8998.97\n",
      "Epoch 27, Validation Loss: 9084.63\n",
      "Epoch 28, Validation Loss: 7839.13\n",
      "Epoch 29, Validation Loss: 10829.50\n",
      "Epoch 30, Validation Loss: 11759.32\n",
      "Epoch 31, Validation Loss: 541783582844163.12\n",
      "Epoch 32, Validation Loss: 581376.10\n",
      "Epoch 33, Validation Loss: 10907.87\n",
      "Epoch 34, Validation Loss: 2538921888.53\n",
      "Epoch 35, Validation Loss: 7338.71\n",
      "Epoch 36, Validation Loss: 4961157.86\n",
      "Epoch 37, Validation Loss: 7316.11\n",
      "Epoch 38, Validation Loss: 19057.84\n",
      "Epoch 39, Validation Loss: 7602.59\n",
      "Epoch 40, Validation Loss: 6478.15\n",
      "Epoch 41, Validation Loss: 6696.14\n",
      "Epoch 42, Validation Loss: 7229.02\n",
      "Epoch 43, Validation Loss: 33954330355643.43\n",
      "Epoch 44, Validation Loss: 55336.94\n",
      "Epoch 45, Validation Loss: 325826812297771.19\n",
      "Epoch 46, Validation Loss: 6363.12\n",
      "Epoch 47, Validation Loss: 8823.78\n",
      "Epoch 48, Validation Loss: 6545.45\n",
      "Epoch 49, Validation Loss: 7360.22\n",
      "Epoch 50, Validation Loss: 15458.58\n",
      "Epoch 51, Validation Loss: 14611.59\n",
      "Epoch 52, Validation Loss: 8211.13\n",
      "Epoch 53, Validation Loss: 7344.73\n",
      "Epoch 54, Validation Loss: 8018.29\n",
      "Epoch 55, Validation Loss: 9383.43\n",
      "Epoch 56, Validation Loss: 17876.75\n",
      "Epoch 57, Validation Loss: 9694.43\n",
      "Epoch 58, Validation Loss: 38841.58\n",
      "Epoch 59, Validation Loss: 9259.36\n",
      "Epoch 60, Validation Loss: 7958.32\n",
      "Epoch 61, Validation Loss: 11422.92\n",
      "Epoch 62, Validation Loss: 6710.56\n",
      "Epoch 63, Validation Loss: 29491.36\n",
      "Epoch 64, Validation Loss: 8222.81\n",
      "Epoch 65, Validation Loss: 17631.49\n",
      "Early stopping at epoch 65\n",
      "Best model loaded.\n",
      "Training complete.\n"
     ]
    }
   ],
   "source": [
    "from src.problem.neuromancer.trainer import trainer\n",
    "# training\n",
    "epochs = 200                    # number of training epochs\n",
    "warmup = 20                     # number of epochs to wait before enacting early stopping policy\n",
    "patience = 20                   # number of epochs with no improvement in eval metric to allow before early stopping\n",
    "optimizer = torch.optim.AdamW(components.parameters(), lr=lr)\n",
    "# create a trainer for the problem\n",
    "my_trainer = trainer(components, loss_fn, optimizer, epochs, patience, warmup, device=\"cuda\")\n",
    "# training for the rounding problem\n",
    "my_trainer.train(loader_train, loader_dev)"
   ]
  },
  {
   "cell_type": "code",
   "execution_count": 16,
   "id": "6584d57e-6b4c-4262-82f5-55735ef17cac",
   "metadata": {},
   "outputs": [
    {
     "name": "stderr",
     "output_type": "stream",
     "text": [
      "100%|██████████████████████████████████████████████████████████████████████████████| 1000/1000 [02:22<00:00,  7.03it/s]\n"
     ]
    },
    {
     "name": "stdout",
     "output_type": "stream",
     "text": [
      "            Obj Val  Constraints Viol  Elapsed Time\n",
      "count   1000.000000       1000.000000   1000.000000\n",
      "mean    6300.617434          1.389105      0.019434\n",
      "std     1697.095446         12.859576      0.002212\n",
      "min     3873.477160          0.000000      0.003927\n",
      "25%     5379.147649          0.000000      0.019122\n",
      "50%     6100.950273          0.000000      0.019664\n",
      "75%     6641.603255          0.000000      0.020045\n",
      "max    24803.048244        199.828129      0.022887\n",
      "Number of infeasible solution: 19\n"
     ]
    }
   ],
   "source": [
    "params, sols, objvals, conviols, elapseds = [], [], [], [], []\n",
    "for p, a in tqdm(list(zip(p_dev, a_dev))):\n",
    "    # data point as tensor\n",
    "    datapoints = {\"p\": torch.tensor(np.array([p]), dtype=torch.float32).to(\"cuda\"), \n",
    "                  \"a\": torch.tensor(np.array([a]), dtype=torch.float32).to(\"cuda\"),\n",
    "                  \"name\": \"test\"}\n",
    "    # infer\n",
    "    components.eval()\n",
    "    tick = time.time()\n",
    "    with torch.no_grad():\n",
    "        for comp in components:\n",
    "            datapoints.update(comp(datapoints))\n",
    "    tock = time.time()\n",
    "    # assign params\n",
    "    model.set_param_val({\"p\":p, \"a\":a})\n",
    "    # assign vars\n",
    "    x = datapoints[\"x_rnd\"]\n",
    "    for i in range(2*num_blocks):\n",
    "        model.vars[\"x\"][i].value = x[0,i].item()\n",
    "    # get solutions\n",
    "    xval, objval = model.get_val()    \n",
    "    params.append(list(p)+list(a))\n",
    "    sols.append(list(list(xval.values())[0].values()))\n",
    "    objvals.append(objval)\n",
    "    conviols.append(sum(model.cal_violation()))\n",
    "    elapseds.append(tock - tick)\n",
    "df = pd.DataFrame({\"Param\":params, \"Sol\":sols, \"Obj Val\": objvals, \"Constraints Viol\": conviols, \"Elapsed Time\": elapseds})\n",
    "time.sleep(1)\n",
    "print(df.describe())\n",
    "print(\"Number of infeasible solution: {}\".format(np.sum(df[\"Constraints Viol\"] > 0)))\n",
    "df.to_csv(\"result/rb_lt_50-1000.csv\")"
   ]
  },
  {
   "cell_type": "code",
   "execution_count": null,
   "id": "c89bcb04-0e0f-4bad-9a4a-bd6bed7660dd",
   "metadata": {},
   "outputs": [],
   "source": []
  }
 ],
 "metadata": {
  "kernelspec": {
   "display_name": "Python 3 (ipykernel)",
   "language": "python",
   "name": "python3"
  },
  "language_info": {
   "codemirror_mode": {
    "name": "ipython",
    "version": 3
   },
   "file_extension": ".py",
   "mimetype": "text/x-python",
   "name": "python",
   "nbconvert_exporter": "python",
   "pygments_lexer": "ipython3",
   "version": "3.10.13"
  }
 },
 "nbformat": 4,
 "nbformat_minor": 5
}
