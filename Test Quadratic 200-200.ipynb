{
 "cells": [
  {
   "cell_type": "code",
   "execution_count": 1,
   "id": "be61b914-e1af-43b9-9766-5092593f92dd",
   "metadata": {},
   "outputs": [],
   "source": [
    "import time\n",
    "\n",
    "import numpy as np\n",
    "import pandas as pd\n",
    "import torch\n",
    "from torch import nn\n",
    "from tqdm import tqdm\n",
    "\n",
    "# random seed\n",
    "np.random.seed(42)\n",
    "torch.manual_seed(42)\n",
    "torch.cuda.manual_seed(42)"
   ]
  },
  {
   "cell_type": "code",
   "execution_count": 2,
   "id": "35fe4527-9dbf-48f0-bfb3-62cda59092aa",
   "metadata": {},
   "outputs": [],
   "source": [
    "# turn off warning\n",
    "import logging\n",
    "logging.getLogger('pyomo.core').setLevel(logging.ERROR)"
   ]
  },
  {
   "cell_type": "markdown",
   "id": "c5560447-da9d-4cbe-aab4-538aa11c8ee8",
   "metadata": {},
   "source": [
    "## Problem Setting"
   ]
  },
  {
   "cell_type": "code",
   "execution_count": 3,
   "id": "52363c72-0d20-4c08-bd00-0f62aa73686c",
   "metadata": {},
   "outputs": [],
   "source": [
    "# init\n",
    "num_var = 200     # number of variables\n",
    "num_ineq = 200    # number of constraints\n",
    "num_data = 10000  # number of data\n",
    "test_size = 1000  # number of test size\n",
    "val_size = 1000   # number of validation size\n",
    "train_size = num_data - test_size - val_size"
   ]
  },
  {
   "cell_type": "code",
   "execution_count": 4,
   "id": "21938c00-d73f-4255-bc7c-bce6e8034cf8",
   "metadata": {},
   "outputs": [],
   "source": [
    "# data sample from uniform distribution\n",
    "b_samples = torch.from_numpy(np.random.uniform(-1, 1, size=(num_data, num_ineq))).float()\n",
    "data = {\"b\":b_samples}\n",
    "# data split\n",
    "from src.utlis import data_split\n",
    "data_train, data_test, data_dev = data_split(data, test_size=test_size, val_size=val_size)"
   ]
  },
  {
   "cell_type": "code",
   "execution_count": 5,
   "id": "5ecf81ff-627d-444d-8d90-121c7e20c217",
   "metadata": {},
   "outputs": [],
   "source": [
    "# torch dataloaders\n",
    "from torch.utils.data import DataLoader\n",
    "batch_size = 64\n",
    "loader_train = DataLoader(data_train, batch_size, num_workers=0, collate_fn=data_train.collate_fn, shuffle=True)\n",
    "loader_test = DataLoader(data_test, batch_size, num_workers=0, collate_fn=data_test.collate_fn, shuffle=False)\n",
    "loader_dev = DataLoader(data_dev, batch_size, num_workers=0, collate_fn=data_dev.collate_fn, shuffle=False)"
   ]
  },
  {
   "cell_type": "markdown",
   "id": "16ec0a67-54ea-4a9d-b037-0c7c9390e3f9",
   "metadata": {},
   "source": [
    "## Exact Solver"
   ]
  },
  {
   "cell_type": "code",
   "execution_count": 6,
   "id": "50aaabd7-90ed-4628-a1da-c98777868d92",
   "metadata": {},
   "outputs": [],
   "source": [
    "from src.problem import msQuadratic\n",
    "model = msQuadratic(num_var, num_ineq)"
   ]
  },
  {
   "cell_type": "markdown",
   "id": "cad38e16-1a87-4f11-92b4-b608f7f3ea11",
   "metadata": {},
   "source": [
    "## Heuristic - Round"
   ]
  },
  {
   "cell_type": "code",
   "execution_count": 7,
   "id": "03328361-3f39-461d-ac81-40c8c14717bb",
   "metadata": {},
   "outputs": [],
   "source": [
    "from src.heuristic import naive_round"
   ]
  },
  {
   "cell_type": "code",
   "execution_count": 8,
   "id": "2e57b62f-dfb4-4c87-b42e-e43b202ef96c",
   "metadata": {},
   "outputs": [
    {
     "name": "stderr",
     "output_type": "stream",
     "text": [
      "  6%|████▌                                                                           | 57/1000 [01:07<23:23,  1.49s/it]"
     ]
    },
    {
     "name": "stdout",
     "output_type": "stream",
     "text": [
      "ERROR: Unable to clone Pyomo component attribute. Component 'OrderedScalarSet'\n",
      "contains an uncopyable field '_init_dimen' (<class\n",
      "'pyomo.core.base.initializer.ConstantInitializer'>).  Setting field to `None`\n",
      "on new object\n"
     ]
    },
    {
     "name": "stderr",
     "output_type": "stream",
     "text": [
      " 12%|█████████▍                                                                     | 120/1000 [02:25<17:56,  1.22s/it]"
     ]
    },
    {
     "name": "stdout",
     "output_type": "stream",
     "text": [
      "ERROR: Unable to clone Pyomo component attribute. Component 'OrderedScalarSet'\n",
      "contains an uncopyable field '_init_dimen' (<class\n",
      "'pyomo.core.base.initializer.ConstantInitializer'>).  Setting field to `None`\n",
      "on new object\n"
     ]
    },
    {
     "name": "stderr",
     "output_type": "stream",
     "text": [
      " 17%|█████████████▏                                                                 | 167/1000 [03:24<14:52,  1.07s/it]"
     ]
    },
    {
     "name": "stdout",
     "output_type": "stream",
     "text": [
      "ERROR: Unable to clone Pyomo component attribute. Component 'OrderedScalarSet'\n",
      "contains an uncopyable field '_init_dimen' (<class\n",
      "'pyomo.core.base.initializer.ConstantInitializer'>).  Setting field to `None`\n",
      "on new object\n"
     ]
    },
    {
     "name": "stderr",
     "output_type": "stream",
     "text": [
      " 27%|█████████████████████▍                                                         | 271/1000 [05:28<13:08,  1.08s/it]"
     ]
    },
    {
     "name": "stdout",
     "output_type": "stream",
     "text": [
      "ERROR: Unable to clone Pyomo component attribute. Component 'OrderedScalarSet'\n",
      "contains an uncopyable field '_init_dimen' (<class\n",
      "'pyomo.core.base.initializer.ConstantInitializer'>).  Setting field to `None`\n",
      "on new object\n"
     ]
    },
    {
     "name": "stderr",
     "output_type": "stream",
     "text": [
      " 34%|██████████████████████████▌                                                    | 337/1000 [06:42<12:26,  1.13s/it]"
     ]
    },
    {
     "name": "stdout",
     "output_type": "stream",
     "text": [
      "ERROR: Unable to clone Pyomo component attribute. Component 'OrderedScalarSet'\n",
      "contains an uncopyable field '_init_dimen' (<class\n",
      "'pyomo.core.base.initializer.ConstantInitializer'>).  Setting field to `None`\n",
      "on new object\n"
     ]
    },
    {
     "name": "stderr",
     "output_type": "stream",
     "text": [
      " 34%|███████████████████████████▎                                                   | 345/1000 [06:53<14:15,  1.31s/it]"
     ]
    },
    {
     "name": "stdout",
     "output_type": "stream",
     "text": [
      "ERROR: Unable to clone Pyomo component attribute. Component 'obj' contains an\n",
      "uncopyable field '_init_sense' (<class\n",
      "'pyomo.core.base.initializer.ConstantInitializer'>).  Setting field to `None`\n",
      "on new object\n"
     ]
    },
    {
     "name": "stderr",
     "output_type": "stream",
     "text": [
      " 37%|█████████████████████████████▏                                                 | 369/1000 [07:25<13:30,  1.28s/it]"
     ]
    },
    {
     "name": "stdout",
     "output_type": "stream",
     "text": [
      "ERROR: Unable to clone Pyomo component attribute. Component 'OrderedScalarSet'\n",
      "contains an uncopyable field '_init_dimen' (<class\n",
      "'pyomo.core.base.initializer.ConstantInitializer'>).  Setting field to `None`\n",
      "on new object\n"
     ]
    },
    {
     "name": "stderr",
     "output_type": "stream",
     "text": [
      " 59%|██████████████████████████████████████████████▎                                | 586/1000 [12:00<08:18,  1.20s/it]"
     ]
    },
    {
     "name": "stdout",
     "output_type": "stream",
     "text": [
      "ERROR: Unable to clone Pyomo component attribute. Component 'OrderedScalarSet'\n",
      "contains an uncopyable field '_init_dimen' (<class\n",
      "'pyomo.core.base.initializer.ConstantInitializer'>).  Setting field to `None`\n",
      "on new object\n"
     ]
    },
    {
     "name": "stderr",
     "output_type": "stream",
     "text": [
      " 69%|██████████████████████████████████████████████████████▋                        | 693/1000 [14:10<05:48,  1.13s/it]"
     ]
    },
    {
     "name": "stdout",
     "output_type": "stream",
     "text": [
      "ERROR: Unable to clone Pyomo component attribute. Component 'OrderedScalarSet'\n",
      "contains an uncopyable field '_init_dimen' (<class\n",
      "'pyomo.core.base.initializer.ConstantInitializer'>).  Setting field to `None`\n",
      "on new object\n"
     ]
    },
    {
     "name": "stderr",
     "output_type": "stream",
     "text": [
      " 70%|███████████████████████████████████████████████████████                        | 697/1000 [14:15<05:49,  1.15s/it]"
     ]
    },
    {
     "name": "stdout",
     "output_type": "stream",
     "text": [
      "ERROR: Unable to clone Pyomo component attribute. Component 'obj' contains an\n",
      "uncopyable field '_init_sense' (<class\n",
      "'pyomo.core.base.initializer.ConstantInitializer'>).  Setting field to `None`\n",
      "on new object\n"
     ]
    },
    {
     "name": "stderr",
     "output_type": "stream",
     "text": [
      "100%|██████████████████████████████████████████████████████████████████████████████| 1000/1000 [20:26<00:00,  1.23s/it]\n"
     ]
    },
    {
     "name": "stdout",
     "output_type": "stream",
     "text": [
      "           Obj Val  Constraints Viol  Elapsed Time\n",
      "count  1000.000000       1000.000000   1000.000000\n",
      "mean    -46.730136         16.508989      0.332651\n",
      "std       0.444228          2.188989      0.079426\n",
      "min     -47.932033          9.702206      0.272455\n",
      "25%     -47.025423         14.941754      0.293414\n",
      "50%     -46.752522         16.485873      0.307633\n",
      "75%     -46.441484         18.010361      0.346934\n",
      "max     -45.188960         24.531775      1.151797\n",
      "Number of infeasible solution: 1000\n"
     ]
    }
   ],
   "source": [
    "params, sols, objvals, conviols, elapseds = [], [], [], [], []\n",
    "for b in tqdm(data_test.datadict[\"b\"]):\n",
    "    # set params\n",
    "    model.set_param_val({\"b\":b.cpu().numpy()})\n",
    "    # relax\n",
    "    model_rel = model.relax()\n",
    "    # solve\n",
    "    tick = time.time()\n",
    "    xval_rel, _ = model_rel.solve(\"gurobi\")\n",
    "    xval, objval = naive_round(xval_rel, model)\n",
    "    tock = time.time()\n",
    "    # eval\n",
    "    params.append(list(b))\n",
    "    sols.append(list(list(xval.values())[0].values()))\n",
    "    objvals.append(objval)\n",
    "    conviols.append(sum(model.cal_violation()))\n",
    "    elapseds.append(tock - tick)\n",
    "df = pd.DataFrame({\"Param\":params, \"Sol\":sols, \"Obj Val\": objvals, \"Constraints Viol\": conviols, \"Elapsed Time\": elapseds})\n",
    "time.sleep(1)\n",
    "print(df.describe())\n",
    "print(\"Number of infeasible solution: {}\".format(np.sum(df[\"Constraints Viol\"] > 0)))\n",
    "df.to_csv(\"result/cq_heur_rnd_200-200.csv\")"
   ]
  },
  {
   "cell_type": "markdown",
   "id": "9819c60c-df5f-41c6-ae83-888c75aa78d7",
   "metadata": {},
   "source": [
    "## Learnable Rounding"
   ]
  },
  {
   "cell_type": "code",
   "execution_count": 9,
   "id": "6a4fb3e2-9c47-4c10-8116-e94be18ea59c",
   "metadata": {},
   "outputs": [],
   "source": [
    "# random seed\n",
    "np.random.seed(42)\n",
    "torch.manual_seed(42)\n",
    "torch.cuda.manual_seed(42)"
   ]
  },
  {
   "cell_type": "code",
   "execution_count": 10,
   "id": "536d2d58-67ba-408a-b72a-7c5bd54a5ff4",
   "metadata": {},
   "outputs": [],
   "source": [
    "# hyperparameters\n",
    "penalty_weight = 50   # weight of constraint violation penealty\n",
    "hlayers_sol = 5       # number of hidden layers for solution mapping\n",
    "hlayers_rnd = 4       # number of hidden layers for solution mapping\n",
    "hsize = 512           # width of hidden layers for solution mapping\n",
    "lr = 1e-3             # learning rate"
   ]
  },
  {
   "cell_type": "code",
   "execution_count": 11,
   "id": "fee1241e-e53a-4cbb-927a-edcdb3537303",
   "metadata": {},
   "outputs": [],
   "source": [
    "# set problem\n",
    "import neuromancer as nm\n",
    "from src.problem import nmQuadratic\n",
    "from src.func.layer import netFC\n",
    "from src.func import roundGumbelModel\n",
    "# build neural architecture for the solution map\n",
    "func = nm.modules.blocks.MLP(insize=num_ineq, outsize=num_var, bias=True,\n",
    "                             linear_map=nm.slim.maps[\"linear\"],\n",
    "                             nonlin=nn.ReLU, hsizes=[hsize]*hlayers_sol)\n",
    "smap = nm.system.Node(func, [\"b\"], [\"x\"], name=\"smap\")\n",
    "# define rounding model\n",
    "layers_rnd = netFC(input_dim=num_ineq+num_var, hidden_dims=[hsize]*hlayers_rnd, output_dim=num_var)\n",
    "rnd = roundGumbelModel(layers=layers_rnd, param_keys=[\"b\"], var_keys=[\"x\"],  output_keys=[\"x_rnd\"], \n",
    "                       int_ind=model.int_ind, continuous_update=True, name=\"round\")\n",
    "# build neuromancer problem for rounding\n",
    "components = nn.ModuleList([smap, rnd]).to(\"cuda\")\n",
    "loss_fn = nmQuadratic([\"b\", \"x_rnd\"], num_var, num_ineq, penalty_weight)"
   ]
  },
  {
   "cell_type": "code",
   "execution_count": 12,
   "id": "e4f10263-5f69-4288-a4e8-8be83929c8d6",
   "metadata": {},
   "outputs": [
    {
     "name": "stdout",
     "output_type": "stream",
     "text": [
      "Epoch 0, Validation Loss: 4627.95\n",
      "Epoch 1, Validation Loss: -7.91\n",
      "Epoch 2, Validation Loss: -17.02\n",
      "Epoch 3, Validation Loss: -18.60\n",
      "Epoch 4, Validation Loss: -20.66\n",
      "Epoch 5, Validation Loss: -21.15\n",
      "Epoch 6, Validation Loss: -22.71\n",
      "Epoch 7, Validation Loss: -22.85\n",
      "Epoch 8, Validation Loss: -24.34\n",
      "Epoch 9, Validation Loss: -25.43\n",
      "Epoch 10, Validation Loss: -25.74\n",
      "Epoch 11, Validation Loss: -24.34\n",
      "Epoch 12, Validation Loss: -27.45\n",
      "Epoch 13, Validation Loss: -25.51\n",
      "Epoch 14, Validation Loss: -27.36\n",
      "Epoch 15, Validation Loss: -27.96\n",
      "Epoch 16, Validation Loss: -28.34\n",
      "Epoch 17, Validation Loss: -28.68\n",
      "Epoch 18, Validation Loss: -27.77\n",
      "Epoch 19, Validation Loss: -28.49\n",
      "Epoch 20, Validation Loss: -28.00\n",
      "Epoch 21, Validation Loss: -28.19\n",
      "Epoch 22, Validation Loss: -29.17\n",
      "Epoch 23, Validation Loss: -30.06\n",
      "Epoch 24, Validation Loss: -28.31\n",
      "Epoch 25, Validation Loss: -29.92\n",
      "Epoch 26, Validation Loss: -30.27\n",
      "Epoch 27, Validation Loss: -29.14\n",
      "Epoch 28, Validation Loss: -27.57\n",
      "Epoch 29, Validation Loss: -29.82\n",
      "Epoch 30, Validation Loss: -29.81\n",
      "Epoch 31, Validation Loss: -30.38\n",
      "Epoch 32, Validation Loss: -29.70\n",
      "Epoch 33, Validation Loss: -30.06\n",
      "Epoch 34, Validation Loss: -29.19\n",
      "Epoch 35, Validation Loss: -29.71\n",
      "Epoch 36, Validation Loss: -30.56\n",
      "Epoch 37, Validation Loss: -29.08\n",
      "Epoch 38, Validation Loss: -30.11\n",
      "Epoch 39, Validation Loss: -28.96\n",
      "Epoch 40, Validation Loss: -29.17\n",
      "Epoch 41, Validation Loss: -28.35\n",
      "Epoch 42, Validation Loss: -27.51\n",
      "Epoch 43, Validation Loss: -29.93\n",
      "Epoch 44, Validation Loss: -30.73\n",
      "Epoch 45, Validation Loss: -30.00\n",
      "Epoch 46, Validation Loss: -28.78\n",
      "Epoch 47, Validation Loss: -29.77\n",
      "Epoch 48, Validation Loss: -28.33\n",
      "Epoch 49, Validation Loss: -28.99\n",
      "Epoch 50, Validation Loss: -28.02\n",
      "Epoch 51, Validation Loss: -30.48\n",
      "Epoch 52, Validation Loss: -31.21\n",
      "Epoch 53, Validation Loss: 1.72\n",
      "Epoch 54, Validation Loss: -30.59\n",
      "Epoch 55, Validation Loss: -30.56\n",
      "Epoch 56, Validation Loss: -26.51\n",
      "Epoch 57, Validation Loss: -29.28\n",
      "Epoch 58, Validation Loss: -31.07\n",
      "Epoch 59, Validation Loss: -28.85\n",
      "Epoch 60, Validation Loss: -30.72\n",
      "Epoch 61, Validation Loss: -30.21\n",
      "Epoch 62, Validation Loss: -31.08\n",
      "Epoch 63, Validation Loss: -27.82\n",
      "Epoch 64, Validation Loss: -30.93\n",
      "Epoch 65, Validation Loss: -26.30\n",
      "Epoch 66, Validation Loss: -30.43\n",
      "Epoch 67, Validation Loss: -30.44\n",
      "Epoch 68, Validation Loss: -32.18\n",
      "Epoch 69, Validation Loss: -31.44\n",
      "Epoch 70, Validation Loss: -27.66\n",
      "Epoch 71, Validation Loss: -29.54\n",
      "Epoch 72, Validation Loss: -29.31\n",
      "Epoch 73, Validation Loss: -30.31\n",
      "Epoch 74, Validation Loss: -27.18\n",
      "Epoch 75, Validation Loss: -29.94\n",
      "Epoch 76, Validation Loss: -3.96\n",
      "Epoch 77, Validation Loss: -31.11\n",
      "Epoch 78, Validation Loss: -30.68\n",
      "Epoch 79, Validation Loss: -29.64\n",
      "Epoch 80, Validation Loss: -30.87\n",
      "Epoch 81, Validation Loss: -25.20\n",
      "Epoch 82, Validation Loss: 82.70\n",
      "Epoch 83, Validation Loss: -30.65\n",
      "Epoch 84, Validation Loss: -18.98\n",
      "Epoch 85, Validation Loss: -29.32\n",
      "Epoch 86, Validation Loss: -24.93\n",
      "Epoch 87, Validation Loss: -29.70\n",
      "Early stopping at epoch 87\n",
      "Best model loaded.\n",
      "Training complete.\n"
     ]
    }
   ],
   "source": [
    "from src.problem.neuromancer.trainer import trainer\n",
    "# training\n",
    "epochs = 200                    # number of training epochs\n",
    "warmup = 20                     # number of epochs to wait before enacting early stopping policy\n",
    "patience = 20                   # number of epochs with no improvement in eval metric to allow before early stopping\n",
    "optimizer = torch.optim.AdamW(components.parameters(), lr=lr)\n",
    "# create a trainer for the problem\n",
    "my_trainer = trainer(components, loss_fn, optimizer, epochs, patience, warmup, device=\"cuda\")\n",
    "# training for the rounding problem\n",
    "my_trainer.train(loader_train, loader_dev)"
   ]
  },
  {
   "cell_type": "code",
   "execution_count": 13,
   "id": "3e835084-eb75-45d9-bcbd-5fb4c613fb41",
   "metadata": {},
   "outputs": [
    {
     "name": "stderr",
     "output_type": "stream",
     "text": [
      "100%|██████████████████████████████████████████████████████████████████████████████| 1000/1000 [02:02<00:00,  8.17it/s]\n"
     ]
    },
    {
     "name": "stdout",
     "output_type": "stream",
     "text": [
      "           Obj Val  Constraints Viol  Elapsed Time\n",
      "count  1000.000000       1000.000000   1000.000000\n",
      "mean    -32.294299          0.001352      0.004790\n",
      "std       0.109061          0.013102      0.003123\n",
      "min     -32.482080          0.000000      0.001617\n",
      "25%     -32.405177          0.000000      0.003015\n",
      "50%     -32.271355          0.000000      0.003608\n",
      "75%     -32.210489          0.000000      0.005210\n",
      "max     -32.101241          0.211506      0.022439\n",
      "Number of infeasible solution: 22\n"
     ]
    }
   ],
   "source": [
    "params, sols, objvals, conviols, elapseds = [], [], [], [], []\n",
    "for b in tqdm(data_test.datadict[\"b\"]):\n",
    "    # data point as tensor\n",
    "    datapoints = {\"b\": torch.unsqueeze(b, 0).to(\"cuda\"), \n",
    "                  \"name\": \"test\"}\n",
    "    # infer\n",
    "    components.eval()\n",
    "    tick = time.time()\n",
    "    with torch.no_grad():\n",
    "        for comp in components:\n",
    "            datapoints.update(comp(datapoints))\n",
    "    tock = time.time()\n",
    "    # assign params\n",
    "    model.set_param_val({\"b\":b.cpu().numpy()})\n",
    "    # assign vars\n",
    "    x = datapoints[\"x_rnd\"]\n",
    "    for i in range(num_var):\n",
    "        model.vars[\"x\"][i].value = x[0,i].item()\n",
    "    # get solutions\n",
    "    xval, objval = model.get_val()    \n",
    "    params.append(list(b.cpu().numpy()))\n",
    "    sols.append(list(list(xval.values())[0].values()))\n",
    "    objvals.append(objval)\n",
    "    conviols.append(sum(model.cal_violation()))\n",
    "    elapseds.append(tock - tick)\n",
    "df = pd.DataFrame({\"Param\":params, \"Sol\":sols, \"Obj Val\": objvals, \"Constraints Viol\": conviols, \"Elapsed Time\": elapseds})\n",
    "time.sleep(1)\n",
    "print(df.describe())\n",
    "print(\"Number of infeasible solution: {}\".format(np.sum(df[\"Constraints Viol\"] > 0)))\n",
    "df.to_csv(\"result/cq_lr_200-200.csv\")"
   ]
  },
  {
   "cell_type": "markdown",
   "id": "2dbf8a72-29b9-49c4-b3c1-0d68895c1c1f",
   "metadata": {},
   "source": [
    "## Learnable Threshold"
   ]
  },
  {
   "cell_type": "code",
   "execution_count": 14,
   "id": "36c57dbb-8dee-4976-8922-82a155fe0128",
   "metadata": {},
   "outputs": [],
   "source": [
    "# random seed\n",
    "np.random.seed(42)\n",
    "torch.manual_seed(42)\n",
    "torch.cuda.manual_seed(42)"
   ]
  },
  {
   "cell_type": "code",
   "execution_count": 15,
   "id": "d46b9817-87ac-4af0-b387-b10c9a4998f4",
   "metadata": {},
   "outputs": [],
   "source": [
    "# hyperparameters\n",
    "penalty_weight = 50   # weight of constraint violation penealty\n",
    "hlayers_sol = 5       # number of hidden layers for solution mapping\n",
    "hlayers_rnd = 4       # number of hidden layers for solution mapping\n",
    "hsize = 512           # width of hidden layers for solution mapping\n",
    "lr = 1e-3             # learning rate"
   ]
  },
  {
   "cell_type": "code",
   "execution_count": 16,
   "id": "fa8b147f-39c8-4eb7-bb95-93dd8e4cb1cf",
   "metadata": {},
   "outputs": [],
   "source": [
    "# set problem\n",
    "import neuromancer as nm\n",
    "from src.problem import nmQuadratic\n",
    "from src.func.layer import netFC\n",
    "from src.func import roundThresholdModel\n",
    "# build neural architecture for the solution map\n",
    "func = nm.modules.blocks.MLP(insize=num_ineq, outsize=num_var, bias=True,\n",
    "                             linear_map=nm.slim.maps[\"linear\"],\n",
    "                             nonlin=nn.ReLU, hsizes=[hsize]*hlayers_sol)\n",
    "smap = nm.system.Node(func, [\"b\"], [\"x\"], name=\"smap\")\n",
    "# define rounding model\n",
    "layers_rnd = netFC(input_dim=num_ineq+num_var, hidden_dims=[hsize]*hlayers_rnd, output_dim=num_var)\n",
    "rnd = roundThresholdModel(layers=layers_rnd, param_keys=[\"b\"], var_keys=[\"x\"],  output_keys=[\"x_rnd\"], \n",
    "                       int_ind=model.int_ind, continuous_update=True, name=\"round\")\n",
    "# build neuromancer problem for rounding\n",
    "components = nn.ModuleList([smap, rnd]).to(\"cuda\")\n",
    "loss_fn = nmQuadratic([\"b\", \"x_rnd\"], num_var, num_ineq, penalty_weight)"
   ]
  },
  {
   "cell_type": "code",
   "execution_count": 17,
   "id": "c6f5bb17-8c3c-4dcd-952d-caa1d7c4c4fa",
   "metadata": {},
   "outputs": [
    {
     "name": "stdout",
     "output_type": "stream",
     "text": [
      "Epoch 0, Validation Loss: 2502.10\n",
      "Epoch 1, Validation Loss: -14.01\n",
      "Epoch 2, Validation Loss: -19.96\n",
      "Epoch 3, Validation Loss: -22.66\n",
      "Epoch 4, Validation Loss: -25.59\n",
      "Epoch 5, Validation Loss: -24.84\n",
      "Epoch 6, Validation Loss: -24.03\n",
      "Epoch 7, Validation Loss: -24.83\n",
      "Epoch 8, Validation Loss: -25.53\n",
      "Epoch 9, Validation Loss: -27.80\n",
      "Epoch 10, Validation Loss: -25.46\n",
      "Epoch 11, Validation Loss: -25.46\n",
      "Epoch 12, Validation Loss: -28.18\n",
      "Epoch 13, Validation Loss: -27.55\n",
      "Epoch 14, Validation Loss: -29.21\n",
      "Epoch 15, Validation Loss: -28.57\n",
      "Epoch 16, Validation Loss: -28.18\n",
      "Epoch 17, Validation Loss: -28.98\n",
      "Epoch 18, Validation Loss: -27.26\n",
      "Epoch 19, Validation Loss: -28.75\n",
      "Epoch 20, Validation Loss: -28.69\n",
      "Epoch 21, Validation Loss: -28.97\n",
      "Epoch 22, Validation Loss: -29.57\n",
      "Epoch 23, Validation Loss: -29.58\n",
      "Epoch 24, Validation Loss: -30.53\n",
      "Epoch 25, Validation Loss: -29.02\n",
      "Epoch 26, Validation Loss: -27.01\n",
      "Epoch 27, Validation Loss: -28.69\n",
      "Epoch 28, Validation Loss: -29.69\n",
      "Epoch 29, Validation Loss: -28.00\n",
      "Epoch 30, Validation Loss: -29.93\n",
      "Epoch 31, Validation Loss: -29.65\n",
      "Epoch 32, Validation Loss: -29.73\n",
      "Epoch 33, Validation Loss: -30.09\n",
      "Epoch 34, Validation Loss: -30.22\n",
      "Epoch 35, Validation Loss: -29.80\n",
      "Epoch 36, Validation Loss: -30.21\n",
      "Epoch 37, Validation Loss: -31.32\n",
      "Epoch 38, Validation Loss: -30.96\n",
      "Epoch 39, Validation Loss: -31.20\n",
      "Epoch 40, Validation Loss: -31.18\n",
      "Epoch 41, Validation Loss: -27.61\n",
      "Epoch 42, Validation Loss: -30.23\n",
      "Epoch 43, Validation Loss: -30.66\n",
      "Epoch 44, Validation Loss: -31.03\n",
      "Epoch 45, Validation Loss: -29.53\n",
      "Epoch 46, Validation Loss: -28.11\n",
      "Epoch 47, Validation Loss: -27.61\n",
      "Epoch 48, Validation Loss: -31.20\n",
      "Epoch 49, Validation Loss: -29.01\n",
      "Epoch 50, Validation Loss: -30.62\n",
      "Epoch 51, Validation Loss: -30.84\n",
      "Epoch 52, Validation Loss: -30.88\n",
      "Epoch 53, Validation Loss: -29.61\n",
      "Epoch 54, Validation Loss: -31.15\n",
      "Epoch 55, Validation Loss: -28.17\n",
      "Epoch 56, Validation Loss: -30.66\n",
      "Epoch 57, Validation Loss: -31.42\n",
      "Epoch 58, Validation Loss: -26.43\n",
      "Epoch 59, Validation Loss: -30.79\n",
      "Epoch 60, Validation Loss: -28.22\n",
      "Epoch 61, Validation Loss: -28.03\n",
      "Epoch 62, Validation Loss: -31.33\n",
      "Epoch 63, Validation Loss: -31.39\n",
      "Epoch 64, Validation Loss: -31.70\n",
      "Epoch 65, Validation Loss: -31.17\n",
      "Epoch 66, Validation Loss: -31.14\n",
      "Epoch 67, Validation Loss: -32.44\n",
      "Epoch 68, Validation Loss: -28.80\n",
      "Epoch 69, Validation Loss: -31.49\n",
      "Epoch 70, Validation Loss: -31.84\n",
      "Epoch 71, Validation Loss: -31.19\n",
      "Epoch 72, Validation Loss: -14.72\n",
      "Epoch 73, Validation Loss: -31.18\n",
      "Epoch 74, Validation Loss: -28.66\n",
      "Epoch 75, Validation Loss: -30.82\n",
      "Epoch 76, Validation Loss: -31.02\n",
      "Epoch 77, Validation Loss: -31.15\n",
      "Epoch 78, Validation Loss: -31.51\n",
      "Epoch 79, Validation Loss: -29.06\n",
      "Epoch 80, Validation Loss: -29.99\n",
      "Epoch 81, Validation Loss: -30.28\n",
      "Epoch 82, Validation Loss: -26.19\n",
      "Epoch 83, Validation Loss: -31.92\n",
      "Epoch 84, Validation Loss: -31.50\n",
      "Epoch 85, Validation Loss: -30.90\n",
      "Epoch 86, Validation Loss: -29.61\n",
      "Early stopping at epoch 86\n",
      "Best model loaded.\n",
      "Training complete.\n"
     ]
    }
   ],
   "source": [
    "from src.problem.neuromancer.trainer import trainer\n",
    "# training\n",
    "epochs = 200                    # number of training epochs\n",
    "warmup = 20                     # number of epochs to wait before enacting early stopping policy\n",
    "patience = 20                   # number of epochs with no improvement in eval metric to allow before early stopping\n",
    "optimizer = torch.optim.AdamW(components.parameters(), lr=lr)\n",
    "# create a trainer for the problem\n",
    "my_trainer = trainer(components, loss_fn, optimizer, epochs, patience, warmup, device=\"cuda\")\n",
    "# training for the rounding problem\n",
    "my_trainer.train(loader_train, loader_dev)"
   ]
  },
  {
   "cell_type": "code",
   "execution_count": 18,
   "id": "6584d57e-6b4c-4262-82f5-55735ef17cac",
   "metadata": {},
   "outputs": [
    {
     "name": "stderr",
     "output_type": "stream",
     "text": [
      "100%|██████████████████████████████████████████████████████████████████████████████| 1000/1000 [02:03<00:00,  8.13it/s]\n"
     ]
    },
    {
     "name": "stdout",
     "output_type": "stream",
     "text": [
      "           Obj Val  Constraints Viol  Elapsed Time\n",
      "count  1000.000000       1000.000000   1000.000000\n",
      "mean    -33.179023          0.016896      0.004696\n",
      "std       0.415980          0.063015      0.003216\n",
      "min     -33.788758          0.000000      0.001519\n",
      "25%     -33.465495          0.000000      0.003024\n",
      "50%     -33.260578          0.000000      0.003691\n",
      "75%     -32.974211          0.000000      0.005041\n",
      "max     -29.414661          0.648015      0.036511\n",
      "Number of infeasible solution: 126\n"
     ]
    }
   ],
   "source": [
    "params, sols, objvals, conviols, elapseds = [], [], [], [], []\n",
    "for b in tqdm(data_test.datadict[\"b\"]):\n",
    "    # data point as tensor\n",
    "    datapoints = {\"b\": torch.unsqueeze(b, 0).to(\"cuda\"), \n",
    "                  \"name\": \"test\"}\n",
    "    # infer\n",
    "    components.eval()\n",
    "    tick = time.time()\n",
    "    with torch.no_grad():\n",
    "        for comp in components:\n",
    "            datapoints.update(comp(datapoints))\n",
    "    tock = time.time()\n",
    "    # assign params\n",
    "    model.set_param_val({\"b\":b.cpu().numpy()})\n",
    "    # assign vars\n",
    "    x = datapoints[\"x_rnd\"]\n",
    "    for i in range(num_var):\n",
    "        model.vars[\"x\"][i].value = x[0,i].item()\n",
    "    # get solutions\n",
    "    xval, objval = model.get_val()    \n",
    "    params.append(list(b.cpu().numpy()))\n",
    "    sols.append(list(list(xval.values())[0].values()))\n",
    "    objvals.append(objval)\n",
    "    conviols.append(sum(model.cal_violation()))\n",
    "    elapseds.append(tock - tick)\n",
    "df = pd.DataFrame({\"Param\":params, \"Sol\":sols, \"Obj Val\": objvals, \"Constraints Viol\": conviols, \"Elapsed Time\": elapseds})\n",
    "time.sleep(1)\n",
    "print(df.describe())\n",
    "print(\"Number of infeasible solution: {}\".format(np.sum(df[\"Constraints Viol\"] > 0)))\n",
    "df.to_csv(\"result/cq_lt_200-200.csv\")"
   ]
  },
  {
   "cell_type": "code",
   "execution_count": null,
   "id": "382a0a8a-d846-4182-ab69-7d618edea9cf",
   "metadata": {},
   "outputs": [],
   "source": []
  }
 ],
 "metadata": {
  "kernelspec": {
   "display_name": "Python 3 (ipykernel)",
   "language": "python",
   "name": "python3"
  },
  "language_info": {
   "codemirror_mode": {
    "name": "ipython",
    "version": 3
   },
   "file_extension": ".py",
   "mimetype": "text/x-python",
   "name": "python",
   "nbconvert_exporter": "python",
   "pygments_lexer": "ipython3",
   "version": "3.10.13"
  }
 },
 "nbformat": 4,
 "nbformat_minor": 5
}
