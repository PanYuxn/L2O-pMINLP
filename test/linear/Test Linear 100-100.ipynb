{
 "cells": [
  {
   "cell_type": "code",
   "execution_count": 1,
   "id": "be61b914-e1af-43b9-9766-5092593f92dd",
   "metadata": {},
   "outputs": [],
   "source": [
    "import time\n",
    "\n",
    "import numpy as np\n",
    "import pandas as pd\n",
    "import torch\n",
    "from torch import nn\n",
    "from tqdm import tqdm\n",
    "\n",
    "# random seed\n",
    "np.random.seed(42)\n",
    "torch.manual_seed(42)\n",
    "torch.cuda.manual_seed(42)"
   ]
  },
  {
   "cell_type": "code",
   "execution_count": 2,
   "id": "35fe4527-9dbf-48f0-bfb3-62cda59092aa",
   "metadata": {},
   "outputs": [],
   "source": [
    "# turn off warning\n",
    "import logging\n",
    "logging.getLogger('pyomo.core').setLevel(logging.ERROR)"
   ]
  },
  {
   "cell_type": "markdown",
   "id": "c5560447-da9d-4cbe-aab4-538aa11c8ee8",
   "metadata": {},
   "source": [
    "## Problem Setting"
   ]
  },
  {
   "cell_type": "code",
   "execution_count": 3,
   "id": "52363c72-0d20-4c08-bd00-0f62aa73686c",
   "metadata": {},
   "outputs": [],
   "source": [
    "# init\n",
    "num_var = 100     # number of variables\n",
    "num_ineq = 100    # number of constraints\n",
    "num_data = 10000  # number of data\n",
    "test_size = 1000  # number of test size\n",
    "val_size = 1000   # number of validation size\n",
    "train_size = num_data - test_size - val_size"
   ]
  },
  {
   "cell_type": "code",
   "execution_count": 4,
   "id": "21938c00-d73f-4255-bc7c-bce6e8034cf8",
   "metadata": {},
   "outputs": [],
   "source": [
    "# data sample from uniform distribution\n",
    "b_samples = torch.from_numpy(np.random.uniform(-1, 1, size=(num_data, num_ineq))).float()\n",
    "data = {\"b\":b_samples}\n",
    "# data split\n",
    "from src.utlis import data_split\n",
    "data_train, data_test, data_dev = data_split(data, test_size=test_size, val_size=val_size)"
   ]
  },
  {
   "cell_type": "code",
   "execution_count": 5,
   "id": "5ecf81ff-627d-444d-8d90-121c7e20c217",
   "metadata": {},
   "outputs": [],
   "source": [
    "# torch dataloaders\n",
    "from torch.utils.data import DataLoader\n",
    "batch_size = 64\n",
    "loader_train = DataLoader(data_train, batch_size, num_workers=0, collate_fn=data_train.collate_fn, shuffle=True)\n",
    "loader_test = DataLoader(data_test, batch_size, num_workers=0, collate_fn=data_test.collate_fn, shuffle=False)\n",
    "loader_dev = DataLoader(data_dev, batch_size, num_workers=0, collate_fn=data_dev.collate_fn, shuffle=False)"
   ]
  },
  {
   "cell_type": "markdown",
   "id": "16ec0a67-54ea-4a9d-b037-0c7c9390e3f9",
   "metadata": {},
   "source": [
    "## Exact Solver"
   ]
  },
  {
   "cell_type": "code",
   "execution_count": 6,
   "id": "50aaabd7-90ed-4628-a1da-c98777868d92",
   "metadata": {},
   "outputs": [],
   "source": [
    "from src.problem import msLinear\n",
    "model = msLinear(num_var, num_ineq, timelimit=60)"
   ]
  },
  {
   "cell_type": "code",
   "execution_count": 7,
   "id": "1c8d0f11-7ad1-4886-a76d-430189d06c33",
   "metadata": {},
   "outputs": [
    {
     "name": "stderr",
     "output_type": "stream",
     "text": [
      "100%|██████████████████████████████████████████████████████████████████████████████| 100/100 [1:47:05<00:00, 64.26s/it]\n"
     ]
    },
    {
     "name": "stdout",
     "output_type": "stream",
     "text": [
      "          Obj Val  Constraints Viol  Elapsed Time\n",
      "count  100.000000             100.0    100.000000\n",
      "mean   -81.422441               0.0     64.195420\n",
      "std      0.467911               0.0     34.932151\n",
      "min    -82.461194               0.0     60.602567\n",
      "25%    -81.744373               0.0     60.650923\n",
      "50%    -81.426739               0.0     60.686694\n",
      "75%    -81.098760               0.0     60.737455\n",
      "max    -80.281595               0.0    410.022610\n",
      "Number of infeasible solution: 0\n"
     ]
    }
   ],
   "source": [
    "params, sols, objvals, conviols, elapseds = [], [], [], [], []\n",
    "for b in tqdm(data_test.datadict[\"b\"][:100]):\n",
    "    # set params\n",
    "    model.set_param_val({\"b\":b.cpu().numpy()})\n",
    "    # solve\n",
    "    tick = time.time()\n",
    "    xval, objval = model.solve(\"gurobi\")\n",
    "    tock = time.time()\n",
    "    # eval\n",
    "    params.append(list(b.cpu().numpy()))\n",
    "    sols.append(list(list(xval.values())[0].values()))\n",
    "    objvals.append(objval)\n",
    "    conviols.append(sum(model.cal_violation()))\n",
    "    if sum(model.cal_violation()) > 0:\n",
    "        xval, objval = model.solve(\"gurobi\", tee=True)\n",
    "        break\n",
    "    elapseds.append(tock - tick)\n",
    "df = pd.DataFrame({\"Param\":params, \"Sol\":sols, \"Obj Val\": objvals, \"Constraints Viol\": conviols, \"Elapsed Time\": elapseds})\n",
    "time.sleep(1)\n",
    "print(df.describe())\n",
    "print(\"Number of infeasible solution: {}\".format(np.sum(df[\"Constraints Viol\"] > 0)))\n",
    "df.to_csv(\"result/ln_exact_100-100.csv\")"
   ]
  },
  {
   "cell_type": "markdown",
   "id": "cad38e16-1a87-4f11-92b4-b608f7f3ea11",
   "metadata": {},
   "source": [
    "## Heuristic - Round"
   ]
  },
  {
   "cell_type": "code",
   "execution_count": 8,
   "id": "03328361-3f39-461d-ac81-40c8c14717bb",
   "metadata": {},
   "outputs": [],
   "source": [
    "from src.heuristic import naive_round"
   ]
  },
  {
   "cell_type": "code",
   "execution_count": 9,
   "id": "2e57b62f-dfb4-4c87-b42e-e43b202ef96c",
   "metadata": {},
   "outputs": [
    {
     "name": "stderr",
     "output_type": "stream",
     "text": [
      "100%|████████████████████████████████████████████████████████████████████████████████| 100/100 [00:39<00:00,  2.56it/s]\n"
     ]
    },
    {
     "name": "stdout",
     "output_type": "stream",
     "text": [
      "          Obj Val  Constraints Viol  Elapsed Time\n",
      "count  100.000000        100.000000    100.000000\n",
      "mean   -82.607990          3.890467      0.171419\n",
      "std      0.478083          0.863671      0.014108\n",
      "min    -83.612986          1.969477      0.153313\n",
      "25%    -82.917768          3.326827      0.162927\n",
      "50%    -82.692222          3.821674      0.167191\n",
      "75%    -82.300442          4.492946      0.175870\n",
      "max    -81.354785          6.151293      0.235932\n",
      "Number of infeasible solution: 100\n"
     ]
    }
   ],
   "source": [
    "params, sols, objvals, conviols, elapseds = [], [], [], [], []\n",
    "for b in tqdm(data_test.datadict[\"b\"][:100]):\n",
    "    # set params\n",
    "    model.set_param_val({\"b\":b.cpu().numpy()})\n",
    "    # relax\n",
    "    model_rel = model.relax()\n",
    "    # solve\n",
    "    tick = time.time()\n",
    "    xval_rel, _ = model_rel.solve(\"gurobi\")\n",
    "    xval, objval = naive_round(xval_rel, model)\n",
    "    tock = time.time()\n",
    "    # eval\n",
    "    params.append(list(b.cpu().numpy()))\n",
    "    sols.append(list(list(xval.values())[0].values()))\n",
    "    objvals.append(objval)\n",
    "    conviols.append(sum(model.cal_violation()))\n",
    "    elapseds.append(tock - tick)\n",
    "df = pd.DataFrame({\"Param\":params, \"Sol\":sols, \"Obj Val\": objvals, \"Constraints Viol\": conviols, \"Elapsed Time\": elapseds})\n",
    "time.sleep(1)\n",
    "print(df.describe())\n",
    "print(\"Number of infeasible solution: {}\".format(np.sum(df[\"Constraints Viol\"] > 0)))\n",
    "df.to_csv(\"result/ln_heur_rnd_100-100.csv\")"
   ]
  },
  {
   "cell_type": "markdown",
   "id": "96304fbd-08f5-4be7-a81e-83c85332029c",
   "metadata": {},
   "source": [
    "## Heuristic - N1"
   ]
  },
  {
   "cell_type": "code",
   "execution_count": 10,
   "id": "356187af-e02d-4478-bf78-ada6a2e1b94b",
   "metadata": {},
   "outputs": [],
   "source": [
    "model_heur = model.first_solution_heuristic(nodes_limit=1)"
   ]
  },
  {
   "cell_type": "code",
   "execution_count": 11,
   "id": "f4c7fc52-cbbc-4414-bf1d-316d65c8db5b",
   "metadata": {},
   "outputs": [
    {
     "name": "stderr",
     "output_type": "stream",
     "text": [
      "100%|████████████████████████████████████████████████████████████████████████████████| 100/100 [01:06<00:00,  1.51it/s]\n"
     ]
    },
    {
     "name": "stdout",
     "output_type": "stream",
     "text": [
      "          Obj Val  Constraints Viol  Elapsed Time\n",
      "count  100.000000             100.0    100.000000\n",
      "mean     7.424101               0.0      0.625923\n",
      "std     14.755239               0.0      0.484593\n",
      "min    -46.777448               0.0      0.206343\n",
      "25%     -1.315255               0.0      0.339572\n",
      "50%      8.883279               0.0      0.400709\n",
      "75%     15.944699               0.0      0.651099\n",
      "max     46.067285               0.0      2.322423\n",
      "Number of infeasible solution: 0\n"
     ]
    }
   ],
   "source": [
    "params, sols, objvals, conviols, elapseds = [], [], [], [], []\n",
    "for b in tqdm(data_test.datadict[\"b\"][:100]):\n",
    "    # set params\n",
    "    model_heur.set_param_val({\"b\":b.cpu().numpy()})\n",
    "    # solve\n",
    "    tick = time.time()\n",
    "    xval, objval = model_heur.solve(\"gurobi\")\n",
    "    tock = time.time()\n",
    "    # eval\n",
    "    params.append(list(b.cpu().numpy()))\n",
    "    sols.append(list(list(xval.values())[0].values()))\n",
    "    objvals.append(objval)\n",
    "    conviols.append(sum(model_heur.cal_violation()))\n",
    "    elapseds.append(tock - tick)\n",
    "df = pd.DataFrame({\"Param\":params, \"Sol\":sols, \"Obj Val\": objvals, \"Constraints Viol\": conviols, \"Elapsed Time\": elapseds})\n",
    "time.sleep(1)\n",
    "print(df.describe())\n",
    "print(\"Number of infeasible solution: {}\".format(np.sum(df[\"Constraints Viol\"] > 0)))\n",
    "df.to_csv(\"result/ln_heur_n1_100-100.csv\")"
   ]
  },
  {
   "cell_type": "markdown",
   "id": "9819c60c-df5f-41c6-ae83-888c75aa78d7",
   "metadata": {},
   "source": [
    "## Learnable Rounding"
   ]
  },
  {
   "cell_type": "code",
   "execution_count": 12,
   "id": "6a4fb3e2-9c47-4c10-8116-e94be18ea59c",
   "metadata": {},
   "outputs": [],
   "source": [
    "# random seed\n",
    "np.random.seed(42)\n",
    "torch.manual_seed(42)\n",
    "torch.cuda.manual_seed(42)"
   ]
  },
  {
   "cell_type": "code",
   "execution_count": 13,
   "id": "536d2d58-67ba-408a-b72a-7c5bd54a5ff4",
   "metadata": {},
   "outputs": [],
   "source": [
    "# hyperparameters\n",
    "penalty_weight = 100  # weight of constraint violation penealty\n",
    "hlayers_sol = 5       # number of hidden layers for solution mapping\n",
    "hlayers_rnd = 4       # number of hidden layers for solution mapping\n",
    "hsize = 256           # width of hidden layers for solution mapping\n",
    "lr = 1e-3             # learning rate"
   ]
  },
  {
   "cell_type": "code",
   "execution_count": 14,
   "id": "fee1241e-e53a-4cbb-927a-edcdb3537303",
   "metadata": {},
   "outputs": [],
   "source": [
    "# set problem\n",
    "import neuromancer as nm\n",
    "from src.problem import nmLinear\n",
    "from src.func.layer import netFC\n",
    "from src.func import roundGumbelModel\n",
    "# build neural architecture for the solution map\n",
    "func = nm.modules.blocks.MLP(insize=num_ineq, outsize=num_var, bias=True,\n",
    "                             linear_map=nm.slim.maps[\"linear\"],\n",
    "                             nonlin=nn.ReLU, hsizes=[hsize]*hlayers_sol)\n",
    "smap = nm.system.Node(func, [\"b\"], [\"x\"], name=\"smap\")\n",
    "# define rounding model\n",
    "layers_rnd = netFC(input_dim=num_ineq+num_var, hidden_dims=[hsize]*hlayers_rnd, output_dim=num_var)\n",
    "rnd = roundGumbelModel(layers=layers_rnd, param_keys=[\"b\"], var_keys=[\"x\"],  output_keys=[\"x_rnd\"], \n",
    "                       int_ind=model.int_ind, continuous_update=True, name=\"round\")\n",
    "# build neuromancer problem for rounding\n",
    "components = nn.ModuleList([smap, rnd]).to(\"cuda\")\n",
    "loss_fn = nmLinear([\"b\", \"x_rnd\"], num_var, num_ineq, penalty_weight)"
   ]
  },
  {
   "cell_type": "code",
   "execution_count": 15,
   "id": "e4f10263-5f69-4288-a4e8-8be83929c8d6",
   "metadata": {},
   "outputs": [
    {
     "name": "stdout",
     "output_type": "stream",
     "text": [
      "Epoch 0, Validation Loss: 3603.47\n",
      "Epoch 1, Validation Loss: -34.79\n",
      "Epoch 2, Validation Loss: -33.52\n",
      "Epoch 3, Validation Loss: -4.05\n",
      "Epoch 4, Validation Loss: -47.93\n",
      "Epoch 5, Validation Loss: -29.48\n",
      "Epoch 6, Validation Loss: 115.89\n",
      "Epoch 7, Validation Loss: -50.66\n",
      "Epoch 8, Validation Loss: -46.35\n",
      "Epoch 9, Validation Loss: -35.02\n",
      "Epoch 10, Validation Loss: -51.17\n",
      "Epoch 11, Validation Loss: -53.58\n",
      "Epoch 12, Validation Loss: -39.70\n",
      "Epoch 13, Validation Loss: -55.25\n",
      "Epoch 14, Validation Loss: -55.02\n",
      "Epoch 15, Validation Loss: -42.40\n",
      "Epoch 16, Validation Loss: -23.25\n",
      "Epoch 17, Validation Loss: -53.65\n",
      "Epoch 18, Validation Loss: -55.95\n",
      "Epoch 19, Validation Loss: -58.33\n",
      "Epoch 20, Validation Loss: -49.98\n",
      "Epoch 21, Validation Loss: -57.68\n",
      "Epoch 22, Validation Loss: -61.21\n",
      "Epoch 23, Validation Loss: -58.09\n",
      "Epoch 24, Validation Loss: -60.00\n",
      "Epoch 25, Validation Loss: -61.61\n",
      "Epoch 26, Validation Loss: -63.04\n",
      "Epoch 27, Validation Loss: -64.91\n",
      "Epoch 28, Validation Loss: -65.75\n",
      "Epoch 29, Validation Loss: -54.88\n",
      "Epoch 30, Validation Loss: -67.66\n",
      "Epoch 31, Validation Loss: -20.01\n",
      "Epoch 32, Validation Loss: -61.91\n",
      "Epoch 33, Validation Loss: -69.71\n",
      "Epoch 34, Validation Loss: -67.75\n",
      "Epoch 35, Validation Loss: -67.12\n",
      "Epoch 36, Validation Loss: -68.78\n",
      "Epoch 37, Validation Loss: -67.48\n",
      "Epoch 38, Validation Loss: -43.95\n",
      "Epoch 39, Validation Loss: -67.57\n",
      "Epoch 40, Validation Loss: -45.70\n",
      "Epoch 41, Validation Loss: -68.19\n",
      "Epoch 42, Validation Loss: -61.51\n",
      "Epoch 43, Validation Loss: 474.38\n",
      "Epoch 44, Validation Loss: -67.51\n",
      "Epoch 45, Validation Loss: 509.97\n",
      "Epoch 46, Validation Loss: -71.03\n",
      "Epoch 47, Validation Loss: 127.86\n",
      "Epoch 48, Validation Loss: -69.12\n",
      "Epoch 49, Validation Loss: 17.13\n",
      "Epoch 50, Validation Loss: -68.85\n",
      "Epoch 51, Validation Loss: -67.99\n",
      "Epoch 52, Validation Loss: -70.95\n",
      "Epoch 53, Validation Loss: 4.16\n",
      "Epoch 54, Validation Loss: -62.38\n",
      "Epoch 55, Validation Loss: 728.17\n",
      "Epoch 56, Validation Loss: 789.84\n",
      "Epoch 57, Validation Loss: -69.00\n",
      "Epoch 58, Validation Loss: -67.14\n",
      "Epoch 59, Validation Loss: -70.27\n",
      "Epoch 60, Validation Loss: -62.94\n",
      "Epoch 61, Validation Loss: -67.99\n",
      "Epoch 62, Validation Loss: -65.92\n",
      "Epoch 63, Validation Loss: -66.86\n",
      "Epoch 64, Validation Loss: 206.28\n",
      "Epoch 65, Validation Loss: 115.71\n",
      "Early stopping at epoch 65\n",
      "Best model loaded.\n",
      "Training complete.\n",
      "The training time is 104.95 sec.\n"
     ]
    }
   ],
   "source": [
    "from src.problem.neuromancer.trainer import trainer\n",
    "# training\n",
    "epochs = 200                    # number of training epochs\n",
    "warmup = 20                     # number of epochs to wait before enacting early stopping policy\n",
    "patience = 20                   # number of epochs with no improvement in eval metric to allow before early stopping\n",
    "optimizer = torch.optim.AdamW(components.parameters(), lr=lr)\n",
    "# create a trainer for the problem\n",
    "my_trainer = trainer(components, loss_fn, optimizer, epochs=epochs, patience=patience, warmup=warmup, device=\"cuda\")\n",
    "# training for the rounding problem\n",
    "my_trainer.train(loader_train, loader_dev)"
   ]
  },
  {
   "cell_type": "code",
   "execution_count": 16,
   "id": "3e835084-eb75-45d9-bcbd-5fb4c613fb41",
   "metadata": {},
   "outputs": [
    {
     "name": "stderr",
     "output_type": "stream",
     "text": [
      "100%|████████████████████████████████████████████████████████████████████████████████| 100/100 [00:03<00:00, 27.87it/s]\n"
     ]
    },
    {
     "name": "stdout",
     "output_type": "stream",
     "text": [
      "          Obj Val  Constraints Viol  Elapsed Time\n",
      "count  100.000000        100.000000    100.000000\n",
      "mean   -71.006230          0.000957      0.003207\n",
      "std      0.651362          0.009574      0.000890\n",
      "min    -71.615804          0.000000      0.001983\n",
      "25%    -71.248249          0.000000      0.002539\n",
      "50%    -71.226797          0.000000      0.003003\n",
      "75%    -71.182536          0.000000      0.003525\n",
      "max    -68.618704          0.095736      0.006512\n",
      "Number of infeasible solution: 1\n"
     ]
    }
   ],
   "source": [
    "params, sols, objvals, conviols, elapseds = [], [], [], [], []\n",
    "for b in tqdm(data_test.datadict[\"b\"][:100]):\n",
    "    # data point as tensor\n",
    "    datapoints = {\"b\": torch.unsqueeze(b, 0).to(\"cuda\"), \n",
    "                  \"name\": \"test\"}\n",
    "    # infer\n",
    "    components.eval()\n",
    "    tick = time.time()\n",
    "    with torch.no_grad():\n",
    "        for comp in components:\n",
    "            datapoints.update(comp(datapoints))\n",
    "    tock = time.time()\n",
    "    # assign params\n",
    "    model.set_param_val({\"b\":b.cpu().numpy()})\n",
    "    # assign vars\n",
    "    x = datapoints[\"x_rnd\"]\n",
    "    for i in range(num_var):\n",
    "        model.vars[\"x\"][i].value = x[0,i].item()\n",
    "    # get solutions\n",
    "    xval, objval = model.get_val()    \n",
    "    params.append(list(b.cpu().numpy()))\n",
    "    sols.append(list(list(xval.values())[0].values()))\n",
    "    objvals.append(objval)\n",
    "    conviols.append(sum(model.cal_violation()))\n",
    "    elapseds.append(tock - tick)\n",
    "df = pd.DataFrame({\"Param\":params, \"Sol\":sols, \"Obj Val\": objvals, \"Constraints Viol\": conviols, \"Elapsed Time\": elapseds})\n",
    "time.sleep(1)\n",
    "print(df.describe())\n",
    "print(\"Number of infeasible solution: {}\".format(np.sum(df[\"Constraints Viol\"] > 0)))\n",
    "df.to_csv(\"result/ln_lr_100-100.csv\")"
   ]
  },
  {
   "cell_type": "markdown",
   "id": "2dbf8a72-29b9-49c4-b3c1-0d68895c1c1f",
   "metadata": {},
   "source": [
    "## Learnable Threshold"
   ]
  },
  {
   "cell_type": "code",
   "execution_count": 17,
   "id": "36c57dbb-8dee-4976-8922-82a155fe0128",
   "metadata": {},
   "outputs": [],
   "source": [
    "# random seed\n",
    "np.random.seed(42)\n",
    "torch.manual_seed(42)\n",
    "torch.cuda.manual_seed(42)"
   ]
  },
  {
   "cell_type": "code",
   "execution_count": 18,
   "id": "d46b9817-87ac-4af0-b387-b10c9a4998f4",
   "metadata": {},
   "outputs": [],
   "source": [
    "# hyperparameters\n",
    "penalty_weight = 100  # weight of constraint violation penealty\n",
    "hlayers_sol = 5       # number of hidden layers for solution mapping\n",
    "hlayers_rnd = 4       # number of hidden layers for solution mapping\n",
    "hsize = 256           # width of hidden layers for solution mapping\n",
    "lr = 1e-3             # learning rate"
   ]
  },
  {
   "cell_type": "code",
   "execution_count": 19,
   "id": "fa8b147f-39c8-4eb7-bb95-93dd8e4cb1cf",
   "metadata": {},
   "outputs": [],
   "source": [
    "# set problem\n",
    "import neuromancer as nm\n",
    "from src.problem import nmLinear\n",
    "from src.func.layer import netFC\n",
    "from src.func import roundThresholdModel\n",
    "# build neural architecture for the solution map\n",
    "func = nm.modules.blocks.MLP(insize=num_ineq, outsize=num_var, bias=True,\n",
    "                             linear_map=nm.slim.maps[\"linear\"],\n",
    "                             nonlin=nn.ReLU, hsizes=[hsize]*hlayers_sol)\n",
    "smap = nm.system.Node(func, [\"b\"], [\"x\"], name=\"smap\")\n",
    "# define rounding model\n",
    "layers_rnd = netFC(input_dim=num_ineq+num_var, hidden_dims=[hsize]*hlayers_rnd, output_dim=num_var)\n",
    "rnd = roundThresholdModel(layers=layers_rnd, param_keys=[\"b\"], var_keys=[\"x\"],  output_keys=[\"x_rnd\"], \n",
    "                       int_ind=model.int_ind, continuous_update=True, name=\"round\")\n",
    "# build neuromancer problem for rounding\n",
    "components = nn.ModuleList([smap, rnd]).to(\"cuda\")\n",
    "loss_fn = nmLinear([\"b\", \"x_rnd\"], num_var, num_ineq, penalty_weight)"
   ]
  },
  {
   "cell_type": "code",
   "execution_count": 20,
   "id": "c6f5bb17-8c3c-4dcd-952d-caa1d7c4c4fa",
   "metadata": {},
   "outputs": [
    {
     "name": "stdout",
     "output_type": "stream",
     "text": [
      "Epoch 0, Validation Loss: 2485.01\n",
      "Epoch 1, Validation Loss: -32.15\n",
      "Epoch 2, Validation Loss: 0.04\n",
      "Epoch 3, Validation Loss: -32.32\n",
      "Epoch 4, Validation Loss: -46.01\n",
      "Epoch 5, Validation Loss: 42.80\n",
      "Epoch 6, Validation Loss: -47.26\n",
      "Epoch 7, Validation Loss: -8.09\n",
      "Epoch 8, Validation Loss: 77.56\n",
      "Epoch 9, Validation Loss: -34.67\n",
      "Epoch 10, Validation Loss: -55.31\n",
      "Epoch 11, Validation Loss: -54.18\n",
      "Epoch 12, Validation Loss: -49.20\n",
      "Epoch 13, Validation Loss: -56.36\n",
      "Epoch 14, Validation Loss: -55.54\n",
      "Epoch 15, Validation Loss: -50.56\n",
      "Epoch 16, Validation Loss: -58.26\n",
      "Epoch 17, Validation Loss: -16.20\n",
      "Epoch 18, Validation Loss: -56.60\n",
      "Epoch 19, Validation Loss: -60.42\n",
      "Epoch 20, Validation Loss: -57.51\n",
      "Epoch 21, Validation Loss: -58.88\n",
      "Epoch 22, Validation Loss: -47.80\n",
      "Epoch 23, Validation Loss: -50.84\n",
      "Epoch 24, Validation Loss: -64.70\n",
      "Epoch 25, Validation Loss: -44.12\n",
      "Epoch 26, Validation Loss: -63.51\n",
      "Epoch 27, Validation Loss: -65.26\n",
      "Epoch 28, Validation Loss: -64.06\n",
      "Epoch 29, Validation Loss: -67.42\n",
      "Epoch 30, Validation Loss: -63.87\n",
      "Epoch 31, Validation Loss: -58.41\n",
      "Epoch 32, Validation Loss: -67.65\n",
      "Epoch 33, Validation Loss: -65.72\n",
      "Epoch 34, Validation Loss: -66.31\n",
      "Epoch 35, Validation Loss: -69.90\n",
      "Epoch 36, Validation Loss: -69.60\n",
      "Epoch 37, Validation Loss: -69.78\n",
      "Epoch 38, Validation Loss: -69.01\n",
      "Epoch 39, Validation Loss: -68.20\n",
      "Epoch 40, Validation Loss: -66.71\n",
      "Epoch 41, Validation Loss: -68.60\n",
      "Epoch 42, Validation Loss: -67.78\n",
      "Epoch 43, Validation Loss: -68.28\n",
      "Epoch 44, Validation Loss: -61.74\n",
      "Epoch 45, Validation Loss: -70.08\n",
      "Epoch 46, Validation Loss: -62.75\n",
      "Epoch 47, Validation Loss: -1.64\n",
      "Epoch 48, Validation Loss: -0.57\n",
      "Epoch 49, Validation Loss: -68.99\n",
      "Epoch 50, Validation Loss: -70.35\n",
      "Epoch 51, Validation Loss: -68.14\n",
      "Epoch 52, Validation Loss: 107.08\n",
      "Epoch 53, Validation Loss: -63.82\n",
      "Epoch 54, Validation Loss: -29.78\n",
      "Epoch 55, Validation Loss: -66.76\n",
      "Epoch 56, Validation Loss: -68.16\n",
      "Epoch 57, Validation Loss: 736.30\n",
      "Epoch 58, Validation Loss: -71.48\n",
      "Epoch 59, Validation Loss: 337.25\n",
      "Epoch 60, Validation Loss: -68.36\n",
      "Epoch 61, Validation Loss: -71.49\n",
      "Epoch 62, Validation Loss: 1.25\n",
      "Epoch 63, Validation Loss: -56.07\n",
      "Epoch 64, Validation Loss: -69.99\n",
      "Epoch 65, Validation Loss: 2797.41\n",
      "Epoch 66, Validation Loss: -70.62\n",
      "Epoch 67, Validation Loss: -67.32\n",
      "Epoch 68, Validation Loss: 82.11\n",
      "Epoch 69, Validation Loss: -52.63\n",
      "Epoch 70, Validation Loss: -59.65\n",
      "Epoch 71, Validation Loss: -65.91\n",
      "Epoch 72, Validation Loss: -68.72\n",
      "Epoch 73, Validation Loss: 14.81\n",
      "Epoch 74, Validation Loss: -71.06\n",
      "Epoch 75, Validation Loss: 28.52\n",
      "Epoch 76, Validation Loss: 31.84\n",
      "Epoch 77, Validation Loss: 271.63\n",
      "Epoch 78, Validation Loss: 29.84\n",
      "Epoch 79, Validation Loss: 130.13\n",
      "Epoch 80, Validation Loss: -59.78\n",
      "Early stopping at epoch 80\n",
      "Best model loaded.\n",
      "Training complete.\n",
      "The training time is 132.28 sec.\n"
     ]
    }
   ],
   "source": [
    "from src.problem.neuromancer.trainer import trainer\n",
    "# training\n",
    "epochs = 200                    # number of training epochs\n",
    "warmup = 20                     # number of epochs to wait before enacting early stopping policy\n",
    "patience = 20                   # number of epochs with no improvement in eval metric to allow before early stopping\n",
    "optimizer = torch.optim.AdamW(components.parameters(), lr=lr)\n",
    "# create a trainer for the problem\n",
    "my_trainer = trainer(components, loss_fn, optimizer, epochs=epochs, patience=patience, warmup=warmup, device=\"cuda\")\n",
    "# training for the rounding problem\n",
    "my_trainer.train(loader_train, loader_dev)"
   ]
  },
  {
   "cell_type": "code",
   "execution_count": 21,
   "id": "6584d57e-6b4c-4262-82f5-55735ef17cac",
   "metadata": {},
   "outputs": [
    {
     "name": "stderr",
     "output_type": "stream",
     "text": [
      "100%|████████████████████████████████████████████████████████████████████████████████| 100/100 [00:03<00:00, 28.62it/s]\n"
     ]
    },
    {
     "name": "stdout",
     "output_type": "stream",
     "text": [
      "          Obj Val  Constraints Viol  Elapsed Time\n",
      "count  100.000000             100.0    100.000000\n",
      "mean   -71.518873               0.0      0.003425\n",
      "std      0.163475               0.0      0.001103\n",
      "min    -71.772086               0.0      0.001989\n",
      "25%    -71.585936               0.0      0.002601\n",
      "50%    -71.519976               0.0      0.003004\n",
      "75%    -71.484812               0.0      0.004003\n",
      "max    -70.257026               0.0      0.006513\n",
      "Number of infeasible solution: 0\n"
     ]
    }
   ],
   "source": [
    "params, sols, objvals, conviols, elapseds = [], [], [], [], []\n",
    "for b in tqdm(data_test.datadict[\"b\"][:100]):\n",
    "    # data point as tensor\n",
    "    datapoints = {\"b\": torch.unsqueeze(b, 0).to(\"cuda\"), \n",
    "                  \"name\": \"test\"}\n",
    "    # infer\n",
    "    components.eval()\n",
    "    tick = time.time()\n",
    "    with torch.no_grad():\n",
    "        for comp in components:\n",
    "            datapoints.update(comp(datapoints))\n",
    "    tock = time.time()\n",
    "    # assign params\n",
    "    model.set_param_val({\"b\":b.cpu().numpy()})\n",
    "    # assign vars\n",
    "    x = datapoints[\"x_rnd\"]\n",
    "    for i in range(num_var):\n",
    "        model.vars[\"x\"][i].value = x[0,i].item()\n",
    "    # get solutions\n",
    "    xval, objval = model.get_val()    \n",
    "    params.append(list(b.cpu().numpy()))\n",
    "    sols.append(list(list(xval.values())[0].values()))\n",
    "    objvals.append(objval)\n",
    "    conviols.append(sum(model.cal_violation()))\n",
    "    elapseds.append(tock - tick)\n",
    "df = pd.DataFrame({\"Param\":params, \"Sol\":sols, \"Obj Val\": objvals, \"Constraints Viol\": conviols, \"Elapsed Time\": elapseds})\n",
    "time.sleep(1)\n",
    "print(df.describe())\n",
    "print(\"Number of infeasible solution: {}\".format(np.sum(df[\"Constraints Viol\"] > 0)))\n",
    "df.to_csv(\"result/ln_lt_100-100.csv\")"
   ]
  },
  {
   "cell_type": "markdown",
   "id": "6ee67a6c-67a8-49f1-8623-d3d32a9ac5be",
   "metadata": {},
   "source": [
    "### Parametric Learning Then Rounding"
   ]
  },
  {
   "cell_type": "code",
   "execution_count": 22,
   "id": "382a0a8a-d846-4182-ab69-7d618edea9cf",
   "metadata": {},
   "outputs": [],
   "source": [
    "# random seed\n",
    "np.random.seed(42)\n",
    "torch.manual_seed(42)\n",
    "torch.cuda.manual_seed(42)"
   ]
  },
  {
   "cell_type": "code",
   "execution_count": 23,
   "id": "2279da2f-e4f2-4f87-979d-f6ea175b7cc9",
   "metadata": {},
   "outputs": [],
   "source": [
    "# hyperparameters\n",
    "penalty_weight = 100  # weight of constraint violation penealty\n",
    "hlayers_sol = 5       # number of hidden layers for solution mapping\n",
    "hsize = 256           # width of hidden layers for solution mapping\n",
    "lr = 1e-3             # learning rate"
   ]
  },
  {
   "cell_type": "code",
   "execution_count": 24,
   "id": "dc92f89e-28b1-483b-a284-7bded54e9958",
   "metadata": {},
   "outputs": [],
   "source": [
    "# set problem\n",
    "import neuromancer as nm\n",
    "from src.problem import nmLinear\n",
    "from src.func.layer import netFC\n",
    "# build neural architecture for the solution map\n",
    "func = nm.modules.blocks.MLP(insize=num_ineq, outsize=num_var, bias=True,\n",
    "                             linear_map=nm.slim.maps[\"linear\"],\n",
    "                             nonlin=nn.ReLU, hsizes=[hsize]*hlayers_sol)\n",
    "smap = nm.system.Node(func, [\"b\"], [\"x\"], name=\"smap\")\n",
    "# build neuromancer problem for rounding\n",
    "components = nn.ModuleList([smap]).to(\"cuda\")\n",
    "loss_fn = nmLinear([\"b\", \"x\"], num_var, num_ineq, penalty_weight)"
   ]
  },
  {
   "cell_type": "code",
   "execution_count": 25,
   "id": "1ec4af4d-5722-4162-819c-6c2719bd9d12",
   "metadata": {},
   "outputs": [
    {
     "name": "stdout",
     "output_type": "stream",
     "text": [
      "Epoch 0, Validation Loss: 2482.40\n",
      "Epoch 1, Validation Loss: -28.92\n",
      "Epoch 2, Validation Loss: -45.84\n",
      "Epoch 3, Validation Loss: -46.05\n",
      "Epoch 4, Validation Loss: -48.96\n",
      "Epoch 5, Validation Loss: -49.19\n",
      "Epoch 6, Validation Loss: -47.22\n",
      "Epoch 7, Validation Loss: -48.44\n",
      "Epoch 8, Validation Loss: -54.44\n",
      "Epoch 9, Validation Loss: -49.65\n",
      "Epoch 10, Validation Loss: -36.42\n",
      "Epoch 11, Validation Loss: -51.96\n",
      "Epoch 12, Validation Loss: 11.63\n",
      "Epoch 13, Validation Loss: -56.89\n",
      "Epoch 14, Validation Loss: -54.86\n",
      "Epoch 15, Validation Loss: -54.65\n",
      "Epoch 16, Validation Loss: -60.34\n",
      "Epoch 17, Validation Loss: -57.01\n",
      "Epoch 18, Validation Loss: -18.64\n",
      "Epoch 19, Validation Loss: -57.13\n",
      "Epoch 20, Validation Loss: -58.64\n",
      "Epoch 21, Validation Loss: -58.42\n",
      "Epoch 22, Validation Loss: -59.11\n",
      "Epoch 23, Validation Loss: -60.23\n",
      "Epoch 24, Validation Loss: -63.98\n",
      "Epoch 25, Validation Loss: -63.48\n",
      "Epoch 26, Validation Loss: -9.25\n",
      "Epoch 27, Validation Loss: -63.98\n",
      "Epoch 28, Validation Loss: -37.10\n",
      "Epoch 29, Validation Loss: -65.08\n",
      "Epoch 30, Validation Loss: -65.98\n",
      "Epoch 31, Validation Loss: -56.13\n",
      "Epoch 32, Validation Loss: -61.45\n",
      "Epoch 33, Validation Loss: -69.93\n",
      "Epoch 34, Validation Loss: -69.90\n",
      "Epoch 35, Validation Loss: -70.33\n",
      "Epoch 36, Validation Loss: -63.88\n",
      "Epoch 37, Validation Loss: -68.49\n",
      "Epoch 38, Validation Loss: -69.21\n",
      "Epoch 39, Validation Loss: -71.33\n",
      "Epoch 40, Validation Loss: 136.68\n",
      "Epoch 41, Validation Loss: -66.94\n",
      "Epoch 42, Validation Loss: -35.29\n",
      "Epoch 43, Validation Loss: -69.50\n",
      "Epoch 44, Validation Loss: -71.61\n",
      "Epoch 45, Validation Loss: -68.64\n",
      "Epoch 46, Validation Loss: -72.09\n",
      "Epoch 47, Validation Loss: -68.76\n",
      "Epoch 48, Validation Loss: -68.31\n",
      "Epoch 49, Validation Loss: -71.79\n",
      "Epoch 50, Validation Loss: -70.00\n",
      "Epoch 51, Validation Loss: -72.75\n",
      "Epoch 52, Validation Loss: -70.23\n",
      "Epoch 53, Validation Loss: -72.13\n",
      "Epoch 54, Validation Loss: -68.25\n",
      "Epoch 55, Validation Loss: -72.56\n",
      "Epoch 56, Validation Loss: -71.34\n",
      "Epoch 57, Validation Loss: -73.64\n",
      "Epoch 58, Validation Loss: -72.54\n",
      "Epoch 59, Validation Loss: -71.47\n",
      "Epoch 60, Validation Loss: -72.80\n",
      "Epoch 61, Validation Loss: -49.79\n",
      "Epoch 62, Validation Loss: -73.22\n",
      "Epoch 63, Validation Loss: -47.98\n",
      "Epoch 64, Validation Loss: -71.77\n",
      "Epoch 65, Validation Loss: -73.08\n",
      "Epoch 66, Validation Loss: -73.28\n",
      "Epoch 67, Validation Loss: -71.76\n",
      "Epoch 68, Validation Loss: -72.65\n",
      "Epoch 69, Validation Loss: -72.91\n",
      "Epoch 70, Validation Loss: -72.98\n",
      "Epoch 71, Validation Loss: -68.56\n",
      "Epoch 72, Validation Loss: -73.89\n",
      "Epoch 73, Validation Loss: -73.77\n",
      "Epoch 74, Validation Loss: -72.05\n",
      "Epoch 75, Validation Loss: -70.45\n",
      "Epoch 76, Validation Loss: -53.96\n",
      "Epoch 77, Validation Loss: -71.32\n",
      "Epoch 78, Validation Loss: -72.22\n",
      "Epoch 79, Validation Loss: -72.40\n",
      "Epoch 80, Validation Loss: -72.89\n",
      "Epoch 81, Validation Loss: -73.89\n",
      "Epoch 82, Validation Loss: -73.86\n",
      "Epoch 83, Validation Loss: -72.49\n",
      "Epoch 84, Validation Loss: -68.58\n",
      "Epoch 85, Validation Loss: -71.53\n",
      "Epoch 86, Validation Loss: -72.78\n",
      "Epoch 87, Validation Loss: -72.87\n",
      "Epoch 88, Validation Loss: -73.95\n",
      "Epoch 89, Validation Loss: -73.08\n",
      "Epoch 90, Validation Loss: -73.73\n",
      "Epoch 91, Validation Loss: -46.99\n",
      "Epoch 92, Validation Loss: -57.21\n",
      "Epoch 93, Validation Loss: -71.01\n",
      "Epoch 94, Validation Loss: 20.67\n",
      "Epoch 95, Validation Loss: -72.45\n",
      "Epoch 96, Validation Loss: -62.96\n",
      "Epoch 97, Validation Loss: 129.56\n",
      "Epoch 98, Validation Loss: -72.86\n",
      "Epoch 99, Validation Loss: -71.06\n",
      "Epoch 100, Validation Loss: -73.43\n",
      "Epoch 101, Validation Loss: -73.32\n",
      "Epoch 102, Validation Loss: -74.17\n",
      "Epoch 103, Validation Loss: -72.47\n",
      "Epoch 104, Validation Loss: -72.88\n",
      "Epoch 105, Validation Loss: -73.30\n",
      "Epoch 106, Validation Loss: -74.67\n",
      "Epoch 107, Validation Loss: -74.07\n",
      "Epoch 108, Validation Loss: -73.85\n",
      "Epoch 109, Validation Loss: -72.46\n",
      "Epoch 110, Validation Loss: -74.40\n",
      "Epoch 111, Validation Loss: -73.75\n",
      "Epoch 112, Validation Loss: -71.60\n",
      "Epoch 113, Validation Loss: 48.71\n",
      "Epoch 114, Validation Loss: -73.06\n",
      "Epoch 115, Validation Loss: -73.32\n",
      "Epoch 116, Validation Loss: -73.02\n",
      "Epoch 117, Validation Loss: -74.13\n",
      "Epoch 118, Validation Loss: -73.74\n",
      "Epoch 119, Validation Loss: -53.32\n",
      "Epoch 120, Validation Loss: -69.95\n",
      "Epoch 121, Validation Loss: -73.68\n",
      "Epoch 122, Validation Loss: -73.92\n",
      "Epoch 123, Validation Loss: -46.68\n",
      "Epoch 124, Validation Loss: -73.36\n",
      "Epoch 125, Validation Loss: -74.00\n",
      "Early stopping at epoch 125\n",
      "Best model loaded.\n",
      "Training complete.\n",
      "The training time is 86.46 sec.\n"
     ]
    }
   ],
   "source": [
    "from src.problem.neuromancer.trainer import trainer\n",
    "# training\n",
    "epochs = 200                    # number of training epochs\n",
    "warmup = 20                     # number of epochs to wait before enacting early stopping policy\n",
    "patience = 20                   # number of epochs with no improvement in eval metric to allow before early stopping\n",
    "optimizer = torch.optim.AdamW(components.parameters(), lr=lr)\n",
    "# create a trainer for the problem\n",
    "my_trainer = trainer(components, loss_fn, optimizer, epochs=epochs, patience=patience, warmup=warmup, device=\"cuda\")\n",
    "# training for the rounding problem\n",
    "my_trainer.train(loader_train, loader_dev)"
   ]
  },
  {
   "cell_type": "code",
   "execution_count": 26,
   "id": "8eb78c73-6a92-4639-b48c-8e9aa0c8dd37",
   "metadata": {},
   "outputs": [
    {
     "name": "stderr",
     "output_type": "stream",
     "text": [
      "100%|████████████████████████████████████████████████████████████████████████████████| 100/100 [00:03<00:00, 28.46it/s]\n"
     ]
    },
    {
     "name": "stdout",
     "output_type": "stream",
     "text": [
      "            Obj Val  Constraints Viol  Elapsed Time\n",
      "count  1.000000e+02        100.000000    100.000000\n",
      "mean  -7.439199e+01          0.037471      0.000665\n",
      "std    7.141223e-14          0.070150      0.000599\n",
      "min   -7.439199e+01          0.000000      0.000000\n",
      "25%   -7.439199e+01          0.000000      0.000000\n",
      "50%   -7.439199e+01          0.000000      0.000999\n",
      "75%   -7.439199e+01          0.049921      0.001003\n",
      "max   -7.439199e+01          0.358276      0.002051\n",
      "Number of infeasible solution: 42\n"
     ]
    }
   ],
   "source": [
    "from src.heuristic import naive_round\n",
    "params, sols, objvals, conviols, elapseds = [], [], [], [], []\n",
    "for b in tqdm(data_test.datadict[\"b\"][:100]):\n",
    "    # data point as tensor\n",
    "    datapoints = {\"b\": torch.unsqueeze(b, 0).to(\"cuda\"), \n",
    "                  \"name\": \"test\"}\n",
    "    # infer\n",
    "    components.eval()\n",
    "    tick = time.time()\n",
    "    with torch.no_grad():\n",
    "        for comp in components:\n",
    "            datapoints.update(comp(datapoints))\n",
    "    tock = time.time()\n",
    "    # assign params\n",
    "    model.set_param_val({\"b\":b.cpu().numpy()})\n",
    "    # assign vars\n",
    "    x = datapoints[\"x\"]\n",
    "    for i in range(num_var):\n",
    "        model.vars[\"x\"][i].value = x[0,i].item()\n",
    "    # get solutions\n",
    "    xval_rel, _ = model.get_val()\n",
    "    xval, objval = naive_round(xval_rel, model)\n",
    "    params.append(list(b.cpu().numpy()))\n",
    "    sols.append(list(list(xval.values())[0].values()))\n",
    "    objvals.append(objval)\n",
    "    conviols.append(sum(model.cal_violation()))\n",
    "    elapseds.append(tock - tick)\n",
    "df = pd.DataFrame({\"Param\":params, \"Sol\":sols, \"Obj Val\": objvals, \"Constraints Viol\": conviols, \"Elapsed Time\": elapseds})\n",
    "time.sleep(1)\n",
    "print(df.describe())\n",
    "print(\"Number of infeasible solution: {}\".format(np.sum(df[\"Constraints Viol\"] > 0)))\n",
    "df.to_csv(\"result/ln_pr_100-100.csv\")"
   ]
  },
  {
   "cell_type": "code",
   "execution_count": null,
   "id": "66d0eb0b-4b0d-44d3-8ca0-df0ac89d3804",
   "metadata": {},
   "outputs": [],
   "source": []
  }
 ],
 "metadata": {
  "kernelspec": {
   "display_name": "Python 3 (ipykernel)",
   "language": "python",
   "name": "python3"
  },
  "language_info": {
   "codemirror_mode": {
    "name": "ipython",
    "version": 3
   },
   "file_extension": ".py",
   "mimetype": "text/x-python",
   "name": "python",
   "nbconvert_exporter": "python",
   "pygments_lexer": "ipython3",
   "version": "3.10.13"
  }
 },
 "nbformat": 4,
 "nbformat_minor": 5
}
