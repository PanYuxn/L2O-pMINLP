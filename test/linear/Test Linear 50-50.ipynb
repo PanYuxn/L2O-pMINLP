{
 "cells": [
  {
   "cell_type": "code",
   "execution_count": 1,
   "id": "be61b914-e1af-43b9-9766-5092593f92dd",
   "metadata": {},
   "outputs": [],
   "source": [
    "import time\n",
    "\n",
    "import numpy as np\n",
    "import pandas as pd\n",
    "import torch\n",
    "from torch import nn\n",
    "from tqdm import tqdm\n",
    "\n",
    "# random seed\n",
    "np.random.seed(42)\n",
    "torch.manual_seed(42)\n",
    "torch.cuda.manual_seed(42)"
   ]
  },
  {
   "cell_type": "code",
   "execution_count": 2,
   "id": "35fe4527-9dbf-48f0-bfb3-62cda59092aa",
   "metadata": {},
   "outputs": [],
   "source": [
    "# turn off warning\n",
    "import logging\n",
    "logging.getLogger('pyomo.core').setLevel(logging.ERROR)"
   ]
  },
  {
   "cell_type": "markdown",
   "id": "c5560447-da9d-4cbe-aab4-538aa11c8ee8",
   "metadata": {},
   "source": [
    "## Problem Setting"
   ]
  },
  {
   "cell_type": "code",
   "execution_count": 3,
   "id": "52363c72-0d20-4c08-bd00-0f62aa73686c",
   "metadata": {},
   "outputs": [],
   "source": [
    "# init\n",
    "num_var = 50      # number of variables\n",
    "num_ineq = 50     # number of constraints\n",
    "num_data = 10000  # number of data\n",
    "test_size = 1000  # number of test size\n",
    "val_size = 1000   # number of validation size\n",
    "train_size = num_data - test_size - val_size"
   ]
  },
  {
   "cell_type": "code",
   "execution_count": 4,
   "id": "21938c00-d73f-4255-bc7c-bce6e8034cf8",
   "metadata": {},
   "outputs": [],
   "source": [
    "# data sample from uniform distribution\n",
    "b_samples = torch.from_numpy(np.random.uniform(-1, 1, size=(num_data, num_ineq))).float()\n",
    "data = {\"b\":b_samples}\n",
    "# data split\n",
    "from src.utlis import data_split\n",
    "data_train, data_test, data_dev = data_split(data, test_size=test_size, val_size=val_size)"
   ]
  },
  {
   "cell_type": "code",
   "execution_count": 5,
   "id": "5ecf81ff-627d-444d-8d90-121c7e20c217",
   "metadata": {},
   "outputs": [],
   "source": [
    "# torch dataloaders\n",
    "from torch.utils.data import DataLoader\n",
    "batch_size = 64\n",
    "loader_train = DataLoader(data_train, batch_size, num_workers=0, collate_fn=data_train.collate_fn, shuffle=True)\n",
    "loader_test = DataLoader(data_test, batch_size, num_workers=0, collate_fn=data_test.collate_fn, shuffle=False)\n",
    "loader_dev = DataLoader(data_dev, batch_size, num_workers=0, collate_fn=data_dev.collate_fn, shuffle=False)"
   ]
  },
  {
   "cell_type": "markdown",
   "id": "16ec0a67-54ea-4a9d-b037-0c7c9390e3f9",
   "metadata": {},
   "source": [
    "## Exact Solver"
   ]
  },
  {
   "cell_type": "code",
   "execution_count": 6,
   "id": "50aaabd7-90ed-4628-a1da-c98777868d92",
   "metadata": {},
   "outputs": [],
   "source": [
    "from src.problem import msLinear\n",
    "model = msLinear(num_var, num_ineq, timelimit=60)"
   ]
  },
  {
   "cell_type": "code",
   "execution_count": 7,
   "id": "1c8d0f11-7ad1-4886-a76d-430189d06c33",
   "metadata": {},
   "outputs": [
    {
     "name": "stderr",
     "output_type": "stream",
     "text": [
      "100%|██████████████████████████████████████████████████████████████████████████████| 100/100 [1:42:06<00:00, 61.27s/it]\n"
     ]
    },
    {
     "name": "stdout",
     "output_type": "stream",
     "text": [
      "          Obj Val  Constraints Viol  Elapsed Time\n",
      "count  100.000000             100.0    100.000000\n",
      "mean   -56.341032               0.0     61.249173\n",
      "std      0.414810               0.0      0.143941\n",
      "min    -57.277715               0.0     60.988047\n",
      "25%    -56.660185               0.0     61.158013\n",
      "50%    -56.374159               0.0     61.217180\n",
      "75%    -56.048647               0.0     61.323208\n",
      "max    -55.268315               0.0     61.749841\n",
      "Number of infeasible solution: 0\n"
     ]
    }
   ],
   "source": [
    "params, sols, objvals, conviols, elapseds = [], [], [], [], []\n",
    "for b in tqdm(data_test.datadict[\"b\"][:100]):\n",
    "    # set params\n",
    "    model.set_param_val({\"b\":b.cpu().numpy()})\n",
    "    # solve\n",
    "    tick = time.time()\n",
    "    xval, objval = model.solve(\"gurobi\")\n",
    "    tock = time.time()\n",
    "    # eval\n",
    "    params.append(list(b.cpu().numpy()))\n",
    "    sols.append(list(list(xval.values())[0].values()))\n",
    "    objvals.append(objval)\n",
    "    conviols.append(sum(model.cal_violation()))\n",
    "    if sum(model.cal_violation()) > 0:\n",
    "        xval, objval = model.solve(\"gurobi\", tee=True)\n",
    "        break\n",
    "    elapseds.append(tock - tick)\n",
    "df = pd.DataFrame({\"Param\":params, \"Sol\":sols, \"Obj Val\": objvals, \"Constraints Viol\": conviols, \"Elapsed Time\": elapseds})\n",
    "time.sleep(1)\n",
    "print(df.describe())\n",
    "print(\"Number of infeasible solution: {}\".format(np.sum(df[\"Constraints Viol\"] > 0)))\n",
    "df.to_csv(\"result/ln_exact_50-50.csv\")"
   ]
  },
  {
   "cell_type": "markdown",
   "id": "cad38e16-1a87-4f11-92b4-b608f7f3ea11",
   "metadata": {},
   "source": [
    "## Heuristic - Round"
   ]
  },
  {
   "cell_type": "code",
   "execution_count": 8,
   "id": "03328361-3f39-461d-ac81-40c8c14717bb",
   "metadata": {},
   "outputs": [],
   "source": [
    "from src.heuristic import naive_round"
   ]
  },
  {
   "cell_type": "code",
   "execution_count": 9,
   "id": "2e57b62f-dfb4-4c87-b42e-e43b202ef96c",
   "metadata": {},
   "outputs": [
    {
     "name": "stderr",
     "output_type": "stream",
     "text": [
      "100%|████████████████████████████████████████████████████████████████████████████████| 100/100 [00:22<00:00,  4.42it/s]\n"
     ]
    },
    {
     "name": "stdout",
     "output_type": "stream",
     "text": [
      "          Obj Val  Constraints Viol  Elapsed Time\n",
      "count  100.000000        100.000000    100.000000\n",
      "mean   -56.505190          1.198322      0.146128\n",
      "std      0.430429          0.378845      0.009731\n",
      "min    -57.489181          0.245157      0.126043\n",
      "25%    -56.814062          0.947998      0.140068\n",
      "50%    -56.511283          1.137925      0.144286\n",
      "75%    -56.219426          1.431795      0.150272\n",
      "max    -55.470035          2.188033      0.176831\n",
      "Number of infeasible solution: 100\n"
     ]
    }
   ],
   "source": [
    "params, sols, objvals, conviols, elapseds = [], [], [], [], []\n",
    "for b in tqdm(data_test.datadict[\"b\"][:100]):\n",
    "    # set params\n",
    "    model.set_param_val({\"b\":b.cpu().numpy()})\n",
    "    # relax\n",
    "    model_rel = model.relax()\n",
    "    # solve\n",
    "    tick = time.time()\n",
    "    xval_rel, _ = model_rel.solve(\"gurobi\")\n",
    "    xval, objval = naive_round(xval_rel, model)\n",
    "    tock = time.time()\n",
    "    # eval\n",
    "    params.append(list(b.cpu().numpy()))\n",
    "    sols.append(list(list(xval.values())[0].values()))\n",
    "    objvals.append(objval)\n",
    "    conviols.append(sum(model.cal_violation()))\n",
    "    elapseds.append(tock - tick)\n",
    "df = pd.DataFrame({\"Param\":params, \"Sol\":sols, \"Obj Val\": objvals, \"Constraints Viol\": conviols, \"Elapsed Time\": elapseds})\n",
    "time.sleep(1)\n",
    "print(df.describe())\n",
    "print(\"Number of infeasible solution: {}\".format(np.sum(df[\"Constraints Viol\"] > 0)))\n",
    "df.to_csv(\"result/ln_heur_rnd_50-50.csv\")"
   ]
  },
  {
   "cell_type": "markdown",
   "id": "96304fbd-08f5-4be7-a81e-83c85332029c",
   "metadata": {},
   "source": [
    "## Heuristic - N1"
   ]
  },
  {
   "cell_type": "code",
   "execution_count": 10,
   "id": "356187af-e02d-4478-bf78-ada6a2e1b94b",
   "metadata": {},
   "outputs": [],
   "source": [
    "model_heur = model.first_solution_heuristic(nodes_limit=1)"
   ]
  },
  {
   "cell_type": "code",
   "execution_count": 11,
   "id": "f4c7fc52-cbbc-4414-bf1d-316d65c8db5b",
   "metadata": {},
   "outputs": [
    {
     "name": "stderr",
     "output_type": "stream",
     "text": [
      "100%|████████████████████████████████████████████████████████████████████████████████| 100/100 [00:16<00:00,  6.20it/s]\n"
     ]
    },
    {
     "name": "stdout",
     "output_type": "stream",
     "text": [
      "          Obj Val  Constraints Viol  Elapsed Time\n",
      "count  100.000000             100.0    100.000000\n",
      "mean   -35.219012               0.0      0.151665\n",
      "std     11.121363               0.0      0.006707\n",
      "min    -55.455964               0.0      0.133031\n",
      "25%    -39.097745               0.0      0.147781\n",
      "50%    -35.513947               0.0      0.149934\n",
      "75%    -29.622997               0.0      0.155645\n",
      "max     -4.621126               0.0      0.170249\n",
      "Number of infeasible solution: 0\n"
     ]
    }
   ],
   "source": [
    "params, sols, objvals, conviols, elapseds = [], [], [], [], []\n",
    "for b in tqdm(data_test.datadict[\"b\"][:100]):\n",
    "    # set params\n",
    "    model_heur.set_param_val({\"b\":b.cpu().numpy()})\n",
    "    # solve\n",
    "    tick = time.time()\n",
    "    xval, objval = model_heur.solve(\"gurobi\")\n",
    "    tock = time.time()\n",
    "    # eval\n",
    "    params.append(list(b.cpu().numpy()))\n",
    "    sols.append(list(list(xval.values())[0].values()))\n",
    "    objvals.append(objval)\n",
    "    conviols.append(sum(model_heur.cal_violation()))\n",
    "    elapseds.append(tock - tick)\n",
    "df = pd.DataFrame({\"Param\":params, \"Sol\":sols, \"Obj Val\": objvals, \"Constraints Viol\": conviols, \"Elapsed Time\": elapseds})\n",
    "time.sleep(1)\n",
    "print(df.describe())\n",
    "print(\"Number of infeasible solution: {}\".format(np.sum(df[\"Constraints Viol\"] > 0)))\n",
    "df.to_csv(\"result/ln_heur_n1_50-50.csv\")"
   ]
  },
  {
   "cell_type": "markdown",
   "id": "9819c60c-df5f-41c6-ae83-888c75aa78d7",
   "metadata": {},
   "source": [
    "## Learnable Rounding"
   ]
  },
  {
   "cell_type": "code",
   "execution_count": 12,
   "id": "6a4fb3e2-9c47-4c10-8116-e94be18ea59c",
   "metadata": {},
   "outputs": [],
   "source": [
    "# random seed\n",
    "np.random.seed(42)\n",
    "torch.manual_seed(42)\n",
    "torch.cuda.manual_seed(42)"
   ]
  },
  {
   "cell_type": "code",
   "execution_count": 13,
   "id": "536d2d58-67ba-408a-b72a-7c5bd54a5ff4",
   "metadata": {},
   "outputs": [],
   "source": [
    "# hyperparameters\n",
    "penalty_weight = 100  # weight of constraint violation penealty\n",
    "hlayers_sol = 5       # number of hidden layers for solution mapping\n",
    "hlayers_rnd = 4       # number of hidden layers for solution mapping\n",
    "hsize = 128           # width of hidden layers for solution mapping\n",
    "lr = 1e-3             # learning rate"
   ]
  },
  {
   "cell_type": "code",
   "execution_count": 14,
   "id": "fee1241e-e53a-4cbb-927a-edcdb3537303",
   "metadata": {},
   "outputs": [],
   "source": [
    "# set problem\n",
    "import neuromancer as nm\n",
    "from src.problem import nmLinear\n",
    "from src.func.layer import netFC\n",
    "from src.func import roundGumbelModel\n",
    "# build neural architecture for the solution map\n",
    "func = nm.modules.blocks.MLP(insize=num_ineq, outsize=num_var, bias=True,\n",
    "                             linear_map=nm.slim.maps[\"linear\"],\n",
    "                             nonlin=nn.ReLU, hsizes=[hsize]*hlayers_sol)\n",
    "smap = nm.system.Node(func, [\"b\"], [\"x\"], name=\"smap\")\n",
    "# define rounding model\n",
    "layers_rnd = netFC(input_dim=num_ineq+num_var, hidden_dims=[hsize]*hlayers_rnd, output_dim=num_var)\n",
    "rnd = roundGumbelModel(layers=layers_rnd, param_keys=[\"b\"], var_keys=[\"x\"],  output_keys=[\"x_rnd\"], \n",
    "                       int_ind=model.int_ind, continuous_update=True, name=\"round\")\n",
    "# build neuromancer problem for rounding\n",
    "components = nn.ModuleList([smap, rnd]).to(\"cuda\")\n",
    "loss_fn = nmLinear([\"b\", \"x_rnd\"], num_var, num_ineq, penalty_weight)"
   ]
  },
  {
   "cell_type": "code",
   "execution_count": 15,
   "id": "e4f10263-5f69-4288-a4e8-8be83929c8d6",
   "metadata": {},
   "outputs": [
    {
     "name": "stdout",
     "output_type": "stream",
     "text": [
      "Epoch 0, Validation Loss: 1485.61\n",
      "Epoch 1, Validation Loss: -25.41\n",
      "Epoch 2, Validation Loss: -38.08\n",
      "Epoch 3, Validation Loss: -39.81\n",
      "Epoch 4, Validation Loss: -35.75\n",
      "Epoch 5, Validation Loss: -41.87\n",
      "Epoch 6, Validation Loss: -42.21\n",
      "Epoch 7, Validation Loss: -8.57\n",
      "Epoch 8, Validation Loss: -38.46\n",
      "Epoch 9, Validation Loss: 41.41\n",
      "Epoch 10, Validation Loss: -43.10\n",
      "Epoch 11, Validation Loss: -44.34\n",
      "Epoch 12, Validation Loss: -25.56\n",
      "Epoch 13, Validation Loss: 7.98\n",
      "Epoch 14, Validation Loss: 3.51\n",
      "Epoch 15, Validation Loss: -42.16\n",
      "Epoch 16, Validation Loss: -36.62\n",
      "Epoch 17, Validation Loss: 93.65\n",
      "Epoch 18, Validation Loss: -40.55\n",
      "Epoch 19, Validation Loss: -43.61\n",
      "Epoch 20, Validation Loss: -44.07\n",
      "Epoch 21, Validation Loss: -46.37\n",
      "Epoch 22, Validation Loss: -41.72\n",
      "Epoch 23, Validation Loss: -47.76\n",
      "Epoch 24, Validation Loss: -38.95\n",
      "Epoch 25, Validation Loss: -48.81\n",
      "Epoch 26, Validation Loss: -47.69\n",
      "Epoch 27, Validation Loss: -28.43\n",
      "Epoch 28, Validation Loss: -49.06\n",
      "Epoch 29, Validation Loss: -48.10\n",
      "Epoch 30, Validation Loss: -48.16\n",
      "Epoch 31, Validation Loss: -48.78\n",
      "Epoch 32, Validation Loss: -46.13\n",
      "Epoch 33, Validation Loss: -46.01\n",
      "Epoch 34, Validation Loss: -45.38\n",
      "Epoch 35, Validation Loss: -47.89\n",
      "Epoch 36, Validation Loss: -44.25\n",
      "Epoch 37, Validation Loss: -28.02\n",
      "Epoch 38, Validation Loss: -38.29\n",
      "Epoch 39, Validation Loss: -41.10\n",
      "Epoch 40, Validation Loss: -38.52\n",
      "Epoch 41, Validation Loss: -48.92\n",
      "Epoch 42, Validation Loss: -49.25\n",
      "Epoch 43, Validation Loss: -48.91\n",
      "Epoch 44, Validation Loss: -49.20\n",
      "Epoch 45, Validation Loss: -24.89\n",
      "Epoch 46, Validation Loss: -30.39\n",
      "Epoch 47, Validation Loss: -49.51\n",
      "Epoch 48, Validation Loss: -46.40\n",
      "Epoch 49, Validation Loss: -29.00\n",
      "Epoch 50, Validation Loss: -48.37\n",
      "Epoch 51, Validation Loss: -39.72\n",
      "Epoch 52, Validation Loss: -49.57\n",
      "Epoch 53, Validation Loss: -18.84\n",
      "Epoch 54, Validation Loss: -28.73\n",
      "Epoch 55, Validation Loss: -49.19\n",
      "Epoch 56, Validation Loss: -49.25\n",
      "Epoch 57, Validation Loss: -42.01\n",
      "Epoch 58, Validation Loss: -14.91\n",
      "Epoch 59, Validation Loss: -29.75\n",
      "Epoch 60, Validation Loss: -49.59\n",
      "Epoch 61, Validation Loss: -50.87\n",
      "Epoch 62, Validation Loss: -50.80\n",
      "Epoch 63, Validation Loss: -51.17\n",
      "Epoch 64, Validation Loss: 31.56\n",
      "Epoch 65, Validation Loss: -50.70\n",
      "Epoch 66, Validation Loss: -51.32\n",
      "Epoch 67, Validation Loss: -51.20\n",
      "Epoch 68, Validation Loss: -47.84\n",
      "Epoch 69, Validation Loss: -51.12\n",
      "Epoch 70, Validation Loss: -50.18\n",
      "Epoch 71, Validation Loss: 14.97\n",
      "Epoch 72, Validation Loss: -49.77\n",
      "Epoch 73, Validation Loss: -51.45\n",
      "Epoch 74, Validation Loss: -50.70\n",
      "Epoch 75, Validation Loss: 57.90\n",
      "Epoch 76, Validation Loss: 1774.86\n",
      "Epoch 77, Validation Loss: 176.98\n",
      "Epoch 78, Validation Loss: -40.98\n",
      "Epoch 79, Validation Loss: 750.24\n",
      "Epoch 80, Validation Loss: 901.76\n",
      "Epoch 81, Validation Loss: 916.99\n",
      "Epoch 82, Validation Loss: -52.80\n",
      "Epoch 83, Validation Loss: 64.31\n",
      "Epoch 84, Validation Loss: 129.62\n",
      "Epoch 85, Validation Loss: -26.46\n",
      "Epoch 86, Validation Loss: -43.51\n",
      "Epoch 87, Validation Loss: 44.81\n",
      "Epoch 88, Validation Loss: -52.56\n",
      "Epoch 89, Validation Loss: -51.61\n",
      "Epoch 90, Validation Loss: -51.85\n",
      "Epoch 91, Validation Loss: 37.56\n",
      "Epoch 92, Validation Loss: -52.35\n",
      "Epoch 93, Validation Loss: -52.22\n",
      "Epoch 94, Validation Loss: -17.74\n",
      "Epoch 95, Validation Loss: -32.21\n",
      "Epoch 96, Validation Loss: -51.21\n",
      "Epoch 97, Validation Loss: 553.34\n",
      "Epoch 98, Validation Loss: -1.43\n",
      "Epoch 99, Validation Loss: -36.32\n",
      "Epoch 100, Validation Loss: -51.97\n",
      "Epoch 101, Validation Loss: -51.90\n",
      "Early stopping at epoch 101\n",
      "Best model loaded.\n",
      "Training complete.\n",
      "The training time is 169.82 sec.\n"
     ]
    }
   ],
   "source": [
    "from src.problem.neuromancer.trainer import trainer\n",
    "# training\n",
    "epochs = 200                    # number of training epochs\n",
    "warmup = 20                     # number of epochs to wait before enacting early stopping policy\n",
    "patience = 20                   # number of epochs with no improvement in eval metric to allow before early stopping\n",
    "optimizer = torch.optim.AdamW(components.parameters(), lr=lr)\n",
    "# create a trainer for the problem\n",
    "my_trainer = trainer(components, loss_fn, optimizer, epochs=epochs, patience=patience, warmup=warmup, device=\"cuda\")\n",
    "# training for the rounding problem\n",
    "my_trainer.train(loader_train, loader_dev)"
   ]
  },
  {
   "cell_type": "code",
   "execution_count": 16,
   "id": "3e835084-eb75-45d9-bcbd-5fb4c613fb41",
   "metadata": {},
   "outputs": [
    {
     "name": "stderr",
     "output_type": "stream",
     "text": [
      "100%|████████████████████████████████████████████████████████████████████████████████| 100/100 [00:01<00:00, 62.18it/s]\n"
     ]
    },
    {
     "name": "stdout",
     "output_type": "stream",
     "text": [
      "          Obj Val  Constraints Viol  Elapsed Time\n",
      "count  100.000000        100.000000    100.000000\n",
      "mean   -52.914468          0.000330      0.003360\n",
      "std      0.612080          0.003300      0.000911\n",
      "min    -53.245679          0.000000      0.001348\n",
      "25%    -53.162749          0.000000      0.002999\n",
      "50%    -53.119023          0.000000      0.003315\n",
      "75%    -53.006839          0.000000      0.003742\n",
      "max    -49.775469          0.033004      0.007266\n",
      "Number of infeasible solution: 1\n"
     ]
    }
   ],
   "source": [
    "params, sols, objvals, conviols, elapseds = [], [], [], [], []\n",
    "for b in tqdm(data_test.datadict[\"b\"][:100]):\n",
    "    # data point as tensor\n",
    "    datapoints = {\"b\": torch.unsqueeze(b, 0).to(\"cuda\"), \n",
    "                  \"name\": \"test\"}\n",
    "    # infer\n",
    "    components.eval()\n",
    "    tick = time.time()\n",
    "    with torch.no_grad():\n",
    "        for comp in components:\n",
    "            datapoints.update(comp(datapoints))\n",
    "    tock = time.time()\n",
    "    # assign params\n",
    "    model.set_param_val({\"b\":b.cpu().numpy()})\n",
    "    # assign vars\n",
    "    x = datapoints[\"x_rnd\"]\n",
    "    for i in range(num_var):\n",
    "        model.vars[\"x\"][i].value = x[0,i].item()\n",
    "    # get solutions\n",
    "    xval, objval = model.get_val()    \n",
    "    params.append(list(b.cpu().numpy()))\n",
    "    sols.append(list(list(xval.values())[0].values()))\n",
    "    objvals.append(objval)\n",
    "    conviols.append(sum(model.cal_violation()))\n",
    "    elapseds.append(tock - tick)\n",
    "df = pd.DataFrame({\"Param\":params, \"Sol\":sols, \"Obj Val\": objvals, \"Constraints Viol\": conviols, \"Elapsed Time\": elapseds})\n",
    "time.sleep(1)\n",
    "print(df.describe())\n",
    "print(\"Number of infeasible solution: {}\".format(np.sum(df[\"Constraints Viol\"] > 0)))\n",
    "df.to_csv(\"result/ln_lr_50-50.csv\")"
   ]
  },
  {
   "cell_type": "markdown",
   "id": "2dbf8a72-29b9-49c4-b3c1-0d68895c1c1f",
   "metadata": {},
   "source": [
    "## Learnable Threshold"
   ]
  },
  {
   "cell_type": "code",
   "execution_count": 17,
   "id": "36c57dbb-8dee-4976-8922-82a155fe0128",
   "metadata": {},
   "outputs": [],
   "source": [
    "# random seed\n",
    "np.random.seed(42)\n",
    "torch.manual_seed(42)\n",
    "torch.cuda.manual_seed(42)"
   ]
  },
  {
   "cell_type": "code",
   "execution_count": 18,
   "id": "d46b9817-87ac-4af0-b387-b10c9a4998f4",
   "metadata": {},
   "outputs": [],
   "source": [
    "# hyperparameters\n",
    "penalty_weight = 100  # weight of constraint violation penealty\n",
    "hlayers_sol = 5       # number of hidden layers for solution mapping\n",
    "hlayers_rnd = 4       # number of hidden layers for solution mapping\n",
    "hsize = 128           # width of hidden layers for solution mapping\n",
    "lr = 1e-3             # learning rate"
   ]
  },
  {
   "cell_type": "code",
   "execution_count": 19,
   "id": "fa8b147f-39c8-4eb7-bb95-93dd8e4cb1cf",
   "metadata": {},
   "outputs": [],
   "source": [
    "# set problem\n",
    "import neuromancer as nm\n",
    "from src.problem import nmLinear\n",
    "from src.func.layer import netFC\n",
    "from src.func import roundThresholdModel\n",
    "# build neural architecture for the solution map\n",
    "func = nm.modules.blocks.MLP(insize=num_ineq, outsize=num_var, bias=True,\n",
    "                             linear_map=nm.slim.maps[\"linear\"],\n",
    "                             nonlin=nn.ReLU, hsizes=[hsize]*hlayers_sol)\n",
    "smap = nm.system.Node(func, [\"b\"], [\"x\"], name=\"smap\")\n",
    "# define rounding model\n",
    "layers_rnd = netFC(input_dim=num_ineq+num_var, hidden_dims=[hsize]*hlayers_rnd, output_dim=num_var)\n",
    "rnd = roundThresholdModel(layers=layers_rnd, param_keys=[\"b\"], var_keys=[\"x\"],  output_keys=[\"x_rnd\"], \n",
    "                       int_ind=model.int_ind, continuous_update=True, name=\"round\")\n",
    "# build neuromancer problem for rounding\n",
    "components = nn.ModuleList([smap, rnd]).to(\"cuda\")\n",
    "loss_fn = nmLinear([\"b\", \"x_rnd\"], num_var, num_ineq, penalty_weight)"
   ]
  },
  {
   "cell_type": "code",
   "execution_count": 20,
   "id": "c6f5bb17-8c3c-4dcd-952d-caa1d7c4c4fa",
   "metadata": {},
   "outputs": [
    {
     "name": "stdout",
     "output_type": "stream",
     "text": [
      "Epoch 0, Validation Loss: 1241.19\n",
      "Epoch 1, Validation Loss: -28.89\n",
      "Epoch 2, Validation Loss: -18.77\n",
      "Epoch 3, Validation Loss: -19.46\n",
      "Epoch 4, Validation Loss: -37.97\n",
      "Epoch 5, Validation Loss: -13.81\n",
      "Epoch 6, Validation Loss: -22.86\n",
      "Epoch 7, Validation Loss: -39.14\n",
      "Epoch 8, Validation Loss: -20.54\n",
      "Epoch 9, Validation Loss: -21.41\n",
      "Epoch 10, Validation Loss: -33.46\n",
      "Epoch 11, Validation Loss: -44.99\n",
      "Epoch 12, Validation Loss: -45.39\n",
      "Epoch 13, Validation Loss: -43.75\n",
      "Epoch 14, Validation Loss: -41.14\n",
      "Epoch 15, Validation Loss: -22.29\n",
      "Epoch 16, Validation Loss: 25.85\n",
      "Epoch 17, Validation Loss: -44.66\n",
      "Epoch 18, Validation Loss: -45.66\n",
      "Epoch 19, Validation Loss: -44.17\n",
      "Epoch 20, Validation Loss: 30.63\n",
      "Epoch 21, Validation Loss: -47.11\n",
      "Epoch 22, Validation Loss: -47.81\n",
      "Epoch 23, Validation Loss: -42.74\n",
      "Epoch 24, Validation Loss: -14.68\n",
      "Epoch 25, Validation Loss: -47.94\n",
      "Epoch 26, Validation Loss: -40.11\n",
      "Epoch 27, Validation Loss: -44.99\n",
      "Epoch 28, Validation Loss: -48.32\n",
      "Epoch 29, Validation Loss: 1.25\n",
      "Epoch 30, Validation Loss: -45.19\n",
      "Epoch 31, Validation Loss: -48.38\n",
      "Epoch 32, Validation Loss: 41.72\n",
      "Epoch 33, Validation Loss: -48.88\n",
      "Epoch 34, Validation Loss: -23.80\n",
      "Epoch 35, Validation Loss: -45.43\n",
      "Epoch 36, Validation Loss: -48.85\n",
      "Epoch 37, Validation Loss: -49.95\n",
      "Epoch 38, Validation Loss: -49.30\n",
      "Epoch 39, Validation Loss: -40.93\n",
      "Epoch 40, Validation Loss: -1.84\n",
      "Epoch 41, Validation Loss: -50.66\n",
      "Epoch 42, Validation Loss: -47.78\n",
      "Epoch 43, Validation Loss: -47.18\n",
      "Epoch 44, Validation Loss: -50.45\n",
      "Epoch 45, Validation Loss: -49.55\n",
      "Epoch 46, Validation Loss: -41.65\n",
      "Epoch 47, Validation Loss: 21.36\n",
      "Epoch 48, Validation Loss: -38.98\n",
      "Epoch 49, Validation Loss: 381.10\n",
      "Epoch 50, Validation Loss: -47.22\n",
      "Epoch 51, Validation Loss: -50.90\n",
      "Epoch 52, Validation Loss: -24.55\n",
      "Epoch 53, Validation Loss: 18.94\n",
      "Epoch 54, Validation Loss: -50.50\n",
      "Epoch 55, Validation Loss: -51.87\n",
      "Epoch 56, Validation Loss: -50.23\n",
      "Epoch 57, Validation Loss: -50.57\n",
      "Epoch 58, Validation Loss: -38.86\n",
      "Epoch 59, Validation Loss: -47.66\n",
      "Epoch 60, Validation Loss: -51.33\n",
      "Epoch 61, Validation Loss: 40.54\n",
      "Epoch 62, Validation Loss: -36.63\n",
      "Epoch 63, Validation Loss: -49.98\n",
      "Epoch 64, Validation Loss: 567.90\n",
      "Epoch 65, Validation Loss: 87.22\n",
      "Epoch 66, Validation Loss: -44.06\n",
      "Epoch 67, Validation Loss: 286.28\n",
      "Epoch 68, Validation Loss: -6.99\n",
      "Epoch 69, Validation Loss: 169.10\n",
      "Epoch 70, Validation Loss: -52.01\n",
      "Epoch 71, Validation Loss: -52.25\n",
      "Epoch 72, Validation Loss: -40.61\n",
      "Epoch 73, Validation Loss: -50.45\n",
      "Epoch 74, Validation Loss: -52.02\n",
      "Epoch 75, Validation Loss: -51.03\n",
      "Epoch 76, Validation Loss: 31.41\n",
      "Epoch 77, Validation Loss: -36.11\n",
      "Epoch 78, Validation Loss: -51.44\n",
      "Epoch 79, Validation Loss: -32.23\n",
      "Epoch 80, Validation Loss: -48.39\n",
      "Epoch 81, Validation Loss: 100.07\n",
      "Epoch 82, Validation Loss: -43.60\n",
      "Epoch 83, Validation Loss: -21.30\n",
      "Epoch 84, Validation Loss: -50.14\n",
      "Epoch 85, Validation Loss: -50.94\n",
      "Epoch 86, Validation Loss: 41.09\n",
      "Epoch 87, Validation Loss: 8.63\n",
      "Epoch 88, Validation Loss: -46.63\n",
      "Epoch 89, Validation Loss: -22.25\n",
      "Epoch 90, Validation Loss: -41.58\n",
      "Early stopping at epoch 90\n",
      "Best model loaded.\n",
      "Training complete.\n",
      "The training time is 152.03 sec.\n"
     ]
    }
   ],
   "source": [
    "from src.problem.neuromancer.trainer import trainer\n",
    "# training\n",
    "epochs = 200                    # number of training epochs\n",
    "warmup = 20                     # number of epochs to wait before enacting early stopping policy\n",
    "patience = 20                   # number of epochs with no improvement in eval metric to allow before early stopping\n",
    "optimizer = torch.optim.AdamW(components.parameters(), lr=lr)\n",
    "# create a trainer for the problem\n",
    "my_trainer = trainer(components, loss_fn, optimizer, epochs=epochs, patience=patience, warmup=warmup, device=\"cuda\")\n",
    "# training for the rounding problem\n",
    "my_trainer.train(loader_train, loader_dev)"
   ]
  },
  {
   "cell_type": "code",
   "execution_count": 21,
   "id": "6584d57e-6b4c-4262-82f5-55735ef17cac",
   "metadata": {},
   "outputs": [
    {
     "name": "stderr",
     "output_type": "stream",
     "text": [
      "100%|████████████████████████████████████████████████████████████████████████████████| 100/100 [00:01<00:00, 71.40it/s]\n"
     ]
    },
    {
     "name": "stdout",
     "output_type": "stream",
     "text": [
      "          Obj Val  Constraints Viol  Elapsed Time\n",
      "count  100.000000             100.0    100.000000\n",
      "mean   -52.785579               0.0      0.003139\n",
      "std      0.138392               0.0      0.000993\n",
      "min    -53.229900               0.0      0.001863\n",
      "25%    -52.826061               0.0      0.002485\n",
      "50%    -52.773664               0.0      0.003001\n",
      "75%    -52.708682               0.0      0.003510\n",
      "max    -52.537535               0.0      0.007511\n",
      "Number of infeasible solution: 0\n"
     ]
    }
   ],
   "source": [
    "params, sols, objvals, conviols, elapseds = [], [], [], [], []\n",
    "for b in tqdm(data_test.datadict[\"b\"][:100]):\n",
    "    # data point as tensor\n",
    "    datapoints = {\"b\": torch.unsqueeze(b, 0).to(\"cuda\"), \n",
    "                  \"name\": \"test\"}\n",
    "    # infer\n",
    "    components.eval()\n",
    "    tick = time.time()\n",
    "    with torch.no_grad():\n",
    "        for comp in components:\n",
    "            datapoints.update(comp(datapoints))\n",
    "    tock = time.time()\n",
    "    # assign params\n",
    "    model.set_param_val({\"b\":b.cpu().numpy()})\n",
    "    # assign vars\n",
    "    x = datapoints[\"x_rnd\"]\n",
    "    for i in range(num_var):\n",
    "        model.vars[\"x\"][i].value = x[0,i].item()\n",
    "    # get solutions\n",
    "    xval, objval = model.get_val()    \n",
    "    params.append(list(b.cpu().numpy()))\n",
    "    sols.append(list(list(xval.values())[0].values()))\n",
    "    objvals.append(objval)\n",
    "    conviols.append(sum(model.cal_violation()))\n",
    "    elapseds.append(tock - tick)\n",
    "df = pd.DataFrame({\"Param\":params, \"Sol\":sols, \"Obj Val\": objvals, \"Constraints Viol\": conviols, \"Elapsed Time\": elapseds})\n",
    "time.sleep(1)\n",
    "print(df.describe())\n",
    "print(\"Number of infeasible solution: {}\".format(np.sum(df[\"Constraints Viol\"] > 0)))\n",
    "df.to_csv(\"result/ln_lt_50-50.csv\")"
   ]
  },
  {
   "cell_type": "markdown",
   "id": "6ee67a6c-67a8-49f1-8623-d3d32a9ac5be",
   "metadata": {},
   "source": [
    "### Parametric Learning Then Rounding"
   ]
  },
  {
   "cell_type": "code",
   "execution_count": 22,
   "id": "382a0a8a-d846-4182-ab69-7d618edea9cf",
   "metadata": {},
   "outputs": [],
   "source": [
    "# random seed\n",
    "np.random.seed(42)\n",
    "torch.manual_seed(42)\n",
    "torch.cuda.manual_seed(42)"
   ]
  },
  {
   "cell_type": "code",
   "execution_count": 23,
   "id": "2279da2f-e4f2-4f87-979d-f6ea175b7cc9",
   "metadata": {},
   "outputs": [],
   "source": [
    "# hyperparameters\n",
    "penalty_weight = 100  # weight of constraint violation penealty\n",
    "hlayers_sol = 5       # number of hidden layers for solution mapping\n",
    "hsize = 128           # width of hidden layers for solution mapping\n",
    "lr = 1e-3             # learning rate"
   ]
  },
  {
   "cell_type": "code",
   "execution_count": 24,
   "id": "dc92f89e-28b1-483b-a284-7bded54e9958",
   "metadata": {},
   "outputs": [],
   "source": [
    "# set problem\n",
    "import neuromancer as nm\n",
    "from src.problem import nmLinear\n",
    "from src.func.layer import netFC\n",
    "# build neural architecture for the solution map\n",
    "func = nm.modules.blocks.MLP(insize=num_ineq, outsize=num_var, bias=True,\n",
    "                             linear_map=nm.slim.maps[\"linear\"],\n",
    "                             nonlin=nn.ReLU, hsizes=[hsize]*hlayers_sol)\n",
    "smap = nm.system.Node(func, [\"b\"], [\"x\"], name=\"smap\")\n",
    "# build neuromancer problem for rounding\n",
    "components = nn.ModuleList([smap]).to(\"cuda\")\n",
    "loss_fn = nmLinear([\"b\", \"x\"], num_var, num_ineq, penalty_weight)"
   ]
  },
  {
   "cell_type": "code",
   "execution_count": 25,
   "id": "1ec4af4d-5722-4162-819c-6c2719bd9d12",
   "metadata": {},
   "outputs": [
    {
     "name": "stdout",
     "output_type": "stream",
     "text": [
      "Epoch 0, Validation Loss: 1248.58\n",
      "Epoch 1, Validation Loss: -28.31\n",
      "Epoch 2, Validation Loss: -37.70\n",
      "Epoch 3, Validation Loss: -39.67\n",
      "Epoch 4, Validation Loss: 61.90\n",
      "Epoch 5, Validation Loss: 26.19\n",
      "Epoch 6, Validation Loss: -40.54\n",
      "Epoch 7, Validation Loss: -41.64\n",
      "Epoch 8, Validation Loss: -43.38\n",
      "Epoch 9, Validation Loss: -42.46\n",
      "Epoch 10, Validation Loss: -34.45\n",
      "Epoch 11, Validation Loss: -35.01\n",
      "Epoch 12, Validation Loss: -44.19\n",
      "Epoch 13, Validation Loss: -42.28\n",
      "Epoch 14, Validation Loss: -44.92\n",
      "Epoch 15, Validation Loss: -38.01\n",
      "Epoch 16, Validation Loss: -42.01\n",
      "Epoch 17, Validation Loss: -43.87\n",
      "Epoch 18, Validation Loss: -45.46\n",
      "Epoch 19, Validation Loss: -46.85\n",
      "Epoch 20, Validation Loss: -46.36\n",
      "Epoch 21, Validation Loss: -45.84\n",
      "Epoch 22, Validation Loss: -42.75\n",
      "Epoch 23, Validation Loss: -46.10\n",
      "Epoch 24, Validation Loss: -44.20\n",
      "Epoch 25, Validation Loss: -40.65\n",
      "Epoch 26, Validation Loss: -48.22\n",
      "Epoch 27, Validation Loss: -46.70\n",
      "Epoch 28, Validation Loss: -48.23\n",
      "Epoch 29, Validation Loss: -46.52\n",
      "Epoch 30, Validation Loss: -32.66\n",
      "Epoch 31, Validation Loss: -48.67\n",
      "Epoch 32, Validation Loss: -46.80\n",
      "Epoch 33, Validation Loss: -48.25\n",
      "Epoch 34, Validation Loss: -26.92\n",
      "Epoch 35, Validation Loss: -45.85\n",
      "Epoch 36, Validation Loss: -47.49\n",
      "Epoch 37, Validation Loss: -40.08\n",
      "Epoch 38, Validation Loss: -45.63\n",
      "Epoch 39, Validation Loss: -48.20\n",
      "Epoch 40, Validation Loss: -49.60\n",
      "Epoch 41, Validation Loss: -45.53\n",
      "Epoch 42, Validation Loss: -49.49\n",
      "Epoch 43, Validation Loss: -44.22\n",
      "Epoch 44, Validation Loss: -37.39\n",
      "Epoch 45, Validation Loss: -46.58\n",
      "Epoch 46, Validation Loss: 8.34\n",
      "Epoch 47, Validation Loss: -50.35\n",
      "Epoch 48, Validation Loss: -49.39\n",
      "Epoch 49, Validation Loss: -50.78\n",
      "Epoch 50, Validation Loss: -50.36\n",
      "Epoch 51, Validation Loss: -50.90\n",
      "Epoch 52, Validation Loss: -50.97\n",
      "Epoch 53, Validation Loss: -51.18\n",
      "Epoch 54, Validation Loss: -50.77\n",
      "Epoch 55, Validation Loss: -51.55\n",
      "Epoch 56, Validation Loss: -51.09\n",
      "Epoch 57, Validation Loss: -50.87\n",
      "Epoch 58, Validation Loss: -45.23\n",
      "Epoch 59, Validation Loss: -51.33\n",
      "Epoch 60, Validation Loss: -52.22\n",
      "Epoch 61, Validation Loss: -50.87\n",
      "Epoch 62, Validation Loss: -51.51\n",
      "Epoch 63, Validation Loss: -19.79\n",
      "Epoch 64, Validation Loss: -50.35\n",
      "Epoch 65, Validation Loss: -51.59\n",
      "Epoch 66, Validation Loss: -44.47\n",
      "Epoch 67, Validation Loss: -51.52\n",
      "Epoch 68, Validation Loss: -51.52\n",
      "Epoch 69, Validation Loss: -51.63\n",
      "Epoch 70, Validation Loss: -51.92\n",
      "Epoch 71, Validation Loss: -50.78\n",
      "Epoch 72, Validation Loss: -51.86\n",
      "Epoch 73, Validation Loss: 11.71\n",
      "Epoch 74, Validation Loss: -35.13\n",
      "Epoch 75, Validation Loss: -50.20\n",
      "Epoch 76, Validation Loss: -52.09\n",
      "Epoch 77, Validation Loss: -52.45\n",
      "Epoch 78, Validation Loss: -42.52\n",
      "Epoch 79, Validation Loss: -49.63\n",
      "Epoch 80, Validation Loss: -50.42\n",
      "Epoch 81, Validation Loss: -51.45\n",
      "Epoch 82, Validation Loss: -16.78\n",
      "Epoch 83, Validation Loss: -51.98\n",
      "Epoch 84, Validation Loss: -37.79\n",
      "Epoch 85, Validation Loss: -52.25\n",
      "Epoch 86, Validation Loss: -52.77\n",
      "Epoch 87, Validation Loss: -52.14\n",
      "Epoch 88, Validation Loss: -52.57\n",
      "Epoch 89, Validation Loss: -52.07\n",
      "Epoch 90, Validation Loss: -52.00\n",
      "Epoch 91, Validation Loss: -39.89\n",
      "Epoch 92, Validation Loss: -6.67\n",
      "Epoch 93, Validation Loss: -51.80\n",
      "Epoch 94, Validation Loss: -51.92\n",
      "Epoch 95, Validation Loss: -52.17\n",
      "Epoch 96, Validation Loss: -52.40\n",
      "Epoch 97, Validation Loss: -52.12\n",
      "Epoch 98, Validation Loss: -52.57\n",
      "Epoch 99, Validation Loss: -51.07\n",
      "Epoch 100, Validation Loss: -47.26\n",
      "Epoch 101, Validation Loss: -7.34\n",
      "Epoch 102, Validation Loss: -51.50\n",
      "Epoch 103, Validation Loss: -50.46\n",
      "Epoch 104, Validation Loss: -52.32\n",
      "Epoch 105, Validation Loss: 1.64\n",
      "Early stopping at epoch 105\n",
      "Best model loaded.\n",
      "Training complete.\n",
      "The training time is 69.90 sec.\n"
     ]
    }
   ],
   "source": [
    "from src.problem.neuromancer.trainer import trainer\n",
    "# training\n",
    "epochs = 200                    # number of training epochs\n",
    "warmup = 20                     # number of epochs to wait before enacting early stopping policy\n",
    "patience = 20                   # number of epochs with no improvement in eval metric to allow before early stopping\n",
    "optimizer = torch.optim.AdamW(components.parameters(), lr=lr)\n",
    "# create a trainer for the problem\n",
    "my_trainer = trainer(components, loss_fn, optimizer, epochs=epochs, patience=patience, warmup=warmup, device=\"cuda\")\n",
    "# training for the rounding problem\n",
    "my_trainer.train(loader_train, loader_dev)"
   ]
  },
  {
   "cell_type": "code",
   "execution_count": 26,
   "id": "8eb78c73-6a92-4639-b48c-8e9aa0c8dd37",
   "metadata": {},
   "outputs": [
    {
     "name": "stderr",
     "output_type": "stream",
     "text": [
      "100%|████████████████████████████████████████████████████████████████████████████████| 100/100 [00:01<00:00, 65.30it/s]\n"
     ]
    },
    {
     "name": "stdout",
     "output_type": "stream",
     "text": [
      "          Obj Val  Constraints Viol  Elapsed Time\n",
      "count  100.000000        100.000000    100.000000\n",
      "mean   -52.839183          0.005981      0.000910\n",
      "std      0.113815          0.027682      0.000534\n",
      "min    -52.945929          0.000000      0.000000\n",
      "25%    -52.945929          0.000000      0.000997\n",
      "50%    -52.862097          0.000000      0.001000\n",
      "75%    -52.730474          0.000000      0.001009\n",
      "max    -52.553603          0.180119      0.003002\n",
      "Number of infeasible solution: 6\n"
     ]
    }
   ],
   "source": [
    "from src.heuristic import naive_round\n",
    "params, sols, objvals, conviols, elapseds = [], [], [], [], []\n",
    "for b in tqdm(data_test.datadict[\"b\"][:100]):\n",
    "    # data point as tensor\n",
    "    datapoints = {\"b\": torch.unsqueeze(b, 0).to(\"cuda\"), \n",
    "                  \"name\": \"test\"}\n",
    "    # infer\n",
    "    components.eval()\n",
    "    tick = time.time()\n",
    "    with torch.no_grad():\n",
    "        for comp in components:\n",
    "            datapoints.update(comp(datapoints))\n",
    "    tock = time.time()\n",
    "    # assign params\n",
    "    model.set_param_val({\"b\":b.cpu().numpy()})\n",
    "    # assign vars\n",
    "    x = datapoints[\"x\"]\n",
    "    for i in range(num_var):\n",
    "        model.vars[\"x\"][i].value = x[0,i].item()\n",
    "    # get solutions\n",
    "    xval_rel, _ = model.get_val()\n",
    "    xval, objval = naive_round(xval_rel, model)\n",
    "    params.append(list(b.cpu().numpy()))\n",
    "    sols.append(list(list(xval.values())[0].values()))\n",
    "    objvals.append(objval)\n",
    "    conviols.append(sum(model.cal_violation()))\n",
    "    elapseds.append(tock - tick)\n",
    "df = pd.DataFrame({\"Param\":params, \"Sol\":sols, \"Obj Val\": objvals, \"Constraints Viol\": conviols, \"Elapsed Time\": elapseds})\n",
    "time.sleep(1)\n",
    "print(df.describe())\n",
    "print(\"Number of infeasible solution: {}\".format(np.sum(df[\"Constraints Viol\"] > 0)))\n",
    "df.to_csv(\"result/ln_pr_50-50.csv\")"
   ]
  },
  {
   "cell_type": "code",
   "execution_count": null,
   "id": "66d0eb0b-4b0d-44d3-8ca0-df0ac89d3804",
   "metadata": {},
   "outputs": [],
   "source": []
  }
 ],
 "metadata": {
  "kernelspec": {
   "display_name": "Python 3 (ipykernel)",
   "language": "python",
   "name": "python3"
  },
  "language_info": {
   "codemirror_mode": {
    "name": "ipython",
    "version": 3
   },
   "file_extension": ".py",
   "mimetype": "text/x-python",
   "name": "python",
   "nbconvert_exporter": "python",
   "pygments_lexer": "ipython3",
   "version": "3.10.13"
  }
 },
 "nbformat": 4,
 "nbformat_minor": 5
}
