{
 "cells": [
  {
   "cell_type": "code",
   "execution_count": 1,
   "id": "be61b914-e1af-43b9-9766-5092593f92dd",
   "metadata": {},
   "outputs": [],
   "source": [
    "import time\n",
    "\n",
    "import numpy as np\n",
    "import pandas as pd\n",
    "import torch\n",
    "from torch import nn\n",
    "from tqdm import tqdm\n",
    "\n",
    "# random seed\n",
    "np.random.seed(42)\n",
    "torch.manual_seed(42)\n",
    "torch.cuda.manual_seed(42)"
   ]
  },
  {
   "cell_type": "code",
   "execution_count": 2,
   "id": "35fe4527-9dbf-48f0-bfb3-62cda59092aa",
   "metadata": {},
   "outputs": [],
   "source": [
    "# turn off warning\n",
    "import logging\n",
    "logging.getLogger('pyomo.core').setLevel(logging.ERROR)"
   ]
  },
  {
   "cell_type": "markdown",
   "id": "c5560447-da9d-4cbe-aab4-538aa11c8ee8",
   "metadata": {},
   "source": [
    "## Problem Setting"
   ]
  },
  {
   "cell_type": "code",
   "execution_count": 3,
   "id": "52363c72-0d20-4c08-bd00-0f62aa73686c",
   "metadata": {},
   "outputs": [],
   "source": [
    "# init\n",
    "num_var = 20      # number of variables\n",
    "num_ineq = 20     # number of constraints\n",
    "num_data = 10000  # number of data\n",
    "test_size = 1000  # number of test size\n",
    "val_size = 1000   # number of validation size\n",
    "train_size = num_data - test_size - val_size"
   ]
  },
  {
   "cell_type": "code",
   "execution_count": 4,
   "id": "21938c00-d73f-4255-bc7c-bce6e8034cf8",
   "metadata": {},
   "outputs": [],
   "source": [
    "# data sample from uniform distribution\n",
    "b_samples = torch.from_numpy(np.random.uniform(-1, 1, size=(num_data, num_ineq))).float()\n",
    "data = {\"b\":b_samples}\n",
    "# data split\n",
    "from src.utlis import data_split\n",
    "data_train, data_test, data_dev = data_split(data, test_size=test_size, val_size=val_size)"
   ]
  },
  {
   "cell_type": "code",
   "execution_count": 5,
   "id": "5ecf81ff-627d-444d-8d90-121c7e20c217",
   "metadata": {},
   "outputs": [],
   "source": [
    "# torch dataloaders\n",
    "from torch.utils.data import DataLoader\n",
    "batch_size = 64\n",
    "loader_train = DataLoader(data_train, batch_size, num_workers=0, collate_fn=data_train.collate_fn, shuffle=True)\n",
    "loader_test = DataLoader(data_test, batch_size, num_workers=0, collate_fn=data_test.collate_fn, shuffle=False)\n",
    "loader_dev = DataLoader(data_dev, batch_size, num_workers=0, collate_fn=data_dev.collate_fn, shuffle=False)"
   ]
  },
  {
   "cell_type": "markdown",
   "id": "16ec0a67-54ea-4a9d-b037-0c7c9390e3f9",
   "metadata": {},
   "source": [
    "## Exact Solver"
   ]
  },
  {
   "cell_type": "code",
   "execution_count": 6,
   "id": "50aaabd7-90ed-4628-a1da-c98777868d92",
   "metadata": {},
   "outputs": [],
   "source": [
    "from src.problem import msQuadratic\n",
    "model = msQuadratic(num_var, num_ineq)"
   ]
  },
  {
   "cell_type": "code",
   "execution_count": 7,
   "id": "1c8d0f11-7ad1-4886-a76d-430189d06c33",
   "metadata": {},
   "outputs": [
    {
     "name": "stderr",
     "output_type": "stream",
     "text": [
      "100%|████████████████████████████████████████████████████████████████████████████| 1000/1000 [1:27:39<00:00,  5.26s/it]\n"
     ]
    },
    {
     "name": "stdout",
     "output_type": "stream",
     "text": [
      "           Obj Val  Constraints Viol  Elapsed Time\n",
      "count  1000.000000            1000.0   1000.000000\n",
      "mean     -5.109099               0.0      5.256546\n",
      "std       0.323551               0.0      2.600641\n",
      "min      -6.006067               0.0      0.735355\n",
      "25%      -5.343451               0.0      3.391160\n",
      "50%      -5.115216               0.0      4.841972\n",
      "75%      -4.872300               0.0      6.673741\n",
      "max      -4.041517               0.0     16.376632\n",
      "Number of infeasible solution: 0\n"
     ]
    }
   ],
   "source": [
    "params, sols, objvals, conviols, elapseds = [], [], [], [], []\n",
    "for b in tqdm(data_test.datadict[\"b\"]):\n",
    "    # set params\n",
    "    model.set_param_val({\"b\":b.cpu().numpy()})\n",
    "    # solve\n",
    "    tick = time.time()\n",
    "    xval, objval = model.solve(\"gurobi\")\n",
    "    tock = time.time()\n",
    "    # eval\n",
    "    params.append(list(b))\n",
    "    sols.append(list(list(xval.values())[0].values()))\n",
    "    objvals.append(objval)\n",
    "    conviols.append(sum(model.cal_violation()))\n",
    "    elapseds.append(tock - tick)\n",
    "df = pd.DataFrame({\"Param\":params, \"Sol\":sols, \"Obj Val\": objvals, \"Constraints Viol\": conviols, \"Elapsed Time\": elapseds})\n",
    "time.sleep(1)\n",
    "print(df.describe())\n",
    "print(\"Number of infeasible solution: {}\".format(np.sum(df[\"Constraints Viol\"] > 0)))\n",
    "df.to_csv(\"result/cq_exact_20-20.csv\")"
   ]
  },
  {
   "cell_type": "code",
   "execution_count": 7,
   "id": "09db1599-741b-48c6-bc9a-2ba902321fdb",
   "metadata": {},
   "outputs": [
    {
     "name": "stdout",
     "output_type": "stream",
     "text": [
      "          Obj Val  Constraints Viol  Elapsed Time\n",
      "count  100.000000             100.0    100.000000\n",
      "mean    -5.120363               0.0      5.415370\n",
      "std      0.343169               0.0      2.522497\n",
      "min     -5.935736               0.0      1.261963\n",
      "25%     -5.368253               0.0      3.348413\n",
      "50%     -5.130437               0.0      5.240330\n",
      "75%     -4.863931               0.0      6.869727\n",
      "max     -4.282859               0.0     12.718379\n",
      "Number of infeasible solution: 0\n"
     ]
    }
   ],
   "source": [
    "df = pd.read_csv(\"result/cq_exact_20-20.csv\", index_col=0).iloc[:100]\n",
    "print(df.describe())\n",
    "print(\"Number of infeasible solution: {}\".format(np.sum(df[\"Constraints Viol\"] > 0)))"
   ]
  },
  {
   "cell_type": "markdown",
   "id": "cad38e16-1a87-4f11-92b4-b608f7f3ea11",
   "metadata": {},
   "source": [
    "## Heuristic - Round"
   ]
  },
  {
   "cell_type": "code",
   "execution_count": 8,
   "id": "03328361-3f39-461d-ac81-40c8c14717bb",
   "metadata": {},
   "outputs": [],
   "source": [
    "from src.heuristic import naive_round"
   ]
  },
  {
   "cell_type": "code",
   "execution_count": 9,
   "id": "2e57b62f-dfb4-4c87-b42e-e43b202ef96c",
   "metadata": {},
   "outputs": [
    {
     "name": "stderr",
     "output_type": "stream",
     "text": [
      "100%|██████████████████████████████████████████████████████████████████████████████| 1000/1000 [02:44<00:00,  6.08it/s]\n"
     ]
    },
    {
     "name": "stdout",
     "output_type": "stream",
     "text": [
      "           Obj Val  Constraints Viol  Elapsed Time\n",
      "count  1000.000000       1000.000000   1000.000000\n",
      "mean     -5.158872          0.439137      0.149969\n",
      "std       0.330777          0.199082      0.145878\n",
      "min      -6.150297          0.000000      0.121147\n",
      "25%      -5.386111          0.297969      0.127323\n",
      "50%      -5.172906          0.417843      0.129306\n",
      "75%      -4.928006          0.566141      0.140828\n",
      "max      -4.087857          1.143811      3.696838\n",
      "Number of infeasible solution: 997\n"
     ]
    }
   ],
   "source": [
    "params, sols, objvals, conviols, elapseds = [], [], [], [], []\n",
    "for b in tqdm(data_test.datadict[\"b\"]):\n",
    "    # set params\n",
    "    model.set_param_val({\"b\":b.cpu().numpy()})\n",
    "    # relax\n",
    "    model_rel = model.relax()\n",
    "    # solve\n",
    "    tick = time.time()\n",
    "    xval_rel, _ = model_rel.solve(\"gurobi\")\n",
    "    xval, objval = naive_round(xval_rel, model)\n",
    "    tock = time.time()\n",
    "    # eval\n",
    "    params.append(list(b))\n",
    "    sols.append(list(list(xval.values())[0].values()))\n",
    "    objvals.append(objval)\n",
    "    conviols.append(sum(model.cal_violation()))\n",
    "    elapseds.append(tock - tick)\n",
    "df = pd.DataFrame({\"Param\":params, \"Sol\":sols, \"Obj Val\": objvals, \"Constraints Viol\": conviols, \"Elapsed Time\": elapseds})\n",
    "time.sleep(1)\n",
    "print(df.describe())\n",
    "print(\"Number of infeasible solution: {}\".format(np.sum(df[\"Constraints Viol\"] > 0)))\n",
    "df.to_csv(\"result/cq_heur_rnd_20-20.csv\")"
   ]
  },
  {
   "cell_type": "code",
   "execution_count": 8,
   "id": "849c3778-ee8f-478d-9e47-52828fbad90b",
   "metadata": {},
   "outputs": [
    {
     "name": "stdout",
     "output_type": "stream",
     "text": [
      "          Obj Val  Constraints Viol  Elapsed Time\n",
      "count  100.000000        100.000000    100.000000\n",
      "mean    -5.179348          0.437249      0.130713\n",
      "std      0.351804          0.205353      0.010380\n",
      "min     -5.960970          0.031061      0.123118\n",
      "25%     -5.419368          0.304010      0.126733\n",
      "50%     -5.216537          0.419553      0.127920\n",
      "75%     -4.909583          0.607390      0.129207\n",
      "max     -4.300917          1.030549      0.197645\n",
      "Number of infeasible solution: 100\n"
     ]
    }
   ],
   "source": [
    "df = pd.read_csv(\"result/cq_heur_rnd_20-20.csv\", index_col=0).iloc[:100]\n",
    "print(df.describe())\n",
    "print(\"Number of infeasible solution: {}\".format(np.sum(df[\"Constraints Viol\"] > 0)))"
   ]
  },
  {
   "cell_type": "markdown",
   "id": "96304fbd-08f5-4be7-a81e-83c85332029c",
   "metadata": {},
   "source": [
    "## Heuristic - N1"
   ]
  },
  {
   "cell_type": "code",
   "execution_count": 10,
   "id": "356187af-e02d-4478-bf78-ada6a2e1b94b",
   "metadata": {},
   "outputs": [],
   "source": [
    "model_heur = model.first_solution_heuristic(nodes_limit=1)"
   ]
  },
  {
   "cell_type": "code",
   "execution_count": 11,
   "id": "f4c7fc52-cbbc-4414-bf1d-316d65c8db5b",
   "metadata": {},
   "outputs": [
    {
     "name": "stderr",
     "output_type": "stream",
     "text": [
      "100%|██████████████████████████████████████████████████████████████████████████████| 1000/1000 [02:13<00:00,  7.46it/s]\n"
     ]
    },
    {
     "name": "stdout",
     "output_type": "stream",
     "text": [
      "            Obj Val  Constraints Viol  Elapsed Time\n",
      "count  1.000000e+03            1000.0   1000.000000\n",
      "mean   4.389183e+10               0.0      0.131604\n",
      "std    1.380190e+12               0.0      0.012561\n",
      "min   -1.947171e+00               0.0      0.118814\n",
      "25%    1.039965e+00               0.0      0.122474\n",
      "50%    9.580554e+00               0.0      0.134600\n",
      "75%    4.019358e+02               0.0      0.137523\n",
      "max    4.364520e+13               0.0      0.296020\n",
      "Number of infeasible solution: 0\n"
     ]
    }
   ],
   "source": [
    "params, sols, objvals, conviols, elapseds = [], [], [], [], []\n",
    "for b in tqdm(data_test.datadict[\"b\"]):\n",
    "    # set params\n",
    "    model_heur.set_param_val({\"b\":b.cpu().numpy()})\n",
    "    # solve\n",
    "    tick = time.time()\n",
    "    xval, objval = model_heur.solve(\"gurobi\")\n",
    "    tock = time.time()\n",
    "    # eval\n",
    "    params.append(list(b))\n",
    "    sols.append(list(list(xval.values())[0].values()))\n",
    "    objvals.append(objval)\n",
    "    conviols.append(sum(model_heur.cal_violation()))\n",
    "    elapseds.append(tock - tick)\n",
    "df = pd.DataFrame({\"Param\":params, \"Sol\":sols, \"Obj Val\": objvals, \"Constraints Viol\": conviols, \"Elapsed Time\": elapseds})\n",
    "time.sleep(1)\n",
    "print(df.describe())\n",
    "print(\"Number of infeasible solution: {}\".format(np.sum(df[\"Constraints Viol\"] > 0)))\n",
    "df.to_csv(\"result/cq_heur_n1_20-20.csv\")"
   ]
  },
  {
   "cell_type": "markdown",
   "id": "9819c60c-df5f-41c6-ae83-888c75aa78d7",
   "metadata": {},
   "source": [
    "## Learnable Rounding"
   ]
  },
  {
   "cell_type": "code",
   "execution_count": 7,
   "id": "6a4fb3e2-9c47-4c10-8116-e94be18ea59c",
   "metadata": {},
   "outputs": [],
   "source": [
    "# random seed\n",
    "np.random.seed(42)\n",
    "torch.manual_seed(42)\n",
    "torch.cuda.manual_seed(42)"
   ]
  },
  {
   "cell_type": "code",
   "execution_count": 8,
   "id": "536d2d58-67ba-408a-b72a-7c5bd54a5ff4",
   "metadata": {},
   "outputs": [],
   "source": [
    "# hyperparameters\n",
    "penalty_weight = 100  # weight of constraint violation penealty\n",
    "hlayers_sol = 5       # number of hidden layers for solution mapping\n",
    "hlayers_rnd = 4       # number of hidden layers for solution mapping\n",
    "hsize = 64            # width of hidden layers for solution mapping\n",
    "lr = 1e-3             # learning rate"
   ]
  },
  {
   "cell_type": "code",
   "execution_count": 9,
   "id": "fee1241e-e53a-4cbb-927a-edcdb3537303",
   "metadata": {},
   "outputs": [],
   "source": [
    "# set problem\n",
    "import neuromancer as nm\n",
    "from src.problem import nmQuadratic\n",
    "from src.func.layer import netFC\n",
    "from src.func import roundGumbelModel\n",
    "# build neural architecture for the solution map\n",
    "func = nm.modules.blocks.MLP(insize=num_ineq, outsize=num_var, bias=True,\n",
    "                             linear_map=nm.slim.maps[\"linear\"],\n",
    "                             nonlin=nn.ReLU, hsizes=[hsize]*hlayers_sol)\n",
    "smap = nm.system.Node(func, [\"b\"], [\"x\"], name=\"smap\")\n",
    "# define rounding model\n",
    "layers_rnd = netFC(input_dim=num_ineq+num_var, hidden_dims=[hsize]*hlayers_rnd, output_dim=num_var)\n",
    "rnd = roundGumbelModel(layers=layers_rnd, param_keys=[\"b\"], var_keys=[\"x\"],  output_keys=[\"x_rnd\"], \n",
    "                       int_ind=model.int_ind, continuous_update=True, name=\"round\")\n",
    "# build neuromancer problem for rounding\n",
    "components = nn.ModuleList([smap, rnd]).to(\"cuda\")\n",
    "loss_fn = nmQuadratic([\"b\", \"x_rnd\"], num_var, num_ineq, penalty_weight)"
   ]
  },
  {
   "cell_type": "code",
   "execution_count": 10,
   "id": "e4f10263-5f69-4288-a4e8-8be83929c8d6",
   "metadata": {},
   "outputs": [
    {
     "name": "stdout",
     "output_type": "stream",
     "text": [
      "Epoch 0, Validation Loss: 595.89\n",
      "Epoch 1, Validation Loss: -0.41\n",
      "Epoch 2, Validation Loss: -2.17\n",
      "Epoch 3, Validation Loss: -2.30\n",
      "Epoch 4, Validation Loss: -1.58\n",
      "Epoch 5, Validation Loss: -2.63\n",
      "Epoch 6, Validation Loss: -2.29\n",
      "Epoch 7, Validation Loss: -2.73\n",
      "Epoch 8, Validation Loss: -2.67\n",
      "Epoch 9, Validation Loss: -2.92\n",
      "Epoch 10, Validation Loss: -2.74\n",
      "Epoch 11, Validation Loss: -2.70\n",
      "Epoch 12, Validation Loss: -2.81\n",
      "Epoch 13, Validation Loss: -2.46\n",
      "Epoch 14, Validation Loss: -2.65\n",
      "Epoch 15, Validation Loss: -2.46\n",
      "Epoch 16, Validation Loss: -2.58\n",
      "Epoch 17, Validation Loss: -2.31\n",
      "Epoch 18, Validation Loss: -0.62\n",
      "Epoch 19, Validation Loss: -2.93\n",
      "Epoch 20, Validation Loss: -2.78\n",
      "Epoch 21, Validation Loss: -2.68\n",
      "Epoch 22, Validation Loss: -3.05\n",
      "Epoch 23, Validation Loss: -3.20\n",
      "Epoch 24, Validation Loss: -3.19\n",
      "Epoch 25, Validation Loss: -2.88\n",
      "Epoch 26, Validation Loss: -3.26\n",
      "Epoch 27, Validation Loss: -2.90\n",
      "Epoch 28, Validation Loss: -3.08\n",
      "Epoch 29, Validation Loss: -3.02\n",
      "Epoch 30, Validation Loss: -3.20\n",
      "Epoch 31, Validation Loss: -3.34\n",
      "Epoch 32, Validation Loss: -3.08\n",
      "Epoch 33, Validation Loss: -3.46\n",
      "Epoch 34, Validation Loss: -3.07\n",
      "Epoch 35, Validation Loss: -3.21\n",
      "Epoch 36, Validation Loss: -3.44\n",
      "Epoch 37, Validation Loss: -3.52\n",
      "Epoch 38, Validation Loss: -3.20\n",
      "Epoch 39, Validation Loss: -3.43\n",
      "Epoch 40, Validation Loss: -1.73\n",
      "Epoch 41, Validation Loss: -3.56\n",
      "Epoch 42, Validation Loss: -3.62\n",
      "Epoch 43, Validation Loss: -3.52\n",
      "Epoch 44, Validation Loss: -3.63\n",
      "Epoch 45, Validation Loss: -3.26\n",
      "Epoch 46, Validation Loss: -3.51\n",
      "Epoch 47, Validation Loss: -3.23\n",
      "Epoch 48, Validation Loss: -3.20\n",
      "Epoch 49, Validation Loss: -3.07\n",
      "Epoch 50, Validation Loss: -3.12\n",
      "Epoch 51, Validation Loss: -3.11\n",
      "Epoch 52, Validation Loss: -3.13\n",
      "Epoch 53, Validation Loss: -2.87\n",
      "Epoch 54, Validation Loss: -3.05\n",
      "Epoch 55, Validation Loss: -3.23\n",
      "Epoch 56, Validation Loss: -3.35\n",
      "Epoch 57, Validation Loss: -3.36\n",
      "Epoch 58, Validation Loss: -3.28\n",
      "Epoch 59, Validation Loss: -3.40\n",
      "Epoch 60, Validation Loss: -3.58\n",
      "Epoch 61, Validation Loss: -3.59\n",
      "Epoch 62, Validation Loss: -3.40\n",
      "Epoch 63, Validation Loss: -3.75\n",
      "Epoch 64, Validation Loss: -3.38\n",
      "Epoch 65, Validation Loss: -3.63\n",
      "Epoch 66, Validation Loss: -3.50\n",
      "Epoch 67, Validation Loss: -3.73\n",
      "Epoch 68, Validation Loss: -3.83\n",
      "Epoch 69, Validation Loss: -4.02\n",
      "Epoch 70, Validation Loss: -3.99\n",
      "Epoch 71, Validation Loss: -3.93\n",
      "Epoch 72, Validation Loss: -3.87\n",
      "Epoch 73, Validation Loss: -3.90\n",
      "Epoch 74, Validation Loss: -3.82\n",
      "Epoch 75, Validation Loss: -3.87\n",
      "Epoch 76, Validation Loss: -3.98\n",
      "Epoch 77, Validation Loss: -3.95\n",
      "Epoch 78, Validation Loss: -4.03\n",
      "Epoch 79, Validation Loss: -4.05\n",
      "Epoch 80, Validation Loss: -3.91\n",
      "Epoch 81, Validation Loss: -3.98\n",
      "Epoch 82, Validation Loss: -3.84\n",
      "Epoch 83, Validation Loss: -3.97\n",
      "Epoch 84, Validation Loss: -4.04\n",
      "Epoch 85, Validation Loss: -3.86\n",
      "Epoch 86, Validation Loss: -4.07\n",
      "Epoch 87, Validation Loss: -4.05\n",
      "Epoch 88, Validation Loss: -4.06\n",
      "Epoch 89, Validation Loss: -4.05\n",
      "Epoch 90, Validation Loss: -3.94\n",
      "Epoch 91, Validation Loss: -4.00\n",
      "Epoch 92, Validation Loss: -3.95\n",
      "Epoch 93, Validation Loss: -3.97\n",
      "Epoch 94, Validation Loss: -3.95\n",
      "Epoch 95, Validation Loss: -3.98\n",
      "Epoch 96, Validation Loss: -3.85\n",
      "Epoch 97, Validation Loss: -3.86\n",
      "Epoch 98, Validation Loss: -4.06\n",
      "Epoch 99, Validation Loss: -3.99\n",
      "Epoch 100, Validation Loss: -3.92\n",
      "Epoch 101, Validation Loss: -3.92\n",
      "Epoch 102, Validation Loss: -4.06\n",
      "Epoch 103, Validation Loss: -4.04\n",
      "Epoch 104, Validation Loss: -3.87\n",
      "Epoch 105, Validation Loss: -4.04\n",
      "Early stopping at epoch 105\n",
      "Best model loaded.\n",
      "Training complete.\n",
      "The training time is 153.98 sec.\n"
     ]
    }
   ],
   "source": [
    "from src.problem.neuromancer.trainer import trainer\n",
    "# training\n",
    "epochs = 200                    # number of training epochs\n",
    "warmup = 20                     # number of epochs to wait before enacting early stopping policy\n",
    "patience = 20                   # number of epochs with no improvement in eval metric to allow before early stopping\n",
    "optimizer = torch.optim.AdamW(components.parameters(), lr=lr)\n",
    "# create a trainer for the problem\n",
    "my_trainer = trainer(components, loss_fn, optimizer, epochs, patience, warmup, device=\"cuda\")\n",
    "# training for the rounding problem\n",
    "my_trainer.train(loader_train, loader_dev)"
   ]
  },
  {
   "cell_type": "code",
   "execution_count": 11,
   "id": "3e835084-eb75-45d9-bcbd-5fb4c613fb41",
   "metadata": {},
   "outputs": [
    {
     "name": "stderr",
     "output_type": "stream",
     "text": [
      "100%|███████████████████████████████████████████████████████████████████████████████| 100/100 [00:00<00:00, 133.32it/s]\n"
     ]
    },
    {
     "name": "stdout",
     "output_type": "stream",
     "text": [
      "          Obj Val  Constraints Viol  Elapsed Time\n",
      "count  100.000000        100.000000    100.000000\n",
      "mean    -4.147645          0.002640      0.003835\n",
      "std      0.402367          0.014346      0.001390\n",
      "min     -4.905395          0.000000      0.001506\n",
      "25%     -4.421822          0.000000      0.003000\n",
      "50%     -4.193520          0.000000      0.003521\n",
      "75%     -3.849404          0.000000      0.004545\n",
      "max     -3.103360          0.106557      0.008517\n",
      "Number of infeasible solution: 4\n"
     ]
    }
   ],
   "source": [
    "params, sols, objvals, conviols, elapseds = [], [], [], [], []\n",
    "for b in tqdm(data_test.datadict[\"b\"][:100]):\n",
    "    # data point as tensor\n",
    "    datapoints = {\"b\": torch.unsqueeze(b, 0).to(\"cuda\"), \n",
    "                  \"name\": \"test\"}\n",
    "    # infer\n",
    "    components.eval()\n",
    "    tick = time.time()\n",
    "    with torch.no_grad():\n",
    "        for comp in components:\n",
    "            datapoints.update(comp(datapoints))\n",
    "    tock = time.time()\n",
    "    # assign params\n",
    "    model.set_param_val({\"b\":b.cpu().numpy()})\n",
    "    # assign vars\n",
    "    x = datapoints[\"x_rnd\"]\n",
    "    for i in range(num_var):\n",
    "        model.vars[\"x\"][i].value = x[0,i].item()\n",
    "    # get solutions\n",
    "    xval, objval = model.get_val()    \n",
    "    params.append(list(b.cpu().numpy()))\n",
    "    sols.append(list(list(xval.values())[0].values()))\n",
    "    objvals.append(objval)\n",
    "    conviols.append(sum(model.cal_violation()))\n",
    "    elapseds.append(tock - tick)\n",
    "df = pd.DataFrame({\"Param\":params, \"Sol\":sols, \"Obj Val\": objvals, \"Constraints Viol\": conviols, \"Elapsed Time\": elapseds})\n",
    "time.sleep(1)\n",
    "print(df.describe())\n",
    "print(\"Number of infeasible solution: {}\".format(np.sum(df[\"Constraints Viol\"] > 0)))\n",
    "df.to_csv(\"result/cq_lr_20-20.csv\")"
   ]
  },
  {
   "cell_type": "markdown",
   "id": "2dbf8a72-29b9-49c4-b3c1-0d68895c1c1f",
   "metadata": {},
   "source": [
    "## Learnable Threshold"
   ]
  },
  {
   "cell_type": "code",
   "execution_count": 12,
   "id": "36c57dbb-8dee-4976-8922-82a155fe0128",
   "metadata": {},
   "outputs": [],
   "source": [
    "# random seed\n",
    "np.random.seed(42)\n",
    "torch.manual_seed(42)\n",
    "torch.cuda.manual_seed(42)"
   ]
  },
  {
   "cell_type": "code",
   "execution_count": 13,
   "id": "d46b9817-87ac-4af0-b387-b10c9a4998f4",
   "metadata": {},
   "outputs": [],
   "source": [
    "# hyperparameters\n",
    "penalty_weight = 100  # weight of constraint violation penealty\n",
    "hlayers_sol = 5       # number of hidden layers for solution mapping\n",
    "hlayers_rnd = 4       # number of hidden layers for solution mapping\n",
    "hsize = 64            # width of hidden layers for solution mapping\n",
    "lr = 1e-3             # learning rate"
   ]
  },
  {
   "cell_type": "code",
   "execution_count": 14,
   "id": "fa8b147f-39c8-4eb7-bb95-93dd8e4cb1cf",
   "metadata": {},
   "outputs": [],
   "source": [
    "# set problem\n",
    "import neuromancer as nm\n",
    "from src.problem import nmQuadratic\n",
    "from src.func.layer import netFC\n",
    "from src.func import roundThresholdModel\n",
    "# build neural architecture for the solution map\n",
    "func = nm.modules.blocks.MLP(insize=num_ineq, outsize=num_var, bias=True,\n",
    "                             linear_map=nm.slim.maps[\"linear\"],\n",
    "                             nonlin=nn.ReLU, hsizes=[hsize]*hlayers_sol)\n",
    "smap = nm.system.Node(func, [\"b\"], [\"x\"], name=\"smap\")\n",
    "# define rounding model\n",
    "layers_rnd = netFC(input_dim=num_ineq+num_var, hidden_dims=[hsize]*hlayers_rnd, output_dim=num_var)\n",
    "rnd = roundThresholdModel(layers=layers_rnd, param_keys=[\"b\"], var_keys=[\"x\"],  output_keys=[\"x_rnd\"], \n",
    "                       int_ind=model.int_ind, continuous_update=True, name=\"round\")\n",
    "# build neuromancer problem for rounding\n",
    "components = nn.ModuleList([smap, rnd]).to(\"cuda\")\n",
    "loss_fn = nmQuadratic([\"b\", \"x_rnd\"], num_var, num_ineq, penalty_weight)"
   ]
  },
  {
   "cell_type": "code",
   "execution_count": 15,
   "id": "c6f5bb17-8c3c-4dcd-952d-caa1d7c4c4fa",
   "metadata": {},
   "outputs": [
    {
     "name": "stdout",
     "output_type": "stream",
     "text": [
      "Epoch 0, Validation Loss: 492.62\n",
      "Epoch 1, Validation Loss: -0.27\n",
      "Epoch 2, Validation Loss: -2.51\n",
      "Epoch 3, Validation Loss: -2.81\n",
      "Epoch 4, Validation Loss: -3.09\n",
      "Epoch 5, Validation Loss: -2.84\n",
      "Epoch 6, Validation Loss: -3.13\n",
      "Epoch 7, Validation Loss: -2.75\n",
      "Epoch 8, Validation Loss: -3.03\n",
      "Epoch 9, Validation Loss: -2.98\n",
      "Epoch 10, Validation Loss: -3.12\n",
      "Epoch 11, Validation Loss: -3.07\n",
      "Epoch 12, Validation Loss: -2.77\n",
      "Epoch 13, Validation Loss: -3.23\n",
      "Epoch 14, Validation Loss: -3.03\n",
      "Epoch 15, Validation Loss: -3.29\n",
      "Epoch 16, Validation Loss: -3.26\n",
      "Epoch 17, Validation Loss: -3.10\n",
      "Epoch 18, Validation Loss: -1.34\n",
      "Epoch 19, Validation Loss: -2.84\n",
      "Epoch 20, Validation Loss: -3.33\n",
      "Epoch 21, Validation Loss: -2.06\n",
      "Epoch 22, Validation Loss: -2.72\n",
      "Epoch 23, Validation Loss: -3.46\n",
      "Epoch 24, Validation Loss: -3.45\n",
      "Epoch 25, Validation Loss: -3.46\n",
      "Epoch 26, Validation Loss: -3.48\n",
      "Epoch 27, Validation Loss: -3.66\n",
      "Epoch 28, Validation Loss: -3.55\n",
      "Epoch 29, Validation Loss: -3.53\n",
      "Epoch 30, Validation Loss: -3.55\n",
      "Epoch 31, Validation Loss: -3.59\n",
      "Epoch 32, Validation Loss: -3.62\n",
      "Epoch 33, Validation Loss: -3.52\n",
      "Epoch 34, Validation Loss: -3.52\n",
      "Epoch 35, Validation Loss: -3.71\n",
      "Epoch 36, Validation Loss: -3.62\n",
      "Epoch 37, Validation Loss: -3.77\n",
      "Epoch 38, Validation Loss: -3.58\n",
      "Epoch 39, Validation Loss: -3.68\n",
      "Epoch 40, Validation Loss: -3.82\n",
      "Epoch 41, Validation Loss: -3.70\n",
      "Epoch 42, Validation Loss: -3.54\n",
      "Epoch 43, Validation Loss: -3.76\n",
      "Epoch 44, Validation Loss: -3.64\n",
      "Epoch 45, Validation Loss: -3.84\n",
      "Epoch 46, Validation Loss: -3.87\n",
      "Epoch 47, Validation Loss: -3.71\n",
      "Epoch 48, Validation Loss: -3.90\n",
      "Epoch 49, Validation Loss: -3.98\n",
      "Epoch 50, Validation Loss: -3.70\n",
      "Epoch 51, Validation Loss: -3.86\n",
      "Epoch 52, Validation Loss: -3.96\n",
      "Epoch 53, Validation Loss: -3.89\n",
      "Epoch 54, Validation Loss: -3.92\n",
      "Epoch 55, Validation Loss: -3.88\n",
      "Epoch 56, Validation Loss: -3.75\n",
      "Epoch 57, Validation Loss: -4.03\n",
      "Epoch 58, Validation Loss: -4.01\n",
      "Epoch 59, Validation Loss: -4.00\n",
      "Epoch 60, Validation Loss: -3.98\n",
      "Epoch 61, Validation Loss: -3.96\n",
      "Epoch 62, Validation Loss: -3.93\n",
      "Epoch 63, Validation Loss: -4.01\n",
      "Epoch 64, Validation Loss: -3.98\n",
      "Epoch 65, Validation Loss: -4.00\n",
      "Epoch 66, Validation Loss: -3.77\n",
      "Epoch 67, Validation Loss: -4.05\n",
      "Epoch 68, Validation Loss: -4.02\n",
      "Epoch 69, Validation Loss: -3.99\n",
      "Epoch 70, Validation Loss: -4.06\n",
      "Epoch 71, Validation Loss: -3.94\n",
      "Epoch 72, Validation Loss: -4.06\n",
      "Epoch 73, Validation Loss: -3.97\n",
      "Epoch 74, Validation Loss: -4.02\n",
      "Epoch 75, Validation Loss: -3.87\n",
      "Epoch 76, Validation Loss: -3.91\n",
      "Epoch 77, Validation Loss: -4.15\n",
      "Epoch 78, Validation Loss: -4.01\n",
      "Epoch 79, Validation Loss: -4.03\n",
      "Epoch 80, Validation Loss: -4.18\n",
      "Epoch 81, Validation Loss: -4.15\n",
      "Epoch 82, Validation Loss: -4.19\n",
      "Epoch 83, Validation Loss: -4.29\n",
      "Epoch 84, Validation Loss: -4.12\n",
      "Epoch 85, Validation Loss: -4.12\n",
      "Epoch 86, Validation Loss: -4.05\n",
      "Epoch 87, Validation Loss: -4.09\n",
      "Epoch 88, Validation Loss: -4.20\n",
      "Epoch 89, Validation Loss: -4.13\n",
      "Epoch 90, Validation Loss: -4.19\n",
      "Epoch 91, Validation Loss: -3.99\n",
      "Epoch 92, Validation Loss: -4.06\n",
      "Epoch 93, Validation Loss: -4.03\n",
      "Epoch 94, Validation Loss: -4.04\n",
      "Epoch 95, Validation Loss: -3.94\n",
      "Epoch 96, Validation Loss: -4.06\n",
      "Epoch 97, Validation Loss: -4.11\n",
      "Epoch 98, Validation Loss: -4.13\n",
      "Epoch 99, Validation Loss: -3.80\n",
      "Epoch 100, Validation Loss: -4.02\n",
      "Epoch 101, Validation Loss: -4.25\n",
      "Epoch 102, Validation Loss: -4.11\n",
      "Early stopping at epoch 102\n",
      "Best model loaded.\n",
      "Training complete.\n",
      "The training time is 154.33 sec.\n"
     ]
    }
   ],
   "source": [
    "from src.problem.neuromancer.trainer import trainer\n",
    "# training\n",
    "epochs = 200                    # number of training epochs\n",
    "warmup = 20                     # number of epochs to wait before enacting early stopping policy\n",
    "patience = 20                   # number of epochs with no improvement in eval metric to allow before early stopping\n",
    "optimizer = torch.optim.AdamW(components.parameters(), lr=lr)\n",
    "# create a trainer for the problem\n",
    "my_trainer = trainer(components, loss_fn, optimizer, epochs, patience, warmup, device=\"cuda\")\n",
    "# training for the rounding problem\n",
    "my_trainer.train(loader_train, loader_dev)"
   ]
  },
  {
   "cell_type": "code",
   "execution_count": 16,
   "id": "6584d57e-6b4c-4262-82f5-55735ef17cac",
   "metadata": {},
   "outputs": [
    {
     "name": "stderr",
     "output_type": "stream",
     "text": [
      "100%|███████████████████████████████████████████████████████████████████████████████| 100/100 [00:00<00:00, 120.94it/s]\n"
     ]
    },
    {
     "name": "stdout",
     "output_type": "stream",
     "text": [
      "          Obj Val  Constraints Viol  Elapsed Time\n",
      "count  100.000000        100.000000    100.000000\n",
      "mean    -4.328512          0.001035      0.003753\n",
      "std      0.319526          0.010352      0.000964\n",
      "min     -5.053879          0.000000      0.002003\n",
      "25%     -4.550607          0.000000      0.003003\n",
      "50%     -4.341492          0.000000      0.003526\n",
      "75%     -4.121362          0.000000      0.004457\n",
      "max     -3.587453          0.103516      0.008071\n",
      "Number of infeasible solution: 1\n"
     ]
    }
   ],
   "source": [
    "params, sols, objvals, conviols, elapseds = [], [], [], [], []\n",
    "for b in tqdm(data_test.datadict[\"b\"][:100]):\n",
    "    # data point as tensor\n",
    "    datapoints = {\"b\": torch.unsqueeze(b, 0).to(\"cuda\"), \n",
    "                  \"name\": \"test\"}\n",
    "    # infer\n",
    "    components.eval()\n",
    "    tick = time.time()\n",
    "    with torch.no_grad():\n",
    "        for comp in components:\n",
    "            datapoints.update(comp(datapoints))\n",
    "    tock = time.time()\n",
    "    # assign params\n",
    "    model.set_param_val({\"b\":b.cpu().numpy()})\n",
    "    # assign vars\n",
    "    x = datapoints[\"x_rnd\"]\n",
    "    for i in range(num_var):\n",
    "        model.vars[\"x\"][i].value = x[0,i].item()\n",
    "    # get solutions\n",
    "    xval, objval = model.get_val()    \n",
    "    params.append(list(b.cpu().numpy()))\n",
    "    sols.append(list(list(xval.values())[0].values()))\n",
    "    objvals.append(objval)\n",
    "    conviols.append(sum(model.cal_violation()))\n",
    "    elapseds.append(tock - tick)\n",
    "df = pd.DataFrame({\"Param\":params, \"Sol\":sols, \"Obj Val\": objvals, \"Constraints Viol\": conviols, \"Elapsed Time\": elapseds})\n",
    "time.sleep(1)\n",
    "print(df.describe())\n",
    "print(\"Number of infeasible solution: {}\".format(np.sum(df[\"Constraints Viol\"] > 0)))\n",
    "df.to_csv(\"result/cq_lt_20-20.csv\")"
   ]
  },
  {
   "cell_type": "markdown",
   "id": "784bfabe-04f9-43c4-bb5e-0891788121c3",
   "metadata": {},
   "source": [
    "### Parametric Learning Then Rounding"
   ]
  },
  {
   "cell_type": "code",
   "execution_count": 17,
   "id": "48e570a2-9d1d-4d27-9158-8fb3fc7c96ba",
   "metadata": {},
   "outputs": [],
   "source": [
    "# random seed\n",
    "np.random.seed(42)\n",
    "torch.manual_seed(42)\n",
    "torch.cuda.manual_seed(42)"
   ]
  },
  {
   "cell_type": "code",
   "execution_count": 18,
   "id": "bb3b944a-92bf-489c-b9f9-ea32374b1fc5",
   "metadata": {},
   "outputs": [],
   "source": [
    "# hyperparameters\n",
    "penalty_weight = 100  # weight of constraint violation penealty\n",
    "hlayers_sol = 5       # number of hidden layers for solution mapping\n",
    "hsize = 64            # width of hidden layers for solution mapping\n",
    "lr = 1e-3             # learning rate"
   ]
  },
  {
   "cell_type": "code",
   "execution_count": 19,
   "id": "9a97d7ba-006b-4281-b9fe-fd82cf9d7121",
   "metadata": {},
   "outputs": [],
   "source": [
    "# set problem\n",
    "import neuromancer as nm\n",
    "from src.problem import nmQuadratic\n",
    "from src.func.layer import netFC\n",
    "# build neural architecture for the solution map\n",
    "func = nm.modules.blocks.MLP(insize=num_ineq, outsize=num_var, bias=True,\n",
    "                             linear_map=nm.slim.maps[\"linear\"],\n",
    "                             nonlin=nn.ReLU, hsizes=[hsize]*hlayers_sol)\n",
    "smap = nm.system.Node(func, [\"b\"], [\"x\"], name=\"smap\")\n",
    "# build neuromancer problem for rounding\n",
    "components = nn.ModuleList([smap]).to(\"cuda\")\n",
    "loss_fn = nmQuadratic([\"b\", \"x\"], num_var, num_ineq, penalty_weight)"
   ]
  },
  {
   "cell_type": "code",
   "execution_count": 20,
   "id": "9c2b6120-84fc-43a4-b53c-f2029a42cbb3",
   "metadata": {},
   "outputs": [
    {
     "name": "stdout",
     "output_type": "stream",
     "text": [
      "Epoch 0, Validation Loss: 494.47\n",
      "Epoch 1, Validation Loss: -0.44\n",
      "Epoch 2, Validation Loss: -2.54\n",
      "Epoch 3, Validation Loss: -3.12\n",
      "Epoch 4, Validation Loss: -3.20\n",
      "Epoch 5, Validation Loss: -3.43\n",
      "Epoch 6, Validation Loss: -3.32\n",
      "Epoch 7, Validation Loss: -3.43\n",
      "Epoch 8, Validation Loss: -3.32\n",
      "Epoch 9, Validation Loss: -3.40\n",
      "Epoch 10, Validation Loss: -3.40\n",
      "Epoch 11, Validation Loss: -3.24\n",
      "Epoch 12, Validation Loss: -3.42\n",
      "Epoch 13, Validation Loss: -3.15\n",
      "Epoch 14, Validation Loss: -3.46\n",
      "Epoch 15, Validation Loss: -3.65\n",
      "Epoch 16, Validation Loss: -3.73\n",
      "Epoch 17, Validation Loss: -3.67\n",
      "Epoch 18, Validation Loss: -3.70\n",
      "Epoch 19, Validation Loss: -3.74\n",
      "Epoch 20, Validation Loss: -3.68\n",
      "Epoch 21, Validation Loss: -3.82\n",
      "Epoch 22, Validation Loss: -3.91\n",
      "Epoch 23, Validation Loss: -3.85\n",
      "Epoch 24, Validation Loss: -3.94\n",
      "Epoch 25, Validation Loss: -3.72\n",
      "Epoch 26, Validation Loss: -3.94\n",
      "Epoch 27, Validation Loss: -3.87\n",
      "Epoch 28, Validation Loss: -3.92\n",
      "Epoch 29, Validation Loss: -3.96\n",
      "Epoch 30, Validation Loss: -3.72\n",
      "Epoch 31, Validation Loss: -3.85\n",
      "Epoch 32, Validation Loss: -3.88\n",
      "Epoch 33, Validation Loss: -3.88\n",
      "Epoch 34, Validation Loss: -3.84\n",
      "Epoch 35, Validation Loss: -3.87\n",
      "Epoch 36, Validation Loss: -3.83\n",
      "Epoch 37, Validation Loss: -3.90\n",
      "Epoch 38, Validation Loss: -3.94\n",
      "Epoch 39, Validation Loss: -4.04\n",
      "Epoch 40, Validation Loss: -3.93\n",
      "Epoch 41, Validation Loss: -3.99\n",
      "Epoch 42, Validation Loss: -4.12\n",
      "Epoch 43, Validation Loss: -4.02\n",
      "Epoch 44, Validation Loss: -4.09\n",
      "Epoch 45, Validation Loss: -4.23\n",
      "Epoch 46, Validation Loss: -4.17\n",
      "Epoch 47, Validation Loss: -4.15\n",
      "Epoch 48, Validation Loss: -4.10\n",
      "Epoch 49, Validation Loss: -4.30\n",
      "Epoch 50, Validation Loss: -4.28\n",
      "Epoch 51, Validation Loss: -4.17\n",
      "Epoch 52, Validation Loss: -4.25\n",
      "Epoch 53, Validation Loss: -4.28\n",
      "Epoch 54, Validation Loss: -4.15\n",
      "Epoch 55, Validation Loss: -4.37\n",
      "Epoch 56, Validation Loss: -4.19\n",
      "Epoch 57, Validation Loss: -4.15\n",
      "Epoch 58, Validation Loss: -4.21\n",
      "Epoch 59, Validation Loss: -4.25\n",
      "Epoch 60, Validation Loss: -4.29\n",
      "Epoch 61, Validation Loss: -4.22\n",
      "Epoch 62, Validation Loss: -4.34\n",
      "Epoch 63, Validation Loss: -4.28\n",
      "Epoch 64, Validation Loss: -4.26\n",
      "Epoch 65, Validation Loss: -4.27\n",
      "Epoch 66, Validation Loss: -4.32\n",
      "Epoch 67, Validation Loss: -4.30\n",
      "Epoch 68, Validation Loss: -4.27\n",
      "Epoch 69, Validation Loss: -4.21\n",
      "Epoch 70, Validation Loss: -4.38\n",
      "Epoch 71, Validation Loss: -4.33\n",
      "Epoch 72, Validation Loss: -4.54\n",
      "Epoch 73, Validation Loss: -4.53\n",
      "Epoch 74, Validation Loss: -4.59\n",
      "Epoch 75, Validation Loss: -4.35\n",
      "Epoch 76, Validation Loss: -4.36\n",
      "Epoch 77, Validation Loss: -4.46\n",
      "Epoch 78, Validation Loss: -4.46\n",
      "Epoch 79, Validation Loss: -4.57\n",
      "Epoch 80, Validation Loss: -4.51\n",
      "Epoch 81, Validation Loss: -4.56\n",
      "Epoch 82, Validation Loss: -4.49\n",
      "Epoch 83, Validation Loss: -4.59\n",
      "Epoch 84, Validation Loss: -4.51\n",
      "Epoch 85, Validation Loss: -4.45\n",
      "Epoch 86, Validation Loss: -4.48\n",
      "Epoch 87, Validation Loss: -4.38\n",
      "Epoch 88, Validation Loss: -4.54\n",
      "Epoch 89, Validation Loss: -4.61\n",
      "Epoch 90, Validation Loss: -4.49\n",
      "Epoch 91, Validation Loss: -4.58\n",
      "Epoch 92, Validation Loss: -4.42\n",
      "Epoch 93, Validation Loss: -4.41\n",
      "Epoch 94, Validation Loss: -4.38\n",
      "Epoch 95, Validation Loss: -4.62\n",
      "Epoch 96, Validation Loss: -4.55\n",
      "Epoch 97, Validation Loss: -4.51\n",
      "Epoch 98, Validation Loss: -4.56\n",
      "Epoch 99, Validation Loss: -4.46\n",
      "Epoch 100, Validation Loss: -4.36\n",
      "Epoch 101, Validation Loss: -4.63\n",
      "Epoch 102, Validation Loss: -4.37\n",
      "Epoch 103, Validation Loss: -4.64\n",
      "Epoch 104, Validation Loss: -4.51\n",
      "Epoch 105, Validation Loss: -4.50\n",
      "Epoch 106, Validation Loss: -4.58\n",
      "Epoch 107, Validation Loss: -4.57\n",
      "Epoch 108, Validation Loss: -4.57\n",
      "Epoch 109, Validation Loss: -4.59\n",
      "Epoch 110, Validation Loss: -4.45\n",
      "Epoch 111, Validation Loss: -4.39\n",
      "Epoch 112, Validation Loss: -4.57\n",
      "Epoch 113, Validation Loss: -4.57\n",
      "Epoch 114, Validation Loss: -4.49\n",
      "Epoch 115, Validation Loss: -4.49\n",
      "Epoch 116, Validation Loss: -4.55\n",
      "Epoch 117, Validation Loss: -4.52\n",
      "Epoch 118, Validation Loss: -4.60\n",
      "Epoch 119, Validation Loss: -4.61\n",
      "Epoch 120, Validation Loss: -4.55\n",
      "Epoch 121, Validation Loss: -4.62\n",
      "Epoch 122, Validation Loss: -4.54\n",
      "Early stopping at epoch 122\n",
      "Best model loaded.\n",
      "Training complete.\n",
      "The training time is 73.72 sec.\n"
     ]
    }
   ],
   "source": [
    "from src.problem.neuromancer.trainer import trainer\n",
    "# training\n",
    "epochs = 200                    # number of training epochs\n",
    "warmup = 20                     # number of epochs to wait before enacting early stopping policy\n",
    "patience = 20                   # number of epochs with no improvement in eval metric to allow before early stopping\n",
    "optimizer = torch.optim.AdamW(components.parameters(), lr=lr)\n",
    "# create a trainer for the problem\n",
    "my_trainer = trainer(components, loss_fn, optimizer, epochs, patience, warmup, device=\"cuda\")\n",
    "# training for the rounding problem\n",
    "my_trainer.train(loader_train, loader_dev)"
   ]
  },
  {
   "cell_type": "code",
   "execution_count": 21,
   "id": "311c7950-72ed-4c3d-8d14-e0a0ffcb3870",
   "metadata": {},
   "outputs": [
    {
     "name": "stderr",
     "output_type": "stream",
     "text": [
      "100%|███████████████████████████████████████████████████████████████████████████████| 100/100 [00:00<00:00, 208.69it/s]\n"
     ]
    },
    {
     "name": "stdout",
     "output_type": "stream",
     "text": [
      "          Obj Val  Constraints Viol  Elapsed Time\n",
      "count  100.000000        100.000000    100.000000\n",
      "mean    -4.659793          0.042595      0.000707\n",
      "std      0.355136          0.066922      0.000559\n",
      "min     -5.371934          0.000000      0.000000\n",
      "25%     -4.935126          0.000000      0.000000\n",
      "50%     -4.684525          0.005193      0.000999\n",
      "75%     -4.447333          0.059425      0.001006\n",
      "max     -3.870809          0.337029      0.002042\n",
      "Number of infeasible solution: 52\n"
     ]
    }
   ],
   "source": [
    "from src.heuristic import naive_round\n",
    "params, sols, objvals, conviols, elapseds = [], [], [], [], []\n",
    "for b in tqdm(data_test.datadict[\"b\"][:100]):\n",
    "    # data point as tensor\n",
    "    datapoints = {\"b\": torch.unsqueeze(b, 0).to(\"cuda\"), \n",
    "                  \"name\": \"test\"}\n",
    "    # infer\n",
    "    components.eval()\n",
    "    tick = time.time()\n",
    "    with torch.no_grad():\n",
    "        for comp in components:\n",
    "            datapoints.update(comp(datapoints))\n",
    "    tock = time.time()\n",
    "    # assign params\n",
    "    model.set_param_val({\"b\":b.cpu().numpy()})\n",
    "    # assign vars\n",
    "    x = datapoints[\"x\"]\n",
    "    for i in range(num_var):\n",
    "        model.vars[\"x\"][i].value = x[0,i].item()\n",
    "    # get solutions\n",
    "    xval_rel, _ = model.get_val()\n",
    "    xval, objval = naive_round(xval_rel, model)\n",
    "    params.append(list(b.cpu().numpy()))\n",
    "    sols.append(list(list(xval.values())[0].values()))\n",
    "    objvals.append(objval)\n",
    "    conviols.append(sum(model.cal_violation()))\n",
    "    elapseds.append(tock - tick)\n",
    "df = pd.DataFrame({\"Param\":params, \"Sol\":sols, \"Obj Val\": objvals, \"Constraints Viol\": conviols, \"Elapsed Time\": elapseds})\n",
    "time.sleep(1)\n",
    "print(df.describe())\n",
    "print(\"Number of infeasible solution: {}\".format(np.sum(df[\"Constraints Viol\"] > 0)))\n",
    "df.to_csv(\"result/cq_pr_20-20.csv\")"
   ]
  },
  {
   "cell_type": "code",
   "execution_count": null,
   "id": "bea83707-4bb4-40bf-a728-ff0244cee6ab",
   "metadata": {},
   "outputs": [],
   "source": []
  }
 ],
 "metadata": {
  "kernelspec": {
   "display_name": "Python 3 (ipykernel)",
   "language": "python",
   "name": "python3"
  },
  "language_info": {
   "codemirror_mode": {
    "name": "ipython",
    "version": 3
   },
   "file_extension": ".py",
   "mimetype": "text/x-python",
   "name": "python",
   "nbconvert_exporter": "python",
   "pygments_lexer": "ipython3",
   "version": "3.10.13"
  }
 },
 "nbformat": 4,
 "nbformat_minor": 5
}
