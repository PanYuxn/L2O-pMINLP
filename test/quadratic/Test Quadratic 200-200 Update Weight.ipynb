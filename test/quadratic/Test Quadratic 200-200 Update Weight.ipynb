{
 "cells": [
  {
   "cell_type": "code",
   "execution_count": 1,
   "id": "be61b914-e1af-43b9-9766-5092593f92dd",
   "metadata": {},
   "outputs": [],
   "source": [
    "import time\n",
    "\n",
    "import numpy as np\n",
    "import pandas as pd\n",
    "import torch\n",
    "from torch import nn\n",
    "from tqdm import tqdm\n",
    "\n",
    "# random seed\n",
    "np.random.seed(42)\n",
    "torch.manual_seed(42)\n",
    "torch.cuda.manual_seed(42)"
   ]
  },
  {
   "cell_type": "code",
   "execution_count": 2,
   "id": "35fe4527-9dbf-48f0-bfb3-62cda59092aa",
   "metadata": {},
   "outputs": [],
   "source": [
    "# turn off warning\n",
    "import logging\n",
    "logging.getLogger('pyomo.core').setLevel(logging.ERROR)"
   ]
  },
  {
   "cell_type": "markdown",
   "id": "c5560447-da9d-4cbe-aab4-538aa11c8ee8",
   "metadata": {},
   "source": [
    "## Problem Setting"
   ]
  },
  {
   "cell_type": "code",
   "execution_count": 3,
   "id": "52363c72-0d20-4c08-bd00-0f62aa73686c",
   "metadata": {},
   "outputs": [],
   "source": [
    "# init\n",
    "num_var = 200     # number of variables\n",
    "num_ineq = 200    # number of constraints\n",
    "num_data = 10000  # number of data\n",
    "test_size = 1000  # number of test size\n",
    "val_size = 1000   # number of validation size\n",
    "train_size = num_data - test_size - val_size"
   ]
  },
  {
   "cell_type": "code",
   "execution_count": 4,
   "id": "21938c00-d73f-4255-bc7c-bce6e8034cf8",
   "metadata": {},
   "outputs": [],
   "source": [
    "# data sample from uniform distribution\n",
    "b_samples = torch.from_numpy(np.random.uniform(-1, 1, size=(num_data, num_ineq))).float()\n",
    "data = {\"b\":b_samples}\n",
    "# data split\n",
    "from src.utlis import data_split\n",
    "data_train, data_test, data_dev = data_split(data, test_size=test_size, val_size=val_size)"
   ]
  },
  {
   "cell_type": "code",
   "execution_count": 5,
   "id": "5ecf81ff-627d-444d-8d90-121c7e20c217",
   "metadata": {},
   "outputs": [],
   "source": [
    "# torch dataloaders\n",
    "from torch.utils.data import DataLoader\n",
    "batch_size = 64\n",
    "loader_train = DataLoader(data_train, batch_size, num_workers=0, collate_fn=data_train.collate_fn, shuffle=True)\n",
    "loader_test = DataLoader(data_test, batch_size, num_workers=0, collate_fn=data_test.collate_fn, shuffle=False)\n",
    "loader_dev = DataLoader(data_dev, batch_size, num_workers=0, collate_fn=data_dev.collate_fn, shuffle=False)"
   ]
  },
  {
   "cell_type": "markdown",
   "id": "16ec0a67-54ea-4a9d-b037-0c7c9390e3f9",
   "metadata": {},
   "source": [
    "## Exact Solver"
   ]
  },
  {
   "cell_type": "code",
   "execution_count": 6,
   "id": "50aaabd7-90ed-4628-a1da-c98777868d92",
   "metadata": {},
   "outputs": [],
   "source": [
    "from src.problem import msQuadratic\n",
    "model = msQuadratic(num_var, num_ineq)"
   ]
  },
  {
   "cell_type": "markdown",
   "id": "9819c60c-df5f-41c6-ae83-888c75aa78d7",
   "metadata": {},
   "source": [
    "## Learnable Rounding"
   ]
  },
  {
   "cell_type": "code",
   "execution_count": 7,
   "id": "6a4fb3e2-9c47-4c10-8116-e94be18ea59c",
   "metadata": {},
   "outputs": [],
   "source": [
    "# random seed\n",
    "np.random.seed(42)\n",
    "torch.manual_seed(42)\n",
    "torch.cuda.manual_seed(42)"
   ]
  },
  {
   "cell_type": "code",
   "execution_count": 8,
   "id": "536d2d58-67ba-408a-b72a-7c5bd54a5ff4",
   "metadata": {},
   "outputs": [],
   "source": [
    "# hyperparameters\n",
    "penalty_weight = 100  # weight of constraint violation penealty\n",
    "hlayers_sol = 5       # number of hidden layers for solution mapping\n",
    "hlayers_rnd = 4       # number of hidden layers for solution mapping\n",
    "hsize = 512           # width of hidden layers for solution mapping\n",
    "lr = 1e-3             # learning rate"
   ]
  },
  {
   "cell_type": "code",
   "execution_count": 9,
   "id": "fee1241e-e53a-4cbb-927a-edcdb3537303",
   "metadata": {},
   "outputs": [],
   "source": [
    "# set problem\n",
    "import neuromancer as nm\n",
    "from src.problem import nmQuadratic\n",
    "from src.func.layer import netFC\n",
    "from src.func import roundGumbelModel\n",
    "# build neural architecture for the solution map\n",
    "func = nm.modules.blocks.MLP(insize=num_ineq, outsize=num_var, bias=True,\n",
    "                             linear_map=nm.slim.maps[\"linear\"],\n",
    "                             nonlin=nn.ReLU, hsizes=[hsize]*hlayers_sol)\n",
    "smap = nm.system.Node(func, [\"b\"], [\"x\"], name=\"smap\")\n",
    "# define rounding model\n",
    "layers_rnd = netFC(input_dim=num_ineq+num_var, hidden_dims=[hsize]*hlayers_rnd, output_dim=num_var)\n",
    "rnd = roundGumbelModel(layers=layers_rnd, param_keys=[\"b\"], var_keys=[\"x\"],  output_keys=[\"x_rnd\"], \n",
    "                       int_ind=model.int_ind, continuous_update=True, name=\"round\")\n",
    "# build neuromancer problem for rounding\n",
    "components = nn.ModuleList([smap, rnd]).to(\"cuda\")\n",
    "loss_fn = nmQuadratic([\"b\", \"x_rnd\"], num_var, num_ineq, penalty_weight)"
   ]
  },
  {
   "cell_type": "code",
   "execution_count": 10,
   "id": "e4f10263-5f69-4288-a4e8-8be83929c8d6",
   "metadata": {},
   "outputs": [
    {
     "name": "stdout",
     "output_type": "stream",
     "text": [
      "Epoch 0, Validation Loss: 9256.08\n",
      "Epoch 1, Validation Loss: 5.83\n",
      "Epoch 2, Validation Loss: -5.34\n",
      "Epoch 3, Validation Loss: -11.95\n",
      "Epoch 4, Validation Loss: -9.65\n",
      "Epoch 5, Validation Loss: -16.03\n",
      "Epoch 6, Validation Loss: -16.77\n",
      "Epoch 7, Validation Loss: -14.30\n",
      "Epoch 8, Validation Loss: -20.32\n",
      "Epoch 9, Validation Loss: -20.84\n",
      "Epoch 10, Validation Loss: -17.06\n",
      "Epoch 11, Validation Loss: -20.72\n",
      "Epoch 12, Validation Loss: -20.92\n",
      "Epoch 13, Validation Loss: -21.56\n",
      "Epoch 14, Validation Loss: -20.54\n",
      "Epoch 15, Validation Loss: -23.40\n",
      "Epoch 16, Validation Loss: -18.04\n",
      "Epoch 17, Validation Loss: -22.97\n",
      "Epoch 18, Validation Loss: -22.69\n",
      "Epoch 19, Validation Loss: -22.58\n",
      "Epoch 20, Validation Loss: -22.23\n",
      "Epoch 21, Validation Loss: -3.72\n",
      "Epoch 22, Validation Loss: -19.28\n",
      "Epoch 23, Validation Loss: -18.49\n",
      "Epoch 24, Validation Loss: -19.90\n",
      "Epoch 25, Validation Loss: -21.93\n",
      "Epoch 26, Validation Loss: -22.11\n",
      "Epoch 27, Validation Loss: -21.75\n",
      "Epoch 28, Validation Loss: -24.17\n",
      "Epoch 29, Validation Loss: -22.00\n",
      "Epoch 30, Validation Loss: -20.32\n",
      "Epoch 31, Validation Loss: -23.67\n",
      "Epoch 32, Validation Loss: -22.81\n",
      "Epoch 33, Validation Loss: -22.39\n",
      "Epoch 34, Validation Loss: -21.56\n",
      "Epoch 35, Validation Loss: -23.53\n",
      "Epoch 36, Validation Loss: -23.99\n",
      "Epoch 37, Validation Loss: -23.06\n",
      "Epoch 38, Validation Loss: -20.93\n",
      "Epoch 39, Validation Loss: -21.27\n",
      "Epoch 40, Validation Loss: -20.69\n",
      "Epoch 41, Validation Loss: -21.06\n",
      "Epoch 42, Validation Loss: -21.94\n",
      "Epoch 43, Validation Loss: -21.34\n",
      "Epoch 44, Validation Loss: -23.50\n",
      "Epoch 45, Validation Loss: -17.64\n",
      "Epoch 46, Validation Loss: -21.85\n",
      "Epoch 47, Validation Loss: -23.29\n",
      "Epoch 48, Validation Loss: -15.69\n",
      "Epoch 49, Validation Loss: -20.78\n",
      "Epoch 50, Validation Loss: -23.95\n",
      "Epoch 51, Validation Loss: -22.54\n",
      "Epoch 52, Validation Loss: -24.02\n",
      "Epoch 53, Validation Loss: -22.61\n",
      "Epoch 54, Validation Loss: -21.68\n",
      "Epoch 55, Validation Loss: -25.17\n",
      "Epoch 56, Validation Loss: -21.08\n",
      "Epoch 57, Validation Loss: -20.00\n",
      "Epoch 58, Validation Loss: 87.84\n",
      "Epoch 59, Validation Loss: -15.30\n",
      "Epoch 60, Validation Loss: -23.77\n",
      "Epoch 61, Validation Loss: -20.81\n",
      "Epoch 62, Validation Loss: -2.78\n",
      "Epoch 63, Validation Loss: -18.17\n",
      "Epoch 64, Validation Loss: -16.37\n",
      "Epoch 65, Validation Loss: -24.09\n",
      "Epoch 66, Validation Loss: -22.50\n",
      "Epoch 67, Validation Loss: 0.48\n",
      "Epoch 68, Validation Loss: -3.26\n",
      "Epoch 69, Validation Loss: -20.16\n",
      "Epoch 70, Validation Loss: -5.74\n",
      "Epoch 71, Validation Loss: -22.83\n",
      "Epoch 72, Validation Loss: -23.57\n",
      "Epoch 73, Validation Loss: 19.48\n",
      "Epoch 74, Validation Loss: 64.22\n",
      "Early stopping at epoch 74\n",
      "Best model loaded.\n",
      "Training complete.\n",
      "The training time is 119.96 sec.\n"
     ]
    }
   ],
   "source": [
    "from src.problem.neuromancer.trainer import trainer\n",
    "# training\n",
    "epochs = 200                    # number of training epochs\n",
    "growth_rate = 1.05              # growth rate of penalty weight\n",
    "warmup = 50                     # number of epochs to wait before enacting early stopping policy\n",
    "patience = 20                   # number of epochs with no improvement in eval metric to allow before early stopping\n",
    "optimizer = torch.optim.AdamW(components.parameters(), lr=lr)\n",
    "# create a trainer for the problem\n",
    "my_trainer = trainer(components, loss_fn, optimizer, epochs, growth_rate, patience, warmup, device=\"cuda\")\n",
    "# training for the rounding problem\n",
    "my_trainer.train(loader_train, loader_dev)"
   ]
  },
  {
   "cell_type": "code",
   "execution_count": 11,
   "id": "3e835084-eb75-45d9-bcbd-5fb4c613fb41",
   "metadata": {},
   "outputs": [
    {
     "name": "stderr",
     "output_type": "stream",
     "text": [
      "100%|████████████████████████████████████████████████████████████████████████████████| 100/100 [00:11<00:00,  9.00it/s]\n"
     ]
    },
    {
     "name": "stdout",
     "output_type": "stream",
     "text": [
      "          Obj Val  Constraints Viol  Elapsed Time\n",
      "count  100.000000             100.0    100.000000\n",
      "mean   -25.349781               0.0      0.003269\n",
      "std      0.326771               0.0      0.000825\n",
      "min    -25.937414               0.0      0.001897\n",
      "25%    -25.591185               0.0      0.002955\n",
      "50%    -25.411941               0.0      0.003027\n",
      "75%    -25.179264               0.0      0.003528\n",
      "max    -23.943559               0.0      0.006057\n",
      "Number of infeasible solution: 0\n"
     ]
    }
   ],
   "source": [
    "params, sols, objvals, conviols, elapseds = [], [], [], [], []\n",
    "for b in tqdm(data_test.datadict[\"b\"][:100]):\n",
    "    # data point as tensor\n",
    "    datapoints = {\"b\": torch.unsqueeze(b, 0).to(\"cuda\"), \n",
    "                  \"name\": \"test\"}\n",
    "    # infer\n",
    "    components.eval()\n",
    "    tick = time.time()\n",
    "    with torch.no_grad():\n",
    "        for comp in components:\n",
    "            datapoints.update(comp(datapoints))\n",
    "    tock = time.time()\n",
    "    # assign params\n",
    "    model.set_param_val({\"b\":b.cpu().numpy()})\n",
    "    # assign vars\n",
    "    x = datapoints[\"x_rnd\"]\n",
    "    for i in range(num_var):\n",
    "        model.vars[\"x\"][i].value = x[0,i].item()\n",
    "    # get solutions\n",
    "    xval, objval = model.get_val()    \n",
    "    params.append(list(b.cpu().numpy()))\n",
    "    sols.append(list(list(xval.values())[0].values()))\n",
    "    objvals.append(objval)\n",
    "    conviols.append(sum(model.cal_violation()))\n",
    "    elapseds.append(tock - tick)\n",
    "df = pd.DataFrame({\"Param\":params, \"Sol\":sols, \"Obj Val\": objvals, \"Constraints Viol\": conviols, \"Elapsed Time\": elapseds})\n",
    "time.sleep(1)\n",
    "print(df.describe())\n",
    "print(\"Number of infeasible solution: {}\".format(np.sum(df[\"Constraints Viol\"] > 0)))\n",
    "df.to_csv(\"result/cq_lr_200-200_g.csv\")"
   ]
  },
  {
   "cell_type": "markdown",
   "id": "2dbf8a72-29b9-49c4-b3c1-0d68895c1c1f",
   "metadata": {},
   "source": [
    "## Learnable Threshold"
   ]
  },
  {
   "cell_type": "code",
   "execution_count": 12,
   "id": "36c57dbb-8dee-4976-8922-82a155fe0128",
   "metadata": {},
   "outputs": [],
   "source": [
    "# random seed\n",
    "np.random.seed(42)\n",
    "torch.manual_seed(42)\n",
    "torch.cuda.manual_seed(42)"
   ]
  },
  {
   "cell_type": "code",
   "execution_count": 13,
   "id": "d46b9817-87ac-4af0-b387-b10c9a4998f4",
   "metadata": {},
   "outputs": [],
   "source": [
    "# hyperparameters\n",
    "penalty_weight = 100  # weight of constraint violation penealty\n",
    "hlayers_sol = 5       # number of hidden layers for solution mapping\n",
    "hlayers_rnd = 4       # number of hidden layers for solution mapping\n",
    "hsize = 512           # width of hidden layers for solution mapping\n",
    "lr = 1e-3             # learning rate"
   ]
  },
  {
   "cell_type": "code",
   "execution_count": 14,
   "id": "fa8b147f-39c8-4eb7-bb95-93dd8e4cb1cf",
   "metadata": {},
   "outputs": [],
   "source": [
    "# set problem\n",
    "import neuromancer as nm\n",
    "from src.problem import nmQuadratic\n",
    "from src.func.layer import netFC\n",
    "from src.func import roundThresholdModel\n",
    "# build neural architecture for the solution map\n",
    "func = nm.modules.blocks.MLP(insize=num_ineq, outsize=num_var, bias=True,\n",
    "                             linear_map=nm.slim.maps[\"linear\"],\n",
    "                             nonlin=nn.ReLU, hsizes=[hsize]*hlayers_sol)\n",
    "smap = nm.system.Node(func, [\"b\"], [\"x\"], name=\"smap\")\n",
    "# define rounding model\n",
    "layers_rnd = netFC(input_dim=num_ineq+num_var, hidden_dims=[hsize]*hlayers_rnd, output_dim=num_var)\n",
    "rnd = roundThresholdModel(layers=layers_rnd, param_keys=[\"b\"], var_keys=[\"x\"],  output_keys=[\"x_rnd\"], \n",
    "                       int_ind=model.int_ind, continuous_update=True, name=\"round\")\n",
    "# build neuromancer problem for rounding\n",
    "components = nn.ModuleList([smap, rnd]).to(\"cuda\")\n",
    "loss_fn = nmQuadratic([\"b\", \"x_rnd\"], num_var, num_ineq, penalty_weight)"
   ]
  },
  {
   "cell_type": "code",
   "execution_count": 15,
   "id": "c6f5bb17-8c3c-4dcd-952d-caa1d7c4c4fa",
   "metadata": {},
   "outputs": [
    {
     "name": "stdout",
     "output_type": "stream",
     "text": [
      "Epoch 0, Validation Loss: 5004.20\n",
      "Epoch 1, Validation Loss: -3.16\n",
      "Epoch 2, Validation Loss: -12.77\n",
      "Epoch 3, Validation Loss: -16.67\n",
      "Epoch 4, Validation Loss: -17.72\n",
      "Epoch 5, Validation Loss: -18.83\n",
      "Epoch 6, Validation Loss: -20.12\n",
      "Epoch 7, Validation Loss: -20.37\n",
      "Epoch 8, Validation Loss: -19.77\n",
      "Epoch 9, Validation Loss: -19.66\n",
      "Epoch 10, Validation Loss: -22.37\n",
      "Epoch 11, Validation Loss: -22.23\n",
      "Epoch 12, Validation Loss: -23.27\n",
      "Epoch 13, Validation Loss: -20.85\n",
      "Epoch 14, Validation Loss: -22.08\n",
      "Epoch 15, Validation Loss: -22.51\n",
      "Epoch 16, Validation Loss: -24.24\n",
      "Epoch 17, Validation Loss: -23.72\n",
      "Epoch 18, Validation Loss: -17.79\n",
      "Epoch 19, Validation Loss: -17.98\n",
      "Epoch 20, Validation Loss: -22.19\n",
      "Epoch 21, Validation Loss: -22.32\n",
      "Epoch 22, Validation Loss: -24.34\n",
      "Epoch 23, Validation Loss: -24.69\n",
      "Epoch 24, Validation Loss: -23.47\n",
      "Epoch 25, Validation Loss: -21.81\n",
      "Epoch 26, Validation Loss: -23.09\n",
      "Epoch 27, Validation Loss: -23.43\n",
      "Epoch 28, Validation Loss: -19.90\n",
      "Epoch 29, Validation Loss: -21.19\n",
      "Epoch 30, Validation Loss: -23.15\n",
      "Epoch 31, Validation Loss: -22.27\n",
      "Epoch 32, Validation Loss: -24.02\n",
      "Epoch 33, Validation Loss: -21.57\n",
      "Epoch 34, Validation Loss: -22.24\n",
      "Epoch 35, Validation Loss: -23.85\n",
      "Epoch 36, Validation Loss: -20.99\n",
      "Epoch 37, Validation Loss: -22.79\n",
      "Epoch 38, Validation Loss: -23.44\n",
      "Epoch 39, Validation Loss: -19.88\n",
      "Epoch 40, Validation Loss: -24.05\n",
      "Epoch 41, Validation Loss: -20.94\n",
      "Epoch 42, Validation Loss: -21.59\n",
      "Epoch 43, Validation Loss: 13.69\n",
      "Epoch 44, Validation Loss: -24.54\n",
      "Epoch 45, Validation Loss: -18.96\n",
      "Epoch 46, Validation Loss: -19.15\n",
      "Epoch 47, Validation Loss: -19.38\n",
      "Epoch 48, Validation Loss: -17.37\n",
      "Epoch 49, Validation Loss: 24.30\n",
      "Epoch 50, Validation Loss: -14.75\n",
      "Epoch 51, Validation Loss: -22.41\n",
      "Epoch 52, Validation Loss: -22.17\n",
      "Epoch 53, Validation Loss: -23.55\n",
      "Epoch 54, Validation Loss: -17.53\n",
      "Epoch 55, Validation Loss: 40.17\n",
      "Epoch 56, Validation Loss: -23.91\n",
      "Epoch 57, Validation Loss: -24.89\n",
      "Epoch 58, Validation Loss: -20.06\n",
      "Epoch 59, Validation Loss: -19.01\n",
      "Epoch 60, Validation Loss: 1.36\n",
      "Epoch 61, Validation Loss: 7.39\n",
      "Epoch 62, Validation Loss: 12.15\n",
      "Epoch 63, Validation Loss: 0.24\n",
      "Epoch 64, Validation Loss: -9.39\n",
      "Epoch 65, Validation Loss: 16.76\n",
      "Epoch 66, Validation Loss: -14.13\n",
      "Epoch 67, Validation Loss: -21.95\n",
      "Epoch 68, Validation Loss: -22.78\n",
      "Epoch 69, Validation Loss: -15.83\n",
      "Epoch 70, Validation Loss: -17.02\n",
      "Epoch 71, Validation Loss: -14.96\n",
      "Epoch 72, Validation Loss: -24.28\n",
      "Epoch 73, Validation Loss: -23.50\n",
      "Epoch 74, Validation Loss: -1.08\n",
      "Epoch 75, Validation Loss: -19.89\n",
      "Epoch 76, Validation Loss: 1.42\n",
      "Early stopping at epoch 76\n",
      "Best model loaded.\n",
      "Training complete.\n",
      "The training time is 120.09 sec.\n"
     ]
    }
   ],
   "source": [
    "from src.problem.neuromancer.trainer import trainer\n",
    "# training\n",
    "epochs = 200                    # number of training epochs\n",
    "growth_rate = 1.05              # growth rate of penalty weight\n",
    "warmup = 50                     # number of epochs to wait before enacting early stopping policy\n",
    "patience = 20                   # number of epochs with no improvement in eval metric to allow before early stopping\n",
    "optimizer = torch.optim.AdamW(components.parameters(), lr=lr)\n",
    "# create a trainer for the problem\n",
    "my_trainer = trainer(components, loss_fn, optimizer, epochs, growth_rate, patience, warmup, device=\"cuda\")\n",
    "# training for the rounding problem\n",
    "my_trainer.train(loader_train, loader_dev)"
   ]
  },
  {
   "cell_type": "code",
   "execution_count": 16,
   "id": "6584d57e-6b4c-4262-82f5-55735ef17cac",
   "metadata": {},
   "outputs": [
    {
     "name": "stderr",
     "output_type": "stream",
     "text": [
      "100%|████████████████████████████████████████████████████████████████████████████████| 100/100 [00:11<00:00,  8.93it/s]\n"
     ]
    },
    {
     "name": "stdout",
     "output_type": "stream",
     "text": [
      "          Obj Val  Constraints Viol  Elapsed Time\n",
      "count  100.000000             100.0    100.000000\n",
      "mean   -25.110320               0.0      0.003259\n",
      "std      1.050248               0.0      0.000967\n",
      "min    -26.056704               0.0      0.001998\n",
      "25%    -25.697376               0.0      0.002554\n",
      "50%    -25.296642               0.0      0.003011\n",
      "75%    -24.899618               0.0      0.003616\n",
      "max    -19.103955               0.0      0.006130\n",
      "Number of infeasible solution: 0\n"
     ]
    }
   ],
   "source": [
    "params, sols, objvals, conviols, elapseds = [], [], [], [], []\n",
    "for b in tqdm(data_test.datadict[\"b\"][:100]):\n",
    "    # data point as tensor\n",
    "    datapoints = {\"b\": torch.unsqueeze(b, 0).to(\"cuda\"), \n",
    "                  \"name\": \"test\"}\n",
    "    # infer\n",
    "    components.eval()\n",
    "    tick = time.time()\n",
    "    with torch.no_grad():\n",
    "        for comp in components:\n",
    "            datapoints.update(comp(datapoints))\n",
    "    tock = time.time()\n",
    "    # assign params\n",
    "    model.set_param_val({\"b\":b.cpu().numpy()})\n",
    "    # assign vars\n",
    "    x = datapoints[\"x_rnd\"]\n",
    "    for i in range(num_var):\n",
    "        model.vars[\"x\"][i].value = x[0,i].item()\n",
    "    # get solutions\n",
    "    xval, objval = model.get_val()    \n",
    "    params.append(list(b.cpu().numpy()))\n",
    "    sols.append(list(list(xval.values())[0].values()))\n",
    "    objvals.append(objval)\n",
    "    conviols.append(sum(model.cal_violation()))\n",
    "    elapseds.append(tock - tick)\n",
    "df = pd.DataFrame({\"Param\":params, \"Sol\":sols, \"Obj Val\": objvals, \"Constraints Viol\": conviols, \"Elapsed Time\": elapseds})\n",
    "time.sleep(1)\n",
    "print(df.describe())\n",
    "print(\"Number of infeasible solution: {}\".format(np.sum(df[\"Constraints Viol\"] > 0)))\n",
    "df.to_csv(\"result/cq_lt_200-200_g.csv\")"
   ]
  },
  {
   "cell_type": "code",
   "execution_count": null,
   "id": "9008223a-b425-4ace-bd83-74c444877c57",
   "metadata": {},
   "outputs": [],
   "source": []
  }
 ],
 "metadata": {
  "kernelspec": {
   "display_name": "Python 3 (ipykernel)",
   "language": "python",
   "name": "python3"
  },
  "language_info": {
   "codemirror_mode": {
    "name": "ipython",
    "version": 3
   },
   "file_extension": ".py",
   "mimetype": "text/x-python",
   "name": "python",
   "nbconvert_exporter": "python",
   "pygments_lexer": "ipython3",
   "version": "3.10.13"
  }
 },
 "nbformat": 4,
 "nbformat_minor": 5
}
