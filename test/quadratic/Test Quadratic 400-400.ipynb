{
 "cells": [
  {
   "cell_type": "code",
   "execution_count": 1,
   "id": "be61b914-e1af-43b9-9766-5092593f92dd",
   "metadata": {},
   "outputs": [],
   "source": [
    "import time\n",
    "\n",
    "import numpy as np\n",
    "import pandas as pd\n",
    "import torch\n",
    "from torch import nn\n",
    "from tqdm import tqdm\n",
    "\n",
    "# random seed\n",
    "np.random.seed(42)\n",
    "torch.manual_seed(42)\n",
    "torch.cuda.manual_seed(42)"
   ]
  },
  {
   "cell_type": "code",
   "execution_count": 2,
   "id": "35fe4527-9dbf-48f0-bfb3-62cda59092aa",
   "metadata": {},
   "outputs": [],
   "source": [
    "# turn off warning\n",
    "import logging\n",
    "logging.getLogger('pyomo.core').setLevel(logging.ERROR)"
   ]
  },
  {
   "cell_type": "markdown",
   "id": "c5560447-da9d-4cbe-aab4-538aa11c8ee8",
   "metadata": {},
   "source": [
    "## Problem Setting"
   ]
  },
  {
   "cell_type": "code",
   "execution_count": 3,
   "id": "52363c72-0d20-4c08-bd00-0f62aa73686c",
   "metadata": {},
   "outputs": [],
   "source": [
    "# init\n",
    "num_var = 400     # number of variables\n",
    "num_ineq = 400    # number of constraints\n",
    "num_data = 10000  # number of data\n",
    "test_size = 1000  # number of test size\n",
    "val_size = 1000   # number of validation size\n",
    "train_size = num_data - test_size - val_size"
   ]
  },
  {
   "cell_type": "code",
   "execution_count": 4,
   "id": "21938c00-d73f-4255-bc7c-bce6e8034cf8",
   "metadata": {},
   "outputs": [],
   "source": [
    "# data sample from uniform distribution\n",
    "b_samples = torch.from_numpy(np.random.uniform(-1, 1, size=(num_data, num_ineq))).float()\n",
    "data = {\"b\":b_samples}\n",
    "# data split\n",
    "from src.utlis import data_split\n",
    "data_train, data_test, data_dev = data_split(data, test_size=test_size, val_size=val_size)"
   ]
  },
  {
   "cell_type": "code",
   "execution_count": 5,
   "id": "5ecf81ff-627d-444d-8d90-121c7e20c217",
   "metadata": {},
   "outputs": [],
   "source": [
    "# torch dataloaders\n",
    "from torch.utils.data import DataLoader\n",
    "batch_size = 64\n",
    "loader_train = DataLoader(data_train, batch_size, num_workers=0, collate_fn=data_train.collate_fn, shuffle=True)\n",
    "loader_test = DataLoader(data_test, batch_size, num_workers=0, collate_fn=data_test.collate_fn, shuffle=False)\n",
    "loader_dev = DataLoader(data_dev, batch_size, num_workers=0, collate_fn=data_dev.collate_fn, shuffle=False)"
   ]
  },
  {
   "cell_type": "markdown",
   "id": "16ec0a67-54ea-4a9d-b037-0c7c9390e3f9",
   "metadata": {},
   "source": [
    "## Exact Solver"
   ]
  },
  {
   "cell_type": "code",
   "execution_count": 6,
   "id": "50aaabd7-90ed-4628-a1da-c98777868d92",
   "metadata": {},
   "outputs": [],
   "source": [
    "from src.problem import msQuadratic\n",
    "model = msQuadratic(num_var, num_ineq)"
   ]
  },
  {
   "cell_type": "markdown",
   "id": "cad38e16-1a87-4f11-92b4-b608f7f3ea11",
   "metadata": {},
   "source": [
    "## Heuristic - Round"
   ]
  },
  {
   "cell_type": "code",
   "execution_count": 7,
   "id": "03328361-3f39-461d-ac81-40c8c14717bb",
   "metadata": {},
   "outputs": [],
   "source": [
    "from src.heuristic import naive_round"
   ]
  },
  {
   "cell_type": "code",
   "execution_count": 8,
   "id": "2e57b62f-dfb4-4c87-b42e-e43b202ef96c",
   "metadata": {},
   "outputs": [
    {
     "name": "stderr",
     "output_type": "stream",
     "text": [
      "  2%|█▏                                                                            | 15/1000 [00:58<1:05:47,  4.01s/it]"
     ]
    },
    {
     "name": "stdout",
     "output_type": "stream",
     "text": [
      "ERROR: Unable to clone Pyomo component attribute. Component 'obj' contains an\n",
      "uncopyable field '_init_sense' (<class\n",
      "'pyomo.core.base.initializer.ConstantInitializer'>).  Setting field to `None`\n",
      "on new object\n"
     ]
    },
    {
     "name": "stderr",
     "output_type": "stream",
     "text": [
      " 10%|███████▊                                                                        | 98/1000 [06:06<54:56,  3.66s/it]"
     ]
    },
    {
     "name": "stdout",
     "output_type": "stream",
     "text": [
      "ERROR: Unable to clone Pyomo component attribute. Component 'OrderedScalarSet'\n",
      "contains an uncopyable field '_init_dimen' (<class\n",
      "'pyomo.core.base.initializer.ConstantInitializer'>).  Setting field to `None`\n",
      "on new object\n"
     ]
    },
    {
     "name": "stderr",
     "output_type": "stream",
     "text": [
      " 46%|████████████████████████████████████▎                                          | 459/1000 [28:10<32:29,  3.60s/it]"
     ]
    },
    {
     "name": "stdout",
     "output_type": "stream",
     "text": [
      "ERROR: Unable to clone Pyomo component attribute. Component 'obj' contains an\n",
      "uncopyable field '_init_sense' (<class\n",
      "'pyomo.core.base.initializer.ConstantInitializer'>).  Setting field to `None`\n",
      "on new object\n"
     ]
    },
    {
     "name": "stderr",
     "output_type": "stream",
     "text": [
      "100%|████████████████████████████████████████████████████████████████████████████| 1000/1000 [1:02:28<00:00,  3.75s/it]\n"
     ]
    },
    {
     "name": "stdout",
     "output_type": "stream",
     "text": [
      "           Obj Val  Constraints Viol  Elapsed Time\n",
      "count  1000.000000       1000.000000   1000.000000\n",
      "mean    -70.343501         48.109977      1.194081\n",
      "std       0.527485          4.199574      0.252281\n",
      "min     -72.033292         36.899955      0.726004\n",
      "25%     -70.680788         45.155021      1.006243\n",
      "50%     -70.355254         48.075926      1.259264\n",
      "75%     -70.002250         51.013367      1.337236\n",
      "max     -68.535647         62.058183      2.187687\n",
      "Number of infeasible solution: 1000\n"
     ]
    }
   ],
   "source": [
    "params, sols, objvals, conviols, elapseds = [], [], [], [], []\n",
    "for b in tqdm(data_test.datadict[\"b\"]):\n",
    "    # set params\n",
    "    model.set_param_val({\"b\":b.cpu().numpy()})\n",
    "    # relax\n",
    "    model_rel = model.relax()\n",
    "    # solve\n",
    "    tick = time.time()\n",
    "    xval_rel, _ = model_rel.solve(\"gurobi\")\n",
    "    xval, objval = naive_round(xval_rel, model)\n",
    "    tock = time.time()\n",
    "    # eval\n",
    "    params.append(list(b))\n",
    "    sols.append(list(list(xval.values())[0].values()))\n",
    "    objvals.append(objval)\n",
    "    conviols.append(sum(model.cal_violation()))\n",
    "    elapseds.append(tock - tick)\n",
    "df = pd.DataFrame({\"Param\":params, \"Sol\":sols, \"Obj Val\": objvals, \"Constraints Viol\": conviols, \"Elapsed Time\": elapseds})\n",
    "time.sleep(1)\n",
    "print(df.describe())\n",
    "print(\"Number of infeasible solution: {}\".format(np.sum(df[\"Constraints Viol\"] > 0)))\n",
    "df.to_csv(\"result/cq_heur_rnd_400-400.csv\")"
   ]
  },
  {
   "cell_type": "markdown",
   "id": "9819c60c-df5f-41c6-ae83-888c75aa78d7",
   "metadata": {},
   "source": [
    "## Learnable Rounding"
   ]
  },
  {
   "cell_type": "code",
   "execution_count": 7,
   "id": "6a4fb3e2-9c47-4c10-8116-e94be18ea59c",
   "metadata": {},
   "outputs": [],
   "source": [
    "# random seed\n",
    "np.random.seed(42)\n",
    "torch.manual_seed(42)\n",
    "torch.cuda.manual_seed(42)"
   ]
  },
  {
   "cell_type": "code",
   "execution_count": 8,
   "id": "536d2d58-67ba-408a-b72a-7c5bd54a5ff4",
   "metadata": {},
   "outputs": [],
   "source": [
    "# hyperparameters\n",
    "penalty_weight = 100  # weight of constraint violation penealty\n",
    "hlayers_sol = 5       # number of hidden layers for solution mapping\n",
    "hlayers_rnd = 4       # number of hidden layers for solution mapping\n",
    "hsize = 1024          # width of hidden layers for solution mapping\n",
    "lr = 1e-3             # learning rate"
   ]
  },
  {
   "cell_type": "code",
   "execution_count": 9,
   "id": "fee1241e-e53a-4cbb-927a-edcdb3537303",
   "metadata": {},
   "outputs": [],
   "source": [
    "# set problem\n",
    "import neuromancer as nm\n",
    "from src.problem import nmQuadratic\n",
    "from src.func.layer import netFC\n",
    "from src.func import roundGumbelModel\n",
    "# build neural architecture for the solution map\n",
    "func = nm.modules.blocks.MLP(insize=num_ineq, outsize=num_var, bias=True,\n",
    "                             linear_map=nm.slim.maps[\"linear\"],\n",
    "                             nonlin=nn.ReLU, hsizes=[hsize]*hlayers_sol)\n",
    "smap = nm.system.Node(func, [\"b\"], [\"x\"], name=\"smap\")\n",
    "# define rounding model\n",
    "layers_rnd = netFC(input_dim=num_ineq+num_var, hidden_dims=[hsize]*hlayers_rnd, output_dim=num_var)\n",
    "rnd = roundGumbelModel(layers=layers_rnd, param_keys=[\"b\"], var_keys=[\"x\"],  output_keys=[\"x_rnd\"], \n",
    "                       int_ind=model.int_ind, continuous_update=True, name=\"round\")\n",
    "# build neuromancer problem for rounding\n",
    "components = nn.ModuleList([smap, rnd]).to(\"cuda\")\n",
    "loss_fn = nmQuadratic([\"b\", \"x_rnd\"], num_var, num_ineq, penalty_weight)"
   ]
  },
  {
   "cell_type": "code",
   "execution_count": 10,
   "id": "e4f10263-5f69-4288-a4e8-8be83929c8d6",
   "metadata": {},
   "outputs": [
    {
     "name": "stdout",
     "output_type": "stream",
     "text": [
      "Epoch 0, Validation Loss: 27453.31\n",
      "Epoch 1, Validation Loss: 27.37\n",
      "Epoch 2, Validation Loss: 14.71\n",
      "Epoch 3, Validation Loss: -0.49\n",
      "Epoch 4, Validation Loss: -10.43\n",
      "Epoch 5, Validation Loss: -9.33\n",
      "Epoch 6, Validation Loss: -16.91\n",
      "Epoch 7, Validation Loss: -18.94\n",
      "Epoch 8, Validation Loss: -22.40\n",
      "Epoch 9, Validation Loss: -21.72\n",
      "Epoch 10, Validation Loss: -24.02\n",
      "Epoch 11, Validation Loss: -24.88\n",
      "Epoch 12, Validation Loss: -20.33\n",
      "Epoch 13, Validation Loss: -24.99\n",
      "Epoch 14, Validation Loss: -26.84\n",
      "Epoch 15, Validation Loss: -21.17\n",
      "Epoch 16, Validation Loss: -28.71\n",
      "Epoch 17, Validation Loss: -24.19\n",
      "Epoch 18, Validation Loss: -27.82\n",
      "Epoch 19, Validation Loss: -29.11\n",
      "Epoch 20, Validation Loss: -30.23\n",
      "Epoch 21, Validation Loss: -32.19\n",
      "Epoch 22, Validation Loss: -27.43\n",
      "Epoch 23, Validation Loss: -23.39\n",
      "Epoch 24, Validation Loss: -27.00\n",
      "Epoch 25, Validation Loss: -31.98\n",
      "Epoch 26, Validation Loss: -31.65\n",
      "Epoch 27, Validation Loss: -34.19\n",
      "Epoch 28, Validation Loss: -31.47\n",
      "Epoch 29, Validation Loss: -34.40\n",
      "Epoch 30, Validation Loss: -28.79\n",
      "Epoch 31, Validation Loss: -31.85\n",
      "Epoch 32, Validation Loss: -31.90\n",
      "Epoch 33, Validation Loss: -31.59\n",
      "Epoch 34, Validation Loss: -34.68\n",
      "Epoch 35, Validation Loss: -1.51\n",
      "Epoch 36, Validation Loss: -31.88\n",
      "Epoch 37, Validation Loss: -37.04\n",
      "Epoch 38, Validation Loss: -34.15\n",
      "Epoch 39, Validation Loss: -35.63\n",
      "Epoch 40, Validation Loss: -18.44\n",
      "Epoch 41, Validation Loss: -34.08\n",
      "Epoch 42, Validation Loss: -36.44\n",
      "Epoch 43, Validation Loss: -36.82\n",
      "Epoch 44, Validation Loss: -35.32\n",
      "Epoch 45, Validation Loss: -34.94\n",
      "Epoch 46, Validation Loss: -36.97\n",
      "Epoch 47, Validation Loss: -37.84\n",
      "Epoch 48, Validation Loss: -37.42\n",
      "Epoch 49, Validation Loss: -32.33\n",
      "Epoch 50, Validation Loss: -16.08\n",
      "Epoch 51, Validation Loss: -38.33\n",
      "Epoch 52, Validation Loss: -31.00\n",
      "Epoch 53, Validation Loss: -25.30\n",
      "Epoch 54, Validation Loss: -39.34\n",
      "Epoch 55, Validation Loss: -39.61\n",
      "Epoch 56, Validation Loss: -37.78\n",
      "Epoch 57, Validation Loss: -37.74\n",
      "Epoch 58, Validation Loss: -37.64\n",
      "Epoch 59, Validation Loss: -32.36\n",
      "Epoch 60, Validation Loss: -26.99\n",
      "Epoch 61, Validation Loss: -37.88\n",
      "Epoch 62, Validation Loss: -32.66\n",
      "Epoch 63, Validation Loss: -35.90\n",
      "Epoch 64, Validation Loss: -38.14\n",
      "Epoch 65, Validation Loss: -38.74\n",
      "Epoch 66, Validation Loss: -33.61\n",
      "Epoch 67, Validation Loss: 10.49\n",
      "Epoch 68, Validation Loss: -38.96\n",
      "Epoch 69, Validation Loss: -5.62\n",
      "Epoch 70, Validation Loss: -29.20\n",
      "Epoch 71, Validation Loss: -37.73\n",
      "Epoch 72, Validation Loss: -34.66\n",
      "Epoch 73, Validation Loss: -39.64\n",
      "Epoch 74, Validation Loss: -38.20\n",
      "Epoch 75, Validation Loss: -39.95\n",
      "Epoch 76, Validation Loss: -32.49\n",
      "Epoch 77, Validation Loss: -35.04\n",
      "Epoch 78, Validation Loss: -40.47\n",
      "Epoch 79, Validation Loss: -37.52\n",
      "Epoch 80, Validation Loss: -39.52\n",
      "Epoch 81, Validation Loss: -39.05\n",
      "Epoch 82, Validation Loss: -37.74\n",
      "Epoch 83, Validation Loss: -38.29\n",
      "Epoch 84, Validation Loss: -39.22\n",
      "Epoch 85, Validation Loss: -38.55\n",
      "Epoch 86, Validation Loss: -40.32\n",
      "Epoch 87, Validation Loss: -38.62\n",
      "Epoch 88, Validation Loss: -33.35\n",
      "Epoch 89, Validation Loss: -39.78\n",
      "Epoch 90, Validation Loss: -38.85\n",
      "Epoch 91, Validation Loss: -34.14\n",
      "Epoch 92, Validation Loss: 68.80\n",
      "Epoch 93, Validation Loss: 684.95\n",
      "Epoch 94, Validation Loss: -40.24\n",
      "Epoch 95, Validation Loss: -36.33\n",
      "Epoch 96, Validation Loss: -41.03\n",
      "Epoch 97, Validation Loss: -38.50\n",
      "Epoch 98, Validation Loss: -40.87\n",
      "Epoch 99, Validation Loss: -24.82\n",
      "Epoch 100, Validation Loss: 168.67\n",
      "Epoch 101, Validation Loss: -37.58\n",
      "Epoch 102, Validation Loss: -38.10\n",
      "Epoch 103, Validation Loss: -40.52\n",
      "Epoch 104, Validation Loss: -22.99\n",
      "Epoch 105, Validation Loss: -36.84\n",
      "Epoch 106, Validation Loss: -41.15\n",
      "Epoch 107, Validation Loss: -39.33\n",
      "Epoch 108, Validation Loss: 209.37\n",
      "Epoch 109, Validation Loss: -36.08\n",
      "Epoch 110, Validation Loss: -34.82\n",
      "Epoch 111, Validation Loss: -0.34\n",
      "Epoch 112, Validation Loss: -5.17\n",
      "Epoch 113, Validation Loss: -41.99\n",
      "Epoch 114, Validation Loss: -36.39\n",
      "Epoch 115, Validation Loss: -39.80\n",
      "Epoch 116, Validation Loss: -42.27\n",
      "Epoch 117, Validation Loss: -37.81\n",
      "Epoch 118, Validation Loss: -39.50\n",
      "Epoch 119, Validation Loss: -40.60\n",
      "Epoch 120, Validation Loss: -34.27\n",
      "Epoch 121, Validation Loss: -40.85\n",
      "Epoch 122, Validation Loss: 53.63\n",
      "Epoch 123, Validation Loss: -31.92\n",
      "Epoch 124, Validation Loss: -23.47\n",
      "Epoch 125, Validation Loss: -39.68\n",
      "Epoch 126, Validation Loss: -38.94\n",
      "Epoch 127, Validation Loss: -41.11\n",
      "Epoch 128, Validation Loss: -41.72\n",
      "Epoch 129, Validation Loss: -40.78\n",
      "Epoch 130, Validation Loss: -42.05\n",
      "Epoch 131, Validation Loss: 16.49\n",
      "Epoch 132, Validation Loss: -39.41\n",
      "Epoch 133, Validation Loss: -42.40\n",
      "Epoch 134, Validation Loss: -40.82\n",
      "Epoch 135, Validation Loss: -38.86\n",
      "Epoch 136, Validation Loss: 555.38\n",
      "Epoch 137, Validation Loss: -40.05\n",
      "Epoch 138, Validation Loss: -40.07\n",
      "Epoch 139, Validation Loss: -42.39\n",
      "Epoch 140, Validation Loss: -41.25\n",
      "Epoch 141, Validation Loss: -29.81\n",
      "Epoch 142, Validation Loss: -42.46\n",
      "Epoch 143, Validation Loss: -40.38\n",
      "Epoch 144, Validation Loss: -29.87\n",
      "Epoch 145, Validation Loss: -38.85\n",
      "Epoch 146, Validation Loss: -39.59\n",
      "Epoch 147, Validation Loss: -39.35\n",
      "Epoch 148, Validation Loss: -39.64\n",
      "Epoch 149, Validation Loss: -20.50\n",
      "Epoch 150, Validation Loss: -41.46\n",
      "Epoch 151, Validation Loss: -42.31\n",
      "Epoch 152, Validation Loss: -40.39\n",
      "Epoch 153, Validation Loss: -31.33\n",
      "Epoch 154, Validation Loss: -40.00\n",
      "Epoch 155, Validation Loss: 3.05\n",
      "Epoch 156, Validation Loss: -41.28\n",
      "Epoch 157, Validation Loss: -39.37\n",
      "Epoch 158, Validation Loss: 104.86\n",
      "Epoch 159, Validation Loss: -40.73\n",
      "Epoch 160, Validation Loss: -42.18\n",
      "Epoch 161, Validation Loss: -36.08\n",
      "Early stopping at epoch 161\n",
      "Best model loaded.\n",
      "Training complete.\n"
     ]
    }
   ],
   "source": [
    "from src.problem.neuromancer.trainer import trainer\n",
    "# training\n",
    "epochs = 200                    # number of training epochs\n",
    "warmup = 20                     # number of epochs to wait before enacting early stopping policy\n",
    "patience = 20                   # number of epochs with no improvement in eval metric to allow before early stopping\n",
    "optimizer = torch.optim.AdamW(components.parameters(), lr=lr)\n",
    "# create a trainer for the problem\n",
    "my_trainer = trainer(components, loss_fn, optimizer, epochs, patience, warmup, device=\"cuda\")\n",
    "# training for the rounding problem\n",
    "my_trainer.train(loader_train, loader_dev)"
   ]
  },
  {
   "cell_type": "code",
   "execution_count": 11,
   "id": "3e835084-eb75-45d9-bcbd-5fb4c613fb41",
   "metadata": {},
   "outputs": [
    {
     "name": "stderr",
     "output_type": "stream",
     "text": [
      "100%|██████████████████████████████████████████████████████████████████████████████| 1000/1000 [07:14<00:00,  2.30it/s]\n"
     ]
    },
    {
     "name": "stdout",
     "output_type": "stream",
     "text": [
      "           Obj Val  Constraints Viol  Elapsed Time\n",
      "count  1000.000000       1000.000000   1000.000000\n",
      "mean    -43.437787          0.009323      0.009759\n",
      "std       1.077365          0.046387      0.024703\n",
      "min     -44.385158          0.000000      0.001996\n",
      "25%     -44.058670          0.000000      0.003505\n",
      "50%     -43.987187          0.000000      0.004148\n",
      "75%     -43.275043          0.000000      0.006350\n",
      "max     -36.484099          0.650431      0.238687\n",
      "Number of infeasible solution: 70\n"
     ]
    }
   ],
   "source": [
    "params, sols, objvals, conviols, elapseds = [], [], [], [], []\n",
    "for b in tqdm(data_test.datadict[\"b\"]):\n",
    "    # data point as tensor\n",
    "    datapoints = {\"b\": torch.unsqueeze(b, 0).to(\"cuda\"), \n",
    "                  \"name\": \"test\"}\n",
    "    # infer\n",
    "    components.eval()\n",
    "    tick = time.time()\n",
    "    with torch.no_grad():\n",
    "        for comp in components:\n",
    "            datapoints.update(comp(datapoints))\n",
    "    tock = time.time()\n",
    "    # assign params\n",
    "    model.set_param_val({\"b\":b.cpu().numpy()})\n",
    "    # assign vars\n",
    "    x = datapoints[\"x_rnd\"]\n",
    "    for i in range(num_var):\n",
    "        model.vars[\"x\"][i].value = x[0,i].item()\n",
    "    # get solutions\n",
    "    xval, objval = model.get_val()    \n",
    "    params.append(list(b.cpu().numpy()))\n",
    "    sols.append(list(list(xval.values())[0].values()))\n",
    "    objvals.append(objval)\n",
    "    conviols.append(sum(model.cal_violation()))\n",
    "    elapseds.append(tock - tick)\n",
    "df = pd.DataFrame({\"Param\":params, \"Sol\":sols, \"Obj Val\": objvals, \"Constraints Viol\": conviols, \"Elapsed Time\": elapseds})\n",
    "time.sleep(1)\n",
    "print(df.describe())\n",
    "print(\"Number of infeasible solution: {}\".format(np.sum(df[\"Constraints Viol\"] > 0)))\n",
    "df.to_csv(\"result/cq_lr_400-400.csv\")"
   ]
  },
  {
   "cell_type": "markdown",
   "id": "2dbf8a72-29b9-49c4-b3c1-0d68895c1c1f",
   "metadata": {},
   "source": [
    "## Learnable Threshold"
   ]
  },
  {
   "cell_type": "code",
   "execution_count": 12,
   "id": "36c57dbb-8dee-4976-8922-82a155fe0128",
   "metadata": {},
   "outputs": [],
   "source": [
    "# random seed\n",
    "np.random.seed(42)\n",
    "torch.manual_seed(42)\n",
    "torch.cuda.manual_seed(42)"
   ]
  },
  {
   "cell_type": "code",
   "execution_count": 13,
   "id": "d46b9817-87ac-4af0-b387-b10c9a4998f4",
   "metadata": {},
   "outputs": [],
   "source": [
    "# hyperparameters\n",
    "penalty_weight = 100  # weight of constraint violation penealty\n",
    "hlayers_sol = 5       # number of hidden layers for solution mapping\n",
    "hlayers_rnd = 4       # number of hidden layers for solution mapping\n",
    "hsize = 1024          # width of hidden layers for solution mapping\n",
    "lr = 1e-3             # learning rate"
   ]
  },
  {
   "cell_type": "code",
   "execution_count": 14,
   "id": "fa8b147f-39c8-4eb7-bb95-93dd8e4cb1cf",
   "metadata": {},
   "outputs": [],
   "source": [
    "# set problem\n",
    "import neuromancer as nm\n",
    "from src.problem import nmQuadratic\n",
    "from src.func.layer import netFC\n",
    "from src.func import roundThresholdModel\n",
    "# build neural architecture for the solution map\n",
    "func = nm.modules.blocks.MLP(insize=num_ineq, outsize=num_var, bias=True,\n",
    "                             linear_map=nm.slim.maps[\"linear\"],\n",
    "                             nonlin=nn.ReLU, hsizes=[hsize]*hlayers_sol)\n",
    "smap = nm.system.Node(func, [\"b\"], [\"x\"], name=\"smap\")\n",
    "# define rounding model\n",
    "layers_rnd = netFC(input_dim=num_ineq+num_var, hidden_dims=[hsize]*hlayers_rnd, output_dim=num_var)\n",
    "rnd = roundThresholdModel(layers=layers_rnd, param_keys=[\"b\"], var_keys=[\"x\"],  output_keys=[\"x_rnd\"], \n",
    "                       int_ind=model.int_ind, continuous_update=True, name=\"round\")\n",
    "# build neuromancer problem for rounding\n",
    "components = nn.ModuleList([smap, rnd]).to(\"cuda\")\n",
    "loss_fn = nmQuadratic([\"b\", \"x_rnd\"], num_var, num_ineq, penalty_weight)"
   ]
  },
  {
   "cell_type": "code",
   "execution_count": 15,
   "id": "c6f5bb17-8c3c-4dcd-952d-caa1d7c4c4fa",
   "metadata": {},
   "outputs": [
    {
     "name": "stdout",
     "output_type": "stream",
     "text": [
      "Epoch 0, Validation Loss: 10042.63\n",
      "Epoch 1, Validation Loss: 22.44\n",
      "Epoch 2, Validation Loss: 7.59\n",
      "Epoch 3, Validation Loss: -4.74\n",
      "Epoch 4, Validation Loss: -6.98\n",
      "Epoch 5, Validation Loss: -14.69\n",
      "Epoch 6, Validation Loss: -15.65\n",
      "Epoch 7, Validation Loss: -22.78\n",
      "Epoch 8, Validation Loss: -15.24\n",
      "Epoch 9, Validation Loss: -21.55\n",
      "Epoch 10, Validation Loss: -26.02\n",
      "Epoch 11, Validation Loss: -24.93\n",
      "Epoch 12, Validation Loss: -27.35\n",
      "Epoch 13, Validation Loss: -24.65\n",
      "Epoch 14, Validation Loss: -27.12\n",
      "Epoch 15, Validation Loss: -28.90\n",
      "Epoch 16, Validation Loss: -23.49\n",
      "Epoch 17, Validation Loss: -26.72\n",
      "Epoch 18, Validation Loss: -32.54\n",
      "Epoch 19, Validation Loss: -25.75\n",
      "Epoch 20, Validation Loss: -31.31\n",
      "Epoch 21, Validation Loss: -32.65\n",
      "Epoch 22, Validation Loss: -33.54\n",
      "Epoch 23, Validation Loss: -32.26\n",
      "Epoch 24, Validation Loss: -31.66\n",
      "Epoch 25, Validation Loss: -33.52\n",
      "Epoch 26, Validation Loss: -30.85\n",
      "Epoch 27, Validation Loss: -32.44\n",
      "Epoch 28, Validation Loss: -33.58\n",
      "Epoch 29, Validation Loss: -31.87\n",
      "Epoch 30, Validation Loss: -16.42\n",
      "Epoch 31, Validation Loss: -32.22\n",
      "Epoch 32, Validation Loss: -33.58\n",
      "Epoch 33, Validation Loss: -35.80\n",
      "Epoch 34, Validation Loss: -35.57\n",
      "Epoch 35, Validation Loss: -36.83\n",
      "Epoch 36, Validation Loss: -34.22\n",
      "Epoch 37, Validation Loss: -34.39\n",
      "Epoch 38, Validation Loss: -31.97\n",
      "Epoch 39, Validation Loss: -29.96\n",
      "Epoch 40, Validation Loss: -32.43\n",
      "Epoch 41, Validation Loss: -36.08\n",
      "Epoch 42, Validation Loss: -36.33\n",
      "Epoch 43, Validation Loss: -34.24\n",
      "Epoch 44, Validation Loss: -23.14\n",
      "Epoch 45, Validation Loss: -34.99\n",
      "Epoch 46, Validation Loss: -35.92\n",
      "Epoch 47, Validation Loss: -34.33\n",
      "Epoch 48, Validation Loss: -31.38\n",
      "Epoch 49, Validation Loss: -36.03\n",
      "Epoch 50, Validation Loss: -37.05\n",
      "Epoch 51, Validation Loss: -33.98\n",
      "Epoch 52, Validation Loss: -35.15\n",
      "Epoch 53, Validation Loss: -37.44\n",
      "Epoch 54, Validation Loss: -38.16\n",
      "Epoch 55, Validation Loss: -37.85\n",
      "Epoch 56, Validation Loss: -37.34\n",
      "Epoch 57, Validation Loss: -37.49\n",
      "Epoch 58, Validation Loss: -33.78\n",
      "Epoch 59, Validation Loss: -37.99\n",
      "Epoch 60, Validation Loss: -39.04\n",
      "Epoch 61, Validation Loss: -36.47\n",
      "Epoch 62, Validation Loss: -38.43\n",
      "Epoch 63, Validation Loss: -33.00\n",
      "Epoch 64, Validation Loss: -34.32\n",
      "Epoch 65, Validation Loss: -40.57\n",
      "Epoch 66, Validation Loss: -39.61\n",
      "Epoch 67, Validation Loss: -36.18\n",
      "Epoch 68, Validation Loss: -35.83\n",
      "Epoch 69, Validation Loss: -37.22\n",
      "Epoch 70, Validation Loss: -38.96\n",
      "Epoch 71, Validation Loss: -37.04\n",
      "Epoch 72, Validation Loss: -38.69\n",
      "Epoch 73, Validation Loss: -38.69\n",
      "Epoch 74, Validation Loss: -39.09\n",
      "Epoch 75, Validation Loss: -39.46\n",
      "Epoch 76, Validation Loss: -38.48\n",
      "Epoch 77, Validation Loss: -39.75\n",
      "Epoch 78, Validation Loss: -36.68\n",
      "Epoch 79, Validation Loss: -36.48\n",
      "Epoch 80, Validation Loss: -40.05\n",
      "Epoch 81, Validation Loss: -40.43\n",
      "Epoch 82, Validation Loss: -39.74\n",
      "Epoch 83, Validation Loss: -37.66\n",
      "Epoch 84, Validation Loss: -40.02\n",
      "Early stopping at epoch 84\n",
      "Best model loaded.\n",
      "Training complete.\n"
     ]
    }
   ],
   "source": [
    "from src.problem.neuromancer.trainer import trainer\n",
    "# training\n",
    "epochs = 200                    # number of training epochs\n",
    "warmup = 20                     # number of epochs to wait before enacting early stopping policy\n",
    "patience = 20                   # number of epochs with no improvement in eval metric to allow before early stopping\n",
    "optimizer = torch.optim.AdamW(components.parameters(), lr=lr)\n",
    "# create a trainer for the problem\n",
    "my_trainer = trainer(components, loss_fn, optimizer, epochs, patience, warmup, device=\"cuda\")\n",
    "# training for the rounding problem\n",
    "my_trainer.train(loader_train, loader_dev)"
   ]
  },
  {
   "cell_type": "code",
   "execution_count": 16,
   "id": "6584d57e-6b4c-4262-82f5-55735ef17cac",
   "metadata": {},
   "outputs": [
    {
     "name": "stderr",
     "output_type": "stream",
     "text": [
      "100%|██████████████████████████████████████████████████████████████████████████████| 1000/1000 [07:04<00:00,  2.36it/s]\n"
     ]
    },
    {
     "name": "stdout",
     "output_type": "stream",
     "text": [
      "           Obj Val  Constraints Viol  Elapsed Time\n",
      "count  1000.000000       1000.000000   1000.000000\n",
      "mean    -40.963376          0.002643      0.009383\n",
      "std       1.088787          0.020620      0.020447\n",
      "min     -41.572265          0.000000      0.001995\n",
      "25%     -41.238203          0.000000      0.003516\n",
      "50%     -41.172558          0.000000      0.004164\n",
      "75%     -41.130465          0.000000      0.006659\n",
      "max     -23.162191          0.377762      0.195910\n",
      "Number of infeasible solution: 34\n"
     ]
    }
   ],
   "source": [
    "params, sols, objvals, conviols, elapseds = [], [], [], [], []\n",
    "for b in tqdm(data_test.datadict[\"b\"]):\n",
    "    # data point as tensor\n",
    "    datapoints = {\"b\": torch.unsqueeze(b, 0).to(\"cuda\"), \n",
    "                  \"name\": \"test\"}\n",
    "    # infer\n",
    "    components.eval()\n",
    "    tick = time.time()\n",
    "    with torch.no_grad():\n",
    "        for comp in components:\n",
    "            datapoints.update(comp(datapoints))\n",
    "    tock = time.time()\n",
    "    # assign params\n",
    "    model.set_param_val({\"b\":b.cpu().numpy()})\n",
    "    # assign vars\n",
    "    x = datapoints[\"x_rnd\"]\n",
    "    for i in range(num_var):\n",
    "        model.vars[\"x\"][i].value = x[0,i].item()\n",
    "    # get solutions\n",
    "    xval, objval = model.get_val()    \n",
    "    params.append(list(b.cpu().numpy()))\n",
    "    sols.append(list(list(xval.values())[0].values()))\n",
    "    objvals.append(objval)\n",
    "    conviols.append(sum(model.cal_violation()))\n",
    "    elapseds.append(tock - tick)\n",
    "df = pd.DataFrame({\"Param\":params, \"Sol\":sols, \"Obj Val\": objvals, \"Constraints Viol\": conviols, \"Elapsed Time\": elapseds})\n",
    "time.sleep(1)\n",
    "print(df.describe())\n",
    "print(\"Number of infeasible solution: {}\".format(np.sum(df[\"Constraints Viol\"] > 0)))\n",
    "df.to_csv(\"result/cq_lt_400-400.csv\")"
   ]
  },
  {
   "cell_type": "code",
   "execution_count": null,
   "id": "382a0a8a-d846-4182-ab69-7d618edea9cf",
   "metadata": {},
   "outputs": [],
   "source": []
  }
 ],
 "metadata": {
  "kernelspec": {
   "display_name": "Python 3 (ipykernel)",
   "language": "python",
   "name": "python3"
  },
  "language_info": {
   "codemirror_mode": {
    "name": "ipython",
    "version": 3
   },
   "file_extension": ".py",
   "mimetype": "text/x-python",
   "name": "python",
   "nbconvert_exporter": "python",
   "pygments_lexer": "ipython3",
   "version": "3.10.13"
  }
 },
 "nbformat": 4,
 "nbformat_minor": 5
}
