{
 "cells": [
  {
   "cell_type": "code",
   "execution_count": 1,
   "id": "be61b914-e1af-43b9-9766-5092593f92dd",
   "metadata": {},
   "outputs": [],
   "source": [
    "import time\n",
    "\n",
    "import numpy as np\n",
    "import pandas as pd\n",
    "import torch\n",
    "from torch import nn\n",
    "from tqdm import tqdm\n",
    "\n",
    "# random seed\n",
    "np.random.seed(42)\n",
    "torch.manual_seed(42)\n",
    "torch.cuda.manual_seed(42)"
   ]
  },
  {
   "cell_type": "code",
   "execution_count": 2,
   "id": "35fe4527-9dbf-48f0-bfb3-62cda59092aa",
   "metadata": {},
   "outputs": [],
   "source": [
    "# turn off warning\n",
    "import logging\n",
    "logging.getLogger('pyomo.core').setLevel(logging.ERROR)"
   ]
  },
  {
   "cell_type": "markdown",
   "id": "c5560447-da9d-4cbe-aab4-538aa11c8ee8",
   "metadata": {},
   "source": [
    "## Problem Setting"
   ]
  },
  {
   "cell_type": "code",
   "execution_count": 3,
   "id": "52363c72-0d20-4c08-bd00-0f62aa73686c",
   "metadata": {},
   "outputs": [],
   "source": [
    "# init\n",
    "num_var = 500     # number of variables\n",
    "num_ineq = 500    # number of constraints\n",
    "num_data = 10000  # number of data\n",
    "test_size = 1000  # number of test size\n",
    "val_size = 1000   # number of validation size\n",
    "train_size = num_data - test_size - val_size"
   ]
  },
  {
   "cell_type": "code",
   "execution_count": 4,
   "id": "21938c00-d73f-4255-bc7c-bce6e8034cf8",
   "metadata": {},
   "outputs": [],
   "source": [
    "# data sample from uniform distribution\n",
    "b_samples = torch.from_numpy(np.random.uniform(-1, 1, size=(num_data, num_ineq))).float()\n",
    "data = {\"b\":b_samples}\n",
    "# data split\n",
    "from src.utlis import data_split\n",
    "data_train, data_test, data_dev = data_split(data, test_size=test_size, val_size=val_size)"
   ]
  },
  {
   "cell_type": "code",
   "execution_count": 5,
   "id": "5ecf81ff-627d-444d-8d90-121c7e20c217",
   "metadata": {},
   "outputs": [],
   "source": [
    "# torch dataloaders\n",
    "from torch.utils.data import DataLoader\n",
    "batch_size = 64\n",
    "loader_train = DataLoader(data_train, batch_size, num_workers=0, collate_fn=data_train.collate_fn, shuffle=True)\n",
    "loader_test = DataLoader(data_test, batch_size, num_workers=0, collate_fn=data_test.collate_fn, shuffle=False)\n",
    "loader_dev = DataLoader(data_dev, batch_size, num_workers=0, collate_fn=data_dev.collate_fn, shuffle=False)"
   ]
  },
  {
   "cell_type": "markdown",
   "id": "16ec0a67-54ea-4a9d-b037-0c7c9390e3f9",
   "metadata": {},
   "source": [
    "## Exact Solver"
   ]
  },
  {
   "cell_type": "code",
   "execution_count": 6,
   "id": "50aaabd7-90ed-4628-a1da-c98777868d92",
   "metadata": {},
   "outputs": [],
   "source": [
    "from src.problem import msQuadratic\n",
    "model = msQuadratic(num_var, num_ineq)"
   ]
  },
  {
   "cell_type": "markdown",
   "id": "cad38e16-1a87-4f11-92b4-b608f7f3ea11",
   "metadata": {},
   "source": [
    "## Heuristic - Round"
   ]
  },
  {
   "cell_type": "code",
   "execution_count": 7,
   "id": "03328361-3f39-461d-ac81-40c8c14717bb",
   "metadata": {},
   "outputs": [],
   "source": [
    "from src.heuristic import naive_round"
   ]
  },
  {
   "cell_type": "code",
   "execution_count": 8,
   "id": "2e57b62f-dfb4-4c87-b42e-e43b202ef96c",
   "metadata": {},
   "outputs": [
    {
     "name": "stderr",
     "output_type": "stream",
     "text": [
      "  0%|                                                                                         | 0/1000 [00:00<?, ?it/s]"
     ]
    },
    {
     "name": "stdout",
     "output_type": "stream",
     "text": [
      "ERROR: Unable to clone Pyomo component attribute. Component 'obj' contains an\n",
      "uncopyable field '_init_sense' (<class\n",
      "'pyomo.core.base.initializer.ConstantInitializer'>).  Setting field to `None`\n",
      "on new object\n"
     ]
    },
    {
     "name": "stderr",
     "output_type": "stream",
     "text": [
      " 16%|███████████▉                                                                 | 155/1000 [15:18<1:34:38,  6.72s/it]"
     ]
    },
    {
     "name": "stdout",
     "output_type": "stream",
     "text": [
      "ERROR: Unable to clone Pyomo component attribute. Component 'obj' contains an\n",
      "uncopyable field '_init_sense' (<class\n",
      "'pyomo.core.base.initializer.ConstantInitializer'>).  Setting field to `None`\n",
      "on new object\n"
     ]
    },
    {
     "name": "stderr",
     "output_type": "stream",
     "text": [
      " 18%|█████████████▌                                                               | 176/1000 [17:19<1:19:02,  5.76s/it]"
     ]
    },
    {
     "name": "stdout",
     "output_type": "stream",
     "text": [
      "ERROR: Unable to clone Pyomo component attribute. Component 'obj' contains an\n",
      "uncopyable field '_init_sense' (<class\n",
      "'pyomo.core.base.initializer.ConstantInitializer'>).  Setting field to `None`\n",
      "on new object\n"
     ]
    },
    {
     "name": "stderr",
     "output_type": "stream",
     "text": [
      " 34%|██████████████████████████                                                   | 338/1000 [33:03<1:09:12,  6.27s/it]"
     ]
    },
    {
     "name": "stdout",
     "output_type": "stream",
     "text": [
      "ERROR: Unable to clone Pyomo component attribute. Component 'obj' contains an\n",
      "uncopyable field '_init_sense' (<class\n",
      "'pyomo.core.base.initializer.ConstantInitializer'>).  Setting field to `None`\n",
      "on new object\n"
     ]
    },
    {
     "name": "stderr",
     "output_type": "stream",
     "text": [
      " 38%|█████████████████████████████▊                                                 | 377/1000 [36:51<58:35,  5.64s/it]"
     ]
    },
    {
     "name": "stdout",
     "output_type": "stream",
     "text": [
      "ERROR: Unable to clone Pyomo component attribute. Component 'obj' contains an\n",
      "uncopyable field '_init_sense' (<class\n",
      "'pyomo.core.base.initializer.ConstantInitializer'>).  Setting field to `None`\n",
      "on new object\n"
     ]
    },
    {
     "name": "stderr",
     "output_type": "stream",
     "text": [
      " 47%|████████████████████████████████████▊                                          | 466/1000 [45:48<55:16,  6.21s/it]"
     ]
    },
    {
     "name": "stdout",
     "output_type": "stream",
     "text": [
      "ERROR: Unable to clone Pyomo component attribute. Component 'OrderedScalarSet'\n",
      "contains an uncopyable field '_init_dimen' (<class\n",
      "'pyomo.core.base.initializer.ConstantInitializer'>).  Setting field to `None`\n",
      "on new object\n"
     ]
    },
    {
     "name": "stderr",
     "output_type": "stream",
     "text": [
      " 89%|████████████████████████████████████████████████████████████████████▊        | 893/1000 [1:28:11<10:20,  5.80s/it]"
     ]
    },
    {
     "name": "stdout",
     "output_type": "stream",
     "text": [
      "ERROR: Unable to clone Pyomo component attribute. Component 'obj' contains an\n",
      "uncopyable field '_init_sense' (<class\n",
      "'pyomo.core.base.initializer.ConstantInitializer'>).  Setting field to `None`\n",
      "on new object\n"
     ]
    },
    {
     "name": "stderr",
     "output_type": "stream",
     "text": [
      "100%|████████████████████████████████████████████████████████████████████████████| 1000/1000 [1:38:31<00:00,  5.91s/it]\n"
     ]
    },
    {
     "name": "stdout",
     "output_type": "stream",
     "text": [
      "           Obj Val  Constraints Viol  Elapsed Time\n",
      "count  1000.000000       1000.000000   1000.000000\n",
      "mean   -106.514718         66.072066      1.276911\n",
      "std       0.477966          5.158179      0.213347\n",
      "min    -108.255859         52.381631      1.068142\n",
      "25%    -106.823279         62.708049      1.124031\n",
      "50%    -106.520729         65.936749      1.165816\n",
      "75%    -106.202046         69.647282      1.384423\n",
      "max    -104.765442         86.801004      2.259209\n",
      "Number of infeasible solution: 1000\n"
     ]
    }
   ],
   "source": [
    "params, sols, objvals, conviols, elapseds = [], [], [], [], []\n",
    "for b in tqdm(data_test.datadict[\"b\"]):\n",
    "    # set params\n",
    "    model.set_param_val({\"b\":b.cpu().numpy()})\n",
    "    # relax\n",
    "    model_rel = model.relax()\n",
    "    # solve\n",
    "    tick = time.time()\n",
    "    xval_rel, _ = model_rel.solve(\"gurobi\")\n",
    "    xval, objval = naive_round(xval_rel, model)\n",
    "    tock = time.time()\n",
    "    # eval\n",
    "    params.append(list(b))\n",
    "    sols.append(list(list(xval.values())[0].values()))\n",
    "    objvals.append(objval)\n",
    "    conviols.append(sum(model.cal_violation()))\n",
    "    elapseds.append(tock - tick)\n",
    "df = pd.DataFrame({\"Param\":params, \"Sol\":sols, \"Obj Val\": objvals, \"Constraints Viol\": conviols, \"Elapsed Time\": elapseds})\n",
    "time.sleep(1)\n",
    "print(df.describe())\n",
    "print(\"Number of infeasible solution: {}\".format(np.sum(df[\"Constraints Viol\"] > 0)))\n",
    "df.to_csv(\"result/cq_heur_rnd_500-500.csv\")"
   ]
  },
  {
   "cell_type": "code",
   "execution_count": 7,
   "id": "97b785ab-0708-4759-a696-3ef5e8da7bd1",
   "metadata": {},
   "outputs": [
    {
     "name": "stdout",
     "output_type": "stream",
     "text": [
      "          Obj Val  Constraints Viol  Elapsed Time\n",
      "count  100.000000        100.000000    100.000000\n",
      "mean  -106.526320         65.849008      1.458994\n",
      "std      0.498114          5.384539      0.281285\n",
      "min   -107.598198         54.856843      1.073386\n",
      "25%   -106.903252         62.310163      1.177580\n",
      "50%   -106.536356         65.966554      1.493044\n",
      "75%   -106.184064         69.026879      1.655169\n",
      "max   -105.364271         81.729129      2.259209\n",
      "Number of infeasible solution: 100\n"
     ]
    }
   ],
   "source": [
    "df = pd.read_csv(\"result/cq_heur_rnd_500-500.csv\", index_col=0).iloc[:100]\n",
    "print(df.describe())\n",
    "print(\"Number of infeasible solution: {}\".format(np.sum(df[\"Constraints Viol\"] > 0)))"
   ]
  },
  {
   "cell_type": "markdown",
   "id": "9819c60c-df5f-41c6-ae83-888c75aa78d7",
   "metadata": {},
   "source": [
    "## Learnable Rounding"
   ]
  },
  {
   "cell_type": "code",
   "execution_count": 9,
   "id": "6a4fb3e2-9c47-4c10-8116-e94be18ea59c",
   "metadata": {},
   "outputs": [],
   "source": [
    "# random seed\n",
    "np.random.seed(42)\n",
    "torch.manual_seed(42)\n",
    "torch.cuda.manual_seed(42)"
   ]
  },
  {
   "cell_type": "code",
   "execution_count": 10,
   "id": "536d2d58-67ba-408a-b72a-7c5bd54a5ff4",
   "metadata": {},
   "outputs": [],
   "source": [
    "# hyperparameters\n",
    "penalty_weight = 100  # weight of constraint violation penealty\n",
    "hlayers_sol = 5       # number of hidden layers for solution mapping\n",
    "hlayers_rnd = 4       # number of hidden layers for solution mapping\n",
    "hsize = 1024          # width of hidden layers for solution mapping\n",
    "lr = 1e-3             # learning rate"
   ]
  },
  {
   "cell_type": "code",
   "execution_count": 11,
   "id": "fee1241e-e53a-4cbb-927a-edcdb3537303",
   "metadata": {},
   "outputs": [],
   "source": [
    "# set problem\n",
    "import neuromancer as nm\n",
    "from src.problem import nmQuadratic\n",
    "from src.func.layer import netFC\n",
    "from src.func import roundGumbelModel\n",
    "# build neural architecture for the solution map\n",
    "func = nm.modules.blocks.MLP(insize=num_ineq, outsize=num_var, bias=True,\n",
    "                             linear_map=nm.slim.maps[\"linear\"],\n",
    "                             nonlin=nn.ReLU, hsizes=[hsize]*hlayers_sol)\n",
    "smap = nm.system.Node(func, [\"b\"], [\"x\"], name=\"smap\")\n",
    "# define rounding model\n",
    "layers_rnd = netFC(input_dim=num_ineq+num_var, hidden_dims=[hsize]*hlayers_rnd, output_dim=num_var)\n",
    "rnd = roundGumbelModel(layers=layers_rnd, param_keys=[\"b\"], var_keys=[\"x\"],  output_keys=[\"x_rnd\"], \n",
    "                       int_ind=model.int_ind, continuous_update=True, name=\"round\")\n",
    "# build neuromancer problem for rounding\n",
    "components = nn.ModuleList([smap, rnd]).to(\"cuda\")\n",
    "loss_fn = nmQuadratic([\"b\", \"x_rnd\"], num_var, num_ineq, penalty_weight)"
   ]
  },
  {
   "cell_type": "code",
   "execution_count": 12,
   "id": "e4f10263-5f69-4288-a4e8-8be83929c8d6",
   "metadata": {},
   "outputs": [
    {
     "name": "stdout",
     "output_type": "stream",
     "text": [
      "Epoch 0, Validation Loss: 34831.11\n",
      "Epoch 1, Validation Loss: 31.45\n",
      "Epoch 2, Validation Loss: -2.14\n",
      "Epoch 3, Validation Loss: -15.80\n",
      "Epoch 4, Validation Loss: -26.56\n",
      "Epoch 5, Validation Loss: -34.21\n",
      "Epoch 6, Validation Loss: -40.77\n",
      "Epoch 7, Validation Loss: -42.90\n",
      "Epoch 8, Validation Loss: -34.05\n",
      "Epoch 9, Validation Loss: -46.91\n",
      "Epoch 10, Validation Loss: -43.30\n",
      "Epoch 11, Validation Loss: -47.84\n",
      "Epoch 12, Validation Loss: -49.80\n",
      "Epoch 13, Validation Loss: -54.40\n",
      "Epoch 14, Validation Loss: -52.03\n",
      "Epoch 15, Validation Loss: -51.60\n",
      "Epoch 16, Validation Loss: -54.75\n",
      "Epoch 17, Validation Loss: -54.21\n",
      "Epoch 18, Validation Loss: -57.02\n",
      "Epoch 19, Validation Loss: -57.37\n",
      "Epoch 20, Validation Loss: -57.39\n",
      "Epoch 21, Validation Loss: -56.11\n",
      "Epoch 22, Validation Loss: -58.45\n",
      "Epoch 23, Validation Loss: -47.94\n",
      "Epoch 24, Validation Loss: -56.49\n",
      "Epoch 25, Validation Loss: -60.88\n",
      "Epoch 26, Validation Loss: -60.82\n",
      "Epoch 27, Validation Loss: -58.35\n",
      "Epoch 28, Validation Loss: -61.94\n",
      "Epoch 29, Validation Loss: -62.40\n",
      "Epoch 30, Validation Loss: -62.34\n",
      "Epoch 31, Validation Loss: -62.61\n",
      "Epoch 32, Validation Loss: -62.20\n",
      "Epoch 33, Validation Loss: -61.47\n",
      "Epoch 34, Validation Loss: -64.90\n",
      "Epoch 35, Validation Loss: -60.90\n",
      "Epoch 36, Validation Loss: -56.29\n",
      "Epoch 37, Validation Loss: -61.41\n",
      "Epoch 38, Validation Loss: -64.79\n",
      "Epoch 39, Validation Loss: -65.08\n",
      "Epoch 40, Validation Loss: -62.30\n",
      "Epoch 41, Validation Loss: -66.86\n",
      "Epoch 42, Validation Loss: -67.28\n",
      "Epoch 43, Validation Loss: -62.84\n",
      "Epoch 44, Validation Loss: -61.25\n",
      "Epoch 45, Validation Loss: -63.40\n",
      "Epoch 46, Validation Loss: -65.88\n",
      "Epoch 47, Validation Loss: -64.02\n",
      "Epoch 48, Validation Loss: -63.63\n",
      "Epoch 49, Validation Loss: -64.65\n",
      "Epoch 50, Validation Loss: -61.21\n",
      "Epoch 51, Validation Loss: -67.93\n",
      "Epoch 52, Validation Loss: -65.51\n",
      "Epoch 53, Validation Loss: -55.75\n",
      "Epoch 54, Validation Loss: -60.80\n",
      "Epoch 55, Validation Loss: -68.88\n",
      "Epoch 56, Validation Loss: -63.21\n",
      "Epoch 57, Validation Loss: -59.94\n",
      "Epoch 58, Validation Loss: -66.35\n",
      "Epoch 59, Validation Loss: -64.79\n",
      "Epoch 60, Validation Loss: 76.13\n",
      "Epoch 61, Validation Loss: -61.40\n",
      "Epoch 62, Validation Loss: -34.49\n",
      "Epoch 63, Validation Loss: -67.51\n",
      "Epoch 64, Validation Loss: -69.05\n",
      "Epoch 65, Validation Loss: -64.89\n",
      "Epoch 66, Validation Loss: -67.41\n",
      "Epoch 67, Validation Loss: -66.60\n",
      "Epoch 68, Validation Loss: -66.14\n",
      "Epoch 69, Validation Loss: -68.17\n",
      "Epoch 70, Validation Loss: -70.10\n",
      "Epoch 71, Validation Loss: -11.81\n",
      "Epoch 72, Validation Loss: 152.57\n",
      "Epoch 73, Validation Loss: -64.19\n",
      "Epoch 74, Validation Loss: -62.92\n",
      "Epoch 75, Validation Loss: -69.20\n",
      "Epoch 76, Validation Loss: -68.95\n",
      "Epoch 77, Validation Loss: -67.72\n",
      "Epoch 78, Validation Loss: -68.31\n",
      "Epoch 79, Validation Loss: -62.42\n",
      "Epoch 80, Validation Loss: -31.17\n",
      "Epoch 81, Validation Loss: -62.73\n",
      "Epoch 82, Validation Loss: -69.34\n",
      "Epoch 83, Validation Loss: 273.06\n",
      "Epoch 84, Validation Loss: -61.12\n",
      "Epoch 85, Validation Loss: -70.55\n",
      "Epoch 86, Validation Loss: 705.62\n",
      "Epoch 87, Validation Loss: -67.83\n",
      "Epoch 88, Validation Loss: -71.01\n",
      "Epoch 89, Validation Loss: -70.17\n",
      "Epoch 90, Validation Loss: -67.71\n",
      "Epoch 91, Validation Loss: 389.74\n",
      "Epoch 92, Validation Loss: -71.55\n",
      "Epoch 93, Validation Loss: 449.87\n",
      "Epoch 94, Validation Loss: 578.92\n",
      "Epoch 95, Validation Loss: -69.81\n",
      "Epoch 96, Validation Loss: -70.72\n",
      "Epoch 97, Validation Loss: -62.27\n",
      "Epoch 98, Validation Loss: -69.99\n",
      "Epoch 99, Validation Loss: -69.60\n",
      "Epoch 100, Validation Loss: -69.19\n",
      "Epoch 101, Validation Loss: 112.35\n",
      "Epoch 102, Validation Loss: -66.43\n",
      "Epoch 103, Validation Loss: -66.77\n",
      "Epoch 104, Validation Loss: 395.39\n",
      "Epoch 105, Validation Loss: -67.03\n",
      "Epoch 106, Validation Loss: -69.85\n",
      "Epoch 107, Validation Loss: -72.31\n",
      "Epoch 108, Validation Loss: -71.11\n",
      "Epoch 109, Validation Loss: -70.95\n",
      "Epoch 110, Validation Loss: -72.95\n",
      "Epoch 111, Validation Loss: -68.35\n",
      "Epoch 112, Validation Loss: -71.02\n",
      "Epoch 113, Validation Loss: -70.45\n",
      "Epoch 114, Validation Loss: -69.87\n",
      "Epoch 115, Validation Loss: -61.80\n",
      "Epoch 116, Validation Loss: -72.36\n",
      "Epoch 117, Validation Loss: -72.57\n",
      "Epoch 118, Validation Loss: -73.08\n",
      "Epoch 119, Validation Loss: -71.67\n",
      "Epoch 120, Validation Loss: -68.85\n",
      "Epoch 121, Validation Loss: -58.58\n",
      "Epoch 122, Validation Loss: -71.39\n",
      "Epoch 123, Validation Loss: -72.07\n",
      "Epoch 124, Validation Loss: -68.09\n",
      "Epoch 125, Validation Loss: -37.09\n",
      "Epoch 126, Validation Loss: -70.00\n",
      "Epoch 127, Validation Loss: -71.15\n",
      "Epoch 128, Validation Loss: -71.54\n",
      "Epoch 129, Validation Loss: -70.27\n",
      "Epoch 130, Validation Loss: -46.07\n",
      "Epoch 131, Validation Loss: -69.93\n",
      "Epoch 132, Validation Loss: -68.90\n",
      "Epoch 133, Validation Loss: -60.08\n",
      "Epoch 134, Validation Loss: -72.41\n",
      "Epoch 135, Validation Loss: -19.96\n",
      "Epoch 136, Validation Loss: 410.48\n",
      "Epoch 137, Validation Loss: -72.72\n",
      "Early stopping at epoch 137\n",
      "Best model loaded.\n",
      "Training complete.\n"
     ]
    }
   ],
   "source": [
    "from src.problem.neuromancer.trainer import trainer\n",
    "# training\n",
    "epochs = 200                    # number of training epochs\n",
    "warmup = 20                     # number of epochs to wait before enacting early stopping policy\n",
    "patience = 20                   # number of epochs with no improvement in eval metric to allow before early stopping\n",
    "optimizer = torch.optim.AdamW(components.parameters(), lr=lr)\n",
    "# create a trainer for the problem\n",
    "my_trainer = trainer(components, loss_fn, optimizer, epochs, patience, warmup, device=\"cuda\")\n",
    "# training for the rounding problem\n",
    "my_trainer.train(loader_train, loader_dev)"
   ]
  },
  {
   "cell_type": "code",
   "execution_count": 13,
   "id": "3e835084-eb75-45d9-bcbd-5fb4c613fb41",
   "metadata": {},
   "outputs": [
    {
     "name": "stderr",
     "output_type": "stream",
     "text": [
      "100%|██████████████████████████████████████████████████████████████████████████████| 1000/1000 [11:33<00:00,  1.44it/s]\n"
     ]
    },
    {
     "name": "stdout",
     "output_type": "stream",
     "text": [
      "           Obj Val  Constraints Viol  Elapsed Time\n",
      "count  1000.000000       1000.000000   1000.000000\n",
      "mean    -73.656593          0.007516      0.011249\n",
      "std       0.588918          0.052571      0.025803\n",
      "min     -74.352417          0.000000      0.002002\n",
      "25%     -73.856827          0.000000      0.003652\n",
      "50%     -73.792507          0.000000      0.004562\n",
      "75%     -73.610165          0.000000      0.007214\n",
      "max     -67.608421          0.798371      0.256757\n",
      "Number of infeasible solution: 46\n"
     ]
    }
   ],
   "source": [
    "params, sols, objvals, conviols, elapseds = [], [], [], [], []\n",
    "for b in tqdm(data_test.datadict[\"b\"]):\n",
    "    # data point as tensor\n",
    "    datapoints = {\"b\": torch.unsqueeze(b, 0).to(\"cuda\"), \n",
    "                  \"name\": \"test\"}\n",
    "    # infer\n",
    "    components.eval()\n",
    "    tick = time.time()\n",
    "    with torch.no_grad():\n",
    "        for comp in components:\n",
    "            datapoints.update(comp(datapoints))\n",
    "    tock = time.time()\n",
    "    # assign params\n",
    "    model.set_param_val({\"b\":b.cpu().numpy()})\n",
    "    # assign vars\n",
    "    x = datapoints[\"x_rnd\"]\n",
    "    for i in range(num_var):\n",
    "        model.vars[\"x\"][i].value = x[0,i].item()\n",
    "    # get solutions\n",
    "    xval, objval = model.get_val()    \n",
    "    params.append(list(b.cpu().numpy()))\n",
    "    sols.append(list(list(xval.values())[0].values()))\n",
    "    objvals.append(objval)\n",
    "    conviols.append(sum(model.cal_violation()))\n",
    "    elapseds.append(tock - tick)\n",
    "df = pd.DataFrame({\"Param\":params, \"Sol\":sols, \"Obj Val\": objvals, \"Constraints Viol\": conviols, \"Elapsed Time\": elapseds})\n",
    "time.sleep(1)\n",
    "print(df.describe())\n",
    "print(\"Number of infeasible solution: {}\".format(np.sum(df[\"Constraints Viol\"] > 0)))\n",
    "df.to_csv(\"result/cq_lr_500-500.csv\")"
   ]
  },
  {
   "cell_type": "code",
   "execution_count": 8,
   "id": "b2e1bbe4-9236-439f-94ca-08d826980344",
   "metadata": {},
   "outputs": [
    {
     "name": "stdout",
     "output_type": "stream",
     "text": [
      "          Obj Val  Constraints Viol  Elapsed Time\n",
      "count  100.000000        100.000000    100.000000\n",
      "mean   -73.569562          0.012426      0.007417\n",
      "std      0.733295          0.070287      0.010656\n",
      "min    -74.352417          0.000000      0.002459\n",
      "25%    -73.837213          0.000000      0.003927\n",
      "50%    -73.761501          0.000000      0.004852\n",
      "75%    -73.591044          0.000000      0.006606\n",
      "max    -70.282717          0.643432      0.098346\n",
      "Number of infeasible solution: 8\n"
     ]
    }
   ],
   "source": [
    "df = pd.read_csv(\"result/cq_lr_500-500.csv\", index_col=0).iloc[:100]\n",
    "print(df.describe())\n",
    "print(\"Number of infeasible solution: {}\".format(np.sum(df[\"Constraints Viol\"] > 0)))"
   ]
  },
  {
   "cell_type": "markdown",
   "id": "2dbf8a72-29b9-49c4-b3c1-0d68895c1c1f",
   "metadata": {},
   "source": [
    "## Learnable Threshold"
   ]
  },
  {
   "cell_type": "code",
   "execution_count": 14,
   "id": "36c57dbb-8dee-4976-8922-82a155fe0128",
   "metadata": {},
   "outputs": [],
   "source": [
    "# random seed\n",
    "np.random.seed(42)\n",
    "torch.manual_seed(42)\n",
    "torch.cuda.manual_seed(42)"
   ]
  },
  {
   "cell_type": "code",
   "execution_count": 15,
   "id": "d46b9817-87ac-4af0-b387-b10c9a4998f4",
   "metadata": {},
   "outputs": [],
   "source": [
    "# hyperparameters\n",
    "penalty_weight = 100  # weight of constraint violation penealty\n",
    "hlayers_sol = 5       # number of hidden layers for solution mapping\n",
    "hlayers_rnd = 4       # number of hidden layers for solution mapping\n",
    "hsize = 1024          # width of hidden layers for solution mapping\n",
    "lr = 1e-3             # learning rate"
   ]
  },
  {
   "cell_type": "code",
   "execution_count": 16,
   "id": "fa8b147f-39c8-4eb7-bb95-93dd8e4cb1cf",
   "metadata": {},
   "outputs": [],
   "source": [
    "# set problem\n",
    "import neuromancer as nm\n",
    "from src.problem import nmQuadratic\n",
    "from src.func.layer import netFC\n",
    "from src.func import roundThresholdModel\n",
    "# build neural architecture for the solution map\n",
    "func = nm.modules.blocks.MLP(insize=num_ineq, outsize=num_var, bias=True,\n",
    "                             linear_map=nm.slim.maps[\"linear\"],\n",
    "                             nonlin=nn.ReLU, hsizes=[hsize]*hlayers_sol)\n",
    "smap = nm.system.Node(func, [\"b\"], [\"x\"], name=\"smap\")\n",
    "# define rounding model\n",
    "layers_rnd = netFC(input_dim=num_ineq+num_var, hidden_dims=[hsize]*hlayers_rnd, output_dim=num_var)\n",
    "rnd = roundThresholdModel(layers=layers_rnd, param_keys=[\"b\"], var_keys=[\"x\"],  output_keys=[\"x_rnd\"], \n",
    "                       int_ind=model.int_ind, continuous_update=True, name=\"round\")\n",
    "# build neuromancer problem for rounding\n",
    "components = nn.ModuleList([smap, rnd]).to(\"cuda\")\n",
    "loss_fn = nmQuadratic([\"b\", \"x_rnd\"], num_var, num_ineq, penalty_weight)"
   ]
  },
  {
   "cell_type": "code",
   "execution_count": 17,
   "id": "c6f5bb17-8c3c-4dcd-952d-caa1d7c4c4fa",
   "metadata": {},
   "outputs": [
    {
     "name": "stdout",
     "output_type": "stream",
     "text": [
      "Epoch 0, Validation Loss: 12499.07\n",
      "Epoch 1, Validation Loss: 23.34\n",
      "Epoch 2, Validation Loss: 5.01\n",
      "Epoch 3, Validation Loss: -13.72\n",
      "Epoch 4, Validation Loss: -25.57\n",
      "Epoch 5, Validation Loss: -34.12\n",
      "Epoch 6, Validation Loss: -34.23\n",
      "Epoch 7, Validation Loss: -40.39\n",
      "Epoch 8, Validation Loss: -45.40\n",
      "Epoch 9, Validation Loss: -45.98\n",
      "Epoch 10, Validation Loss: -38.56\n",
      "Epoch 11, Validation Loss: -49.05\n",
      "Epoch 12, Validation Loss: -51.56\n",
      "Epoch 13, Validation Loss: -48.03\n",
      "Epoch 14, Validation Loss: -51.90\n",
      "Epoch 15, Validation Loss: -55.42\n",
      "Epoch 16, Validation Loss: -53.27\n",
      "Epoch 17, Validation Loss: -58.66\n",
      "Epoch 18, Validation Loss: -58.44\n",
      "Epoch 19, Validation Loss: -57.09\n",
      "Epoch 20, Validation Loss: -52.19\n",
      "Epoch 21, Validation Loss: -57.58\n",
      "Epoch 22, Validation Loss: -58.68\n",
      "Epoch 23, Validation Loss: -57.29\n",
      "Epoch 24, Validation Loss: -43.66\n",
      "Epoch 25, Validation Loss: -59.77\n",
      "Epoch 26, Validation Loss: -59.96\n",
      "Epoch 27, Validation Loss: -61.38\n",
      "Epoch 28, Validation Loss: -61.83\n",
      "Epoch 29, Validation Loss: -62.75\n",
      "Epoch 30, Validation Loss: -59.50\n",
      "Epoch 31, Validation Loss: -63.58\n",
      "Epoch 32, Validation Loss: -58.65\n",
      "Epoch 33, Validation Loss: -59.27\n",
      "Epoch 34, Validation Loss: -60.32\n",
      "Epoch 35, Validation Loss: -63.89\n",
      "Epoch 36, Validation Loss: -63.30\n",
      "Epoch 37, Validation Loss: -46.70\n",
      "Epoch 38, Validation Loss: -65.15\n",
      "Epoch 39, Validation Loss: -58.22\n",
      "Epoch 40, Validation Loss: -65.98\n",
      "Epoch 41, Validation Loss: -64.11\n",
      "Epoch 42, Validation Loss: -65.09\n",
      "Epoch 43, Validation Loss: -65.06\n",
      "Epoch 44, Validation Loss: -61.93\n",
      "Epoch 45, Validation Loss: -60.84\n",
      "Epoch 46, Validation Loss: -65.16\n",
      "Epoch 47, Validation Loss: -62.84\n",
      "Epoch 48, Validation Loss: -65.54\n",
      "Epoch 49, Validation Loss: -64.95\n",
      "Epoch 50, Validation Loss: -62.71\n",
      "Epoch 51, Validation Loss: -67.93\n",
      "Epoch 52, Validation Loss: -66.21\n",
      "Epoch 53, Validation Loss: -68.42\n",
      "Epoch 54, Validation Loss: -66.57\n",
      "Epoch 55, Validation Loss: -63.08\n",
      "Epoch 56, Validation Loss: -67.12\n",
      "Epoch 57, Validation Loss: -66.42\n",
      "Epoch 58, Validation Loss: -64.57\n",
      "Epoch 59, Validation Loss: -64.52\n",
      "Epoch 60, Validation Loss: -62.68\n",
      "Epoch 61, Validation Loss: -66.12\n",
      "Epoch 62, Validation Loss: -69.62\n",
      "Epoch 63, Validation Loss: -67.75\n",
      "Epoch 64, Validation Loss: -67.54\n",
      "Epoch 65, Validation Loss: -66.97\n",
      "Epoch 66, Validation Loss: -68.56\n",
      "Epoch 67, Validation Loss: -67.73\n",
      "Epoch 68, Validation Loss: -57.52\n",
      "Epoch 69, Validation Loss: -67.27\n",
      "Epoch 70, Validation Loss: -66.86\n",
      "Epoch 71, Validation Loss: -69.47\n",
      "Epoch 72, Validation Loss: -68.11\n",
      "Epoch 73, Validation Loss: -69.76\n",
      "Epoch 74, Validation Loss: -70.99\n",
      "Epoch 75, Validation Loss: -68.86\n",
      "Epoch 76, Validation Loss: -71.26\n",
      "Epoch 77, Validation Loss: -57.96\n",
      "Epoch 78, Validation Loss: -69.07\n",
      "Epoch 79, Validation Loss: -68.94\n",
      "Epoch 80, Validation Loss: -69.13\n",
      "Epoch 81, Validation Loss: -69.67\n",
      "Epoch 82, Validation Loss: -68.52\n",
      "Epoch 83, Validation Loss: -67.62\n",
      "Epoch 84, Validation Loss: -69.59\n",
      "Epoch 85, Validation Loss: -69.66\n",
      "Epoch 86, Validation Loss: -70.74\n",
      "Epoch 87, Validation Loss: -71.59\n",
      "Epoch 88, Validation Loss: -69.62\n",
      "Epoch 89, Validation Loss: -67.91\n",
      "Epoch 90, Validation Loss: -72.38\n",
      "Epoch 91, Validation Loss: -72.27\n",
      "Epoch 92, Validation Loss: -70.84\n",
      "Epoch 93, Validation Loss: -70.35\n",
      "Epoch 94, Validation Loss: -70.32\n",
      "Epoch 95, Validation Loss: -71.76\n",
      "Epoch 96, Validation Loss: -71.62\n",
      "Epoch 97, Validation Loss: -61.79\n",
      "Epoch 98, Validation Loss: -69.37\n",
      "Epoch 99, Validation Loss: -68.11\n",
      "Epoch 100, Validation Loss: -69.31\n",
      "Epoch 101, Validation Loss: -71.42\n",
      "Epoch 102, Validation Loss: -69.92\n",
      "Epoch 103, Validation Loss: -63.76\n",
      "Epoch 104, Validation Loss: -71.54\n",
      "Epoch 105, Validation Loss: -70.43\n",
      "Epoch 106, Validation Loss: -70.21\n",
      "Epoch 107, Validation Loss: -63.72\n",
      "Epoch 108, Validation Loss: -67.26\n",
      "Epoch 109, Validation Loss: -69.76\n",
      "Early stopping at epoch 109\n",
      "Best model loaded.\n",
      "Training complete.\n"
     ]
    }
   ],
   "source": [
    "from src.problem.neuromancer.trainer import trainer\n",
    "# training\n",
    "epochs = 200                    # number of training epochs\n",
    "warmup = 20                     # number of epochs to wait before enacting early stopping policy\n",
    "patience = 20                   # number of epochs with no improvement in eval metric to allow before early stopping\n",
    "optimizer = torch.optim.AdamW(components.parameters(), lr=lr)\n",
    "# create a trainer for the problem\n",
    "my_trainer = trainer(components, loss_fn, optimizer, epochs, patience, warmup, device=\"cuda\")\n",
    "# training for the rounding problem\n",
    "my_trainer.train(loader_train, loader_dev)"
   ]
  },
  {
   "cell_type": "code",
   "execution_count": 18,
   "id": "6584d57e-6b4c-4262-82f5-55735ef17cac",
   "metadata": {},
   "outputs": [
    {
     "name": "stderr",
     "output_type": "stream",
     "text": [
      "100%|██████████████████████████████████████████████████████████████████████████████| 1000/1000 [11:29<00:00,  1.45it/s]\n"
     ]
    },
    {
     "name": "stdout",
     "output_type": "stream",
     "text": [
      "           Obj Val  Constraints Viol  Elapsed Time\n",
      "count  1000.000000       1000.000000   1000.000000\n",
      "mean    -73.476697          0.010866      0.010322\n",
      "std       0.385276          0.052991      0.023218\n",
      "min     -74.087269          0.000000      0.002002\n",
      "25%     -73.769244          0.000000      0.003704\n",
      "50%     -73.515358          0.000000      0.004543\n",
      "75%     -73.272909          0.000000      0.007407\n",
      "max     -70.817713          0.658992      0.225816\n",
      "Number of infeasible solution: 68\n"
     ]
    }
   ],
   "source": [
    "params, sols, objvals, conviols, elapseds = [], [], [], [], []\n",
    "for b in tqdm(data_test.datadict[\"b\"]):\n",
    "    # data point as tensor\n",
    "    datapoints = {\"b\": torch.unsqueeze(b, 0).to(\"cuda\"), \n",
    "                  \"name\": \"test\"}\n",
    "    # infer\n",
    "    components.eval()\n",
    "    tick = time.time()\n",
    "    with torch.no_grad():\n",
    "        for comp in components:\n",
    "            datapoints.update(comp(datapoints))\n",
    "    tock = time.time()\n",
    "    # assign params\n",
    "    model.set_param_val({\"b\":b.cpu().numpy()})\n",
    "    # assign vars\n",
    "    x = datapoints[\"x_rnd\"]\n",
    "    for i in range(num_var):\n",
    "        model.vars[\"x\"][i].value = x[0,i].item()\n",
    "    # get solutions\n",
    "    xval, objval = model.get_val()    \n",
    "    params.append(list(b.cpu().numpy()))\n",
    "    sols.append(list(list(xval.values())[0].values()))\n",
    "    objvals.append(objval)\n",
    "    conviols.append(sum(model.cal_violation()))\n",
    "    elapseds.append(tock - tick)\n",
    "df = pd.DataFrame({\"Param\":params, \"Sol\":sols, \"Obj Val\": objvals, \"Constraints Viol\": conviols, \"Elapsed Time\": elapseds})\n",
    "time.sleep(1)\n",
    "print(df.describe())\n",
    "print(\"Number of infeasible solution: {}\".format(np.sum(df[\"Constraints Viol\"] > 0)))\n",
    "df.to_csv(\"result/cq_lt_500-500.csv\")"
   ]
  },
  {
   "cell_type": "code",
   "execution_count": 9,
   "id": "f31512b5-5e37-4a57-97ca-3574e7463120",
   "metadata": {},
   "outputs": [
    {
     "name": "stdout",
     "output_type": "stream",
     "text": [
      "          Obj Val  Constraints Viol  Elapsed Time\n",
      "count  100.000000        100.000000    100.000000\n",
      "mean   -73.456509          0.017393      0.009755\n",
      "std      0.365448          0.063938      0.023271\n",
      "min    -74.013422          0.000000      0.002513\n",
      "25%    -73.758096          0.000000      0.003572\n",
      "50%    -73.413599          0.000000      0.004235\n",
      "75%    -73.232405          0.000000      0.007030\n",
      "max    -71.882978          0.332926      0.170428\n",
      "Number of infeasible solution: 8\n"
     ]
    }
   ],
   "source": [
    "df = pd.read_csv(\"result/cq_lt_500-500.csv\", index_col=0).iloc[:100]\n",
    "print(df.describe())\n",
    "print(\"Number of infeasible solution: {}\".format(np.sum(df[\"Constraints Viol\"] > 0)))"
   ]
  },
  {
   "cell_type": "markdown",
   "id": "2da2f709-fe66-4491-9caf-9bce534589c9",
   "metadata": {},
   "source": [
    "## Parametric Learning Then Rounding¶"
   ]
  },
  {
   "cell_type": "code",
   "execution_count": 10,
   "id": "382a0a8a-d846-4182-ab69-7d618edea9cf",
   "metadata": {},
   "outputs": [],
   "source": [
    "# random seed\n",
    "np.random.seed(42)\n",
    "torch.manual_seed(42)\n",
    "torch.cuda.manual_seed(42)"
   ]
  },
  {
   "cell_type": "code",
   "execution_count": 11,
   "id": "27cf9f4f-abe2-485a-aa7f-d89b40e3d31d",
   "metadata": {},
   "outputs": [],
   "source": [
    "# hyperparameters\n",
    "penalty_weight = 100  # weight of constraint violation penealty\n",
    "hlayers_sol = 5       # number of hidden layers for solution mapping\n",
    "hsize = 1024          # width of hidden layers for solution mapping\n",
    "lr = 1e-3             # learning rate"
   ]
  },
  {
   "cell_type": "code",
   "execution_count": 12,
   "id": "73247704-f4ab-46ee-8ed0-c4bf57561121",
   "metadata": {},
   "outputs": [],
   "source": [
    "# set problem\n",
    "import neuromancer as nm\n",
    "from src.problem import nmQuadratic\n",
    "from src.func.layer import netFC\n",
    "# build neural architecture for the solution map\n",
    "func = nm.modules.blocks.MLP(insize=num_ineq, outsize=num_var, bias=True,\n",
    "                             linear_map=nm.slim.maps[\"linear\"],\n",
    "                             nonlin=nn.ReLU, hsizes=[hsize]*hlayers_sol)\n",
    "smap = nm.system.Node(func, [\"b\"], [\"x\"], name=\"smap\")\n",
    "# build neuromancer problem for rounding\n",
    "components = nn.ModuleList([smap]).to(\"cuda\")\n",
    "loss_fn = nmQuadratic([\"b\", \"x\"], num_var, num_ineq, penalty_weight)"
   ]
  },
  {
   "cell_type": "code",
   "execution_count": 13,
   "id": "e8567702-deda-449f-87fb-1adee01fbb70",
   "metadata": {},
   "outputs": [
    {
     "name": "stdout",
     "output_type": "stream",
     "text": [
      "Epoch 0, Validation Loss: 12553.04\n",
      "Epoch 1, Validation Loss: -1.33\n",
      "Epoch 2, Validation Loss: -16.12\n",
      "Epoch 3, Validation Loss: -29.17\n",
      "Epoch 4, Validation Loss: -37.21\n",
      "Epoch 5, Validation Loss: -43.48\n",
      "Epoch 6, Validation Loss: -47.20\n",
      "Epoch 7, Validation Loss: -50.64\n",
      "Epoch 8, Validation Loss: -53.48\n",
      "Epoch 9, Validation Loss: -56.61\n",
      "Epoch 10, Validation Loss: -61.43\n",
      "Epoch 11, Validation Loss: -61.15\n",
      "Epoch 12, Validation Loss: -63.67\n",
      "Epoch 13, Validation Loss: -65.55\n",
      "Epoch 14, Validation Loss: -65.49\n",
      "Epoch 15, Validation Loss: -67.17\n",
      "Epoch 16, Validation Loss: -66.86\n",
      "Epoch 17, Validation Loss: -69.99\n",
      "Epoch 18, Validation Loss: -69.55\n",
      "Epoch 19, Validation Loss: -70.48\n",
      "Epoch 20, Validation Loss: -68.71\n",
      "Epoch 21, Validation Loss: -70.86\n",
      "Epoch 22, Validation Loss: -72.14\n",
      "Epoch 23, Validation Loss: -73.24\n",
      "Epoch 24, Validation Loss: -70.37\n",
      "Epoch 25, Validation Loss: -74.17\n",
      "Epoch 26, Validation Loss: -74.73\n",
      "Epoch 27, Validation Loss: -75.11\n",
      "Epoch 28, Validation Loss: -77.63\n",
      "Epoch 29, Validation Loss: -76.13\n",
      "Epoch 30, Validation Loss: -76.07\n",
      "Epoch 31, Validation Loss: -77.82\n",
      "Epoch 32, Validation Loss: -77.41\n",
      "Epoch 33, Validation Loss: -78.04\n",
      "Epoch 34, Validation Loss: -77.15\n",
      "Epoch 35, Validation Loss: -78.53\n",
      "Epoch 36, Validation Loss: -77.14\n",
      "Epoch 37, Validation Loss: -77.53\n",
      "Epoch 38, Validation Loss: -79.82\n",
      "Epoch 39, Validation Loss: -78.12\n",
      "Epoch 40, Validation Loss: -77.84\n",
      "Epoch 41, Validation Loss: -79.90\n",
      "Epoch 42, Validation Loss: -80.48\n",
      "Epoch 43, Validation Loss: -79.86\n",
      "Epoch 44, Validation Loss: -80.28\n",
      "Epoch 45, Validation Loss: -80.36\n",
      "Epoch 46, Validation Loss: -81.36\n",
      "Epoch 47, Validation Loss: -81.40\n",
      "Epoch 48, Validation Loss: -79.91\n",
      "Epoch 49, Validation Loss: -81.63\n",
      "Epoch 50, Validation Loss: -80.51\n",
      "Epoch 51, Validation Loss: -79.49\n",
      "Epoch 52, Validation Loss: -82.40\n",
      "Epoch 53, Validation Loss: -82.25\n",
      "Epoch 54, Validation Loss: -82.08\n",
      "Epoch 55, Validation Loss: -82.51\n",
      "Epoch 56, Validation Loss: -82.33\n",
      "Epoch 57, Validation Loss: -83.32\n",
      "Epoch 58, Validation Loss: -82.00\n",
      "Epoch 59, Validation Loss: -82.32\n",
      "Epoch 60, Validation Loss: -81.71\n",
      "Epoch 61, Validation Loss: -82.55\n",
      "Epoch 62, Validation Loss: -83.13\n",
      "Epoch 63, Validation Loss: -83.01\n",
      "Epoch 64, Validation Loss: -81.36\n",
      "Epoch 65, Validation Loss: -83.67\n",
      "Epoch 66, Validation Loss: -83.93\n",
      "Epoch 67, Validation Loss: -83.64\n",
      "Epoch 68, Validation Loss: -84.00\n",
      "Epoch 69, Validation Loss: -83.56\n",
      "Epoch 70, Validation Loss: -83.40\n",
      "Epoch 71, Validation Loss: -83.65\n",
      "Epoch 72, Validation Loss: -84.06\n",
      "Epoch 73, Validation Loss: -84.47\n",
      "Epoch 74, Validation Loss: -84.72\n",
      "Epoch 75, Validation Loss: -84.05\n",
      "Epoch 76, Validation Loss: -84.23\n",
      "Epoch 77, Validation Loss: -84.39\n",
      "Epoch 78, Validation Loss: -84.28\n",
      "Epoch 79, Validation Loss: -84.29\n",
      "Epoch 80, Validation Loss: -84.82\n",
      "Epoch 81, Validation Loss: -85.64\n",
      "Epoch 82, Validation Loss: -84.85\n",
      "Epoch 83, Validation Loss: -85.73\n",
      "Epoch 84, Validation Loss: -84.13\n",
      "Epoch 85, Validation Loss: -85.27\n",
      "Epoch 86, Validation Loss: -84.69\n",
      "Epoch 87, Validation Loss: -85.28\n",
      "Epoch 88, Validation Loss: -85.39\n",
      "Epoch 89, Validation Loss: -85.21\n",
      "Epoch 90, Validation Loss: -85.34\n",
      "Epoch 91, Validation Loss: -85.92\n",
      "Epoch 92, Validation Loss: -85.28\n",
      "Epoch 93, Validation Loss: -86.14\n",
      "Epoch 94, Validation Loss: -85.99\n",
      "Epoch 95, Validation Loss: -86.73\n",
      "Epoch 96, Validation Loss: -85.18\n",
      "Epoch 97, Validation Loss: -86.63\n",
      "Epoch 98, Validation Loss: -85.94\n",
      "Epoch 99, Validation Loss: -86.03\n",
      "Epoch 100, Validation Loss: -85.33\n",
      "Epoch 101, Validation Loss: -86.13\n",
      "Epoch 102, Validation Loss: -86.05\n",
      "Epoch 103, Validation Loss: -86.77\n",
      "Epoch 104, Validation Loss: -86.04\n",
      "Epoch 105, Validation Loss: -85.71\n",
      "Epoch 106, Validation Loss: -87.45\n",
      "Epoch 107, Validation Loss: -86.65\n",
      "Epoch 108, Validation Loss: -87.07\n",
      "Epoch 109, Validation Loss: -86.30\n",
      "Epoch 110, Validation Loss: -86.10\n",
      "Epoch 111, Validation Loss: -86.12\n",
      "Epoch 112, Validation Loss: -87.15\n",
      "Epoch 113, Validation Loss: -87.70\n",
      "Epoch 114, Validation Loss: -87.72\n",
      "Epoch 115, Validation Loss: -87.65\n",
      "Epoch 116, Validation Loss: -87.30\n",
      "Epoch 117, Validation Loss: -87.79\n",
      "Epoch 118, Validation Loss: -87.74\n",
      "Epoch 119, Validation Loss: -87.05\n",
      "Epoch 120, Validation Loss: -87.08\n",
      "Epoch 121, Validation Loss: -87.80\n",
      "Epoch 122, Validation Loss: -87.59\n",
      "Epoch 123, Validation Loss: -87.43\n",
      "Epoch 124, Validation Loss: -88.03\n",
      "Epoch 125, Validation Loss: -87.61\n",
      "Epoch 126, Validation Loss: -86.77\n",
      "Epoch 127, Validation Loss: -88.14\n",
      "Epoch 128, Validation Loss: -88.35\n",
      "Epoch 129, Validation Loss: -87.93\n",
      "Epoch 130, Validation Loss: -87.54\n",
      "Epoch 131, Validation Loss: -86.97\n",
      "Epoch 132, Validation Loss: -87.91\n",
      "Epoch 133, Validation Loss: -88.24\n",
      "Epoch 134, Validation Loss: -88.12\n",
      "Epoch 135, Validation Loss: -87.99\n",
      "Epoch 136, Validation Loss: -87.62\n",
      "Epoch 137, Validation Loss: -88.10\n",
      "Epoch 138, Validation Loss: -87.58\n",
      "Epoch 139, Validation Loss: -87.74\n",
      "Epoch 140, Validation Loss: -88.75\n",
      "Epoch 141, Validation Loss: -86.71\n",
      "Epoch 142, Validation Loss: -88.25\n",
      "Epoch 143, Validation Loss: -87.91\n",
      "Epoch 144, Validation Loss: -88.01\n",
      "Epoch 145, Validation Loss: -87.91\n",
      "Epoch 146, Validation Loss: -87.94\n",
      "Epoch 147, Validation Loss: -87.88\n",
      "Epoch 148, Validation Loss: -88.26\n",
      "Epoch 149, Validation Loss: -88.20\n",
      "Epoch 150, Validation Loss: -86.42\n",
      "Epoch 151, Validation Loss: -87.88\n",
      "Epoch 152, Validation Loss: -88.22\n",
      "Epoch 153, Validation Loss: -88.73\n",
      "Epoch 154, Validation Loss: -88.35\n",
      "Epoch 155, Validation Loss: -88.55\n",
      "Epoch 156, Validation Loss: -88.71\n",
      "Epoch 157, Validation Loss: -87.90\n",
      "Epoch 158, Validation Loss: -88.97\n",
      "Epoch 159, Validation Loss: -88.76\n",
      "Epoch 160, Validation Loss: -89.28\n",
      "Epoch 161, Validation Loss: -88.86\n",
      "Epoch 162, Validation Loss: -88.31\n",
      "Epoch 163, Validation Loss: -89.32\n",
      "Epoch 164, Validation Loss: -88.23\n",
      "Epoch 165, Validation Loss: -88.87\n",
      "Epoch 166, Validation Loss: -89.97\n",
      "Epoch 167, Validation Loss: -88.20\n",
      "Epoch 168, Validation Loss: -88.75\n",
      "Epoch 169, Validation Loss: -87.95\n",
      "Epoch 170, Validation Loss: -88.61\n",
      "Epoch 171, Validation Loss: -87.63\n",
      "Epoch 172, Validation Loss: -89.05\n",
      "Epoch 173, Validation Loss: -88.93\n",
      "Epoch 174, Validation Loss: -88.41\n",
      "Epoch 175, Validation Loss: -88.58\n",
      "Epoch 176, Validation Loss: -88.95\n",
      "Epoch 177, Validation Loss: -88.68\n",
      "Epoch 178, Validation Loss: -88.78\n",
      "Epoch 179, Validation Loss: -88.72\n",
      "Epoch 180, Validation Loss: -89.17\n",
      "Epoch 181, Validation Loss: -88.57\n",
      "Epoch 182, Validation Loss: -88.54\n",
      "Epoch 183, Validation Loss: -89.62\n",
      "Epoch 184, Validation Loss: -89.58\n",
      "Epoch 185, Validation Loss: -89.08\n",
      "Early stopping at epoch 185\n",
      "Best model loaded.\n",
      "Training complete.\n"
     ]
    }
   ],
   "source": [
    "from src.problem.neuromancer.trainer import trainer\n",
    "# training\n",
    "epochs = 200                    # number of training epochs\n",
    "warmup = 20                     # number of epochs to wait before enacting early stopping policy\n",
    "patience = 20                   # number of epochs with no improvement in eval metric to allow before early stopping\n",
    "optimizer = torch.optim.AdamW(components.parameters(), lr=lr)\n",
    "# create a trainer for the problem\n",
    "my_trainer = trainer(components, loss_fn, optimizer, epochs, patience, warmup, device=\"cuda\")\n",
    "# training for the rounding problem\n",
    "my_trainer.train(loader_train, loader_dev)"
   ]
  },
  {
   "cell_type": "code",
   "execution_count": 15,
   "id": "85567b20-13eb-4c80-9077-bb4a617627e3",
   "metadata": {},
   "outputs": [
    {
     "name": "stderr",
     "output_type": "stream",
     "text": [
      "100%|██████████████████████████████████████████████████████████████████████████████| 1000/1000 [11:11<00:00,  1.49it/s]\n"
     ]
    },
    {
     "name": "stdout",
     "output_type": "stream",
     "text": [
      "           Obj Val  Constraints Viol  Elapsed Time\n",
      "count  1000.000000       1000.000000   1000.000000\n",
      "mean    -90.205391          4.366663      0.000813\n",
      "std       0.001680          1.280261      0.000504\n",
      "min     -90.258474          0.739293      0.000000\n",
      "25%     -90.205338          3.510456      0.000505\n",
      "50%     -90.205338          4.275835      0.001000\n",
      "75%     -90.205338          5.230381      0.001009\n",
      "max     -90.205338          8.286500      0.002515\n",
      "Number of infeasible solution: 1000\n"
     ]
    }
   ],
   "source": [
    "from src.heuristic import naive_round\n",
    "params, sols, objvals, conviols, elapseds = [], [], [], [], []\n",
    "for b in tqdm(data_test.datadict[\"b\"]):\n",
    "    # data point as tensor\n",
    "    datapoints = {\"b\": torch.unsqueeze(b, 0).to(\"cuda\"), \n",
    "                  \"name\": \"test\"}\n",
    "    # infer\n",
    "    components.eval()\n",
    "    tick = time.time()\n",
    "    with torch.no_grad():\n",
    "        for comp in components:\n",
    "            datapoints.update(comp(datapoints))\n",
    "    tock = time.time()\n",
    "    # assign params\n",
    "    model.set_param_val({\"b\":b.cpu().numpy()})\n",
    "    # assign vars\n",
    "    x = datapoints[\"x\"]\n",
    "    for i in range(num_var):\n",
    "        model.vars[\"x\"][i].value = x[0,i].item()\n",
    "    # get solutions\n",
    "    xval_rel, _ = model.get_val()\n",
    "    xval, objval = naive_round(xval_rel, model)\n",
    "    params.append(list(b.cpu().numpy()))\n",
    "    sols.append(list(list(xval.values())[0].values()))\n",
    "    objvals.append(objval)\n",
    "    conviols.append(sum(model.cal_violation()))\n",
    "    elapseds.append(tock - tick)\n",
    "df = pd.DataFrame({\"Param\":params, \"Sol\":sols, \"Obj Val\": objvals, \"Constraints Viol\": conviols, \"Elapsed Time\": elapseds})\n",
    "time.sleep(1)\n",
    "print(df.describe())\n",
    "print(\"Number of infeasible solution: {}\".format(np.sum(df[\"Constraints Viol\"] > 0)))\n",
    "df.to_csv(\"result/cq_pr_500-500.csv\")"
   ]
  },
  {
   "cell_type": "code",
   "execution_count": 16,
   "id": "d19d1eb8-a009-4981-8c98-13b0e3d2157d",
   "metadata": {},
   "outputs": [
    {
     "name": "stdout",
     "output_type": "stream",
     "text": [
      "            Obj Val  Constraints Viol  Elapsed Time\n",
      "count  1.000000e+02        100.000000    100.000000\n",
      "mean  -9.020534e+01          4.344916      0.000843\n",
      "std    1.285420e-13          1.152884      0.000493\n",
      "min   -9.020534e+01          1.866629      0.000000\n",
      "25%   -9.020534e+01          3.649780      0.000858\n",
      "50%   -9.020534e+01          4.132823      0.001000\n",
      "75%   -9.020534e+01          5.084770      0.001013\n",
      "max   -9.020534e+01          8.286500      0.001869\n",
      "Number of infeasible solution: 100\n"
     ]
    }
   ],
   "source": [
    "df = pd.read_csv(\"result/cq_pr_500-500.csv\", index_col=0).iloc[:100]\n",
    "print(df.describe())\n",
    "print(\"Number of infeasible solution: {}\".format(np.sum(df[\"Constraints Viol\"] > 0)))"
   ]
  },
  {
   "cell_type": "code",
   "execution_count": null,
   "id": "b853a2f9-dc1c-4a09-b247-c44bd39a93fc",
   "metadata": {},
   "outputs": [],
   "source": []
  }
 ],
 "metadata": {
  "kernelspec": {
   "display_name": "Python 3 (ipykernel)",
   "language": "python",
   "name": "python3"
  },
  "language_info": {
   "codemirror_mode": {
    "name": "ipython",
    "version": 3
   },
   "file_extension": ".py",
   "mimetype": "text/x-python",
   "name": "python",
   "nbconvert_exporter": "python",
   "pygments_lexer": "ipython3",
   "version": "3.10.13"
  }
 },
 "nbformat": 4,
 "nbformat_minor": 5
}
