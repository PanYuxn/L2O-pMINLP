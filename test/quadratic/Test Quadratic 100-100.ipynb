{
 "cells": [
  {
   "cell_type": "code",
   "execution_count": 1,
   "id": "be61b914-e1af-43b9-9766-5092593f92dd",
   "metadata": {},
   "outputs": [],
   "source": [
    "import time\n",
    "\n",
    "import numpy as np\n",
    "import pandas as pd\n",
    "import torch\n",
    "from torch import nn\n",
    "from tqdm import tqdm\n",
    "\n",
    "# random seed\n",
    "np.random.seed(42)\n",
    "torch.manual_seed(42)\n",
    "torch.cuda.manual_seed(42)"
   ]
  },
  {
   "cell_type": "code",
   "execution_count": 2,
   "id": "35fe4527-9dbf-48f0-bfb3-62cda59092aa",
   "metadata": {},
   "outputs": [],
   "source": [
    "# turn off warning\n",
    "import logging\n",
    "logging.getLogger('pyomo.core').setLevel(logging.ERROR)"
   ]
  },
  {
   "cell_type": "markdown",
   "id": "c5560447-da9d-4cbe-aab4-538aa11c8ee8",
   "metadata": {},
   "source": [
    "## Problem Setting"
   ]
  },
  {
   "cell_type": "code",
   "execution_count": 3,
   "id": "52363c72-0d20-4c08-bd00-0f62aa73686c",
   "metadata": {},
   "outputs": [],
   "source": [
    "# init\n",
    "num_var = 100     # number of variables\n",
    "num_ineq = 100    # number of constraints\n",
    "num_data = 10000  # number of data\n",
    "test_size = 1000  # number of test size\n",
    "val_size = 1000   # number of validation size\n",
    "train_size = num_data - test_size - val_size"
   ]
  },
  {
   "cell_type": "code",
   "execution_count": 4,
   "id": "21938c00-d73f-4255-bc7c-bce6e8034cf8",
   "metadata": {},
   "outputs": [],
   "source": [
    "# data sample from uniform distribution\n",
    "b_samples = torch.from_numpy(np.random.uniform(-1, 1, size=(num_data, num_ineq))).float()\n",
    "data = {\"b\":b_samples}\n",
    "# data split\n",
    "from src.utlis import data_split\n",
    "data_train, data_test, data_dev = data_split(data, test_size=test_size, val_size=val_size)"
   ]
  },
  {
   "cell_type": "code",
   "execution_count": 5,
   "id": "5ecf81ff-627d-444d-8d90-121c7e20c217",
   "metadata": {},
   "outputs": [],
   "source": [
    "# torch dataloaders\n",
    "from torch.utils.data import DataLoader\n",
    "batch_size = 64\n",
    "loader_train = DataLoader(data_train, batch_size, num_workers=0, collate_fn=data_train.collate_fn, shuffle=True)\n",
    "loader_test = DataLoader(data_test, batch_size, num_workers=0, collate_fn=data_test.collate_fn, shuffle=False)\n",
    "loader_dev = DataLoader(data_dev, batch_size, num_workers=0, collate_fn=data_dev.collate_fn, shuffle=False)"
   ]
  },
  {
   "cell_type": "markdown",
   "id": "16ec0a67-54ea-4a9d-b037-0c7c9390e3f9",
   "metadata": {},
   "source": [
    "## Exact Solver"
   ]
  },
  {
   "cell_type": "code",
   "execution_count": 6,
   "id": "50aaabd7-90ed-4628-a1da-c98777868d92",
   "metadata": {},
   "outputs": [],
   "source": [
    "from src.problem import msQuadratic\n",
    "model = msQuadratic(num_var, num_ineq)"
   ]
  },
  {
   "cell_type": "code",
   "execution_count": null,
   "id": "f0c0c716-86d0-4c76-8023-ebedccb67b41",
   "metadata": {},
   "outputs": [
    {
     "name": "stderr",
     "output_type": "stream",
     "text": [
      "  0%|                                                                                          | 0/100 [00:00<?, ?it/s]"
     ]
    }
   ],
   "source": [
    "params, sols, objvals, conviols, elapseds = [], [], [], [], []\n",
    "for b in tqdm(data_test.datadict[\"b\"][:100]):\n",
    "    # set params\n",
    "    model.set_param_val({\"b\":b.cpu().numpy()})\n",
    "    # solve\n",
    "    tick = time.time()\n",
    "    try:\n",
    "        xval, objval = model.solve(\"gurobi\")\n",
    "        # eval\n",
    "        params.append(list(b))\n",
    "        sols.append(list(list(xval.values())[0].values()))\n",
    "        objvals.append(objval)\n",
    "        conviols.append(sum(model.cal_violation()))\n",
    "    except:\n",
    "        params.append(list(b))\n",
    "        sols.append(None)\n",
    "        objvals.append(None)\n",
    "        conviols.append(None)\n",
    "    tock = time.time()\n",
    "    elapseds.append(tock - tick)\n",
    "df = pd.DataFrame({\"Param\":params, \"Sol\":sols, \"Obj Val\": objvals, \"Constraints Viol\": conviols, \"Elapsed Time\": elapseds})\n",
    "time.sleep(1)\n",
    "print(df.describe())\n",
    "print(\"Number of infeasible solution: {}\".format(np.sum(df[\"Constraints Viol\"] > 0)))\n",
    "df.to_csv(\"result/cq_exact_100-100.csv\")\n",
    "print(\"Number of None values: \", df[\"Sol\"].isna().sum())"
   ]
  },
  {
   "cell_type": "markdown",
   "id": "cad38e16-1a87-4f11-92b4-b608f7f3ea11",
   "metadata": {},
   "source": [
    "## Heuristic - Round"
   ]
  },
  {
   "cell_type": "code",
   "execution_count": 7,
   "id": "03328361-3f39-461d-ac81-40c8c14717bb",
   "metadata": {},
   "outputs": [],
   "source": [
    "from src.heuristic import naive_round"
   ]
  },
  {
   "cell_type": "code",
   "execution_count": 8,
   "id": "2e57b62f-dfb4-4c87-b42e-e43b202ef96c",
   "metadata": {},
   "outputs": [
    {
     "name": "stderr",
     "output_type": "stream",
     "text": [
      "100%|██████████████████████████████████████████████████████████████████████████████| 1000/1000 [06:23<00:00,  2.60it/s]\n"
     ]
    },
    {
     "name": "stdout",
     "output_type": "stream",
     "text": [
      "           Obj Val  Constraints Viol  Elapsed Time\n",
      "count  1000.000000       1000.000000   1000.000000\n",
      "mean    -21.886359          5.596299      0.173362\n",
      "std       0.462866          1.133289      0.011438\n",
      "min     -23.293625          2.305694      0.157268\n",
      "25%     -22.198093          4.785628      0.166839\n",
      "50%     -21.885911          5.557468      0.170520\n",
      "75%     -21.562072          6.319377      0.176169\n",
      "max     -20.401462          9.460674      0.245447\n",
      "Number of infeasible solution: 1000\n"
     ]
    }
   ],
   "source": [
    "params, sols, objvals, conviols, elapseds = [], [], [], [], []\n",
    "for b in tqdm(data_test.datadict[\"b\"][:100]):\n",
    "    # set params\n",
    "    model.set_param_val({\"b\":b.cpu().numpy()})\n",
    "    # relax\n",
    "    model_rel = model.relax()\n",
    "    # solve\n",
    "    tick = time.time()\n",
    "    xval_rel, _ = model_rel.solve(\"gurobi\")\n",
    "    xval, objval = naive_round(xval_rel, model)\n",
    "    tock = time.time()\n",
    "    # eval\n",
    "    params.append(list(b))\n",
    "    sols.append(list(list(xval.values())[0].values()))\n",
    "    objvals.append(objval)\n",
    "    conviols.append(sum(model.cal_violation()))\n",
    "    elapseds.append(tock - tick)\n",
    "df = pd.DataFrame({\"Param\":params, \"Sol\":sols, \"Obj Val\": objvals, \"Constraints Viol\": conviols, \"Elapsed Time\": elapseds})\n",
    "time.sleep(1)\n",
    "print(df.describe())\n",
    "print(\"Number of infeasible solution: {}\".format(np.sum(df[\"Constraints Viol\"] > 0)))\n",
    "df.to_csv(\"result/cq_heur_rnd_100-100.csv\")"
   ]
  },
  {
   "cell_type": "code",
   "execution_count": 8,
   "id": "b30aa7c5-a08f-4cb4-b1b6-9d5eb0d8613b",
   "metadata": {},
   "outputs": [
    {
     "name": "stdout",
     "output_type": "stream",
     "text": [
      "          Obj Val  Constraints Viol  Elapsed Time\n",
      "count  100.000000        100.000000    100.000000\n",
      "mean   -21.922316          5.342438      0.169697\n",
      "std      0.454859          1.039560      0.009731\n",
      "min    -22.983994          2.388443      0.157866\n",
      "25%    -22.220240          4.613285      0.163289\n",
      "50%    -21.891719          5.409654      0.168302\n",
      "75%    -21.608674          6.064012      0.173709\n",
      "max    -20.763606          8.426283      0.223535\n",
      "Number of infeasible solution: 100\n"
     ]
    }
   ],
   "source": [
    "df = pd.read_csv(\"result/cq_heur_rnd_100-100.csv\", index_col=0).iloc[:100]\n",
    "print(df.describe())\n",
    "print(\"Number of infeasible solution: {}\".format(np.sum(df[\"Constraints Viol\"] > 0)))"
   ]
  },
  {
   "cell_type": "markdown",
   "id": "96304fbd-08f5-4be7-a81e-83c85332029c",
   "metadata": {},
   "source": [
    "## Heuristic - N1"
   ]
  },
  {
   "cell_type": "code",
   "execution_count": 9,
   "id": "356187af-e02d-4478-bf78-ada6a2e1b94b",
   "metadata": {},
   "outputs": [
    {
     "name": "stdout",
     "output_type": "stream",
     "text": [
      "ERROR: Unable to clone Pyomo component attribute. Component 'obj' contains an\n",
      "uncopyable field '_init_sense' (<class\n",
      "'pyomo.core.base.initializer.ConstantInitializer'>).  Setting field to `None`\n",
      "on new object\n"
     ]
    }
   ],
   "source": [
    "model_heur = model.first_solution_heuristic(nodes_limit=1)"
   ]
  },
  {
   "cell_type": "code",
   "execution_count": 10,
   "id": "f4c7fc52-cbbc-4414-bf1d-316d65c8db5b",
   "metadata": {},
   "outputs": [
    {
     "name": "stderr",
     "output_type": "stream",
     "text": [
      "100%|███████████████████████████████████████████████████████████████████████████| 1000/1000 [11:55:24<00:00, 42.92s/it]\n"
     ]
    },
    {
     "name": "stdout",
     "output_type": "stream",
     "text": [
      "            Obj Val  Constraints Viol  Elapsed Time\n",
      "count  1.000000e+03            1000.0   1000.000000\n",
      "mean   1.587003e+18               0.0     42.896583\n",
      "std    5.831904e+17               0.0     16.178696\n",
      "min   -1.834646e+01               0.0      4.436790\n",
      "25%    1.193007e+18               0.0     30.471017\n",
      "50%    1.486973e+18               0.0     41.963484\n",
      "75%    1.871542e+18               0.0     54.495735\n",
      "max    4.563401e+18               0.0    102.884029\n",
      "Number of infeasible solution: 0\n"
     ]
    }
   ],
   "source": [
    "params, sols, objvals, conviols, elapseds = [], [], [], [], []\n",
    "for b in tqdm(data_test.datadict[\"b\"]):\n",
    "    # set params\n",
    "    model_heur.set_param_val({\"b\":b.cpu().numpy()})\n",
    "    # solve\n",
    "    tick = time.time()\n",
    "    xval, objval = model_heur.solve(\"gurobi\")\n",
    "    tock = time.time()\n",
    "    # eval\n",
    "    params.append(list(b))\n",
    "    sols.append(list(list(xval.values())[0].values()))\n",
    "    objvals.append(objval)\n",
    "    conviols.append(sum(model_heur.cal_violation()))\n",
    "    elapseds.append(tock - tick)\n",
    "df = pd.DataFrame({\"Param\":params, \"Sol\":sols, \"Obj Val\": objvals, \"Constraints Viol\": conviols, \"Elapsed Time\": elapseds})\n",
    "time.sleep(1)\n",
    "print(df.describe())\n",
    "print(\"Number of infeasible solution: {}\".format(np.sum(df[\"Constraints Viol\"] > 0)))\n",
    "df.to_csv(\"result/cq_heur_n1_100-100.csv\")"
   ]
  },
  {
   "cell_type": "code",
   "execution_count": 9,
   "id": "9be6a799-44e4-49b5-bdf2-6de3a0732334",
   "metadata": {},
   "outputs": [
    {
     "name": "stdout",
     "output_type": "stream",
     "text": [
      "            Obj Val  Constraints Viol  Elapsed Time\n",
      "count  1.000000e+02             100.0    100.000000\n",
      "mean   1.687085e+18               0.0     43.938824\n",
      "std    5.642133e+17               0.0     17.129032\n",
      "min    8.294812e+17               0.0     14.204978\n",
      "25%    1.296812e+18               0.0     32.587548\n",
      "50%    1.503969e+18               0.0     43.402815\n",
      "75%    1.932558e+18               0.0     55.671246\n",
      "max    3.480013e+18               0.0    102.884029\n",
      "Number of infeasible solution: 0\n"
     ]
    }
   ],
   "source": [
    "df = pd.read_csv(\"result/cq_heur_n1_100-100.csv\", index_col=0).iloc[:100]\n",
    "print(df.describe())\n",
    "print(\"Number of infeasible solution: {}\".format(np.sum(df[\"Constraints Viol\"] > 0)))"
   ]
  },
  {
   "cell_type": "markdown",
   "id": "9819c60c-df5f-41c6-ae83-888c75aa78d7",
   "metadata": {},
   "source": [
    "## Learnable Rounding"
   ]
  },
  {
   "cell_type": "code",
   "execution_count": 7,
   "id": "6a4fb3e2-9c47-4c10-8116-e94be18ea59c",
   "metadata": {},
   "outputs": [],
   "source": [
    "# random seed\n",
    "np.random.seed(42)\n",
    "torch.manual_seed(42)\n",
    "torch.cuda.manual_seed(42)"
   ]
  },
  {
   "cell_type": "code",
   "execution_count": 8,
   "id": "536d2d58-67ba-408a-b72a-7c5bd54a5ff4",
   "metadata": {},
   "outputs": [],
   "source": [
    "# hyperparameters\n",
    "penalty_weight = 100  # weight of constraint violation penealty\n",
    "hlayers_sol = 5       # number of hidden layers for solution mapping\n",
    "hlayers_rnd = 4       # number of hidden layers for solution mapping\n",
    "hsize = 256           # width of hidden layers for solution mapping\n",
    "lr = 1e-3             # learning rate"
   ]
  },
  {
   "cell_type": "code",
   "execution_count": 9,
   "id": "fee1241e-e53a-4cbb-927a-edcdb3537303",
   "metadata": {},
   "outputs": [],
   "source": [
    "# set problem\n",
    "import neuromancer as nm\n",
    "from src.problem import nmQuadratic\n",
    "from src.func.layer import netFC\n",
    "from src.func import roundGumbelModel\n",
    "# build neural architecture for the solution map\n",
    "func = nm.modules.blocks.MLP(insize=num_ineq, outsize=num_var, bias=True,\n",
    "                             linear_map=nm.slim.maps[\"linear\"],\n",
    "                             nonlin=nn.ReLU, hsizes=[hsize]*hlayers_sol)\n",
    "smap = nm.system.Node(func, [\"b\"], [\"x\"], name=\"smap\")\n",
    "# define rounding model\n",
    "layers_rnd = netFC(input_dim=num_ineq+num_var, hidden_dims=[hsize]*hlayers_rnd, output_dim=num_var)\n",
    "rnd = roundGumbelModel(layers=layers_rnd, param_keys=[\"b\"], var_keys=[\"x\"],  output_keys=[\"x_rnd\"], \n",
    "                       int_ind=model.int_ind, continuous_update=True, name=\"round\")\n",
    "# build neuromancer problem for rounding\n",
    "components = nn.ModuleList([smap, rnd]).to(\"cuda\")\n",
    "loss_fn = nmQuadratic([\"b\", \"x_rnd\"], num_var, num_ineq, penalty_weight)"
   ]
  },
  {
   "cell_type": "code",
   "execution_count": 10,
   "id": "e4f10263-5f69-4288-a4e8-8be83929c8d6",
   "metadata": {},
   "outputs": [
    {
     "name": "stdout",
     "output_type": "stream",
     "text": [
      "Epoch 0, Validation Loss: 3603.61\n",
      "Epoch 1, Validation Loss: 4.14\n",
      "Epoch 2, Validation Loss: -2.77\n",
      "Epoch 3, Validation Loss: -5.74\n",
      "Epoch 4, Validation Loss: -7.80\n",
      "Epoch 5, Validation Loss: -6.14\n",
      "Epoch 6, Validation Loss: -8.47\n",
      "Epoch 7, Validation Loss: -8.45\n",
      "Epoch 8, Validation Loss: -8.88\n",
      "Epoch 9, Validation Loss: -8.79\n",
      "Epoch 10, Validation Loss: -9.00\n",
      "Epoch 11, Validation Loss: -8.97\n",
      "Epoch 12, Validation Loss: -9.72\n",
      "Epoch 13, Validation Loss: -9.65\n",
      "Epoch 14, Validation Loss: -10.57\n",
      "Epoch 15, Validation Loss: -9.88\n",
      "Epoch 16, Validation Loss: -10.10\n",
      "Epoch 17, Validation Loss: -10.83\n",
      "Epoch 18, Validation Loss: -10.12\n",
      "Epoch 19, Validation Loss: -9.80\n",
      "Epoch 20, Validation Loss: -9.99\n",
      "Epoch 21, Validation Loss: -11.34\n",
      "Epoch 22, Validation Loss: -11.28\n",
      "Epoch 23, Validation Loss: -9.82\n",
      "Epoch 24, Validation Loss: -11.55\n",
      "Epoch 25, Validation Loss: -10.97\n",
      "Epoch 26, Validation Loss: -11.75\n",
      "Epoch 27, Validation Loss: -11.80\n",
      "Epoch 28, Validation Loss: -11.58\n",
      "Epoch 29, Validation Loss: -11.23\n",
      "Epoch 30, Validation Loss: -12.44\n",
      "Epoch 31, Validation Loss: -12.39\n",
      "Epoch 32, Validation Loss: -12.36\n",
      "Epoch 33, Validation Loss: -11.98\n",
      "Epoch 34, Validation Loss: -10.94\n",
      "Epoch 35, Validation Loss: -10.53\n",
      "Epoch 36, Validation Loss: -12.06\n",
      "Epoch 37, Validation Loss: -11.21\n",
      "Epoch 38, Validation Loss: -12.71\n",
      "Epoch 39, Validation Loss: -12.47\n",
      "Epoch 40, Validation Loss: -11.29\n",
      "Epoch 41, Validation Loss: -11.66\n",
      "Epoch 42, Validation Loss: -12.22\n",
      "Epoch 43, Validation Loss: -10.96\n",
      "Epoch 44, Validation Loss: -9.96\n",
      "Epoch 45, Validation Loss: -12.35\n",
      "Epoch 46, Validation Loss: -11.95\n",
      "Epoch 47, Validation Loss: -11.17\n",
      "Epoch 48, Validation Loss: -9.54\n",
      "Epoch 49, Validation Loss: -10.30\n",
      "Epoch 50, Validation Loss: -12.03\n",
      "Epoch 51, Validation Loss: -10.36\n",
      "Epoch 52, Validation Loss: -12.70\n",
      "Epoch 53, Validation Loss: -12.28\n",
      "Epoch 54, Validation Loss: -12.49\n",
      "Epoch 55, Validation Loss: -12.92\n",
      "Epoch 56, Validation Loss: -10.53\n",
      "Epoch 57, Validation Loss: -11.70\n",
      "Epoch 58, Validation Loss: 24.96\n",
      "Epoch 59, Validation Loss: -12.19\n",
      "Epoch 60, Validation Loss: -12.95\n",
      "Epoch 61, Validation Loss: -12.27\n",
      "Epoch 62, Validation Loss: -12.88\n",
      "Epoch 63, Validation Loss: -12.32\n",
      "Epoch 64, Validation Loss: -12.65\n",
      "Epoch 65, Validation Loss: -11.82\n",
      "Epoch 66, Validation Loss: -11.96\n",
      "Epoch 67, Validation Loss: -12.47\n",
      "Epoch 68, Validation Loss: -12.00\n",
      "Epoch 69, Validation Loss: -12.91\n",
      "Epoch 70, Validation Loss: -9.93\n",
      "Epoch 71, Validation Loss: -11.47\n",
      "Epoch 72, Validation Loss: -12.57\n",
      "Epoch 73, Validation Loss: -13.49\n",
      "Epoch 74, Validation Loss: -12.93\n",
      "Epoch 75, Validation Loss: -13.47\n",
      "Epoch 76, Validation Loss: -13.02\n",
      "Epoch 77, Validation Loss: -12.58\n",
      "Epoch 78, Validation Loss: -12.76\n",
      "Epoch 79, Validation Loss: -12.82\n",
      "Epoch 80, Validation Loss: -11.74\n",
      "Epoch 81, Validation Loss: -12.28\n",
      "Epoch 82, Validation Loss: -12.79\n",
      "Epoch 83, Validation Loss: -12.93\n",
      "Epoch 84, Validation Loss: -10.13\n",
      "Epoch 85, Validation Loss: -11.61\n",
      "Epoch 86, Validation Loss: -12.82\n",
      "Epoch 87, Validation Loss: -10.94\n",
      "Epoch 88, Validation Loss: -11.46\n",
      "Epoch 89, Validation Loss: -12.18\n",
      "Epoch 90, Validation Loss: -12.18\n",
      "Epoch 91, Validation Loss: -2.71\n",
      "Epoch 92, Validation Loss: -12.19\n",
      "Early stopping at epoch 92\n",
      "Best model loaded.\n",
      "Training complete.\n",
      "The training time is 141.15 sec.\n"
     ]
    }
   ],
   "source": [
    "from src.problem.neuromancer.trainer import trainer\n",
    "# training\n",
    "epochs = 200                    # number of training epochs\n",
    "warmup = 20                     # number of epochs to wait before enacting early stopping policy\n",
    "patience = 20                   # number of epochs with no improvement in eval metric to allow before early stopping\n",
    "optimizer = torch.optim.AdamW(components.parameters(), lr=lr)\n",
    "# create a trainer for the problem\n",
    "my_trainer = trainer(components, loss_fn, optimizer, epochs, patience, warmup, device=\"cuda\")\n",
    "# training for the rounding problem\n",
    "my_trainer.train(loader_train, loader_dev)"
   ]
  },
  {
   "cell_type": "code",
   "execution_count": 11,
   "id": "3e835084-eb75-45d9-bcbd-5fb4c613fb41",
   "metadata": {},
   "outputs": [
    {
     "name": "stderr",
     "output_type": "stream",
     "text": [
      "100%|████████████████████████████████████████████████████████████████████████████████| 100/100 [00:03<00:00, 29.32it/s]\n"
     ]
    },
    {
     "name": "stdout",
     "output_type": "stream",
     "text": [
      "          Obj Val  Constraints Viol  Elapsed Time\n",
      "count  100.000000        100.000000    100.000000\n",
      "mean   -13.589329          0.001726      0.003131\n",
      "std      0.062509          0.009155      0.000742\n",
      "min    -13.825783          0.000000      0.001993\n",
      "25%    -13.602283          0.000000      0.002636\n",
      "50%    -13.586963          0.000000      0.003005\n",
      "75%    -13.546951          0.000000      0.003513\n",
      "max    -13.459233          0.065940      0.006034\n",
      "Number of infeasible solution: 4\n"
     ]
    }
   ],
   "source": [
    "params, sols, objvals, conviols, elapseds = [], [], [], [], []\n",
    "for b in tqdm(data_test.datadict[\"b\"][:100]):\n",
    "    # data point as tensor\n",
    "    datapoints = {\"b\": torch.unsqueeze(b, 0).to(\"cuda\"), \n",
    "                  \"name\": \"test\"}\n",
    "    # infer\n",
    "    components.eval()\n",
    "    tick = time.time()\n",
    "    with torch.no_grad():\n",
    "        for comp in components:\n",
    "            datapoints.update(comp(datapoints))\n",
    "    tock = time.time()\n",
    "    # assign params\n",
    "    model.set_param_val({\"b\":b.cpu().numpy()})\n",
    "    # assign vars\n",
    "    x = datapoints[\"x_rnd\"]\n",
    "    for i in range(num_var):\n",
    "        model.vars[\"x\"][i].value = x[0,i].item()\n",
    "    # get solutions\n",
    "    xval, objval = model.get_val()    \n",
    "    params.append(list(b.cpu().numpy()))\n",
    "    sols.append(list(list(xval.values())[0].values()))\n",
    "    objvals.append(objval)\n",
    "    conviols.append(sum(model.cal_violation()))\n",
    "    elapseds.append(tock - tick)\n",
    "df = pd.DataFrame({\"Param\":params, \"Sol\":sols, \"Obj Val\": objvals, \"Constraints Viol\": conviols, \"Elapsed Time\": elapseds})\n",
    "time.sleep(1)\n",
    "print(df.describe())\n",
    "print(\"Number of infeasible solution: {}\".format(np.sum(df[\"Constraints Viol\"] > 0)))\n",
    "df.to_csv(\"result/cq_lr_100-100.csv\")"
   ]
  },
  {
   "cell_type": "markdown",
   "id": "2dbf8a72-29b9-49c4-b3c1-0d68895c1c1f",
   "metadata": {},
   "source": [
    "## Learnable Threshold"
   ]
  },
  {
   "cell_type": "code",
   "execution_count": 12,
   "id": "36c57dbb-8dee-4976-8922-82a155fe0128",
   "metadata": {},
   "outputs": [],
   "source": [
    "# random seed\n",
    "np.random.seed(42)\n",
    "torch.manual_seed(42)\n",
    "torch.cuda.manual_seed(42)"
   ]
  },
  {
   "cell_type": "code",
   "execution_count": 13,
   "id": "d46b9817-87ac-4af0-b387-b10c9a4998f4",
   "metadata": {},
   "outputs": [],
   "source": [
    "# hyperparameters\n",
    "penalty_weight = 100  # weight of constraint violation penealty\n",
    "hlayers_sol = 5       # number of hidden layers for solution mapping\n",
    "hlayers_rnd = 4       # number of hidden layers for solution mapping\n",
    "hsize = 256           # width of hidden layers for solution mapping\n",
    "lr = 1e-3             # learning rate"
   ]
  },
  {
   "cell_type": "code",
   "execution_count": 14,
   "id": "fa8b147f-39c8-4eb7-bb95-93dd8e4cb1cf",
   "metadata": {},
   "outputs": [],
   "source": [
    "# set problem\n",
    "import neuromancer as nm\n",
    "from src.problem import nmQuadratic\n",
    "from src.func.layer import netFC\n",
    "from src.func import roundThresholdModel\n",
    "# build neural architecture for the solution map\n",
    "func = nm.modules.blocks.MLP(insize=num_ineq, outsize=num_var, bias=True,\n",
    "                             linear_map=nm.slim.maps[\"linear\"],\n",
    "                             nonlin=nn.ReLU, hsizes=[hsize]*hlayers_sol)\n",
    "smap = nm.system.Node(func, [\"b\"], [\"x\"], name=\"smap\")\n",
    "# define rounding model\n",
    "layers_rnd = netFC(input_dim=num_ineq+num_var, hidden_dims=[hsize]*hlayers_rnd, output_dim=num_var)\n",
    "rnd = roundThresholdModel(layers=layers_rnd, param_keys=[\"b\"], var_keys=[\"x\"],  output_keys=[\"x_rnd\"], \n",
    "                       int_ind=model.int_ind, continuous_update=True, name=\"round\")\n",
    "# build neuromancer problem for rounding\n",
    "components = nn.ModuleList([smap, rnd]).to(\"cuda\")\n",
    "loss_fn = nmQuadratic([\"b\", \"x_rnd\"], num_var, num_ineq, penalty_weight)"
   ]
  },
  {
   "cell_type": "code",
   "execution_count": 15,
   "id": "c6f5bb17-8c3c-4dcd-952d-caa1d7c4c4fa",
   "metadata": {},
   "outputs": [
    {
     "name": "stdout",
     "output_type": "stream",
     "text": [
      "Epoch 0, Validation Loss: 2485.01\n",
      "Epoch 1, Validation Loss: 3.37\n",
      "Epoch 2, Validation Loss: -6.44\n",
      "Epoch 3, Validation Loss: -8.40\n",
      "Epoch 4, Validation Loss: -9.23\n",
      "Epoch 5, Validation Loss: -9.12\n",
      "Epoch 6, Validation Loss: -10.19\n",
      "Epoch 7, Validation Loss: -9.11\n",
      "Epoch 8, Validation Loss: -9.75\n",
      "Epoch 9, Validation Loss: -8.82\n",
      "Epoch 10, Validation Loss: -10.60\n",
      "Epoch 11, Validation Loss: -11.07\n",
      "Epoch 12, Validation Loss: -11.12\n",
      "Epoch 13, Validation Loss: -11.44\n",
      "Epoch 14, Validation Loss: -9.58\n",
      "Epoch 15, Validation Loss: -11.65\n",
      "Epoch 16, Validation Loss: -11.15\n",
      "Epoch 17, Validation Loss: -8.22\n",
      "Epoch 18, Validation Loss: -8.99\n",
      "Epoch 19, Validation Loss: -11.03\n",
      "Epoch 20, Validation Loss: -11.27\n",
      "Epoch 21, Validation Loss: -10.81\n",
      "Epoch 22, Validation Loss: -10.77\n",
      "Epoch 23, Validation Loss: -11.66\n",
      "Epoch 24, Validation Loss: -11.35\n",
      "Epoch 25, Validation Loss: -11.87\n",
      "Epoch 26, Validation Loss: -11.33\n",
      "Epoch 27, Validation Loss: -12.19\n",
      "Epoch 28, Validation Loss: -10.84\n",
      "Epoch 29, Validation Loss: -11.80\n",
      "Epoch 30, Validation Loss: -11.16\n",
      "Epoch 31, Validation Loss: -9.79\n",
      "Epoch 32, Validation Loss: -11.84\n",
      "Epoch 33, Validation Loss: -12.44\n",
      "Epoch 34, Validation Loss: -12.96\n",
      "Epoch 35, Validation Loss: -12.06\n",
      "Epoch 36, Validation Loss: -13.03\n",
      "Epoch 37, Validation Loss: -12.30\n",
      "Epoch 38, Validation Loss: -12.71\n",
      "Epoch 39, Validation Loss: -12.08\n",
      "Epoch 40, Validation Loss: -12.37\n",
      "Epoch 41, Validation Loss: -12.18\n",
      "Epoch 42, Validation Loss: -12.16\n",
      "Epoch 43, Validation Loss: -12.87\n",
      "Epoch 44, Validation Loss: -12.81\n",
      "Epoch 45, Validation Loss: -12.96\n",
      "Epoch 46, Validation Loss: -10.94\n",
      "Epoch 47, Validation Loss: -12.40\n",
      "Epoch 48, Validation Loss: -12.19\n",
      "Epoch 49, Validation Loss: -13.16\n",
      "Epoch 50, Validation Loss: -12.75\n",
      "Epoch 51, Validation Loss: -12.54\n",
      "Epoch 52, Validation Loss: -12.28\n",
      "Epoch 53, Validation Loss: -12.27\n",
      "Epoch 54, Validation Loss: -12.82\n",
      "Epoch 55, Validation Loss: -12.37\n",
      "Epoch 56, Validation Loss: -12.23\n",
      "Epoch 57, Validation Loss: -11.97\n",
      "Epoch 58, Validation Loss: -12.19\n",
      "Epoch 59, Validation Loss: -11.89\n",
      "Epoch 60, Validation Loss: -12.28\n",
      "Epoch 61, Validation Loss: -12.73\n",
      "Epoch 62, Validation Loss: -12.58\n",
      "Epoch 63, Validation Loss: -12.24\n",
      "Epoch 64, Validation Loss: -13.46\n",
      "Epoch 65, Validation Loss: -10.59\n",
      "Epoch 66, Validation Loss: -12.90\n",
      "Epoch 67, Validation Loss: -12.34\n",
      "Epoch 68, Validation Loss: -12.67\n",
      "Epoch 69, Validation Loss: -12.87\n",
      "Epoch 70, Validation Loss: -11.48\n",
      "Epoch 71, Validation Loss: -12.55\n",
      "Epoch 72, Validation Loss: -12.11\n",
      "Epoch 73, Validation Loss: -11.57\n",
      "Epoch 74, Validation Loss: -12.79\n",
      "Epoch 75, Validation Loss: -12.62\n",
      "Epoch 76, Validation Loss: -12.63\n",
      "Epoch 77, Validation Loss: -12.77\n",
      "Epoch 78, Validation Loss: -12.78\n",
      "Epoch 79, Validation Loss: -12.98\n",
      "Epoch 80, Validation Loss: -12.91\n",
      "Epoch 81, Validation Loss: -12.14\n",
      "Epoch 82, Validation Loss: -13.17\n",
      "Epoch 83, Validation Loss: -12.86\n",
      "Early stopping at epoch 83\n",
      "Best model loaded.\n",
      "Training complete.\n",
      "The training time is 128.86 sec.\n"
     ]
    }
   ],
   "source": [
    "from src.problem.neuromancer.trainer import trainer\n",
    "# training\n",
    "epochs = 200                    # number of training epochs\n",
    "warmup = 20                     # number of epochs to wait before enacting early stopping policy\n",
    "patience = 20                   # number of epochs with no improvement in eval metric to allow before early stopping\n",
    "optimizer = torch.optim.AdamW(components.parameters(), lr=lr)\n",
    "# create a trainer for the problem\n",
    "my_trainer = trainer(components, loss_fn, optimizer, epochs, patience, warmup, device=\"cuda\")\n",
    "# training for the rounding problem\n",
    "my_trainer.train(loader_train, loader_dev)"
   ]
  },
  {
   "cell_type": "code",
   "execution_count": 16,
   "id": "6584d57e-6b4c-4262-82f5-55735ef17cac",
   "metadata": {},
   "outputs": [
    {
     "name": "stderr",
     "output_type": "stream",
     "text": [
      "100%|████████████████████████████████████████████████████████████████████████████████| 100/100 [00:03<00:00, 27.78it/s]\n"
     ]
    },
    {
     "name": "stdout",
     "output_type": "stream",
     "text": [
      "          Obj Val  Constraints Viol  Elapsed Time\n",
      "count  100.000000        100.000000    100.000000\n",
      "mean   -13.744608          0.003400      0.003499\n",
      "std      0.280072          0.017737      0.001164\n",
      "min    -14.240952          0.000000      0.001990\n",
      "25%    -13.927554          0.000000      0.002999\n",
      "50%    -13.747429          0.000000      0.003006\n",
      "75%    -13.610425          0.000000      0.003998\n",
      "max    -12.891432          0.150890      0.007123\n",
      "Number of infeasible solution: 7\n"
     ]
    }
   ],
   "source": [
    "params, sols, objvals, conviols, elapseds = [], [], [], [], []\n",
    "for b in tqdm(data_test.datadict[\"b\"][:100]):\n",
    "    # data point as tensor\n",
    "    datapoints = {\"b\": torch.unsqueeze(b, 0).to(\"cuda\"), \n",
    "                  \"name\": \"test\"}\n",
    "    # infer\n",
    "    components.eval()\n",
    "    tick = time.time()\n",
    "    with torch.no_grad():\n",
    "        for comp in components:\n",
    "            datapoints.update(comp(datapoints))\n",
    "    tock = time.time()\n",
    "    # assign params\n",
    "    model.set_param_val({\"b\":b.cpu().numpy()})\n",
    "    # assign vars\n",
    "    x = datapoints[\"x_rnd\"]\n",
    "    for i in range(num_var):\n",
    "        model.vars[\"x\"][i].value = x[0,i].item()\n",
    "    # get solutions\n",
    "    xval, objval = model.get_val()    \n",
    "    params.append(list(b.cpu().numpy()))\n",
    "    sols.append(list(list(xval.values())[0].values()))\n",
    "    objvals.append(objval)\n",
    "    conviols.append(sum(model.cal_violation()))\n",
    "    elapseds.append(tock - tick)\n",
    "df = pd.DataFrame({\"Param\":params, \"Sol\":sols, \"Obj Val\": objvals, \"Constraints Viol\": conviols, \"Elapsed Time\": elapseds})\n",
    "time.sleep(1)\n",
    "print(df.describe())\n",
    "print(\"Number of infeasible solution: {}\".format(np.sum(df[\"Constraints Viol\"] > 0)))\n",
    "df.to_csv(\"result/cq_lt_100-100.csv\")"
   ]
  },
  {
   "cell_type": "markdown",
   "id": "b8a792ba-2356-4a4a-b093-8c36519c9c63",
   "metadata": {},
   "source": [
    "## Parametric Learning Then Rounding"
   ]
  },
  {
   "cell_type": "code",
   "execution_count": 17,
   "id": "382a0a8a-d846-4182-ab69-7d618edea9cf",
   "metadata": {},
   "outputs": [],
   "source": [
    "# random seed\n",
    "np.random.seed(42)\n",
    "torch.manual_seed(42)\n",
    "torch.cuda.manual_seed(42)"
   ]
  },
  {
   "cell_type": "code",
   "execution_count": 18,
   "id": "93aca74a-9cff-4c2f-bd93-a767f15ed8ed",
   "metadata": {},
   "outputs": [],
   "source": [
    "# hyperparameters\n",
    "penalty_weight = 100  # weight of constraint violation penealty\n",
    "hlayers_sol = 5       # number of hidden layers for solution mapping\n",
    "hsize = 256           # width of hidden layers for solution mapping\n",
    "lr = 1e-3             # learning rate"
   ]
  },
  {
   "cell_type": "code",
   "execution_count": 19,
   "id": "b9081ae8-cdc7-4bf3-b808-7465df356752",
   "metadata": {},
   "outputs": [],
   "source": [
    "# set problem\n",
    "import neuromancer as nm\n",
    "from src.problem import nmQuadratic\n",
    "from src.func.layer import netFC\n",
    "# build neural architecture for the solution map\n",
    "func = nm.modules.blocks.MLP(insize=num_ineq, outsize=num_var, bias=True,\n",
    "                             linear_map=nm.slim.maps[\"linear\"],\n",
    "                             nonlin=nn.ReLU, hsizes=[hsize]*hlayers_sol)\n",
    "smap = nm.system.Node(func, [\"b\"], [\"x\"], name=\"smap\")\n",
    "# build neuromancer problem for rounding\n",
    "components = nn.ModuleList([smap]).to(\"cuda\")\n",
    "loss_fn = nmQuadratic([\"b\", \"x\"], num_var, num_ineq, penalty_weight)"
   ]
  },
  {
   "cell_type": "code",
   "execution_count": 20,
   "id": "c4f8913a-cc6e-4634-8673-34f4ece2510b",
   "metadata": {},
   "outputs": [
    {
     "name": "stdout",
     "output_type": "stream",
     "text": [
      "Epoch 0, Validation Loss: 2482.40\n",
      "Epoch 1, Validation Loss: -5.52\n",
      "Epoch 2, Validation Loss: -10.61\n",
      "Epoch 3, Validation Loss: -11.78\n",
      "Epoch 4, Validation Loss: -11.27\n",
      "Epoch 5, Validation Loss: -12.69\n",
      "Epoch 6, Validation Loss: -12.93\n",
      "Epoch 7, Validation Loss: -12.88\n",
      "Epoch 8, Validation Loss: -12.59\n",
      "Epoch 9, Validation Loss: -13.56\n",
      "Epoch 10, Validation Loss: -14.27\n",
      "Epoch 11, Validation Loss: -13.90\n",
      "Epoch 12, Validation Loss: -13.50\n",
      "Epoch 13, Validation Loss: -14.48\n",
      "Epoch 14, Validation Loss: -13.69\n",
      "Epoch 15, Validation Loss: -13.29\n",
      "Epoch 16, Validation Loss: -14.16\n",
      "Epoch 17, Validation Loss: -13.76\n",
      "Epoch 18, Validation Loss: -14.54\n",
      "Epoch 19, Validation Loss: -15.16\n",
      "Epoch 20, Validation Loss: -14.37\n",
      "Epoch 21, Validation Loss: -14.57\n",
      "Epoch 22, Validation Loss: -14.43\n",
      "Epoch 23, Validation Loss: -14.97\n",
      "Epoch 24, Validation Loss: -14.23\n",
      "Epoch 25, Validation Loss: -14.97\n",
      "Epoch 26, Validation Loss: -14.43\n",
      "Epoch 27, Validation Loss: -15.15\n",
      "Epoch 28, Validation Loss: -15.41\n",
      "Epoch 29, Validation Loss: -15.14\n",
      "Epoch 30, Validation Loss: -15.43\n",
      "Epoch 31, Validation Loss: -15.69\n",
      "Epoch 32, Validation Loss: -14.35\n",
      "Epoch 33, Validation Loss: -14.71\n",
      "Epoch 34, Validation Loss: -15.84\n",
      "Epoch 35, Validation Loss: -15.58\n",
      "Epoch 36, Validation Loss: -15.78\n",
      "Epoch 37, Validation Loss: -15.53\n",
      "Epoch 38, Validation Loss: -14.69\n",
      "Epoch 39, Validation Loss: -15.42\n",
      "Epoch 40, Validation Loss: -15.92\n",
      "Epoch 41, Validation Loss: -15.64\n",
      "Epoch 42, Validation Loss: -15.36\n",
      "Epoch 43, Validation Loss: -15.65\n",
      "Epoch 44, Validation Loss: -15.91\n",
      "Epoch 45, Validation Loss: -16.02\n",
      "Epoch 46, Validation Loss: -14.90\n",
      "Epoch 47, Validation Loss: -15.59\n",
      "Epoch 48, Validation Loss: -16.06\n",
      "Epoch 49, Validation Loss: -15.54\n",
      "Epoch 50, Validation Loss: -16.27\n",
      "Epoch 51, Validation Loss: -16.00\n",
      "Epoch 52, Validation Loss: -15.79\n",
      "Epoch 53, Validation Loss: -15.82\n",
      "Epoch 54, Validation Loss: -16.47\n",
      "Epoch 55, Validation Loss: -15.88\n",
      "Epoch 56, Validation Loss: -16.29\n",
      "Epoch 57, Validation Loss: -16.61\n",
      "Epoch 58, Validation Loss: -16.38\n",
      "Epoch 59, Validation Loss: -16.33\n",
      "Epoch 60, Validation Loss: -16.34\n",
      "Epoch 61, Validation Loss: -16.23\n",
      "Epoch 62, Validation Loss: -16.66\n",
      "Epoch 63, Validation Loss: -16.49\n",
      "Epoch 64, Validation Loss: -16.55\n",
      "Epoch 65, Validation Loss: -16.45\n",
      "Epoch 66, Validation Loss: -16.51\n",
      "Epoch 67, Validation Loss: -16.25\n",
      "Epoch 68, Validation Loss: -16.40\n",
      "Epoch 69, Validation Loss: -16.65\n",
      "Epoch 70, Validation Loss: -16.49\n",
      "Epoch 71, Validation Loss: -16.54\n",
      "Epoch 72, Validation Loss: -16.58\n",
      "Epoch 73, Validation Loss: -16.41\n",
      "Epoch 74, Validation Loss: -16.67\n",
      "Epoch 75, Validation Loss: -16.34\n",
      "Epoch 76, Validation Loss: -16.74\n",
      "Epoch 77, Validation Loss: -16.49\n",
      "Epoch 78, Validation Loss: -16.39\n",
      "Epoch 79, Validation Loss: -16.50\n",
      "Epoch 80, Validation Loss: -16.37\n",
      "Epoch 81, Validation Loss: -16.41\n",
      "Epoch 82, Validation Loss: -16.47\n",
      "Epoch 83, Validation Loss: -16.71\n",
      "Epoch 84, Validation Loss: -16.59\n",
      "Epoch 85, Validation Loss: -16.46\n",
      "Epoch 86, Validation Loss: -16.28\n",
      "Epoch 87, Validation Loss: -16.68\n",
      "Epoch 88, Validation Loss: -16.87\n",
      "Epoch 89, Validation Loss: -16.63\n",
      "Epoch 90, Validation Loss: -16.65\n",
      "Epoch 91, Validation Loss: -16.53\n",
      "Epoch 92, Validation Loss: -16.34\n",
      "Epoch 93, Validation Loss: -16.69\n",
      "Epoch 94, Validation Loss: -16.56\n",
      "Epoch 95, Validation Loss: -16.78\n",
      "Epoch 96, Validation Loss: -17.01\n",
      "Epoch 97, Validation Loss: -16.70\n",
      "Epoch 98, Validation Loss: -17.01\n",
      "Epoch 99, Validation Loss: -16.28\n",
      "Epoch 100, Validation Loss: -16.93\n",
      "Epoch 101, Validation Loss: -16.44\n",
      "Epoch 102, Validation Loss: -16.56\n",
      "Epoch 103, Validation Loss: -16.29\n",
      "Epoch 104, Validation Loss: -16.52\n",
      "Epoch 105, Validation Loss: -16.72\n",
      "Epoch 106, Validation Loss: -16.66\n",
      "Epoch 107, Validation Loss: -16.85\n",
      "Epoch 108, Validation Loss: -16.74\n",
      "Epoch 109, Validation Loss: -16.81\n",
      "Epoch 110, Validation Loss: -16.20\n",
      "Epoch 111, Validation Loss: -16.90\n",
      "Epoch 112, Validation Loss: -16.21\n",
      "Epoch 113, Validation Loss: -16.86\n",
      "Epoch 114, Validation Loss: -17.27\n",
      "Epoch 115, Validation Loss: -16.52\n",
      "Epoch 116, Validation Loss: -17.07\n",
      "Epoch 117, Validation Loss: -16.86\n",
      "Epoch 118, Validation Loss: -16.57\n",
      "Epoch 119, Validation Loss: -16.85\n",
      "Epoch 120, Validation Loss: -16.88\n",
      "Epoch 121, Validation Loss: -16.55\n",
      "Epoch 122, Validation Loss: -17.00\n",
      "Epoch 123, Validation Loss: -16.72\n",
      "Epoch 124, Validation Loss: -16.97\n",
      "Epoch 125, Validation Loss: -16.57\n",
      "Epoch 126, Validation Loss: -16.72\n",
      "Epoch 127, Validation Loss: -16.86\n",
      "Epoch 128, Validation Loss: -16.57\n",
      "Epoch 129, Validation Loss: -16.24\n",
      "Epoch 130, Validation Loss: -17.05\n",
      "Epoch 131, Validation Loss: -17.23\n",
      "Epoch 132, Validation Loss: -16.80\n",
      "Epoch 133, Validation Loss: -16.88\n",
      "Early stopping at epoch 133\n",
      "Best model loaded.\n",
      "Training complete.\n",
      "The training time is 85.91 sec.\n"
     ]
    }
   ],
   "source": [
    "from src.problem.neuromancer.trainer import trainer\n",
    "# training\n",
    "epochs = 200                    # number of training epochs\n",
    "warmup = 20                     # number of epochs to wait before enacting early stopping policy\n",
    "patience = 20                   # number of epochs with no improvement in eval metric to allow before early stopping\n",
    "optimizer = torch.optim.AdamW(components.parameters(), lr=lr)\n",
    "# create a trainer for the problem\n",
    "my_trainer = trainer(components, loss_fn, optimizer, epochs, patience, warmup, device=\"cuda\")\n",
    "# training for the rounding problem\n",
    "my_trainer.train(loader_train, loader_dev)"
   ]
  },
  {
   "cell_type": "code",
   "execution_count": 21,
   "id": "1a1ee50b-1010-44bc-82d1-8c224661cc52",
   "metadata": {},
   "outputs": [
    {
     "name": "stderr",
     "output_type": "stream",
     "text": [
      "100%|████████████████████████████████████████████████████████████████████████████████| 100/100 [00:03<00:00, 25.81it/s]\n"
     ]
    },
    {
     "name": "stdout",
     "output_type": "stream",
     "text": [
      "          Obj Val  Constraints Viol  Elapsed Time\n",
      "count  100.000000        100.000000    100.000000\n",
      "mean   -17.421335          0.201050      0.000788\n",
      "std      0.250103          0.262282      0.000617\n",
      "min    -17.879455          0.000000      0.000000\n",
      "25%    -17.599104          0.006625      0.000000\n",
      "50%    -17.429028          0.098692      0.001000\n",
      "75%    -17.257874          0.287999      0.001016\n",
      "max    -16.819245          1.256986      0.003000\n",
      "Number of infeasible solution: 78\n"
     ]
    }
   ],
   "source": [
    "from src.heuristic import naive_round\n",
    "params, sols, objvals, conviols, elapseds = [], [], [], [], []\n",
    "for b in tqdm(data_test.datadict[\"b\"][:100]):\n",
    "    # data point as tensor\n",
    "    datapoints = {\"b\": torch.unsqueeze(b, 0).to(\"cuda\"), \n",
    "                  \"name\": \"test\"}\n",
    "    # infer\n",
    "    components.eval()\n",
    "    tick = time.time()\n",
    "    with torch.no_grad():\n",
    "        for comp in components:\n",
    "            datapoints.update(comp(datapoints))\n",
    "    tock = time.time()\n",
    "    # assign params\n",
    "    model.set_param_val({\"b\":b.cpu().numpy()})\n",
    "    # assign vars\n",
    "    x = datapoints[\"x\"]\n",
    "    for i in range(num_var):\n",
    "        model.vars[\"x\"][i].value = x[0,i].item()\n",
    "    # get solutions\n",
    "    xval_rel, _ = model.get_val()\n",
    "    xval, objval = naive_round(xval_rel, model)\n",
    "    params.append(list(b.cpu().numpy()))\n",
    "    sols.append(list(list(xval.values())[0].values()))\n",
    "    objvals.append(objval)\n",
    "    conviols.append(sum(model.cal_violation()))\n",
    "    elapseds.append(tock - tick)\n",
    "df = pd.DataFrame({\"Param\":params, \"Sol\":sols, \"Obj Val\": objvals, \"Constraints Viol\": conviols, \"Elapsed Time\": elapseds})\n",
    "time.sleep(1)\n",
    "print(df.describe())\n",
    "print(\"Number of infeasible solution: {}\".format(np.sum(df[\"Constraints Viol\"] > 0)))\n",
    "df.to_csv(\"result/cq_pr_100-100.csv\")"
   ]
  },
  {
   "cell_type": "markdown",
   "id": "bf42499e-2da2-401e-bab6-fab42aa19426",
   "metadata": {},
   "source": [
    "### STE Rounding"
   ]
  },
  {
   "cell_type": "code",
   "execution_count": 7,
   "id": "bce2e2fd-965e-46da-8c50-a9e2856d0405",
   "metadata": {},
   "outputs": [],
   "source": [
    "# random seed\n",
    "np.random.seed(42)\n",
    "torch.manual_seed(42)\n",
    "torch.cuda.manual_seed(42)"
   ]
  },
  {
   "cell_type": "code",
   "execution_count": 8,
   "id": "a3a787c7-25f7-4ddc-b237-33e3a70d78ac",
   "metadata": {},
   "outputs": [],
   "source": [
    "# hyperparameters\n",
    "penalty_weight = 100  # weight of constraint violation penealty\n",
    "hlayers_sol = 5       # number of hidden layers for solution mapping\n",
    "hsize = 16            # width of hidden layers for solution mapping\n",
    "lr = 1e-3             # learning rate"
   ]
  },
  {
   "cell_type": "code",
   "execution_count": 9,
   "id": "0a1281d1-d2ec-41f0-8536-8603b14c9fa3",
   "metadata": {},
   "outputs": [],
   "source": [
    "# set problem\n",
    "import neuromancer as nm\n",
    "from src.problem import nmQuadratic\n",
    "from src.func.layer import netFC\n",
    "from src.func import roundSTEModel\n",
    "# build neural architecture for the solution map\n",
    "func = nm.modules.blocks.MLP(insize=num_ineq, outsize=num_var, bias=True,\n",
    "                             linear_map=nm.slim.maps[\"linear\"],\n",
    "                             nonlin=nn.ReLU, hsizes=[hsize]*hlayers_sol)\n",
    "smap = nm.system.Node(func, [\"b\"], [\"x\"], name=\"smap\")\n",
    "# define rounding model\n",
    "rnd = roundSTEModel(param_keys=[\"b\"], var_keys=[\"x\"],  output_keys=[\"x_rnd\"], int_ind=model.int_ind, name=\"round\")\n",
    "# build neuromancer problem for rounding\n",
    "components = nn.ModuleList([smap, rnd]).to(\"cuda\")\n",
    "loss_fn = nmQuadratic([\"b\", \"x_rnd\"], num_var, num_ineq, penalty_weight)"
   ]
  },
  {
   "cell_type": "code",
   "execution_count": 10,
   "id": "bcb98364-a010-4e1d-9bf5-cb085658674a",
   "metadata": {},
   "outputs": [
    {
     "name": "stdout",
     "output_type": "stream",
     "text": [
      "Epoch 0, Validation Loss: 2485.01\n",
      "Epoch 1, Validation Loss: 49.42\n",
      "Epoch 2, Validation Loss: 4.36\n",
      "Epoch 3, Validation Loss: 1.43\n",
      "Epoch 4, Validation Loss: -1.41\n",
      "Epoch 5, Validation Loss: -3.71\n",
      "Epoch 6, Validation Loss: -6.00\n",
      "Epoch 7, Validation Loss: -7.08\n",
      "Epoch 8, Validation Loss: -8.11\n",
      "Epoch 9, Validation Loss: -9.06\n",
      "Epoch 10, Validation Loss: -9.43\n",
      "Epoch 11, Validation Loss: -9.25\n",
      "Epoch 12, Validation Loss: -9.97\n",
      "Epoch 13, Validation Loss: -9.17\n",
      "Epoch 14, Validation Loss: -10.31\n",
      "Epoch 15, Validation Loss: -10.05\n",
      "Epoch 16, Validation Loss: -10.12\n",
      "Epoch 17, Validation Loss: -10.79\n",
      "Epoch 18, Validation Loss: -10.45\n",
      "Epoch 19, Validation Loss: -10.87\n",
      "Epoch 20, Validation Loss: -10.40\n",
      "Epoch 21, Validation Loss: -10.50\n",
      "Epoch 22, Validation Loss: -10.22\n",
      "Epoch 23, Validation Loss: -10.52\n",
      "Epoch 24, Validation Loss: -10.54\n",
      "Epoch 25, Validation Loss: -9.30\n",
      "Epoch 26, Validation Loss: -10.27\n",
      "Epoch 27, Validation Loss: -10.66\n",
      "Epoch 28, Validation Loss: -10.10\n",
      "Epoch 29, Validation Loss: -10.52\n",
      "Epoch 30, Validation Loss: -10.07\n",
      "Epoch 31, Validation Loss: -10.52\n",
      "Epoch 32, Validation Loss: -10.21\n",
      "Epoch 33, Validation Loss: -9.93\n",
      "Epoch 34, Validation Loss: -10.68\n",
      "Epoch 35, Validation Loss: -10.32\n",
      "Epoch 36, Validation Loss: -10.39\n",
      "Epoch 37, Validation Loss: -10.14\n",
      "Epoch 38, Validation Loss: -10.01\n",
      "Epoch 39, Validation Loss: -10.92\n",
      "Epoch 40, Validation Loss: -10.79\n",
      "Epoch 41, Validation Loss: -10.40\n",
      "Epoch 42, Validation Loss: -10.60\n",
      "Epoch 43, Validation Loss: -10.97\n",
      "Epoch 44, Validation Loss: -10.44\n",
      "Epoch 45, Validation Loss: -10.58\n",
      "Epoch 46, Validation Loss: -10.73\n",
      "Epoch 47, Validation Loss: -10.48\n",
      "Epoch 48, Validation Loss: -10.30\n",
      "Epoch 49, Validation Loss: -10.63\n",
      "Epoch 50, Validation Loss: -10.24\n",
      "Epoch 51, Validation Loss: -10.30\n",
      "Epoch 52, Validation Loss: -10.61\n",
      "Epoch 53, Validation Loss: -10.15\n",
      "Epoch 54, Validation Loss: -10.65\n",
      "Epoch 55, Validation Loss: -10.23\n",
      "Epoch 56, Validation Loss: -10.29\n",
      "Epoch 57, Validation Loss: -10.93\n",
      "Epoch 58, Validation Loss: -10.24\n",
      "Epoch 59, Validation Loss: -10.48\n",
      "Epoch 60, Validation Loss: -10.49\n",
      "Epoch 61, Validation Loss: -10.91\n",
      "Epoch 62, Validation Loss: -10.46\n",
      "Early stopping at epoch 62\n",
      "Best model loaded.\n",
      "Training complete.\n",
      "The training time is 72.51 sec.\n"
     ]
    }
   ],
   "source": [
    "from src.problem.neuromancer.trainer import trainer\n",
    "# training\n",
    "epochs = 200                    # number of training epochs\n",
    "warmup = 20                     # number of epochs to wait before enacting early stopping policy\n",
    "patience = 20                   # number of epochs with no improvement in eval metric to allow before early stopping\n",
    "optimizer = torch.optim.AdamW(components.parameters(), lr=lr)\n",
    "# create a trainer for the problem\n",
    "my_trainer = trainer(components, loss_fn, optimizer, epochs, patience, warmup, device=\"cuda\")\n",
    "# training for the rounding problem\n",
    "my_trainer.train(loader_train, loader_dev)"
   ]
  },
  {
   "cell_type": "code",
   "execution_count": 11,
   "id": "28352997-9ea1-4599-a61a-f3b7d01f6a5d",
   "metadata": {},
   "outputs": [
    {
     "name": "stderr",
     "output_type": "stream",
     "text": [
      "100%|████████████████████████████████████████████████████████████████████████████████| 100/100 [00:05<00:00, 19.26it/s]\n"
     ]
    },
    {
     "name": "stdout",
     "output_type": "stream",
     "text": [
      "          Obj Val  Constraints Viol  Elapsed Time\n",
      "count  100.000000             100.0    100.000000\n",
      "mean   -10.992014               0.0      0.002165\n",
      "std      0.480707               0.0      0.000670\n",
      "min    -11.832628               0.0      0.000994\n",
      "25%    -11.259485               0.0      0.001999\n",
      "50%    -11.066118               0.0      0.002005\n",
      "75%    -10.695165               0.0      0.002628\n",
      "max     -9.085577               0.0      0.003584\n",
      "Number of infeasible solution: 0\n"
     ]
    }
   ],
   "source": [
    "params, sols, objvals, conviols, elapseds = [], [], [], [], []\n",
    "for b in tqdm(data_test.datadict[\"b\"][:100]):\n",
    "    # data point as tensor\n",
    "    datapoints = {\"b\": torch.unsqueeze(b, 0).to(\"cuda\"), \n",
    "                  \"name\": \"test\"}\n",
    "    # infer\n",
    "    components.eval()\n",
    "    tick = time.time()\n",
    "    with torch.no_grad():\n",
    "        for comp in components:\n",
    "            datapoints.update(comp(datapoints))\n",
    "    tock = time.time()\n",
    "    # assign params\n",
    "    model.set_param_val({\"b\":b.cpu().numpy()})\n",
    "    # assign vars\n",
    "    x = datapoints[\"x_rnd\"]\n",
    "    for i in range(num_var):\n",
    "        model.vars[\"x\"][i].value = x[0,i].item()\n",
    "    # get solutions\n",
    "    xval, objval = model.get_val()    \n",
    "    params.append(list(b.cpu().numpy()))\n",
    "    sols.append(list(list(xval.values())[0].values()))\n",
    "    objvals.append(objval)\n",
    "    conviols.append(sum(model.cal_violation()))\n",
    "    elapseds.append(tock - tick)\n",
    "df = pd.DataFrame({\"Param\":params, \"Sol\":sols, \"Obj Val\": objvals, \"Constraints Viol\": conviols, \"Elapsed Time\": elapseds})\n",
    "time.sleep(1)\n",
    "print(df.describe())\n",
    "print(\"Number of infeasible solution: {}\".format(np.sum(df[\"Constraints Viol\"] > 0)))\n",
    "df.to_csv(\"result/cq_st_100-100.csv\")"
   ]
  },
  {
   "cell_type": "code",
   "execution_count": null,
   "id": "9008223a-b425-4ace-bd83-74c444877c57",
   "metadata": {},
   "outputs": [],
   "source": []
  }
 ],
 "metadata": {
  "kernelspec": {
   "display_name": "Python 3 (ipykernel)",
   "language": "python",
   "name": "python3"
  },
  "language_info": {
   "codemirror_mode": {
    "name": "ipython",
    "version": 3
   },
   "file_extension": ".py",
   "mimetype": "text/x-python",
   "name": "python",
   "nbconvert_exporter": "python",
   "pygments_lexer": "ipython3",
   "version": "3.10.13"
  }
 },
 "nbformat": 4,
 "nbformat_minor": 5
}
