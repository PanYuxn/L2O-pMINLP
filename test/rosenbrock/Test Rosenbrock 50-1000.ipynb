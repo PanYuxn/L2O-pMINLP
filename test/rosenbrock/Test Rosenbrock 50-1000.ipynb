{
 "cells": [
  {
   "cell_type": "code",
   "execution_count": 1,
   "id": "be61b914-e1af-43b9-9766-5092593f92dd",
   "metadata": {},
   "outputs": [],
   "source": [
    "import time\n",
    "\n",
    "import numpy as np\n",
    "import pandas as pd\n",
    "import torch\n",
    "from torch import nn\n",
    "from tqdm import tqdm\n",
    "\n",
    "# random seed\n",
    "np.random.seed(42)\n",
    "torch.manual_seed(42)\n",
    "torch.cuda.manual_seed(42)"
   ]
  },
  {
   "cell_type": "code",
   "execution_count": 2,
   "id": "35fe4527-9dbf-48f0-bfb3-62cda59092aa",
   "metadata": {},
   "outputs": [],
   "source": [
    "# turn off warning\n",
    "import logging\n",
    "logging.getLogger('pyomo.core').setLevel(logging.ERROR)"
   ]
  },
  {
   "cell_type": "markdown",
   "id": "c5560447-da9d-4cbe-aab4-538aa11c8ee8",
   "metadata": {},
   "source": [
    "## Problem Setting"
   ]
  },
  {
   "cell_type": "code",
   "execution_count": 3,
   "id": "52363c72-0d20-4c08-bd00-0f62aa73686c",
   "metadata": {},
   "outputs": [],
   "source": [
    "# init\n",
    "steepness = 50    # steepness factor\n",
    "num_blocks = 1000 # number of expression blocks\n",
    "num_data = 9100   # number of data\n",
    "test_size = 100   # number of test size\n",
    "val_size = 1000   # number of validation size\n",
    "train_size = num_data - test_size - val_size"
   ]
  },
  {
   "cell_type": "code",
   "execution_count": 4,
   "id": "21938c00-d73f-4255-bc7c-bce6e8034cf8",
   "metadata": {},
   "outputs": [],
   "source": [
    "# parameters as input data\n",
    "p_low, p_high = 1.0, 8.0\n",
    "a_low, a_high = 0.5, 4.5\n",
    "p_train = np.random.uniform(p_low, p_high, (train_size, 1)).astype(np.float32)\n",
    "p_test  = np.random.uniform(p_low, p_high, (test_size, 1)).astype(np.float32)\n",
    "p_dev   = np.random.uniform(p_low, p_high, (val_size, 1)).astype(np.float32)\n",
    "a_train = np.random.uniform(a_low, a_high, (train_size, num_blocks)).astype(np.float32)\n",
    "a_test  = np.random.uniform(a_low, a_high, (test_size, num_blocks)).astype(np.float32)\n",
    "a_dev   = np.random.uniform(a_low, a_high, (val_size, num_blocks)).astype(np.float32)"
   ]
  },
  {
   "cell_type": "code",
   "execution_count": 5,
   "id": "5ecf81ff-627d-444d-8d90-121c7e20c217",
   "metadata": {},
   "outputs": [],
   "source": [
    "# nm datasets\n",
    "from neuromancer.dataset import DictDataset\n",
    "data_train = DictDataset({\"p\":p_train, \"a\":a_train}, name=\"train\")\n",
    "data_test = DictDataset({\"p\":p_test, \"a\":a_test}, name=\"test\")\n",
    "data_dev = DictDataset({\"p\":p_dev, \"a\":a_dev}, name=\"dev\")\n",
    "# torch dataloaders\n",
    "from torch.utils.data import DataLoader\n",
    "batch_size = 64\n",
    "loader_train = DataLoader(data_train, batch_size, num_workers=0, collate_fn=data_train.collate_fn, shuffle=True)\n",
    "loader_test = DataLoader(data_test, batch_size, num_workers=0, collate_fn=data_test.collate_fn, shuffle=False)\n",
    "loader_dev = DataLoader(data_dev, batch_size, num_workers=0, collate_fn=data_dev.collate_fn, shuffle=True)"
   ]
  },
  {
   "cell_type": "markdown",
   "id": "a2b99751-3a6e-46dc-9e33-fdf68d813034",
   "metadata": {},
   "source": [
    "## Exact Solver"
   ]
  },
  {
   "cell_type": "code",
   "execution_count": 6,
   "id": "f2e7f07c-6a97-44d6-aca7-56f395e0c964",
   "metadata": {},
   "outputs": [],
   "source": [
    "from src.problem import msRosenbrock\n",
    "model = msRosenbrock(steepness, num_blocks, timelimit=60)"
   ]
  },
  {
   "cell_type": "code",
   "execution_count": 22,
   "id": "77e326fa-de2f-415e-a4d4-1f28eef6511a",
   "metadata": {},
   "outputs": [
    {
     "name": "stderr",
     "output_type": "stream",
     "text": [
      "100%|██████████████████████████████████████████████████████████████████████████████| 100/100 [1:40:16<00:00, 60.16s/it]\n"
     ]
    },
    {
     "name": "stdout",
     "output_type": "stream",
     "text": [
      "            Obj Val  Constraints Viol  Elapsed Time\n",
      "count  1.000000e+02        100.000000    100.000000\n",
      "mean   1.034866e+10         60.337900     60.154477\n",
      "std    9.777445e+10        365.341487      0.391713\n",
      "min    7.003418e+03          0.000000     59.505559\n",
      "25%    8.094900e+03          0.000000     59.961267\n",
      "50%    9.235170e+03          0.000000     60.029059\n",
      "75%    1.113104e+04          0.000000     60.151567\n",
      "max    9.774853e+11       2798.928200     61.952170\n",
      "Number of infeasible solution: 3\n",
      "Number of None values:  0\n"
     ]
    }
   ],
   "source": [
    "params, sols, objvals, conviols, elapseds = [], [], [], [], []\n",
    "for p, a in tqdm(list(zip(p_test, a_test))):\n",
    "    # set params\n",
    "    model.set_param_val({\"p\":p, \"a\":a})\n",
    "    # solve\n",
    "    tick = time.time()\n",
    "    try:\n",
    "        xval, objval = model.solve(\"scip\")\n",
    "        # eval\n",
    "        params.append(list(p)+list(a))\n",
    "        sols.append(list(list(xval.values())[0].values()))\n",
    "        objvals.append(objval)\n",
    "        conviols.append(sum(model.cal_violation()))\n",
    "    except:\n",
    "        params.append(list(p)+list(a))\n",
    "        sols.append(None)\n",
    "        objvals.append(None)\n",
    "        conviols.append(None)\n",
    "    tock = time.time()\n",
    "    elapseds.append(tock - tick)\n",
    "df = pd.DataFrame({\"Param\":params, \"Sol\":sols, \"Obj Val\": objvals, \"Constraints Viol\": conviols, \"Elapsed Time\": elapseds})\n",
    "df.to_csv(\"result/rb_exact_50-1000.csv\")\n",
    "time.sleep(1)\n",
    "print(df.describe())\n",
    "print(\"Number of infeasible solution: {}\".format(np.sum(df[\"Constraints Viol\"] > 0)))\n",
    "print(\"Number of None values: \", df[\"Sol\"].isna().sum())"
   ]
  },
  {
   "cell_type": "markdown",
   "id": "28b8053d-2fb9-419e-ab27-56d35a7310c2",
   "metadata": {},
   "source": [
    "## Heuristic - Round"
   ]
  },
  {
   "cell_type": "code",
   "execution_count": 23,
   "id": "8ac297ea-1ea4-4368-bbcf-e64f185397da",
   "metadata": {},
   "outputs": [],
   "source": [
    "from src.heuristic import naive_round"
   ]
  },
  {
   "cell_type": "code",
   "execution_count": 24,
   "id": "317ca34b-ef96-4149-9354-cc76439f4713",
   "metadata": {},
   "outputs": [
    {
     "name": "stderr",
     "output_type": "stream",
     "text": [
      "100%|████████████████████████████████████████████████████████████████████████████████| 100/100 [35:15<00:00, 21.15s/it]\n"
     ]
    },
    {
     "name": "stdout",
     "output_type": "stream",
     "text": [
      "            Obj Val  Constraints Viol  Elapsed Time\n",
      "count  1.000000e+02        100.000000    100.000000\n",
      "mean   8.608484e+06        712.702877     20.863169\n",
      "std    1.728931e+07       1002.559172     25.682819\n",
      "min    4.489367e+03          0.000000      2.119940\n",
      "25%    6.923767e+03          0.000000      2.229135\n",
      "50%    7.189048e+03         40.970107      2.357334\n",
      "75%    9.150833e+03       1190.632737     60.004233\n",
      "max    4.301407e+07       4576.590539     61.145267\n",
      "Number of infeasible solution: 55\n"
     ]
    }
   ],
   "source": [
    "params, sols, objvals, conviols, elapseds = [], [], [], [], []\n",
    "for p, a in tqdm(list(zip(p_test, a_test))):\n",
    "    # set params\n",
    "    model.set_param_val({\"p\":p, \"a\":a})\n",
    "    # relax\n",
    "    model_rel = model.relax()\n",
    "    # solve\n",
    "    tick = time.time()\n",
    "    xval_rel, _ = model_rel.solve(\"scip\")\n",
    "    xval, objval = naive_round(xval_rel, model)\n",
    "    tock = time.time()\n",
    "    # eval\n",
    "    params.append(list(p)+list(a))\n",
    "    sols.append(list(list(xval.values())[0].values()))\n",
    "    objvals.append(objval)\n",
    "    conviols.append(sum(model.cal_violation()))\n",
    "    elapseds.append(tock - tick)\n",
    "df = pd.DataFrame({\"Param\":params, \"Sol\":sols, \"Obj Val\": objvals, \"Constraints Viol\": conviols, \"Elapsed Time\": elapseds})\n",
    "time.sleep(1)\n",
    "df.to_csv(\"result/rb_heur_rnd_50-1000.csv\")\n",
    "time.sleep(1)\n",
    "print(df.describe())\n",
    "print(\"Number of infeasible solution: {}\".format(np.sum(df[\"Constraints Viol\"] > 0)))"
   ]
  },
  {
   "cell_type": "markdown",
   "id": "96304fbd-08f5-4be7-a81e-83c85332029c",
   "metadata": {},
   "source": [
    "## Heuristic - N1"
   ]
  },
  {
   "cell_type": "code",
   "execution_count": 25,
   "id": "356187af-e02d-4478-bf78-ada6a2e1b94b",
   "metadata": {},
   "outputs": [],
   "source": [
    "model_heur = model.first_solution_heuristic(nodes_limit=1)"
   ]
  },
  {
   "cell_type": "code",
   "execution_count": 26,
   "id": "f4c7fc52-cbbc-4414-bf1d-316d65c8db5b",
   "metadata": {},
   "outputs": [
    {
     "name": "stderr",
     "output_type": "stream",
     "text": [
      "100%|████████████████████████████████████████████████████████████████████████████████| 100/100 [14:36<00:00,  8.76s/it]\n"
     ]
    },
    {
     "name": "stdout",
     "output_type": "stream",
     "text": [
      "            Obj Val  Constraints Viol  Elapsed Time\n",
      "count  1.000000e+02        100.000000    100.000000\n",
      "mean   2.098864e+13         60.337900      8.753145\n",
      "std    1.104401e+14        365.341487      9.631544\n",
      "min    7.003418e+03          0.000000      5.077394\n",
      "25%    8.109379e+03          0.000000      5.503791\n",
      "50%    9.235170e+03          0.000000      6.291873\n",
      "75%    1.113104e+04          0.000000      7.590513\n",
      "max    9.017647e+14       2798.928200     60.242697\n",
      "Number of infeasible solution: 3\n"
     ]
    }
   ],
   "source": [
    "params, sols, objvals, conviols, elapseds = [], [], [], [], []\n",
    "for p, a in tqdm(list(zip(p_test, a_test))):\n",
    "    # set params\n",
    "    model_heur.set_param_val({\"p\":p, \"a\":a})\n",
    "    # solve\n",
    "    tick = time.time()\n",
    "    try:\n",
    "        xval, objval = model_heur.solve(\"scip\")\n",
    "        # eval\n",
    "        params.append(list(p)+list(a))\n",
    "        sols.append(list(list(xval.values())[0].values()))\n",
    "        objvals.append(objval)\n",
    "        conviols.append(sum(model_heur.cal_violation()))\n",
    "    except:\n",
    "        params.append(list(p)+list(a))\n",
    "        sols.append(None)\n",
    "        objvals.append(None)\n",
    "        conviols.append(None)\n",
    "    tock = time.time()\n",
    "    elapseds.append(tock - tick)\n",
    "df = pd.DataFrame({\"Param\":params, \"Sol\":sols, \"Obj Val\": objvals, \"Constraints Viol\": conviols, \"Elapsed Time\": elapseds})\n",
    "time.sleep(1)\n",
    "df.to_csv(\"result/rb_heur_n1_50-1000.csv\")\n",
    "time.sleep(1)\n",
    "print(df.describe())\n",
    "print(\"Number of infeasible solution: {}\".format(np.sum(df[\"Constraints Viol\"] > 0)))"
   ]
  },
  {
   "cell_type": "markdown",
   "id": "9819c60c-df5f-41c6-ae83-888c75aa78d7",
   "metadata": {},
   "source": [
    "## Learnable Rounding"
   ]
  },
  {
   "cell_type": "code",
   "execution_count": 7,
   "id": "6c2bdd74-a0d1-4afa-b610-4f29559a5860",
   "metadata": {},
   "outputs": [],
   "source": [
    "# random seed\n",
    "np.random.seed(42)\n",
    "torch.manual_seed(42)\n",
    "torch.cuda.manual_seed(42)"
   ]
  },
  {
   "cell_type": "code",
   "execution_count": 8,
   "id": "536d2d58-67ba-408a-b72a-7c5bd54a5ff4",
   "metadata": {},
   "outputs": [],
   "source": [
    "# hyperparameters\n",
    "penalty_weight = 100   # weight of constraint violation penealty\n",
    "hlayers_sol = 5       # number of hidden layers for solution mapping\n",
    "hlayers_rnd = 4       # number of hidden layers for solution mapping\n",
    "hsize = 256           # width of hidden layers for solution mapping\n",
    "lr = 1e-3             # learning rate"
   ]
  },
  {
   "cell_type": "code",
   "execution_count": 9,
   "id": "fee1241e-e53a-4cbb-927a-edcdb3537303",
   "metadata": {},
   "outputs": [],
   "source": [
    "# set problem\n",
    "import neuromancer as nm\n",
    "from src.problem import nmRosenbrock\n",
    "from src.func.layer import netFC\n",
    "from src.func import roundGumbelModel\n",
    "# build neural architecture for the solution map\n",
    "func = nm.modules.blocks.MLP(insize=num_blocks+1, outsize=2*num_blocks, bias=True,\n",
    "                             linear_map=nm.slim.maps[\"linear\"],\n",
    "                             nonlin=nn.ReLU, hsizes=[hsize]*hlayers_sol)\n",
    "smap = nm.system.Node(func, [\"p\", \"a\"], [\"x\"], name=\"smap\")\n",
    "# define rounding model\n",
    "layers_rnd = netFC(input_dim=3*num_blocks+1, hidden_dims=[hsize]*hlayers_rnd, output_dim=2*num_blocks)\n",
    "rnd = roundGumbelModel(layers=layers_rnd, param_keys=[\"p\", \"a\"], var_keys=[\"x\"],  output_keys=[\"x_rnd\"], \n",
    "                       int_ind=model.int_ind, continuous_update=True, name=\"round\")\n",
    "# build neuromancer problem for rounding\n",
    "components = nn.ModuleList([smap, rnd]).to(\"cuda\")\n",
    "loss_fn = nmRosenbrock([\"p\", \"a\", \"x_rnd\"], steepness, num_blocks, penalty_weight)"
   ]
  },
  {
   "cell_type": "code",
   "execution_count": 10,
   "id": "e4f10263-5f69-4288-a4e8-8be83929c8d6",
   "metadata": {},
   "outputs": [
    {
     "name": "stdout",
     "output_type": "stream",
     "text": [
      "Epoch 0, Validation Loss: 250300.11\n",
      "Epoch 1, Validation Loss: 105608.96\n",
      "Epoch 2, Validation Loss: 27104.90\n",
      "Epoch 3, Validation Loss: 54222.02\n",
      "Epoch 4, Validation Loss: 37978.01\n",
      "Epoch 5, Validation Loss: 16898.56\n",
      "Epoch 6, Validation Loss: 32638.00\n",
      "Epoch 7, Validation Loss: 58506.22\n",
      "Epoch 8, Validation Loss: 21326.39\n",
      "Epoch 9, Validation Loss: 15854.39\n",
      "Epoch 10, Validation Loss: 9592.15\n",
      "Epoch 11, Validation Loss: 9759.54\n",
      "Epoch 12, Validation Loss: 10781.09\n",
      "Epoch 13, Validation Loss: 10186.48\n",
      "Epoch 14, Validation Loss: 13282.76\n",
      "Epoch 15, Validation Loss: 8255.31\n",
      "Epoch 16, Validation Loss: 9875.97\n",
      "Epoch 17, Validation Loss: 10855.83\n",
      "Epoch 18, Validation Loss: 10604.38\n",
      "Epoch 19, Validation Loss: 11615.07\n",
      "Epoch 20, Validation Loss: 7679.64\n",
      "Epoch 21, Validation Loss: 7050.09\n",
      "Epoch 22, Validation Loss: 14636.49\n",
      "Epoch 23, Validation Loss: 8134.74\n",
      "Epoch 24, Validation Loss: 7438.54\n",
      "Epoch 25, Validation Loss: 7831.09\n",
      "Epoch 26, Validation Loss: 7250.64\n",
      "Epoch 27, Validation Loss: 14208.64\n",
      "Epoch 28, Validation Loss: 7741.27\n",
      "Epoch 29, Validation Loss: 6654.68\n",
      "Epoch 30, Validation Loss: 8371.48\n",
      "Epoch 31, Validation Loss: 2273019872.00\n",
      "Epoch 32, Validation Loss: 17172.46\n",
      "Epoch 33, Validation Loss: 15045.60\n",
      "Epoch 34, Validation Loss: 11155.49\n",
      "Epoch 35, Validation Loss: 8227.19\n",
      "Epoch 36, Validation Loss: 25598.22\n",
      "Epoch 37, Validation Loss: 6444.79\n",
      "Epoch 38, Validation Loss: 12176.83\n",
      "Epoch 39, Validation Loss: 12927.02\n",
      "Epoch 40, Validation Loss: 9614.25\n",
      "Epoch 41, Validation Loss: 9860.87\n",
      "Epoch 42, Validation Loss: 9150.38\n",
      "Epoch 43, Validation Loss: 19154.26\n",
      "Epoch 44, Validation Loss: 22011.87\n",
      "Epoch 45, Validation Loss: 13354.32\n",
      "Epoch 46, Validation Loss: 19764.71\n",
      "Epoch 47, Validation Loss: 6814.78\n",
      "Epoch 48, Validation Loss: 19500.23\n",
      "Epoch 49, Validation Loss: 32786.79\n",
      "Epoch 50, Validation Loss: 23818.05\n",
      "Epoch 51, Validation Loss: 14650.79\n",
      "Epoch 52, Validation Loss: 8502.13\n",
      "Epoch 53, Validation Loss: 6967.63\n",
      "Epoch 54, Validation Loss: 16602.87\n",
      "Epoch 55, Validation Loss: 23093.36\n",
      "Epoch 56, Validation Loss: 20444.30\n",
      "Early stopping at epoch 56\n",
      "Best model loaded.\n",
      "Training complete.\n",
      "The training time is 106.76 sec.\n"
     ]
    }
   ],
   "source": [
    "from src.problem.neuromancer.trainer import trainer\n",
    "# training\n",
    "epochs = 200                    # number of training epochs\n",
    "warmup = 20                     # number of epochs to wait before enacting early stopping policy\n",
    "patience = 20                   # number of epochs with no improvement in eval metric to allow before early stopping\n",
    "optimizer = torch.optim.AdamW(components.parameters(), lr=lr)\n",
    "# create a trainer for the problem\n",
    "my_trainer = trainer(components, loss_fn, optimizer, epochs, patience, warmup, device=\"cuda\")\n",
    "# training for the rounding problem\n",
    "my_trainer.train(loader_train, loader_dev)"
   ]
  },
  {
   "cell_type": "code",
   "execution_count": 11,
   "id": "3e835084-eb75-45d9-bcbd-5fb4c613fb41",
   "metadata": {},
   "outputs": [
    {
     "name": "stderr",
     "output_type": "stream",
     "text": [
      "100%|████████████████████████████████████████████████████████████████████████████████| 100/100 [00:12<00:00,  8.30it/s]\n"
     ]
    },
    {
     "name": "stdout",
     "output_type": "stream",
     "text": [
      "            Obj Val  Constraints Viol  Elapsed Time\n",
      "count    100.000000        100.000000    100.000000\n",
      "mean    6245.146850          0.527028      0.004178\n",
      "std     1871.580588          3.971328      0.000894\n",
      "min     2750.472117          0.000000      0.002979\n",
      "25%     4614.220490          0.000000      0.003531\n",
      "50%     6500.151225          0.000000      0.004006\n",
      "75%     7880.428093          0.000000      0.004545\n",
      "max    10655.660961         36.360297      0.008592\n",
      "Number of infeasible solution: 2\n"
     ]
    }
   ],
   "source": [
    "params, sols, objvals, conviols, elapseds = [], [], [], [], []\n",
    "for p, a in tqdm(list(zip(p_test, a_test))):\n",
    "    # data point as tensor\n",
    "    datapoints = {\"p\": torch.tensor(np.array([p]), dtype=torch.float32).to(\"cuda\"), \n",
    "                  \"a\": torch.tensor(np.array([a]), dtype=torch.float32).to(\"cuda\"),\n",
    "                  \"name\": \"test\"}\n",
    "    # infer\n",
    "    components.eval()\n",
    "    tick = time.time()\n",
    "    with torch.no_grad():\n",
    "        for comp in components:\n",
    "            datapoints.update(comp(datapoints))\n",
    "    tock = time.time()\n",
    "    # assign params\n",
    "    model.set_param_val({\"p\":p, \"a\":a})\n",
    "    # assign vars\n",
    "    x = datapoints[\"x_rnd\"]\n",
    "    for i in range(2*num_blocks):\n",
    "        model.vars[\"x\"][i].value = x[0,i].item()\n",
    "    # get solutions\n",
    "    xval, objval = model.get_val()    \n",
    "    params.append(list(p)+list(a))\n",
    "    sols.append(list(list(xval.values())[0].values()))\n",
    "    objvals.append(objval)\n",
    "    conviols.append(sum(model.cal_violation()))\n",
    "    elapseds.append(tock - tick)\n",
    "df = pd.DataFrame({\"Param\":params, \"Sol\":sols, \"Obj Val\": objvals, \"Constraints Viol\": conviols, \"Elapsed Time\": elapseds})\n",
    "time.sleep(1)\n",
    "df.to_csv(\"result/rb_lr_50-1000.csv\")\n",
    "time.sleep(1)\n",
    "print(df.describe())\n",
    "print(\"Number of infeasible solution: {}\".format(np.sum(df[\"Constraints Viol\"] > 0)))"
   ]
  },
  {
   "cell_type": "markdown",
   "id": "2dbf8a72-29b9-49c4-b3c1-0d68895c1c1f",
   "metadata": {},
   "source": [
    "## Learnable Threshold"
   ]
  },
  {
   "cell_type": "code",
   "execution_count": 12,
   "id": "7912a689-22cd-4d7b-a50f-d136dbdf5940",
   "metadata": {},
   "outputs": [],
   "source": [
    "# random seed\n",
    "np.random.seed(42)\n",
    "torch.manual_seed(42)\n",
    "torch.cuda.manual_seed(42)"
   ]
  },
  {
   "cell_type": "code",
   "execution_count": 13,
   "id": "d46b9817-87ac-4af0-b387-b10c9a4998f4",
   "metadata": {},
   "outputs": [],
   "source": [
    "# hyperparameters\n",
    "penalty_weight = 100  # weight of constraint violation penealty\n",
    "hlayers_sol = 5       # number of hidden layers for solution mapping\n",
    "hlayers_rnd = 4       # number of hidden layers for solution mapping\n",
    "hsize = 256           # width of hidden layers for solution mapping\n",
    "lr = 1e-3             # learning rate"
   ]
  },
  {
   "cell_type": "code",
   "execution_count": 14,
   "id": "fa8b147f-39c8-4eb7-bb95-93dd8e4cb1cf",
   "metadata": {},
   "outputs": [],
   "source": [
    "# set problem\n",
    "import neuromancer as nm\n",
    "from src.problem import nmRosenbrock\n",
    "from src.func.layer import netFC\n",
    "from src.func import roundThresholdModel\n",
    "# build neural architecture for the solution map\n",
    "func = nm.modules.blocks.MLP(insize=num_blocks+1, outsize=2*num_blocks, bias=True,\n",
    "                             linear_map=nm.slim.maps[\"linear\"],\n",
    "                             nonlin=nn.ReLU, hsizes=[hsize]*hlayers_sol)\n",
    "smap = nm.system.Node(func, [\"p\", \"a\"], [\"x\"], name=\"smap\")\n",
    "# define rounding model\n",
    "layers_rnd = netFC(input_dim=3*num_blocks+1, hidden_dims=[hsize]*hlayers_rnd, output_dim=2*num_blocks)\n",
    "rnd = roundThresholdModel(layers=layers_rnd, param_keys=[\"p\", \"a\"], var_keys=[\"x\"],  output_keys=[\"x_rnd\"], \n",
    "                          int_ind=model.int_ind, continuous_update=True, name=\"round\")\n",
    "# build neuromancer problem for rounding\n",
    "components = nn.ModuleList([smap, rnd]).to(\"cuda\")\n",
    "loss_fn = nmRosenbrock([\"p\", \"a\", \"x_rnd\"], steepness, num_blocks, penalty_weight)"
   ]
  },
  {
   "cell_type": "code",
   "execution_count": 15,
   "id": "c6f5bb17-8c3c-4dcd-952d-caa1d7c4c4fa",
   "metadata": {},
   "outputs": [
    {
     "name": "stdout",
     "output_type": "stream",
     "text": [
      "Epoch 0, Validation Loss: 226581.63\n",
      "Epoch 1, Validation Loss: 75214.19\n",
      "Epoch 2, Validation Loss: 19010.10\n",
      "Epoch 3, Validation Loss: 15991.60\n",
      "Epoch 4, Validation Loss: 14844.77\n",
      "Epoch 5, Validation Loss: 14964.37\n",
      "Epoch 6, Validation Loss: 29084.75\n",
      "Epoch 7, Validation Loss: 34681.92\n",
      "Epoch 8, Validation Loss: 17475.70\n",
      "Epoch 9, Validation Loss: 61928.88\n",
      "Epoch 10, Validation Loss: 42145.68\n",
      "Epoch 11, Validation Loss: 11557.54\n",
      "Epoch 12, Validation Loss: 32102.24\n",
      "Epoch 13, Validation Loss: 22599.27\n",
      "Epoch 14, Validation Loss: 7574.08\n",
      "Epoch 15, Validation Loss: 15809.14\n",
      "Epoch 16, Validation Loss: 22126.03\n",
      "Epoch 17, Validation Loss: 15885.51\n",
      "Epoch 18, Validation Loss: 8336.59\n",
      "Epoch 19, Validation Loss: 8245.94\n",
      "Epoch 20, Validation Loss: 6787.02\n",
      "Epoch 21, Validation Loss: 7074.67\n",
      "Epoch 22, Validation Loss: 8567.50\n",
      "Epoch 23, Validation Loss: 7188.14\n",
      "Epoch 24, Validation Loss: 6200.62\n",
      "Epoch 25, Validation Loss: 12835.92\n",
      "Epoch 26, Validation Loss: 6362.29\n",
      "Epoch 27, Validation Loss: 6384.37\n",
      "Epoch 28, Validation Loss: 8869.04\n",
      "Epoch 29, Validation Loss: 13167.80\n",
      "Epoch 30, Validation Loss: 7109.63\n",
      "Epoch 31, Validation Loss: 7220.98\n",
      "Epoch 32, Validation Loss: 23741.76\n",
      "Epoch 33, Validation Loss: 6961.60\n",
      "Epoch 34, Validation Loss: 7013.87\n",
      "Epoch 35, Validation Loss: 12797.82\n",
      "Epoch 36, Validation Loss: 7216.83\n",
      "Epoch 37, Validation Loss: 7787.68\n",
      "Epoch 38, Validation Loss: 11452.26\n",
      "Epoch 39, Validation Loss: 6455.93\n",
      "Epoch 40, Validation Loss: 6794.94\n",
      "Epoch 41, Validation Loss: 32278.53\n",
      "Epoch 42, Validation Loss: 10329.64\n",
      "Epoch 43, Validation Loss: 8809.69\n",
      "Early stopping at epoch 43\n",
      "Best model loaded.\n",
      "Training complete.\n",
      "The training time is 84.61 sec.\n"
     ]
    }
   ],
   "source": [
    "from src.problem.neuromancer.trainer import trainer\n",
    "# training\n",
    "epochs = 200                    # number of training epochs\n",
    "warmup = 20                     # number of epochs to wait before enacting early stopping policy\n",
    "patience = 20                   # number of epochs with no improvement in eval metric to allow before early stopping\n",
    "optimizer = torch.optim.AdamW(components.parameters(), lr=lr)\n",
    "# create a trainer for the problem\n",
    "my_trainer = trainer(components, loss_fn, optimizer, epochs, patience, warmup, device=\"cuda\")\n",
    "# training for the rounding problem\n",
    "my_trainer.train(loader_train, loader_dev)"
   ]
  },
  {
   "cell_type": "code",
   "execution_count": 16,
   "id": "6584d57e-6b4c-4262-82f5-55735ef17cac",
   "metadata": {},
   "outputs": [
    {
     "name": "stderr",
     "output_type": "stream",
     "text": [
      "100%|████████████████████████████████████████████████████████████████████████████████| 100/100 [00:14<00:00,  6.95it/s]\n"
     ]
    },
    {
     "name": "stdout",
     "output_type": "stream",
     "text": [
      "           Obj Val  Constraints Viol  Elapsed Time\n",
      "count   100.000000        100.000000    100.000000\n",
      "mean   6224.790435          1.652397      0.004661\n",
      "std     651.029131         10.427171      0.001050\n",
      "min    4860.101613          0.000000      0.002997\n",
      "25%    5722.318798          0.000000      0.004008\n",
      "50%    6097.228028          0.000000      0.004496\n",
      "75%    6679.180990          0.000000      0.005120\n",
      "max    7619.710902         82.268508      0.008314\n",
      "Number of infeasible solution: 3\n"
     ]
    }
   ],
   "source": [
    "params, sols, objvals, conviols, elapseds = [], [], [], [], []\n",
    "for p, a in tqdm(list(zip(p_test, a_test))):\n",
    "    # data point as tensor\n",
    "    datapoints = {\"p\": torch.tensor(np.array([p]), dtype=torch.float32).to(\"cuda\"), \n",
    "                  \"a\": torch.tensor(np.array([a]), dtype=torch.float32).to(\"cuda\"),\n",
    "                  \"name\": \"test\"}\n",
    "    # infer\n",
    "    components.eval()\n",
    "    tick = time.time()\n",
    "    with torch.no_grad():\n",
    "        for comp in components:\n",
    "            datapoints.update(comp(datapoints))\n",
    "    tock = time.time()\n",
    "    # assign params\n",
    "    model.set_param_val({\"p\":p, \"a\":a})\n",
    "    # assign vars\n",
    "    x = datapoints[\"x_rnd\"]\n",
    "    for i in range(2*num_blocks):\n",
    "        model.vars[\"x\"][i].value = x[0,i].item()\n",
    "    # get solutions\n",
    "    xval, objval = model.get_val()    \n",
    "    params.append(list(p)+list(a))\n",
    "    sols.append(list(list(xval.values())[0].values()))\n",
    "    objvals.append(objval)\n",
    "    conviols.append(sum(model.cal_violation()))\n",
    "    elapseds.append(tock - tick)\n",
    "df = pd.DataFrame({\"Param\":params, \"Sol\":sols, \"Obj Val\": objvals, \"Constraints Viol\": conviols, \"Elapsed Time\": elapseds})\n",
    "time.sleep(1)\n",
    "df.to_csv(\"result/rb_lr_50-1000.csv\")\n",
    "time.sleep(1)\n",
    "print(df.describe())\n",
    "print(\"Number of infeasible solution: {}\".format(np.sum(df[\"Constraints Viol\"] > 0)))"
   ]
  },
  {
   "cell_type": "markdown",
   "id": "bece4166-1c16-45d5-a544-dbc93ee03cd1",
   "metadata": {},
   "source": [
    "## Parametric Learning Then Rounding"
   ]
  },
  {
   "cell_type": "code",
   "execution_count": 17,
   "id": "2fb68ab1-eaf8-4821-93ec-65e8c4b0a00c",
   "metadata": {},
   "outputs": [],
   "source": [
    "# random seed\n",
    "np.random.seed(42)\n",
    "torch.manual_seed(42)\n",
    "torch.cuda.manual_seed(42)"
   ]
  },
  {
   "cell_type": "code",
   "execution_count": 18,
   "id": "d01e8d11-e6f5-4e99-8dc4-e173751c927e",
   "metadata": {},
   "outputs": [],
   "source": [
    "# hyperparameters\n",
    "penalty_weight = 100  # weight of constraint violation penealty\n",
    "hlayers_sol = 5       # number of hidden layers for solution mapping\n",
    "hsize = 256           # width of hidden layers for solution mapping\n",
    "lr = 1e-3             # learning rate"
   ]
  },
  {
   "cell_type": "code",
   "execution_count": 19,
   "id": "99131f79-d4e9-4bcb-ba80-1d6284cdc5f2",
   "metadata": {},
   "outputs": [],
   "source": [
    "# set problem\n",
    "import neuromancer as nm\n",
    "from src.problem import nmRosenbrock\n",
    "from src.func.layer import netFC\n",
    "# build neural architecture for the solution map\n",
    "func = nm.modules.blocks.MLP(insize=num_blocks+1, outsize=2*num_blocks, bias=True,\n",
    "                             linear_map=nm.slim.maps[\"linear\"],\n",
    "                             nonlin=nn.ReLU, hsizes=[hsize]*hlayers_sol)\n",
    "smap = nm.system.Node(func, [\"p\", \"a\"], [\"x\"], name=\"smap\")\n",
    "# build neuromancer problem for rounding\n",
    "components = nn.ModuleList([smap]).to(\"cuda\")\n",
    "loss_fn = nmRosenbrock([\"p\", \"a\", \"x\"], steepness, num_blocks, penalty_weight)"
   ]
  },
  {
   "cell_type": "code",
   "execution_count": 20,
   "id": "dea5cd27-82b8-433f-bdc2-e539e78cfa36",
   "metadata": {},
   "outputs": [
    {
     "name": "stdout",
     "output_type": "stream",
     "text": [
      "Epoch 0, Validation Loss: 227071.21\n",
      "Epoch 1, Validation Loss: 42929.58\n",
      "Epoch 2, Validation Loss: 40075.25\n",
      "Epoch 3, Validation Loss: 22170.50\n",
      "Epoch 4, Validation Loss: 33348.82\n",
      "Epoch 5, Validation Loss: 22534.24\n",
      "Epoch 6, Validation Loss: 5636.01\n",
      "Epoch 7, Validation Loss: 14762.74\n",
      "Epoch 8, Validation Loss: 16995.27\n",
      "Epoch 9, Validation Loss: 3911.44\n",
      "Epoch 10, Validation Loss: 8198.72\n",
      "Epoch 11, Validation Loss: 5865.49\n",
      "Epoch 12, Validation Loss: 8530.31\n",
      "Epoch 13, Validation Loss: 3709.07\n",
      "Epoch 14, Validation Loss: 3393.37\n",
      "Epoch 15, Validation Loss: 3601.84\n",
      "Epoch 16, Validation Loss: 2483.33\n",
      "Epoch 17, Validation Loss: 3558.98\n",
      "Epoch 18, Validation Loss: 3478.48\n",
      "Epoch 19, Validation Loss: 4045.05\n",
      "Epoch 20, Validation Loss: 2511.78\n",
      "Epoch 21, Validation Loss: 2832.21\n",
      "Epoch 22, Validation Loss: 2999.51\n",
      "Epoch 23, Validation Loss: 4738.38\n",
      "Epoch 24, Validation Loss: 2322.20\n",
      "Epoch 25, Validation Loss: 5007.01\n",
      "Epoch 26, Validation Loss: 3789.77\n",
      "Epoch 27, Validation Loss: 9458.88\n",
      "Epoch 28, Validation Loss: 2656.73\n",
      "Epoch 29, Validation Loss: 2520.08\n",
      "Epoch 30, Validation Loss: 4724.90\n",
      "Epoch 31, Validation Loss: 3759.11\n",
      "Epoch 32, Validation Loss: 2260.50\n",
      "Epoch 33, Validation Loss: 2207.40\n",
      "Epoch 34, Validation Loss: 5190.53\n",
      "Epoch 35, Validation Loss: 4289.15\n",
      "Epoch 36, Validation Loss: 2362.81\n",
      "Epoch 37, Validation Loss: 3082.77\n",
      "Epoch 38, Validation Loss: 2839.70\n",
      "Epoch 39, Validation Loss: 4426.41\n",
      "Epoch 40, Validation Loss: 2548.89\n",
      "Epoch 41, Validation Loss: 3728.56\n",
      "Epoch 42, Validation Loss: 3870.04\n",
      "Epoch 43, Validation Loss: 2639.91\n",
      "Epoch 44, Validation Loss: 2432.33\n",
      "Epoch 45, Validation Loss: 2388.69\n",
      "Epoch 46, Validation Loss: 3997.52\n",
      "Epoch 47, Validation Loss: 14944.35\n",
      "Epoch 48, Validation Loss: 2227.97\n",
      "Epoch 49, Validation Loss: 3535.03\n",
      "Epoch 50, Validation Loss: 2046.99\n",
      "Epoch 51, Validation Loss: 3414.95\n",
      "Epoch 52, Validation Loss: 2212.05\n",
      "Epoch 53, Validation Loss: 2541.99\n",
      "Epoch 54, Validation Loss: 4804.08\n",
      "Epoch 55, Validation Loss: 3282.43\n",
      "Epoch 56, Validation Loss: 3804.32\n",
      "Epoch 57, Validation Loss: 2397.81\n",
      "Epoch 58, Validation Loss: 3480.89\n",
      "Epoch 59, Validation Loss: 2970.10\n",
      "Epoch 60, Validation Loss: 18921.04\n",
      "Epoch 61, Validation Loss: 2261.42\n",
      "Epoch 62, Validation Loss: 3481.04\n",
      "Epoch 63, Validation Loss: 2550.67\n",
      "Epoch 64, Validation Loss: 2138.17\n",
      "Epoch 65, Validation Loss: 8183.26\n",
      "Epoch 66, Validation Loss: 5213.42\n",
      "Epoch 67, Validation Loss: 2656.40\n",
      "Epoch 68, Validation Loss: 2176.41\n",
      "Epoch 69, Validation Loss: 2235.47\n",
      "Early stopping at epoch 69\n",
      "Best model loaded.\n",
      "Training complete.\n",
      "The training time is 61.30 sec.\n"
     ]
    }
   ],
   "source": [
    "from src.problem.neuromancer.trainer import trainer\n",
    "# training\n",
    "epochs = 200                    # number of training epochs\n",
    "warmup = 20                     # number of epochs to wait before enacting early stopping policy\n",
    "patience = 20                   # number of epochs with no improvement in eval metric to allow before early stopping\n",
    "optimizer = torch.optim.AdamW(components.parameters(), lr=lr)\n",
    "# create a trainer for the problem\n",
    "my_trainer = trainer(components, loss_fn, optimizer, epochs, patience, warmup, device=\"cuda\")\n",
    "# training for the rounding problem\n",
    "my_trainer.train(loader_train, loader_dev)"
   ]
  },
  {
   "cell_type": "code",
   "execution_count": 21,
   "id": "188c6d47-2e52-418c-ba52-33fed3701736",
   "metadata": {},
   "outputs": [
    {
     "name": "stderr",
     "output_type": "stream",
     "text": [
      "100%|████████████████████████████████████████████████████████████████████████████████| 100/100 [00:26<00:00,  3.82it/s]\n"
     ]
    },
    {
     "name": "stdout",
     "output_type": "stream",
     "text": [
      "           Obj Val  Constraints Viol  Elapsed Time\n",
      "count   100.000000        100.000000    100.000000\n",
      "mean   6186.159721          7.827350      0.001000\n",
      "std    1148.805519         20.181886      0.000505\n",
      "min    4430.873318          0.000000      0.000000\n",
      "25%    5667.174510          0.000000      0.000998\n",
      "50%    5787.591529          0.000000      0.001001\n",
      "75%    6141.942020          0.000000      0.001010\n",
      "max    9931.358833         73.789575      0.002490\n",
      "Number of infeasible solution: 17\n"
     ]
    }
   ],
   "source": [
    "from src.heuristic import naive_round\n",
    "params, sols, objvals, conviols, elapseds = [], [], [], [], []\n",
    "for p, a in tqdm(list(zip(p_test, a_test))):\n",
    "    # data point as tensor\n",
    "    datapoints = {\"p\": torch.tensor(np.array([p]), dtype=torch.float32).to(\"cuda\"), \n",
    "                  \"a\": torch.tensor(np.array([a]), dtype=torch.float32).to(\"cuda\"),\n",
    "                  \"name\": \"test\"}\n",
    "    # infer\n",
    "    components.eval()\n",
    "    tick = time.time()\n",
    "    with torch.no_grad():\n",
    "        for comp in components:\n",
    "            datapoints.update(comp(datapoints))\n",
    "    tock = time.time()\n",
    "    # assign params\n",
    "    model.set_param_val({\"p\":p, \"a\":a})\n",
    "    # assign vars\n",
    "    x = datapoints[\"x\"]\n",
    "    for i in range(num_blocks*2):\n",
    "        model.vars[\"x\"][i].value = x[0,i].item()\n",
    "    # get solutions\n",
    "    xval_rel, _ = model.get_val()\n",
    "    xval, objval = naive_round(xval_rel, model)\n",
    "    params.append(list(p)+list(a))\n",
    "    sols.append(list(list(xval.values())[0].values()))\n",
    "    objvals.append(objval)\n",
    "    conviols.append(sum(model.cal_violation()))\n",
    "    elapseds.append(tock - tick)\n",
    "df = pd.DataFrame({\"Param\":params, \"Sol\":sols, \"Obj Val\": objvals, \"Constraints Viol\": conviols, \"Elapsed Time\": elapseds})\n",
    "time.sleep(1)\n",
    "df.to_csv(\"result/rb_pr_50-1000.csv\")\n",
    "print(df.describe())\n",
    "print(\"Number of infeasible solution: {}\".format(np.sum(df[\"Constraints Viol\"] > 0)))"
   ]
  },
  {
   "cell_type": "markdown",
   "id": "c2986f49-9fac-40c9-879a-8310e2b63236",
   "metadata": {},
   "source": [
    "### STE Rounding"
   ]
  },
  {
   "cell_type": "code",
   "execution_count": 7,
   "id": "db2a9d85-7f01-4468-a6ea-ae00b01770a2",
   "metadata": {},
   "outputs": [],
   "source": [
    "# random seed\n",
    "np.random.seed(42)\n",
    "torch.manual_seed(42)\n",
    "torch.cuda.manual_seed(42)"
   ]
  },
  {
   "cell_type": "code",
   "execution_count": 8,
   "id": "c1fd925e-7f80-46d4-9c35-c21f24a25c10",
   "metadata": {},
   "outputs": [],
   "source": [
    "# hyperparameters\n",
    "penalty_weight = 100  # weight of constraint violation penealty\n",
    "hlayers_sol = 5       # number of hidden layers for solution mapping\n",
    "hsize = 16            # width of hidden layers for solution mapping\n",
    "lr = 1e-3             # learning rate"
   ]
  },
  {
   "cell_type": "code",
   "execution_count": 9,
   "id": "382b643d-2784-4898-9a16-8cc29e5ae616",
   "metadata": {},
   "outputs": [],
   "source": [
    "# set problem\n",
    "import neuromancer as nm\n",
    "from src.problem import nmRosenbrock\n",
    "from src.func.layer import netFC\n",
    "from src.func import roundSTEModel\n",
    "# build neural architecture for the solution map\n",
    "func = nm.modules.blocks.MLP(insize=num_blocks+1, outsize=2*num_blocks, bias=True,\n",
    "                             linear_map=nm.slim.maps[\"linear\"],\n",
    "                             nonlin=nn.ReLU, hsizes=[hsize]*hlayers_sol)\n",
    "smap = nm.system.Node(func, [\"p\", \"a\"], [\"x\"], name=\"smap\")\n",
    "# define rounding model\n",
    "rnd = roundSTEModel(param_keys=[\"p\", \"a\"], var_keys=[\"x\"],  output_keys=[\"x_rnd\"], int_ind=model.int_ind, name=\"round\")\n",
    "# build neuromancer problem for rounding\n",
    "components = nn.ModuleList([smap, rnd]).to(\"cuda\")\n",
    "loss_fn = nmRosenbrock([\"p\", \"a\", \"x_rnd\"], steepness, num_blocks, penalty_weight)"
   ]
  },
  {
   "cell_type": "code",
   "execution_count": 10,
   "id": "4a657a81-c4e9-4ae4-a065-672bbf7cd323",
   "metadata": {},
   "outputs": [
    {
     "name": "stdout",
     "output_type": "stream",
     "text": [
      "Epoch 0, Validation Loss: 226551.41\n",
      "Epoch 1, Validation Loss: 55871.21\n",
      "Epoch 2, Validation Loss: 52922.65\n",
      "Epoch 3, Validation Loss: 49271.24\n",
      "Epoch 4, Validation Loss: 48145.26\n",
      "Epoch 5, Validation Loss: 40413.80\n",
      "Epoch 6, Validation Loss: 27387.58\n",
      "Epoch 7, Validation Loss: 24182.88\n",
      "Epoch 8, Validation Loss: 18316.17\n",
      "Epoch 9, Validation Loss: 14350.27\n",
      "Epoch 10, Validation Loss: 14028.93\n",
      "Epoch 11, Validation Loss: 14611.12\n",
      "Epoch 12, Validation Loss: 12413.66\n",
      "Epoch 13, Validation Loss: 25613.50\n",
      "Epoch 14, Validation Loss: 11987.83\n",
      "Epoch 15, Validation Loss: 13011.59\n",
      "Epoch 16, Validation Loss: 10972.10\n",
      "Epoch 17, Validation Loss: 11717.30\n",
      "Epoch 18, Validation Loss: 10446.19\n",
      "Epoch 19, Validation Loss: 13584.45\n",
      "Epoch 20, Validation Loss: 21774.82\n",
      "Epoch 21, Validation Loss: 10303.77\n",
      "Epoch 22, Validation Loss: 9079.90\n",
      "Epoch 23, Validation Loss: 26099.71\n",
      "Epoch 24, Validation Loss: 9577.48\n",
      "Epoch 25, Validation Loss: 11399.56\n",
      "Epoch 26, Validation Loss: 8562.43\n",
      "Epoch 27, Validation Loss: 9155.26\n",
      "Epoch 28, Validation Loss: 7781.69\n",
      "Epoch 29, Validation Loss: 8545.07\n",
      "Epoch 30, Validation Loss: 14865.23\n",
      "Epoch 31, Validation Loss: 7436.28\n",
      "Epoch 32, Validation Loss: 21976.05\n",
      "Epoch 33, Validation Loss: 7933.03\n",
      "Epoch 34, Validation Loss: 8933.90\n",
      "Epoch 35, Validation Loss: 9103.96\n",
      "Epoch 36, Validation Loss: 8565.82\n",
      "Epoch 37, Validation Loss: 8950.16\n",
      "Epoch 38, Validation Loss: 7433.70\n",
      "Epoch 39, Validation Loss: 8608.45\n",
      "Epoch 40, Validation Loss: 7676.27\n",
      "Epoch 41, Validation Loss: 7286.44\n",
      "Epoch 42, Validation Loss: 8385.93\n",
      "Epoch 43, Validation Loss: 9402.71\n",
      "Epoch 44, Validation Loss: 18272.63\n",
      "Epoch 45, Validation Loss: 8991.92\n",
      "Epoch 46, Validation Loss: 8694.85\n",
      "Epoch 47, Validation Loss: 7074.19\n",
      "Epoch 48, Validation Loss: 8113.78\n",
      "Epoch 49, Validation Loss: 7525.59\n",
      "Epoch 50, Validation Loss: 6833.93\n",
      "Epoch 51, Validation Loss: 6621.02\n",
      "Epoch 52, Validation Loss: 6971.44\n",
      "Epoch 53, Validation Loss: 9110.40\n",
      "Epoch 54, Validation Loss: 6596.65\n",
      "Epoch 55, Validation Loss: 7236.90\n",
      "Epoch 56, Validation Loss: 6888.67\n",
      "Epoch 57, Validation Loss: 8355.59\n",
      "Epoch 58, Validation Loss: 8207.11\n",
      "Epoch 59, Validation Loss: 8354.04\n",
      "Epoch 60, Validation Loss: 8747.19\n",
      "Epoch 61, Validation Loss: 8957.58\n",
      "Epoch 62, Validation Loss: 7003.66\n",
      "Epoch 63, Validation Loss: 8380.22\n",
      "Epoch 64, Validation Loss: 11799.37\n",
      "Epoch 65, Validation Loss: 7704.15\n",
      "Epoch 66, Validation Loss: 7150.64\n",
      "Epoch 67, Validation Loss: 7227.60\n",
      "Epoch 68, Validation Loss: 12743.27\n",
      "Epoch 69, Validation Loss: 7422.90\n",
      "Epoch 70, Validation Loss: 7395.74\n",
      "Epoch 71, Validation Loss: 12379.20\n",
      "Epoch 72, Validation Loss: 9023.24\n",
      "Epoch 73, Validation Loss: 16907.75\n",
      "Early stopping at epoch 73\n",
      "Best model loaded.\n",
      "Training complete.\n",
      "The training time is 101.28 sec.\n"
     ]
    }
   ],
   "source": [
    "from src.problem.neuromancer.trainer import trainer\n",
    "# training\n",
    "epochs = 200                    # number of training epochs\n",
    "warmup = 20                     # number of epochs to wait before enacting early stopping policy\n",
    "patience = 20                   # number of epochs with no improvement in eval metric to allow before early stopping\n",
    "optimizer = torch.optim.AdamW(components.parameters(), lr=lr)\n",
    "# create a trainer for the problem\n",
    "my_trainer = trainer(components, loss_fn, optimizer, epochs, patience, warmup, device=\"cuda\")\n",
    "# training for the rounding problem\n",
    "my_trainer.train(loader_train, loader_dev)"
   ]
  },
  {
   "cell_type": "code",
   "execution_count": 11,
   "id": "1428a1c4-2d3b-4bf9-8470-826a0ddad920",
   "metadata": {},
   "outputs": [
    {
     "name": "stderr",
     "output_type": "stream",
     "text": [
      "100%|████████████████████████████████████████████████████████████████████████████████| 100/100 [00:17<00:00,  5.67it/s]\n"
     ]
    },
    {
     "name": "stdout",
     "output_type": "stream",
     "text": [
      "           Obj Val  Constraints Viol  Elapsed Time\n",
      "count   100.000000             100.0    100.000000\n",
      "mean   6566.854725               0.0      0.002689\n",
      "std     659.557880               0.0      0.001257\n",
      "min    5496.507491               0.0      0.001005\n",
      "25%    6108.953148               0.0      0.002013\n",
      "50%    6441.978779               0.0      0.002582\n",
      "75%    6771.747828               0.0      0.003006\n",
      "max    8764.861812               0.0      0.013798\n",
      "Number of infeasible solution: 0\n"
     ]
    }
   ],
   "source": [
    "from src.heuristic import naive_round\n",
    "params, sols, objvals, conviols, elapseds = [], [], [], [], []\n",
    "for p, a in tqdm(list(zip(p_test, a_test))):\n",
    "    # data point as tensor\n",
    "    datapoints = {\"p\": torch.tensor(np.array([p]), dtype=torch.float32).to(\"cuda\"), \n",
    "                  \"a\": torch.tensor(np.array([a]), dtype=torch.float32).to(\"cuda\"),\n",
    "                  \"name\": \"test\"}\n",
    "    # infer\n",
    "    components.eval()\n",
    "    tick = time.time()\n",
    "    with torch.no_grad():\n",
    "        for comp in components:\n",
    "            datapoints.update(comp(datapoints))\n",
    "    tock = time.time()\n",
    "    # assign params\n",
    "    model.set_param_val({\"p\":p, \"a\":a})\n",
    "    # assign vars\n",
    "    x = datapoints[\"x\"]\n",
    "    for i in range(num_blocks*2):\n",
    "        model.vars[\"x\"][i].value = x[0,i].item()\n",
    "    # get solutions\n",
    "    xval_rel, _ = model.get_val()\n",
    "    xval, objval = naive_round(xval_rel, model)\n",
    "    params.append(list(p)+list(a))\n",
    "    sols.append(list(list(xval.values())[0].values()))\n",
    "    objvals.append(objval)\n",
    "    conviols.append(sum(model.cal_violation()))\n",
    "    elapseds.append(tock - tick)\n",
    "df = pd.DataFrame({\"Param\":params, \"Sol\":sols, \"Obj Val\": objvals, \"Constraints Viol\": conviols, \"Elapsed Time\": elapseds})\n",
    "time.sleep(1)\n",
    "df.to_csv(\"result/rb_st_50-1000.csv\")\n",
    "print(df.describe())\n",
    "print(\"Number of infeasible solution: {}\".format(np.sum(df[\"Constraints Viol\"] > 0)))"
   ]
  },
  {
   "cell_type": "code",
   "execution_count": null,
   "id": "7f038b4a-7343-4662-88db-78ef4c99a80d",
   "metadata": {},
   "outputs": [],
   "source": []
  }
 ],
 "metadata": {
  "kernelspec": {
   "display_name": "Python 3 (ipykernel)",
   "language": "python",
   "name": "python3"
  },
  "language_info": {
   "codemirror_mode": {
    "name": "ipython",
    "version": 3
   },
   "file_extension": ".py",
   "mimetype": "text/x-python",
   "name": "python",
   "nbconvert_exporter": "python",
   "pygments_lexer": "ipython3",
   "version": "3.10.13"
  }
 },
 "nbformat": 4,
 "nbformat_minor": 5
}
