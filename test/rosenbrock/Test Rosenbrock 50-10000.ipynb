{
 "cells": [
  {
   "cell_type": "code",
   "execution_count": 1,
   "id": "be61b914-e1af-43b9-9766-5092593f92dd",
   "metadata": {},
   "outputs": [],
   "source": [
    "import time\n",
    "\n",
    "import numpy as np\n",
    "import pandas as pd\n",
    "import torch\n",
    "from torch import nn\n",
    "from tqdm import tqdm\n",
    "\n",
    "# random seed\n",
    "np.random.seed(42)\n",
    "torch.manual_seed(42)\n",
    "torch.cuda.manual_seed(42)"
   ]
  },
  {
   "cell_type": "code",
   "execution_count": 2,
   "id": "35fe4527-9dbf-48f0-bfb3-62cda59092aa",
   "metadata": {},
   "outputs": [],
   "source": [
    "# turn off warning\n",
    "import logging\n",
    "logging.getLogger('pyomo.core').setLevel(logging.ERROR)"
   ]
  },
  {
   "cell_type": "markdown",
   "id": "c5560447-da9d-4cbe-aab4-538aa11c8ee8",
   "metadata": {},
   "source": [
    "## Problem Setting"
   ]
  },
  {
   "cell_type": "code",
   "execution_count": 3,
   "id": "52363c72-0d20-4c08-bd00-0f62aa73686c",
   "metadata": {},
   "outputs": [],
   "source": [
    "# init\n",
    "steepness = 50     # steepness factor\n",
    "num_blocks = 10000 # number of expression blocks\n",
    "num_data = 9100    # number of data\n",
    "test_size = 100    # number of test size\n",
    "val_size = 1000    # number of validation size\n",
    "train_size = num_data - test_size - val_size"
   ]
  },
  {
   "cell_type": "code",
   "execution_count": 4,
   "id": "21938c00-d73f-4255-bc7c-bce6e8034cf8",
   "metadata": {},
   "outputs": [],
   "source": [
    "# parameters as input data\n",
    "p_low, p_high = 1.0, 8.0\n",
    "a_low, a_high = 0.5, 4.5\n",
    "p_train = np.random.uniform(p_low, p_high, (train_size, 1)).astype(np.float32)\n",
    "p_test  = np.random.uniform(p_low, p_high, (test_size, 1)).astype(np.float32)\n",
    "p_dev   = np.random.uniform(p_low, p_high, (val_size, 1)).astype(np.float32)\n",
    "a_train = np.random.uniform(a_low, a_high, (train_size, num_blocks)).astype(np.float32)\n",
    "a_test  = np.random.uniform(a_low, a_high, (test_size, num_blocks)).astype(np.float32)\n",
    "a_dev   = np.random.uniform(a_low, a_high, (val_size, num_blocks)).astype(np.float32)"
   ]
  },
  {
   "cell_type": "code",
   "execution_count": 5,
   "id": "5ecf81ff-627d-444d-8d90-121c7e20c217",
   "metadata": {},
   "outputs": [],
   "source": [
    "# nm datasets\n",
    "from neuromancer.dataset import DictDataset\n",
    "data_train = DictDataset({\"p\":p_train, \"a\":a_train}, name=\"train\")\n",
    "data_test = DictDataset({\"p\":p_test, \"a\":a_test}, name=\"test\")\n",
    "data_dev = DictDataset({\"p\":p_dev, \"a\":a_dev}, name=\"dev\")\n",
    "# torch dataloaders\n",
    "from torch.utils.data import DataLoader\n",
    "batch_size = 64\n",
    "loader_train = DataLoader(data_train, batch_size, num_workers=0, collate_fn=data_train.collate_fn, shuffle=True)\n",
    "loader_test = DataLoader(data_test, batch_size, num_workers=0, collate_fn=data_test.collate_fn, shuffle=False)\n",
    "loader_dev = DataLoader(data_dev, batch_size, num_workers=0, collate_fn=data_dev.collate_fn, shuffle=True)"
   ]
  },
  {
   "cell_type": "markdown",
   "id": "a2b99751-3a6e-46dc-9e33-fdf68d813034",
   "metadata": {},
   "source": [
    "## Exact Solver"
   ]
  },
  {
   "cell_type": "code",
   "execution_count": 6,
   "id": "f2e7f07c-6a97-44d6-aca7-56f395e0c964",
   "metadata": {},
   "outputs": [],
   "source": [
    "from src.problem import msRosenbrock\n",
    "model = msRosenbrock(steepness, num_blocks, timelimit=60)"
   ]
  },
  {
   "cell_type": "code",
   "execution_count": 23,
   "id": "77e326fa-de2f-415e-a4d4-1f28eef6511a",
   "metadata": {
    "scrolled": true
   },
   "outputs": [
    {
     "name": "stderr",
     "output_type": "stream",
     "text": [
      "  0%|                                                                                          | 0/100 [00:00<?, ?it/s]"
     ]
    },
    {
     "name": "stdout",
     "output_type": "stream",
     "text": [
      "ERROR: evaluating object as numeric value: x[0]\n",
      "        (object: <class 'pyomo.core.base.var.VarData'>)\n",
      "    No value for uninitialized NumericValue object x[0]\n",
      "ERROR: evaluating object as numeric value: obj\n",
      "        (object: <class 'pyomo.core.base.objective.ScalarObjective'>)\n",
      "    No value for uninitialized NumericValue object x[0]\n"
     ]
    },
    {
     "name": "stderr",
     "output_type": "stream",
     "text": [
      "  1%|▊                                                                               | 1/100 [01:01<1:42:13, 61.96s/it]"
     ]
    },
    {
     "name": "stdout",
     "output_type": "stream",
     "text": [
      "ERROR: evaluating object as numeric value: x[0]\n",
      "        (object: <class 'pyomo.core.base.var.VarData'>)\n",
      "    No value for uninitialized NumericValue object x[0]\n",
      "ERROR: evaluating object as numeric value: obj\n",
      "        (object: <class 'pyomo.core.base.objective.ScalarObjective'>)\n",
      "    No value for uninitialized NumericValue object x[0]\n"
     ]
    },
    {
     "name": "stderr",
     "output_type": "stream",
     "text": [
      "  2%|█▌                                                                              | 2/100 [02:03<1:40:23, 61.46s/it]"
     ]
    },
    {
     "name": "stdout",
     "output_type": "stream",
     "text": [
      "ERROR: evaluating object as numeric value: x[0]\n",
      "        (object: <class 'pyomo.core.base.var.VarData'>)\n",
      "    No value for uninitialized NumericValue object x[0]\n",
      "ERROR: evaluating object as numeric value: obj\n",
      "        (object: <class 'pyomo.core.base.objective.ScalarObjective'>)\n",
      "    No value for uninitialized NumericValue object x[0]\n"
     ]
    },
    {
     "name": "stderr",
     "output_type": "stream",
     "text": [
      "  3%|██▍                                                                             | 3/100 [03:04<1:39:41, 61.66s/it]"
     ]
    },
    {
     "name": "stdout",
     "output_type": "stream",
     "text": [
      "ERROR: evaluating object as numeric value: x[0]\n",
      "        (object: <class 'pyomo.core.base.var.VarData'>)\n",
      "    No value for uninitialized NumericValue object x[0]\n",
      "ERROR: evaluating object as numeric value: obj\n",
      "        (object: <class 'pyomo.core.base.objective.ScalarObjective'>)\n",
      "    No value for uninitialized NumericValue object x[0]\n"
     ]
    },
    {
     "name": "stderr",
     "output_type": "stream",
     "text": [
      "  4%|███▏                                                                            | 4/100 [04:06<1:38:17, 61.44s/it]"
     ]
    },
    {
     "name": "stdout",
     "output_type": "stream",
     "text": [
      "ERROR: evaluating object as numeric value: x[0]\n",
      "        (object: <class 'pyomo.core.base.var.VarData'>)\n",
      "    No value for uninitialized NumericValue object x[0]\n",
      "ERROR: evaluating object as numeric value: obj\n",
      "        (object: <class 'pyomo.core.base.objective.ScalarObjective'>)\n",
      "    No value for uninitialized NumericValue object x[0]\n"
     ]
    },
    {
     "name": "stderr",
     "output_type": "stream",
     "text": [
      "  5%|████                                                                            | 5/100 [05:06<1:36:56, 61.22s/it]"
     ]
    },
    {
     "name": "stdout",
     "output_type": "stream",
     "text": [
      "ERROR: evaluating object as numeric value: x[0]\n",
      "        (object: <class 'pyomo.core.base.var.VarData'>)\n",
      "    No value for uninitialized NumericValue object x[0]\n",
      "ERROR: evaluating object as numeric value: obj\n",
      "        (object: <class 'pyomo.core.base.objective.ScalarObjective'>)\n",
      "    No value for uninitialized NumericValue object x[0]\n"
     ]
    },
    {
     "name": "stderr",
     "output_type": "stream",
     "text": [
      "  6%|████▊                                                                           | 6/100 [06:07<1:35:49, 61.17s/it]"
     ]
    },
    {
     "name": "stdout",
     "output_type": "stream",
     "text": [
      "ERROR: evaluating object as numeric value: x[0]\n",
      "        (object: <class 'pyomo.core.base.var.VarData'>)\n",
      "    No value for uninitialized NumericValue object x[0]\n",
      "ERROR: evaluating object as numeric value: obj\n",
      "        (object: <class 'pyomo.core.base.objective.ScalarObjective'>)\n",
      "    No value for uninitialized NumericValue object x[0]\n"
     ]
    },
    {
     "name": "stderr",
     "output_type": "stream",
     "text": [
      "  7%|█████▌                                                                          | 7/100 [07:08<1:34:43, 61.12s/it]"
     ]
    },
    {
     "name": "stdout",
     "output_type": "stream",
     "text": [
      "ERROR: evaluating object as numeric value: x[0]\n",
      "        (object: <class 'pyomo.core.base.var.VarData'>)\n",
      "    No value for uninitialized NumericValue object x[0]\n",
      "ERROR: evaluating object as numeric value: obj\n",
      "        (object: <class 'pyomo.core.base.objective.ScalarObjective'>)\n",
      "    No value for uninitialized NumericValue object x[0]\n"
     ]
    },
    {
     "name": "stderr",
     "output_type": "stream",
     "text": [
      "  8%|██████▍                                                                         | 8/100 [08:09<1:33:38, 61.07s/it]"
     ]
    },
    {
     "name": "stdout",
     "output_type": "stream",
     "text": [
      "ERROR: evaluating object as numeric value: x[0]\n",
      "        (object: <class 'pyomo.core.base.var.VarData'>)\n",
      "    No value for uninitialized NumericValue object x[0]\n",
      "ERROR: evaluating object as numeric value: obj\n",
      "        (object: <class 'pyomo.core.base.objective.ScalarObjective'>)\n",
      "    No value for uninitialized NumericValue object x[0]\n"
     ]
    },
    {
     "name": "stderr",
     "output_type": "stream",
     "text": [
      "  9%|███████▏                                                                        | 9/100 [09:10<1:32:36, 61.06s/it]"
     ]
    },
    {
     "name": "stdout",
     "output_type": "stream",
     "text": [
      "ERROR: evaluating object as numeric value: x[0]\n",
      "        (object: <class 'pyomo.core.base.var.VarData'>)\n",
      "    No value for uninitialized NumericValue object x[0]\n",
      "ERROR: evaluating object as numeric value: obj\n",
      "        (object: <class 'pyomo.core.base.objective.ScalarObjective'>)\n",
      "    No value for uninitialized NumericValue object x[0]\n"
     ]
    },
    {
     "name": "stderr",
     "output_type": "stream",
     "text": [
      " 10%|███████▉                                                                       | 10/100 [10:11<1:31:30, 61.00s/it]"
     ]
    },
    {
     "name": "stdout",
     "output_type": "stream",
     "text": [
      "ERROR: evaluating object as numeric value: x[0]\n",
      "        (object: <class 'pyomo.core.base.var.VarData'>)\n",
      "    No value for uninitialized NumericValue object x[0]\n",
      "ERROR: evaluating object as numeric value: obj\n",
      "        (object: <class 'pyomo.core.base.objective.ScalarObjective'>)\n",
      "    No value for uninitialized NumericValue object x[0]\n"
     ]
    },
    {
     "name": "stderr",
     "output_type": "stream",
     "text": [
      " 11%|████████▋                                                                      | 11/100 [11:12<1:30:32, 61.04s/it]"
     ]
    },
    {
     "name": "stdout",
     "output_type": "stream",
     "text": [
      "ERROR: evaluating object as numeric value: x[0]\n",
      "        (object: <class 'pyomo.core.base.var.VarData'>)\n",
      "    No value for uninitialized NumericValue object x[0]\n",
      "ERROR: evaluating object as numeric value: obj\n",
      "        (object: <class 'pyomo.core.base.objective.ScalarObjective'>)\n",
      "    No value for uninitialized NumericValue object x[0]\n"
     ]
    },
    {
     "name": "stderr",
     "output_type": "stream",
     "text": [
      " 12%|█████████▍                                                                     | 12/100 [12:13<1:29:28, 61.01s/it]"
     ]
    },
    {
     "name": "stdout",
     "output_type": "stream",
     "text": [
      "ERROR: evaluating object as numeric value: x[0]\n",
      "        (object: <class 'pyomo.core.base.var.VarData'>)\n",
      "    No value for uninitialized NumericValue object x[0]\n",
      "ERROR: evaluating object as numeric value: obj\n",
      "        (object: <class 'pyomo.core.base.objective.ScalarObjective'>)\n",
      "    No value for uninitialized NumericValue object x[0]\n"
     ]
    },
    {
     "name": "stderr",
     "output_type": "stream",
     "text": [
      " 13%|██████████▎                                                                    | 13/100 [13:14<1:28:28, 61.02s/it]"
     ]
    },
    {
     "name": "stdout",
     "output_type": "stream",
     "text": [
      "ERROR: evaluating object as numeric value: x[0]\n",
      "        (object: <class 'pyomo.core.base.var.VarData'>)\n",
      "    No value for uninitialized NumericValue object x[0]\n",
      "ERROR: evaluating object as numeric value: obj\n",
      "        (object: <class 'pyomo.core.base.objective.ScalarObjective'>)\n",
      "    No value for uninitialized NumericValue object x[0]\n"
     ]
    },
    {
     "name": "stderr",
     "output_type": "stream",
     "text": [
      " 14%|███████████                                                                    | 14/100 [14:15<1:27:27, 61.01s/it]"
     ]
    },
    {
     "name": "stdout",
     "output_type": "stream",
     "text": [
      "ERROR: evaluating object as numeric value: x[0]\n",
      "        (object: <class 'pyomo.core.base.var.VarData'>)\n",
      "    No value for uninitialized NumericValue object x[0]\n",
      "ERROR: evaluating object as numeric value: obj\n",
      "        (object: <class 'pyomo.core.base.objective.ScalarObjective'>)\n",
      "    No value for uninitialized NumericValue object x[0]\n"
     ]
    },
    {
     "name": "stderr",
     "output_type": "stream",
     "text": [
      " 15%|███████████▊                                                                   | 15/100 [15:16<1:26:26, 61.02s/it]"
     ]
    },
    {
     "name": "stdout",
     "output_type": "stream",
     "text": [
      "ERROR: evaluating object as numeric value: x[0]\n",
      "        (object: <class 'pyomo.core.base.var.VarData'>)\n",
      "    No value for uninitialized NumericValue object x[0]\n",
      "ERROR: evaluating object as numeric value: obj\n",
      "        (object: <class 'pyomo.core.base.objective.ScalarObjective'>)\n",
      "    No value for uninitialized NumericValue object x[0]\n"
     ]
    },
    {
     "name": "stderr",
     "output_type": "stream",
     "text": [
      " 16%|████████████▋                                                                  | 16/100 [16:17<1:25:23, 60.99s/it]"
     ]
    },
    {
     "name": "stdout",
     "output_type": "stream",
     "text": [
      "ERROR: evaluating object as numeric value: x[0]\n",
      "        (object: <class 'pyomo.core.base.var.VarData'>)\n",
      "    No value for uninitialized NumericValue object x[0]\n",
      "ERROR: evaluating object as numeric value: obj\n",
      "        (object: <class 'pyomo.core.base.objective.ScalarObjective'>)\n",
      "    No value for uninitialized NumericValue object x[0]\n"
     ]
    },
    {
     "name": "stderr",
     "output_type": "stream",
     "text": [
      " 17%|█████████████▍                                                                 | 17/100 [17:18<1:24:22, 60.99s/it]"
     ]
    },
    {
     "name": "stdout",
     "output_type": "stream",
     "text": [
      "ERROR: evaluating object as numeric value: x[0]\n",
      "        (object: <class 'pyomo.core.base.var.VarData'>)\n",
      "    No value for uninitialized NumericValue object x[0]\n",
      "ERROR: evaluating object as numeric value: obj\n",
      "        (object: <class 'pyomo.core.base.objective.ScalarObjective'>)\n",
      "    No value for uninitialized NumericValue object x[0]\n"
     ]
    },
    {
     "name": "stderr",
     "output_type": "stream",
     "text": [
      " 18%|██████████████▏                                                                | 18/100 [18:19<1:23:20, 60.98s/it]"
     ]
    },
    {
     "name": "stdout",
     "output_type": "stream",
     "text": [
      "ERROR: evaluating object as numeric value: x[0]\n",
      "        (object: <class 'pyomo.core.base.var.VarData'>)\n",
      "    No value for uninitialized NumericValue object x[0]\n",
      "ERROR: evaluating object as numeric value: obj\n",
      "        (object: <class 'pyomo.core.base.objective.ScalarObjective'>)\n",
      "    No value for uninitialized NumericValue object x[0]\n"
     ]
    },
    {
     "name": "stderr",
     "output_type": "stream",
     "text": [
      " 19%|███████████████                                                                | 19/100 [19:20<1:22:20, 60.99s/it]"
     ]
    },
    {
     "name": "stdout",
     "output_type": "stream",
     "text": [
      "ERROR: evaluating object as numeric value: x[0]\n",
      "        (object: <class 'pyomo.core.base.var.VarData'>)\n",
      "    No value for uninitialized NumericValue object x[0]\n",
      "ERROR: evaluating object as numeric value: obj\n",
      "        (object: <class 'pyomo.core.base.objective.ScalarObjective'>)\n",
      "    No value for uninitialized NumericValue object x[0]\n"
     ]
    },
    {
     "name": "stderr",
     "output_type": "stream",
     "text": [
      " 20%|███████████████▊                                                               | 20/100 [20:21<1:21:21, 61.02s/it]"
     ]
    },
    {
     "name": "stdout",
     "output_type": "stream",
     "text": [
      "ERROR: evaluating object as numeric value: x[0]\n",
      "        (object: <class 'pyomo.core.base.var.VarData'>)\n",
      "    No value for uninitialized NumericValue object x[0]\n",
      "ERROR: evaluating object as numeric value: obj\n",
      "        (object: <class 'pyomo.core.base.objective.ScalarObjective'>)\n",
      "    No value for uninitialized NumericValue object x[0]\n"
     ]
    },
    {
     "name": "stderr",
     "output_type": "stream",
     "text": [
      " 21%|████████████████▌                                                              | 21/100 [21:22<1:20:20, 61.01s/it]"
     ]
    },
    {
     "name": "stdout",
     "output_type": "stream",
     "text": [
      "ERROR: evaluating object as numeric value: x[0]\n",
      "        (object: <class 'pyomo.core.base.var.VarData'>)\n",
      "    No value for uninitialized NumericValue object x[0]\n",
      "ERROR: evaluating object as numeric value: obj\n",
      "        (object: <class 'pyomo.core.base.objective.ScalarObjective'>)\n",
      "    No value for uninitialized NumericValue object x[0]\n"
     ]
    },
    {
     "name": "stderr",
     "output_type": "stream",
     "text": [
      " 22%|█████████████████▍                                                             | 22/100 [22:23<1:19:16, 60.98s/it]"
     ]
    },
    {
     "name": "stdout",
     "output_type": "stream",
     "text": [
      "ERROR: evaluating object as numeric value: x[0]\n",
      "        (object: <class 'pyomo.core.base.var.VarData'>)\n",
      "    No value for uninitialized NumericValue object x[0]\n",
      "ERROR: evaluating object as numeric value: obj\n",
      "        (object: <class 'pyomo.core.base.objective.ScalarObjective'>)\n",
      "    No value for uninitialized NumericValue object x[0]\n"
     ]
    },
    {
     "name": "stderr",
     "output_type": "stream",
     "text": [
      " 23%|██████████████████▏                                                            | 23/100 [23:24<1:18:17, 61.01s/it]"
     ]
    },
    {
     "name": "stdout",
     "output_type": "stream",
     "text": [
      "ERROR: evaluating object as numeric value: x[0]\n",
      "        (object: <class 'pyomo.core.base.var.VarData'>)\n",
      "    No value for uninitialized NumericValue object x[0]\n",
      "ERROR: evaluating object as numeric value: obj\n",
      "        (object: <class 'pyomo.core.base.objective.ScalarObjective'>)\n",
      "    No value for uninitialized NumericValue object x[0]\n"
     ]
    },
    {
     "name": "stderr",
     "output_type": "stream",
     "text": [
      " 24%|██████████████████▉                                                            | 24/100 [24:25<1:17:17, 61.02s/it]"
     ]
    },
    {
     "name": "stdout",
     "output_type": "stream",
     "text": [
      "ERROR: evaluating object as numeric value: x[0]\n",
      "        (object: <class 'pyomo.core.base.var.VarData'>)\n",
      "    No value for uninitialized NumericValue object x[0]\n",
      "ERROR: evaluating object as numeric value: obj\n",
      "        (object: <class 'pyomo.core.base.objective.ScalarObjective'>)\n",
      "    No value for uninitialized NumericValue object x[0]\n"
     ]
    },
    {
     "name": "stderr",
     "output_type": "stream",
     "text": [
      " 25%|███████████████████▊                                                           | 25/100 [25:26<1:16:15, 61.01s/it]"
     ]
    },
    {
     "name": "stdout",
     "output_type": "stream",
     "text": [
      "ERROR: evaluating object as numeric value: x[0]\n",
      "        (object: <class 'pyomo.core.base.var.VarData'>)\n",
      "    No value for uninitialized NumericValue object x[0]\n",
      "ERROR: evaluating object as numeric value: obj\n",
      "        (object: <class 'pyomo.core.base.objective.ScalarObjective'>)\n",
      "    No value for uninitialized NumericValue object x[0]\n"
     ]
    },
    {
     "name": "stderr",
     "output_type": "stream",
     "text": [
      " 26%|████████████████████▌                                                          | 26/100 [26:27<1:15:13, 60.99s/it]"
     ]
    },
    {
     "name": "stdout",
     "output_type": "stream",
     "text": [
      "ERROR: evaluating object as numeric value: x[0]\n",
      "        (object: <class 'pyomo.core.base.var.VarData'>)\n",
      "    No value for uninitialized NumericValue object x[0]\n",
      "ERROR: evaluating object as numeric value: obj\n",
      "        (object: <class 'pyomo.core.base.objective.ScalarObjective'>)\n",
      "    No value for uninitialized NumericValue object x[0]\n"
     ]
    },
    {
     "name": "stderr",
     "output_type": "stream",
     "text": [
      " 27%|█████████████████████▎                                                         | 27/100 [27:28<1:14:12, 60.99s/it]"
     ]
    },
    {
     "name": "stdout",
     "output_type": "stream",
     "text": [
      "ERROR: evaluating object as numeric value: x[0]\n",
      "        (object: <class 'pyomo.core.base.var.VarData'>)\n",
      "    No value for uninitialized NumericValue object x[0]\n",
      "ERROR: evaluating object as numeric value: obj\n",
      "        (object: <class 'pyomo.core.base.objective.ScalarObjective'>)\n",
      "    No value for uninitialized NumericValue object x[0]\n"
     ]
    },
    {
     "name": "stderr",
     "output_type": "stream",
     "text": [
      " 28%|██████████████████████                                                         | 28/100 [28:29<1:13:12, 61.00s/it]"
     ]
    },
    {
     "name": "stdout",
     "output_type": "stream",
     "text": [
      "ERROR: evaluating object as numeric value: x[0]\n",
      "        (object: <class 'pyomo.core.base.var.VarData'>)\n",
      "    No value for uninitialized NumericValue object x[0]\n",
      "ERROR: evaluating object as numeric value: obj\n",
      "        (object: <class 'pyomo.core.base.objective.ScalarObjective'>)\n",
      "    No value for uninitialized NumericValue object x[0]\n"
     ]
    },
    {
     "name": "stderr",
     "output_type": "stream",
     "text": [
      " 29%|██████████████████████▉                                                        | 29/100 [29:30<1:12:11, 61.00s/it]"
     ]
    },
    {
     "name": "stdout",
     "output_type": "stream",
     "text": [
      "ERROR: evaluating object as numeric value: x[0]\n",
      "        (object: <class 'pyomo.core.base.var.VarData'>)\n",
      "    No value for uninitialized NumericValue object x[0]\n",
      "ERROR: evaluating object as numeric value: obj\n",
      "        (object: <class 'pyomo.core.base.objective.ScalarObjective'>)\n",
      "    No value for uninitialized NumericValue object x[0]\n"
     ]
    },
    {
     "name": "stderr",
     "output_type": "stream",
     "text": [
      " 30%|███████████████████████▋                                                       | 30/100 [30:31<1:11:09, 60.99s/it]"
     ]
    },
    {
     "name": "stdout",
     "output_type": "stream",
     "text": [
      "ERROR: evaluating object as numeric value: x[0]\n",
      "        (object: <class 'pyomo.core.base.var.VarData'>)\n",
      "    No value for uninitialized NumericValue object x[0]\n",
      "ERROR: evaluating object as numeric value: obj\n",
      "        (object: <class 'pyomo.core.base.objective.ScalarObjective'>)\n",
      "    No value for uninitialized NumericValue object x[0]\n"
     ]
    },
    {
     "name": "stderr",
     "output_type": "stream",
     "text": [
      " 31%|████████████████████████▍                                                      | 31/100 [31:32<1:10:09, 61.01s/it]"
     ]
    },
    {
     "name": "stdout",
     "output_type": "stream",
     "text": [
      "ERROR: evaluating object as numeric value: x[0]\n",
      "        (object: <class 'pyomo.core.base.var.VarData'>)\n",
      "    No value for uninitialized NumericValue object x[0]\n",
      "ERROR: evaluating object as numeric value: obj\n",
      "        (object: <class 'pyomo.core.base.objective.ScalarObjective'>)\n",
      "    No value for uninitialized NumericValue object x[0]\n"
     ]
    },
    {
     "name": "stderr",
     "output_type": "stream",
     "text": [
      " 32%|█████████████████████████▎                                                     | 32/100 [32:34<1:09:10, 61.03s/it]"
     ]
    },
    {
     "name": "stdout",
     "output_type": "stream",
     "text": [
      "ERROR: evaluating object as numeric value: x[0]\n",
      "        (object: <class 'pyomo.core.base.var.VarData'>)\n",
      "    No value for uninitialized NumericValue object x[0]\n",
      "ERROR: evaluating object as numeric value: obj\n",
      "        (object: <class 'pyomo.core.base.objective.ScalarObjective'>)\n",
      "    No value for uninitialized NumericValue object x[0]\n"
     ]
    },
    {
     "name": "stderr",
     "output_type": "stream",
     "text": [
      " 33%|██████████████████████████                                                     | 33/100 [33:34<1:08:06, 60.99s/it]"
     ]
    },
    {
     "name": "stdout",
     "output_type": "stream",
     "text": [
      "ERROR: evaluating object as numeric value: x[0]\n",
      "        (object: <class 'pyomo.core.base.var.VarData'>)\n",
      "    No value for uninitialized NumericValue object x[0]\n",
      "ERROR: evaluating object as numeric value: obj\n",
      "        (object: <class 'pyomo.core.base.objective.ScalarObjective'>)\n",
      "    No value for uninitialized NumericValue object x[0]\n"
     ]
    },
    {
     "name": "stderr",
     "output_type": "stream",
     "text": [
      " 34%|██████████████████████████▊                                                    | 34/100 [34:35<1:07:04, 60.98s/it]"
     ]
    },
    {
     "name": "stdout",
     "output_type": "stream",
     "text": [
      "ERROR: evaluating object as numeric value: x[0]\n",
      "        (object: <class 'pyomo.core.base.var.VarData'>)\n",
      "    No value for uninitialized NumericValue object x[0]\n",
      "ERROR: evaluating object as numeric value: obj\n",
      "        (object: <class 'pyomo.core.base.objective.ScalarObjective'>)\n",
      "    No value for uninitialized NumericValue object x[0]\n"
     ]
    },
    {
     "name": "stderr",
     "output_type": "stream",
     "text": [
      " 35%|███████████████████████████▋                                                   | 35/100 [35:36<1:06:04, 61.00s/it]"
     ]
    },
    {
     "name": "stdout",
     "output_type": "stream",
     "text": [
      "ERROR: evaluating object as numeric value: x[0]\n",
      "        (object: <class 'pyomo.core.base.var.VarData'>)\n",
      "    No value for uninitialized NumericValue object x[0]\n",
      "ERROR: evaluating object as numeric value: obj\n",
      "        (object: <class 'pyomo.core.base.objective.ScalarObjective'>)\n",
      "    No value for uninitialized NumericValue object x[0]\n"
     ]
    },
    {
     "name": "stderr",
     "output_type": "stream",
     "text": [
      " 36%|████████████████████████████▍                                                  | 36/100 [36:37<1:05:03, 60.99s/it]"
     ]
    },
    {
     "name": "stdout",
     "output_type": "stream",
     "text": [
      "ERROR: evaluating object as numeric value: x[0]\n",
      "        (object: <class 'pyomo.core.base.var.VarData'>)\n",
      "    No value for uninitialized NumericValue object x[0]\n",
      "ERROR: evaluating object as numeric value: obj\n",
      "        (object: <class 'pyomo.core.base.objective.ScalarObjective'>)\n",
      "    No value for uninitialized NumericValue object x[0]\n"
     ]
    },
    {
     "name": "stderr",
     "output_type": "stream",
     "text": [
      " 37%|█████████████████████████████▏                                                 | 37/100 [37:38<1:04:03, 61.01s/it]"
     ]
    },
    {
     "name": "stdout",
     "output_type": "stream",
     "text": [
      "ERROR: evaluating object as numeric value: x[0]\n",
      "        (object: <class 'pyomo.core.base.var.VarData'>)\n",
      "    No value for uninitialized NumericValue object x[0]\n",
      "ERROR: evaluating object as numeric value: obj\n",
      "        (object: <class 'pyomo.core.base.objective.ScalarObjective'>)\n",
      "    No value for uninitialized NumericValue object x[0]\n"
     ]
    },
    {
     "name": "stderr",
     "output_type": "stream",
     "text": [
      " 38%|██████████████████████████████                                                 | 38/100 [38:39<1:03:00, 60.98s/it]"
     ]
    },
    {
     "name": "stdout",
     "output_type": "stream",
     "text": [
      "ERROR: evaluating object as numeric value: x[0]\n",
      "        (object: <class 'pyomo.core.base.var.VarData'>)\n",
      "    No value for uninitialized NumericValue object x[0]\n",
      "ERROR: evaluating object as numeric value: obj\n",
      "        (object: <class 'pyomo.core.base.objective.ScalarObjective'>)\n",
      "    No value for uninitialized NumericValue object x[0]\n"
     ]
    },
    {
     "name": "stderr",
     "output_type": "stream",
     "text": [
      " 39%|██████████████████████████████▊                                                | 39/100 [39:40<1:02:00, 60.99s/it]"
     ]
    },
    {
     "name": "stdout",
     "output_type": "stream",
     "text": [
      "ERROR: evaluating object as numeric value: x[0]\n",
      "        (object: <class 'pyomo.core.base.var.VarData'>)\n",
      "    No value for uninitialized NumericValue object x[0]\n",
      "ERROR: evaluating object as numeric value: obj\n",
      "        (object: <class 'pyomo.core.base.objective.ScalarObjective'>)\n",
      "    No value for uninitialized NumericValue object x[0]\n"
     ]
    },
    {
     "name": "stderr",
     "output_type": "stream",
     "text": [
      " 40%|███████████████████████████████▌                                               | 40/100 [40:41<1:01:00, 61.00s/it]"
     ]
    },
    {
     "name": "stdout",
     "output_type": "stream",
     "text": [
      "ERROR: evaluating object as numeric value: x[0]\n",
      "        (object: <class 'pyomo.core.base.var.VarData'>)\n",
      "    No value for uninitialized NumericValue object x[0]\n",
      "ERROR: evaluating object as numeric value: obj\n",
      "        (object: <class 'pyomo.core.base.objective.ScalarObjective'>)\n",
      "    No value for uninitialized NumericValue object x[0]\n"
     ]
    },
    {
     "name": "stderr",
     "output_type": "stream",
     "text": [
      " 41%|█████████████████████████████████▏                                               | 41/100 [41:42<59:58, 60.99s/it]"
     ]
    },
    {
     "name": "stdout",
     "output_type": "stream",
     "text": [
      "ERROR: evaluating object as numeric value: x[0]\n",
      "        (object: <class 'pyomo.core.base.var.VarData'>)\n",
      "    No value for uninitialized NumericValue object x[0]\n",
      "ERROR: evaluating object as numeric value: obj\n",
      "        (object: <class 'pyomo.core.base.objective.ScalarObjective'>)\n",
      "    No value for uninitialized NumericValue object x[0]\n"
     ]
    },
    {
     "name": "stderr",
     "output_type": "stream",
     "text": [
      " 42%|██████████████████████████████████                                               | 42/100 [42:43<58:57, 61.00s/it]"
     ]
    },
    {
     "name": "stdout",
     "output_type": "stream",
     "text": [
      "ERROR: evaluating object as numeric value: x[0]\n",
      "        (object: <class 'pyomo.core.base.var.VarData'>)\n",
      "    No value for uninitialized NumericValue object x[0]\n",
      "ERROR: evaluating object as numeric value: obj\n",
      "        (object: <class 'pyomo.core.base.objective.ScalarObjective'>)\n",
      "    No value for uninitialized NumericValue object x[0]\n"
     ]
    },
    {
     "name": "stderr",
     "output_type": "stream",
     "text": [
      " 43%|██████████████████████████████████▊                                              | 43/100 [43:44<57:57, 61.01s/it]"
     ]
    },
    {
     "name": "stdout",
     "output_type": "stream",
     "text": [
      "ERROR: evaluating object as numeric value: x[0]\n",
      "        (object: <class 'pyomo.core.base.var.VarData'>)\n",
      "    No value for uninitialized NumericValue object x[0]\n",
      "ERROR: evaluating object as numeric value: obj\n",
      "        (object: <class 'pyomo.core.base.objective.ScalarObjective'>)\n",
      "    No value for uninitialized NumericValue object x[0]\n"
     ]
    },
    {
     "name": "stderr",
     "output_type": "stream",
     "text": [
      " 44%|███████████████████████████████████▋                                             | 44/100 [44:45<56:55, 60.99s/it]"
     ]
    },
    {
     "name": "stdout",
     "output_type": "stream",
     "text": [
      "ERROR: evaluating object as numeric value: x[0]\n",
      "        (object: <class 'pyomo.core.base.var.VarData'>)\n",
      "    No value for uninitialized NumericValue object x[0]\n",
      "ERROR: evaluating object as numeric value: obj\n",
      "        (object: <class 'pyomo.core.base.objective.ScalarObjective'>)\n",
      "    No value for uninitialized NumericValue object x[0]\n"
     ]
    },
    {
     "name": "stderr",
     "output_type": "stream",
     "text": [
      " 45%|████████████████████████████████████▍                                            | 45/100 [45:46<55:55, 61.01s/it]"
     ]
    },
    {
     "name": "stdout",
     "output_type": "stream",
     "text": [
      "ERROR: evaluating object as numeric value: x[0]\n",
      "        (object: <class 'pyomo.core.base.var.VarData'>)\n",
      "    No value for uninitialized NumericValue object x[0]\n",
      "ERROR: evaluating object as numeric value: obj\n",
      "        (object: <class 'pyomo.core.base.objective.ScalarObjective'>)\n",
      "    No value for uninitialized NumericValue object x[0]\n"
     ]
    },
    {
     "name": "stderr",
     "output_type": "stream",
     "text": [
      " 46%|█████████████████████████████████████▎                                           | 46/100 [46:47<54:53, 60.99s/it]"
     ]
    },
    {
     "name": "stdout",
     "output_type": "stream",
     "text": [
      "ERROR: evaluating object as numeric value: x[0]\n",
      "        (object: <class 'pyomo.core.base.var.VarData'>)\n",
      "    No value for uninitialized NumericValue object x[0]\n",
      "ERROR: evaluating object as numeric value: obj\n",
      "        (object: <class 'pyomo.core.base.objective.ScalarObjective'>)\n",
      "    No value for uninitialized NumericValue object x[0]\n"
     ]
    },
    {
     "name": "stderr",
     "output_type": "stream",
     "text": [
      " 47%|██████████████████████████████████████                                           | 47/100 [47:48<53:52, 60.99s/it]"
     ]
    },
    {
     "name": "stdout",
     "output_type": "stream",
     "text": [
      "ERROR: evaluating object as numeric value: x[0]\n",
      "        (object: <class 'pyomo.core.base.var.VarData'>)\n",
      "    No value for uninitialized NumericValue object x[0]\n",
      "ERROR: evaluating object as numeric value: obj\n",
      "        (object: <class 'pyomo.core.base.objective.ScalarObjective'>)\n",
      "    No value for uninitialized NumericValue object x[0]\n"
     ]
    },
    {
     "name": "stderr",
     "output_type": "stream",
     "text": [
      " 48%|██████████████████████████████████████▉                                          | 48/100 [48:49<52:52, 61.00s/it]"
     ]
    },
    {
     "name": "stdout",
     "output_type": "stream",
     "text": [
      "ERROR: evaluating object as numeric value: x[0]\n",
      "        (object: <class 'pyomo.core.base.var.VarData'>)\n",
      "    No value for uninitialized NumericValue object x[0]\n",
      "ERROR: evaluating object as numeric value: obj\n",
      "        (object: <class 'pyomo.core.base.objective.ScalarObjective'>)\n",
      "    No value for uninitialized NumericValue object x[0]\n"
     ]
    },
    {
     "name": "stderr",
     "output_type": "stream",
     "text": [
      " 49%|███████████████████████████████████████▋                                         | 49/100 [49:51<51:53, 61.04s/it]"
     ]
    },
    {
     "name": "stdout",
     "output_type": "stream",
     "text": [
      "ERROR: evaluating object as numeric value: x[0]\n",
      "        (object: <class 'pyomo.core.base.var.VarData'>)\n",
      "    No value for uninitialized NumericValue object x[0]\n",
      "ERROR: evaluating object as numeric value: obj\n",
      "        (object: <class 'pyomo.core.base.objective.ScalarObjective'>)\n",
      "    No value for uninitialized NumericValue object x[0]\n"
     ]
    },
    {
     "name": "stderr",
     "output_type": "stream",
     "text": [
      " 50%|████████████████████████████████████████▌                                        | 50/100 [50:51<50:50, 61.00s/it]"
     ]
    },
    {
     "name": "stdout",
     "output_type": "stream",
     "text": [
      "ERROR: evaluating object as numeric value: x[0]\n",
      "        (object: <class 'pyomo.core.base.var.VarData'>)\n",
      "    No value for uninitialized NumericValue object x[0]\n",
      "ERROR: evaluating object as numeric value: obj\n",
      "        (object: <class 'pyomo.core.base.objective.ScalarObjective'>)\n",
      "    No value for uninitialized NumericValue object x[0]\n"
     ]
    },
    {
     "name": "stderr",
     "output_type": "stream",
     "text": [
      " 51%|█████████████████████████████████████████▎                                       | 51/100 [51:52<49:48, 60.98s/it]"
     ]
    },
    {
     "name": "stdout",
     "output_type": "stream",
     "text": [
      "ERROR: evaluating object as numeric value: x[0]\n",
      "        (object: <class 'pyomo.core.base.var.VarData'>)\n",
      "    No value for uninitialized NumericValue object x[0]\n",
      "ERROR: evaluating object as numeric value: obj\n",
      "        (object: <class 'pyomo.core.base.objective.ScalarObjective'>)\n",
      "    No value for uninitialized NumericValue object x[0]\n"
     ]
    },
    {
     "name": "stderr",
     "output_type": "stream",
     "text": [
      " 52%|██████████████████████████████████████████                                       | 52/100 [52:53<48:48, 61.01s/it]"
     ]
    },
    {
     "name": "stdout",
     "output_type": "stream",
     "text": [
      "ERROR: evaluating object as numeric value: x[0]\n",
      "        (object: <class 'pyomo.core.base.var.VarData'>)\n",
      "    No value for uninitialized NumericValue object x[0]\n",
      "ERROR: evaluating object as numeric value: obj\n",
      "        (object: <class 'pyomo.core.base.objective.ScalarObjective'>)\n",
      "    No value for uninitialized NumericValue object x[0]\n"
     ]
    },
    {
     "name": "stderr",
     "output_type": "stream",
     "text": [
      " 53%|██████████████████████████████████████████▉                                      | 53/100 [53:54<47:45, 60.98s/it]"
     ]
    },
    {
     "name": "stdout",
     "output_type": "stream",
     "text": [
      "ERROR: evaluating object as numeric value: x[0]\n",
      "        (object: <class 'pyomo.core.base.var.VarData'>)\n",
      "    No value for uninitialized NumericValue object x[0]\n",
      "ERROR: evaluating object as numeric value: obj\n",
      "        (object: <class 'pyomo.core.base.objective.ScalarObjective'>)\n",
      "    No value for uninitialized NumericValue object x[0]\n"
     ]
    },
    {
     "name": "stderr",
     "output_type": "stream",
     "text": [
      " 54%|███████████████████████████████████████████▋                                     | 54/100 [54:55<46:46, 61.02s/it]"
     ]
    },
    {
     "name": "stdout",
     "output_type": "stream",
     "text": [
      "ERROR: evaluating object as numeric value: x[0]\n",
      "        (object: <class 'pyomo.core.base.var.VarData'>)\n",
      "    No value for uninitialized NumericValue object x[0]\n",
      "ERROR: evaluating object as numeric value: obj\n",
      "        (object: <class 'pyomo.core.base.objective.ScalarObjective'>)\n",
      "    No value for uninitialized NumericValue object x[0]\n"
     ]
    },
    {
     "name": "stderr",
     "output_type": "stream",
     "text": [
      " 55%|████████████████████████████████████████████▌                                    | 55/100 [55:56<45:45, 61.01s/it]"
     ]
    },
    {
     "name": "stdout",
     "output_type": "stream",
     "text": [
      "ERROR: evaluating object as numeric value: x[0]\n",
      "        (object: <class 'pyomo.core.base.var.VarData'>)\n",
      "    No value for uninitialized NumericValue object x[0]\n",
      "ERROR: evaluating object as numeric value: obj\n",
      "        (object: <class 'pyomo.core.base.objective.ScalarObjective'>)\n",
      "    No value for uninitialized NumericValue object x[0]\n"
     ]
    },
    {
     "name": "stderr",
     "output_type": "stream",
     "text": [
      " 56%|█████████████████████████████████████████████▎                                   | 56/100 [56:57<44:43, 60.98s/it]"
     ]
    },
    {
     "name": "stdout",
     "output_type": "stream",
     "text": [
      "ERROR: evaluating object as numeric value: x[0]\n",
      "        (object: <class 'pyomo.core.base.var.VarData'>)\n",
      "    No value for uninitialized NumericValue object x[0]\n",
      "ERROR: evaluating object as numeric value: obj\n",
      "        (object: <class 'pyomo.core.base.objective.ScalarObjective'>)\n",
      "    No value for uninitialized NumericValue object x[0]\n"
     ]
    },
    {
     "name": "stderr",
     "output_type": "stream",
     "text": [
      " 57%|██████████████████████████████████████████████▏                                  | 57/100 [57:58<43:42, 60.99s/it]"
     ]
    },
    {
     "name": "stdout",
     "output_type": "stream",
     "text": [
      "ERROR: evaluating object as numeric value: x[0]\n",
      "        (object: <class 'pyomo.core.base.var.VarData'>)\n",
      "    No value for uninitialized NumericValue object x[0]\n",
      "ERROR: evaluating object as numeric value: obj\n",
      "        (object: <class 'pyomo.core.base.objective.ScalarObjective'>)\n",
      "    No value for uninitialized NumericValue object x[0]\n"
     ]
    },
    {
     "name": "stderr",
     "output_type": "stream",
     "text": [
      " 58%|██████████████████████████████████████████████▉                                  | 58/100 [58:59<42:41, 60.99s/it]"
     ]
    },
    {
     "name": "stdout",
     "output_type": "stream",
     "text": [
      "ERROR: evaluating object as numeric value: x[0]\n",
      "        (object: <class 'pyomo.core.base.var.VarData'>)\n",
      "    No value for uninitialized NumericValue object x[0]\n",
      "ERROR: evaluating object as numeric value: obj\n",
      "        (object: <class 'pyomo.core.base.objective.ScalarObjective'>)\n",
      "    No value for uninitialized NumericValue object x[0]\n"
     ]
    },
    {
     "name": "stderr",
     "output_type": "stream",
     "text": [
      " 59%|██████████████████████████████████████████████▌                                | 59/100 [1:00:00<41:41, 61.01s/it]"
     ]
    },
    {
     "name": "stdout",
     "output_type": "stream",
     "text": [
      "ERROR: evaluating object as numeric value: x[0]\n",
      "        (object: <class 'pyomo.core.base.var.VarData'>)\n",
      "    No value for uninitialized NumericValue object x[0]\n",
      "ERROR: evaluating object as numeric value: obj\n",
      "        (object: <class 'pyomo.core.base.objective.ScalarObjective'>)\n",
      "    No value for uninitialized NumericValue object x[0]\n"
     ]
    },
    {
     "name": "stderr",
     "output_type": "stream",
     "text": [
      " 60%|███████████████████████████████████████████████▍                               | 60/100 [1:01:01<40:40, 61.01s/it]"
     ]
    },
    {
     "name": "stdout",
     "output_type": "stream",
     "text": [
      "ERROR: evaluating object as numeric value: x[0]\n",
      "        (object: <class 'pyomo.core.base.var.VarData'>)\n",
      "    No value for uninitialized NumericValue object x[0]\n",
      "ERROR: evaluating object as numeric value: obj\n",
      "        (object: <class 'pyomo.core.base.objective.ScalarObjective'>)\n",
      "    No value for uninitialized NumericValue object x[0]\n"
     ]
    },
    {
     "name": "stderr",
     "output_type": "stream",
     "text": [
      " 61%|████████████████████████████████████████████████▏                              | 61/100 [1:02:02<39:39, 61.01s/it]"
     ]
    },
    {
     "name": "stdout",
     "output_type": "stream",
     "text": [
      "ERROR: evaluating object as numeric value: x[0]\n",
      "        (object: <class 'pyomo.core.base.var.VarData'>)\n",
      "    No value for uninitialized NumericValue object x[0]\n",
      "ERROR: evaluating object as numeric value: obj\n",
      "        (object: <class 'pyomo.core.base.objective.ScalarObjective'>)\n",
      "    No value for uninitialized NumericValue object x[0]\n"
     ]
    },
    {
     "name": "stderr",
     "output_type": "stream",
     "text": [
      " 62%|████████████████████████████████████████████████▉                              | 62/100 [1:03:03<38:37, 60.98s/it]"
     ]
    },
    {
     "name": "stdout",
     "output_type": "stream",
     "text": [
      "ERROR: evaluating object as numeric value: x[0]\n",
      "        (object: <class 'pyomo.core.base.var.VarData'>)\n",
      "    No value for uninitialized NumericValue object x[0]\n",
      "ERROR: evaluating object as numeric value: obj\n",
      "        (object: <class 'pyomo.core.base.objective.ScalarObjective'>)\n",
      "    No value for uninitialized NumericValue object x[0]\n"
     ]
    },
    {
     "name": "stderr",
     "output_type": "stream",
     "text": [
      " 63%|█████████████████████████████████████████████████▊                             | 63/100 [1:04:04<37:37, 61.02s/it]"
     ]
    },
    {
     "name": "stdout",
     "output_type": "stream",
     "text": [
      "ERROR: evaluating object as numeric value: x[0]\n",
      "        (object: <class 'pyomo.core.base.var.VarData'>)\n",
      "    No value for uninitialized NumericValue object x[0]\n",
      "ERROR: evaluating object as numeric value: obj\n",
      "        (object: <class 'pyomo.core.base.objective.ScalarObjective'>)\n",
      "    No value for uninitialized NumericValue object x[0]\n"
     ]
    },
    {
     "name": "stderr",
     "output_type": "stream",
     "text": [
      " 64%|██████████████████████████████████████████████████▌                            | 64/100 [1:05:06<36:36, 61.02s/it]"
     ]
    },
    {
     "name": "stdout",
     "output_type": "stream",
     "text": [
      "ERROR: evaluating object as numeric value: x[0]\n",
      "        (object: <class 'pyomo.core.base.var.VarData'>)\n",
      "    No value for uninitialized NumericValue object x[0]\n",
      "ERROR: evaluating object as numeric value: obj\n",
      "        (object: <class 'pyomo.core.base.objective.ScalarObjective'>)\n",
      "    No value for uninitialized NumericValue object x[0]\n"
     ]
    },
    {
     "name": "stderr",
     "output_type": "stream",
     "text": [
      " 65%|███████████████████████████████████████████████████▎                           | 65/100 [1:06:06<35:35, 61.00s/it]"
     ]
    },
    {
     "name": "stdout",
     "output_type": "stream",
     "text": [
      "ERROR: evaluating object as numeric value: x[0]\n",
      "        (object: <class 'pyomo.core.base.var.VarData'>)\n",
      "    No value for uninitialized NumericValue object x[0]\n",
      "ERROR: evaluating object as numeric value: obj\n",
      "        (object: <class 'pyomo.core.base.objective.ScalarObjective'>)\n",
      "    No value for uninitialized NumericValue object x[0]\n"
     ]
    },
    {
     "name": "stderr",
     "output_type": "stream",
     "text": [
      " 66%|████████████████████████████████████████████████████▏                          | 66/100 [1:07:07<34:33, 61.00s/it]"
     ]
    },
    {
     "name": "stdout",
     "output_type": "stream",
     "text": [
      "ERROR: evaluating object as numeric value: x[0]\n",
      "        (object: <class 'pyomo.core.base.var.VarData'>)\n",
      "    No value for uninitialized NumericValue object x[0]\n",
      "ERROR: evaluating object as numeric value: obj\n",
      "        (object: <class 'pyomo.core.base.objective.ScalarObjective'>)\n",
      "    No value for uninitialized NumericValue object x[0]\n"
     ]
    },
    {
     "name": "stderr",
     "output_type": "stream",
     "text": [
      " 67%|████████████████████████████████████████████████████▉                          | 67/100 [1:08:08<33:32, 60.99s/it]"
     ]
    },
    {
     "name": "stdout",
     "output_type": "stream",
     "text": [
      "ERROR: evaluating object as numeric value: x[0]\n",
      "        (object: <class 'pyomo.core.base.var.VarData'>)\n",
      "    No value for uninitialized NumericValue object x[0]\n",
      "ERROR: evaluating object as numeric value: obj\n",
      "        (object: <class 'pyomo.core.base.objective.ScalarObjective'>)\n",
      "    No value for uninitialized NumericValue object x[0]\n"
     ]
    },
    {
     "name": "stderr",
     "output_type": "stream",
     "text": [
      " 68%|█████████████████████████████████████████████████████▋                         | 68/100 [1:09:09<32:32, 61.01s/it]"
     ]
    },
    {
     "name": "stdout",
     "output_type": "stream",
     "text": [
      "ERROR: evaluating object as numeric value: x[0]\n",
      "        (object: <class 'pyomo.core.base.var.VarData'>)\n",
      "    No value for uninitialized NumericValue object x[0]\n",
      "ERROR: evaluating object as numeric value: obj\n",
      "        (object: <class 'pyomo.core.base.objective.ScalarObjective'>)\n",
      "    No value for uninitialized NumericValue object x[0]\n"
     ]
    },
    {
     "name": "stderr",
     "output_type": "stream",
     "text": [
      " 69%|██████████████████████████████████████████████████████▌                        | 69/100 [1:10:10<31:30, 60.98s/it]"
     ]
    },
    {
     "name": "stdout",
     "output_type": "stream",
     "text": [
      "ERROR: evaluating object as numeric value: x[0]\n",
      "        (object: <class 'pyomo.core.base.var.VarData'>)\n",
      "    No value for uninitialized NumericValue object x[0]\n",
      "ERROR: evaluating object as numeric value: obj\n",
      "        (object: <class 'pyomo.core.base.objective.ScalarObjective'>)\n",
      "    No value for uninitialized NumericValue object x[0]\n"
     ]
    },
    {
     "name": "stderr",
     "output_type": "stream",
     "text": [
      " 70%|███████████████████████████████████████████████████████▎                       | 70/100 [1:11:11<30:30, 61.00s/it]"
     ]
    },
    {
     "name": "stdout",
     "output_type": "stream",
     "text": [
      "ERROR: evaluating object as numeric value: x[0]\n",
      "        (object: <class 'pyomo.core.base.var.VarData'>)\n",
      "    No value for uninitialized NumericValue object x[0]\n",
      "ERROR: evaluating object as numeric value: obj\n",
      "        (object: <class 'pyomo.core.base.objective.ScalarObjective'>)\n",
      "    No value for uninitialized NumericValue object x[0]\n"
     ]
    },
    {
     "name": "stderr",
     "output_type": "stream",
     "text": [
      " 71%|████████████████████████████████████████████████████████                       | 71/100 [1:12:12<29:28, 60.98s/it]"
     ]
    },
    {
     "name": "stdout",
     "output_type": "stream",
     "text": [
      "ERROR: evaluating object as numeric value: x[0]\n",
      "        (object: <class 'pyomo.core.base.var.VarData'>)\n",
      "    No value for uninitialized NumericValue object x[0]\n",
      "ERROR: evaluating object as numeric value: obj\n",
      "        (object: <class 'pyomo.core.base.objective.ScalarObjective'>)\n",
      "    No value for uninitialized NumericValue object x[0]\n"
     ]
    },
    {
     "name": "stderr",
     "output_type": "stream",
     "text": [
      " 72%|████████████████████████████████████████████████████████▉                      | 72/100 [1:13:13<28:27, 60.99s/it]"
     ]
    },
    {
     "name": "stdout",
     "output_type": "stream",
     "text": [
      "ERROR: evaluating object as numeric value: x[0]\n",
      "        (object: <class 'pyomo.core.base.var.VarData'>)\n",
      "    No value for uninitialized NumericValue object x[0]\n",
      "ERROR: evaluating object as numeric value: obj\n",
      "        (object: <class 'pyomo.core.base.objective.ScalarObjective'>)\n",
      "    No value for uninitialized NumericValue object x[0]\n"
     ]
    },
    {
     "name": "stderr",
     "output_type": "stream",
     "text": [
      " 73%|█████████████████████████████████████████████████████████▋                     | 73/100 [1:14:14<27:27, 61.01s/it]"
     ]
    },
    {
     "name": "stdout",
     "output_type": "stream",
     "text": [
      "ERROR: evaluating object as numeric value: x[0]\n",
      "        (object: <class 'pyomo.core.base.var.VarData'>)\n",
      "    No value for uninitialized NumericValue object x[0]\n",
      "ERROR: evaluating object as numeric value: obj\n",
      "        (object: <class 'pyomo.core.base.objective.ScalarObjective'>)\n",
      "    No value for uninitialized NumericValue object x[0]\n"
     ]
    },
    {
     "name": "stderr",
     "output_type": "stream",
     "text": [
      " 74%|██████████████████████████████████████████████████████████▍                    | 74/100 [1:15:15<26:26, 61.01s/it]"
     ]
    },
    {
     "name": "stdout",
     "output_type": "stream",
     "text": [
      "ERROR: evaluating object as numeric value: x[0]\n",
      "        (object: <class 'pyomo.core.base.var.VarData'>)\n",
      "    No value for uninitialized NumericValue object x[0]\n",
      "ERROR: evaluating object as numeric value: obj\n",
      "        (object: <class 'pyomo.core.base.objective.ScalarObjective'>)\n",
      "    No value for uninitialized NumericValue object x[0]\n"
     ]
    },
    {
     "name": "stderr",
     "output_type": "stream",
     "text": [
      " 75%|███████████████████████████████████████████████████████████▎                   | 75/100 [1:16:16<25:24, 60.99s/it]"
     ]
    },
    {
     "name": "stdout",
     "output_type": "stream",
     "text": [
      "ERROR: evaluating object as numeric value: x[0]\n",
      "        (object: <class 'pyomo.core.base.var.VarData'>)\n",
      "    No value for uninitialized NumericValue object x[0]\n",
      "ERROR: evaluating object as numeric value: obj\n",
      "        (object: <class 'pyomo.core.base.objective.ScalarObjective'>)\n",
      "    No value for uninitialized NumericValue object x[0]\n"
     ]
    },
    {
     "name": "stderr",
     "output_type": "stream",
     "text": [
      " 76%|████████████████████████████████████████████████████████████                   | 76/100 [1:17:17<24:24, 61.02s/it]"
     ]
    },
    {
     "name": "stdout",
     "output_type": "stream",
     "text": [
      "ERROR: evaluating object as numeric value: x[0]\n",
      "        (object: <class 'pyomo.core.base.var.VarData'>)\n",
      "    No value for uninitialized NumericValue object x[0]\n",
      "ERROR: evaluating object as numeric value: obj\n",
      "        (object: <class 'pyomo.core.base.objective.ScalarObjective'>)\n",
      "    No value for uninitialized NumericValue object x[0]\n"
     ]
    },
    {
     "name": "stderr",
     "output_type": "stream",
     "text": [
      " 77%|████████████████████████████████████████████████████████████▊                  | 77/100 [1:18:18<23:22, 61.00s/it]"
     ]
    },
    {
     "name": "stdout",
     "output_type": "stream",
     "text": [
      "ERROR: evaluating object as numeric value: x[0]\n",
      "        (object: <class 'pyomo.core.base.var.VarData'>)\n",
      "    No value for uninitialized NumericValue object x[0]\n",
      "ERROR: evaluating object as numeric value: obj\n",
      "        (object: <class 'pyomo.core.base.objective.ScalarObjective'>)\n",
      "    No value for uninitialized NumericValue object x[0]\n"
     ]
    },
    {
     "name": "stderr",
     "output_type": "stream",
     "text": [
      " 78%|█████████████████████████████████████████████████████████████▌                 | 78/100 [1:19:19<22:22, 61.00s/it]"
     ]
    },
    {
     "name": "stdout",
     "output_type": "stream",
     "text": [
      "ERROR: evaluating object as numeric value: x[0]\n",
      "        (object: <class 'pyomo.core.base.var.VarData'>)\n",
      "    No value for uninitialized NumericValue object x[0]\n",
      "ERROR: evaluating object as numeric value: obj\n",
      "        (object: <class 'pyomo.core.base.objective.ScalarObjective'>)\n",
      "    No value for uninitialized NumericValue object x[0]\n"
     ]
    },
    {
     "name": "stderr",
     "output_type": "stream",
     "text": [
      " 79%|██████████████████████████████████████████████████████████████▍                | 79/100 [1:20:20<21:21, 61.01s/it]"
     ]
    },
    {
     "name": "stdout",
     "output_type": "stream",
     "text": [
      "ERROR: evaluating object as numeric value: x[0]\n",
      "        (object: <class 'pyomo.core.base.var.VarData'>)\n",
      "    No value for uninitialized NumericValue object x[0]\n",
      "ERROR: evaluating object as numeric value: obj\n",
      "        (object: <class 'pyomo.core.base.objective.ScalarObjective'>)\n",
      "    No value for uninitialized NumericValue object x[0]\n"
     ]
    },
    {
     "name": "stderr",
     "output_type": "stream",
     "text": [
      " 80%|███████████████████████████████████████████████████████████████▏               | 80/100 [1:21:21<20:19, 60.98s/it]"
     ]
    },
    {
     "name": "stdout",
     "output_type": "stream",
     "text": [
      "ERROR: evaluating object as numeric value: x[0]\n",
      "        (object: <class 'pyomo.core.base.var.VarData'>)\n",
      "    No value for uninitialized NumericValue object x[0]\n",
      "ERROR: evaluating object as numeric value: obj\n",
      "        (object: <class 'pyomo.core.base.objective.ScalarObjective'>)\n",
      "    No value for uninitialized NumericValue object x[0]\n"
     ]
    },
    {
     "name": "stderr",
     "output_type": "stream",
     "text": [
      " 81%|███████████████████████████████████████████████████████████████▉               | 81/100 [1:22:22<19:19, 61.01s/it]"
     ]
    },
    {
     "name": "stdout",
     "output_type": "stream",
     "text": [
      "ERROR: evaluating object as numeric value: x[0]\n",
      "        (object: <class 'pyomo.core.base.var.VarData'>)\n",
      "    No value for uninitialized NumericValue object x[0]\n",
      "ERROR: evaluating object as numeric value: obj\n",
      "        (object: <class 'pyomo.core.base.objective.ScalarObjective'>)\n",
      "    No value for uninitialized NumericValue object x[0]\n"
     ]
    },
    {
     "name": "stderr",
     "output_type": "stream",
     "text": [
      " 82%|████████████████████████████████████████████████████████████████▊              | 82/100 [1:23:23<18:17, 60.99s/it]"
     ]
    },
    {
     "name": "stdout",
     "output_type": "stream",
     "text": [
      "ERROR: evaluating object as numeric value: x[0]\n",
      "        (object: <class 'pyomo.core.base.var.VarData'>)\n",
      "    No value for uninitialized NumericValue object x[0]\n",
      "ERROR: evaluating object as numeric value: obj\n",
      "        (object: <class 'pyomo.core.base.objective.ScalarObjective'>)\n",
      "    No value for uninitialized NumericValue object x[0]\n"
     ]
    },
    {
     "name": "stderr",
     "output_type": "stream",
     "text": [
      " 83%|█████████████████████████████████████████████████████████████████▌             | 83/100 [1:24:24<17:17, 61.01s/it]"
     ]
    },
    {
     "name": "stdout",
     "output_type": "stream",
     "text": [
      "ERROR: evaluating object as numeric value: x[0]\n",
      "        (object: <class 'pyomo.core.base.var.VarData'>)\n",
      "    No value for uninitialized NumericValue object x[0]\n",
      "ERROR: evaluating object as numeric value: obj\n",
      "        (object: <class 'pyomo.core.base.objective.ScalarObjective'>)\n",
      "    No value for uninitialized NumericValue object x[0]\n"
     ]
    },
    {
     "name": "stderr",
     "output_type": "stream",
     "text": [
      " 84%|██████████████████████████████████████████████████████████████████▎            | 84/100 [1:25:25<16:16, 61.00s/it]"
     ]
    },
    {
     "name": "stdout",
     "output_type": "stream",
     "text": [
      "ERROR: evaluating object as numeric value: x[0]\n",
      "        (object: <class 'pyomo.core.base.var.VarData'>)\n",
      "    No value for uninitialized NumericValue object x[0]\n",
      "ERROR: evaluating object as numeric value: obj\n",
      "        (object: <class 'pyomo.core.base.objective.ScalarObjective'>)\n",
      "    No value for uninitialized NumericValue object x[0]\n"
     ]
    },
    {
     "name": "stderr",
     "output_type": "stream",
     "text": [
      " 85%|███████████████████████████████████████████████████████████████████▏           | 85/100 [1:26:26<15:14, 60.97s/it]"
     ]
    },
    {
     "name": "stdout",
     "output_type": "stream",
     "text": [
      "ERROR: evaluating object as numeric value: x[0]\n",
      "        (object: <class 'pyomo.core.base.var.VarData'>)\n",
      "    No value for uninitialized NumericValue object x[0]\n",
      "ERROR: evaluating object as numeric value: obj\n",
      "        (object: <class 'pyomo.core.base.objective.ScalarObjective'>)\n",
      "    No value for uninitialized NumericValue object x[0]\n"
     ]
    },
    {
     "name": "stderr",
     "output_type": "stream",
     "text": [
      " 86%|███████████████████████████████████████████████████████████████████▉           | 86/100 [1:27:27<14:14, 61.01s/it]"
     ]
    },
    {
     "name": "stdout",
     "output_type": "stream",
     "text": [
      "ERROR: evaluating object as numeric value: x[0]\n",
      "        (object: <class 'pyomo.core.base.var.VarData'>)\n",
      "    No value for uninitialized NumericValue object x[0]\n",
      "ERROR: evaluating object as numeric value: obj\n",
      "        (object: <class 'pyomo.core.base.objective.ScalarObjective'>)\n",
      "    No value for uninitialized NumericValue object x[0]\n"
     ]
    },
    {
     "name": "stderr",
     "output_type": "stream",
     "text": [
      " 87%|████████████████████████████████████████████████████████████████████▋          | 87/100 [1:28:28<13:13, 61.01s/it]"
     ]
    },
    {
     "name": "stdout",
     "output_type": "stream",
     "text": [
      "ERROR: evaluating object as numeric value: x[0]\n",
      "        (object: <class 'pyomo.core.base.var.VarData'>)\n",
      "    No value for uninitialized NumericValue object x[0]\n",
      "ERROR: evaluating object as numeric value: obj\n",
      "        (object: <class 'pyomo.core.base.objective.ScalarObjective'>)\n",
      "    No value for uninitialized NumericValue object x[0]\n"
     ]
    },
    {
     "name": "stderr",
     "output_type": "stream",
     "text": [
      " 88%|█████████████████████████████████████████████████████████████████████▌         | 88/100 [1:29:29<12:12, 61.00s/it]"
     ]
    },
    {
     "name": "stdout",
     "output_type": "stream",
     "text": [
      "ERROR: evaluating object as numeric value: x[0]\n",
      "        (object: <class 'pyomo.core.base.var.VarData'>)\n",
      "    No value for uninitialized NumericValue object x[0]\n",
      "ERROR: evaluating object as numeric value: obj\n",
      "        (object: <class 'pyomo.core.base.objective.ScalarObjective'>)\n",
      "    No value for uninitialized NumericValue object x[0]\n"
     ]
    },
    {
     "name": "stderr",
     "output_type": "stream",
     "text": [
      " 89%|██████████████████████████████████████████████████████████████████████▎        | 89/100 [1:30:31<11:11, 61.03s/it]"
     ]
    },
    {
     "name": "stdout",
     "output_type": "stream",
     "text": [
      "ERROR: evaluating object as numeric value: x[0]\n",
      "        (object: <class 'pyomo.core.base.var.VarData'>)\n",
      "    No value for uninitialized NumericValue object x[0]\n",
      "ERROR: evaluating object as numeric value: obj\n",
      "        (object: <class 'pyomo.core.base.objective.ScalarObjective'>)\n",
      "    No value for uninitialized NumericValue object x[0]\n"
     ]
    },
    {
     "name": "stderr",
     "output_type": "stream",
     "text": [
      " 90%|███████████████████████████████████████████████████████████████████████        | 90/100 [1:31:32<10:12, 61.28s/it]"
     ]
    },
    {
     "name": "stdout",
     "output_type": "stream",
     "text": [
      "ERROR: evaluating object as numeric value: x[0]\n",
      "        (object: <class 'pyomo.core.base.var.VarData'>)\n",
      "    No value for uninitialized NumericValue object x[0]\n",
      "ERROR: evaluating object as numeric value: obj\n",
      "        (object: <class 'pyomo.core.base.objective.ScalarObjective'>)\n",
      "    No value for uninitialized NumericValue object x[0]\n"
     ]
    },
    {
     "name": "stderr",
     "output_type": "stream",
     "text": [
      " 91%|███████████████████████████████████████████████████████████████████████▉       | 91/100 [1:32:34<09:11, 61.24s/it]"
     ]
    },
    {
     "name": "stdout",
     "output_type": "stream",
     "text": [
      "ERROR: evaluating object as numeric value: x[0]\n",
      "        (object: <class 'pyomo.core.base.var.VarData'>)\n",
      "    No value for uninitialized NumericValue object x[0]\n",
      "ERROR: evaluating object as numeric value: obj\n",
      "        (object: <class 'pyomo.core.base.objective.ScalarObjective'>)\n",
      "    No value for uninitialized NumericValue object x[0]\n"
     ]
    },
    {
     "name": "stderr",
     "output_type": "stream",
     "text": [
      " 92%|████████████████████████████████████████████████████████████████████████▋      | 92/100 [1:33:34<08:08, 61.11s/it]"
     ]
    },
    {
     "name": "stdout",
     "output_type": "stream",
     "text": [
      "ERROR: evaluating object as numeric value: x[0]\n",
      "        (object: <class 'pyomo.core.base.var.VarData'>)\n",
      "    No value for uninitialized NumericValue object x[0]\n",
      "ERROR: evaluating object as numeric value: obj\n",
      "        (object: <class 'pyomo.core.base.objective.ScalarObjective'>)\n",
      "    No value for uninitialized NumericValue object x[0]\n"
     ]
    },
    {
     "name": "stderr",
     "output_type": "stream",
     "text": [
      " 93%|█████████████████████████████████████████████████████████████████████████▍     | 93/100 [1:34:35<07:07, 61.10s/it]"
     ]
    },
    {
     "name": "stdout",
     "output_type": "stream",
     "text": [
      "ERROR: evaluating object as numeric value: x[0]\n",
      "        (object: <class 'pyomo.core.base.var.VarData'>)\n",
      "    No value for uninitialized NumericValue object x[0]\n",
      "ERROR: evaluating object as numeric value: obj\n",
      "        (object: <class 'pyomo.core.base.objective.ScalarObjective'>)\n",
      "    No value for uninitialized NumericValue object x[0]\n"
     ]
    },
    {
     "name": "stderr",
     "output_type": "stream",
     "text": [
      " 94%|██████████████████████████████████████████████████████████████████████████▎    | 94/100 [1:35:36<06:06, 61.07s/it]"
     ]
    },
    {
     "name": "stdout",
     "output_type": "stream",
     "text": [
      "ERROR: evaluating object as numeric value: x[0]\n",
      "        (object: <class 'pyomo.core.base.var.VarData'>)\n",
      "    No value for uninitialized NumericValue object x[0]\n",
      "ERROR: evaluating object as numeric value: obj\n",
      "        (object: <class 'pyomo.core.base.objective.ScalarObjective'>)\n",
      "    No value for uninitialized NumericValue object x[0]\n"
     ]
    },
    {
     "name": "stderr",
     "output_type": "stream",
     "text": [
      " 95%|███████████████████████████████████████████████████████████████████████████    | 95/100 [1:36:38<05:05, 61.08s/it]"
     ]
    },
    {
     "name": "stdout",
     "output_type": "stream",
     "text": [
      "ERROR: evaluating object as numeric value: x[0]\n",
      "        (object: <class 'pyomo.core.base.var.VarData'>)\n",
      "    No value for uninitialized NumericValue object x[0]\n",
      "ERROR: evaluating object as numeric value: obj\n",
      "        (object: <class 'pyomo.core.base.objective.ScalarObjective'>)\n",
      "    No value for uninitialized NumericValue object x[0]\n"
     ]
    },
    {
     "name": "stderr",
     "output_type": "stream",
     "text": [
      " 96%|███████████████████████████████████████████████████████████████████████████▊   | 96/100 [1:37:38<04:04, 61.02s/it]"
     ]
    },
    {
     "name": "stdout",
     "output_type": "stream",
     "text": [
      "ERROR: evaluating object as numeric value: x[0]\n",
      "        (object: <class 'pyomo.core.base.var.VarData'>)\n",
      "    No value for uninitialized NumericValue object x[0]\n",
      "ERROR: evaluating object as numeric value: obj\n",
      "        (object: <class 'pyomo.core.base.objective.ScalarObjective'>)\n",
      "    No value for uninitialized NumericValue object x[0]\n"
     ]
    },
    {
     "name": "stderr",
     "output_type": "stream",
     "text": [
      " 97%|████████████████████████████████████████████████████████████████████████████▋  | 97/100 [1:38:39<03:03, 61.02s/it]"
     ]
    },
    {
     "name": "stdout",
     "output_type": "stream",
     "text": [
      "ERROR: evaluating object as numeric value: x[0]\n",
      "        (object: <class 'pyomo.core.base.var.VarData'>)\n",
      "    No value for uninitialized NumericValue object x[0]\n",
      "ERROR: evaluating object as numeric value: obj\n",
      "        (object: <class 'pyomo.core.base.objective.ScalarObjective'>)\n",
      "    No value for uninitialized NumericValue object x[0]\n"
     ]
    },
    {
     "name": "stderr",
     "output_type": "stream",
     "text": [
      " 98%|█████████████████████████████████████████████████████████████████████████████▍ | 98/100 [1:39:41<02:02, 61.03s/it]"
     ]
    },
    {
     "name": "stdout",
     "output_type": "stream",
     "text": [
      "ERROR: evaluating object as numeric value: x[0]\n",
      "        (object: <class 'pyomo.core.base.var.VarData'>)\n",
      "    No value for uninitialized NumericValue object x[0]\n",
      "ERROR: evaluating object as numeric value: obj\n",
      "        (object: <class 'pyomo.core.base.objective.ScalarObjective'>)\n",
      "    No value for uninitialized NumericValue object x[0]\n"
     ]
    },
    {
     "name": "stderr",
     "output_type": "stream",
     "text": [
      " 99%|██████████████████████████████████████████████████████████████████████████████▏| 99/100 [1:40:41<01:01, 61.01s/it]"
     ]
    },
    {
     "name": "stdout",
     "output_type": "stream",
     "text": [
      "ERROR: evaluating object as numeric value: x[0]\n",
      "        (object: <class 'pyomo.core.base.var.VarData'>)\n",
      "    No value for uninitialized NumericValue object x[0]\n",
      "ERROR: evaluating object as numeric value: obj\n",
      "        (object: <class 'pyomo.core.base.objective.ScalarObjective'>)\n",
      "    No value for uninitialized NumericValue object x[0]\n"
     ]
    },
    {
     "name": "stderr",
     "output_type": "stream",
     "text": [
      "100%|██████████████████████████████████████████████████████████████████████████████| 100/100 [1:41:43<00:00, 61.03s/it]\n"
     ]
    },
    {
     "ename": "ValueError",
     "evalue": "All arrays must be of the same length",
     "output_type": "error",
     "traceback": [
      "\u001b[1;31m---------------------------------------------------------------------------\u001b[0m",
      "\u001b[1;31mValueError\u001b[0m                                Traceback (most recent call last)",
      "Cell \u001b[1;32mIn[23], line 21\u001b[0m\n\u001b[0;32m     19\u001b[0m     tock \u001b[38;5;241m=\u001b[39m time\u001b[38;5;241m.\u001b[39mtime()\n\u001b[0;32m     20\u001b[0m     elapseds\u001b[38;5;241m.\u001b[39mappend(tock \u001b[38;5;241m-\u001b[39m tick)\n\u001b[1;32m---> 21\u001b[0m df \u001b[38;5;241m=\u001b[39m \u001b[43mpd\u001b[49m\u001b[38;5;241;43m.\u001b[39;49m\u001b[43mDataFrame\u001b[49m\u001b[43m(\u001b[49m\u001b[43m{\u001b[49m\u001b[38;5;124;43m\"\u001b[39;49m\u001b[38;5;124;43mParam\u001b[39;49m\u001b[38;5;124;43m\"\u001b[39;49m\u001b[43m:\u001b[49m\u001b[43mparams\u001b[49m\u001b[43m,\u001b[49m\u001b[43m \u001b[49m\u001b[38;5;124;43m\"\u001b[39;49m\u001b[38;5;124;43mSol\u001b[39;49m\u001b[38;5;124;43m\"\u001b[39;49m\u001b[43m:\u001b[49m\u001b[43msols\u001b[49m\u001b[43m,\u001b[49m\u001b[43m \u001b[49m\u001b[38;5;124;43m\"\u001b[39;49m\u001b[38;5;124;43mObj Val\u001b[39;49m\u001b[38;5;124;43m\"\u001b[39;49m\u001b[43m:\u001b[49m\u001b[43m \u001b[49m\u001b[43mobjvals\u001b[49m\u001b[43m,\u001b[49m\u001b[43m \u001b[49m\u001b[38;5;124;43m\"\u001b[39;49m\u001b[38;5;124;43mConstraints Viol\u001b[39;49m\u001b[38;5;124;43m\"\u001b[39;49m\u001b[43m:\u001b[49m\u001b[43m \u001b[49m\u001b[43mconviols\u001b[49m\u001b[43m,\u001b[49m\u001b[43m \u001b[49m\u001b[38;5;124;43m\"\u001b[39;49m\u001b[38;5;124;43mElapsed Time\u001b[39;49m\u001b[38;5;124;43m\"\u001b[39;49m\u001b[43m:\u001b[49m\u001b[43m \u001b[49m\u001b[43melapseds\u001b[49m\u001b[43m}\u001b[49m\u001b[43m)\u001b[49m\n\u001b[0;32m     22\u001b[0m df\u001b[38;5;241m.\u001b[39mto_csv(\u001b[38;5;124m\"\u001b[39m\u001b[38;5;124mresult/rb_exact_50-1000.csv\u001b[39m\u001b[38;5;124m\"\u001b[39m)\n\u001b[0;32m     23\u001b[0m time\u001b[38;5;241m.\u001b[39msleep(\u001b[38;5;241m1\u001b[39m)\n",
      "File \u001b[1;32m~\\AppData\\Roaming\\Python\\Python310\\site-packages\\pandas\\core\\frame.py:778\u001b[0m, in \u001b[0;36mDataFrame.__init__\u001b[1;34m(self, data, index, columns, dtype, copy)\u001b[0m\n\u001b[0;32m    772\u001b[0m     mgr \u001b[38;5;241m=\u001b[39m \u001b[38;5;28mself\u001b[39m\u001b[38;5;241m.\u001b[39m_init_mgr(\n\u001b[0;32m    773\u001b[0m         data, axes\u001b[38;5;241m=\u001b[39m{\u001b[38;5;124m\"\u001b[39m\u001b[38;5;124mindex\u001b[39m\u001b[38;5;124m\"\u001b[39m: index, \u001b[38;5;124m\"\u001b[39m\u001b[38;5;124mcolumns\u001b[39m\u001b[38;5;124m\"\u001b[39m: columns}, dtype\u001b[38;5;241m=\u001b[39mdtype, copy\u001b[38;5;241m=\u001b[39mcopy\n\u001b[0;32m    774\u001b[0m     )\n\u001b[0;32m    776\u001b[0m \u001b[38;5;28;01melif\u001b[39;00m \u001b[38;5;28misinstance\u001b[39m(data, \u001b[38;5;28mdict\u001b[39m):\n\u001b[0;32m    777\u001b[0m     \u001b[38;5;66;03m# GH#38939 de facto copy defaults to False only in non-dict cases\u001b[39;00m\n\u001b[1;32m--> 778\u001b[0m     mgr \u001b[38;5;241m=\u001b[39m \u001b[43mdict_to_mgr\u001b[49m\u001b[43m(\u001b[49m\u001b[43mdata\u001b[49m\u001b[43m,\u001b[49m\u001b[43m \u001b[49m\u001b[43mindex\u001b[49m\u001b[43m,\u001b[49m\u001b[43m \u001b[49m\u001b[43mcolumns\u001b[49m\u001b[43m,\u001b[49m\u001b[43m \u001b[49m\u001b[43mdtype\u001b[49m\u001b[38;5;241;43m=\u001b[39;49m\u001b[43mdtype\u001b[49m\u001b[43m,\u001b[49m\u001b[43m \u001b[49m\u001b[43mcopy\u001b[49m\u001b[38;5;241;43m=\u001b[39;49m\u001b[43mcopy\u001b[49m\u001b[43m,\u001b[49m\u001b[43m \u001b[49m\u001b[43mtyp\u001b[49m\u001b[38;5;241;43m=\u001b[39;49m\u001b[43mmanager\u001b[49m\u001b[43m)\u001b[49m\n\u001b[0;32m    779\u001b[0m \u001b[38;5;28;01melif\u001b[39;00m \u001b[38;5;28misinstance\u001b[39m(data, ma\u001b[38;5;241m.\u001b[39mMaskedArray):\n\u001b[0;32m    780\u001b[0m     \u001b[38;5;28;01mfrom\u001b[39;00m \u001b[38;5;21;01mnumpy\u001b[39;00m\u001b[38;5;21;01m.\u001b[39;00m\u001b[38;5;21;01mma\u001b[39;00m \u001b[38;5;28;01mimport\u001b[39;00m mrecords\n",
      "File \u001b[1;32m~\\AppData\\Roaming\\Python\\Python310\\site-packages\\pandas\\core\\internals\\construction.py:503\u001b[0m, in \u001b[0;36mdict_to_mgr\u001b[1;34m(data, index, columns, dtype, typ, copy)\u001b[0m\n\u001b[0;32m    499\u001b[0m     \u001b[38;5;28;01melse\u001b[39;00m:\n\u001b[0;32m    500\u001b[0m         \u001b[38;5;66;03m# dtype check to exclude e.g. range objects, scalars\u001b[39;00m\n\u001b[0;32m    501\u001b[0m         arrays \u001b[38;5;241m=\u001b[39m [x\u001b[38;5;241m.\u001b[39mcopy() \u001b[38;5;28;01mif\u001b[39;00m \u001b[38;5;28mhasattr\u001b[39m(x, \u001b[38;5;124m\"\u001b[39m\u001b[38;5;124mdtype\u001b[39m\u001b[38;5;124m\"\u001b[39m) \u001b[38;5;28;01melse\u001b[39;00m x \u001b[38;5;28;01mfor\u001b[39;00m x \u001b[38;5;129;01min\u001b[39;00m arrays]\n\u001b[1;32m--> 503\u001b[0m \u001b[38;5;28;01mreturn\u001b[39;00m \u001b[43marrays_to_mgr\u001b[49m\u001b[43m(\u001b[49m\u001b[43marrays\u001b[49m\u001b[43m,\u001b[49m\u001b[43m \u001b[49m\u001b[43mcolumns\u001b[49m\u001b[43m,\u001b[49m\u001b[43m \u001b[49m\u001b[43mindex\u001b[49m\u001b[43m,\u001b[49m\u001b[43m \u001b[49m\u001b[43mdtype\u001b[49m\u001b[38;5;241;43m=\u001b[39;49m\u001b[43mdtype\u001b[49m\u001b[43m,\u001b[49m\u001b[43m \u001b[49m\u001b[43mtyp\u001b[49m\u001b[38;5;241;43m=\u001b[39;49m\u001b[43mtyp\u001b[49m\u001b[43m,\u001b[49m\u001b[43m \u001b[49m\u001b[43mconsolidate\u001b[49m\u001b[38;5;241;43m=\u001b[39;49m\u001b[43mcopy\u001b[49m\u001b[43m)\u001b[49m\n",
      "File \u001b[1;32m~\\AppData\\Roaming\\Python\\Python310\\site-packages\\pandas\\core\\internals\\construction.py:114\u001b[0m, in \u001b[0;36marrays_to_mgr\u001b[1;34m(arrays, columns, index, dtype, verify_integrity, typ, consolidate)\u001b[0m\n\u001b[0;32m    111\u001b[0m \u001b[38;5;28;01mif\u001b[39;00m verify_integrity:\n\u001b[0;32m    112\u001b[0m     \u001b[38;5;66;03m# figure out the index, if necessary\u001b[39;00m\n\u001b[0;32m    113\u001b[0m     \u001b[38;5;28;01mif\u001b[39;00m index \u001b[38;5;129;01mis\u001b[39;00m \u001b[38;5;28;01mNone\u001b[39;00m:\n\u001b[1;32m--> 114\u001b[0m         index \u001b[38;5;241m=\u001b[39m \u001b[43m_extract_index\u001b[49m\u001b[43m(\u001b[49m\u001b[43marrays\u001b[49m\u001b[43m)\u001b[49m\n\u001b[0;32m    115\u001b[0m     \u001b[38;5;28;01melse\u001b[39;00m:\n\u001b[0;32m    116\u001b[0m         index \u001b[38;5;241m=\u001b[39m ensure_index(index)\n",
      "File \u001b[1;32m~\\AppData\\Roaming\\Python\\Python310\\site-packages\\pandas\\core\\internals\\construction.py:677\u001b[0m, in \u001b[0;36m_extract_index\u001b[1;34m(data)\u001b[0m\n\u001b[0;32m    675\u001b[0m lengths \u001b[38;5;241m=\u001b[39m \u001b[38;5;28mlist\u001b[39m(\u001b[38;5;28mset\u001b[39m(raw_lengths))\n\u001b[0;32m    676\u001b[0m \u001b[38;5;28;01mif\u001b[39;00m \u001b[38;5;28mlen\u001b[39m(lengths) \u001b[38;5;241m>\u001b[39m \u001b[38;5;241m1\u001b[39m:\n\u001b[1;32m--> 677\u001b[0m     \u001b[38;5;28;01mraise\u001b[39;00m \u001b[38;5;167;01mValueError\u001b[39;00m(\u001b[38;5;124m\"\u001b[39m\u001b[38;5;124mAll arrays must be of the same length\u001b[39m\u001b[38;5;124m\"\u001b[39m)\n\u001b[0;32m    679\u001b[0m \u001b[38;5;28;01mif\u001b[39;00m have_dicts:\n\u001b[0;32m    680\u001b[0m     \u001b[38;5;28;01mraise\u001b[39;00m \u001b[38;5;167;01mValueError\u001b[39;00m(\n\u001b[0;32m    681\u001b[0m         \u001b[38;5;124m\"\u001b[39m\u001b[38;5;124mMixing dicts with non-Series may lead to ambiguous ordering.\u001b[39m\u001b[38;5;124m\"\u001b[39m\n\u001b[0;32m    682\u001b[0m     )\n",
      "\u001b[1;31mValueError\u001b[0m: All arrays must be of the same length"
     ]
    }
   ],
   "source": [
    "params, sols, objvals, conviols, elapseds = [], [], [], [], []\n",
    "for p, a in tqdm(list(zip(p_test, a_test))):\n",
    "    # set params\n",
    "    model.set_param_val({\"p\":p, \"a\":a})\n",
    "    # solve\n",
    "    tick = time.time()\n",
    "    try:\n",
    "        xval, objval = model.solve(\"scip\")\n",
    "        # eval\n",
    "        params.append(list(p)+list(a))\n",
    "        sols.append(list(list(xval.values())[0].values()))\n",
    "        objvals.append(objval)\n",
    "        conviols.append(sum(model.cal_violation()))\n",
    "    except:\n",
    "        params.append(list(p)+list(a))\n",
    "        sols.append(None)\n",
    "        objvals.append(None)\n",
    "        conviols.append(None)\n",
    "    tock = time.time()\n",
    "    elapseds.append(tock - tick)\n",
    "df = pd.DataFrame({\"Param\":params, \"Sol\":sols, \"Obj Val\": objvals, \"Constraints Viol\": conviols, \"Elapsed Time\": elapseds})\n",
    "df.to_csv(\"result/rb_exact_50-1000.csv\")\n",
    "time.sleep(1)\n",
    "print(df.describe())\n",
    "print(\"Number of infeasible solution: {}\".format(np.sum(df[\"Constraints Viol\"] > 0)))\n",
    "print(\"Number of None values: \", df[\"Sol\"].isna().sum())"
   ]
  },
  {
   "cell_type": "markdown",
   "id": "28b8053d-2fb9-419e-ab27-56d35a7310c2",
   "metadata": {},
   "source": [
    "## Heuristic - Round"
   ]
  },
  {
   "cell_type": "code",
   "execution_count": 25,
   "id": "8ac297ea-1ea4-4368-bbcf-e64f185397da",
   "metadata": {},
   "outputs": [],
   "source": [
    "from src.heuristic import naive_round"
   ]
  },
  {
   "cell_type": "code",
   "execution_count": 26,
   "id": "317ca34b-ef96-4149-9354-cc76439f4713",
   "metadata": {},
   "outputs": [
    {
     "name": "stderr",
     "output_type": "stream",
     "text": [
      "  0%|                                                                                          | 0/100 [00:00<?, ?it/s]"
     ]
    },
    {
     "name": "stdout",
     "output_type": "stream",
     "text": [
      "ERROR: evaluating object as numeric value: x[0]\n",
      "        (object: <class 'pyomo.core.base.var.VarData'>)\n",
      "    No value for uninitialized NumericValue object x[0]\n",
      "ERROR: evaluating object as numeric value: obj\n",
      "        (object: <class 'pyomo.core.base.objective.ScalarObjective'>)\n",
      "    No value for uninitialized NumericValue object x[0]\n"
     ]
    },
    {
     "name": "stderr",
     "output_type": "stream",
     "text": [
      "  0%|                                                                                          | 0/100 [01:04<?, ?it/s]\n"
     ]
    },
    {
     "ename": "AttributeError",
     "evalue": "'NoneType' object has no attribute 'items'",
     "output_type": "error",
     "traceback": [
      "\u001b[1;31m---------------------------------------------------------------------------\u001b[0m",
      "\u001b[1;31mAttributeError\u001b[0m                            Traceback (most recent call last)",
      "Cell \u001b[1;32mIn[26], line 10\u001b[0m\n\u001b[0;32m      8\u001b[0m tick \u001b[38;5;241m=\u001b[39m time\u001b[38;5;241m.\u001b[39mtime()\n\u001b[0;32m      9\u001b[0m xval_rel, _ \u001b[38;5;241m=\u001b[39m model_rel\u001b[38;5;241m.\u001b[39msolve(\u001b[38;5;124m\"\u001b[39m\u001b[38;5;124mscip\u001b[39m\u001b[38;5;124m\"\u001b[39m)\n\u001b[1;32m---> 10\u001b[0m xval, objval \u001b[38;5;241m=\u001b[39m \u001b[43mnaive_round\u001b[49m\u001b[43m(\u001b[49m\u001b[43mxval_rel\u001b[49m\u001b[43m,\u001b[49m\u001b[43m \u001b[49m\u001b[43mmodel\u001b[49m\u001b[43m)\u001b[49m\n\u001b[0;32m     11\u001b[0m tock \u001b[38;5;241m=\u001b[39m time\u001b[38;5;241m.\u001b[39mtime()\n\u001b[0;32m     12\u001b[0m \u001b[38;5;66;03m# eval\u001b[39;00m\n",
      "File \u001b[1;32mC:\\OneDrive\\Study\\UofT\\Research\\DMIPL\\src\\heuristic\\round.py:8\u001b[0m, in \u001b[0;36mnaive_round\u001b[1;34m(xval_rel, model)\u001b[0m\n\u001b[0;32m      4\u001b[0m \u001b[38;5;250m\u001b[39m\u001b[38;5;124;03m\"\"\"\u001b[39;00m\n\u001b[0;32m      5\u001b[0m \u001b[38;5;124;03mA method to just round\u001b[39;00m\n\u001b[0;32m      6\u001b[0m \u001b[38;5;124;03m\"\"\"\u001b[39;00m\n\u001b[0;32m      7\u001b[0m \u001b[38;5;66;03m# get solution value\u001b[39;00m\n\u001b[1;32m----> 8\u001b[0m \u001b[38;5;28;01mfor\u001b[39;00m k, vals \u001b[38;5;129;01min\u001b[39;00m \u001b[43mxval_rel\u001b[49m\u001b[38;5;241;43m.\u001b[39;49m\u001b[43mitems\u001b[49m():\n\u001b[0;32m      9\u001b[0m     \u001b[38;5;66;03m# assign initial solution\u001b[39;00m\n\u001b[0;32m     10\u001b[0m     \u001b[38;5;28;01mfor\u001b[39;00m i \u001b[38;5;129;01min\u001b[39;00m vals:\n\u001b[0;32m     11\u001b[0m         \u001b[38;5;66;03m# round integer variables\u001b[39;00m\n\u001b[0;32m     12\u001b[0m         \u001b[38;5;28;01mif\u001b[39;00m model\u001b[38;5;241m.\u001b[39mvars[k][i]\u001b[38;5;241m.\u001b[39mis_integer():\n",
      "\u001b[1;31mAttributeError\u001b[0m: 'NoneType' object has no attribute 'items'"
     ]
    }
   ],
   "source": [
    "params, sols, objvals, conviols, elapseds = [], [], [], [], []\n",
    "for p, a in tqdm(list(zip(p_test, a_test))):\n",
    "    # set params\n",
    "    model.set_param_val({\"p\":p, \"a\":a})\n",
    "    # relax\n",
    "    model_rel = model.relax()\n",
    "    # solve\n",
    "    tick = time.time()\n",
    "    xval_rel, _ = model_rel.solve(\"scip\")\n",
    "    xval, objval = naive_round(xval_rel, model)\n",
    "    tock = time.time()\n",
    "    # eval\n",
    "    params.append(list(p)+list(a))\n",
    "    sols.append(list(list(xval.values())[0].values()))\n",
    "    objvals.append(objval)\n",
    "    conviols.append(sum(model.cal_violation()))\n",
    "    elapseds.append(tock - tick)\n",
    "df = pd.DataFrame({\"Param\":params, \"Sol\":sols, \"Obj Val\": objvals, \"Constraints Viol\": conviols, \"Elapsed Time\": elapseds})\n",
    "time.sleep(1)\n",
    "df.to_csv(\"result/rb_heur_rnd_50-1000.csv\")\n",
    "time.sleep(1)\n",
    "print(df.describe())\n",
    "print(\"Number of infeasible solution: {}\".format(np.sum(df[\"Constraints Viol\"] > 0)))"
   ]
  },
  {
   "cell_type": "markdown",
   "id": "96304fbd-08f5-4be7-a81e-83c85332029c",
   "metadata": {},
   "source": [
    "## Heuristic - N1"
   ]
  },
  {
   "cell_type": "code",
   "execution_count": null,
   "id": "356187af-e02d-4478-bf78-ada6a2e1b94b",
   "metadata": {},
   "outputs": [],
   "source": [
    "model_heur = model.first_solution_heuristic(nodes_limit=1)"
   ]
  },
  {
   "cell_type": "code",
   "execution_count": null,
   "id": "f4c7fc52-cbbc-4414-bf1d-316d65c8db5b",
   "metadata": {},
   "outputs": [],
   "source": [
    "params, sols, objvals, conviols, elapseds = [], [], [], [], []\n",
    "for p, a in tqdm(list(zip(p_test, a_test))):\n",
    "    # set params\n",
    "    model_heur.set_param_val({\"p\":p, \"a\":a})\n",
    "    # solve\n",
    "    tick = time.time()\n",
    "    try:\n",
    "        xval, objval = model_heur.solve(\"scip\")\n",
    "        # eval\n",
    "        params.append(list(p)+list(a))\n",
    "        sols.append(list(list(xval.values())[0].values()))\n",
    "        objvals.append(objval)\n",
    "        conviols.append(sum(model_heur.cal_violation()))\n",
    "    except:\n",
    "        params.append(list(p)+list(a))\n",
    "        sols.append(None)\n",
    "        objvals.append(None)\n",
    "        conviols.append(None)\n",
    "    tock = time.time()\n",
    "    elapseds.append(tock - tick)\n",
    "df = pd.DataFrame({\"Param\":params, \"Sol\":sols, \"Obj Val\": objvals, \"Constraints Viol\": conviols, \"Elapsed Time\": elapseds})\n",
    "time.sleep(1)\n",
    "df.to_csv(\"result/rb_heur_n1_50-1000.csv\")\n",
    "time.sleep(1)\n",
    "print(df.describe())\n",
    "print(\"Number of infeasible solution: {}\".format(np.sum(df[\"Constraints Viol\"] > 0)))"
   ]
  },
  {
   "cell_type": "markdown",
   "id": "9819c60c-df5f-41c6-ae83-888c75aa78d7",
   "metadata": {},
   "source": [
    "## Learnable Rounding"
   ]
  },
  {
   "cell_type": "code",
   "execution_count": 7,
   "id": "6c2bdd74-a0d1-4afa-b610-4f29559a5860",
   "metadata": {},
   "outputs": [],
   "source": [
    "# random seed\n",
    "np.random.seed(42)\n",
    "torch.manual_seed(42)\n",
    "torch.cuda.manual_seed(42)"
   ]
  },
  {
   "cell_type": "code",
   "execution_count": 8,
   "id": "536d2d58-67ba-408a-b72a-7c5bd54a5ff4",
   "metadata": {},
   "outputs": [],
   "source": [
    "# hyperparameters\n",
    "penalty_weight = 100  # weight of constraint violation penealty\n",
    "hlayers_sol = 5       # number of hidden layers for solution mapping\n",
    "hlayers_rnd = 4       # number of hidden layers for solution mapping\n",
    "hsize = 1024          # width of hidden layers for solution mapping\n",
    "lr = 1e-3             # learning rate"
   ]
  },
  {
   "cell_type": "code",
   "execution_count": 9,
   "id": "fee1241e-e53a-4cbb-927a-edcdb3537303",
   "metadata": {},
   "outputs": [],
   "source": [
    "# set problem\n",
    "import neuromancer as nm\n",
    "from src.problem import nmRosenbrock\n",
    "from src.func.layer import netFC\n",
    "from src.func import roundGumbelModel\n",
    "# build neural architecture for the solution map\n",
    "func = nm.modules.blocks.MLP(insize=num_blocks+1, outsize=2*num_blocks, bias=True,\n",
    "                             linear_map=nm.slim.maps[\"linear\"],\n",
    "                             nonlin=nn.ReLU, hsizes=[hsize]*hlayers_sol)\n",
    "smap = nm.system.Node(func, [\"p\", \"a\"], [\"x\"], name=\"smap\")\n",
    "# define rounding model\n",
    "layers_rnd = netFC(input_dim=3*num_blocks+1, hidden_dims=[hsize]*hlayers_rnd, output_dim=2*num_blocks)\n",
    "rnd = roundGumbelModel(layers=layers_rnd, param_keys=[\"p\", \"a\"], var_keys=[\"x\"],  output_keys=[\"x_rnd\"], \n",
    "                       int_ind=model.int_ind, continuous_update=True, name=\"round\")\n",
    "# build neuromancer problem for rounding\n",
    "components = nn.ModuleList([smap, rnd]).to(\"cuda\")\n",
    "loss_fn = nmRosenbrock([\"p\", \"a\", \"x_rnd\"], steepness, num_blocks, penalty_weight)"
   ]
  },
  {
   "cell_type": "code",
   "execution_count": 10,
   "id": "e4f10263-5f69-4288-a4e8-8be83929c8d6",
   "metadata": {},
   "outputs": [
    {
     "name": "stdout",
     "output_type": "stream",
     "text": [
      "Epoch 0, Iters 0, Validation Loss: 2509939.02\n",
      "Epoch 0, Iters 125, Validation Loss: 23547784.62\n",
      "Epoch 1, Iters 250, Validation Loss: 1058362.64\n",
      "Epoch 2, Iters 375, Validation Loss: 9029237344.00\n",
      "Epoch 3, Iters 500, Validation Loss: 2525781.12\n",
      "Epoch 4, Iters 625, Validation Loss: 763676.33\n",
      "Epoch 5, Iters 750, Validation Loss: 2161524.15\n",
      "Epoch 6, Iters 875, Validation Loss: 9943107776.00\n",
      "Epoch 7, Iters 1000, Validation Loss: 395674504.00\n",
      "Epoch 8, Iters 1125, Validation Loss: 1280656.49\n",
      "Epoch 9, Iters 1250, Validation Loss: 816457.28\n",
      "Epoch 10, Iters 1375, Validation Loss: 574433.58\n",
      "Epoch 11, Iters 1500, Validation Loss: 642471.21\n",
      "Epoch 12, Iters 1625, Validation Loss: 1408512982617.41\n",
      "Epoch 13, Iters 1750, Validation Loss: 221375180800.00\n",
      "Epoch 14, Iters 1875, Validation Loss: 645202.55\n",
      "Epoch 15, Iters 2000, Validation Loss: 386957.65\n",
      "Epoch 16, Iters 2125, Validation Loss: 307864.66\n",
      "Epoch 17, Iters 2250, Validation Loss: 301432.22\n",
      "Epoch 18, Iters 2375, Validation Loss: 790172.31\n",
      "Epoch 19, Iters 2500, Validation Loss: 538825.67\n",
      "Epoch 20, Iters 2625, Validation Loss: 339388.50\n",
      "Epoch 21, Iters 2750, Validation Loss: 586035.34\n",
      "Epoch 22, Iters 2875, Validation Loss: 463466670997.92\n",
      "Epoch 23, Iters 3000, Validation Loss: 673189.57\n",
      "Epoch 24, Iters 3125, Validation Loss: 440004.07\n",
      "Epoch 25, Iters 3250, Validation Loss: 359834.67\n",
      "Epoch 26, Iters 3375, Validation Loss: 14722395267961270804569520640884736.00\n",
      "Epoch 27, Iters 3500, Validation Loss: 227528.49\n",
      "Epoch 28, Iters 3625, Validation Loss: 554683.72\n",
      "Epoch 29, Iters 3750, Validation Loss: 245793.32\n",
      "Epoch 30, Iters 3875, Validation Loss: 290796.06\n",
      "Epoch 31, Iters 4000, Validation Loss: 226779.56\n",
      "Epoch 32, Iters 4125, Validation Loss: 1028521.09\n",
      "Epoch 33, Iters 4250, Validation Loss: 288553.99\n",
      "Epoch 34, Iters 4375, Validation Loss: 1256685325863.50\n",
      "Epoch 35, Iters 4500, Validation Loss: 268978.42\n",
      "Epoch 36, Iters 4625, Validation Loss: 252196.35\n",
      "Epoch 37, Iters 4750, Validation Loss: 225184.07\n",
      "Epoch 38, Iters 4875, Validation Loss: 280356.41\n",
      "Epoch 39, Iters 5000, Validation Loss: 16201505.70\n",
      "Epoch 40, Iters 5125, Validation Loss: 311547.55\n",
      "Epoch 41, Iters 5250, Validation Loss: 394548.96\n",
      "Epoch 42, Iters 5375, Validation Loss: 254361.05\n",
      "Epoch 43, Iters 5500, Validation Loss: 190429.32\n",
      "Epoch 44, Iters 5625, Validation Loss: 283540.72\n",
      "Epoch 45, Iters 5750, Validation Loss: 371307.80\n",
      "Epoch 46, Iters 5875, Validation Loss: 127552148.04\n",
      "Epoch 47, Iters 6000, Validation Loss: 307526.12\n",
      "Epoch 48, Iters 6125, Validation Loss: 765671.42\n",
      "Epoch 49, Iters 6250, Validation Loss: 181395.39\n",
      "Epoch 50, Iters 6375, Validation Loss: 197093.72\n",
      "Epoch 51, Iters 6500, Validation Loss: 211203.67\n",
      "Epoch 52, Iters 6625, Validation Loss: 326179.19\n",
      "Epoch 53, Iters 6750, Validation Loss: 252172.16\n",
      "Epoch 54, Iters 6875, Validation Loss: 519756.66\n",
      "Epoch 55, Iters 7000, Validation Loss: 407641.03\n",
      "Epoch 56, Iters 7125, Validation Loss: 374630.34\n",
      "Epoch 57, Iters 7250, Validation Loss: 185677.95\n",
      "Epoch 58, Iters 7375, Validation Loss: 199231.73\n",
      "Epoch 59, Iters 7500, Validation Loss: 237754305109557248.00\n",
      "Epoch 60, Iters 7625, Validation Loss: 20108230432653312.00\n",
      "Epoch 61, Iters 7750, Validation Loss: 319118.47\n",
      "Epoch 62, Iters 7875, Validation Loss: 238684.20\n",
      "Epoch 63, Iters 8000, Validation Loss: 1718707988122.71\n",
      "Epoch 64, Iters 8125, Validation Loss: 258613.03\n",
      "Epoch 65, Iters 8250, Validation Loss: 15885960593102226849792.00\n",
      "Epoch 66, Iters 8375, Validation Loss: 19293141.62\n",
      "Epoch 67, Iters 8500, Validation Loss: 222216.96\n",
      "Epoch 68, Iters 8625, Validation Loss: 857610.48\n",
      "Epoch 69, Iters 8750, Validation Loss: 981781.21\n",
      "Early stopping at iters 8750\n",
      "Best model loaded.\n",
      "Training complete.\n",
      "The training time is 762.11 sec.\n"
     ]
    }
   ],
   "source": [
    "from src.problem.neuromancer.trainer import trainer\n",
    "# training\n",
    "epochs = 200                    # number of training epochs\n",
    "warmup = 20                     # number of epochs to wait before enacting early stopping policy\n",
    "patience = 20                   # number of epochs with no improvement in eval metric to allow before early stopping\n",
    "optimizer = torch.optim.AdamW(components.parameters(), lr=lr)\n",
    "# create a trainer for the problem\n",
    "my_trainer = trainer(components, loss_fn, optimizer, epochs=epochs, patience=patience, warmup=warmup, device=\"cuda\")\n",
    "# training for the rounding problem\n",
    "my_trainer.train(loader_train, loader_dev)"
   ]
  },
  {
   "cell_type": "code",
   "execution_count": 11,
   "id": "3e835084-eb75-45d9-bcbd-5fb4c613fb41",
   "metadata": {},
   "outputs": [
    {
     "name": "stderr",
     "output_type": "stream",
     "text": [
      "100%|████████████████████████████████████████████████████████████████████████████████| 100/100 [02:21<00:00,  1.42s/it]\n"
     ]
    },
    {
     "name": "stdout",
     "output_type": "stream",
     "text": [
      "             Obj Val  Constraints Viol  Elapsed Time\n",
      "count     100.000000        100.000000    100.000000\n",
      "mean    63394.521176       1886.499878      0.044669\n",
      "std     22387.131319       2978.950012      0.005770\n",
      "min     30213.719813          0.000000      0.010129\n",
      "25%     41690.205890          0.000000      0.043941\n",
      "50%     60144.230399          0.000000      0.044718\n",
      "75%     84490.023807       3293.265869      0.046077\n",
      "max    103941.439708      12096.487408      0.052395\n",
      "Number of infeasible solution: 45\n"
     ]
    }
   ],
   "source": [
    "params, sols, objvals, conviols, elapseds = [], [], [], [], []\n",
    "for p, a in tqdm(list(zip(p_test, a_test))):\n",
    "    # data point as tensor\n",
    "    datapoints = {\"p\": torch.tensor(np.array([p]), dtype=torch.float32).to(\"cuda\"), \n",
    "                  \"a\": torch.tensor(np.array([a]), dtype=torch.float32).to(\"cuda\"),\n",
    "                  \"name\": \"test\"}\n",
    "    # infer\n",
    "    components.eval()\n",
    "    tick = time.time()\n",
    "    with torch.no_grad():\n",
    "        for comp in components:\n",
    "            datapoints.update(comp(datapoints))\n",
    "    tock = time.time()\n",
    "    # assign params\n",
    "    model.set_param_val({\"p\":p, \"a\":a})\n",
    "    # assign vars\n",
    "    x = datapoints[\"x_rnd\"]\n",
    "    for i in range(2*num_blocks):\n",
    "        model.vars[\"x\"][i].value = x[0,i].item()\n",
    "    # get solutions\n",
    "    xval, objval = model.get_val()    \n",
    "    params.append(list(p)+list(a))\n",
    "    sols.append(list(list(xval.values())[0].values()))\n",
    "    objvals.append(objval)\n",
    "    conviols.append(sum(model.cal_violation()))\n",
    "    elapseds.append(tock - tick)\n",
    "df = pd.DataFrame({\"Param\":params, \"Sol\":sols, \"Obj Val\": objvals, \"Constraints Viol\": conviols, \"Elapsed Time\": elapseds})\n",
    "time.sleep(1)\n",
    "df.to_csv(\"result/rb_lr_50-10000.csv\")\n",
    "time.sleep(1)\n",
    "print(df.describe())\n",
    "print(\"Number of infeasible solution: {}\".format(np.sum(df[\"Constraints Viol\"] > 0)))"
   ]
  },
  {
   "cell_type": "markdown",
   "id": "2dbf8a72-29b9-49c4-b3c1-0d68895c1c1f",
   "metadata": {},
   "source": [
    "## Learnable Threshold"
   ]
  },
  {
   "cell_type": "code",
   "execution_count": 12,
   "id": "7912a689-22cd-4d7b-a50f-d136dbdf5940",
   "metadata": {},
   "outputs": [],
   "source": [
    "# random seed\n",
    "np.random.seed(42)\n",
    "torch.manual_seed(42)\n",
    "torch.cuda.manual_seed(42)"
   ]
  },
  {
   "cell_type": "code",
   "execution_count": 13,
   "id": "d46b9817-87ac-4af0-b387-b10c9a4998f4",
   "metadata": {},
   "outputs": [],
   "source": [
    "# hyperparameters\n",
    "penalty_weight = 100  # weight of constraint violation penealty\n",
    "hlayers_sol = 5       # number of hidden layers for solution mapping\n",
    "hlayers_rnd = 4       # number of hidden layers for solution mapping\n",
    "hsize = 1024          # width of hidden layers for solution mapping\n",
    "lr = 1e-3             # learning rate"
   ]
  },
  {
   "cell_type": "code",
   "execution_count": 14,
   "id": "fa8b147f-39c8-4eb7-bb95-93dd8e4cb1cf",
   "metadata": {},
   "outputs": [],
   "source": [
    "# set problem\n",
    "import neuromancer as nm\n",
    "from src.problem import nmRosenbrock\n",
    "from src.func.layer import netFC\n",
    "from src.func import roundThresholdModel\n",
    "# build neural architecture for the solution map\n",
    "func = nm.modules.blocks.MLP(insize=num_blocks+1, outsize=2*num_blocks, bias=True,\n",
    "                             linear_map=nm.slim.maps[\"linear\"],\n",
    "                             nonlin=nn.ReLU, hsizes=[hsize]*hlayers_sol)\n",
    "smap = nm.system.Node(func, [\"p\", \"a\"], [\"x\"], name=\"smap\")\n",
    "# define rounding model\n",
    "layers_rnd = netFC(input_dim=3*num_blocks+1, hidden_dims=[hsize]*hlayers_rnd, output_dim=2*num_blocks)\n",
    "rnd = roundThresholdModel(layers=layers_rnd, param_keys=[\"p\", \"a\"], var_keys=[\"x\"],  output_keys=[\"x_rnd\"], \n",
    "                          int_ind=model.int_ind, continuous_update=True, name=\"round\")\n",
    "# build neuromancer problem for rounding\n",
    "components = nn.ModuleList([smap, rnd]).to(\"cuda\")\n",
    "loss_fn = nmRosenbrock([\"p\", \"a\", \"x_rnd\"], steepness, num_blocks, penalty_weight)"
   ]
  },
  {
   "cell_type": "code",
   "execution_count": 15,
   "id": "c6f5bb17-8c3c-4dcd-952d-caa1d7c4c4fa",
   "metadata": {},
   "outputs": [
    {
     "name": "stdout",
     "output_type": "stream",
     "text": [
      "Epoch 0, Iters 0, Validation Loss: 2261953.14\n",
      "Epoch 0, Iters 125, Validation Loss: 5502742.38\n",
      "Epoch 1, Iters 250, Validation Loss: 4919663.27\n",
      "Epoch 2, Iters 375, Validation Loss: 8745273.75\n",
      "Epoch 3, Iters 500, Validation Loss: 1767600.40\n",
      "Epoch 4, Iters 625, Validation Loss: 978680.83\n",
      "Epoch 5, Iters 750, Validation Loss: 1351430.10\n",
      "Epoch 6, Iters 875, Validation Loss: 1245172.36\n",
      "Epoch 7, Iters 1000, Validation Loss: 4438008.52\n",
      "Epoch 8, Iters 1125, Validation Loss: 563766.44\n",
      "Epoch 9, Iters 1250, Validation Loss: 591608.92\n",
      "Epoch 10, Iters 1375, Validation Loss: 453391.23\n",
      "Epoch 11, Iters 1500, Validation Loss: 807288.18\n",
      "Epoch 12, Iters 1625, Validation Loss: 364644.39\n",
      "Epoch 13, Iters 1750, Validation Loss: 441930.20\n",
      "Epoch 14, Iters 1875, Validation Loss: 755670.53\n",
      "Epoch 15, Iters 2000, Validation Loss: 415722.93\n",
      "Epoch 16, Iters 2125, Validation Loss: 370731.40\n",
      "Epoch 17, Iters 2250, Validation Loss: 956846.82\n",
      "Epoch 18, Iters 2375, Validation Loss: 368800.33\n",
      "Epoch 19, Iters 2500, Validation Loss: 311203.33\n",
      "Epoch 20, Iters 2625, Validation Loss: 303562.20\n",
      "Epoch 21, Iters 2750, Validation Loss: 383102.37\n",
      "Epoch 22, Iters 2875, Validation Loss: 334474.05\n",
      "Epoch 23, Iters 3000, Validation Loss: 397758.28\n",
      "Epoch 24, Iters 3125, Validation Loss: 400177.91\n",
      "Epoch 25, Iters 3250, Validation Loss: 385206.55\n",
      "Epoch 26, Iters 3375, Validation Loss: 251855.94\n",
      "Epoch 27, Iters 3500, Validation Loss: 441532.60\n",
      "Epoch 28, Iters 3625, Validation Loss: 7412784912.00\n",
      "Epoch 29, Iters 3750, Validation Loss: 276542.77\n",
      "Epoch 30, Iters 3875, Validation Loss: 308633.45\n",
      "Epoch 31, Iters 4000, Validation Loss: 232692.90\n",
      "Epoch 32, Iters 4125, Validation Loss: 292537.54\n",
      "Epoch 33, Iters 4250, Validation Loss: 242234.26\n",
      "Epoch 34, Iters 4375, Validation Loss: 447145.64\n",
      "Epoch 35, Iters 4500, Validation Loss: 215406.22\n",
      "Epoch 36, Iters 4625, Validation Loss: 230925.41\n",
      "Epoch 37, Iters 4750, Validation Loss: 211904.84\n",
      "Epoch 38, Iters 4875, Validation Loss: 213628.17\n",
      "Epoch 39, Iters 5000, Validation Loss: 208810.44\n",
      "Epoch 40, Iters 5125, Validation Loss: 479571.15\n",
      "Epoch 41, Iters 5250, Validation Loss: 536063.63\n",
      "Epoch 42, Iters 5375, Validation Loss: 213985.83\n",
      "Epoch 43, Iters 5500, Validation Loss: 178680.60\n",
      "Epoch 44, Iters 5625, Validation Loss: 451579.07\n",
      "Epoch 45, Iters 5750, Validation Loss: 588719.09\n",
      "Epoch 46, Iters 5875, Validation Loss: 226272.15\n",
      "Epoch 47, Iters 6000, Validation Loss: 501916.15\n",
      "Epoch 48, Iters 6125, Validation Loss: 237594.99\n",
      "Epoch 49, Iters 6250, Validation Loss: 466584.67\n",
      "Epoch 50, Iters 6375, Validation Loss: 397154.40\n",
      "Epoch 51, Iters 6500, Validation Loss: 170536.88\n",
      "Epoch 52, Iters 6625, Validation Loss: 402347.11\n",
      "Epoch 53, Iters 6750, Validation Loss: 188624.25\n",
      "Epoch 54, Iters 6875, Validation Loss: 278516.70\n",
      "Epoch 55, Iters 7000, Validation Loss: 264783.37\n",
      "Epoch 56, Iters 7125, Validation Loss: 309315.90\n",
      "Epoch 57, Iters 7250, Validation Loss: 262112.09\n",
      "Epoch 58, Iters 7375, Validation Loss: 176533.27\n",
      "Epoch 59, Iters 7500, Validation Loss: 383649.11\n",
      "Epoch 60, Iters 7625, Validation Loss: 169618.62\n",
      "Epoch 61, Iters 7750, Validation Loss: 178328.09\n",
      "Epoch 62, Iters 7875, Validation Loss: 210760.77\n",
      "Epoch 63, Iters 8000, Validation Loss: 234281.17\n",
      "Epoch 64, Iters 8125, Validation Loss: 160836.12\n",
      "Epoch 65, Iters 8250, Validation Loss: 519480.44\n",
      "Epoch 66, Iters 8375, Validation Loss: 219661.94\n",
      "Epoch 67, Iters 8500, Validation Loss: 383645.44\n",
      "Epoch 68, Iters 8625, Validation Loss: 942073.12\n",
      "Epoch 69, Iters 8750, Validation Loss: 168795.43\n",
      "Epoch 70, Iters 8875, Validation Loss: 424818.69\n",
      "Epoch 71, Iters 9000, Validation Loss: 201600.51\n",
      "Epoch 72, Iters 9125, Validation Loss: 266724.87\n",
      "Epoch 73, Iters 9250, Validation Loss: 187629.87\n",
      "Epoch 74, Iters 9375, Validation Loss: 167833.90\n",
      "Epoch 75, Iters 9500, Validation Loss: 163714.78\n",
      "Epoch 76, Iters 9625, Validation Loss: 149139.39\n",
      "Epoch 77, Iters 9750, Validation Loss: 447419.47\n",
      "Epoch 78, Iters 9875, Validation Loss: 355094.02\n",
      "Epoch 79, Iters 10000, Validation Loss: 167711.80\n",
      "Epoch 80, Iters 10125, Validation Loss: 340371.13\n",
      "Epoch 81, Iters 10250, Validation Loss: 169974.09\n",
      "Epoch 82, Iters 10375, Validation Loss: 179544.57\n",
      "Epoch 83, Iters 10500, Validation Loss: 151224.50\n",
      "Epoch 84, Iters 10625, Validation Loss: 212402.41\n",
      "Epoch 85, Iters 10750, Validation Loss: 233071.57\n",
      "Epoch 86, Iters 10875, Validation Loss: 339668.28\n",
      "Epoch 87, Iters 11000, Validation Loss: 625794.24\n",
      "Epoch 88, Iters 11125, Validation Loss: 200637.99\n",
      "Epoch 89, Iters 11250, Validation Loss: 150197.95\n",
      "Epoch 90, Iters 11375, Validation Loss: 273281.93\n",
      "Epoch 91, Iters 11500, Validation Loss: 167231.46\n",
      "Epoch 92, Iters 11625, Validation Loss: 195120.42\n",
      "Epoch 93, Iters 11750, Validation Loss: 161308.00\n",
      "Epoch 94, Iters 11875, Validation Loss: 383367.32\n",
      "Epoch 95, Iters 12000, Validation Loss: 682438.98\n",
      "Epoch 96, Iters 12125, Validation Loss: 325742.47\n",
      "Early stopping at iters 12125\n",
      "Best model loaded.\n",
      "Training complete.\n",
      "The training time is 1081.22 sec.\n"
     ]
    }
   ],
   "source": [
    "from src.problem.neuromancer.trainer import trainer\n",
    "# training\n",
    "epochs = 200                    # number of training epochs\n",
    "warmup = 20                     # number of epochs to wait before enacting early stopping policy\n",
    "patience = 20                   # number of epochs with no improvement in eval metric to allow before early stopping\n",
    "optimizer = torch.optim.AdamW(components.parameters(), lr=lr)\n",
    "# create a trainer for the problem\n",
    "my_trainer = trainer(components, loss_fn, optimizer, epochs=epochs, patience=patience, warmup=warmup, device=\"cuda\")\n",
    "# training for the rounding problem\n",
    "my_trainer.train(loader_train, loader_dev)"
   ]
  },
  {
   "cell_type": "code",
   "execution_count": 16,
   "id": "6584d57e-6b4c-4262-82f5-55735ef17cac",
   "metadata": {},
   "outputs": [
    {
     "name": "stderr",
     "output_type": "stream",
     "text": [
      "100%|████████████████████████████████████████████████████████████████████████████████| 100/100 [02:11<00:00,  1.32s/it]\n"
     ]
    },
    {
     "name": "stdout",
     "output_type": "stream",
     "text": [
      "             Obj Val  Constraints Viol  Elapsed Time\n",
      "count     100.000000        100.000000    100.000000\n",
      "mean    66890.890298       1035.811869      0.044335\n",
      "std     44878.364357       2045.622608      0.004318\n",
      "min     31365.948191          0.000000      0.016465\n",
      "25%     39576.275118          0.000000      0.043772\n",
      "50%     48003.272532          0.000000      0.044270\n",
      "75%     74269.501782       1304.634400      0.044901\n",
      "max    220276.080528       9271.844791      0.052884\n",
      "Number of infeasible solution: 32\n"
     ]
    }
   ],
   "source": [
    "params, sols, objvals, conviols, elapseds = [], [], [], [], []\n",
    "for p, a in tqdm(list(zip(p_test, a_test))):\n",
    "    # data point as tensor\n",
    "    datapoints = {\"p\": torch.tensor(np.array([p]), dtype=torch.float32).to(\"cuda\"), \n",
    "                  \"a\": torch.tensor(np.array([a]), dtype=torch.float32).to(\"cuda\"),\n",
    "                  \"name\": \"test\"}\n",
    "    # infer\n",
    "    components.eval()\n",
    "    tick = time.time()\n",
    "    with torch.no_grad():\n",
    "        for comp in components:\n",
    "            datapoints.update(comp(datapoints))\n",
    "    tock = time.time()\n",
    "    # assign params\n",
    "    model.set_param_val({\"p\":p, \"a\":a})\n",
    "    # assign vars\n",
    "    x = datapoints[\"x_rnd\"]\n",
    "    for i in range(2*num_blocks):\n",
    "        model.vars[\"x\"][i].value = x[0,i].item()\n",
    "    # get solutions\n",
    "    xval, objval = model.get_val()    \n",
    "    params.append(list(p)+list(a))\n",
    "    sols.append(list(list(xval.values())[0].values()))\n",
    "    objvals.append(objval)\n",
    "    conviols.append(sum(model.cal_violation()))\n",
    "    elapseds.append(tock - tick)\n",
    "df = pd.DataFrame({\"Param\":params, \"Sol\":sols, \"Obj Val\": objvals, \"Constraints Viol\": conviols, \"Elapsed Time\": elapseds})\n",
    "time.sleep(1)\n",
    "df.to_csv(\"result/rb_lt_50-10000.csv\")\n",
    "time.sleep(1)\n",
    "print(df.describe())\n",
    "print(\"Number of infeasible solution: {}\".format(np.sum(df[\"Constraints Viol\"] > 0)))"
   ]
  },
  {
   "cell_type": "markdown",
   "id": "bece4166-1c16-45d5-a544-dbc93ee03cd1",
   "metadata": {},
   "source": [
    "## Parametric Learning Then Rounding"
   ]
  },
  {
   "cell_type": "code",
   "execution_count": 17,
   "id": "2fb68ab1-eaf8-4821-93ec-65e8c4b0a00c",
   "metadata": {},
   "outputs": [],
   "source": [
    "# random seed\n",
    "np.random.seed(42)\n",
    "torch.manual_seed(42)\n",
    "torch.cuda.manual_seed(42)"
   ]
  },
  {
   "cell_type": "code",
   "execution_count": 18,
   "id": "d01e8d11-e6f5-4e99-8dc4-e173751c927e",
   "metadata": {},
   "outputs": [],
   "source": [
    "# hyperparameters\n",
    "penalty_weight = 200  # weight of constraint violation penealty\n",
    "hlayers_sol = 5       # number of hidden layers for solution mapping\n",
    "hsize = 1024          # width of hidden layers for solution mapping\n",
    "lr = 1e-3             # learning rate"
   ]
  },
  {
   "cell_type": "code",
   "execution_count": 19,
   "id": "99131f79-d4e9-4bcb-ba80-1d6284cdc5f2",
   "metadata": {},
   "outputs": [],
   "source": [
    "# set problem\n",
    "import neuromancer as nm\n",
    "from src.problem import nmRosenbrock\n",
    "from src.func.layer import netFC\n",
    "# build neural architecture for the solution map\n",
    "func = nm.modules.blocks.MLP(insize=num_blocks+1, outsize=2*num_blocks, bias=True,\n",
    "                             linear_map=nm.slim.maps[\"linear\"],\n",
    "                             nonlin=nn.ReLU, hsizes=[hsize]*hlayers_sol)\n",
    "smap = nm.system.Node(func, [\"p\", \"a\"], [\"x\"], name=\"smap\")\n",
    "# build neuromancer problem for rounding\n",
    "components = nn.ModuleList([smap]).to(\"cuda\")\n",
    "loss_fn = nmRosenbrock([\"p\", \"a\", \"x\"], steepness, num_blocks, penalty_weight)"
   ]
  },
  {
   "cell_type": "code",
   "execution_count": 20,
   "id": "dea5cd27-82b8-433f-bdc2-e539e78cfa36",
   "metadata": {},
   "outputs": [
    {
     "name": "stdout",
     "output_type": "stream",
     "text": [
      "Epoch 0, Validation Loss: 4465928.39\n",
      "Epoch 1, Validation Loss: 806492.54\n",
      "Epoch 2, Validation Loss: 1400804.34\n",
      "Epoch 3, Validation Loss: 836137.80\n",
      "Epoch 4, Validation Loss: 1132050.46\n",
      "Epoch 5, Validation Loss: 932114.68\n",
      "Epoch 6, Validation Loss: 1877306.24\n",
      "Epoch 7, Validation Loss: 776943.61\n",
      "Epoch 8, Validation Loss: 2467769.39\n",
      "Epoch 9, Validation Loss: 747233.48\n",
      "Epoch 10, Validation Loss: 771249.11\n",
      "Epoch 11, Validation Loss: 712385.04\n",
      "Epoch 12, Validation Loss: 753251.93\n",
      "Epoch 13, Validation Loss: 576132.10\n",
      "Epoch 14, Validation Loss: 560900.38\n",
      "Epoch 15, Validation Loss: 539467.83\n",
      "Epoch 16, Validation Loss: 1021170.49\n",
      "Epoch 17, Validation Loss: 557530.21\n",
      "Epoch 18, Validation Loss: 509458.69\n",
      "Epoch 19, Validation Loss: 815782.66\n",
      "Epoch 20, Validation Loss: 482423.45\n",
      "Epoch 21, Validation Loss: 659804.84\n",
      "Epoch 22, Validation Loss: 639800.97\n",
      "Epoch 23, Validation Loss: 501593.99\n",
      "Epoch 24, Validation Loss: 900555.49\n",
      "Epoch 25, Validation Loss: 1437293.05\n",
      "Epoch 26, Validation Loss: 495750.32\n",
      "Epoch 27, Validation Loss: 780311.29\n",
      "Epoch 28, Validation Loss: 407208.30\n",
      "Epoch 29, Validation Loss: 371041.40\n",
      "Epoch 30, Validation Loss: 355289.62\n",
      "Epoch 31, Validation Loss: 722841.58\n",
      "Epoch 32, Validation Loss: 362661.34\n",
      "Epoch 33, Validation Loss: 562525.48\n",
      "Epoch 34, Validation Loss: 390757.44\n",
      "Epoch 35, Validation Loss: 360510.89\n",
      "Epoch 36, Validation Loss: 700668.48\n",
      "Epoch 37, Validation Loss: 345179.58\n",
      "Epoch 38, Validation Loss: 582963.45\n",
      "Epoch 39, Validation Loss: 382949.76\n",
      "Epoch 40, Validation Loss: 477182.05\n",
      "Epoch 41, Validation Loss: 630009.81\n",
      "Epoch 42, Validation Loss: 347370.69\n",
      "Epoch 43, Validation Loss: 547476.94\n",
      "Epoch 44, Validation Loss: 427044.59\n",
      "Epoch 45, Validation Loss: 305200.44\n",
      "Epoch 46, Validation Loss: 342158.46\n",
      "Epoch 47, Validation Loss: 391458.16\n",
      "Epoch 48, Validation Loss: 444217.70\n",
      "Epoch 49, Validation Loss: 810998.16\n",
      "Epoch 50, Validation Loss: 908692.00\n",
      "Epoch 51, Validation Loss: 1050278.33\n",
      "Epoch 52, Validation Loss: 393364.28\n",
      "Epoch 53, Validation Loss: 404808.99\n",
      "Epoch 54, Validation Loss: 729897.00\n",
      "Epoch 55, Validation Loss: 1177306.19\n",
      "Epoch 56, Validation Loss: 397092.39\n",
      "Epoch 57, Validation Loss: 620556.73\n",
      "Epoch 58, Validation Loss: 323833.86\n",
      "Epoch 59, Validation Loss: 438424.69\n",
      "Epoch 60, Validation Loss: 299717.65\n",
      "Epoch 61, Validation Loss: 315952.64\n",
      "Epoch 62, Validation Loss: 755276.74\n",
      "Epoch 63, Validation Loss: 850976.77\n",
      "Epoch 64, Validation Loss: 362377.00\n",
      "Epoch 65, Validation Loss: 335518.92\n",
      "Epoch 66, Validation Loss: 831502.67\n",
      "Epoch 67, Validation Loss: 678262.14\n",
      "Epoch 68, Validation Loss: 483771.01\n",
      "Epoch 69, Validation Loss: 247246.13\n",
      "Epoch 70, Validation Loss: 507519.09\n",
      "Epoch 71, Validation Loss: 434653.93\n",
      "Epoch 72, Validation Loss: 671255.59\n",
      "Epoch 73, Validation Loss: 375015.03\n",
      "Epoch 74, Validation Loss: 373126.68\n",
      "Epoch 75, Validation Loss: 544651.91\n",
      "Epoch 76, Validation Loss: 803801.08\n",
      "Epoch 77, Validation Loss: 537223.84\n",
      "Epoch 78, Validation Loss: 290171.48\n",
      "Epoch 79, Validation Loss: 233995.75\n",
      "Epoch 80, Validation Loss: 1012512.62\n",
      "Epoch 81, Validation Loss: 588969.21\n",
      "Epoch 82, Validation Loss: 325297.81\n",
      "Epoch 83, Validation Loss: 211058.17\n",
      "Epoch 84, Validation Loss: 725066.04\n",
      "Epoch 85, Validation Loss: 814759.80\n",
      "Epoch 86, Validation Loss: 332983.44\n",
      "Epoch 87, Validation Loss: 379284.75\n",
      "Epoch 88, Validation Loss: 459481.18\n",
      "Epoch 89, Validation Loss: 412979.79\n",
      "Epoch 90, Validation Loss: 639182.98\n",
      "Epoch 91, Validation Loss: 206188.64\n",
      "Epoch 92, Validation Loss: 267919.16\n",
      "Epoch 93, Validation Loss: 234382.01\n",
      "Epoch 94, Validation Loss: 454837.40\n",
      "Epoch 95, Validation Loss: 659637.66\n",
      "Epoch 96, Validation Loss: 255579.76\n",
      "Epoch 97, Validation Loss: 249109.13\n",
      "Epoch 98, Validation Loss: 626847.58\n",
      "Epoch 99, Validation Loss: 1326786.89\n",
      "Epoch 100, Validation Loss: 191617.29\n",
      "Epoch 101, Validation Loss: 616732.50\n",
      "Epoch 102, Validation Loss: 646910.41\n",
      "Epoch 103, Validation Loss: 205721.76\n",
      "Epoch 104, Validation Loss: 220218.83\n",
      "Epoch 105, Validation Loss: 773786.37\n",
      "Epoch 106, Validation Loss: 642239.14\n",
      "Epoch 107, Validation Loss: 266184.47\n",
      "Epoch 108, Validation Loss: 357287.95\n",
      "Epoch 109, Validation Loss: 357073.97\n",
      "Epoch 110, Validation Loss: 596360.26\n",
      "Epoch 111, Validation Loss: 485059.02\n",
      "Epoch 112, Validation Loss: 189350.87\n",
      "Epoch 113, Validation Loss: 191139.83\n",
      "Epoch 114, Validation Loss: 1306443.66\n",
      "Epoch 115, Validation Loss: 309915.16\n",
      "Epoch 116, Validation Loss: 1168533.32\n",
      "Epoch 117, Validation Loss: 390782.46\n",
      "Epoch 118, Validation Loss: 253196.29\n",
      "Epoch 119, Validation Loss: 554399.12\n",
      "Epoch 120, Validation Loss: 928334.66\n",
      "Epoch 121, Validation Loss: 343490.53\n",
      "Epoch 122, Validation Loss: 316430.27\n",
      "Epoch 123, Validation Loss: 265849.32\n",
      "Epoch 124, Validation Loss: 167420.64\n",
      "Epoch 125, Validation Loss: 293661.72\n",
      "Epoch 126, Validation Loss: 742688.94\n",
      "Epoch 127, Validation Loss: 171386.25\n",
      "Epoch 128, Validation Loss: 357641.72\n",
      "Epoch 129, Validation Loss: 266933.44\n",
      "Epoch 130, Validation Loss: 471894.72\n",
      "Epoch 131, Validation Loss: 681883.99\n",
      "Epoch 132, Validation Loss: 224719.14\n",
      "Epoch 133, Validation Loss: 473583.57\n",
      "Epoch 134, Validation Loss: 617164.06\n",
      "Epoch 135, Validation Loss: 162880.16\n",
      "Epoch 136, Validation Loss: 754524.55\n",
      "Epoch 137, Validation Loss: 765198.11\n",
      "Epoch 138, Validation Loss: 215421.85\n",
      "Epoch 139, Validation Loss: 493757.39\n",
      "Epoch 140, Validation Loss: 608866.45\n",
      "Epoch 141, Validation Loss: 745771.58\n",
      "Epoch 142, Validation Loss: 784800.76\n",
      "Epoch 143, Validation Loss: 331101.92\n",
      "Epoch 144, Validation Loss: 711967.87\n",
      "Epoch 145, Validation Loss: 535680.22\n",
      "Epoch 146, Validation Loss: 496881.32\n",
      "Epoch 147, Validation Loss: 168808.37\n",
      "Epoch 148, Validation Loss: 276071.88\n",
      "Epoch 149, Validation Loss: 208989.23\n",
      "Epoch 150, Validation Loss: 828438.02\n",
      "Epoch 151, Validation Loss: 157177.09\n",
      "Epoch 152, Validation Loss: 309097.79\n",
      "Epoch 153, Validation Loss: 213859.84\n",
      "Epoch 154, Validation Loss: 190751.76\n",
      "Epoch 155, Validation Loss: 699296.74\n",
      "Epoch 156, Validation Loss: 378830.37\n",
      "Epoch 157, Validation Loss: 170398.18\n",
      "Epoch 158, Validation Loss: 409903.48\n",
      "Epoch 159, Validation Loss: 179281.84\n",
      "Epoch 160, Validation Loss: 787604.72\n",
      "Epoch 161, Validation Loss: 333073.24\n",
      "Epoch 162, Validation Loss: 219357.13\n",
      "Epoch 163, Validation Loss: 157250.58\n",
      "Epoch 164, Validation Loss: 330261.39\n",
      "Epoch 165, Validation Loss: 376454.84\n",
      "Epoch 166, Validation Loss: 152437.03\n",
      "Epoch 167, Validation Loss: 375698.70\n",
      "Epoch 168, Validation Loss: 275380.19\n",
      "Epoch 169, Validation Loss: 301237.33\n",
      "Epoch 170, Validation Loss: 1196990.12\n",
      "Epoch 171, Validation Loss: 228347.69\n",
      "Epoch 172, Validation Loss: 165409.17\n",
      "Epoch 173, Validation Loss: 211766.70\n",
      "Epoch 174, Validation Loss: 250583.44\n",
      "Epoch 175, Validation Loss: 620322.34\n",
      "Epoch 176, Validation Loss: 683581.51\n",
      "Epoch 177, Validation Loss: 313302.16\n",
      "Epoch 178, Validation Loss: 518153.86\n",
      "Epoch 179, Validation Loss: 192819.63\n",
      "Epoch 180, Validation Loss: 398331.96\n",
      "Epoch 181, Validation Loss: 141274.08\n",
      "Epoch 182, Validation Loss: 178172.18\n",
      "Epoch 183, Validation Loss: 315673.66\n",
      "Epoch 184, Validation Loss: 623394.99\n",
      "Epoch 185, Validation Loss: 302459.31\n",
      "Epoch 186, Validation Loss: 188962.84\n",
      "Epoch 187, Validation Loss: 948637.07\n",
      "Epoch 188, Validation Loss: 156138.79\n",
      "Epoch 189, Validation Loss: 249484.06\n",
      "Epoch 190, Validation Loss: 178262.16\n",
      "Epoch 191, Validation Loss: 241255.71\n",
      "Epoch 192, Validation Loss: 463387.04\n",
      "Epoch 193, Validation Loss: 184888.20\n",
      "Epoch 194, Validation Loss: 129448.04\n",
      "Epoch 195, Validation Loss: 260972.51\n",
      "Epoch 196, Validation Loss: 770863.88\n",
      "Epoch 197, Validation Loss: 332670.87\n",
      "Epoch 198, Validation Loss: 172724.05\n",
      "Epoch 199, Validation Loss: 156551.14\n",
      "Best model loaded.\n",
      "Training complete.\n",
      "The training time is 1920.59 sec.\n"
     ]
    }
   ],
   "source": [
    "from src.problem.neuromancer.trainer import trainer\n",
    "# training\n",
    "epochs = 200                    # number of training epochs\n",
    "warmup = 20                     # number of epochs to wait before enacting early stopping policy\n",
    "patience = 20                   # number of epochs with no improvement in eval metric to allow before early stopping\n",
    "optimizer = torch.optim.AdamW(components.parameters(), lr=lr)\n",
    "# create a trainer for the problem\n",
    "my_trainer = trainer(components, loss_fn, optimizer, epochs=epochs, patience=patience, warmup=warmup, device=\"cuda\")\n",
    "# training for the rounding problem\n",
    "my_trainer.train(loader_train, loader_dev)"
   ]
  },
  {
   "cell_type": "code",
   "execution_count": 21,
   "id": "188c6d47-2e52-418c-ba52-33fed3701736",
   "metadata": {},
   "outputs": [
    {
     "name": "stderr",
     "output_type": "stream",
     "text": [
      "100%|████████████████████████████████████████████████████████████████████████████████| 100/100 [02:48<00:00,  1.69s/it]\n"
     ]
    },
    {
     "name": "stdout",
     "output_type": "stream",
     "text": [
      "             Obj Val  Constraints Viol  Elapsed Time\n",
      "count     100.000000        100.000000    100.000000\n",
      "mean    58414.161239        783.294925      0.000745\n",
      "std     33735.526360       1776.636885      0.000481\n",
      "min     17820.777149          0.000000      0.000000\n",
      "25%     29810.740259          0.000000      0.000000\n",
      "50%     54241.666360          0.000000      0.000999\n",
      "75%     76504.749923        182.742361      0.001004\n",
      "max    142826.237652       8907.434940      0.002000\n",
      "Number of infeasible solution: 26\n"
     ]
    }
   ],
   "source": [
    "from src.heuristic import naive_round\n",
    "params, sols, objvals, conviols, elapseds = [], [], [], [], []\n",
    "for p, a in tqdm(list(zip(p_test, a_test))):\n",
    "    # data point as tensor\n",
    "    datapoints = {\"p\": torch.tensor(np.array([p]), dtype=torch.float32).to(\"cuda\"), \n",
    "                  \"a\": torch.tensor(np.array([a]), dtype=torch.float32).to(\"cuda\"),\n",
    "                  \"name\": \"test\"}\n",
    "    # infer\n",
    "    components.eval()\n",
    "    tick = time.time()\n",
    "    with torch.no_grad():\n",
    "        for comp in components:\n",
    "            datapoints.update(comp(datapoints))\n",
    "    tock = time.time()\n",
    "    # assign params\n",
    "    model.set_param_val({\"p\":p, \"a\":a})\n",
    "    # assign vars\n",
    "    x = datapoints[\"x\"]\n",
    "    for i in range(num_blocks*2):\n",
    "        model.vars[\"x\"][i].value = x[0,i].item()\n",
    "    # get solutions\n",
    "    xval_rel, _ = model.get_val()\n",
    "    xval, objval = naive_round(xval_rel, model)\n",
    "    params.append(list(p)+list(a))\n",
    "    sols.append(list(list(xval.values())[0].values()))\n",
    "    objvals.append(objval)\n",
    "    conviols.append(sum(model.cal_violation()))\n",
    "    elapseds.append(tock - tick)\n",
    "df = pd.DataFrame({\"Param\":params, \"Sol\":sols, \"Obj Val\": objvals, \"Constraints Viol\": conviols, \"Elapsed Time\": elapseds})\n",
    "time.sleep(1)\n",
    "df.to_csv(\"result/rb_pr_50-1000.csv\")\n",
    "print(df.describe())\n",
    "print(\"Number of infeasible solution: {}\".format(np.sum(df[\"Constraints Viol\"] > 0)))"
   ]
  },
  {
   "cell_type": "markdown",
   "id": "69c94147-bd22-4295-9ebf-d9c4c4e18d2d",
   "metadata": {},
   "source": [
    "### STE Rounding"
   ]
  },
  {
   "cell_type": "code",
   "execution_count": 7,
   "id": "db2a9d85-7f01-4468-a6ea-ae00b01770a2",
   "metadata": {},
   "outputs": [],
   "source": [
    "# random seed\n",
    "np.random.seed(42)\n",
    "torch.manual_seed(42)\n",
    "torch.cuda.manual_seed(42)"
   ]
  },
  {
   "cell_type": "code",
   "execution_count": 8,
   "id": "2db40372-96d1-461d-b378-5a5544db4383",
   "metadata": {},
   "outputs": [],
   "source": [
    "# hyperparameters\n",
    "penalty_weight = 100  # weight of constraint violation penealty\n",
    "hlayers_sol = 5       # number of hidden layers for solution mapping\n",
    "hsize = 16            # width of hidden layers for solution mapping\n",
    "lr = 1e-3             # learning rate"
   ]
  },
  {
   "cell_type": "code",
   "execution_count": 9,
   "id": "3f438e80-4607-4c2b-836b-066387769899",
   "metadata": {},
   "outputs": [],
   "source": [
    "# set problem\n",
    "import neuromancer as nm\n",
    "from src.problem import nmRosenbrock\n",
    "from src.func.layer import netFC\n",
    "from src.func import roundSTEModel\n",
    "# build neural architecture for the solution map\n",
    "func = nm.modules.blocks.MLP(insize=num_blocks+1, outsize=2*num_blocks, bias=True,\n",
    "                             linear_map=nm.slim.maps[\"linear\"],\n",
    "                             nonlin=nn.ReLU, hsizes=[hsize]*hlayers_sol)\n",
    "smap = nm.system.Node(func, [\"p\", \"a\"], [\"x\"], name=\"smap\")\n",
    "# define rounding model\n",
    "rnd = roundSTEModel(param_keys=[\"p\", \"a\"], var_keys=[\"x\"],  output_keys=[\"x_rnd\"], int_ind=model.int_ind, name=\"round\")\n",
    "# build neuromancer problem for rounding\n",
    "components = nn.ModuleList([smap, rnd]).to(\"cuda\")\n",
    "loss_fn = nmRosenbrock([\"p\", \"a\", \"x_rnd\"], steepness, num_blocks, penalty_weight)"
   ]
  },
  {
   "cell_type": "code",
   "execution_count": 10,
   "id": "14691445-28e6-4364-9d7e-0e7b65ad77f4",
   "metadata": {},
   "outputs": [
    {
     "name": "stdout",
     "output_type": "stream",
     "text": [
      "Epoch 0, Validation Loss: 2270309.39\n",
      "Epoch 1, Validation Loss: 607560.49\n",
      "Epoch 2, Validation Loss: 562869.86\n",
      "Epoch 3, Validation Loss: 545407.88\n",
      "Epoch 4, Validation Loss: 529394.04\n",
      "Epoch 5, Validation Loss: 548448.44\n",
      "Epoch 6, Validation Loss: 506316.46\n",
      "Epoch 7, Validation Loss: 455785.43\n",
      "Epoch 8, Validation Loss: 479274.73\n",
      "Epoch 9, Validation Loss: 1830764.43\n",
      "Epoch 10, Validation Loss: 617360.01\n",
      "Epoch 11, Validation Loss: 624843.02\n",
      "Epoch 12, Validation Loss: 396752.18\n",
      "Epoch 13, Validation Loss: 561413.43\n",
      "Epoch 14, Validation Loss: 362575.21\n",
      "Epoch 15, Validation Loss: 573894.39\n",
      "Epoch 16, Validation Loss: 423855.20\n",
      "Epoch 17, Validation Loss: 353895.04\n",
      "Epoch 18, Validation Loss: 383910.57\n",
      "Epoch 19, Validation Loss: 361177.79\n",
      "Epoch 20, Validation Loss: 612085.78\n",
      "Epoch 21, Validation Loss: 351211.70\n",
      "Epoch 22, Validation Loss: 369439.86\n",
      "Epoch 23, Validation Loss: 304853.19\n",
      "Epoch 24, Validation Loss: 295741.54\n",
      "Epoch 25, Validation Loss: 288538.73\n",
      "Epoch 26, Validation Loss: 306635.38\n",
      "Epoch 27, Validation Loss: 312084.63\n",
      "Epoch 28, Validation Loss: 481707.56\n",
      "Epoch 29, Validation Loss: 291844.47\n",
      "Epoch 30, Validation Loss: 287420.46\n",
      "Epoch 31, Validation Loss: 265359.17\n",
      "Epoch 32, Validation Loss: 329562.12\n",
      "Epoch 33, Validation Loss: 266591.04\n",
      "Epoch 34, Validation Loss: 289274.40\n",
      "Epoch 35, Validation Loss: 789251.75\n",
      "Epoch 36, Validation Loss: 378117.74\n",
      "Epoch 37, Validation Loss: 360891.58\n",
      "Epoch 38, Validation Loss: 352713.09\n",
      "Epoch 39, Validation Loss: 295433.71\n",
      "Epoch 40, Validation Loss: 441469.26\n",
      "Epoch 41, Validation Loss: 307278.69\n",
      "Epoch 42, Validation Loss: 255763.05\n",
      "Epoch 43, Validation Loss: 352463.08\n",
      "Epoch 44, Validation Loss: 300684.26\n",
      "Epoch 45, Validation Loss: 335603.64\n",
      "Epoch 46, Validation Loss: 258224.52\n",
      "Epoch 47, Validation Loss: 470860.32\n",
      "Epoch 48, Validation Loss: 533151.68\n",
      "Epoch 49, Validation Loss: 228682.59\n",
      "Epoch 50, Validation Loss: 229081.99\n",
      "Epoch 51, Validation Loss: 346335.41\n",
      "Epoch 52, Validation Loss: 233042.20\n",
      "Epoch 53, Validation Loss: 232209.34\n",
      "Epoch 54, Validation Loss: 217359.11\n",
      "Epoch 55, Validation Loss: 226780.13\n",
      "Epoch 56, Validation Loss: 211584.12\n",
      "Epoch 57, Validation Loss: 456107.04\n",
      "Epoch 58, Validation Loss: 271801.26\n",
      "Epoch 59, Validation Loss: 281070.10\n",
      "Epoch 60, Validation Loss: 221099.31\n",
      "Epoch 61, Validation Loss: 213086.96\n",
      "Epoch 62, Validation Loss: 298874.58\n",
      "Epoch 63, Validation Loss: 361571.06\n",
      "Epoch 64, Validation Loss: 195440.15\n",
      "Epoch 65, Validation Loss: 383271.87\n",
      "Epoch 66, Validation Loss: 264479.64\n",
      "Epoch 67, Validation Loss: 226713.12\n",
      "Epoch 68, Validation Loss: 197285.54\n",
      "Epoch 69, Validation Loss: 228446.77\n",
      "Epoch 70, Validation Loss: 354136.42\n",
      "Epoch 71, Validation Loss: 238994.62\n",
      "Epoch 72, Validation Loss: 196681.88\n",
      "Epoch 73, Validation Loss: 311635.59\n",
      "Epoch 74, Validation Loss: 257928.79\n",
      "Epoch 75, Validation Loss: 259466.43\n",
      "Epoch 76, Validation Loss: 267918.08\n",
      "Epoch 77, Validation Loss: 186009.88\n",
      "Epoch 78, Validation Loss: 208824.49\n",
      "Epoch 79, Validation Loss: 187880.99\n",
      "Epoch 80, Validation Loss: 466456.92\n",
      "Epoch 81, Validation Loss: 229617.27\n",
      "Epoch 82, Validation Loss: 418726.81\n",
      "Epoch 83, Validation Loss: 192913.30\n",
      "Epoch 84, Validation Loss: 683800.80\n",
      "Epoch 85, Validation Loss: 213123.72\n",
      "Epoch 86, Validation Loss: 267121.46\n",
      "Epoch 87, Validation Loss: 403881.09\n",
      "Epoch 88, Validation Loss: 804102.81\n",
      "Epoch 89, Validation Loss: 382892.18\n",
      "Epoch 90, Validation Loss: 232071.22\n",
      "Epoch 91, Validation Loss: 270341.97\n",
      "Epoch 92, Validation Loss: 368119.43\n",
      "Epoch 93, Validation Loss: 180410.25\n",
      "Epoch 94, Validation Loss: 185427.95\n",
      "Epoch 95, Validation Loss: 182647.30\n",
      "Epoch 96, Validation Loss: 180488.81\n",
      "Epoch 97, Validation Loss: 208320.63\n",
      "Epoch 98, Validation Loss: 197957.33\n",
      "Epoch 99, Validation Loss: 252420.86\n",
      "Epoch 100, Validation Loss: 175185.38\n",
      "Epoch 101, Validation Loss: 518741.99\n",
      "Epoch 102, Validation Loss: 197275.74\n",
      "Epoch 103, Validation Loss: 248199.47\n",
      "Epoch 104, Validation Loss: 205214.65\n",
      "Epoch 105, Validation Loss: 165210.27\n",
      "Epoch 106, Validation Loss: 327690.54\n",
      "Epoch 107, Validation Loss: 218362.00\n",
      "Epoch 108, Validation Loss: 185067.84\n",
      "Epoch 109, Validation Loss: 346186.51\n",
      "Epoch 110, Validation Loss: 386677.31\n",
      "Epoch 111, Validation Loss: 176929.23\n",
      "Epoch 112, Validation Loss: 299357.60\n",
      "Epoch 113, Validation Loss: 427240.38\n",
      "Epoch 114, Validation Loss: 193666.29\n",
      "Epoch 115, Validation Loss: 347579.62\n",
      "Epoch 116, Validation Loss: 253519.32\n",
      "Epoch 117, Validation Loss: 176235.94\n",
      "Epoch 118, Validation Loss: 375010.35\n",
      "Epoch 119, Validation Loss: 196117.13\n",
      "Epoch 120, Validation Loss: 178643.21\n",
      "Epoch 121, Validation Loss: 369306.52\n",
      "Epoch 122, Validation Loss: 168935.62\n",
      "Epoch 123, Validation Loss: 277141.53\n",
      "Epoch 124, Validation Loss: 294466.48\n",
      "Early stopping at epoch 124\n",
      "Best model loaded.\n",
      "Training complete.\n",
      "The training time is 292.83 sec.\n"
     ]
    }
   ],
   "source": [
    "from src.problem.neuromancer.trainer import trainer\n",
    "# training\n",
    "epochs = 200                    # number of training epochs\n",
    "warmup = 20                     # number of epochs to wait before enacting early stopping policy\n",
    "patience = 20                   # number of epochs with no improvement in eval metric to allow before early stopping\n",
    "optimizer = torch.optim.AdamW(components.parameters(), lr=lr)\n",
    "# create a trainer for the problem\n",
    "my_trainer = trainer(components, loss_fn, optimizer, epochs=epochs, patience=patience, warmup=warmup, device=\"cuda\")\n",
    "# training for the rounding problem\n",
    "my_trainer.train(loader_train, loader_dev)"
   ]
  },
  {
   "cell_type": "code",
   "execution_count": 11,
   "id": "9cf38af4-0fd5-44d3-8d70-961b76c5a43f",
   "metadata": {},
   "outputs": [
    {
     "name": "stderr",
     "output_type": "stream",
     "text": [
      "100%|████████████████████████████████████████████████████████████████████████████████| 100/100 [03:02<00:00,  1.82s/it]\n"
     ]
    },
    {
     "name": "stdout",
     "output_type": "stream",
     "text": [
      "             Obj Val  Constraints Viol  Elapsed Time\n",
      "count     100.000000        100.000000    100.000000\n",
      "mean    72904.017814       1116.434110      0.006589\n",
      "std     20744.559860       1941.529684      0.001487\n",
      "min     37120.702194          0.000000      0.004511\n",
      "25%     57189.760813          0.000000      0.005604\n",
      "50%     72533.574198          0.000000      0.006099\n",
      "75%     79193.075379       1966.710396      0.006837\n",
      "max    118629.147466       8897.434940      0.012715\n",
      "Number of infeasible solution: 35\n"
     ]
    }
   ],
   "source": [
    "from src.heuristic import naive_round\n",
    "params, sols, objvals, conviols, elapseds = [], [], [], [], []\n",
    "for p, a in tqdm(list(zip(p_test, a_test))):\n",
    "    # data point as tensor\n",
    "    datapoints = {\"p\": torch.tensor(np.array([p]), dtype=torch.float32).to(\"cuda\"), \n",
    "                  \"a\": torch.tensor(np.array([a]), dtype=torch.float32).to(\"cuda\"),\n",
    "                  \"name\": \"test\"}\n",
    "    # infer\n",
    "    components.eval()\n",
    "    tick = time.time()\n",
    "    with torch.no_grad():\n",
    "        for comp in components:\n",
    "            datapoints.update(comp(datapoints))\n",
    "    tock = time.time()\n",
    "    # assign params\n",
    "    model.set_param_val({\"p\":p, \"a\":a})\n",
    "    # assign vars\n",
    "    x = datapoints[\"x\"]\n",
    "    for i in range(num_blocks*2):\n",
    "        model.vars[\"x\"][i].value = x[0,i].item()\n",
    "    # get solutions\n",
    "    xval_rel, _ = model.get_val()\n",
    "    xval, objval = naive_round(xval_rel, model)\n",
    "    params.append(list(p)+list(a))\n",
    "    sols.append(list(list(xval.values())[0].values()))\n",
    "    objvals.append(objval)\n",
    "    conviols.append(sum(model.cal_violation()))\n",
    "    elapseds.append(tock - tick)\n",
    "df = pd.DataFrame({\"Param\":params, \"Sol\":sols, \"Obj Val\": objvals, \"Constraints Viol\": conviols, \"Elapsed Time\": elapseds})\n",
    "time.sleep(1)\n",
    "df.to_csv(\"result/rb_st_50-10000.csv\")\n",
    "print(df.describe())\n",
    "print(\"Number of infeasible solution: {}\".format(np.sum(df[\"Constraints Viol\"] > 0)))"
   ]
  },
  {
   "cell_type": "code",
   "execution_count": null,
   "id": "3631f4b3-55f9-478b-b4d3-27b303a2d832",
   "metadata": {},
   "outputs": [],
   "source": []
  }
 ],
 "metadata": {
  "kernelspec": {
   "display_name": "Python 3 (ipykernel)",
   "language": "python",
   "name": "python3"
  },
  "language_info": {
   "codemirror_mode": {
    "name": "ipython",
    "version": 3
   },
   "file_extension": ".py",
   "mimetype": "text/x-python",
   "name": "python",
   "nbconvert_exporter": "python",
   "pygments_lexer": "ipython3",
   "version": "3.10.13"
  }
 },
 "nbformat": 4,
 "nbformat_minor": 5
}
