{
 "cells": [
  {
   "cell_type": "code",
   "execution_count": 1,
   "id": "be61b914-e1af-43b9-9766-5092593f92dd",
   "metadata": {},
   "outputs": [],
   "source": [
    "import time\n",
    "\n",
    "import numpy as np\n",
    "import pandas as pd\n",
    "import torch\n",
    "from torch import nn\n",
    "from tqdm import tqdm\n",
    "\n",
    "# random seed\n",
    "np.random.seed(42)\n",
    "torch.manual_seed(42)\n",
    "torch.cuda.manual_seed(42)"
   ]
  },
  {
   "cell_type": "code",
   "execution_count": 2,
   "id": "35fe4527-9dbf-48f0-bfb3-62cda59092aa",
   "metadata": {},
   "outputs": [],
   "source": [
    "# turn off warning\n",
    "import logging\n",
    "logging.getLogger('pyomo.core').setLevel(logging.ERROR)"
   ]
  },
  {
   "cell_type": "markdown",
   "id": "c5560447-da9d-4cbe-aab4-538aa11c8ee8",
   "metadata": {},
   "source": [
    "## Problem Setting"
   ]
  },
  {
   "cell_type": "code",
   "execution_count": 3,
   "id": "52363c72-0d20-4c08-bd00-0f62aa73686c",
   "metadata": {},
   "outputs": [],
   "source": [
    "# init\n",
    "steepness = 50    # steepness factor\n",
    "num_blocks = 1000 # number of expression blocks\n",
    "num_data = 9100   # number of data\n",
    "test_size = 100   # number of test size\n",
    "val_size = 1000   # number of validation size\n",
    "train_size = num_data - test_size - val_size"
   ]
  },
  {
   "cell_type": "code",
   "execution_count": 4,
   "id": "21938c00-d73f-4255-bc7c-bce6e8034cf8",
   "metadata": {},
   "outputs": [],
   "source": [
    "# parameters as input data\n",
    "p_low, p_high = 1.0, 8.0\n",
    "a_low, a_high = 0.5, 4.5\n",
    "p_train = np.random.uniform(p_low, p_high, (train_size, 1)).astype(np.float32)\n",
    "p_test  = np.random.uniform(p_low, p_high, (test_size, 1)).astype(np.float32)\n",
    "p_dev   = np.random.uniform(p_low, p_high, (val_size, 1)).astype(np.float32)\n",
    "a_train = np.random.uniform(a_low, a_high, (train_size, num_blocks)).astype(np.float32)\n",
    "a_test  = np.random.uniform(a_low, a_high, (test_size, num_blocks)).astype(np.float32)\n",
    "a_dev   = np.random.uniform(a_low, a_high, (val_size, num_blocks)).astype(np.float32)"
   ]
  },
  {
   "cell_type": "code",
   "execution_count": 5,
   "id": "5ecf81ff-627d-444d-8d90-121c7e20c217",
   "metadata": {},
   "outputs": [],
   "source": [
    "# nm datasets\n",
    "from neuromancer.dataset import DictDataset\n",
    "data_train = DictDataset({\"p\":p_train, \"a\":a_train}, name=\"train\")\n",
    "data_test = DictDataset({\"p\":p_test, \"a\":a_test}, name=\"test\")\n",
    "data_dev = DictDataset({\"p\":p_dev, \"a\":a_dev}, name=\"dev\")\n",
    "# torch dataloaders\n",
    "from torch.utils.data import DataLoader\n",
    "batch_size = 64\n",
    "loader_train = DataLoader(data_train, batch_size, num_workers=0, collate_fn=data_train.collate_fn, shuffle=True)\n",
    "loader_test = DataLoader(data_test, batch_size, num_workers=0, collate_fn=data_test.collate_fn, shuffle=False)\n",
    "loader_dev = DataLoader(data_dev, batch_size, num_workers=0, collate_fn=data_dev.collate_fn, shuffle=True)"
   ]
  },
  {
   "cell_type": "markdown",
   "id": "a2b99751-3a6e-46dc-9e33-fdf68d813034",
   "metadata": {},
   "source": [
    "## Exact Solver"
   ]
  },
  {
   "cell_type": "code",
   "execution_count": 6,
   "id": "f2e7f07c-6a97-44d6-aca7-56f395e0c964",
   "metadata": {},
   "outputs": [],
   "source": [
    "from src.problem import msRosenbrock\n",
    "model = msRosenbrock(steepness, num_blocks, timelimit=60)"
   ]
  },
  {
   "cell_type": "markdown",
   "id": "9819c60c-df5f-41c6-ae83-888c75aa78d7",
   "metadata": {},
   "source": [
    "## Learnable Rounding"
   ]
  },
  {
   "cell_type": "code",
   "execution_count": 7,
   "id": "6c2bdd74-a0d1-4afa-b610-4f29559a5860",
   "metadata": {},
   "outputs": [],
   "source": [
    "# random seed\n",
    "np.random.seed(42)\n",
    "torch.manual_seed(42)\n",
    "torch.cuda.manual_seed(42)"
   ]
  },
  {
   "cell_type": "code",
   "execution_count": 8,
   "id": "536d2d58-67ba-408a-b72a-7c5bd54a5ff4",
   "metadata": {},
   "outputs": [],
   "source": [
    "# hyperparameters\n",
    "penalty_weight = 100   # weight of constraint violation penealty\n",
    "hlayers_sol = 5       # number of hidden layers for solution mapping\n",
    "hlayers_rnd = 4       # number of hidden layers for solution mapping\n",
    "hsize = 256           # width of hidden layers for solution mapping\n",
    "lr = 1e-3             # learning rate"
   ]
  },
  {
   "cell_type": "code",
   "execution_count": 9,
   "id": "fee1241e-e53a-4cbb-927a-edcdb3537303",
   "metadata": {},
   "outputs": [],
   "source": [
    "# set problem\n",
    "import neuromancer as nm\n",
    "from src.problem import nmRosenbrock\n",
    "from src.func.layer import netFC\n",
    "from src.func import roundGumbelModel\n",
    "# build neural architecture for the solution map\n",
    "func = nm.modules.blocks.MLP(insize=num_blocks+1, outsize=2*num_blocks, bias=True,\n",
    "                             linear_map=nm.slim.maps[\"linear\"],\n",
    "                             nonlin=nn.ReLU, hsizes=[hsize]*hlayers_sol)\n",
    "smap = nm.system.Node(func, [\"p\", \"a\"], [\"x\"], name=\"smap\")\n",
    "# define rounding model\n",
    "layers_rnd = netFC(input_dim=3*num_blocks+1, hidden_dims=[hsize]*hlayers_rnd, output_dim=2*num_blocks)\n",
    "rnd = roundGumbelModel(layers=layers_rnd, param_keys=[\"p\", \"a\"], var_keys=[\"x\"],  output_keys=[\"x_rnd\"], \n",
    "                       int_ind=model.int_ind, continuous_update=True, name=\"round\")\n",
    "# build neuromancer problem for rounding\n",
    "components = nn.ModuleList([smap, rnd]).to(\"cuda\")\n",
    "loss_fn = nmRosenbrock([\"p\", \"a\", \"x_rnd\"], steepness, num_blocks, penalty_weight)"
   ]
  },
  {
   "cell_type": "code",
   "execution_count": 10,
   "id": "e4f10263-5f69-4288-a4e8-8be83929c8d6",
   "metadata": {},
   "outputs": [
    {
     "name": "stdout",
     "output_type": "stream",
     "text": [
      "Epoch 0, Validation Loss: 250300.11\n",
      "Epoch 1, Validation Loss: 105608.96\n",
      "Epoch 2, Validation Loss: 47803.63\n",
      "Epoch 3, Validation Loss: 96714.10\n",
      "Epoch 4, Validation Loss: 29958.46\n",
      "Epoch 5, Validation Loss: 18415.31\n",
      "Epoch 6, Validation Loss: 32887.87\n",
      "Epoch 7, Validation Loss: 15332.06\n",
      "Epoch 8, Validation Loss: 17650.53\n",
      "Epoch 9, Validation Loss: 65983.40\n",
      "Epoch 10, Validation Loss: 12805.18\n",
      "Epoch 11, Validation Loss: 89033.76\n",
      "Epoch 12, Validation Loss: 13231.24\n",
      "Epoch 13, Validation Loss: 29147.78\n",
      "Epoch 14, Validation Loss: 64409.50\n",
      "Epoch 15, Validation Loss: 31453.57\n",
      "Epoch 16, Validation Loss: 9241.98\n",
      "Epoch 17, Validation Loss: 21350.22\n",
      "Epoch 18, Validation Loss: 18845.12\n",
      "Epoch 19, Validation Loss: 10293.02\n",
      "Epoch 20, Validation Loss: 47123.09\n",
      "Epoch 21, Validation Loss: 26911.31\n",
      "Epoch 22, Validation Loss: 8702.21\n",
      "Epoch 23, Validation Loss: 20163.75\n",
      "Epoch 24, Validation Loss: 82046.79\n",
      "Epoch 25, Validation Loss: 8134.00\n",
      "Epoch 26, Validation Loss: 8740.09\n",
      "Epoch 27, Validation Loss: 8572.42\n",
      "Epoch 28, Validation Loss: 27919.69\n",
      "Epoch 29, Validation Loss: 23212.64\n",
      "Epoch 30, Validation Loss: 10845.07\n",
      "Epoch 31, Validation Loss: 9211.38\n",
      "Epoch 32, Validation Loss: 26647.73\n",
      "Epoch 33, Validation Loss: 57486.27\n",
      "Epoch 34, Validation Loss: 15508.18\n",
      "Epoch 35, Validation Loss: 15934.48\n",
      "Epoch 36, Validation Loss: 13644.96\n",
      "Epoch 37, Validation Loss: 21942.44\n",
      "Epoch 38, Validation Loss: 41923.23\n",
      "Epoch 39, Validation Loss: 10180.73\n",
      "Epoch 40, Validation Loss: 12447.17\n",
      "Epoch 41, Validation Loss: 11491.68\n",
      "Epoch 42, Validation Loss: 11585.49\n",
      "Epoch 43, Validation Loss: 35139.07\n",
      "Epoch 44, Validation Loss: 23184.93\n",
      "Epoch 45, Validation Loss: 28811.18\n",
      "Epoch 46, Validation Loss: 13948.80\n",
      "Epoch 47, Validation Loss: 97203.42\n",
      "Epoch 48, Validation Loss: 7980.27\n",
      "Epoch 49, Validation Loss: 67535.11\n",
      "Epoch 50, Validation Loss: 9391.73\n",
      "Epoch 51, Validation Loss: 7543.71\n",
      "Epoch 52, Validation Loss: 12965.36\n",
      "Epoch 53, Validation Loss: 27113.02\n",
      "Epoch 54, Validation Loss: 12643.89\n",
      "Epoch 55, Validation Loss: 126273.74\n",
      "Epoch 56, Validation Loss: 95927.74\n",
      "Epoch 57, Validation Loss: 149754.54\n",
      "Epoch 58, Validation Loss: 28505.34\n",
      "Epoch 59, Validation Loss: 44777.37\n",
      "Epoch 60, Validation Loss: 38500.22\n",
      "Epoch 61, Validation Loss: 129665.09\n",
      "Epoch 62, Validation Loss: 147662.37\n",
      "Epoch 63, Validation Loss: 41298.56\n",
      "Epoch 64, Validation Loss: 54406.47\n",
      "Epoch 65, Validation Loss: 327026.44\n",
      "Epoch 66, Validation Loss: 68284.87\n",
      "Epoch 67, Validation Loss: 12567.04\n",
      "Epoch 68, Validation Loss: 247241.99\n",
      "Epoch 69, Validation Loss: 117931.20\n",
      "Epoch 70, Validation Loss: 774226.55\n",
      "Early stopping at epoch 70\n",
      "Best model loaded.\n",
      "Training complete.\n",
      "The training time is 151.36 sec.\n"
     ]
    }
   ],
   "source": [
    "from src.problem.neuromancer.trainer import trainer\n",
    "# training\n",
    "epochs = 200                    # number of training epochs\n",
    "growth_rate = 1.05              # growth rate of penalty weight\n",
    "warmup = 50                     # number of epochs to wait before enacting early stopping policy\n",
    "patience = 20                   # number of epochs with no improvement in eval metric to allow before early stopping\n",
    "optimizer = torch.optim.AdamW(components.parameters(), lr=lr)\n",
    "# create a trainer for the problem\n",
    "my_trainer = trainer(components, loss_fn, optimizer, epochs, growth_rate, patience, warmup, device=\"cuda\")\n",
    "# training for the rounding problem\n",
    "my_trainer.train(loader_train, loader_dev)"
   ]
  },
  {
   "cell_type": "code",
   "execution_count": 11,
   "id": "3e835084-eb75-45d9-bcbd-5fb4c613fb41",
   "metadata": {},
   "outputs": [
    {
     "name": "stderr",
     "output_type": "stream",
     "text": [
      "100%|████████████████████████████████████████████████████████████████████████████████| 100/100 [00:12<00:00,  7.89it/s]\n"
     ]
    },
    {
     "name": "stdout",
     "output_type": "stream",
     "text": [
      "           Obj Val  Constraints Viol  Elapsed Time\n",
      "count   100.000000             100.0    100.000000\n",
      "mean   7276.955921               0.0      0.004163\n",
      "std     734.736728               0.0      0.000838\n",
      "min    5815.733168               0.0      0.002570\n",
      "25%    6748.714360               0.0      0.003511\n",
      "50%    7460.260706               0.0      0.004095\n",
      "75%    7703.307959               0.0      0.004741\n",
      "max    9909.261714               0.0      0.006168\n",
      "Number of infeasible solution: 0\n"
     ]
    }
   ],
   "source": [
    "params, sols, objvals, conviols, elapseds = [], [], [], [], []\n",
    "for p, a in tqdm(list(zip(p_test, a_test))):\n",
    "    # data point as tensor\n",
    "    datapoints = {\"p\": torch.tensor(np.array([p]), dtype=torch.float32).to(\"cuda\"), \n",
    "                  \"a\": torch.tensor(np.array([a]), dtype=torch.float32).to(\"cuda\"),\n",
    "                  \"name\": \"test\"}\n",
    "    # infer\n",
    "    components.eval()\n",
    "    tick = time.time()\n",
    "    with torch.no_grad():\n",
    "        for comp in components:\n",
    "            datapoints.update(comp(datapoints))\n",
    "    tock = time.time()\n",
    "    # assign params\n",
    "    model.set_param_val({\"p\":p, \"a\":a})\n",
    "    # assign vars\n",
    "    x = datapoints[\"x_rnd\"]\n",
    "    for i in range(2*num_blocks):\n",
    "        model.vars[\"x\"][i].value = x[0,i].item()\n",
    "    # get solutions\n",
    "    xval, objval = model.get_val()    \n",
    "    params.append(list(p)+list(a))\n",
    "    sols.append(list(list(xval.values())[0].values()))\n",
    "    objvals.append(objval)\n",
    "    conviols.append(sum(model.cal_violation()))\n",
    "    elapseds.append(tock - tick)\n",
    "df = pd.DataFrame({\"Param\":params, \"Sol\":sols, \"Obj Val\": objvals, \"Constraints Viol\": conviols, \"Elapsed Time\": elapseds})\n",
    "time.sleep(1)\n",
    "df.to_csv(\"result/rb_lr_50-1000_g.csv\")\n",
    "time.sleep(1)\n",
    "print(df.describe())\n",
    "print(\"Number of infeasible solution: {}\".format(np.sum(df[\"Constraints Viol\"] > 0)))"
   ]
  },
  {
   "cell_type": "markdown",
   "id": "2dbf8a72-29b9-49c4-b3c1-0d68895c1c1f",
   "metadata": {},
   "source": [
    "## Learnable Threshold"
   ]
  },
  {
   "cell_type": "code",
   "execution_count": 12,
   "id": "7912a689-22cd-4d7b-a50f-d136dbdf5940",
   "metadata": {},
   "outputs": [],
   "source": [
    "# random seed\n",
    "np.random.seed(42)\n",
    "torch.manual_seed(42)\n",
    "torch.cuda.manual_seed(42)"
   ]
  },
  {
   "cell_type": "code",
   "execution_count": 13,
   "id": "d46b9817-87ac-4af0-b387-b10c9a4998f4",
   "metadata": {},
   "outputs": [],
   "source": [
    "# hyperparameters\n",
    "penalty_weight = 100  # weight of constraint violation penealty\n",
    "hlayers_sol = 5       # number of hidden layers for solution mapping\n",
    "hlayers_rnd = 4       # number of hidden layers for solution mapping\n",
    "hsize = 256           # width of hidden layers for solution mapping\n",
    "lr = 1e-3             # learning rate"
   ]
  },
  {
   "cell_type": "code",
   "execution_count": 14,
   "id": "fa8b147f-39c8-4eb7-bb95-93dd8e4cb1cf",
   "metadata": {},
   "outputs": [],
   "source": [
    "# set problem\n",
    "import neuromancer as nm\n",
    "from src.problem import nmRosenbrock\n",
    "from src.func.layer import netFC\n",
    "from src.func import roundThresholdModel\n",
    "# build neural architecture for the solution map\n",
    "func = nm.modules.blocks.MLP(insize=num_blocks+1, outsize=2*num_blocks, bias=True,\n",
    "                             linear_map=nm.slim.maps[\"linear\"],\n",
    "                             nonlin=nn.ReLU, hsizes=[hsize]*hlayers_sol)\n",
    "smap = nm.system.Node(func, [\"p\", \"a\"], [\"x\"], name=\"smap\")\n",
    "# define rounding model\n",
    "layers_rnd = netFC(input_dim=3*num_blocks+1, hidden_dims=[hsize]*hlayers_rnd, output_dim=2*num_blocks)\n",
    "rnd = roundThresholdModel(layers=layers_rnd, param_keys=[\"p\", \"a\"], var_keys=[\"x\"],  output_keys=[\"x_rnd\"], \n",
    "                          int_ind=model.int_ind, continuous_update=True, name=\"round\")\n",
    "# build neuromancer problem for rounding\n",
    "components = nn.ModuleList([smap, rnd]).to(\"cuda\")\n",
    "loss_fn = nmRosenbrock([\"p\", \"a\", \"x_rnd\"], steepness, num_blocks, penalty_weight)"
   ]
  },
  {
   "cell_type": "code",
   "execution_count": 15,
   "id": "c6f5bb17-8c3c-4dcd-952d-caa1d7c4c4fa",
   "metadata": {},
   "outputs": [
    {
     "name": "stdout",
     "output_type": "stream",
     "text": [
      "Epoch 0, Validation Loss: 226581.63\n",
      "Epoch 1, Validation Loss: 75214.19\n",
      "Epoch 2, Validation Loss: 63800.46\n",
      "Epoch 3, Validation Loss: 14408.81\n",
      "Epoch 4, Validation Loss: 16327.14\n",
      "Epoch 5, Validation Loss: 24660.89\n",
      "Epoch 6, Validation Loss: 16997.48\n",
      "Epoch 7, Validation Loss: 40456.14\n",
      "Epoch 8, Validation Loss: 87106.26\n",
      "Epoch 9, Validation Loss: 21422.06\n",
      "Epoch 10, Validation Loss: 47217.79\n",
      "Epoch 11, Validation Loss: 10129.52\n",
      "Epoch 12, Validation Loss: 10835.40\n",
      "Epoch 13, Validation Loss: 18685.11\n",
      "Epoch 14, Validation Loss: 15587.62\n",
      "Epoch 15, Validation Loss: 28501.72\n",
      "Epoch 16, Validation Loss: 15411.71\n",
      "Epoch 17, Validation Loss: 8575.90\n",
      "Epoch 18, Validation Loss: 7984.38\n",
      "Epoch 19, Validation Loss: 17027.51\n",
      "Epoch 20, Validation Loss: 13328.68\n",
      "Epoch 21, Validation Loss: 8642.40\n",
      "Epoch 22, Validation Loss: 8213.72\n",
      "Epoch 23, Validation Loss: 8648.14\n",
      "Epoch 24, Validation Loss: 32994.19\n",
      "Epoch 25, Validation Loss: 10724.45\n",
      "Epoch 26, Validation Loss: 35373.94\n",
      "Epoch 27, Validation Loss: 10172.16\n",
      "Epoch 28, Validation Loss: 133491.72\n",
      "Epoch 29, Validation Loss: 10040.35\n",
      "Epoch 30, Validation Loss: 133601.78\n",
      "Epoch 31, Validation Loss: 8054.33\n",
      "Epoch 32, Validation Loss: 135995.01\n",
      "Epoch 33, Validation Loss: 197500.79\n",
      "Epoch 34, Validation Loss: 11992.46\n",
      "Epoch 35, Validation Loss: 7337.64\n",
      "Epoch 36, Validation Loss: 14187.32\n",
      "Epoch 37, Validation Loss: 6889.37\n",
      "Epoch 38, Validation Loss: 6960.06\n",
      "Epoch 39, Validation Loss: 7034.75\n",
      "Epoch 40, Validation Loss: 57590.63\n",
      "Epoch 41, Validation Loss: 6601.41\n",
      "Epoch 42, Validation Loss: 7061.71\n",
      "Epoch 43, Validation Loss: 12817.77\n",
      "Epoch 44, Validation Loss: 26866.72\n",
      "Epoch 45, Validation Loss: 6272.15\n",
      "Epoch 46, Validation Loss: 10015.23\n",
      "Epoch 47, Validation Loss: 6519.25\n",
      "Epoch 48, Validation Loss: 6578.71\n",
      "Epoch 49, Validation Loss: 12068.22\n",
      "Epoch 50, Validation Loss: 10390.92\n",
      "Epoch 51, Validation Loss: 30839.40\n",
      "Epoch 52, Validation Loss: 22879.79\n",
      "Epoch 53, Validation Loss: 10167.22\n",
      "Epoch 54, Validation Loss: 261264.34\n",
      "Epoch 55, Validation Loss: 10019.93\n",
      "Epoch 56, Validation Loss: 8184.24\n",
      "Epoch 57, Validation Loss: 7168.29\n",
      "Epoch 58, Validation Loss: 14406.64\n",
      "Epoch 59, Validation Loss: 6755.72\n",
      "Epoch 60, Validation Loss: 15010.19\n",
      "Epoch 61, Validation Loss: 7541.11\n",
      "Epoch 62, Validation Loss: 48210.14\n",
      "Epoch 63, Validation Loss: 6211.74\n",
      "Epoch 64, Validation Loss: 34459.45\n",
      "Epoch 65, Validation Loss: 162285.84\n",
      "Epoch 66, Validation Loss: 6793.70\n",
      "Epoch 67, Validation Loss: 328792.86\n",
      "Epoch 68, Validation Loss: 620181.49\n",
      "Epoch 69, Validation Loss: 150421.17\n",
      "Epoch 70, Validation Loss: 40810.53\n",
      "Epoch 71, Validation Loss: 6779.32\n",
      "Epoch 72, Validation Loss: 698810.84\n",
      "Epoch 73, Validation Loss: 56373.29\n",
      "Epoch 74, Validation Loss: 36873.85\n",
      "Epoch 75, Validation Loss: 159219.86\n",
      "Epoch 76, Validation Loss: 250310.02\n",
      "Epoch 77, Validation Loss: 7092.79\n",
      "Epoch 78, Validation Loss: 147667.50\n",
      "Epoch 79, Validation Loss: 485580.30\n",
      "Epoch 80, Validation Loss: 362156.75\n",
      "Epoch 81, Validation Loss: 340809.91\n",
      "Epoch 82, Validation Loss: 604153.50\n",
      "Early stopping at epoch 82\n",
      "Best model loaded.\n",
      "Training complete.\n",
      "The training time is 176.24 sec.\n"
     ]
    }
   ],
   "source": [
    "from src.problem.neuromancer.trainer import trainer\n",
    "# training\n",
    "epochs = 200                    # number of training epochs\n",
    "growth_rate = 1.05              # growth rate of penalty weight\n",
    "warmup = 50                     # number of epochs to wait before enacting early stopping policy\n",
    "patience = 20                   # number of epochs with no improvement in eval metric to allow before early stopping\n",
    "optimizer = torch.optim.AdamW(components.parameters(), lr=lr)\n",
    "# create a trainer for the problem\n",
    "my_trainer = trainer(components, loss_fn, optimizer, epochs, growth_rate, patience, warmup, device=\"cuda\")\n",
    "# training for the rounding problem\n",
    "my_trainer.train(loader_train, loader_dev)"
   ]
  },
  {
   "cell_type": "code",
   "execution_count": 16,
   "id": "6584d57e-6b4c-4262-82f5-55735ef17cac",
   "metadata": {},
   "outputs": [
    {
     "name": "stderr",
     "output_type": "stream",
     "text": [
      "100%|████████████████████████████████████████████████████████████████████████████████| 100/100 [00:12<00:00,  7.74it/s]\n"
     ]
    },
    {
     "name": "stdout",
     "output_type": "stream",
     "text": [
      "           Obj Val  Constraints Viol  Elapsed Time\n",
      "count   100.000000             100.0    100.000000\n",
      "mean   5780.845894               0.0      0.004389\n",
      "std     816.747961               0.0      0.001057\n",
      "min    4458.487083               0.0      0.002517\n",
      "25%    5143.012673               0.0      0.003646\n",
      "50%    5590.293859               0.0      0.004328\n",
      "75%    6422.063858               0.0      0.004996\n",
      "max    8017.801037               0.0      0.008850\n",
      "Number of infeasible solution: 0\n"
     ]
    }
   ],
   "source": [
    "params, sols, objvals, conviols, elapseds = [], [], [], [], []\n",
    "for p, a in tqdm(list(zip(p_test, a_test))):\n",
    "    # data point as tensor\n",
    "    datapoints = {\"p\": torch.tensor(np.array([p]), dtype=torch.float32).to(\"cuda\"), \n",
    "                  \"a\": torch.tensor(np.array([a]), dtype=torch.float32).to(\"cuda\"),\n",
    "                  \"name\": \"test\"}\n",
    "    # infer\n",
    "    components.eval()\n",
    "    tick = time.time()\n",
    "    with torch.no_grad():\n",
    "        for comp in components:\n",
    "            datapoints.update(comp(datapoints))\n",
    "    tock = time.time()\n",
    "    # assign params\n",
    "    model.set_param_val({\"p\":p, \"a\":a})\n",
    "    # assign vars\n",
    "    x = datapoints[\"x_rnd\"]\n",
    "    for i in range(2*num_blocks):\n",
    "        model.vars[\"x\"][i].value = x[0,i].item()\n",
    "    # get solutions\n",
    "    xval, objval = model.get_val()    \n",
    "    params.append(list(p)+list(a))\n",
    "    sols.append(list(list(xval.values())[0].values()))\n",
    "    objvals.append(objval)\n",
    "    conviols.append(sum(model.cal_violation()))\n",
    "    elapseds.append(tock - tick)\n",
    "df = pd.DataFrame({\"Param\":params, \"Sol\":sols, \"Obj Val\": objvals, \"Constraints Viol\": conviols, \"Elapsed Time\": elapseds})\n",
    "time.sleep(1)\n",
    "df.to_csv(\"result/rb_lr_50-1000_g.csv\")\n",
    "time.sleep(1)\n",
    "print(df.describe())\n",
    "print(\"Number of infeasible solution: {}\".format(np.sum(df[\"Constraints Viol\"] > 0)))"
   ]
  },
  {
   "cell_type": "code",
   "execution_count": null,
   "id": "7f038b4a-7343-4662-88db-78ef4c99a80d",
   "metadata": {},
   "outputs": [],
   "source": []
  }
 ],
 "metadata": {
  "kernelspec": {
   "display_name": "Python 3 (ipykernel)",
   "language": "python",
   "name": "python3"
  },
  "language_info": {
   "codemirror_mode": {
    "name": "ipython",
    "version": 3
   },
   "file_extension": ".py",
   "mimetype": "text/x-python",
   "name": "python",
   "nbconvert_exporter": "python",
   "pygments_lexer": "ipython3",
   "version": "3.10.13"
  }
 },
 "nbformat": 4,
 "nbformat_minor": 5
}
