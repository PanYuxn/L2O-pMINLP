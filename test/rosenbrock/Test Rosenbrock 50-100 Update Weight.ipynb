{
 "cells": [
  {
   "cell_type": "code",
   "execution_count": 1,
   "id": "be61b914-e1af-43b9-9766-5092593f92dd",
   "metadata": {},
   "outputs": [],
   "source": [
    "import time\n",
    "\n",
    "import numpy as np\n",
    "import pandas as pd\n",
    "import torch\n",
    "from torch import nn\n",
    "from tqdm import tqdm\n",
    "\n",
    "# random seed\n",
    "np.random.seed(42)\n",
    "torch.manual_seed(42)\n",
    "torch.cuda.manual_seed(42)"
   ]
  },
  {
   "cell_type": "code",
   "execution_count": 2,
   "id": "35fe4527-9dbf-48f0-bfb3-62cda59092aa",
   "metadata": {},
   "outputs": [],
   "source": [
    "# turn off warning\n",
    "import logging\n",
    "logging.getLogger('pyomo.core').setLevel(logging.ERROR)"
   ]
  },
  {
   "cell_type": "markdown",
   "id": "c5560447-da9d-4cbe-aab4-538aa11c8ee8",
   "metadata": {},
   "source": [
    "## Problem Setting"
   ]
  },
  {
   "cell_type": "code",
   "execution_count": 3,
   "id": "52363c72-0d20-4c08-bd00-0f62aa73686c",
   "metadata": {},
   "outputs": [],
   "source": [
    "# init\n",
    "steepness = 50    # steepness factor\n",
    "num_blocks = 100  # number of expression blocks\n",
    "num_data = 9100   # number of data\n",
    "test_size = 100   # number of test size\n",
    "val_size = 1000   # number of validation size\n",
    "train_size = num_data - test_size - val_size"
   ]
  },
  {
   "cell_type": "code",
   "execution_count": 4,
   "id": "21938c00-d73f-4255-bc7c-bce6e8034cf8",
   "metadata": {},
   "outputs": [],
   "source": [
    "# parameters as input data\n",
    "p_low, p_high = 1.0, 8.0\n",
    "a_low, a_high = 0.5, 4.5\n",
    "p_train = np.random.uniform(p_low, p_high, (train_size, 1)).astype(np.float32)\n",
    "p_test  = np.random.uniform(p_low, p_high, (test_size, 1)).astype(np.float32)\n",
    "p_dev   = np.random.uniform(p_low, p_high, (val_size, 1)).astype(np.float32)\n",
    "a_train = np.random.uniform(a_low, a_high, (train_size, num_blocks)).astype(np.float32)\n",
    "a_test  = np.random.uniform(a_low, a_high, (test_size, num_blocks)).astype(np.float32)\n",
    "a_dev   = np.random.uniform(a_low, a_high, (val_size, num_blocks)).astype(np.float32)"
   ]
  },
  {
   "cell_type": "code",
   "execution_count": 5,
   "id": "5ecf81ff-627d-444d-8d90-121c7e20c217",
   "metadata": {},
   "outputs": [],
   "source": [
    "# nm datasets\n",
    "from neuromancer.dataset import DictDataset\n",
    "data_train = DictDataset({\"p\":p_train, \"a\":a_train}, name=\"train\")\n",
    "data_test = DictDataset({\"p\":p_test, \"a\":a_test}, name=\"test\")\n",
    "data_dev = DictDataset({\"p\":p_dev, \"a\":a_dev}, name=\"dev\")\n",
    "# torch dataloaders\n",
    "from torch.utils.data import DataLoader\n",
    "batch_size = 64\n",
    "loader_train = DataLoader(data_train, batch_size, num_workers=0, collate_fn=data_train.collate_fn, shuffle=True)\n",
    "loader_test = DataLoader(data_test, batch_size, num_workers=0, collate_fn=data_test.collate_fn, shuffle=False)\n",
    "loader_dev = DataLoader(data_dev, batch_size, num_workers=0, collate_fn=data_dev.collate_fn, shuffle=True)"
   ]
  },
  {
   "cell_type": "markdown",
   "id": "a2b99751-3a6e-46dc-9e33-fdf68d813034",
   "metadata": {},
   "source": [
    "## Exact Solver"
   ]
  },
  {
   "cell_type": "code",
   "execution_count": 6,
   "id": "f2e7f07c-6a97-44d6-aca7-56f395e0c964",
   "metadata": {},
   "outputs": [],
   "source": [
    "from src.problem import msRosenbrock\n",
    "model = msRosenbrock(steepness, num_blocks, timelimit=60)"
   ]
  },
  {
   "cell_type": "markdown",
   "id": "9819c60c-df5f-41c6-ae83-888c75aa78d7",
   "metadata": {},
   "source": [
    "## Learnable Rounding"
   ]
  },
  {
   "cell_type": "code",
   "execution_count": 7,
   "id": "6c2bdd74-a0d1-4afa-b610-4f29559a5860",
   "metadata": {},
   "outputs": [],
   "source": [
    "# random seed\n",
    "np.random.seed(42)\n",
    "torch.manual_seed(42)\n",
    "torch.cuda.manual_seed(42)"
   ]
  },
  {
   "cell_type": "code",
   "execution_count": 8,
   "id": "536d2d58-67ba-408a-b72a-7c5bd54a5ff4",
   "metadata": {},
   "outputs": [],
   "source": [
    "# hyperparameters\n",
    "penalty_weight = 100   # weight of constraint violation penealty\n",
    "hlayers_sol = 5       # number of hidden layers for solution mapping\n",
    "hlayers_rnd = 4       # number of hidden layers for solution mapping\n",
    "hsize = 64            # width of hidden layers for solution mapping\n",
    "lr = 1e-3             # learning rate"
   ]
  },
  {
   "cell_type": "code",
   "execution_count": 9,
   "id": "fee1241e-e53a-4cbb-927a-edcdb3537303",
   "metadata": {},
   "outputs": [],
   "source": [
    "# set problem\n",
    "import neuromancer as nm\n",
    "from src.problem import nmRosenbrock\n",
    "from src.func.layer import netFC\n",
    "from src.func import roundGumbelModel\n",
    "# build neural architecture for the solution map\n",
    "func = nm.modules.blocks.MLP(insize=num_blocks+1, outsize=2*num_blocks, bias=True,\n",
    "                             linear_map=nm.slim.maps[\"linear\"],\n",
    "                             nonlin=nn.ReLU, hsizes=[hsize]*hlayers_sol)\n",
    "smap = nm.system.Node(func, [\"p\", \"a\"], [\"x\"], name=\"smap\")\n",
    "# define rounding model\n",
    "layers_rnd = netFC(input_dim=3*num_blocks+1, hidden_dims=[hsize]*hlayers_rnd, output_dim=2*num_blocks)\n",
    "rnd = roundGumbelModel(layers=layers_rnd, param_keys=[\"p\", \"a\"], var_keys=[\"x\"],  output_keys=[\"x_rnd\"], \n",
    "                       int_ind=model.int_ind, continuous_update=True, name=\"round\")\n",
    "# build neuromancer problem for rounding\n",
    "components = nn.ModuleList([smap, rnd]).to(\"cuda\")\n",
    "loss_fn = nmRosenbrock([\"p\", \"a\", \"x_rnd\"], steepness, num_blocks, penalty_weight)"
   ]
  },
  {
   "cell_type": "code",
   "execution_count": 10,
   "id": "e4f10263-5f69-4288-a4e8-8be83929c8d6",
   "metadata": {},
   "outputs": [
    {
     "name": "stdout",
     "output_type": "stream",
     "text": [
      "Epoch 0, Validation Loss: 26030.72\n",
      "Epoch 1, Validation Loss: 2930.95\n",
      "Epoch 2, Validation Loss: 1333.36\n",
      "Epoch 3, Validation Loss: 1246.20\n",
      "Epoch 4, Validation Loss: 1659.47\n",
      "Epoch 5, Validation Loss: 1172.19\n",
      "Epoch 6, Validation Loss: 1022.68\n",
      "Epoch 7, Validation Loss: 946.34\n",
      "Epoch 8, Validation Loss: 966.85\n",
      "Epoch 9, Validation Loss: 864.04\n",
      "Epoch 10, Validation Loss: 906.02\n",
      "Epoch 11, Validation Loss: 746.60\n",
      "Epoch 12, Validation Loss: 658.56\n",
      "Epoch 13, Validation Loss: 598.23\n",
      "Epoch 14, Validation Loss: 735.98\n",
      "Epoch 15, Validation Loss: 583.67\n",
      "Epoch 16, Validation Loss: 847.25\n",
      "Epoch 17, Validation Loss: 659.72\n",
      "Epoch 18, Validation Loss: 635.99\n",
      "Epoch 19, Validation Loss: 668.71\n",
      "Epoch 20, Validation Loss: 1182.84\n",
      "Epoch 21, Validation Loss: 624.68\n",
      "Epoch 22, Validation Loss: 608.55\n",
      "Epoch 23, Validation Loss: 587.39\n",
      "Epoch 24, Validation Loss: 575.50\n",
      "Epoch 25, Validation Loss: 562.22\n",
      "Epoch 26, Validation Loss: 517.39\n",
      "Epoch 27, Validation Loss: 591.82\n",
      "Epoch 28, Validation Loss: 493.23\n",
      "Epoch 29, Validation Loss: 759.57\n",
      "Epoch 30, Validation Loss: 510.83\n",
      "Epoch 31, Validation Loss: 486.38\n",
      "Epoch 32, Validation Loss: 558.32\n",
      "Epoch 33, Validation Loss: 1146.53\n",
      "Epoch 34, Validation Loss: 1853.03\n",
      "Epoch 35, Validation Loss: 851.50\n",
      "Epoch 36, Validation Loss: 1949.90\n",
      "Epoch 37, Validation Loss: 2430.61\n",
      "Epoch 38, Validation Loss: 550.91\n",
      "Epoch 39, Validation Loss: 1010.38\n",
      "Epoch 40, Validation Loss: 504.29\n",
      "Epoch 41, Validation Loss: 856.70\n",
      "Epoch 42, Validation Loss: 2695.25\n",
      "Epoch 43, Validation Loss: 778.09\n",
      "Epoch 44, Validation Loss: 1067.71\n",
      "Epoch 45, Validation Loss: 578.73\n",
      "Epoch 46, Validation Loss: 531.64\n",
      "Epoch 47, Validation Loss: 488.12\n",
      "Epoch 48, Validation Loss: 677.64\n",
      "Epoch 49, Validation Loss: 564.05\n",
      "Epoch 50, Validation Loss: 643.66\n",
      "Epoch 51, Validation Loss: 637.54\n",
      "Epoch 52, Validation Loss: 660.42\n",
      "Epoch 53, Validation Loss: 531.73\n",
      "Epoch 54, Validation Loss: 531.06\n",
      "Epoch 55, Validation Loss: 698.10\n",
      "Epoch 56, Validation Loss: 624.41\n",
      "Epoch 57, Validation Loss: 2870.78\n",
      "Epoch 58, Validation Loss: 1091.20\n",
      "Epoch 59, Validation Loss: 558.38\n",
      "Epoch 60, Validation Loss: 1102.10\n",
      "Epoch 61, Validation Loss: 552.29\n",
      "Epoch 62, Validation Loss: 626.60\n",
      "Epoch 63, Validation Loss: 826.42\n",
      "Epoch 64, Validation Loss: 2283.43\n",
      "Epoch 65, Validation Loss: 645.86\n",
      "Epoch 66, Validation Loss: 1161.85\n",
      "Epoch 67, Validation Loss: 1869.03\n",
      "Epoch 68, Validation Loss: 1157.27\n",
      "Epoch 69, Validation Loss: 1503.76\n",
      "Epoch 70, Validation Loss: 602.14\n",
      "Epoch 71, Validation Loss: 841.86\n",
      "Epoch 72, Validation Loss: 555.40\n",
      "Epoch 73, Validation Loss: 1336.77\n",
      "Early stopping at epoch 73\n",
      "Best model loaded.\n",
      "Training complete.\n",
      "The training time is 137.33 sec.\n"
     ]
    }
   ],
   "source": [
    "from src.problem.neuromancer.trainer import trainer\n",
    "# training\n",
    "epochs = 200                    # number of training epochs\n",
    "growth_rate = 1.05              # growth rate of penalty weight\n",
    "warmup = 50                     # number of epochs to wait before enacting early stopping policy\n",
    "patience = 20                   # number of epochs with no improvement in eval metric to allow before early stopping\n",
    "optimizer = torch.optim.AdamW(components.parameters(), lr=lr)\n",
    "# create a trainer for the problem\n",
    "my_trainer = trainer(components, loss_fn, optimizer, epochs, growth_rate, patience, warmup, device=\"cuda\")\n",
    "# training for the rounding problem\n",
    "my_trainer.train(loader_train, loader_dev)"
   ]
  },
  {
   "cell_type": "code",
   "execution_count": 11,
   "id": "3e835084-eb75-45d9-bcbd-5fb4c613fb41",
   "metadata": {},
   "outputs": [
    {
     "name": "stderr",
     "output_type": "stream",
     "text": [
      "100%|████████████████████████████████████████████████████████████████████████████████| 100/100 [00:01<00:00, 52.53it/s]\n"
     ]
    },
    {
     "name": "stdout",
     "output_type": "stream",
     "text": [
      "           Obj Val  Constraints Viol  Elapsed Time\n",
      "count   100.000000             100.0    100.000000\n",
      "mean    519.848639               0.0      0.003384\n",
      "std     171.564230               0.0      0.001033\n",
      "min     340.440396               0.0      0.001996\n",
      "25%     409.692135               0.0      0.002559\n",
      "50%     467.591698               0.0      0.003038\n",
      "75%     599.028844               0.0      0.004056\n",
      "max    1325.291318               0.0      0.006001\n",
      "Number of infeasible solution: 0\n"
     ]
    }
   ],
   "source": [
    "params, sols, objvals, conviols, elapseds = [], [], [], [], []\n",
    "for p, a in tqdm(list(zip(p_test, a_test))):\n",
    "    # data point as tensor\n",
    "    datapoints = {\"p\": torch.tensor(np.array([p]), dtype=torch.float32).to(\"cuda\"), \n",
    "                  \"a\": torch.tensor(np.array([a]), dtype=torch.float32).to(\"cuda\"),\n",
    "                  \"name\": \"test\"}\n",
    "    # infer\n",
    "    components.eval()\n",
    "    tick = time.time()\n",
    "    with torch.no_grad():\n",
    "        for comp in components:\n",
    "            datapoints.update(comp(datapoints))\n",
    "    tock = time.time()\n",
    "    # assign params\n",
    "    model.set_param_val({\"p\":p, \"a\":a})\n",
    "    # assign vars\n",
    "    x = datapoints[\"x_rnd\"]\n",
    "    for i in range(2*num_blocks):\n",
    "        model.vars[\"x\"][i].value = x[0,i].item()\n",
    "    # get solutions\n",
    "    xval, objval = model.get_val()    \n",
    "    params.append(list(p)+list(a))\n",
    "    sols.append(list(list(xval.values())[0].values()))\n",
    "    objvals.append(objval)\n",
    "    conviols.append(sum(model.cal_violation()))\n",
    "    elapseds.append(tock - tick)\n",
    "df = pd.DataFrame({\"Param\":params, \"Sol\":sols, \"Obj Val\": objvals, \"Constraints Viol\": conviols, \"Elapsed Time\": elapseds})\n",
    "time.sleep(1)\n",
    "df.to_csv(\"result/rb_lr_50-100_g.csv\")\n",
    "time.sleep(1)\n",
    "print(df.describe())\n",
    "print(\"Number of infeasible solution: {}\".format(np.sum(df[\"Constraints Viol\"] > 0)))"
   ]
  },
  {
   "cell_type": "markdown",
   "id": "2dbf8a72-29b9-49c4-b3c1-0d68895c1c1f",
   "metadata": {},
   "source": [
    "## Learnable Threshold"
   ]
  },
  {
   "cell_type": "code",
   "execution_count": 12,
   "id": "7912a689-22cd-4d7b-a50f-d136dbdf5940",
   "metadata": {},
   "outputs": [],
   "source": [
    "# random seed\n",
    "np.random.seed(42)\n",
    "torch.manual_seed(42)\n",
    "torch.cuda.manual_seed(42)"
   ]
  },
  {
   "cell_type": "code",
   "execution_count": 13,
   "id": "d46b9817-87ac-4af0-b387-b10c9a4998f4",
   "metadata": {},
   "outputs": [],
   "source": [
    "# hyperparameters\n",
    "penalty_weight = 100  # weight of constraint violation penealty\n",
    "hlayers_sol = 5       # number of hidden layers for solution mapping\n",
    "hlayers_rnd = 4       # number of hidden layers for solution mapping\n",
    "hsize = 64            # width of hidden layers for solution mapping\n",
    "lr = 1e-3             # learning rate"
   ]
  },
  {
   "cell_type": "code",
   "execution_count": 14,
   "id": "fa8b147f-39c8-4eb7-bb95-93dd8e4cb1cf",
   "metadata": {},
   "outputs": [],
   "source": [
    "# set problem\n",
    "import neuromancer as nm\n",
    "from src.problem import nmRosenbrock\n",
    "from src.func.layer import netFC\n",
    "from src.func import roundThresholdModel\n",
    "# build neural architecture for the solution map\n",
    "func = nm.modules.blocks.MLP(insize=num_blocks+1, outsize=2*num_blocks, bias=True,\n",
    "                             linear_map=nm.slim.maps[\"linear\"],\n",
    "                             nonlin=nn.ReLU, hsizes=[hsize]*hlayers_sol)\n",
    "smap = nm.system.Node(func, [\"p\", \"a\"], [\"x\"], name=\"smap\")\n",
    "# define rounding model\n",
    "layers_rnd = netFC(input_dim=3*num_blocks+1, hidden_dims=[hsize]*hlayers_rnd, output_dim=2*num_blocks)\n",
    "rnd = roundThresholdModel(layers=layers_rnd, param_keys=[\"p\", \"a\"], var_keys=[\"x\"],  output_keys=[\"x_rnd\"], \n",
    "                          int_ind=model.int_ind, continuous_update=True, name=\"round\")\n",
    "# build neuromancer problem for rounding\n",
    "components = nn.ModuleList([smap, rnd]).to(\"cuda\")\n",
    "loss_fn = nmRosenbrock([\"p\", \"a\", \"x_rnd\"], steepness, num_blocks, penalty_weight)"
   ]
  },
  {
   "cell_type": "code",
   "execution_count": 15,
   "id": "c6f5bb17-8c3c-4dcd-952d-caa1d7c4c4fa",
   "metadata": {},
   "outputs": [
    {
     "name": "stdout",
     "output_type": "stream",
     "text": [
      "Epoch 0, Validation Loss: 22853.77\n",
      "Epoch 1, Validation Loss: 2533.40\n",
      "Epoch 2, Validation Loss: 1863.50\n",
      "Epoch 3, Validation Loss: 1134.42\n",
      "Epoch 4, Validation Loss: 1130.99\n",
      "Epoch 5, Validation Loss: 952.80\n",
      "Epoch 6, Validation Loss: 795.46\n",
      "Epoch 7, Validation Loss: 741.50\n",
      "Epoch 8, Validation Loss: 1215.76\n",
      "Epoch 9, Validation Loss: 694.71\n",
      "Epoch 10, Validation Loss: 703.77\n",
      "Epoch 11, Validation Loss: 635.50\n",
      "Epoch 12, Validation Loss: 626.58\n",
      "Epoch 13, Validation Loss: 616.27\n",
      "Epoch 14, Validation Loss: 667.66\n",
      "Epoch 15, Validation Loss: 665.05\n",
      "Epoch 16, Validation Loss: 744.93\n",
      "Epoch 17, Validation Loss: 657.28\n",
      "Epoch 18, Validation Loss: 655.65\n",
      "Epoch 19, Validation Loss: 722.54\n",
      "Epoch 20, Validation Loss: 645.25\n",
      "Epoch 21, Validation Loss: 768.43\n",
      "Epoch 22, Validation Loss: 649.91\n",
      "Epoch 23, Validation Loss: 730.92\n",
      "Epoch 24, Validation Loss: 642.45\n",
      "Epoch 25, Validation Loss: 636.79\n",
      "Epoch 26, Validation Loss: 1812.16\n",
      "Epoch 27, Validation Loss: 1492.86\n",
      "Epoch 28, Validation Loss: 658.68\n",
      "Epoch 29, Validation Loss: 841.01\n",
      "Epoch 30, Validation Loss: 1146.38\n",
      "Epoch 31, Validation Loss: 648.48\n",
      "Epoch 32, Validation Loss: 640.64\n",
      "Epoch 33, Validation Loss: 917.64\n",
      "Epoch 34, Validation Loss: 719.53\n",
      "Epoch 35, Validation Loss: 635.08\n",
      "Epoch 36, Validation Loss: 860.31\n",
      "Epoch 37, Validation Loss: 781.45\n",
      "Epoch 38, Validation Loss: 593.24\n",
      "Epoch 39, Validation Loss: 624.12\n",
      "Epoch 40, Validation Loss: 705.69\n",
      "Epoch 41, Validation Loss: 934.27\n",
      "Epoch 42, Validation Loss: 593.67\n",
      "Epoch 43, Validation Loss: 652.03\n",
      "Epoch 44, Validation Loss: 1303.10\n",
      "Epoch 45, Validation Loss: 827.37\n",
      "Epoch 46, Validation Loss: 661.21\n",
      "Epoch 47, Validation Loss: 625.68\n",
      "Epoch 48, Validation Loss: 648.34\n",
      "Epoch 49, Validation Loss: 904.37\n",
      "Epoch 50, Validation Loss: 950.21\n",
      "Epoch 51, Validation Loss: 835.17\n",
      "Epoch 52, Validation Loss: 1158.75\n",
      "Epoch 53, Validation Loss: 933.29\n",
      "Epoch 54, Validation Loss: 946.95\n",
      "Epoch 55, Validation Loss: 712.20\n",
      "Epoch 56, Validation Loss: 658.16\n",
      "Epoch 57, Validation Loss: 5179.37\n",
      "Epoch 58, Validation Loss: 713.30\n",
      "Epoch 59, Validation Loss: 737.37\n",
      "Epoch 60, Validation Loss: 5299.65\n",
      "Epoch 61, Validation Loss: 6249.63\n",
      "Epoch 62, Validation Loss: 690.89\n",
      "Epoch 63, Validation Loss: 936.08\n",
      "Epoch 64, Validation Loss: 601.17\n",
      "Epoch 65, Validation Loss: 1179.71\n",
      "Epoch 66, Validation Loss: 693.92\n",
      "Epoch 67, Validation Loss: 1746.50\n",
      "Epoch 68, Validation Loss: 631.03\n",
      "Epoch 69, Validation Loss: 932.03\n",
      "Epoch 70, Validation Loss: 815.91\n",
      "Epoch 71, Validation Loss: 620.86\n",
      "Epoch 72, Validation Loss: 682.14\n",
      "Epoch 73, Validation Loss: 611.91\n",
      "Epoch 74, Validation Loss: 619.74\n",
      "Epoch 75, Validation Loss: 1274.46\n",
      "Epoch 76, Validation Loss: 1987.62\n",
      "Epoch 77, Validation Loss: 715.33\n",
      "Epoch 78, Validation Loss: 1953.28\n",
      "Epoch 79, Validation Loss: 78560258.31\n",
      "Epoch 80, Validation Loss: 705.54\n",
      "Epoch 81, Validation Loss: 1003.08\n",
      "Epoch 82, Validation Loss: 704.78\n",
      "Epoch 83, Validation Loss: 8119.37\n",
      "Early stopping at epoch 83\n",
      "Best model loaded.\n",
      "Training complete.\n",
      "The training time is 150.63 sec.\n"
     ]
    }
   ],
   "source": [
    "from src.problem.neuromancer.trainer import trainer\n",
    "# training\n",
    "epochs = 200                    # number of training epochs\n",
    "growth_rate = 1.05              # growth rate of penalty weight\n",
    "warmup = 50                     # number of epochs to wait before enacting early stopping policy\n",
    "patience = 20                   # number of epochs with no improvement in eval metric to allow before early stopping\n",
    "optimizer = torch.optim.AdamW(components.parameters(), lr=lr)\n",
    "# create a trainer for the problem\n",
    "my_trainer = trainer(components, loss_fn, optimizer, epochs, growth_rate, patience, warmup, device=\"cuda\")\n",
    "# training for the rounding problem\n",
    "my_trainer.train(loader_train, loader_dev)"
   ]
  },
  {
   "cell_type": "code",
   "execution_count": 16,
   "id": "6584d57e-6b4c-4262-82f5-55735ef17cac",
   "metadata": {},
   "outputs": [
    {
     "name": "stderr",
     "output_type": "stream",
     "text": [
      "100%|████████████████████████████████████████████████████████████████████████████████| 100/100 [00:01<00:00, 61.75it/s]\n"
     ]
    },
    {
     "name": "stdout",
     "output_type": "stream",
     "text": [
      "          Obj Val  Constraints Viol  Elapsed Time\n",
      "count  100.000000             100.0    100.000000\n",
      "mean   618.512688               0.0      0.003061\n",
      "std    104.892178               0.0      0.000965\n",
      "min    361.382483               0.0      0.001889\n",
      "25%    555.203302               0.0      0.002077\n",
      "50%    624.097104               0.0      0.003000\n",
      "75%    699.911344               0.0      0.003557\n",
      "max    820.812557               0.0      0.006630\n",
      "Number of infeasible solution: 0\n"
     ]
    }
   ],
   "source": [
    "params, sols, objvals, conviols, elapseds = [], [], [], [], []\n",
    "for p, a in tqdm(list(zip(p_test, a_test))):\n",
    "    # data point as tensor\n",
    "    datapoints = {\"p\": torch.tensor(np.array([p]), dtype=torch.float32).to(\"cuda\"), \n",
    "                  \"a\": torch.tensor(np.array([a]), dtype=torch.float32).to(\"cuda\"),\n",
    "                  \"name\": \"test\"}\n",
    "    # infer\n",
    "    components.eval()\n",
    "    tick = time.time()\n",
    "    with torch.no_grad():\n",
    "        for comp in components:\n",
    "            datapoints.update(comp(datapoints))\n",
    "    tock = time.time()\n",
    "    # assign params\n",
    "    model.set_param_val({\"p\":p, \"a\":a})\n",
    "    # assign vars\n",
    "    x = datapoints[\"x_rnd\"]\n",
    "    for i in range(2*num_blocks):\n",
    "        model.vars[\"x\"][i].value = x[0,i].item()\n",
    "    # get solutions\n",
    "    xval, objval = model.get_val()    \n",
    "    params.append(list(p)+list(a))\n",
    "    sols.append(list(list(xval.values())[0].values()))\n",
    "    objvals.append(objval)\n",
    "    conviols.append(sum(model.cal_violation()))\n",
    "    elapseds.append(tock - tick)\n",
    "df = pd.DataFrame({\"Param\":params, \"Sol\":sols, \"Obj Val\": objvals, \"Constraints Viol\": conviols, \"Elapsed Time\": elapseds})\n",
    "time.sleep(1)\n",
    "df.to_csv(\"result/rb_lr_50-100_g.csv\")\n",
    "time.sleep(1)\n",
    "print(df.describe())\n",
    "print(\"Number of infeasible solution: {}\".format(np.sum(df[\"Constraints Viol\"] > 0)))"
   ]
  },
  {
   "cell_type": "code",
   "execution_count": null,
   "id": "7f038b4a-7343-4662-88db-78ef4c99a80d",
   "metadata": {},
   "outputs": [],
   "source": []
  }
 ],
 "metadata": {
  "kernelspec": {
   "display_name": "Python 3 (ipykernel)",
   "language": "python",
   "name": "python3"
  },
  "language_info": {
   "codemirror_mode": {
    "name": "ipython",
    "version": 3
   },
   "file_extension": ".py",
   "mimetype": "text/x-python",
   "name": "python",
   "nbconvert_exporter": "python",
   "pygments_lexer": "ipython3",
   "version": "3.10.13"
  }
 },
 "nbformat": 4,
 "nbformat_minor": 5
}
