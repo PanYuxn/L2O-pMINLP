{
 "cells": [
  {
   "cell_type": "code",
   "execution_count": 1,
   "id": "be61b914-e1af-43b9-9766-5092593f92dd",
   "metadata": {},
   "outputs": [],
   "source": [
    "import time\n",
    "\n",
    "import numpy as np\n",
    "import pandas as pd\n",
    "import torch\n",
    "from torch import nn\n",
    "from tqdm import tqdm\n",
    "\n",
    "# random seed\n",
    "np.random.seed(42)\n",
    "torch.manual_seed(42)\n",
    "torch.cuda.manual_seed(42)"
   ]
  },
  {
   "cell_type": "code",
   "execution_count": 2,
   "id": "35fe4527-9dbf-48f0-bfb3-62cda59092aa",
   "metadata": {},
   "outputs": [],
   "source": [
    "# turn off warning\n",
    "import logging\n",
    "logging.getLogger('pyomo.core').setLevel(logging.ERROR)"
   ]
  },
  {
   "cell_type": "markdown",
   "id": "c5560447-da9d-4cbe-aab4-538aa11c8ee8",
   "metadata": {},
   "source": [
    "## Problem Setting"
   ]
  },
  {
   "cell_type": "code",
   "execution_count": 3,
   "id": "52363c72-0d20-4c08-bd00-0f62aa73686c",
   "metadata": {},
   "outputs": [],
   "source": [
    "# init\n",
    "steepness = 50    # steepness factor\n",
    "num_blocks = 1    # number of expression blocks\n",
    "num_data = 9100   # number of data\n",
    "test_size = 100   # number of test size\n",
    "val_size = 1000   # number of validation size\n",
    "train_size = num_data - test_size - val_size"
   ]
  },
  {
   "cell_type": "code",
   "execution_count": 4,
   "id": "21938c00-d73f-4255-bc7c-bce6e8034cf8",
   "metadata": {},
   "outputs": [],
   "source": [
    "# parameters as input data\n",
    "p_low, p_high = 1.0, 8.0\n",
    "a_low, a_high = 0.5, 4.5\n",
    "p_train = np.random.uniform(p_low, p_high, (train_size, 1)).astype(np.float32)\n",
    "p_test  = np.random.uniform(p_low, p_high, (test_size, 1)).astype(np.float32)\n",
    "p_dev   = np.random.uniform(p_low, p_high, (val_size, 1)).astype(np.float32)\n",
    "a_train = np.random.uniform(a_low, a_high, (train_size, num_blocks)).astype(np.float32)\n",
    "a_test  = np.random.uniform(a_low, a_high, (test_size, num_blocks)).astype(np.float32)\n",
    "a_dev   = np.random.uniform(a_low, a_high, (val_size, num_blocks)).astype(np.float32)"
   ]
  },
  {
   "cell_type": "code",
   "execution_count": 5,
   "id": "5ecf81ff-627d-444d-8d90-121c7e20c217",
   "metadata": {},
   "outputs": [],
   "source": [
    "# nm datasets\n",
    "from neuromancer.dataset import DictDataset\n",
    "data_train = DictDataset({\"p\":p_train, \"a\":a_train}, name=\"train\")\n",
    "data_test = DictDataset({\"p\":p_test, \"a\":a_test}, name=\"test\")\n",
    "data_dev = DictDataset({\"p\":p_dev, \"a\":a_dev}, name=\"dev\")\n",
    "# torch dataloaders\n",
    "from torch.utils.data import DataLoader\n",
    "batch_size = 64\n",
    "loader_train = DataLoader(data_train, batch_size, num_workers=0, collate_fn=data_train.collate_fn, shuffle=True)\n",
    "loader_test = DataLoader(data_test, batch_size, num_workers=0, collate_fn=data_test.collate_fn, shuffle=False)\n",
    "loader_dev = DataLoader(data_dev, batch_size, num_workers=0, collate_fn=data_dev.collate_fn, shuffle=True)"
   ]
  },
  {
   "cell_type": "markdown",
   "id": "a2b99751-3a6e-46dc-9e33-fdf68d813034",
   "metadata": {},
   "source": [
    "## Exact Solver"
   ]
  },
  {
   "cell_type": "code",
   "execution_count": 6,
   "id": "f2e7f07c-6a97-44d6-aca7-56f395e0c964",
   "metadata": {},
   "outputs": [],
   "source": [
    "from src.problem import msRosenbrock\n",
    "model = msRosenbrock(steepness, num_blocks, timelimit=60)"
   ]
  },
  {
   "cell_type": "code",
   "execution_count": 7,
   "id": "77e326fa-de2f-415e-a4d4-1f28eef6511a",
   "metadata": {},
   "outputs": [
    {
     "name": "stderr",
     "output_type": "stream",
     "text": [
      "100%|████████████████████████████████████████████████████████████████████████████████| 100/100 [00:45<00:00,  2.21it/s]\n"
     ]
    },
    {
     "name": "stdout",
     "output_type": "stream",
     "text": [
      "          Obj Val  Constraints Viol  Elapsed Time\n",
      "count  100.000000             100.0    100.000000\n",
      "mean    18.107452               0.0      0.451168\n",
      "std      8.576368               0.0      0.173761\n",
      "min      4.261897               0.0      0.232914\n",
      "25%     10.480466               0.0      0.329509\n",
      "50%     18.338427               0.0      0.392298\n",
      "75%     24.470365               0.0      0.613075\n",
      "max     35.969581               0.0      0.909270\n",
      "Number of infeasible solution: 0\n"
     ]
    }
   ],
   "source": [
    "params, sols, objvals, conviols, elapseds = [], [], [], [], []\n",
    "for p, a in tqdm(list(zip(p_test, a_test))):\n",
    "    # set params\n",
    "    model.set_param_val({\"p\":p, \"a\":a})\n",
    "    # solve\n",
    "    tick = time.time()\n",
    "    xval, objval = model.solve(\"scip\")\n",
    "    tock = time.time()\n",
    "    # eval\n",
    "    params.append(list(p)+list(a))\n",
    "    sols.append(list(list(xval.values())[0].values()))\n",
    "    objvals.append(objval)\n",
    "    conviols.append(sum(model.cal_violation()))\n",
    "    elapseds.append(tock - tick)\n",
    "df = pd.DataFrame({\"Param\":params, \"Sol\":sols, \"Obj Val\": objvals, \"Constraints Viol\": conviols, \"Elapsed Time\": elapseds})\n",
    "df.to_csv(\"result/rb_exact_50-1.csv\")\n",
    "time.sleep(1)\n",
    "print(df.describe())\n",
    "print(\"Number of infeasible solution: {}\".format(np.sum(df[\"Constraints Viol\"] > 0)))"
   ]
  },
  {
   "cell_type": "markdown",
   "id": "28b8053d-2fb9-419e-ab27-56d35a7310c2",
   "metadata": {},
   "source": [
    "## Heuristic - Round"
   ]
  },
  {
   "cell_type": "code",
   "execution_count": 8,
   "id": "8ac297ea-1ea4-4368-bbcf-e64f185397da",
   "metadata": {},
   "outputs": [],
   "source": [
    "from src.heuristic import naive_round"
   ]
  },
  {
   "cell_type": "code",
   "execution_count": 9,
   "id": "317ca34b-ef96-4149-9354-cc76439f4713",
   "metadata": {},
   "outputs": [
    {
     "name": "stderr",
     "output_type": "stream",
     "text": [
      "100%|████████████████████████████████████████████████████████████████████████████████| 100/100 [01:08<00:00,  1.47it/s]\n"
     ]
    },
    {
     "name": "stdout",
     "output_type": "stream",
     "text": [
      "          Obj Val  Constraints Viol  Elapsed Time\n",
      "count  100.000000        100.000000    100.000000\n",
      "mean    21.521440          0.098937      0.675558\n",
      "std      9.641382          0.155493      0.142153\n",
      "min      4.755576          0.000000      0.385420\n",
      "25%     12.159313          0.000000      0.656528\n",
      "50%     22.361054          0.000000      0.688451\n",
      "75%     28.812877          0.201522      0.791713\n",
      "max     43.104801          0.463337      1.003143\n",
      "Number of infeasible solution: 37\n"
     ]
    }
   ],
   "source": [
    "params, sols, objvals, conviols, elapseds = [], [], [], [], []\n",
    "for p, a in tqdm(list(zip(p_test, a_test))):\n",
    "    # set params\n",
    "    model.set_param_val({\"p\":p, \"a\":a})\n",
    "    # relax\n",
    "    model_rel = model.relax()\n",
    "    # solve\n",
    "    tick = time.time()\n",
    "    xval_rel, _ = model_rel.solve(\"scip\")\n",
    "    xval, objval = naive_round(xval_rel, model)\n",
    "    tock = time.time()\n",
    "    # eval\n",
    "    params.append(list(p)+list(a))\n",
    "    sols.append(list(list(xval.values())[0].values()))\n",
    "    objvals.append(objval)\n",
    "    conviols.append(sum(model.cal_violation()))\n",
    "    elapseds.append(tock - tick)\n",
    "df = pd.DataFrame({\"Param\":params, \"Sol\":sols, \"Obj Val\": objvals, \"Constraints Viol\": conviols, \"Elapsed Time\": elapseds})\n",
    "time.sleep(1)\n",
    "df.to_csv(\"result/rb_heur_rnd_50-1.csv\")\n",
    "time.sleep(1)\n",
    "print(df.describe())\n",
    "print(\"Number of infeasible solution: {}\".format(np.sum(df[\"Constraints Viol\"] > 0)))"
   ]
  },
  {
   "cell_type": "markdown",
   "id": "96304fbd-08f5-4be7-a81e-83c85332029c",
   "metadata": {},
   "source": [
    "## Heuristic - N1"
   ]
  },
  {
   "cell_type": "code",
   "execution_count": 10,
   "id": "356187af-e02d-4478-bf78-ada6a2e1b94b",
   "metadata": {},
   "outputs": [],
   "source": [
    "model_heur = model.first_solution_heuristic(nodes_limit=1)"
   ]
  },
  {
   "cell_type": "code",
   "execution_count": 11,
   "id": "f4c7fc52-cbbc-4414-bf1d-316d65c8db5b",
   "metadata": {},
   "outputs": [
    {
     "name": "stderr",
     "output_type": "stream",
     "text": [
      "100%|████████████████████████████████████████████████████████████████████████████████| 100/100 [00:07<00:00, 13.20it/s]\n"
     ]
    },
    {
     "name": "stdout",
     "output_type": "stream",
     "text": [
      "          Obj Val  Constraints Viol  Elapsed Time\n",
      "count  100.000000             100.0    100.000000\n",
      "mean    43.859568               0.0      0.075189\n",
      "std     53.957324               0.0      0.034551\n",
      "min      4.267383               0.0      0.058815\n",
      "25%     16.532207               0.0      0.061113\n",
      "50%     28.366823               0.0      0.062071\n",
      "75%     40.133536               0.0      0.062899\n",
      "max    217.874094               0.0      0.185403\n",
      "Number of infeasible solution: 0\n"
     ]
    }
   ],
   "source": [
    "params, sols, objvals, conviols, elapseds = [], [], [], [], []\n",
    "for p, a in tqdm(list(zip(p_test, a_test))):\n",
    "    # set params\n",
    "    model_heur.set_param_val({\"p\":p, \"a\":a})\n",
    "    # solve\n",
    "    tick = time.time()\n",
    "    xval, objval = model_heur.solve(\"scip\")\n",
    "    tock = time.time()\n",
    "    # eval\n",
    "    params.append(list(p)+list(a))\n",
    "    sols.append(list(list(xval.values())[0].values()))\n",
    "    objvals.append(objval)\n",
    "    conviols.append(sum(model_heur.cal_violation()))\n",
    "    elapseds.append(tock - tick)\n",
    "df = pd.DataFrame({\"Param\":params, \"Sol\":sols, \"Obj Val\": objvals, \"Constraints Viol\": conviols, \"Elapsed Time\": elapseds})\n",
    "time.sleep(1)\n",
    "df.to_csv(\"result/rb_heur_n1_50-1.csv\")\n",
    "time.sleep(1)\n",
    "print(df.describe())\n",
    "print(\"Number of infeasible solution: {}\".format(np.sum(df[\"Constraints Viol\"] > 0)))"
   ]
  },
  {
   "cell_type": "markdown",
   "id": "9819c60c-df5f-41c6-ae83-888c75aa78d7",
   "metadata": {},
   "source": [
    "## Learnable Rounding"
   ]
  },
  {
   "cell_type": "code",
   "execution_count": 7,
   "id": "6c2bdd74-a0d1-4afa-b610-4f29559a5860",
   "metadata": {},
   "outputs": [],
   "source": [
    "# random seed\n",
    "np.random.seed(42)\n",
    "torch.manual_seed(42)\n",
    "torch.cuda.manual_seed(42)"
   ]
  },
  {
   "cell_type": "code",
   "execution_count": 8,
   "id": "536d2d58-67ba-408a-b72a-7c5bd54a5ff4",
   "metadata": {},
   "outputs": [],
   "source": [
    "# hyperparameters\n",
    "penalty_weight = 100  # weight of constraint violation penealty\n",
    "hlayers_sol = 5       # number of hidden layers for solution mapping\n",
    "hlayers_rnd = 4       # number of hidden layers for solution mapping\n",
    "hsize = 4             # width of hidden layers for solution mapping\n",
    "lr = 1e-3             # learning rate"
   ]
  },
  {
   "cell_type": "code",
   "execution_count": 9,
   "id": "fee1241e-e53a-4cbb-927a-edcdb3537303",
   "metadata": {},
   "outputs": [],
   "source": [
    "# set problem\n",
    "import neuromancer as nm\n",
    "from src.problem import nmRosenbrock\n",
    "from src.func.layer import netFC\n",
    "from src.func import roundGumbelModel\n",
    "# build neural architecture for the solution map\n",
    "func = nm.modules.blocks.MLP(insize=num_blocks+1, outsize=2*num_blocks, bias=True,\n",
    "                             linear_map=nm.slim.maps[\"linear\"],\n",
    "                             nonlin=nn.ReLU, hsizes=[hsize]*hlayers_sol)\n",
    "smap = nm.system.Node(func, [\"p\", \"a\"], [\"x\"], name=\"smap\")\n",
    "# define rounding model\n",
    "layers_rnd = netFC(input_dim=3*num_blocks+1, hidden_dims=[hsize]*hlayers_rnd, output_dim=2*num_blocks)\n",
    "rnd = roundGumbelModel(layers=layers_rnd, param_keys=[\"p\", \"a\"], var_keys=[\"x\"],  output_keys=[\"x_rnd\"], \n",
    "                       int_ind=model.int_ind, continuous_update=True, name=\"round\")\n",
    "# build neuromancer problem for rounding\n",
    "components = nn.ModuleList([smap, rnd]).to(\"cuda\")\n",
    "loss_fn = nmRosenbrock([\"p\", \"a\", \"x_rnd\"], steepness, num_blocks, penalty_weight)"
   ]
  },
  {
   "cell_type": "code",
   "execution_count": 10,
   "id": "e4f10263-5f69-4288-a4e8-8be83929c8d6",
   "metadata": {},
   "outputs": [
    {
     "name": "stdout",
     "output_type": "stream",
     "text": [
      "Epoch 0, Validation Loss: 633.96\n",
      "Epoch 1, Validation Loss: 563.72\n",
      "Epoch 2, Validation Loss: 52.03\n",
      "Epoch 3, Validation Loss: 39.96\n",
      "Epoch 4, Validation Loss: 37.59\n",
      "Epoch 5, Validation Loss: 37.05\n",
      "Epoch 6, Validation Loss: 37.39\n",
      "Epoch 7, Validation Loss: 35.72\n",
      "Epoch 8, Validation Loss: 38.21\n",
      "Epoch 9, Validation Loss: 36.76\n",
      "Epoch 10, Validation Loss: 38.36\n",
      "Epoch 11, Validation Loss: 33.15\n",
      "Epoch 12, Validation Loss: 32.57\n",
      "Epoch 13, Validation Loss: 31.43\n",
      "Epoch 14, Validation Loss: 31.64\n",
      "Epoch 15, Validation Loss: 30.14\n",
      "Epoch 16, Validation Loss: 28.77\n",
      "Epoch 17, Validation Loss: 30.81\n",
      "Epoch 18, Validation Loss: 28.81\n",
      "Epoch 19, Validation Loss: 28.83\n",
      "Epoch 20, Validation Loss: 29.86\n",
      "Epoch 21, Validation Loss: 30.51\n",
      "Epoch 22, Validation Loss: 30.46\n",
      "Epoch 23, Validation Loss: 30.96\n",
      "Epoch 24, Validation Loss: 30.43\n",
      "Epoch 25, Validation Loss: 30.27\n",
      "Epoch 26, Validation Loss: 29.60\n",
      "Epoch 27, Validation Loss: 26.59\n",
      "Epoch 28, Validation Loss: 26.70\n",
      "Epoch 29, Validation Loss: 25.62\n",
      "Epoch 30, Validation Loss: 25.23\n",
      "Epoch 31, Validation Loss: 23.51\n",
      "Epoch 32, Validation Loss: 23.90\n",
      "Epoch 33, Validation Loss: 23.90\n",
      "Epoch 34, Validation Loss: 22.81\n",
      "Epoch 35, Validation Loss: 22.76\n",
      "Epoch 36, Validation Loss: 22.61\n",
      "Epoch 37, Validation Loss: 22.68\n",
      "Epoch 38, Validation Loss: 23.13\n",
      "Epoch 39, Validation Loss: 22.88\n",
      "Epoch 40, Validation Loss: 22.37\n",
      "Epoch 41, Validation Loss: 22.16\n",
      "Epoch 42, Validation Loss: 22.37\n",
      "Epoch 43, Validation Loss: 22.07\n",
      "Epoch 44, Validation Loss: 22.06\n",
      "Epoch 45, Validation Loss: 22.22\n",
      "Epoch 46, Validation Loss: 22.14\n",
      "Epoch 47, Validation Loss: 22.10\n",
      "Epoch 48, Validation Loss: 22.05\n",
      "Epoch 49, Validation Loss: 22.23\n",
      "Epoch 50, Validation Loss: 22.28\n",
      "Epoch 51, Validation Loss: 22.18\n",
      "Epoch 52, Validation Loss: 22.03\n",
      "Epoch 53, Validation Loss: 22.06\n",
      "Epoch 54, Validation Loss: 22.47\n",
      "Epoch 55, Validation Loss: 22.15\n",
      "Epoch 56, Validation Loss: 22.09\n",
      "Epoch 57, Validation Loss: 22.19\n",
      "Epoch 58, Validation Loss: 22.19\n",
      "Epoch 59, Validation Loss: 22.04\n",
      "Epoch 60, Validation Loss: 22.03\n",
      "Epoch 61, Validation Loss: 22.19\n",
      "Epoch 62, Validation Loss: 22.20\n",
      "Epoch 63, Validation Loss: 22.06\n",
      "Epoch 64, Validation Loss: 21.97\n",
      "Epoch 65, Validation Loss: 22.25\n",
      "Epoch 66, Validation Loss: 22.15\n",
      "Epoch 67, Validation Loss: 22.13\n",
      "Epoch 68, Validation Loss: 21.89\n",
      "Epoch 69, Validation Loss: 22.11\n",
      "Epoch 70, Validation Loss: 22.24\n",
      "Epoch 71, Validation Loss: 22.25\n",
      "Epoch 72, Validation Loss: 22.10\n",
      "Epoch 73, Validation Loss: 22.20\n",
      "Epoch 74, Validation Loss: 22.21\n",
      "Epoch 75, Validation Loss: 22.14\n",
      "Epoch 76, Validation Loss: 22.16\n",
      "Epoch 77, Validation Loss: 22.00\n",
      "Epoch 78, Validation Loss: 22.21\n",
      "Epoch 79, Validation Loss: 22.29\n",
      "Epoch 80, Validation Loss: 22.12\n",
      "Epoch 81, Validation Loss: 22.05\n",
      "Epoch 82, Validation Loss: 22.08\n",
      "Epoch 83, Validation Loss: 22.02\n",
      "Epoch 84, Validation Loss: 21.98\n",
      "Epoch 85, Validation Loss: 21.87\n",
      "Epoch 86, Validation Loss: 22.18\n",
      "Epoch 87, Validation Loss: 21.88\n",
      "Epoch 88, Validation Loss: 22.43\n",
      "Epoch 89, Validation Loss: 21.98\n",
      "Epoch 90, Validation Loss: 22.06\n",
      "Epoch 91, Validation Loss: 22.04\n",
      "Epoch 92, Validation Loss: 21.90\n",
      "Epoch 93, Validation Loss: 22.21\n",
      "Epoch 94, Validation Loss: 22.13\n",
      "Epoch 95, Validation Loss: 22.04\n",
      "Epoch 96, Validation Loss: 22.16\n",
      "Epoch 97, Validation Loss: 22.09\n",
      "Epoch 98, Validation Loss: 21.86\n",
      "Epoch 99, Validation Loss: 22.14\n",
      "Epoch 100, Validation Loss: 22.39\n",
      "Epoch 101, Validation Loss: 22.06\n",
      "Epoch 102, Validation Loss: 21.96\n",
      "Epoch 103, Validation Loss: 21.96\n",
      "Epoch 104, Validation Loss: 22.11\n",
      "Epoch 105, Validation Loss: 21.87\n",
      "Epoch 106, Validation Loss: 21.98\n",
      "Epoch 107, Validation Loss: 22.18\n",
      "Epoch 108, Validation Loss: 22.08\n",
      "Epoch 109, Validation Loss: 22.04\n",
      "Epoch 110, Validation Loss: 22.19\n",
      "Epoch 111, Validation Loss: 22.07\n",
      "Epoch 112, Validation Loss: 22.08\n",
      "Epoch 113, Validation Loss: 21.94\n",
      "Epoch 114, Validation Loss: 22.01\n",
      "Epoch 115, Validation Loss: 21.88\n",
      "Epoch 116, Validation Loss: 22.02\n",
      "Epoch 117, Validation Loss: 22.34\n",
      "Early stopping at epoch 117\n",
      "Best model loaded.\n",
      "Training complete.\n",
      "The training time is 230.68 sec.\n"
     ]
    }
   ],
   "source": [
    "from src.problem.neuromancer.trainer import trainer\n",
    "# training\n",
    "epochs = 200                    # number of training epochs\n",
    "warmup = 20                     # number of epochs to wait before enacting early stopping policy\n",
    "patience = 20                   # number of epochs with no improvement in eval metric to allow before early stopping\n",
    "optimizer = torch.optim.AdamW(components.parameters(), lr=lr)\n",
    "# create a trainer for the problem\n",
    "my_trainer = trainer(components, loss_fn, optimizer, epochs, patience, warmup, device=\"cuda\")\n",
    "# training for the rounding problem\n",
    "my_trainer.train(loader_train, loader_dev)"
   ]
  },
  {
   "cell_type": "code",
   "execution_count": 11,
   "id": "3e835084-eb75-45d9-bcbd-5fb4c613fb41",
   "metadata": {},
   "outputs": [
    {
     "name": "stderr",
     "output_type": "stream",
     "text": [
      "100%|███████████████████████████████████████████████████████████████████████████████| 100/100 [00:00<00:00, 252.29it/s]\n"
     ]
    },
    {
     "name": "stdout",
     "output_type": "stream",
     "text": [
      "          Obj Val  Constraints Viol  Elapsed Time\n",
      "count  100.000000        100.000000    100.000000\n",
      "mean    23.304896          0.000455      0.003090\n",
      "std     10.826142          0.003211      0.000858\n",
      "min      2.354030          0.000000      0.001999\n",
      "25%     15.401969          0.000000      0.002432\n",
      "50%     21.218778          0.000000      0.003000\n",
      "75%     32.055396          0.000000      0.003645\n",
      "max     54.932125          0.024562      0.005015\n",
      "Number of infeasible solution: 2\n"
     ]
    }
   ],
   "source": [
    "params, sols, objvals, conviols, elapseds = [], [], [], [], []\n",
    "for p, a in tqdm(list(zip(p_test, a_test))):\n",
    "    # data point as tensor\n",
    "    datapoints = {\"p\": torch.tensor(np.array([p]), dtype=torch.float32).to(\"cuda\"), \n",
    "                  \"a\": torch.tensor(np.array([a]), dtype=torch.float32).to(\"cuda\"),\n",
    "                  \"name\": \"test\"}\n",
    "    # infer\n",
    "    components.eval()\n",
    "    tick = time.time()\n",
    "    with torch.no_grad():\n",
    "        for comp in components:\n",
    "            datapoints.update(comp(datapoints))\n",
    "    tock = time.time()\n",
    "    # assign params\n",
    "    model.set_param_val({\"p\":p, \"a\":a})\n",
    "    # assign vars\n",
    "    x = datapoints[\"x_rnd\"]\n",
    "    for i in range(2*num_blocks):\n",
    "        model.vars[\"x\"][i].value = x[0,i].item()\n",
    "    # get solutions\n",
    "    xval, objval = model.get_val()    \n",
    "    params.append(list(p)+list(a))\n",
    "    sols.append(list(list(xval.values())[0].values()))\n",
    "    objvals.append(objval)\n",
    "    conviols.append(sum(model.cal_violation()))\n",
    "    elapseds.append(tock - tick)\n",
    "df = pd.DataFrame({\"Param\":params, \"Sol\":sols, \"Obj Val\": objvals, \"Constraints Viol\": conviols, \"Elapsed Time\": elapseds})\n",
    "time.sleep(1)\n",
    "df.to_csv(\"result/rb_lr_50-1.csv\")\n",
    "time.sleep(1)\n",
    "print(df.describe())\n",
    "print(\"Number of infeasible solution: {}\".format(np.sum(df[\"Constraints Viol\"] > 0)))"
   ]
  },
  {
   "cell_type": "markdown",
   "id": "2dbf8a72-29b9-49c4-b3c1-0d68895c1c1f",
   "metadata": {},
   "source": [
    "## Learnable Threshold"
   ]
  },
  {
   "cell_type": "code",
   "execution_count": 12,
   "id": "7912a689-22cd-4d7b-a50f-d136dbdf5940",
   "metadata": {},
   "outputs": [],
   "source": [
    "# random seed\n",
    "np.random.seed(42)\n",
    "torch.manual_seed(42)\n",
    "torch.cuda.manual_seed(42)"
   ]
  },
  {
   "cell_type": "code",
   "execution_count": 13,
   "id": "d46b9817-87ac-4af0-b387-b10c9a4998f4",
   "metadata": {},
   "outputs": [],
   "source": [
    "# hyperparameters\n",
    "penalty_weight = 100  # weight of constraint violation penealty\n",
    "hlayers_sol = 5       # number of hidden layers for solution mapping\n",
    "hlayers_rnd = 4       # number of hidden layers for solution mapping\n",
    "hsize = 4             # width of hidden layers for solution mapping\n",
    "lr = 1e-3             # learning rate"
   ]
  },
  {
   "cell_type": "code",
   "execution_count": 14,
   "id": "fa8b147f-39c8-4eb7-bb95-93dd8e4cb1cf",
   "metadata": {},
   "outputs": [],
   "source": [
    "# set problem\n",
    "import neuromancer as nm\n",
    "from src.problem import nmRosenbrock\n",
    "from src.func.layer import netFC\n",
    "from src.func import roundThresholdModel\n",
    "# build neural architecture for the solution map\n",
    "func = nm.modules.blocks.MLP(insize=num_blocks+1, outsize=2*num_blocks, bias=True,\n",
    "                             linear_map=nm.slim.maps[\"linear\"],\n",
    "                             nonlin=nn.ReLU, hsizes=[hsize]*hlayers_sol)\n",
    "smap = nm.system.Node(func, [\"p\", \"a\"], [\"x\"], name=\"smap\")\n",
    "# define rounding model\n",
    "layers_rnd = netFC(input_dim=3*num_blocks+1, hidden_dims=[hsize]*hlayers_rnd, output_dim=2*num_blocks)\n",
    "rnd = roundThresholdModel(layers=layers_rnd, param_keys=[\"p\", \"a\"], var_keys=[\"x\"],  output_keys=[\"x_rnd\"], \n",
    "                          int_ind=model.int_ind, continuous_update=True, name=\"round\")\n",
    "# build neuromancer problem for rounding\n",
    "components = nn.ModuleList([smap, rnd]).to(\"cuda\")\n",
    "loss_fn = nmRosenbrock([\"p\", \"a\", \"x_rnd\"], steepness, num_blocks, penalty_weight)"
   ]
  },
  {
   "cell_type": "code",
   "execution_count": 15,
   "id": "c6f5bb17-8c3c-4dcd-952d-caa1d7c4c4fa",
   "metadata": {},
   "outputs": [
    {
     "name": "stdout",
     "output_type": "stream",
     "text": [
      "Epoch 0, Validation Loss: 245.18\n",
      "Epoch 1, Validation Loss: 227.98\n",
      "Epoch 2, Validation Loss: 47.26\n",
      "Epoch 3, Validation Loss: 29.14\n",
      "Epoch 4, Validation Loss: 24.36\n",
      "Epoch 5, Validation Loss: 23.61\n",
      "Epoch 6, Validation Loss: 23.70\n",
      "Epoch 7, Validation Loss: 23.17\n",
      "Epoch 8, Validation Loss: 23.34\n",
      "Epoch 9, Validation Loss: 23.12\n",
      "Epoch 10, Validation Loss: 23.36\n",
      "Epoch 11, Validation Loss: 23.16\n",
      "Epoch 12, Validation Loss: 23.04\n",
      "Epoch 13, Validation Loss: 23.27\n",
      "Epoch 14, Validation Loss: 22.90\n",
      "Epoch 15, Validation Loss: 23.02\n",
      "Epoch 16, Validation Loss: 22.70\n",
      "Epoch 17, Validation Loss: 22.60\n",
      "Epoch 18, Validation Loss: 22.73\n",
      "Epoch 19, Validation Loss: 22.70\n",
      "Epoch 20, Validation Loss: 22.94\n",
      "Epoch 21, Validation Loss: 22.70\n",
      "Epoch 22, Validation Loss: 22.98\n",
      "Epoch 23, Validation Loss: 22.66\n",
      "Epoch 24, Validation Loss: 22.56\n",
      "Epoch 25, Validation Loss: 22.50\n",
      "Epoch 26, Validation Loss: 22.52\n",
      "Epoch 27, Validation Loss: 22.58\n",
      "Epoch 28, Validation Loss: 22.41\n",
      "Epoch 29, Validation Loss: 22.31\n",
      "Epoch 30, Validation Loss: 22.53\n",
      "Epoch 31, Validation Loss: 22.18\n",
      "Epoch 32, Validation Loss: 22.12\n",
      "Epoch 33, Validation Loss: 22.00\n",
      "Epoch 34, Validation Loss: 22.07\n",
      "Epoch 35, Validation Loss: 22.06\n",
      "Epoch 36, Validation Loss: 22.01\n",
      "Epoch 37, Validation Loss: 22.01\n",
      "Epoch 38, Validation Loss: 22.17\n",
      "Epoch 39, Validation Loss: 22.03\n",
      "Epoch 40, Validation Loss: 22.19\n",
      "Epoch 41, Validation Loss: 21.81\n",
      "Epoch 42, Validation Loss: 22.16\n",
      "Epoch 43, Validation Loss: 22.08\n",
      "Epoch 44, Validation Loss: 22.11\n",
      "Epoch 45, Validation Loss: 22.15\n",
      "Epoch 46, Validation Loss: 21.93\n",
      "Epoch 47, Validation Loss: 21.98\n",
      "Epoch 48, Validation Loss: 21.84\n",
      "Epoch 49, Validation Loss: 21.89\n",
      "Epoch 50, Validation Loss: 21.97\n",
      "Epoch 51, Validation Loss: 21.76\n",
      "Epoch 52, Validation Loss: 21.93\n",
      "Epoch 53, Validation Loss: 21.75\n",
      "Epoch 54, Validation Loss: 21.77\n",
      "Epoch 55, Validation Loss: 21.95\n",
      "Epoch 56, Validation Loss: 21.97\n",
      "Epoch 57, Validation Loss: 22.04\n",
      "Epoch 58, Validation Loss: 22.02\n",
      "Epoch 59, Validation Loss: 21.96\n",
      "Epoch 60, Validation Loss: 22.17\n",
      "Epoch 61, Validation Loss: 22.00\n",
      "Epoch 62, Validation Loss: 22.48\n",
      "Epoch 63, Validation Loss: 22.11\n",
      "Epoch 64, Validation Loss: 21.94\n",
      "Epoch 65, Validation Loss: 22.14\n",
      "Epoch 66, Validation Loss: 22.02\n",
      "Epoch 67, Validation Loss: 22.06\n",
      "Epoch 68, Validation Loss: 21.87\n",
      "Epoch 69, Validation Loss: 21.86\n",
      "Epoch 70, Validation Loss: 21.95\n",
      "Epoch 71, Validation Loss: 21.93\n",
      "Epoch 72, Validation Loss: 21.84\n",
      "Early stopping at epoch 72\n",
      "Best model loaded.\n",
      "Training complete.\n",
      "The training time is 126.60 sec.\n"
     ]
    }
   ],
   "source": [
    "from src.problem.neuromancer.trainer import trainer\n",
    "# training\n",
    "epochs = 200                    # number of training epochs\n",
    "warmup = 20                     # number of epochs to wait before enacting early stopping policy\n",
    "patience = 20                   # number of epochs with no improvement in eval metric to allow before early stopping\n",
    "optimizer = torch.optim.AdamW(components.parameters(), lr=lr)\n",
    "# create a trainer for the problem\n",
    "my_trainer = trainer(components, loss_fn, optimizer, epochs, patience, warmup, device=\"cuda\")\n",
    "# training for the rounding problem\n",
    "my_trainer.train(loader_train, loader_dev)"
   ]
  },
  {
   "cell_type": "code",
   "execution_count": 16,
   "id": "6584d57e-6b4c-4262-82f5-55735ef17cac",
   "metadata": {},
   "outputs": [
    {
     "name": "stderr",
     "output_type": "stream",
     "text": [
      "100%|███████████████████████████████████████████████████████████████████████████████| 100/100 [00:00<00:00, 260.59it/s]\n"
     ]
    },
    {
     "name": "stdout",
     "output_type": "stream",
     "text": [
      "          Obj Val  Constraints Viol  Elapsed Time\n",
      "count  100.000000        100.000000    100.000000\n",
      "mean    23.018873          0.001510      0.003103\n",
      "std     10.750791          0.008028      0.000839\n",
      "min      2.253056          0.000000      0.002000\n",
      "25%     14.921778          0.000000      0.002418\n",
      "50%     21.269104          0.000000      0.003000\n",
      "75%     31.522700          0.000000      0.003822\n",
      "max     47.446514          0.053874      0.005000\n",
      "Number of infeasible solution: 4\n"
     ]
    }
   ],
   "source": [
    "params, sols, objvals, conviols, elapseds = [], [], [], [], []\n",
    "for p, a in tqdm(list(zip(p_test, a_test))):\n",
    "    # data point as tensor\n",
    "    datapoints = {\"p\": torch.tensor(np.array([p]), dtype=torch.float32).to(\"cuda\"), \n",
    "                  \"a\": torch.tensor(np.array([a]), dtype=torch.float32).to(\"cuda\"),\n",
    "                  \"name\": \"test\"}\n",
    "    # infer\n",
    "    components.eval()\n",
    "    tick = time.time()\n",
    "    with torch.no_grad():\n",
    "        for comp in components:\n",
    "            datapoints.update(comp(datapoints))\n",
    "    tock = time.time()\n",
    "    # assign params\n",
    "    model.set_param_val({\"p\":p, \"a\":a})\n",
    "    # assign vars\n",
    "    x = datapoints[\"x_rnd\"]\n",
    "    for i in range(2*num_blocks):\n",
    "        model.vars[\"x\"][i].value = x[0,i].item()\n",
    "    # get solutions\n",
    "    xval, objval = model.get_val()    \n",
    "    params.append(list(p)+list(a))\n",
    "    sols.append(list(list(xval.values())[0].values()))\n",
    "    objvals.append(objval)\n",
    "    conviols.append(sum(model.cal_violation()))\n",
    "    elapseds.append(tock - tick)\n",
    "df = pd.DataFrame({\"Param\":params, \"Sol\":sols, \"Obj Val\": objvals, \"Constraints Viol\": conviols, \"Elapsed Time\": elapseds})\n",
    "time.sleep(1)\n",
    "df.to_csv(\"result/rb_lr_50-1.csv\")\n",
    "time.sleep(1)\n",
    "print(df.describe())\n",
    "print(\"Number of infeasible solution: {}\".format(np.sum(df[\"Constraints Viol\"] > 0)))"
   ]
  },
  {
   "cell_type": "markdown",
   "id": "bece4166-1c16-45d5-a544-dbc93ee03cd1",
   "metadata": {},
   "source": [
    "## Parametric Learning Then Rounding"
   ]
  },
  {
   "cell_type": "code",
   "execution_count": 17,
   "id": "2fb68ab1-eaf8-4821-93ec-65e8c4b0a00c",
   "metadata": {},
   "outputs": [],
   "source": [
    "# random seed\n",
    "np.random.seed(42)\n",
    "torch.manual_seed(42)\n",
    "torch.cuda.manual_seed(42)"
   ]
  },
  {
   "cell_type": "code",
   "execution_count": 18,
   "id": "d01e8d11-e6f5-4e99-8dc4-e173751c927e",
   "metadata": {},
   "outputs": [],
   "source": [
    "# hyperparameters\n",
    "penalty_weight = 100  # weight of constraint violation penealty\n",
    "hlayers_sol = 5       # number of hidden layers for solution mapping\n",
    "hsize = 4             # width of hidden layers for solution mapping\n",
    "lr = 1e-3             # learning rate"
   ]
  },
  {
   "cell_type": "code",
   "execution_count": 19,
   "id": "99131f79-d4e9-4bcb-ba80-1d6284cdc5f2",
   "metadata": {},
   "outputs": [],
   "source": [
    "# set problem\n",
    "import neuromancer as nm\n",
    "from src.problem import nmQuadratic\n",
    "from src.func.layer import netFC\n",
    "# build neural architecture for the solution map\n",
    "func = nm.modules.blocks.MLP(insize=num_blocks+1, outsize=2*num_blocks, bias=True,\n",
    "                             linear_map=nm.slim.maps[\"linear\"],\n",
    "                             nonlin=nn.ReLU, hsizes=[hsize]*hlayers_sol)\n",
    "smap = nm.system.Node(func, [\"p\", \"a\"], [\"x\"], name=\"smap\")\n",
    "# build neuromancer problem for rounding\n",
    "components = nn.ModuleList([smap]).to(\"cuda\")\n",
    "loss_fn = nmRosenbrock([\"p\", \"a\", \"x\"], steepness, num_blocks, penalty_weight)"
   ]
  },
  {
   "cell_type": "code",
   "execution_count": 20,
   "id": "dea5cd27-82b8-433f-bdc2-e539e78cfa36",
   "metadata": {},
   "outputs": [
    {
     "name": "stdout",
     "output_type": "stream",
     "text": [
      "Epoch 0, Validation Loss: 329.77\n",
      "Epoch 1, Validation Loss: 248.48\n",
      "Epoch 2, Validation Loss: 179.86\n",
      "Epoch 3, Validation Loss: 179.01\n",
      "Epoch 4, Validation Loss: 179.56\n",
      "Epoch 5, Validation Loss: 179.34\n",
      "Epoch 6, Validation Loss: 179.63\n",
      "Epoch 7, Validation Loss: 179.37\n",
      "Epoch 8, Validation Loss: 178.74\n",
      "Epoch 9, Validation Loss: 179.24\n",
      "Epoch 10, Validation Loss: 178.28\n",
      "Epoch 11, Validation Loss: 178.26\n",
      "Epoch 12, Validation Loss: 178.15\n",
      "Epoch 13, Validation Loss: 177.86\n",
      "Epoch 14, Validation Loss: 177.75\n",
      "Epoch 15, Validation Loss: 178.21\n",
      "Epoch 16, Validation Loss: 178.33\n",
      "Epoch 17, Validation Loss: 177.94\n",
      "Epoch 18, Validation Loss: 178.04\n",
      "Epoch 19, Validation Loss: 177.66\n",
      "Epoch 20, Validation Loss: 177.98\n",
      "Epoch 21, Validation Loss: 177.33\n",
      "Epoch 22, Validation Loss: 177.90\n",
      "Epoch 23, Validation Loss: 176.75\n",
      "Epoch 24, Validation Loss: 177.45\n",
      "Epoch 25, Validation Loss: 177.83\n",
      "Epoch 26, Validation Loss: 177.81\n",
      "Epoch 27, Validation Loss: 177.85\n",
      "Epoch 28, Validation Loss: 177.88\n",
      "Epoch 29, Validation Loss: 177.40\n",
      "Epoch 30, Validation Loss: 177.02\n",
      "Epoch 31, Validation Loss: 178.51\n",
      "Epoch 32, Validation Loss: 177.30\n",
      "Epoch 33, Validation Loss: 177.42\n",
      "Epoch 34, Validation Loss: 177.63\n",
      "Epoch 35, Validation Loss: 177.45\n",
      "Epoch 36, Validation Loss: 177.64\n",
      "Epoch 37, Validation Loss: 177.46\n",
      "Epoch 38, Validation Loss: 177.24\n",
      "Epoch 39, Validation Loss: 177.52\n",
      "Epoch 40, Validation Loss: 177.46\n",
      "Epoch 41, Validation Loss: 177.54\n",
      "Epoch 42, Validation Loss: 177.70\n",
      "Early stopping at epoch 42\n",
      "Best model loaded.\n",
      "Training complete.\n",
      "The training time is 39.79 sec.\n"
     ]
    }
   ],
   "source": [
    "from src.problem.neuromancer.trainer import trainer\n",
    "# training\n",
    "epochs = 200                    # number of training epochs\n",
    "warmup = 20                     # number of epochs to wait before enacting early stopping policy\n",
    "patience = 20                   # number of epochs with no improvement in eval metric to allow before early stopping\n",
    "optimizer = torch.optim.AdamW(components.parameters(), lr=lr)\n",
    "# create a trainer for the problem\n",
    "my_trainer = trainer(components, loss_fn, optimizer, epochs, patience, warmup, device=\"cuda\")\n",
    "# training for the rounding problem\n",
    "my_trainer.train(loader_train, loader_dev)"
   ]
  },
  {
   "cell_type": "code",
   "execution_count": 21,
   "id": "188c6d47-2e52-418c-ba52-33fed3701736",
   "metadata": {},
   "outputs": [
    {
     "name": "stderr",
     "output_type": "stream",
     "text": [
      "100%|███████████████████████████████████████████████████████████████████████████████| 100/100 [00:00<00:00, 817.75it/s]\n"
     ]
    },
    {
     "name": "stdout",
     "output_type": "stream",
     "text": [
      "          Obj Val  Constraints Viol  Elapsed Time\n",
      "count  100.000000        100.000000    100.000000\n",
      "mean    58.356366          1.314433      0.000624\n",
      "std      5.842820          0.938312      0.000549\n",
      "min     50.238864          0.000000      0.000000\n",
      "25%     52.950223          0.400563      0.000000\n",
      "50%     58.023902          1.221872      0.000999\n",
      "75%     62.673586          2.056539      0.001002\n",
      "max     70.228257          2.929070      0.001509\n",
      "Number of infeasible solution: 86\n"
     ]
    }
   ],
   "source": [
    "from src.heuristic import naive_round\n",
    "params, sols, objvals, conviols, elapseds = [], [], [], [], []\n",
    "for p, a in tqdm(list(zip(p_test, a_test))):\n",
    "    # data point as tensor\n",
    "    datapoints = {\"p\": torch.tensor(np.array([p]), dtype=torch.float32).to(\"cuda\"), \n",
    "                  \"a\": torch.tensor(np.array([a]), dtype=torch.float32).to(\"cuda\"),\n",
    "                  \"name\": \"test\"}\n",
    "    # infer\n",
    "    components.eval()\n",
    "    tick = time.time()\n",
    "    with torch.no_grad():\n",
    "        for comp in components:\n",
    "            datapoints.update(comp(datapoints))\n",
    "    tock = time.time()\n",
    "    # assign params\n",
    "    model.set_param_val({\"p\":p, \"a\":a})\n",
    "    # assign vars\n",
    "    x = datapoints[\"x\"]\n",
    "    for i in range(num_blocks*2):\n",
    "        model.vars[\"x\"][i].value = x[0,i].item()\n",
    "    # get solutions\n",
    "    xval_rel, _ = model.get_val()\n",
    "    xval, objval = naive_round(xval_rel, model)\n",
    "    params.append(list(p)+list(a))\n",
    "    sols.append(list(list(xval.values())[0].values()))\n",
    "    objvals.append(objval)\n",
    "    conviols.append(sum(model.cal_violation()))\n",
    "    elapseds.append(tock - tick)\n",
    "df = pd.DataFrame({\"Param\":params, \"Sol\":sols, \"Obj Val\": objvals, \"Constraints Viol\": conviols, \"Elapsed Time\": elapseds})\n",
    "time.sleep(1)\n",
    "df.to_csv(\"result/rb_pr_50-1.csv\")\n",
    "print(df.describe())\n",
    "print(\"Number of infeasible solution: {}\".format(np.sum(df[\"Constraints Viol\"] > 0)))"
   ]
  },
  {
   "cell_type": "markdown",
   "id": "b5703dbf-2a27-48c9-b34a-4327276c42a1",
   "metadata": {},
   "source": [
    "### STE Rounding"
   ]
  },
  {
   "cell_type": "code",
   "execution_count": 7,
   "id": "4ff86f01-5e86-47fb-b61e-a1354836b26d",
   "metadata": {},
   "outputs": [],
   "source": [
    "# random seed\n",
    "np.random.seed(42)\n",
    "torch.manual_seed(42)\n",
    "torch.cuda.manual_seed(42)"
   ]
  },
  {
   "cell_type": "code",
   "execution_count": 8,
   "id": "44a21c5f-db3d-47b5-b84f-460e6401bfbb",
   "metadata": {},
   "outputs": [],
   "source": [
    "# hyperparameters\n",
    "penalty_weight = 100  # weight of constraint violation penealty\n",
    "hlayers_sol = 5       # number of hidden layers for solution mapping\n",
    "hsize = 16            # width of hidden layers for solution mapping\n",
    "lr = 1e-3             # learning rate"
   ]
  },
  {
   "cell_type": "code",
   "execution_count": 9,
   "id": "30ef9c86-7dc7-4548-ac1d-247ec04a24c8",
   "metadata": {},
   "outputs": [],
   "source": [
    "# set problem\n",
    "import neuromancer as nm\n",
    "from src.problem import nmRosenbrock\n",
    "from src.func.layer import netFC\n",
    "from src.func import roundSTEModel\n",
    "# build neural architecture for the solution map\n",
    "func = nm.modules.blocks.MLP(insize=num_blocks+1, outsize=2*num_blocks, bias=True,\n",
    "                             linear_map=nm.slim.maps[\"linear\"],\n",
    "                             nonlin=nn.ReLU, hsizes=[hsize]*hlayers_sol)\n",
    "smap = nm.system.Node(func, [\"p\", \"a\"], [\"x\"], name=\"smap\")\n",
    "# define rounding model\n",
    "rnd = roundSTEModel(param_keys=[\"p\", \"a\"], var_keys=[\"x\"],  output_keys=[\"x_rnd\"], int_ind=model.int_ind, name=\"round\")\n",
    "# build neuromancer problem for rounding\n",
    "components = nn.ModuleList([smap, rnd]).to(\"cuda\")\n",
    "loss_fn = nmRosenbrock([\"p\", \"a\", \"x_rnd\"], steepness, num_blocks, penalty_weight)"
   ]
  },
  {
   "cell_type": "code",
   "execution_count": 10,
   "id": "18401a84-45d1-4f7b-a932-686550c1b3fe",
   "metadata": {},
   "outputs": [
    {
     "name": "stdout",
     "output_type": "stream",
     "text": [
      "Epoch 0, Validation Loss: 229.21\n",
      "Epoch 1, Validation Loss: 54.34\n",
      "Epoch 2, Validation Loss: 34.81\n",
      "Epoch 3, Validation Loss: 27.14\n",
      "Epoch 4, Validation Loss: 26.12\n",
      "Epoch 5, Validation Loss: 27.36\n",
      "Epoch 6, Validation Loss: 26.06\n",
      "Epoch 7, Validation Loss: 24.06\n",
      "Epoch 8, Validation Loss: 24.20\n",
      "Epoch 9, Validation Loss: 24.05\n",
      "Epoch 10, Validation Loss: 24.00\n",
      "Epoch 11, Validation Loss: 24.52\n",
      "Epoch 12, Validation Loss: 25.52\n",
      "Epoch 13, Validation Loss: 24.21\n",
      "Epoch 14, Validation Loss: 24.32\n",
      "Epoch 15, Validation Loss: 23.93\n",
      "Epoch 16, Validation Loss: 24.04\n",
      "Epoch 17, Validation Loss: 25.36\n",
      "Epoch 18, Validation Loss: 24.35\n",
      "Epoch 19, Validation Loss: 24.03\n",
      "Epoch 20, Validation Loss: 23.97\n",
      "Epoch 21, Validation Loss: 24.95\n",
      "Epoch 22, Validation Loss: 23.81\n",
      "Epoch 23, Validation Loss: 24.14\n",
      "Epoch 24, Validation Loss: 25.13\n",
      "Epoch 25, Validation Loss: 24.18\n",
      "Epoch 26, Validation Loss: 24.24\n",
      "Epoch 27, Validation Loss: 25.23\n",
      "Epoch 28, Validation Loss: 24.03\n",
      "Epoch 29, Validation Loss: 24.17\n",
      "Epoch 30, Validation Loss: 24.24\n",
      "Epoch 31, Validation Loss: 24.10\n",
      "Epoch 32, Validation Loss: 24.17\n",
      "Epoch 33, Validation Loss: 23.92\n",
      "Epoch 34, Validation Loss: 23.73\n",
      "Epoch 35, Validation Loss: 24.11\n",
      "Epoch 36, Validation Loss: 24.17\n",
      "Epoch 37, Validation Loss: 23.82\n",
      "Epoch 38, Validation Loss: 24.69\n",
      "Epoch 39, Validation Loss: 23.91\n",
      "Epoch 40, Validation Loss: 23.90\n",
      "Epoch 41, Validation Loss: 24.03\n",
      "Epoch 42, Validation Loss: 24.19\n",
      "Epoch 43, Validation Loss: 24.48\n",
      "Epoch 44, Validation Loss: 23.88\n",
      "Epoch 45, Validation Loss: 24.01\n",
      "Epoch 46, Validation Loss: 23.92\n",
      "Epoch 47, Validation Loss: 24.08\n",
      "Epoch 48, Validation Loss: 24.29\n",
      "Epoch 49, Validation Loss: 23.86\n",
      "Epoch 50, Validation Loss: 24.12\n",
      "Epoch 51, Validation Loss: 24.25\n",
      "Epoch 52, Validation Loss: 24.39\n",
      "Epoch 53, Validation Loss: 23.90\n",
      "Early stopping at epoch 53\n",
      "Best model loaded.\n",
      "Training complete.\n",
      "The training time is 70.30 sec.\n"
     ]
    }
   ],
   "source": [
    "from src.problem.neuromancer.trainer import trainer\n",
    "# training\n",
    "epochs = 200                    # number of training epochs\n",
    "warmup = 20                     # number of epochs to wait before enacting early stopping policy\n",
    "patience = 20                   # number of epochs with no improvement in eval metric to allow before early stopping\n",
    "optimizer = torch.optim.AdamW(components.parameters(), lr=lr)\n",
    "# create a trainer for the problem\n",
    "my_trainer = trainer(components, loss_fn, optimizer, epochs, patience, warmup, device=\"cuda\")\n",
    "# training for the rounding problem\n",
    "my_trainer.train(loader_train, loader_dev)"
   ]
  },
  {
   "cell_type": "code",
   "execution_count": 11,
   "id": "f9b65cda-f7cc-4b30-be01-13b725adfc07",
   "metadata": {},
   "outputs": [
    {
     "name": "stderr",
     "output_type": "stream",
     "text": [
      "100%|███████████████████████████████████████████████████████████████████████████████| 100/100 [00:00<00:00, 309.15it/s]\n"
     ]
    },
    {
     "name": "stdout",
     "output_type": "stream",
     "text": [
      "          Obj Val  Constraints Viol  Elapsed Time\n",
      "count  100.000000             100.0    100.000000\n",
      "mean    25.072254               0.0      0.001824\n",
      "std      9.977888               0.0      0.001264\n",
      "min      6.493151               0.0      0.000000\n",
      "25%     17.437518               0.0      0.001002\n",
      "50%     25.276055               0.0      0.001999\n",
      "75%     31.784205               0.0      0.002047\n",
      "max     49.411275               0.0      0.011654\n",
      "Number of infeasible solution: 0\n"
     ]
    }
   ],
   "source": [
    "from src.heuristic import naive_round\n",
    "params, sols, objvals, conviols, elapseds = [], [], [], [], []\n",
    "for p, a in tqdm(list(zip(p_test, a_test))):\n",
    "    # data point as tensor\n",
    "    datapoints = {\"p\": torch.tensor(np.array([p]), dtype=torch.float32).to(\"cuda\"), \n",
    "                  \"a\": torch.tensor(np.array([a]), dtype=torch.float32).to(\"cuda\"),\n",
    "                  \"name\": \"test\"}\n",
    "    # infer\n",
    "    components.eval()\n",
    "    tick = time.time()\n",
    "    with torch.no_grad():\n",
    "        for comp in components:\n",
    "            datapoints.update(comp(datapoints))\n",
    "    tock = time.time()\n",
    "    # assign params\n",
    "    model.set_param_val({\"p\":p, \"a\":a})\n",
    "    # assign vars\n",
    "    x = datapoints[\"x\"]\n",
    "    for i in range(num_blocks*2):\n",
    "        model.vars[\"x\"][i].value = x[0,i].item()\n",
    "    # get solutions\n",
    "    xval_rel, _ = model.get_val()\n",
    "    xval, objval = naive_round(xval_rel, model)\n",
    "    params.append(list(p)+list(a))\n",
    "    sols.append(list(list(xval.values())[0].values()))\n",
    "    objvals.append(objval)\n",
    "    conviols.append(sum(model.cal_violation()))\n",
    "    elapseds.append(tock - tick)\n",
    "df = pd.DataFrame({\"Param\":params, \"Sol\":sols, \"Obj Val\": objvals, \"Constraints Viol\": conviols, \"Elapsed Time\": elapseds})\n",
    "time.sleep(1)\n",
    "df.to_csv(\"result/rb_st_50-1.csv\")\n",
    "print(df.describe())\n",
    "print(\"Number of infeasible solution: {}\".format(np.sum(df[\"Constraints Viol\"] > 0)))"
   ]
  },
  {
   "cell_type": "code",
   "execution_count": null,
   "id": "4b8fab7a-9089-41f5-bde8-7b684045c8db",
   "metadata": {},
   "outputs": [],
   "source": []
  }
 ],
 "metadata": {
  "kernelspec": {
   "display_name": "Python 3 (ipykernel)",
   "language": "python",
   "name": "python3"
  },
  "language_info": {
   "codemirror_mode": {
    "name": "ipython",
    "version": 3
   },
   "file_extension": ".py",
   "mimetype": "text/x-python",
   "name": "python",
   "nbconvert_exporter": "python",
   "pygments_lexer": "ipython3",
   "version": "3.10.13"
  }
 },
 "nbformat": 4,
 "nbformat_minor": 5
}
