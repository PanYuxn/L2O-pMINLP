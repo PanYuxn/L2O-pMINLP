{
 "cells": [
  {
   "cell_type": "code",
   "execution_count": 1,
   "id": "be61b914-e1af-43b9-9766-5092593f92dd",
   "metadata": {},
   "outputs": [],
   "source": [
    "import time\n",
    "\n",
    "import numpy as np\n",
    "import pandas as pd\n",
    "import torch\n",
    "from torch import nn\n",
    "from tqdm import tqdm\n",
    "\n",
    "# random seed\n",
    "np.random.seed(42)\n",
    "torch.manual_seed(42)\n",
    "torch.cuda.manual_seed(42)"
   ]
  },
  {
   "cell_type": "code",
   "execution_count": 2,
   "id": "35fe4527-9dbf-48f0-bfb3-62cda59092aa",
   "metadata": {},
   "outputs": [],
   "source": [
    "# turn off warning\n",
    "import logging\n",
    "logging.getLogger('pyomo.core').setLevel(logging.ERROR)"
   ]
  },
  {
   "cell_type": "markdown",
   "id": "c5560447-da9d-4cbe-aab4-538aa11c8ee8",
   "metadata": {},
   "source": [
    "## Problem Setting"
   ]
  },
  {
   "cell_type": "code",
   "execution_count": 3,
   "id": "52363c72-0d20-4c08-bd00-0f62aa73686c",
   "metadata": {},
   "outputs": [],
   "source": [
    "# init\n",
    "steepness = 50     # steepness factor\n",
    "num_blocks = 10000 # number of expression blocks\n",
    "num_data = 1900    # number of data\n",
    "test_size = 100    # number of test size\n",
    "val_size = 1000    # number of validation size\n",
    "train_size = num_data - test_size - val_size"
   ]
  },
  {
   "cell_type": "code",
   "execution_count": 4,
   "id": "21938c00-d73f-4255-bc7c-bce6e8034cf8",
   "metadata": {},
   "outputs": [],
   "source": [
    "# parameters as input data\n",
    "p_low, p_high = 1.0, 8.0\n",
    "a_low, a_high = 0.5, 4.5\n",
    "p_train = np.random.uniform(p_low, p_high, (train_size, 1)).astype(np.float32)\n",
    "p_test  = np.random.uniform(p_low, p_high, (test_size, 1)).astype(np.float32)\n",
    "p_dev   = np.random.uniform(p_low, p_high, (val_size, 1)).astype(np.float32)\n",
    "a_train = np.random.uniform(a_low, a_high, (train_size, num_blocks)).astype(np.float32)\n",
    "a_test  = np.random.uniform(a_low, a_high, (test_size, num_blocks)).astype(np.float32)\n",
    "a_dev   = np.random.uniform(a_low, a_high, (val_size, num_blocks)).astype(np.float32)"
   ]
  },
  {
   "cell_type": "code",
   "execution_count": 5,
   "id": "5ecf81ff-627d-444d-8d90-121c7e20c217",
   "metadata": {},
   "outputs": [],
   "source": [
    "# nm datasets\n",
    "from neuromancer.dataset import DictDataset\n",
    "data_train = DictDataset({\"p\":p_train, \"a\":a_train}, name=\"train\")\n",
    "data_test = DictDataset({\"p\":p_test, \"a\":a_test}, name=\"test\")\n",
    "data_dev = DictDataset({\"p\":p_dev, \"a\":a_dev}, name=\"dev\")\n",
    "# torch dataloaders\n",
    "from torch.utils.data import DataLoader\n",
    "batch_size = 64\n",
    "loader_train = DataLoader(data_train, batch_size, num_workers=0, collate_fn=data_train.collate_fn, shuffle=True)\n",
    "loader_test = DataLoader(data_test, batch_size, num_workers=0, collate_fn=data_test.collate_fn, shuffle=False)\n",
    "loader_dev = DataLoader(data_dev, batch_size, num_workers=0, collate_fn=data_dev.collate_fn, shuffle=True)"
   ]
  },
  {
   "cell_type": "markdown",
   "id": "a2b99751-3a6e-46dc-9e33-fdf68d813034",
   "metadata": {},
   "source": [
    "## Exact Solver"
   ]
  },
  {
   "cell_type": "code",
   "execution_count": 6,
   "id": "f2e7f07c-6a97-44d6-aca7-56f395e0c964",
   "metadata": {},
   "outputs": [],
   "source": [
    "from src.problem import msRosenbrock\n",
    "model = msRosenbrock(steepness, num_blocks, timelimit=60)"
   ]
  },
  {
   "cell_type": "markdown",
   "id": "9819c60c-df5f-41c6-ae83-888c75aa78d7",
   "metadata": {},
   "source": [
    "## Learnable Rounding"
   ]
  },
  {
   "cell_type": "code",
   "execution_count": 7,
   "id": "6c2bdd74-a0d1-4afa-b610-4f29559a5860",
   "metadata": {},
   "outputs": [],
   "source": [
    "# random seed\n",
    "np.random.seed(42)\n",
    "torch.manual_seed(42)\n",
    "torch.cuda.manual_seed(42)"
   ]
  },
  {
   "cell_type": "code",
   "execution_count": 8,
   "id": "536d2d58-67ba-408a-b72a-7c5bd54a5ff4",
   "metadata": {},
   "outputs": [],
   "source": [
    "# hyperparameters\n",
    "penalty_weight = 100  # weight of constraint violation penealty\n",
    "hlayers_sol = 5       # number of hidden layers for solution mapping\n",
    "hlayers_rnd = 4       # number of hidden layers for solution mapping\n",
    "hsize = 1024          # width of hidden layers for solution mapping\n",
    "lr = 1e-3             # learning rate"
   ]
  },
  {
   "cell_type": "code",
   "execution_count": 9,
   "id": "fee1241e-e53a-4cbb-927a-edcdb3537303",
   "metadata": {},
   "outputs": [],
   "source": [
    "# set problem\n",
    "import neuromancer as nm\n",
    "from src.problem import nmRosenbrock\n",
    "from src.func.layer import netFC\n",
    "from src.func import roundGumbelModel\n",
    "# build neural architecture for the solution map\n",
    "func = nm.modules.blocks.MLP(insize=num_blocks+1, outsize=2*num_blocks, bias=True,\n",
    "                             linear_map=nm.slim.maps[\"linear\"],\n",
    "                             nonlin=nn.ReLU, hsizes=[hsize]*hlayers_sol)\n",
    "smap = nm.system.Node(func, [\"p\", \"a\"], [\"x\"], name=\"smap\")\n",
    "# define rounding model\n",
    "layers_rnd = netFC(input_dim=3*num_blocks+1, hidden_dims=[hsize]*hlayers_rnd, output_dim=2*num_blocks)\n",
    "rnd = roundGumbelModel(layers=layers_rnd, param_keys=[\"p\", \"a\"], var_keys=[\"x\"],  output_keys=[\"x_rnd\"], \n",
    "                       int_ind=model.int_ind, continuous_update=True, name=\"round\")\n",
    "# build neuromancer problem for rounding\n",
    "components = nn.ModuleList([smap, rnd]).to(\"cuda\")\n",
    "loss_fn = nmRosenbrock([\"p\", \"a\", \"x_rnd\"], steepness, num_blocks, penalty_weight)"
   ]
  },
  {
   "cell_type": "code",
   "execution_count": 10,
   "id": "e4f10263-5f69-4288-a4e8-8be83929c8d6",
   "metadata": {},
   "outputs": [
    {
     "name": "stdout",
     "output_type": "stream",
     "text": [
      "Epoch 0, Iters 0, Validation Loss: 2593960.00\n",
      "Epoch 0, Iters 0, Validation Loss: 2488881.08\n",
      "Epoch 9, Iters 125, Validation Loss: 2129144.11\n",
      "Epoch 19, Iters 250, Validation Loss: 1224099.52\n",
      "Epoch 28, Iters 375, Validation Loss: 559810.75\n",
      "Epoch 38, Iters 500, Validation Loss: 930623.59\n",
      "Epoch 48, Iters 625, Validation Loss: 526536.28\n",
      "Epoch 57, Iters 750, Validation Loss: 986563.63\n",
      "Epoch 67, Iters 875, Validation Loss: 752352.49\n",
      "Epoch 76, Iters 1000, Validation Loss: 729822.38\n",
      "Epoch 86, Iters 1125, Validation Loss: 718849.00\n",
      "Epoch 96, Iters 1250, Validation Loss: 625624.13\n",
      "Epoch 105, Iters 1375, Validation Loss: 691524.22\n",
      "Epoch 115, Iters 1500, Validation Loss: 933999.18\n",
      "Epoch 125, Iters 1625, Validation Loss: 547130.26\n",
      "Epoch 134, Iters 1750, Validation Loss: 729461.79\n",
      "Epoch 144, Iters 1875, Validation Loss: 476283.30\n",
      "Epoch 153, Iters 2000, Validation Loss: 16695263729471486.00\n",
      "Epoch 163, Iters 2125, Validation Loss: 461025.56\n",
      "Epoch 173, Iters 2250, Validation Loss: 797138.93\n",
      "Epoch 182, Iters 2375, Validation Loss: 815368.11\n",
      "Epoch 192, Iters 2500, Validation Loss: 540234.53\n",
      "Epoch 201, Iters 2625, Validation Loss: 485823.59\n",
      "Epoch 211, Iters 2750, Validation Loss: 606159.01\n",
      "Epoch 221, Iters 2875, Validation Loss: 470598.73\n",
      "Epoch 230, Iters 3000, Validation Loss: 515686.80\n",
      "Epoch 240, Iters 3125, Validation Loss: 555720.18\n",
      "Epoch 250, Iters 3250, Validation Loss: 448756.87\n",
      "Epoch 259, Iters 3375, Validation Loss: 562827.50\n",
      "Epoch 269, Iters 3500, Validation Loss: 822479.43\n",
      "Epoch 278, Iters 3625, Validation Loss: 557679.58\n",
      "Epoch 288, Iters 3750, Validation Loss: 535202.55\n",
      "Epoch 298, Iters 3875, Validation Loss: 586686.73\n",
      "Epoch 307, Iters 4000, Validation Loss: 563574.54\n",
      "Epoch 317, Iters 4125, Validation Loss: 611274.33\n",
      "Epoch 326, Iters 4250, Validation Loss: 823325.90\n",
      "Epoch 336, Iters 4375, Validation Loss: 434123.06\n",
      "Epoch 346, Iters 4500, Validation Loss: 579884.66\n",
      "Epoch 355, Iters 4625, Validation Loss: 446996.91\n",
      "Epoch 365, Iters 4750, Validation Loss: 1226821.62\n",
      "Epoch 375, Iters 4875, Validation Loss: 464041.57\n",
      "Epoch 384, Iters 5000, Validation Loss: 446438.21\n",
      "Epoch 394, Iters 5125, Validation Loss: 484949.87\n",
      "Epoch 403, Iters 5250, Validation Loss: 2243678073.00\n",
      "Epoch 413, Iters 5375, Validation Loss: 525730.73\n",
      "Epoch 423, Iters 5500, Validation Loss: 458989.18\n",
      "Epoch 432, Iters 5625, Validation Loss: 537394.50\n",
      "Epoch 442, Iters 5750, Validation Loss: 645649.19\n",
      "Epoch 451, Iters 5875, Validation Loss: 477169.98\n",
      "Epoch 461, Iters 6000, Validation Loss: 526451.33\n",
      "Epoch 471, Iters 6125, Validation Loss: 473569.25\n",
      "Epoch 480, Iters 6250, Validation Loss: 454505.04\n",
      "Epoch 490, Iters 6375, Validation Loss: 419769.43\n",
      "Epoch 500, Iters 6500, Validation Loss: 575620.08\n",
      "Epoch 509, Iters 6625, Validation Loss: 537896.68\n",
      "Epoch 519, Iters 6750, Validation Loss: 565792.86\n",
      "Epoch 528, Iters 6875, Validation Loss: 757820.53\n",
      "Epoch 538, Iters 7000, Validation Loss: 449148.65\n",
      "Epoch 548, Iters 7125, Validation Loss: 700797.84\n",
      "Epoch 557, Iters 7250, Validation Loss: 818141.53\n",
      "Epoch 567, Iters 7375, Validation Loss: 464397.25\n",
      "Epoch 576, Iters 7500, Validation Loss: 726137.39\n",
      "Epoch 586, Iters 7625, Validation Loss: 498960.30\n",
      "Epoch 596, Iters 7750, Validation Loss: 497446.37\n",
      "Epoch 605, Iters 7875, Validation Loss: 483944.53\n",
      "Epoch 615, Iters 8000, Validation Loss: 483661.27\n",
      "Epoch 625, Iters 8125, Validation Loss: 488772.07\n",
      "Epoch 634, Iters 8250, Validation Loss: 468729.04\n",
      "Epoch 644, Iters 8375, Validation Loss: 490201.26\n",
      "Epoch 653, Iters 8500, Validation Loss: 594274.96\n",
      "Epoch 663, Iters 8625, Validation Loss: 431153.68\n",
      "Epoch 673, Iters 8750, Validation Loss: 423634.62\n",
      "Epoch 682, Iters 8875, Validation Loss: 571598.07\n",
      "Early stopping at iters 8875\n",
      "Best model loaded.\n",
      "Training complete.\n",
      "The training time is 756.06 sec.\n"
     ]
    }
   ],
   "source": [
    "from src.problem.neuromancer.trainer import trainer\n",
    "# training\n",
    "epochs = 2000                   # number of training epochs\n",
    "warmup = 20                     # number of epochs to wait before enacting early stopping policy\n",
    "patience = 20                   # number of epochs with no improvement in eval metric to allow before early stopping\n",
    "optimizer = torch.optim.AdamW(components.parameters(), lr=lr)\n",
    "# create a trainer for the problem\n",
    "my_trainer = trainer(components, loss_fn, optimizer, epochs=epochs, patience=patience, warmup=warmup, device=\"cuda\")\n",
    "# training for the rounding problem\n",
    "my_trainer.train(loader_train, loader_dev)"
   ]
  },
  {
   "cell_type": "code",
   "execution_count": 11,
   "id": "3e835084-eb75-45d9-bcbd-5fb4c613fb41",
   "metadata": {},
   "outputs": [
    {
     "name": "stderr",
     "output_type": "stream",
     "text": [
      "100%|████████████████████████████████████████████████████████████████████████████████| 100/100 [02:15<00:00,  1.36s/it]\n"
     ]
    },
    {
     "name": "stdout",
     "output_type": "stream",
     "text": [
      "             Obj Val  Constraints Viol  Elapsed Time\n",
      "count     100.000000        100.000000    100.000000\n",
      "mean    72449.432886       3433.923407      0.044664\n",
      "std     36211.604011       4948.320562      0.005374\n",
      "min     47495.155585          0.000000      0.009496\n",
      "25%     53138.285618          0.000000      0.043859\n",
      "50%     58397.182506          0.000000      0.044585\n",
      "75%     70865.626663       5857.633834      0.046516\n",
      "max    229664.551877      17641.775468      0.052648\n",
      "Number of infeasible solution: 48\n"
     ]
    }
   ],
   "source": [
    "params, sols, objvals, conviols, elapseds = [], [], [], [], []\n",
    "for p, a in tqdm(list(zip(p_test, a_test))):\n",
    "    # data point as tensor\n",
    "    datapoints = {\"p\": torch.tensor(np.array([p]), dtype=torch.float32).to(\"cuda\"), \n",
    "                  \"a\": torch.tensor(np.array([a]), dtype=torch.float32).to(\"cuda\"),\n",
    "                  \"name\": \"test\"}\n",
    "    # infer\n",
    "    components.eval()\n",
    "    tick = time.time()\n",
    "    with torch.no_grad():\n",
    "        for comp in components:\n",
    "            datapoints.update(comp(datapoints))\n",
    "    tock = time.time()\n",
    "    # assign params\n",
    "    model.set_param_val({\"p\":p, \"a\":a})\n",
    "    # assign vars\n",
    "    x = datapoints[\"x_rnd\"]\n",
    "    for i in range(2*num_blocks):\n",
    "        model.vars[\"x\"][i].value = x[0,i].item()\n",
    "    # get solutions\n",
    "    xval, objval = model.get_val()    \n",
    "    params.append(list(p)+list(a))\n",
    "    sols.append(list(list(xval.values())[0].values()))\n",
    "    objvals.append(objval)\n",
    "    conviols.append(sum(model.cal_violation()))\n",
    "    elapseds.append(tock - tick)\n",
    "df = pd.DataFrame({\"Param\":params, \"Sol\":sols, \"Obj Val\": objvals, \"Constraints Viol\": conviols, \"Elapsed Time\": elapseds})\n",
    "time.sleep(1)\n",
    "df.to_csv(\"result/rb_lr_50-10000_s.csv\")\n",
    "time.sleep(1)\n",
    "print(df.describe())\n",
    "print(\"Number of infeasible solution: {}\".format(np.sum(df[\"Constraints Viol\"] > 0)))"
   ]
  },
  {
   "cell_type": "markdown",
   "id": "2dbf8a72-29b9-49c4-b3c1-0d68895c1c1f",
   "metadata": {},
   "source": [
    "## Learnable Threshold"
   ]
  },
  {
   "cell_type": "code",
   "execution_count": 12,
   "id": "7912a689-22cd-4d7b-a50f-d136dbdf5940",
   "metadata": {},
   "outputs": [],
   "source": [
    "# random seed\n",
    "np.random.seed(42)\n",
    "torch.manual_seed(42)\n",
    "torch.cuda.manual_seed(42)"
   ]
  },
  {
   "cell_type": "code",
   "execution_count": 13,
   "id": "d46b9817-87ac-4af0-b387-b10c9a4998f4",
   "metadata": {},
   "outputs": [],
   "source": [
    "# hyperparameters\n",
    "penalty_weight = 100  # weight of constraint violation penealty\n",
    "hlayers_sol = 5       # number of hidden layers for solution mapping\n",
    "hlayers_rnd = 4       # number of hidden layers for solution mapping\n",
    "hsize = 1024          # width of hidden layers for solution mapping\n",
    "lr = 1e-3             # learning rate"
   ]
  },
  {
   "cell_type": "code",
   "execution_count": 14,
   "id": "fa8b147f-39c8-4eb7-bb95-93dd8e4cb1cf",
   "metadata": {},
   "outputs": [],
   "source": [
    "# set problem\n",
    "import neuromancer as nm\n",
    "from src.problem import nmRosenbrock\n",
    "from src.func.layer import netFC\n",
    "from src.func import roundThresholdModel\n",
    "# build neural architecture for the solution map\n",
    "func = nm.modules.blocks.MLP(insize=num_blocks+1, outsize=2*num_blocks, bias=True,\n",
    "                             linear_map=nm.slim.maps[\"linear\"],\n",
    "                             nonlin=nn.ReLU, hsizes=[hsize]*hlayers_sol)\n",
    "smap = nm.system.Node(func, [\"p\", \"a\"], [\"x\"], name=\"smap\")\n",
    "# define rounding model\n",
    "layers_rnd = netFC(input_dim=3*num_blocks+1, hidden_dims=[hsize]*hlayers_rnd, output_dim=2*num_blocks)\n",
    "rnd = roundThresholdModel(layers=layers_rnd, param_keys=[\"p\", \"a\"], var_keys=[\"x\"],  output_keys=[\"x_rnd\"], \n",
    "                          int_ind=model.int_ind, continuous_update=True, name=\"round\")\n",
    "# build neuromancer problem for rounding\n",
    "components = nn.ModuleList([smap, rnd]).to(\"cuda\")\n",
    "loss_fn = nmRosenbrock([\"p\", \"a\", \"x_rnd\"], steepness, num_blocks, penalty_weight)"
   ]
  },
  {
   "cell_type": "code",
   "execution_count": 15,
   "id": "c6f5bb17-8c3c-4dcd-952d-caa1d7c4c4fa",
   "metadata": {},
   "outputs": [
    {
     "name": "stdout",
     "output_type": "stream",
     "text": [
      "Epoch 0, Iters 0, Validation Loss: 2346129.37\n",
      "Epoch 0, Iters 0, Validation Loss: 2819705.66\n",
      "Epoch 9, Iters 125, Validation Loss: 2785860.97\n",
      "Epoch 19, Iters 250, Validation Loss: 735214.20\n",
      "Epoch 28, Iters 375, Validation Loss: 1030815.85\n",
      "Epoch 38, Iters 500, Validation Loss: 807836.52\n",
      "Epoch 48, Iters 625, Validation Loss: 583854.81\n",
      "Epoch 57, Iters 750, Validation Loss: 772999.50\n",
      "Epoch 67, Iters 875, Validation Loss: 844702.51\n",
      "Epoch 76, Iters 1000, Validation Loss: 762409.77\n",
      "Epoch 86, Iters 1125, Validation Loss: 730802.92\n",
      "Epoch 96, Iters 1250, Validation Loss: 623948.41\n",
      "Epoch 105, Iters 1375, Validation Loss: 587150.60\n",
      "Epoch 115, Iters 1500, Validation Loss: 475928.52\n",
      "Epoch 125, Iters 1625, Validation Loss: 499569.58\n",
      "Epoch 134, Iters 1750, Validation Loss: 548668.58\n",
      "Epoch 144, Iters 1875, Validation Loss: 494112.37\n",
      "Epoch 153, Iters 2000, Validation Loss: 689229.23\n",
      "Epoch 163, Iters 2125, Validation Loss: 464080.60\n",
      "Epoch 173, Iters 2250, Validation Loss: 950445.02\n",
      "Epoch 182, Iters 2375, Validation Loss: 573370.59\n",
      "Epoch 192, Iters 2500, Validation Loss: 484026.00\n",
      "Epoch 201, Iters 2625, Validation Loss: 465845.50\n",
      "Epoch 211, Iters 2750, Validation Loss: 470714.12\n",
      "Epoch 221, Iters 2875, Validation Loss: 708070.84\n",
      "Epoch 230, Iters 3000, Validation Loss: 483163.40\n",
      "Epoch 240, Iters 3125, Validation Loss: 486006.77\n",
      "Epoch 250, Iters 3250, Validation Loss: 601404.93\n",
      "Epoch 259, Iters 3375, Validation Loss: 490556.74\n",
      "Epoch 269, Iters 3500, Validation Loss: 614924.34\n",
      "Epoch 278, Iters 3625, Validation Loss: 660762.28\n",
      "Epoch 288, Iters 3750, Validation Loss: 494337.48\n",
      "Epoch 298, Iters 3875, Validation Loss: 553065.53\n",
      "Epoch 307, Iters 4000, Validation Loss: 602131.52\n",
      "Epoch 317, Iters 4125, Validation Loss: 467510.14\n",
      "Epoch 326, Iters 4250, Validation Loss: 642252.51\n",
      "Epoch 336, Iters 4375, Validation Loss: 480422.42\n",
      "Epoch 346, Iters 4500, Validation Loss: 433408.88\n",
      "Epoch 355, Iters 4625, Validation Loss: 945716.04\n",
      "Epoch 365, Iters 4750, Validation Loss: 4524495001475921794352283648.00\n",
      "Epoch 375, Iters 4875, Validation Loss: 466817.43\n",
      "Epoch 384, Iters 5000, Validation Loss: 1938802954232324272685056.00\n",
      "Epoch 394, Iters 5125, Validation Loss: 506327.31\n",
      "Epoch 403, Iters 5250, Validation Loss: 466132.68\n",
      "Epoch 413, Iters 5375, Validation Loss: 464460.97\n",
      "Epoch 423, Iters 5500, Validation Loss: 731432.54\n",
      "Epoch 432, Iters 5625, Validation Loss: 478683.71\n",
      "Epoch 442, Iters 5750, Validation Loss: 589767887564852688334270496768.00\n",
      "Epoch 451, Iters 5875, Validation Loss: 515732.52\n",
      "Epoch 461, Iters 6000, Validation Loss: 490769.39\n",
      "Epoch 471, Iters 6125, Validation Loss: 464857.66\n",
      "Epoch 480, Iters 6250, Validation Loss: 11179232032402194154127360.00\n",
      "Epoch 490, Iters 6375, Validation Loss: 728528.15\n",
      "Epoch 500, Iters 6500, Validation Loss: 510159.19\n",
      "Epoch 509, Iters 6625, Validation Loss: 455598.16\n",
      "Epoch 519, Iters 6750, Validation Loss: 449551.37\n",
      "Epoch 528, Iters 6875, Validation Loss: 721287.99\n",
      "Epoch 538, Iters 7000, Validation Loss: 409192.69\n",
      "Epoch 548, Iters 7125, Validation Loss: 742732.09\n",
      "Epoch 557, Iters 7250, Validation Loss: 106255523808799152.00\n",
      "Epoch 567, Iters 7375, Validation Loss: 411033.25\n",
      "Epoch 576, Iters 7500, Validation Loss: 440736.76\n",
      "Epoch 586, Iters 7625, Validation Loss: 607425.32\n",
      "Epoch 596, Iters 7750, Validation Loss: 541237.84\n",
      "Epoch 605, Iters 7875, Validation Loss: 760649.34\n",
      "Epoch 615, Iters 8000, Validation Loss: 311650325667062349824.00\n",
      "Epoch 625, Iters 8125, Validation Loss: 4401828757504.00\n",
      "Epoch 634, Iters 8250, Validation Loss: 601803.18\n",
      "Epoch 644, Iters 8375, Validation Loss: 469521.89\n",
      "Epoch 653, Iters 8500, Validation Loss: 41551335867759765193746284544.00\n",
      "Epoch 663, Iters 8625, Validation Loss: 539034.42\n",
      "Epoch 673, Iters 8750, Validation Loss: 508514.54\n",
      "Epoch 682, Iters 8875, Validation Loss: 1125457.11\n",
      "Epoch 692, Iters 9000, Validation Loss: 506535.37\n",
      "Epoch 701, Iters 9125, Validation Loss: 607818.32\n",
      "Epoch 711, Iters 9250, Validation Loss: 439185.73\n",
      "Epoch 721, Iters 9375, Validation Loss: 682899.88\n",
      "Epoch 730, Iters 9500, Validation Loss: 595609.59\n",
      "Early stopping at iters 9500\n",
      "Best model loaded.\n",
      "Training complete.\n",
      "The training time is 834.85 sec.\n"
     ]
    }
   ],
   "source": [
    "from src.problem.neuromancer.trainer import trainer\n",
    "# training\n",
    "epochs = 2000                   # number of training epochs\n",
    "warmup = 20                     # number of epochs to wait before enacting early stopping policy\n",
    "patience = 20                   # number of epochs with no improvement in eval metric to allow before early stopping\n",
    "optimizer = torch.optim.AdamW(components.parameters(), lr=lr)\n",
    "# create a trainer for the problem\n",
    "my_trainer = trainer(components, loss_fn, optimizer, epochs=epochs, patience=patience, warmup=warmup, device=\"cuda\")\n",
    "# training for the rounding problem\n",
    "my_trainer.train(loader_train, loader_dev)"
   ]
  },
  {
   "cell_type": "code",
   "execution_count": 16,
   "id": "6584d57e-6b4c-4262-82f5-55735ef17cac",
   "metadata": {},
   "outputs": [
    {
     "name": "stderr",
     "output_type": "stream",
     "text": [
      "100%|████████████████████████████████████████████████████████████████████████████████| 100/100 [02:07<00:00,  1.27s/it]\n"
     ]
    },
    {
     "name": "stdout",
     "output_type": "stream",
     "text": [
      "            Obj Val  Constraints Viol  Elapsed Time\n",
      "count    100.000000        100.000000    100.000000\n",
      "mean   56992.408060       3847.152535      0.043875\n",
      "std    13612.937910       5285.254707      0.006093\n",
      "min    42482.579268          0.000000      0.010987\n",
      "25%    43684.881723          0.000000      0.043915\n",
      "50%    53612.042627          0.000000      0.044486\n",
      "75%    68911.132308       6693.173923      0.045307\n",
      "max    89317.399346      19377.507555      0.050779\n",
      "Number of infeasible solution: 49\n"
     ]
    }
   ],
   "source": [
    "params, sols, objvals, conviols, elapseds = [], [], [], [], []\n",
    "for p, a in tqdm(list(zip(p_test, a_test))):\n",
    "    # data point as tensor\n",
    "    datapoints = {\"p\": torch.tensor(np.array([p]), dtype=torch.float32).to(\"cuda\"), \n",
    "                  \"a\": torch.tensor(np.array([a]), dtype=torch.float32).to(\"cuda\"),\n",
    "                  \"name\": \"test\"}\n",
    "    # infer\n",
    "    components.eval()\n",
    "    tick = time.time()\n",
    "    with torch.no_grad():\n",
    "        for comp in components:\n",
    "            datapoints.update(comp(datapoints))\n",
    "    tock = time.time()\n",
    "    # assign params\n",
    "    model.set_param_val({\"p\":p, \"a\":a})\n",
    "    # assign vars\n",
    "    x = datapoints[\"x_rnd\"]\n",
    "    for i in range(2*num_blocks):\n",
    "        model.vars[\"x\"][i].value = x[0,i].item()\n",
    "    # get solutions\n",
    "    xval, objval = model.get_val()    \n",
    "    params.append(list(p)+list(a))\n",
    "    sols.append(list(list(xval.values())[0].values()))\n",
    "    objvals.append(objval)\n",
    "    conviols.append(sum(model.cal_violation()))\n",
    "    elapseds.append(tock - tick)\n",
    "df = pd.DataFrame({\"Param\":params, \"Sol\":sols, \"Obj Val\": objvals, \"Constraints Viol\": conviols, \"Elapsed Time\": elapseds})\n",
    "time.sleep(1)\n",
    "df.to_csv(\"result/rb_lt_50-10000_s.csv\")\n",
    "time.sleep(1)\n",
    "print(df.describe())\n",
    "print(\"Number of infeasible solution: {}\".format(np.sum(df[\"Constraints Viol\"] > 0)))"
   ]
  },
  {
   "cell_type": "code",
   "execution_count": null,
   "id": "7f038b4a-7343-4662-88db-78ef4c99a80d",
   "metadata": {},
   "outputs": [],
   "source": []
  }
 ],
 "metadata": {
  "kernelspec": {
   "display_name": "Python 3 (ipykernel)",
   "language": "python",
   "name": "python3"
  },
  "language_info": {
   "codemirror_mode": {
    "name": "ipython",
    "version": 3
   },
   "file_extension": ".py",
   "mimetype": "text/x-python",
   "name": "python",
   "nbconvert_exporter": "python",
   "pygments_lexer": "ipython3",
   "version": "3.10.13"
  }
 },
 "nbformat": 4,
 "nbformat_minor": 5
}
