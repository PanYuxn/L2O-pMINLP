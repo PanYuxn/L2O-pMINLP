{
 "cells": [
  {
   "cell_type": "code",
   "execution_count": 1,
   "id": "be61b914-e1af-43b9-9766-5092593f92dd",
   "metadata": {},
   "outputs": [],
   "source": [
    "import time\n",
    "\n",
    "import numpy as np\n",
    "import pandas as pd\n",
    "import torch\n",
    "from torch import nn\n",
    "from tqdm import tqdm\n",
    "\n",
    "# random seed\n",
    "np.random.seed(42)\n",
    "torch.manual_seed(42)\n",
    "torch.cuda.manual_seed(42)"
   ]
  },
  {
   "cell_type": "code",
   "execution_count": 2,
   "id": "35fe4527-9dbf-48f0-bfb3-62cda59092aa",
   "metadata": {},
   "outputs": [],
   "source": [
    "# turn off warning\n",
    "import logging\n",
    "logging.getLogger('pyomo.core').setLevel(logging.ERROR)"
   ]
  },
  {
   "cell_type": "markdown",
   "id": "c5560447-da9d-4cbe-aab4-538aa11c8ee8",
   "metadata": {},
   "source": [
    "## Problem Setting"
   ]
  },
  {
   "cell_type": "code",
   "execution_count": 3,
   "id": "52363c72-0d20-4c08-bd00-0f62aa73686c",
   "metadata": {},
   "outputs": [],
   "source": [
    "# init\n",
    "num_var = 200     # number of variables\n",
    "num_ineq = 200    # number of constraints\n",
    "num_data = 10000  # number of data\n",
    "test_size = 1000  # number of test size\n",
    "val_size = 1000   # number of validation size\n",
    "train_size = num_data - test_size - val_size"
   ]
  },
  {
   "cell_type": "code",
   "execution_count": 4,
   "id": "21938c00-d73f-4255-bc7c-bce6e8034cf8",
   "metadata": {},
   "outputs": [],
   "source": [
    "# data sample from uniform distribution\n",
    "b_samples = torch.from_numpy(np.random.uniform(-1, 1, size=(num_data, num_ineq))).float()\n",
    "data = {\"b\":b_samples}\n",
    "# data split\n",
    "from src.utlis import data_split\n",
    "data_train, data_test, data_dev = data_split(data, test_size=test_size, val_size=val_size)"
   ]
  },
  {
   "cell_type": "code",
   "execution_count": 5,
   "id": "5ecf81ff-627d-444d-8d90-121c7e20c217",
   "metadata": {},
   "outputs": [],
   "source": [
    "# torch dataloaders\n",
    "from torch.utils.data import DataLoader\n",
    "batch_size = 64\n",
    "loader_train = DataLoader(data_train, batch_size, num_workers=0, collate_fn=data_train.collate_fn, shuffle=True)\n",
    "loader_test = DataLoader(data_test, batch_size, num_workers=0, collate_fn=data_test.collate_fn, shuffle=False)\n",
    "loader_dev = DataLoader(data_dev, batch_size, num_workers=0, collate_fn=data_dev.collate_fn, shuffle=False)"
   ]
  },
  {
   "cell_type": "markdown",
   "id": "16ec0a67-54ea-4a9d-b037-0c7c9390e3f9",
   "metadata": {},
   "source": [
    "## Exact Solver"
   ]
  },
  {
   "cell_type": "code",
   "execution_count": 6,
   "id": "50aaabd7-90ed-4628-a1da-c98777868d92",
   "metadata": {},
   "outputs": [],
   "source": [
    "from src.problem import msNonconvex\n",
    "model = msNonconvex(num_var, num_ineq, timelimit=60)"
   ]
  },
  {
   "cell_type": "markdown",
   "id": "9819c60c-df5f-41c6-ae83-888c75aa78d7",
   "metadata": {},
   "source": [
    "## Learnable Rounding"
   ]
  },
  {
   "cell_type": "code",
   "execution_count": 7,
   "id": "6a4fb3e2-9c47-4c10-8116-e94be18ea59c",
   "metadata": {},
   "outputs": [],
   "source": [
    "# random seed\n",
    "np.random.seed(42)\n",
    "torch.manual_seed(42)\n",
    "torch.cuda.manual_seed(42)"
   ]
  },
  {
   "cell_type": "code",
   "execution_count": 8,
   "id": "536d2d58-67ba-408a-b72a-7c5bd54a5ff4",
   "metadata": {},
   "outputs": [],
   "source": [
    "# hyperparameters\n",
    "penalty_weight = 100  # weight of constraint violation penealty\n",
    "hlayers_sol = 5       # number of hidden layers for solution mapping\n",
    "hlayers_rnd = 4       # number of hidden layers for solution mapping\n",
    "hsize = 512           # width of hidden layers for solution mapping\n",
    "lr = 1e-3             # learning rate"
   ]
  },
  {
   "cell_type": "code",
   "execution_count": 9,
   "id": "fee1241e-e53a-4cbb-927a-edcdb3537303",
   "metadata": {},
   "outputs": [],
   "source": [
    "# set problem\n",
    "import neuromancer as nm\n",
    "from src.problem import nmNonconvex\n",
    "from src.func.layer import netFC\n",
    "from src.func import roundGumbelModel\n",
    "# build neural architecture for the solution map\n",
    "func = nm.modules.blocks.MLP(insize=num_ineq, outsize=num_var, bias=True,\n",
    "                             linear_map=nm.slim.maps[\"linear\"],\n",
    "                             nonlin=nn.ReLU, hsizes=[hsize]*hlayers_sol)\n",
    "smap = nm.system.Node(func, [\"b\"], [\"x\"], name=\"smap\")\n",
    "# define rounding model\n",
    "layers_rnd = netFC(input_dim=num_ineq+num_var, hidden_dims=[hsize]*hlayers_rnd, output_dim=num_var)\n",
    "rnd = roundGumbelModel(layers=layers_rnd, param_keys=[\"b\"], var_keys=[\"x\"],  output_keys=[\"x_rnd\"], \n",
    "                       int_ind=model.int_ind, continuous_update=True, name=\"round\")\n",
    "# build neuromancer problem for rounding\n",
    "components = nn.ModuleList([smap, rnd]).to(\"cuda\")\n",
    "loss_fn = nmNonconvex([\"b\", \"x_rnd\"], num_var, num_ineq, penalty_weight)"
   ]
  },
  {
   "cell_type": "code",
   "execution_count": 10,
   "id": "e4f10263-5f69-4288-a4e8-8be83929c8d6",
   "metadata": {},
   "outputs": [
    {
     "name": "stdout",
     "output_type": "stream",
     "text": [
      "Epoch 0, Validation Loss: 9256.14\n",
      "Epoch 1, Validation Loss: 22.58\n",
      "Epoch 2, Validation Loss: 13.68\n",
      "Epoch 3, Validation Loss: 10.55\n",
      "Epoch 4, Validation Loss: 8.57\n",
      "Epoch 5, Validation Loss: 6.48\n",
      "Epoch 6, Validation Loss: 5.98\n",
      "Epoch 7, Validation Loss: 5.64\n",
      "Epoch 8, Validation Loss: 5.94\n",
      "Epoch 9, Validation Loss: 4.52\n",
      "Epoch 10, Validation Loss: 3.94\n",
      "Epoch 11, Validation Loss: 3.48\n",
      "Epoch 12, Validation Loss: 3.19\n",
      "Epoch 13, Validation Loss: 3.40\n",
      "Epoch 14, Validation Loss: 3.06\n",
      "Epoch 15, Validation Loss: 2.91\n",
      "Epoch 16, Validation Loss: 2.35\n",
      "Epoch 17, Validation Loss: 3.85\n",
      "Epoch 18, Validation Loss: 2.64\n",
      "Epoch 19, Validation Loss: 2.57\n",
      "Epoch 20, Validation Loss: 4.44\n",
      "Epoch 21, Validation Loss: 2.81\n",
      "Epoch 22, Validation Loss: 2.47\n",
      "Epoch 23, Validation Loss: 3.29\n",
      "Epoch 24, Validation Loss: 2.09\n",
      "Epoch 25, Validation Loss: 2.46\n",
      "Epoch 26, Validation Loss: 2.32\n",
      "Epoch 27, Validation Loss: 2.15\n",
      "Epoch 28, Validation Loss: 1.83\n",
      "Epoch 29, Validation Loss: 2.08\n",
      "Epoch 30, Validation Loss: 2.98\n",
      "Epoch 31, Validation Loss: 4.84\n",
      "Epoch 32, Validation Loss: 2.57\n",
      "Epoch 33, Validation Loss: 1.95\n",
      "Epoch 34, Validation Loss: 2.56\n",
      "Epoch 35, Validation Loss: 2.96\n",
      "Epoch 36, Validation Loss: 2.92\n",
      "Epoch 37, Validation Loss: 2.30\n",
      "Epoch 38, Validation Loss: 2.22\n",
      "Epoch 39, Validation Loss: 1.91\n",
      "Epoch 40, Validation Loss: 3.23\n",
      "Epoch 41, Validation Loss: 2.99\n",
      "Epoch 42, Validation Loss: 4.13\n",
      "Epoch 43, Validation Loss: 7.28\n",
      "Epoch 44, Validation Loss: 7.36\n",
      "Epoch 45, Validation Loss: 1.73\n",
      "Epoch 46, Validation Loss: 2.25\n",
      "Epoch 47, Validation Loss: 1.95\n",
      "Epoch 48, Validation Loss: 1.90\n",
      "Epoch 49, Validation Loss: 1.89\n",
      "Epoch 50, Validation Loss: 1.81\n",
      "Epoch 51, Validation Loss: 2.84\n",
      "Epoch 52, Validation Loss: 1.69\n",
      "Epoch 53, Validation Loss: 3.77\n",
      "Epoch 54, Validation Loss: 9.56\n",
      "Epoch 55, Validation Loss: 1.72\n",
      "Epoch 56, Validation Loss: 2.84\n",
      "Epoch 57, Validation Loss: 2.04\n",
      "Epoch 58, Validation Loss: 2.98\n",
      "Epoch 59, Validation Loss: 2.03\n",
      "Epoch 60, Validation Loss: 1.77\n",
      "Epoch 61, Validation Loss: 2.16\n",
      "Epoch 62, Validation Loss: 1.91\n",
      "Epoch 63, Validation Loss: 1.78\n",
      "Epoch 64, Validation Loss: 1.78\n",
      "Epoch 65, Validation Loss: 1.83\n",
      "Epoch 66, Validation Loss: 1.91\n",
      "Epoch 67, Validation Loss: 2.12\n",
      "Epoch 68, Validation Loss: 3.34\n",
      "Epoch 69, Validation Loss: 1.92\n",
      "Epoch 70, Validation Loss: 4.27\n",
      "Epoch 71, Validation Loss: 2.24\n",
      "Early stopping at epoch 71\n",
      "Best model loaded.\n",
      "Training complete.\n"
     ]
    }
   ],
   "source": [
    "from src.problem.neuromancer.trainer import trainer\n",
    "# training\n",
    "epochs = 200                    # number of training epochs\n",
    "warmup = 20                     # number of epochs to wait before enacting early stopping policy\n",
    "patience = 20                   # number of epochs with no improvement in eval metric to allow before early stopping\n",
    "optimizer = torch.optim.AdamW(components.parameters(), lr=lr)\n",
    "# create a trainer for the problem\n",
    "my_trainer = trainer(components, loss_fn, optimizer, epochs, patience, warmup, device=\"cuda\")\n",
    "# training for the rounding problem\n",
    "my_trainer.train(loader_train, loader_dev)"
   ]
  },
  {
   "cell_type": "code",
   "execution_count": 11,
   "id": "3e835084-eb75-45d9-bcbd-5fb4c613fb41",
   "metadata": {},
   "outputs": [
    {
     "name": "stderr",
     "output_type": "stream",
     "text": [
      "100%|██████████████████████████████████████████████████████████████████████████████| 1000/1000 [02:07<00:00,  7.87it/s]\n"
     ]
    },
    {
     "name": "stdout",
     "output_type": "stream",
     "text": [
      "           Obj Val  Constraints Viol  Elapsed Time\n",
      "count  1000.000000            1000.0   1000.000000\n",
      "mean      1.688222               0.0      0.004466\n",
      "std       0.002877               0.0      0.002850\n",
      "min       1.659201               0.0      0.001999\n",
      "25%       1.688158               0.0      0.003052\n",
      "50%       1.688158               0.0      0.003609\n",
      "75%       1.688158               0.0      0.004612\n",
      "max       1.774068               0.0      0.035404\n",
      "Number of infeasible solution: 0\n"
     ]
    }
   ],
   "source": [
    "params, sols, objvals, conviols, elapseds = [], [], [], [], []\n",
    "for b in tqdm(data_test.datadict[\"b\"]):\n",
    "    # data point as tensor\n",
    "    datapoints = {\"b\": torch.unsqueeze(b, 0).to(\"cuda\"), \n",
    "                  \"name\": \"test\"}\n",
    "    # infer\n",
    "    components.eval()\n",
    "    tick = time.time()\n",
    "    with torch.no_grad():\n",
    "        for comp in components:\n",
    "            datapoints.update(comp(datapoints))\n",
    "    tock = time.time()\n",
    "    # assign params\n",
    "    model.set_param_val({\"b\":b.cpu().numpy()})\n",
    "    # assign vars\n",
    "    x = datapoints[\"x_rnd\"]\n",
    "    for i in range(num_var):\n",
    "        model.vars[\"x\"][i].value = x[0,i].item()\n",
    "    # get solutions\n",
    "    xval, objval = model.get_val()    \n",
    "    params.append(list(b.cpu().numpy()))\n",
    "    sols.append(list(list(xval.values())[0].values()))\n",
    "    objvals.append(objval)\n",
    "    conviols.append(sum(model.cal_violation()))\n",
    "    elapseds.append(tock - tick)\n",
    "df = pd.DataFrame({\"Param\":params, \"Sol\":sols, \"Obj Val\": objvals, \"Constraints Viol\": conviols, \"Elapsed Time\": elapseds})\n",
    "time.sleep(1)\n",
    "print(df.describe())\n",
    "print(\"Number of infeasible solution: {}\".format(np.sum(df[\"Constraints Viol\"] > 0)))\n",
    "df.to_csv(\"result/nc_lr_200-200.csv\")"
   ]
  },
  {
   "cell_type": "markdown",
   "id": "2dbf8a72-29b9-49c4-b3c1-0d68895c1c1f",
   "metadata": {},
   "source": [
    "## Learnable Threshold"
   ]
  },
  {
   "cell_type": "code",
   "execution_count": 12,
   "id": "36c57dbb-8dee-4976-8922-82a155fe0128",
   "metadata": {},
   "outputs": [],
   "source": [
    "# random seed\n",
    "np.random.seed(42)\n",
    "torch.manual_seed(42)\n",
    "torch.cuda.manual_seed(42)"
   ]
  },
  {
   "cell_type": "code",
   "execution_count": 13,
   "id": "d46b9817-87ac-4af0-b387-b10c9a4998f4",
   "metadata": {},
   "outputs": [],
   "source": [
    "# hyperparameters\n",
    "penalty_weight = 100  # weight of constraint violation penealty\n",
    "hlayers_sol = 5       # number of hidden layers for solution mapping\n",
    "hlayers_rnd = 4       # number of hidden layers for solution mapping\n",
    "hsize = 512           # width of hidden layers for solution mapping\n",
    "lr = 1e-3             # learning rate"
   ]
  },
  {
   "cell_type": "code",
   "execution_count": 14,
   "id": "fa8b147f-39c8-4eb7-bb95-93dd8e4cb1cf",
   "metadata": {},
   "outputs": [],
   "source": [
    "# set problem\n",
    "import neuromancer as nm\n",
    "from src.problem import nmNonconvex\n",
    "from src.func.layer import netFC\n",
    "from src.func import roundThresholdModel\n",
    "# build neural architecture for the solution map\n",
    "func = nm.modules.blocks.MLP(insize=num_ineq, outsize=num_var, bias=True,\n",
    "                             linear_map=nm.slim.maps[\"linear\"],\n",
    "                             nonlin=nn.ReLU, hsizes=[hsize]*hlayers_sol)\n",
    "smap = nm.system.Node(func, [\"b\"], [\"x\"], name=\"smap\")\n",
    "# define rounding model\n",
    "layers_rnd = netFC(input_dim=num_ineq+num_var, hidden_dims=[hsize]*hlayers_rnd, output_dim=num_var)\n",
    "rnd = roundThresholdModel(layers=layers_rnd, param_keys=[\"b\"], var_keys=[\"x\"],  output_keys=[\"x_rnd\"], \n",
    "                       int_ind=model.int_ind, continuous_update=True, name=\"round\")\n",
    "# build neuromancer problem for rounding\n",
    "components = nn.ModuleList([smap, rnd]).to(\"cuda\")\n",
    "loss_fn = nmNonconvex([\"b\", \"x_rnd\"], num_var, num_ineq, penalty_weight)"
   ]
  },
  {
   "cell_type": "code",
   "execution_count": 15,
   "id": "c6f5bb17-8c3c-4dcd-952d-caa1d7c4c4fa",
   "metadata": {},
   "outputs": [
    {
     "name": "stdout",
     "output_type": "stream",
     "text": [
      "Epoch 0, Validation Loss: 5004.20\n",
      "Epoch 1, Validation Loss: 9.51\n",
      "Epoch 2, Validation Loss: 7.14\n",
      "Epoch 3, Validation Loss: 7.16\n",
      "Epoch 4, Validation Loss: 4.09\n",
      "Epoch 5, Validation Loss: 3.89\n",
      "Epoch 6, Validation Loss: 3.55\n",
      "Epoch 7, Validation Loss: 3.46\n",
      "Epoch 8, Validation Loss: 4.30\n",
      "Epoch 9, Validation Loss: 2.86\n",
      "Epoch 10, Validation Loss: 2.16\n",
      "Epoch 11, Validation Loss: 2.26\n",
      "Epoch 12, Validation Loss: 2.58\n",
      "Epoch 13, Validation Loss: 2.12\n",
      "Epoch 14, Validation Loss: 3.22\n",
      "Epoch 15, Validation Loss: 2.27\n",
      "Epoch 16, Validation Loss: 2.54\n",
      "Epoch 17, Validation Loss: 1.00\n",
      "Epoch 18, Validation Loss: 2.38\n",
      "Epoch 19, Validation Loss: 2.63\n",
      "Epoch 20, Validation Loss: 1.99\n",
      "Epoch 21, Validation Loss: 3.37\n",
      "Epoch 22, Validation Loss: 1.58\n",
      "Epoch 23, Validation Loss: 1.82\n",
      "Epoch 24, Validation Loss: 1.54\n",
      "Epoch 25, Validation Loss: 1.98\n",
      "Epoch 26, Validation Loss: 2.08\n",
      "Epoch 27, Validation Loss: 3.12\n",
      "Epoch 28, Validation Loss: 1.00\n",
      "Epoch 29, Validation Loss: 1.26\n",
      "Epoch 30, Validation Loss: 1.05\n",
      "Epoch 31, Validation Loss: 2.19\n",
      "Epoch 32, Validation Loss: 1.19\n",
      "Epoch 33, Validation Loss: 1.84\n",
      "Epoch 34, Validation Loss: 2.10\n",
      "Epoch 35, Validation Loss: 1.14\n",
      "Epoch 36, Validation Loss: 1.84\n",
      "Epoch 37, Validation Loss: 1.19\n",
      "Epoch 38, Validation Loss: 1.28\n",
      "Epoch 39, Validation Loss: 1.59\n",
      "Epoch 40, Validation Loss: 0.63\n",
      "Epoch 41, Validation Loss: 1.67\n",
      "Epoch 42, Validation Loss: 3.61\n",
      "Epoch 43, Validation Loss: 0.97\n",
      "Epoch 44, Validation Loss: 1.37\n",
      "Epoch 45, Validation Loss: 0.65\n",
      "Epoch 46, Validation Loss: 0.98\n",
      "Epoch 47, Validation Loss: 6.27\n",
      "Epoch 48, Validation Loss: 1.08\n",
      "Epoch 49, Validation Loss: 1.12\n",
      "Epoch 50, Validation Loss: 38.60\n",
      "Epoch 51, Validation Loss: 14.75\n",
      "Epoch 52, Validation Loss: 2.06\n",
      "Epoch 53, Validation Loss: 9.29\n",
      "Epoch 54, Validation Loss: 4.71\n",
      "Epoch 55, Validation Loss: 0.93\n",
      "Epoch 56, Validation Loss: 0.82\n",
      "Epoch 57, Validation Loss: 0.65\n",
      "Epoch 58, Validation Loss: 1.32\n",
      "Epoch 59, Validation Loss: 0.85\n",
      "Early stopping at epoch 59\n",
      "Best model loaded.\n",
      "Training complete.\n"
     ]
    }
   ],
   "source": [
    "from src.problem.neuromancer.trainer import trainer\n",
    "# training\n",
    "epochs = 200                    # number of training epochs\n",
    "warmup = 20                     # number of epochs to wait before enacting early stopping policy\n",
    "patience = 20                   # number of epochs with no improvement in eval metric to allow before early stopping\n",
    "optimizer = torch.optim.AdamW(components.parameters(), lr=lr)\n",
    "# create a trainer for the problem\n",
    "my_trainer = trainer(components, loss_fn, optimizer, epochs, patience, warmup, device=\"cuda\")\n",
    "# training for the rounding problem\n",
    "my_trainer.train(loader_train, loader_dev)"
   ]
  },
  {
   "cell_type": "code",
   "execution_count": 16,
   "id": "6584d57e-6b4c-4262-82f5-55735ef17cac",
   "metadata": {},
   "outputs": [
    {
     "name": "stderr",
     "output_type": "stream",
     "text": [
      "100%|██████████████████████████████████████████████████████████████████████████████| 1000/1000 [02:07<00:00,  7.84it/s]\n"
     ]
    },
    {
     "name": "stdout",
     "output_type": "stream",
     "text": [
      "           Obj Val  Constraints Viol  Elapsed Time\n",
      "count  1000.000000       1000.000000   1000.000000\n",
      "mean      0.496345          0.002339      0.004636\n",
      "std       0.165948          0.027040      0.002798\n",
      "min       0.313944          0.000000      0.001523\n",
      "25%       0.427910          0.000000      0.003104\n",
      "50%       0.463699          0.000000      0.003819\n",
      "75%       0.517549          0.000000      0.005002\n",
      "max       2.401708          0.619919      0.033463\n",
      "Number of infeasible solution: 18\n"
     ]
    }
   ],
   "source": [
    "params, sols, objvals, conviols, elapseds = [], [], [], [], []\n",
    "for b in tqdm(data_test.datadict[\"b\"]):\n",
    "    # data point as tensor\n",
    "    datapoints = {\"b\": torch.unsqueeze(b, 0).to(\"cuda\"), \n",
    "                  \"name\": \"test\"}\n",
    "    # infer\n",
    "    components.eval()\n",
    "    tick = time.time()\n",
    "    with torch.no_grad():\n",
    "        for comp in components:\n",
    "            datapoints.update(comp(datapoints))\n",
    "    tock = time.time()\n",
    "    # assign params\n",
    "    model.set_param_val({\"b\":b.cpu().numpy()})\n",
    "    # assign vars\n",
    "    x = datapoints[\"x_rnd\"]\n",
    "    for i in range(num_var):\n",
    "        model.vars[\"x\"][i].value = x[0,i].item()\n",
    "    # get solutions\n",
    "    xval, objval = model.get_val()    \n",
    "    params.append(list(b.cpu().numpy()))\n",
    "    sols.append(list(list(xval.values())[0].values()))\n",
    "    objvals.append(objval)\n",
    "    conviols.append(sum(model.cal_violation()))\n",
    "    elapseds.append(tock - tick)\n",
    "df = pd.DataFrame({\"Param\":params, \"Sol\":sols, \"Obj Val\": objvals, \"Constraints Viol\": conviols, \"Elapsed Time\": elapseds})\n",
    "time.sleep(1)\n",
    "print(df.describe())\n",
    "print(\"Number of infeasible solution: {}\".format(np.sum(df[\"Constraints Viol\"] > 0)))\n",
    "df.to_csv(\"result/nc_lt_200-200.csv\")"
   ]
  },
  {
   "cell_type": "code",
   "execution_count": null,
   "id": "382a0a8a-d846-4182-ab69-7d618edea9cf",
   "metadata": {},
   "outputs": [],
   "source": []
  }
 ],
 "metadata": {
  "kernelspec": {
   "display_name": "Python 3 (ipykernel)",
   "language": "python",
   "name": "python3"
  },
  "language_info": {
   "codemirror_mode": {
    "name": "ipython",
    "version": 3
   },
   "file_extension": ".py",
   "mimetype": "text/x-python",
   "name": "python",
   "nbconvert_exporter": "python",
   "pygments_lexer": "ipython3",
   "version": "3.10.13"
  }
 },
 "nbformat": 4,
 "nbformat_minor": 5
}
