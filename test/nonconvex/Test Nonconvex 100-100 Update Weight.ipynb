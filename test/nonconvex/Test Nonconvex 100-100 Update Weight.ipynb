{
 "cells": [
  {
   "cell_type": "code",
   "execution_count": 1,
   "id": "be61b914-e1af-43b9-9766-5092593f92dd",
   "metadata": {},
   "outputs": [],
   "source": [
    "import time\n",
    "\n",
    "import numpy as np\n",
    "import pandas as pd\n",
    "import torch\n",
    "from torch import nn\n",
    "from tqdm import tqdm\n",
    "\n",
    "# random seed\n",
    "np.random.seed(42)\n",
    "torch.manual_seed(42)\n",
    "torch.cuda.manual_seed(42)"
   ]
  },
  {
   "cell_type": "code",
   "execution_count": 2,
   "id": "35fe4527-9dbf-48f0-bfb3-62cda59092aa",
   "metadata": {},
   "outputs": [],
   "source": [
    "# turn off warning\n",
    "import logging\n",
    "logging.getLogger('pyomo.core').setLevel(logging.ERROR)"
   ]
  },
  {
   "cell_type": "markdown",
   "id": "c5560447-da9d-4cbe-aab4-538aa11c8ee8",
   "metadata": {},
   "source": [
    "## Problem Setting"
   ]
  },
  {
   "cell_type": "code",
   "execution_count": 3,
   "id": "52363c72-0d20-4c08-bd00-0f62aa73686c",
   "metadata": {},
   "outputs": [],
   "source": [
    "# init\n",
    "num_var = 100     # number of variables\n",
    "num_ineq = 100    # number of constraints\n",
    "num_data = 10000  # number of data\n",
    "test_size = 1000  # number of test size\n",
    "val_size = 1000   # number of validation size\n",
    "train_size = num_data - test_size - val_size"
   ]
  },
  {
   "cell_type": "code",
   "execution_count": 4,
   "id": "21938c00-d73f-4255-bc7c-bce6e8034cf8",
   "metadata": {},
   "outputs": [],
   "source": [
    "# data sample from uniform distribution\n",
    "b_samples = torch.from_numpy(np.random.uniform(-1, 1, size=(num_data, num_ineq))).float()\n",
    "data = {\"b\":b_samples}\n",
    "# data split\n",
    "from src.utlis import data_split\n",
    "data_train, data_test, data_dev = data_split(data, test_size=test_size, val_size=val_size)"
   ]
  },
  {
   "cell_type": "code",
   "execution_count": 5,
   "id": "5ecf81ff-627d-444d-8d90-121c7e20c217",
   "metadata": {},
   "outputs": [],
   "source": [
    "# torch dataloaders\n",
    "from torch.utils.data import DataLoader\n",
    "batch_size = 64\n",
    "loader_train = DataLoader(data_train, batch_size, num_workers=0, collate_fn=data_train.collate_fn, shuffle=True)\n",
    "loader_test = DataLoader(data_test, batch_size, num_workers=0, collate_fn=data_test.collate_fn, shuffle=False)\n",
    "loader_dev = DataLoader(data_dev, batch_size, num_workers=0, collate_fn=data_dev.collate_fn, shuffle=False)"
   ]
  },
  {
   "cell_type": "markdown",
   "id": "16ec0a67-54ea-4a9d-b037-0c7c9390e3f9",
   "metadata": {},
   "source": [
    "## Exact Solver"
   ]
  },
  {
   "cell_type": "code",
   "execution_count": 6,
   "id": "50aaabd7-90ed-4628-a1da-c98777868d92",
   "metadata": {},
   "outputs": [],
   "source": [
    "from src.problem import msNonconvex\n",
    "model = msNonconvex(num_var, num_ineq, timelimit=60)"
   ]
  },
  {
   "cell_type": "markdown",
   "id": "9819c60c-df5f-41c6-ae83-888c75aa78d7",
   "metadata": {},
   "source": [
    "## Learnable Rounding"
   ]
  },
  {
   "cell_type": "code",
   "execution_count": 7,
   "id": "6a4fb3e2-9c47-4c10-8116-e94be18ea59c",
   "metadata": {},
   "outputs": [],
   "source": [
    "# random seed\n",
    "np.random.seed(42)\n",
    "torch.manual_seed(42)\n",
    "torch.cuda.manual_seed(42)"
   ]
  },
  {
   "cell_type": "code",
   "execution_count": 8,
   "id": "536d2d58-67ba-408a-b72a-7c5bd54a5ff4",
   "metadata": {},
   "outputs": [],
   "source": [
    "# hyperparameters\n",
    "penalty_weight = 100  # weight of constraint violation penealty\n",
    "hlayers_sol = 5       # number of hidden layers for solution mapping\n",
    "hlayers_rnd = 4       # number of hidden layers for solution mapping\n",
    "hsize = 256           # width of hidden layers for solution mapping\n",
    "lr = 1e-3             # learning rate"
   ]
  },
  {
   "cell_type": "code",
   "execution_count": 9,
   "id": "fee1241e-e53a-4cbb-927a-edcdb3537303",
   "metadata": {},
   "outputs": [],
   "source": [
    "# set problem\n",
    "import neuromancer as nm\n",
    "from src.problem import nmNonconvex\n",
    "from src.func.layer import netFC\n",
    "from src.func import roundGumbelModel\n",
    "# build neural architecture for the solution map\n",
    "func = nm.modules.blocks.MLP(insize=num_ineq, outsize=num_var, bias=True,\n",
    "                             linear_map=nm.slim.maps[\"linear\"],\n",
    "                             nonlin=nn.ReLU, hsizes=[hsize]*hlayers_sol)\n",
    "smap = nm.system.Node(func, [\"b\"], [\"x\"], name=\"smap\")\n",
    "# define rounding model\n",
    "layers_rnd = netFC(input_dim=num_ineq+num_var, hidden_dims=[hsize]*hlayers_rnd, output_dim=num_var)\n",
    "rnd = roundGumbelModel(layers=layers_rnd, param_keys=[\"b\"], var_keys=[\"x\"],  output_keys=[\"x_rnd\"], \n",
    "                       int_ind=model.int_ind, continuous_update=True, name=\"round\")\n",
    "# build neuromancer problem for rounding\n",
    "components = nn.ModuleList([smap, rnd]).to(\"cuda\")\n",
    "loss_fn = nmNonconvex([\"b\", \"x_rnd\"], num_var, num_ineq, penalty_weight)"
   ]
  },
  {
   "cell_type": "code",
   "execution_count": 10,
   "id": "e4f10263-5f69-4288-a4e8-8be83929c8d6",
   "metadata": {},
   "outputs": [
    {
     "name": "stdout",
     "output_type": "stream",
     "text": [
      "Epoch 0, Validation Loss: 3603.58\n",
      "Epoch 1, Validation Loss: 7.49\n",
      "Epoch 2, Validation Loss: 4.89\n",
      "Epoch 3, Validation Loss: 6.27\n",
      "Epoch 4, Validation Loss: 6.61\n",
      "Epoch 5, Validation Loss: 4.04\n",
      "Epoch 6, Validation Loss: 4.50\n",
      "Epoch 7, Validation Loss: 4.35\n",
      "Epoch 8, Validation Loss: 4.31\n",
      "Epoch 9, Validation Loss: 3.60\n",
      "Epoch 10, Validation Loss: 3.97\n",
      "Epoch 11, Validation Loss: 3.52\n",
      "Epoch 12, Validation Loss: 2.95\n",
      "Epoch 13, Validation Loss: 3.02\n",
      "Epoch 14, Validation Loss: 4.51\n",
      "Epoch 15, Validation Loss: 3.38\n",
      "Epoch 16, Validation Loss: 2.92\n",
      "Epoch 17, Validation Loss: 3.61\n",
      "Epoch 18, Validation Loss: 2.72\n",
      "Epoch 19, Validation Loss: 2.59\n",
      "Epoch 20, Validation Loss: 3.34\n",
      "Epoch 21, Validation Loss: 2.60\n",
      "Epoch 22, Validation Loss: 2.74\n",
      "Epoch 23, Validation Loss: 2.97\n",
      "Epoch 24, Validation Loss: 2.40\n",
      "Epoch 25, Validation Loss: 3.43\n",
      "Epoch 26, Validation Loss: 2.46\n",
      "Epoch 27, Validation Loss: 3.80\n",
      "Epoch 28, Validation Loss: 2.36\n",
      "Epoch 29, Validation Loss: 7.78\n",
      "Epoch 30, Validation Loss: 2.09\n",
      "Epoch 31, Validation Loss: 11.17\n",
      "Epoch 32, Validation Loss: 2.70\n",
      "Epoch 33, Validation Loss: 2.73\n",
      "Epoch 34, Validation Loss: 3.24\n",
      "Epoch 35, Validation Loss: 2.50\n",
      "Epoch 36, Validation Loss: 2.31\n",
      "Epoch 37, Validation Loss: 5.50\n",
      "Epoch 38, Validation Loss: 2.80\n",
      "Epoch 39, Validation Loss: 5.20\n",
      "Epoch 40, Validation Loss: 3.38\n",
      "Epoch 41, Validation Loss: 2.28\n",
      "Epoch 42, Validation Loss: 2.23\n",
      "Epoch 43, Validation Loss: 3.67\n",
      "Epoch 44, Validation Loss: 2.52\n",
      "Epoch 45, Validation Loss: 2.46\n",
      "Epoch 46, Validation Loss: 3.87\n",
      "Epoch 47, Validation Loss: 2.69\n",
      "Epoch 48, Validation Loss: 2.98\n",
      "Epoch 49, Validation Loss: 2.52\n",
      "Epoch 50, Validation Loss: 3.15\n",
      "Epoch 51, Validation Loss: 2.98\n",
      "Epoch 52, Validation Loss: 3.06\n",
      "Epoch 53, Validation Loss: 2.49\n",
      "Epoch 54, Validation Loss: 2.23\n",
      "Epoch 55, Validation Loss: 2.97\n",
      "Epoch 56, Validation Loss: 4.79\n",
      "Epoch 57, Validation Loss: 3.04\n",
      "Epoch 58, Validation Loss: 3.21\n",
      "Epoch 59, Validation Loss: 2.86\n",
      "Epoch 60, Validation Loss: 2.48\n",
      "Epoch 61, Validation Loss: 2.29\n",
      "Epoch 62, Validation Loss: 2.99\n",
      "Epoch 63, Validation Loss: 2.45\n",
      "Epoch 64, Validation Loss: 2.52\n",
      "Epoch 65, Validation Loss: 8.33\n",
      "Epoch 66, Validation Loss: 5.51\n",
      "Epoch 67, Validation Loss: 3.18\n",
      "Epoch 68, Validation Loss: 2.45\n",
      "Epoch 69, Validation Loss: 2.84\n",
      "Epoch 70, Validation Loss: 2.03\n",
      "Epoch 71, Validation Loss: 5.13\n",
      "Epoch 72, Validation Loss: 3.76\n",
      "Epoch 73, Validation Loss: 2.45\n",
      "Epoch 74, Validation Loss: 3.26\n",
      "Epoch 75, Validation Loss: 4.55\n",
      "Epoch 76, Validation Loss: 2.75\n",
      "Epoch 77, Validation Loss: 1.78\n",
      "Epoch 78, Validation Loss: 2.19\n",
      "Epoch 79, Validation Loss: 2.81\n",
      "Epoch 80, Validation Loss: 1.92\n",
      "Epoch 81, Validation Loss: 2.19\n",
      "Epoch 82, Validation Loss: 1.89\n",
      "Epoch 83, Validation Loss: 10.05\n",
      "Epoch 84, Validation Loss: 2.01\n",
      "Epoch 85, Validation Loss: 2.65\n",
      "Epoch 86, Validation Loss: 2.09\n",
      "Epoch 87, Validation Loss: 2.14\n",
      "Epoch 88, Validation Loss: 17.15\n",
      "Epoch 89, Validation Loss: 4.37\n",
      "Epoch 90, Validation Loss: 2.23\n",
      "Epoch 91, Validation Loss: 2.26\n",
      "Epoch 92, Validation Loss: 1.88\n",
      "Epoch 93, Validation Loss: 2.81\n",
      "Epoch 94, Validation Loss: 28.88\n",
      "Epoch 95, Validation Loss: 7.32\n",
      "Epoch 96, Validation Loss: 2.06\n",
      "Early stopping at epoch 96\n",
      "Best model loaded.\n",
      "Training complete.\n",
      "The training time is 173.74 sec.\n"
     ]
    }
   ],
   "source": [
    "from src.problem.neuromancer.trainer import trainer\n",
    "# training\n",
    "epochs = 200                    # number of training epochs\n",
    "growth_rate = 1.05              # growth rate of penalty weight\n",
    "warmup = 50                     # number of epochs to wait before enacting early stopping policy\n",
    "patience = 20                   # number of epochs with no improvement in eval metric to allow before early stopping\n",
    "optimizer = torch.optim.AdamW(components.parameters(), lr=lr)\n",
    "# create a trainer for the problem\n",
    "my_trainer = trainer(components, loss_fn, optimizer, epochs, growth_rate, patience, warmup, device=\"cuda\")\n",
    "# training for the rounding problem\n",
    "my_trainer.train(loader_train, loader_dev)"
   ]
  },
  {
   "cell_type": "code",
   "execution_count": 11,
   "id": "3e835084-eb75-45d9-bcbd-5fb4c613fb41",
   "metadata": {},
   "outputs": [
    {
     "name": "stderr",
     "output_type": "stream",
     "text": [
      "100%|████████████████████████████████████████████████████████████████████████████████| 100/100 [00:04<00:00, 22.36it/s]\n"
     ]
    },
    {
     "name": "stdout",
     "output_type": "stream",
     "text": [
      "          Obj Val  Constraints Viol  Elapsed Time\n",
      "count  100.000000             100.0    100.000000\n",
      "mean     1.772798               0.0      0.003803\n",
      "std      0.159951               0.0      0.001082\n",
      "min      1.706022               0.0      0.002005\n",
      "25%      1.709342               0.0      0.003000\n",
      "50%      1.718283               0.0      0.003573\n",
      "75%      1.772511               0.0      0.004508\n",
      "max      2.726405               0.0      0.008511\n",
      "Number of infeasible solution: 0\n"
     ]
    }
   ],
   "source": [
    "params, sols, objvals, conviols, elapseds = [], [], [], [], []\n",
    "for b in tqdm(data_test.datadict[\"b\"][:100]):\n",
    "    # data point as tensor\n",
    "    datapoints = {\"b\": torch.unsqueeze(b, 0).to(\"cuda\"), \n",
    "                  \"name\": \"test\"}\n",
    "    # infer\n",
    "    components.eval()\n",
    "    tick = time.time()\n",
    "    with torch.no_grad():\n",
    "        for comp in components:\n",
    "            datapoints.update(comp(datapoints))\n",
    "    tock = time.time()\n",
    "    # assign params\n",
    "    model.set_param_val({\"b\":b.cpu().numpy()})\n",
    "    # assign vars\n",
    "    x = datapoints[\"x_rnd\"]\n",
    "    for i in range(num_var):\n",
    "        model.vars[\"x\"][i].value = x[0,i].item()\n",
    "    # get solutions\n",
    "    xval, objval = model.get_val()    \n",
    "    params.append(list(b.cpu().numpy()))\n",
    "    sols.append(list(list(xval.values())[0].values()))\n",
    "    objvals.append(objval)\n",
    "    conviols.append(sum(model.cal_violation()))\n",
    "    elapseds.append(tock - tick)\n",
    "df = pd.DataFrame({\"Param\":params, \"Sol\":sols, \"Obj Val\": objvals, \"Constraints Viol\": conviols, \"Elapsed Time\": elapseds})\n",
    "time.sleep(1)\n",
    "print(df.describe())\n",
    "print(\"Number of infeasible solution: {}\".format(np.sum(df[\"Constraints Viol\"] > 0)))\n",
    "df.to_csv(\"result/nc_lr_100-100_g.csv\")"
   ]
  },
  {
   "cell_type": "markdown",
   "id": "2dbf8a72-29b9-49c4-b3c1-0d68895c1c1f",
   "metadata": {},
   "source": [
    "## Learnable Threshold"
   ]
  },
  {
   "cell_type": "code",
   "execution_count": 12,
   "id": "36c57dbb-8dee-4976-8922-82a155fe0128",
   "metadata": {},
   "outputs": [],
   "source": [
    "# random seed\n",
    "np.random.seed(42)\n",
    "torch.manual_seed(42)\n",
    "torch.cuda.manual_seed(42)"
   ]
  },
  {
   "cell_type": "code",
   "execution_count": 13,
   "id": "d46b9817-87ac-4af0-b387-b10c9a4998f4",
   "metadata": {},
   "outputs": [],
   "source": [
    "# hyperparameters\n",
    "penalty_weight = 100  # weight of constraint violation penealty\n",
    "hlayers_sol = 5       # number of hidden layers for solution mapping\n",
    "hlayers_rnd = 4       # number of hidden layers for solution mapping\n",
    "hsize = 256           # width of hidden layers for solution mapping\n",
    "lr = 1e-3             # learning rate"
   ]
  },
  {
   "cell_type": "code",
   "execution_count": 14,
   "id": "fa8b147f-39c8-4eb7-bb95-93dd8e4cb1cf",
   "metadata": {},
   "outputs": [],
   "source": [
    "# set problem\n",
    "import neuromancer as nm\n",
    "from src.problem import nmNonconvex\n",
    "from src.func.layer import netFC\n",
    "from src.func import roundThresholdModel\n",
    "# build neural architecture for the solution map\n",
    "func = nm.modules.blocks.MLP(insize=num_ineq, outsize=num_var, bias=True,\n",
    "                             linear_map=nm.slim.maps[\"linear\"],\n",
    "                             nonlin=nn.ReLU, hsizes=[hsize]*hlayers_sol)\n",
    "smap = nm.system.Node(func, [\"b\"], [\"x\"], name=\"smap\")\n",
    "# define rounding model\n",
    "layers_rnd = netFC(input_dim=num_ineq+num_var, hidden_dims=[hsize]*hlayers_rnd, output_dim=num_var)\n",
    "rnd = roundThresholdModel(layers=layers_rnd, param_keys=[\"b\"], var_keys=[\"x\"],  output_keys=[\"x_rnd\"], \n",
    "                       int_ind=model.int_ind, continuous_update=True, name=\"round\")\n",
    "# build neuromancer problem for rounding\n",
    "components = nn.ModuleList([smap, rnd]).to(\"cuda\")\n",
    "loss_fn = nmNonconvex([\"b\", \"x_rnd\"], num_var, num_ineq, penalty_weight)"
   ]
  },
  {
   "cell_type": "code",
   "execution_count": 15,
   "id": "c6f5bb17-8c3c-4dcd-952d-caa1d7c4c4fa",
   "metadata": {},
   "outputs": [
    {
     "name": "stdout",
     "output_type": "stream",
     "text": [
      "Epoch 0, Validation Loss: 2485.01\n",
      "Epoch 1, Validation Loss: 3.66\n",
      "Epoch 2, Validation Loss: 3.35\n",
      "Epoch 3, Validation Loss: 2.47\n",
      "Epoch 4, Validation Loss: 2.82\n",
      "Epoch 5, Validation Loss: 2.97\n",
      "Epoch 6, Validation Loss: 3.24\n",
      "Epoch 7, Validation Loss: 2.59\n",
      "Epoch 8, Validation Loss: 2.45\n",
      "Epoch 9, Validation Loss: 2.76\n",
      "Epoch 10, Validation Loss: 1.85\n",
      "Epoch 11, Validation Loss: 1.93\n",
      "Epoch 12, Validation Loss: 3.56\n",
      "Epoch 13, Validation Loss: 2.74\n",
      "Epoch 14, Validation Loss: 2.23\n",
      "Epoch 15, Validation Loss: 2.92\n",
      "Epoch 16, Validation Loss: 2.98\n",
      "Epoch 17, Validation Loss: 2.41\n",
      "Epoch 18, Validation Loss: 2.10\n",
      "Epoch 19, Validation Loss: 2.39\n",
      "Epoch 20, Validation Loss: 2.03\n",
      "Epoch 21, Validation Loss: 2.92\n",
      "Epoch 22, Validation Loss: 2.54\n",
      "Epoch 23, Validation Loss: 2.22\n",
      "Epoch 24, Validation Loss: 3.03\n",
      "Epoch 25, Validation Loss: 2.71\n",
      "Epoch 26, Validation Loss: 1.88\n",
      "Epoch 27, Validation Loss: 2.82\n",
      "Epoch 28, Validation Loss: 2.32\n",
      "Epoch 29, Validation Loss: 1.94\n",
      "Epoch 30, Validation Loss: 4.57\n",
      "Epoch 31, Validation Loss: 4.83\n",
      "Epoch 32, Validation Loss: 2.42\n",
      "Epoch 33, Validation Loss: 3.31\n",
      "Epoch 34, Validation Loss: 13.65\n",
      "Epoch 35, Validation Loss: 3.58\n",
      "Epoch 36, Validation Loss: 3.39\n",
      "Epoch 37, Validation Loss: 2.30\n",
      "Epoch 38, Validation Loss: 2.70\n",
      "Epoch 39, Validation Loss: 2.75\n",
      "Epoch 40, Validation Loss: 2.61\n",
      "Epoch 41, Validation Loss: 2.99\n",
      "Epoch 42, Validation Loss: 2.35\n",
      "Epoch 43, Validation Loss: 3.53\n",
      "Epoch 44, Validation Loss: 2.85\n",
      "Epoch 45, Validation Loss: 2.81\n",
      "Epoch 46, Validation Loss: 2.21\n",
      "Epoch 47, Validation Loss: 3.26\n",
      "Epoch 48, Validation Loss: 6.71\n",
      "Epoch 49, Validation Loss: 1.98\n",
      "Epoch 50, Validation Loss: 4.10\n",
      "Epoch 51, Validation Loss: 3.04\n",
      "Epoch 52, Validation Loss: 2.21\n",
      "Epoch 53, Validation Loss: 2.19\n",
      "Epoch 54, Validation Loss: 6.79\n",
      "Epoch 55, Validation Loss: 1.96\n",
      "Epoch 56, Validation Loss: 2.70\n",
      "Epoch 57, Validation Loss: 3.19\n",
      "Epoch 58, Validation Loss: 3.50\n",
      "Epoch 59, Validation Loss: 4.87\n",
      "Epoch 60, Validation Loss: 2.34\n",
      "Epoch 61, Validation Loss: 2.27\n",
      "Epoch 62, Validation Loss: 5.08\n",
      "Epoch 63, Validation Loss: 3.53\n",
      "Epoch 64, Validation Loss: 4.31\n",
      "Epoch 65, Validation Loss: 7.41\n",
      "Epoch 66, Validation Loss: 2.46\n",
      "Epoch 67, Validation Loss: 2.63\n",
      "Epoch 68, Validation Loss: 6.86\n",
      "Epoch 69, Validation Loss: 2.44\n",
      "Epoch 70, Validation Loss: 3.12\n",
      "Epoch 71, Validation Loss: 1.95\n",
      "Epoch 72, Validation Loss: 3.21\n",
      "Epoch 73, Validation Loss: 3.78\n",
      "Epoch 74, Validation Loss: 4.02\n",
      "Epoch 75, Validation Loss: 3.07\n",
      "Epoch 76, Validation Loss: 6.08\n",
      "Epoch 77, Validation Loss: 3.55\n",
      "Epoch 78, Validation Loss: 3.84\n",
      "Epoch 79, Validation Loss: 5.50\n",
      "Epoch 80, Validation Loss: 3.40\n",
      "Epoch 81, Validation Loss: 7.67\n",
      "Epoch 82, Validation Loss: 5.51\n",
      "Epoch 83, Validation Loss: 6.22\n",
      "Epoch 84, Validation Loss: 7.37\n",
      "Epoch 85, Validation Loss: 3.42\n",
      "Epoch 86, Validation Loss: 3.10\n",
      "Epoch 87, Validation Loss: 3.21\n",
      "Epoch 88, Validation Loss: 11.41\n",
      "Epoch 89, Validation Loss: 4.35\n",
      "Epoch 90, Validation Loss: 3.21\n",
      "Early stopping at epoch 90\n",
      "Best model loaded.\n",
      "Training complete.\n",
      "The training time is 146.67 sec.\n"
     ]
    }
   ],
   "source": [
    "from src.problem.neuromancer.trainer import trainer\n",
    "# training\n",
    "epochs = 200                    # number of training epochs\n",
    "growth_rate = 1.05              # growth rate of penalty weight\n",
    "warmup = 50                     # number of epochs to wait before enacting early stopping policy\n",
    "patience = 20                   # number of epochs with no improvement in eval metric to allow before early stopping\n",
    "optimizer = torch.optim.AdamW(components.parameters(), lr=lr)\n",
    "# create a trainer for the problem\n",
    "my_trainer = trainer(components, loss_fn, optimizer, epochs, growth_rate, patience, warmup, device=\"cuda\")\n",
    "# training for the rounding problem\n",
    "my_trainer.train(loader_train, loader_dev)"
   ]
  },
  {
   "cell_type": "code",
   "execution_count": 16,
   "id": "6584d57e-6b4c-4262-82f5-55735ef17cac",
   "metadata": {},
   "outputs": [
    {
     "name": "stderr",
     "output_type": "stream",
     "text": [
      "100%|████████████████████████████████████████████████████████████████████████████████| 100/100 [00:03<00:00, 26.05it/s]\n"
     ]
    },
    {
     "name": "stdout",
     "output_type": "stream",
     "text": [
      "          Obj Val  Constraints Viol  Elapsed Time\n",
      "count  100.000000             100.0    100.000000\n",
      "mean     1.932418               0.0      0.003507\n",
      "std      0.059755               0.0      0.001014\n",
      "min      1.853997               0.0      0.001999\n",
      "25%      1.905374               0.0      0.003000\n",
      "50%      1.916547               0.0      0.003221\n",
      "75%      1.957197               0.0      0.004005\n",
      "max      2.300400               0.0      0.007221\n",
      "Number of infeasible solution: 0\n"
     ]
    }
   ],
   "source": [
    "params, sols, objvals, conviols, elapseds = [], [], [], [], []\n",
    "for b in tqdm(data_test.datadict[\"b\"][:100]):\n",
    "    # data point as tensor\n",
    "    datapoints = {\"b\": torch.unsqueeze(b, 0).to(\"cuda\"), \n",
    "                  \"name\": \"test\"}\n",
    "    # infer\n",
    "    components.eval()\n",
    "    tick = time.time()\n",
    "    with torch.no_grad():\n",
    "        for comp in components:\n",
    "            datapoints.update(comp(datapoints))\n",
    "    tock = time.time()\n",
    "    # assign params\n",
    "    model.set_param_val({\"b\":b.cpu().numpy()})\n",
    "    # assign vars\n",
    "    x = datapoints[\"x_rnd\"]\n",
    "    for i in range(num_var):\n",
    "        model.vars[\"x\"][i].value = x[0,i].item()\n",
    "    # get solutions\n",
    "    xval, objval = model.get_val()    \n",
    "    params.append(list(b.cpu().numpy()))\n",
    "    sols.append(list(list(xval.values())[0].values()))\n",
    "    objvals.append(objval)\n",
    "    conviols.append(sum(model.cal_violation()))\n",
    "    elapseds.append(tock - tick)\n",
    "df = pd.DataFrame({\"Param\":params, \"Sol\":sols, \"Obj Val\": objvals, \"Constraints Viol\": conviols, \"Elapsed Time\": elapseds})\n",
    "time.sleep(1)\n",
    "print(df.describe())\n",
    "print(\"Number of infeasible solution: {}\".format(np.sum(df[\"Constraints Viol\"] > 0)))\n",
    "df.to_csv(\"result/nc_lt_100-100_g.csv\")"
   ]
  },
  {
   "cell_type": "code",
   "execution_count": null,
   "id": "43de7d14-db30-433a-9c70-02a6f4583f31",
   "metadata": {},
   "outputs": [],
   "source": []
  }
 ],
 "metadata": {
  "kernelspec": {
   "display_name": "Python 3 (ipykernel)",
   "language": "python",
   "name": "python3"
  },
  "language_info": {
   "codemirror_mode": {
    "name": "ipython",
    "version": 3
   },
   "file_extension": ".py",
   "mimetype": "text/x-python",
   "name": "python",
   "nbconvert_exporter": "python",
   "pygments_lexer": "ipython3",
   "version": "3.10.13"
  }
 },
 "nbformat": 4,
 "nbformat_minor": 5
}
