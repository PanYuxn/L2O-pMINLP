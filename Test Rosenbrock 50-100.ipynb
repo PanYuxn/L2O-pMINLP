{
 "cells": [
  {
   "cell_type": "code",
   "execution_count": 1,
   "id": "be61b914-e1af-43b9-9766-5092593f92dd",
   "metadata": {},
   "outputs": [],
   "source": [
    "import time\n",
    "\n",
    "import numpy as np\n",
    "import pandas as pd\n",
    "import torch\n",
    "from torch import nn\n",
    "from tqdm import tqdm\n",
    "\n",
    "# random seed\n",
    "np.random.seed(42)\n",
    "torch.manual_seed(42)\n",
    "torch.cuda.manual_seed(42)"
   ]
  },
  {
   "cell_type": "code",
   "execution_count": 2,
   "id": "35fe4527-9dbf-48f0-bfb3-62cda59092aa",
   "metadata": {},
   "outputs": [],
   "source": [
    "# turn off warning\n",
    "import logging\n",
    "logging.getLogger('pyomo.core').setLevel(logging.ERROR)"
   ]
  },
  {
   "cell_type": "markdown",
   "id": "c5560447-da9d-4cbe-aab4-538aa11c8ee8",
   "metadata": {},
   "source": [
    "## Problem Setting"
   ]
  },
  {
   "cell_type": "code",
   "execution_count": 3,
   "id": "52363c72-0d20-4c08-bd00-0f62aa73686c",
   "metadata": {},
   "outputs": [],
   "source": [
    "# init\n",
    "steepness = 50    # steepness factor\n",
    "num_blocks = 100  # number of expression blocks\n",
    "num_data = 5000   # number of data\n",
    "test_size = 1000  # number of test size\n",
    "val_size = 1000   # number of validation size\n",
    "train_size = num_data - test_size - val_size"
   ]
  },
  {
   "cell_type": "code",
   "execution_count": 4,
   "id": "21938c00-d73f-4255-bc7c-bce6e8034cf8",
   "metadata": {},
   "outputs": [],
   "source": [
    "# parameters as input data\n",
    "p_low, p_high = 1.0, 8.0\n",
    "a_low, a_high = 0.5, 4.5\n",
    "p_train = np.random.uniform(p_low, p_high, (train_size, 1)).astype(np.float32)\n",
    "p_test  = np.random.uniform(p_low, p_high, (test_size, 1)).astype(np.float32)\n",
    "p_dev   = np.random.uniform(p_low, p_high, (val_size, 1)).astype(np.float32)\n",
    "a_train = np.random.uniform(a_low, a_high, (train_size, num_blocks)).astype(np.float32)\n",
    "a_test  = np.random.uniform(a_low, a_high, (test_size, num_blocks)).astype(np.float32)\n",
    "a_dev   = np.random.uniform(a_low, a_high, (val_size, num_blocks)).astype(np.float32)"
   ]
  },
  {
   "cell_type": "code",
   "execution_count": 5,
   "id": "5ecf81ff-627d-444d-8d90-121c7e20c217",
   "metadata": {},
   "outputs": [],
   "source": [
    "# nm datasets\n",
    "from neuromancer.dataset import DictDataset\n",
    "data_train = DictDataset({\"p\":p_train, \"a\":a_train}, name=\"train\")\n",
    "data_test = DictDataset({\"p\":p_test, \"a\":a_test}, name=\"test\")\n",
    "data_dev = DictDataset({\"p\":p_dev, \"a\":a_dev}, name=\"dev\")\n",
    "# torch dataloaders\n",
    "from torch.utils.data import DataLoader\n",
    "batch_size = 32\n",
    "loader_train = DataLoader(data_train, batch_size, num_workers=0, collate_fn=data_train.collate_fn, shuffle=True)\n",
    "loader_test = DataLoader(data_test, batch_size, num_workers=0, collate_fn=data_test.collate_fn, shuffle=False)\n",
    "loader_dev = DataLoader(data_dev, batch_size, num_workers=0, collate_fn=data_dev.collate_fn, shuffle=False)"
   ]
  },
  {
   "cell_type": "markdown",
   "id": "16ec0a67-54ea-4a9d-b037-0c7c9390e3f9",
   "metadata": {},
   "source": [
    "## Exact Solver"
   ]
  },
  {
   "cell_type": "code",
   "execution_count": 6,
   "id": "50aaabd7-90ed-4628-a1da-c98777868d92",
   "metadata": {},
   "outputs": [],
   "source": [
    "from src.problem import msRosenbrock\n",
    "model = msRosenbrock(steepness, num_blocks, timelimit=60)"
   ]
  },
  {
   "cell_type": "markdown",
   "id": "96304fbd-08f5-4be7-a81e-83c85332029c",
   "metadata": {},
   "source": [
    "## Heuristic - N1"
   ]
  },
  {
   "cell_type": "code",
   "execution_count": 7,
   "id": "356187af-e02d-4478-bf78-ada6a2e1b94b",
   "metadata": {},
   "outputs": [],
   "source": [
    "model_heur = model.first_solution_heuristic(nodes_limit=1)"
   ]
  },
  {
   "cell_type": "code",
   "execution_count": 8,
   "id": "f4c7fc52-cbbc-4414-bf1d-316d65c8db5b",
   "metadata": {},
   "outputs": [
    {
     "name": "stderr",
     "output_type": "stream",
     "text": [
      "100%|██████████████████████████████████████████████████████████████████████████████| 1000/1000 [07:26<00:00,  2.24it/s]\n"
     ]
    },
    {
     "name": "stdout",
     "output_type": "stream",
     "text": [
      "            Obj Val  Constraints Viol  Elapsed Time\n",
      "count  1.000000e+03            1000.0   1000.000000\n",
      "mean   1.749760e+12               0.0      0.444746\n",
      "std    9.192323e+12               0.0      0.384930\n",
      "min    5.592422e+02               0.0      0.258227\n",
      "25%    7.800283e+02               0.0      0.324432\n",
      "50%    8.790679e+02               0.0      0.366624\n",
      "75%    9.952545e+02               0.0      0.438231\n",
      "max    4.999513e+13               0.0      7.889956\n",
      "Number of infeasible solution: 0\n"
     ]
    }
   ],
   "source": [
    "params, sols, objvals, conviols, elapseds = [], [], [], [], []\n",
    "for p, a in tqdm(list(zip(p_dev, a_dev))):\n",
    "    # set params\n",
    "    model_heur.set_param_val({\"p\":p, \"a\":a})\n",
    "    # solve\n",
    "    tick = time.time()\n",
    "    xval, objval = model_heur.solve(\"scip\")\n",
    "    tock = time.time()\n",
    "    # eval\n",
    "    params.append(list(p)+list(a))\n",
    "    sols.append(list(list(xval.values())[0].values()))\n",
    "    objvals.append(objval)\n",
    "    conviols.append(sum(model_heur.cal_violation()))\n",
    "    elapseds.append(tock - tick)\n",
    "df = pd.DataFrame({\"Param\":params, \"Sol\":sols, \"Obj Val\": objvals, \"Constraints Viol\": conviols, \"Elapsed Time\": elapseds})\n",
    "time.sleep(1)\n",
    "print(df.describe())\n",
    "print(\"Number of infeasible solution: {}\".format(np.sum(df[\"Constraints Viol\"] > 0)))\n",
    "df.to_csv(\"result/rb_heur_n1_50-100.csv\")"
   ]
  },
  {
   "cell_type": "markdown",
   "id": "9819c60c-df5f-41c6-ae83-888c75aa78d7",
   "metadata": {},
   "source": [
    "## Learnable Rounding"
   ]
  },
  {
   "cell_type": "code",
   "execution_count": 7,
   "id": "160d5677-c861-486f-9533-852d43f971bf",
   "metadata": {},
   "outputs": [],
   "source": [
    "# random seed\n",
    "np.random.seed(42)\n",
    "torch.manual_seed(42)\n",
    "torch.cuda.manual_seed(42)"
   ]
  },
  {
   "cell_type": "code",
   "execution_count": 8,
   "id": "536d2d58-67ba-408a-b72a-7c5bd54a5ff4",
   "metadata": {},
   "outputs": [],
   "source": [
    "# hyperparameters\n",
    "penalty_weight = 80   # weight of constraint violation penealty\n",
    "hlayers_sol = 4       # number of hidden layers for solution mapping\n",
    "hlayers_rnd = 4       # number of hidden layers for solution mapping\n",
    "hsize = 256           # width of hidden layers for solution mapping\n",
    "lr = 1e-3             # learning rate"
   ]
  },
  {
   "cell_type": "code",
   "execution_count": 9,
   "id": "fee1241e-e53a-4cbb-927a-edcdb3537303",
   "metadata": {},
   "outputs": [],
   "source": [
    "# set problem\n",
    "import neuromancer as nm\n",
    "from src.problem import nmRosenbrock\n",
    "from src.func.layer import netFC\n",
    "from src.func import roundGumbelModel\n",
    "# build neural architecture for the solution map\n",
    "func = nm.modules.blocks.MLP(insize=num_blocks+1, outsize=2*num_blocks, bias=True,\n",
    "                             linear_map=nm.slim.maps[\"linear\"],\n",
    "                             nonlin=nn.ReLU, hsizes=[hsize]*hlayers_sol)\n",
    "smap = nm.system.Node(func, [\"p\", \"a\"], [\"x\"], name=\"smap\")\n",
    "# define rounding model\n",
    "layers_rnd = netFC(input_dim=3*num_blocks+1, hidden_dims=[hsize]*hlayers_rnd, output_dim=2*num_blocks)\n",
    "rnd = roundGumbelModel(layers=layers_rnd, param_keys=[\"p\", \"a\"], var_keys=[\"x\"],  output_keys=[\"x_rnd\"], \n",
    "                       int_ind=model.int_ind, continuous_update=True, name=\"round\")\n",
    "# build neuromancer problem for rounding\n",
    "components = nn.ModuleList([smap, rnd]).to(\"cuda\")\n",
    "loss_fn = nmRosenbrock([\"p\", \"a\", \"x_rnd\"], steepness, num_blocks, penalty_weight)"
   ]
  },
  {
   "cell_type": "code",
   "execution_count": 10,
   "id": "e4f10263-5f69-4288-a4e8-8be83929c8d6",
   "metadata": {},
   "outputs": [
    {
     "name": "stdout",
     "output_type": "stream",
     "text": [
      "Epoch 0, Validation Loss: 20996.05\n",
      "Epoch 1, Validation Loss: 4016.29\n",
      "Epoch 2, Validation Loss: 1759.47\n",
      "Epoch 3, Validation Loss: 1213.61\n",
      "Epoch 4, Validation Loss: 1522.16\n",
      "Epoch 5, Validation Loss: 1312.35\n",
      "Epoch 6, Validation Loss: 1165.38\n",
      "Epoch 7, Validation Loss: 1032.75\n",
      "Epoch 8, Validation Loss: 1098.03\n",
      "Epoch 9, Validation Loss: 1492.84\n",
      "Epoch 10, Validation Loss: 1189.45\n",
      "Epoch 11, Validation Loss: 831.75\n",
      "Epoch 12, Validation Loss: 845.00\n",
      "Epoch 13, Validation Loss: 885.85\n",
      "Epoch 14, Validation Loss: 662.87\n",
      "Epoch 15, Validation Loss: 820.98\n",
      "Epoch 16, Validation Loss: 756.71\n",
      "Epoch 17, Validation Loss: 650.82\n",
      "Epoch 18, Validation Loss: 665.11\n",
      "Epoch 19, Validation Loss: 884.84\n",
      "Epoch 20, Validation Loss: 730.10\n",
      "Epoch 21, Validation Loss: 614.67\n",
      "Epoch 22, Validation Loss: 644.56\n",
      "Epoch 23, Validation Loss: 720.34\n",
      "Epoch 24, Validation Loss: 749.18\n",
      "Epoch 25, Validation Loss: 666.92\n",
      "Epoch 26, Validation Loss: 606.64\n",
      "Epoch 27, Validation Loss: 566.92\n",
      "Epoch 28, Validation Loss: 766.88\n",
      "Epoch 29, Validation Loss: 723.36\n",
      "Epoch 30, Validation Loss: 664.51\n",
      "Epoch 31, Validation Loss: 715.34\n",
      "Epoch 32, Validation Loss: 656.88\n",
      "Epoch 33, Validation Loss: 648.94\n",
      "Epoch 34, Validation Loss: 617.90\n",
      "Epoch 35, Validation Loss: 598.58\n",
      "Epoch 36, Validation Loss: 601.60\n",
      "Epoch 37, Validation Loss: 912.76\n",
      "Epoch 38, Validation Loss: 682.82\n",
      "Epoch 39, Validation Loss: 795.96\n",
      "Epoch 40, Validation Loss: 665.26\n",
      "Epoch 41, Validation Loss: 721.86\n",
      "Epoch 42, Validation Loss: 694.10\n",
      "Epoch 43, Validation Loss: 633.82\n",
      "Epoch 44, Validation Loss: 729.53\n",
      "Epoch 45, Validation Loss: 898.61\n",
      "Epoch 46, Validation Loss: 1169.38\n",
      "Early stopping at epoch 46\n",
      "Best model loaded.\n",
      "Training complete.\n"
     ]
    }
   ],
   "source": [
    "from src.problem.neuromancer.trainer import trainer\n",
    "# training\n",
    "epochs = 200                    # number of training epochs\n",
    "warmup = 20                     # number of epochs to wait before enacting early stopping policy\n",
    "patience = 20                   # number of epochs with no improvement in eval metric to allow before early stopping\n",
    "optimizer = torch.optim.AdamW(components.parameters(), lr=lr)\n",
    "# create a trainer for the problem\n",
    "my_trainer = trainer(components, loss_fn, optimizer, epochs, patience, warmup, device=\"cuda\")\n",
    "# training for the rounding problem\n",
    "my_trainer.train(loader_train, loader_dev)"
   ]
  },
  {
   "cell_type": "code",
   "execution_count": 11,
   "id": "3e835084-eb75-45d9-bcbd-5fb4c613fb41",
   "metadata": {},
   "outputs": [
    {
     "name": "stderr",
     "output_type": "stream",
     "text": [
      "100%|██████████████████████████████████████████████████████████████████████████████| 1000/1000 [00:16<00:00, 61.71it/s]\n"
     ]
    },
    {
     "name": "stdout",
     "output_type": "stream",
     "text": [
      "           Obj Val  Constraints Viol  Elapsed Time\n",
      "count  1000.000000       1000.000000   1000.000000\n",
      "mean    566.171906          0.029956      0.002884\n",
      "std     204.640706          0.513843      0.000812\n",
      "min     259.581433          0.000000      0.001000\n",
      "25%     369.971996          0.000000      0.002217\n",
      "50%     549.590792          0.000000      0.002999\n",
      "75%     728.124546          0.000000      0.003193\n",
      "max    1358.752855         12.362421      0.008658\n",
      "Number of infeasible solution: 7\n"
     ]
    }
   ],
   "source": [
    "params, sols, objvals, conviols, elapseds = [], [], [], [], []\n",
    "for p, a in tqdm(list(zip(p_dev, a_dev))):\n",
    "    # data point as tensor\n",
    "    datapoints = {\"p\": torch.tensor(np.array([p]), dtype=torch.float32).to(\"cuda\"), \n",
    "                  \"a\": torch.tensor(np.array([a]), dtype=torch.float32).to(\"cuda\"),\n",
    "                  \"name\": \"test\"}\n",
    "    # infer\n",
    "    components.eval()\n",
    "    tick = time.time()\n",
    "    with torch.no_grad():\n",
    "        for comp in components:\n",
    "            datapoints.update(comp(datapoints))\n",
    "    tock = time.time()\n",
    "    # assign params\n",
    "    model.set_param_val({\"p\":p, \"a\":a})\n",
    "    # assign vars\n",
    "    x = datapoints[\"x_rnd\"]\n",
    "    for i in range(2*num_blocks):\n",
    "        model.vars[\"x\"][i].value = x[0,i].item()\n",
    "    # get solutions\n",
    "    xval, objval = model.get_val()    \n",
    "    params.append(list(p)+list(a))\n",
    "    sols.append(list(list(xval.values())[0].values()))\n",
    "    objvals.append(objval)\n",
    "    conviols.append(sum(model.cal_violation()))\n",
    "    elapseds.append(tock - tick)\n",
    "df = pd.DataFrame({\"Param\":params, \"Sol\":sols, \"Obj Val\": objvals, \"Constraints Viol\": conviols, \"Elapsed Time\": elapseds})\n",
    "time.sleep(1)\n",
    "print(df.describe())\n",
    "print(\"Number of infeasible solution: {}\".format(np.sum(df[\"Constraints Viol\"] > 0)))\n",
    "df.to_csv(\"result/rb_lr_50-100.csv\")"
   ]
  },
  {
   "cell_type": "markdown",
   "id": "2dbf8a72-29b9-49c4-b3c1-0d68895c1c1f",
   "metadata": {},
   "source": [
    "## Learnable Threshold"
   ]
  },
  {
   "cell_type": "code",
   "execution_count": 12,
   "id": "0c4b3d02-3cac-4bce-aaaf-43994ff200d6",
   "metadata": {},
   "outputs": [],
   "source": [
    "# random seed\n",
    "np.random.seed(42)\n",
    "torch.manual_seed(42)\n",
    "torch.cuda.manual_seed(42)"
   ]
  },
  {
   "cell_type": "code",
   "execution_count": 13,
   "id": "d46b9817-87ac-4af0-b387-b10c9a4998f4",
   "metadata": {},
   "outputs": [],
   "source": [
    "# hyperparameters\n",
    "penalty_weight = 80   # weight of constraint violation penealty\n",
    "hlayers_sol = 4       # number of hidden layers for solution mapping\n",
    "hlayers_rnd = 4       # number of hidden layers for solution mapping\n",
    "hsize = 256           # width of hidden layers for solution mapping\n",
    "lr = 1e-3             # learning rate"
   ]
  },
  {
   "cell_type": "code",
   "execution_count": 14,
   "id": "fa8b147f-39c8-4eb7-bb95-93dd8e4cb1cf",
   "metadata": {},
   "outputs": [],
   "source": [
    "# set problem\n",
    "import neuromancer as nm\n",
    "from src.problem import nmRosenbrock\n",
    "from src.func.layer import netFC\n",
    "from src.func import roundThresholdModel\n",
    "# build neural architecture for the solution map\n",
    "func = nm.modules.blocks.MLP(insize=num_blocks+1, outsize=2*num_blocks, bias=True,\n",
    "                             linear_map=nm.slim.maps[\"linear\"],\n",
    "                             nonlin=nn.ReLU, hsizes=[hsize]*hlayers_sol)\n",
    "smap = nm.system.Node(func, [\"p\", \"a\"], [\"x\"], name=\"smap\")\n",
    "# define rounding model\n",
    "layers_rnd = netFC(input_dim=3*num_blocks+1, hidden_dims=[hsize]*hlayers_rnd, output_dim=2*num_blocks)\n",
    "rnd = roundThresholdModel(layers=layers_rnd, param_keys=[\"p\", \"a\"], var_keys=[\"x\"],  output_keys=[\"x_rnd\"], \n",
    "                          int_ind=model.int_ind, continuous_update=True, name=\"round\")\n",
    "# build neuromancer problem for rounding\n",
    "components = nn.ModuleList([smap, rnd]).to(\"cuda\")\n",
    "loss_fn = nmRosenbrock([\"p\", \"a\", \"x_rnd\"], steepness, num_blocks, penalty_weight)"
   ]
  },
  {
   "cell_type": "code",
   "execution_count": 15,
   "id": "c6f5bb17-8c3c-4dcd-952d-caa1d7c4c4fa",
   "metadata": {},
   "outputs": [
    {
     "name": "stdout",
     "output_type": "stream",
     "text": [
      "Epoch 0, Validation Loss: 18587.63\n",
      "Epoch 1, Validation Loss: 3448.91\n",
      "Epoch 2, Validation Loss: 2870.52\n",
      "Epoch 3, Validation Loss: 1232.80\n",
      "Epoch 4, Validation Loss: 1303.39\n",
      "Epoch 5, Validation Loss: 1380.01\n",
      "Epoch 6, Validation Loss: 1107.19\n",
      "Epoch 7, Validation Loss: 14572.58\n",
      "Epoch 8, Validation Loss: 2064.73\n",
      "Epoch 9, Validation Loss: 24670.45\n",
      "Epoch 10, Validation Loss: 843.25\n",
      "Epoch 11, Validation Loss: 727.15\n",
      "Epoch 12, Validation Loss: 2243217268.91\n",
      "Epoch 13, Validation Loss: 794.01\n",
      "Epoch 14, Validation Loss: 827.54\n",
      "Epoch 15, Validation Loss: 809.01\n",
      "Epoch 16, Validation Loss: 1533.53\n",
      "Epoch 17, Validation Loss: 712.35\n",
      "Epoch 18, Validation Loss: 736.32\n",
      "Epoch 19, Validation Loss: 808.03\n",
      "Epoch 20, Validation Loss: 725.17\n",
      "Epoch 21, Validation Loss: 896.27\n",
      "Epoch 22, Validation Loss: 731.22\n",
      "Epoch 23, Validation Loss: 639.29\n",
      "Epoch 24, Validation Loss: 747.64\n",
      "Epoch 25, Validation Loss: 799.46\n",
      "Epoch 26, Validation Loss: 965.93\n",
      "Epoch 27, Validation Loss: 714.63\n",
      "Epoch 28, Validation Loss: 673.89\n",
      "Epoch 29, Validation Loss: 692.98\n",
      "Epoch 30, Validation Loss: 913.31\n",
      "Epoch 31, Validation Loss: 921.00\n",
      "Epoch 32, Validation Loss: 704.58\n",
      "Epoch 33, Validation Loss: 813.10\n",
      "Epoch 34, Validation Loss: 787.65\n",
      "Epoch 35, Validation Loss: 749.38\n",
      "Epoch 36, Validation Loss: 641.45\n",
      "Epoch 37, Validation Loss: 887.43\n",
      "Epoch 38, Validation Loss: 743.98\n",
      "Epoch 39, Validation Loss: 757.09\n",
      "Epoch 40, Validation Loss: 1006.59\n",
      "Epoch 41, Validation Loss: 860.04\n",
      "Epoch 42, Validation Loss: 812.01\n",
      "Early stopping at epoch 42\n",
      "Best model loaded.\n",
      "Training complete.\n"
     ]
    }
   ],
   "source": [
    "from src.problem.neuromancer.trainer import trainer\n",
    "# training\n",
    "epochs = 200                    # number of training epochs\n",
    "warmup = 20                     # number of epochs to wait before enacting early stopping policy\n",
    "patience = 20                   # number of epochs with no improvement in eval metric to allow before early stopping\n",
    "optimizer = torch.optim.AdamW(components.parameters(), lr=lr)\n",
    "# create a trainer for the problem\n",
    "my_trainer = trainer(components, loss_fn, optimizer, epochs, patience, warmup, device=\"cuda\")\n",
    "# training for the rounding problem\n",
    "my_trainer.train(loader_train, loader_dev)"
   ]
  },
  {
   "cell_type": "code",
   "execution_count": 16,
   "id": "6584d57e-6b4c-4262-82f5-55735ef17cac",
   "metadata": {},
   "outputs": [
    {
     "name": "stderr",
     "output_type": "stream",
     "text": [
      "100%|██████████████████████████████████████████████████████████████████████████████| 1000/1000 [00:19<00:00, 52.05it/s]\n"
     ]
    },
    {
     "name": "stdout",
     "output_type": "stream",
     "text": [
      "           Obj Val  Constraints Viol  Elapsed Time\n",
      "count  1000.000000       1000.000000   1000.000000\n",
      "mean    639.705636          0.002873      0.003336\n",
      "std     129.252851          0.090847      0.001047\n",
      "min     416.801831          0.000000      0.001504\n",
      "25%     551.017653          0.000000      0.002522\n",
      "50%     612.712141          0.000000      0.003006\n",
      "75%     682.096726          0.000000      0.004000\n",
      "max    1061.078556          2.872840      0.012975\n",
      "Number of infeasible solution: 1\n"
     ]
    }
   ],
   "source": [
    "params, sols, objvals, conviols, elapseds = [], [], [], [], []\n",
    "for p, a in tqdm(list(zip(p_dev, a_dev))):\n",
    "    # data point as tensor\n",
    "    datapoints = {\"p\": torch.tensor(np.array([p]), dtype=torch.float32).to(\"cuda\"), \n",
    "                  \"a\": torch.tensor(np.array([a]), dtype=torch.float32).to(\"cuda\"),\n",
    "                  \"name\": \"test\"}\n",
    "    # infer\n",
    "    components.eval()\n",
    "    tick = time.time()\n",
    "    with torch.no_grad():\n",
    "        for comp in components:\n",
    "            datapoints.update(comp(datapoints))\n",
    "    tock = time.time()\n",
    "    # assign params\n",
    "    model.set_param_val({\"p\":p, \"a\":a})\n",
    "    # assign vars\n",
    "    x = datapoints[\"x_rnd\"]\n",
    "    for i in range(2*num_blocks):\n",
    "        model.vars[\"x\"][i].value = x[0,i].item()\n",
    "    # get solutions\n",
    "    xval, objval = model.get_val()    \n",
    "    params.append(list(p)+list(a))\n",
    "    sols.append(list(list(xval.values())[0].values()))\n",
    "    objvals.append(objval)\n",
    "    conviols.append(sum(model.cal_violation()))\n",
    "    elapseds.append(tock - tick)\n",
    "df = pd.DataFrame({\"Param\":params, \"Sol\":sols, \"Obj Val\": objvals, \"Constraints Viol\": conviols, \"Elapsed Time\": elapseds})\n",
    "time.sleep(1)\n",
    "print(df.describe())\n",
    "print(\"Number of infeasible solution: {}\".format(np.sum(df[\"Constraints Viol\"] > 0)))\n",
    "df.to_csv(\"result/rb_lt_50-100.csv\")"
   ]
  },
  {
   "cell_type": "code",
   "execution_count": null,
   "id": "c89bcb04-0e0f-4bad-9a4a-bd6bed7660dd",
   "metadata": {},
   "outputs": [],
   "source": []
  }
 ],
 "metadata": {
  "kernelspec": {
   "display_name": "Python 3 (ipykernel)",
   "language": "python",
   "name": "python3"
  },
  "language_info": {
   "codemirror_mode": {
    "name": "ipython",
    "version": 3
   },
   "file_extension": ".py",
   "mimetype": "text/x-python",
   "name": "python",
   "nbconvert_exporter": "python",
   "pygments_lexer": "ipython3",
   "version": "3.10.13"
  }
 },
 "nbformat": 4,
 "nbformat_minor": 5
}
