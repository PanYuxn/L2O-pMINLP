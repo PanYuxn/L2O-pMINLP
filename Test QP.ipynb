{
 "cells": [
  {
   "cell_type": "code",
   "execution_count": 1,
   "id": "be61b914-e1af-43b9-9766-5092593f92dd",
   "metadata": {},
   "outputs": [],
   "source": [
    "import time\n",
    "\n",
    "import numpy as np\n",
    "import pandas as pd\n",
    "import torch\n",
    "from torch import nn\n",
    "from tqdm import tqdm\n",
    "\n",
    "# random seed\n",
    "np.random.seed(42)\n",
    "torch.manual_seed(42)\n",
    "torch.cuda.manual_seed(42)"
   ]
  },
  {
   "cell_type": "code",
   "execution_count": 2,
   "id": "35fe4527-9dbf-48f0-bfb3-62cda59092aa",
   "metadata": {},
   "outputs": [],
   "source": [
    "# turn off warning\n",
    "import logging\n",
    "logging.getLogger('pyomo.core').setLevel(logging.ERROR)"
   ]
  },
  {
   "cell_type": "markdown",
   "id": "c5560447-da9d-4cbe-aab4-538aa11c8ee8",
   "metadata": {},
   "source": [
    "## Problem Setting"
   ]
  },
  {
   "cell_type": "code",
   "execution_count": 3,
   "id": "52363c72-0d20-4c08-bd00-0f62aa73686c",
   "metadata": {},
   "outputs": [],
   "source": [
    "# init\n",
    "num_data = 5000   # number of data\n",
    "test_size = 1000  # number of test size\n",
    "val_size = 1000   # number of validation size\n",
    "train_size = num_data - test_size - val_size"
   ]
  },
  {
   "cell_type": "code",
   "execution_count": 4,
   "id": "21938c00-d73f-4255-bc7c-bce6e8034cf8",
   "metadata": {},
   "outputs": [],
   "source": [
    "# parameters as input data\n",
    "p_low, p_high = 0.0, 1.0\n",
    "p_train = np.random.uniform(p_low, p_high, (train_size, 2)).astype(np.float32)\n",
    "p_test  = np.random.uniform(p_low, p_high, (test_size, 2)).astype(np.float32)\n",
    "p_dev   = np.random.uniform(p_low, p_high, (val_size, 2)).astype(np.float32)"
   ]
  },
  {
   "cell_type": "code",
   "execution_count": 5,
   "id": "5ea78c2a-4b04-45da-8474-e9ab899726be",
   "metadata": {},
   "outputs": [],
   "source": [
    "# nm datasets\n",
    "from neuromancer.dataset import DictDataset\n",
    "data_train = DictDataset({\"p\":p_train}, name=\"train\")\n",
    "data_test = DictDataset({\"p\":p_test}, name=\"test\")\n",
    "data_dev = DictDataset({\"p\":p_dev}, name=\"dev\")\n",
    "# torch dataloaders\n",
    "from torch.utils.data import DataLoader\n",
    "loader_train = DataLoader(data_train, batch_size=32, num_workers=0, collate_fn=data_train.collate_fn, shuffle=True)\n",
    "loader_test = DataLoader(data_test, batch_size=32, num_workers=0, collate_fn=data_test.collate_fn, shuffle=False)\n",
    "loader_dev = DataLoader(data_dev, batch_size=32, num_workers=0, collate_fn=data_dev.collate_fn, shuffle=True)"
   ]
  },
  {
   "cell_type": "markdown",
   "id": "a2b99751-3a6e-46dc-9e33-fdf68d813034",
   "metadata": {},
   "source": [
    "## Exact Solver"
   ]
  },
  {
   "cell_type": "code",
   "execution_count": 6,
   "id": "f2e7f07c-6a97-44d6-aca7-56f395e0c964",
   "metadata": {},
   "outputs": [],
   "source": [
    "from src.problem import msQuadratic\n",
    "model = msQuadratic()"
   ]
  },
  {
   "cell_type": "code",
   "execution_count": 7,
   "id": "77e326fa-de2f-415e-a4d4-1f28eef6511a",
   "metadata": {},
   "outputs": [
    {
     "name": "stderr",
     "output_type": "stream",
     "text": [
      "100%|██████████████████████████████████████████████████████████████████████████████| 1000/1000 [01:12<00:00, 13.71it/s]\n"
     ]
    },
    {
     "name": "stdout",
     "output_type": "stream",
     "text": [
      "           Obj Val  Constraints Viol  Elapsed Time\n",
      "count  1000.000000       1000.000000   1000.000000\n",
      "mean     -0.301369          0.287015      0.072262\n",
      "std       0.015466          0.665298      0.031805\n",
      "min      -0.310000          0.000000      0.056964\n",
      "25%      -0.310000          0.000000      0.060942\n",
      "50%      -0.310000          0.000000      0.061737\n",
      "75%      -0.300000          0.000000      0.062751\n",
      "max      -0.212920          3.460264      0.184068\n",
      "Number of infeasible solution: 212\n"
     ]
    }
   ],
   "source": [
    "params, sols, objvals, conviols, elapseds = [], [], [], [], []\n",
    "for p in tqdm(p_test):\n",
    "    model.set_param_val({\"p\":p})\n",
    "    tick = time.time()\n",
    "    xval, objval = model.solve(\"scip\")\n",
    "    tock = time.time()\n",
    "    params.append(list(p))\n",
    "    sols.append(list(list(xval.values())[0].values()))\n",
    "    objvals.append(objval)\n",
    "    conviols.append(sum(model.cal_violation()))\n",
    "    elapseds.append(tock - tick)\n",
    "df = pd.DataFrame({\"Param\":params, \"Sol\":sols, \"Obj Val\": objvals, \"Constraints Viol\": conviols, \"Elapsed Time\": elapseds})\n",
    "time.sleep(1)\n",
    "print(df.describe())\n",
    "print(\"Number of infeasible solution: {}\".format(np.sum(df[\"Constraints Viol\"] > 0)))\n",
    "df.to_csv(\"result/qp_exact.csv\")"
   ]
  },
  {
   "cell_type": "markdown",
   "id": "3c6b6062-19a3-427d-86df-c76214fa3165",
   "metadata": {},
   "source": [
    "## Heuristic"
   ]
  },
  {
   "cell_type": "code",
   "execution_count": 8,
   "id": "a8512b84-b103-40f5-ad04-c45d8f9e773f",
   "metadata": {},
   "outputs": [],
   "source": [
    "from src.heuristic import naive_round"
   ]
  },
  {
   "cell_type": "code",
   "execution_count": 9,
   "id": "827e4eee-f749-4b2b-8549-f75f15a06d0f",
   "metadata": {},
   "outputs": [
    {
     "name": "stderr",
     "output_type": "stream",
     "text": [
      "100%|██████████████████████████████████████████████████████████████████████████████| 1000/1000 [01:15<00:00, 13.27it/s]\n"
     ]
    },
    {
     "name": "stdout",
     "output_type": "stream",
     "text": [
      "           Obj Val  Constraints Viol  Elapsed Time\n",
      "count  1000.000000       1000.000000   1000.000000\n",
      "mean     -0.302556          0.338047      0.070023\n",
      "std       0.015731          0.694741      0.031190\n",
      "min      -0.310000          0.000000      0.053624\n",
      "25%      -0.310000          0.000000      0.057207\n",
      "50%      -0.310000          0.000000      0.058233\n",
      "75%      -0.300000          0.231860      0.068860\n",
      "max      -0.212920          3.460264      0.182869\n",
      "Number of infeasible solution: 335\n"
     ]
    }
   ],
   "source": [
    "params, sols, objvals, conviols, elapseds = [], [], [], [], []\n",
    "for p in tqdm(p_test):\n",
    "    model.set_param_val({\"p\":p})\n",
    "    model_rel = model.relax()\n",
    "    tick = time.time()\n",
    "    xval_rel, _ = model_rel.solve(\"scip\")\n",
    "    xval, objval = naive_round(xval_rel, model)\n",
    "    tock = time.time()\n",
    "    params.append(list(p))\n",
    "    sols.append(list(list(xval.values())[0].values()))\n",
    "    objvals.append(objval)\n",
    "    conviols.append(sum(model.cal_violation()))\n",
    "    elapseds.append(tock - tick)\n",
    "df = pd.DataFrame({\"Param\":params, \"Sol\":sols, \"Obj Val\": objvals, \"Constraints Viol\": conviols, \"Elapsed Time\": elapseds})\n",
    "time.sleep(1)\n",
    "print(df.describe())\n",
    "print(\"Number of infeasible solution: {}\".format(np.sum(df[\"Constraints Viol\"] > 0)))\n",
    "df.to_csv(\"result/qp_heur.csv\")"
   ]
  },
  {
   "cell_type": "markdown",
   "id": "4b37075c-0eed-43fa-b5d2-4234518a3371",
   "metadata": {},
   "source": [
    "## Learnable Rounding"
   ]
  },
  {
   "cell_type": "code",
   "execution_count": 10,
   "id": "68fa0273-f822-44ed-a6b4-fb84e498dbcb",
   "metadata": {},
   "outputs": [],
   "source": [
    "# hyperparameters\n",
    "penalty_weight = 10   # weight of constraint violation penealty\n",
    "hlayers_sol = 4       # number of hidden layers for solution mapping\n",
    "hlayers_rnd = 3       # number of hidden layers for solution mapping\n",
    "hsize = 32            # width of hidden layers for solution mapping\n",
    "lr = 1e-2             # learning rate\n",
    "batch_size = 64       # batch size"
   ]
  },
  {
   "cell_type": "code",
   "execution_count": 11,
   "id": "092c9a37-f345-4a9a-ba61-e0bd6fc46bed",
   "metadata": {},
   "outputs": [],
   "source": [
    "# set problem\n",
    "import neuromancer as nm\n",
    "from src.problem import nmQuadratic\n",
    "from src.func.layer import netFC\n",
    "from src.func import roundGumbelModel\n",
    "# define quadratic objective functions and constraints for both problem types\n",
    "obj_rel, constrs_rel = nmQuadratic([\"x\"], [\"p\"], penalty_weight=penalty_weight)\n",
    "obj_rnd, constrs_rnd = nmQuadratic([\"x_rnd\"], [\"p\"], penalty_weight=penalty_weight)\n",
    "# build neural architecture for the solution map\n",
    "func = nm.modules.blocks.MLP(insize=2, outsize=4, bias=True,\n",
    "                             linear_map=nm.slim.maps[\"linear\"],\n",
    "                             nonlin=nn.ReLU, hsizes=[hsize]*hlayers_sol)\n",
    "smap = nm.system.Node(func, [\"p\"], [\"x\"], name=\"smap\")\n",
    "# define rounding model\n",
    "layers_rnd = netFC(input_dim=6, hidden_dims=[hsize]*hlayers_rnd, output_dim=4)\n",
    "rnd = roundGumbelModel(layers=layers_rnd, param_keys=[\"p\"], var_keys=[\"x\"], output_keys=[\"x_rnd\"],\n",
    "                       int_ind={\"x\":[2,3]}, continuous_update=False, name=\"round\")\n",
    "# build neuromancer problem for rounding\n",
    "components = [smap, rnd]\n",
    "loss = nm.loss.PenaltyLoss(obj_rnd, constrs_rnd)\n",
    "problem = nm.problem.Problem(components, loss)"
   ]
  },
  {
   "cell_type": "code",
   "execution_count": 12,
   "id": "da7fc7d1-cd00-4780-8613-b402c69ca357",
   "metadata": {},
   "outputs": [
    {
     "name": "stdout",
     "output_type": "stream",
     "text": [
      "epoch: 0  train_loss: 4.2779388427734375\n",
      "epoch: 1  train_loss: 3.1776251792907715\n",
      "epoch: 2  train_loss: 3.3425543308258057\n",
      "epoch: 3  train_loss: 2.1936593055725098\n",
      "epoch: 4  train_loss: 1.9622385501861572\n",
      "epoch: 5  train_loss: 1.9493381977081299\n",
      "epoch: 6  train_loss: 2.089452028274536\n",
      "epoch: 7  train_loss: 2.0913796424865723\n",
      "epoch: 8  train_loss: 2.0661263465881348\n",
      "epoch: 9  train_loss: 2.1217825412750244\n",
      "epoch: 10  train_loss: 2.098419189453125\n",
      "epoch: 11  train_loss: 2.0379459857940674\n",
      "epoch: 12  train_loss: 2.140923500061035\n",
      "epoch: 13  train_loss: 1.977126121520996\n",
      "epoch: 14  train_loss: 2.1311705112457275\n",
      "epoch: 15  train_loss: 2.0974972248077393\n",
      "epoch: 16  train_loss: 2.157132387161255\n",
      "epoch: 17  train_loss: 2.0126335620880127\n",
      "epoch: 18  train_loss: 2.07010817527771\n",
      "epoch: 19  train_loss: 2.150472640991211\n",
      "epoch: 20  train_loss: 2.078364849090576\n",
      "epoch: 21  train_loss: 2.1132590770721436\n",
      "epoch: 22  train_loss: 2.147148847579956\n",
      "epoch: 23  train_loss: 2.1320548057556152\n",
      "epoch: 24  train_loss: 2.2711873054504395\n",
      "epoch: 25  train_loss: 2.221454620361328\n",
      "epoch: 26  train_loss: 2.1209497451782227\n",
      "epoch: 27  train_loss: 2.133431911468506\n",
      "epoch: 28  train_loss: 2.1575512886047363\n",
      "epoch: 29  train_loss: 2.0523781776428223\n",
      "epoch: 30  train_loss: 2.199097156524658\n",
      "epoch: 31  train_loss: 2.2276241779327393\n",
      "epoch: 32  train_loss: 2.20854115486145\n",
      "epoch: 33  train_loss: 2.131537914276123\n",
      "epoch: 34  train_loss: 2.0401837825775146\n",
      "epoch: 35  train_loss: 2.1563377380371094\n",
      "epoch: 36  train_loss: 2.2215676307678223\n",
      "epoch: 37  train_loss: 2.148292064666748\n",
      "epoch: 38  train_loss: 2.264235496520996\n",
      "epoch: 39  train_loss: 2.2260119915008545\n",
      "epoch: 40  train_loss: 2.250239610671997\n",
      "epoch: 41  train_loss: 2.1689436435699463\n",
      "epoch: 42  train_loss: 2.086895227432251\n",
      "epoch: 43  train_loss: 2.2512600421905518\n",
      "epoch: 44  train_loss: 2.292621612548828\n",
      "epoch: 45  train_loss: 2.048380136489868\n",
      "epoch: 46  train_loss: 2.3589420318603516\n",
      "epoch: 47  train_loss: 2.1224443912506104\n",
      "epoch: 48  train_loss: 2.2875561714172363\n",
      "epoch: 49  train_loss: 2.3153231143951416\n",
      "epoch: 50  train_loss: 2.1516964435577393\n",
      "epoch: 51  train_loss: 2.1503708362579346\n",
      "epoch: 52  train_loss: 2.27815318107605\n",
      "epoch: 53  train_loss: 2.175485849380493\n",
      "epoch: 54  train_loss: 2.3296940326690674\n",
      "epoch: 55  train_loss: 2.129692792892456\n",
      "epoch: 56  train_loss: 2.213913679122925\n",
      "epoch: 57  train_loss: 2.281513214111328\n",
      "epoch: 58  train_loss: 2.1524782180786133\n",
      "epoch: 59  train_loss: 2.1806390285491943\n",
      "epoch: 60  train_loss: 2.239077091217041\n",
      "epoch: 61  train_loss: 2.2550580501556396\n",
      "epoch: 62  train_loss: 2.1464035511016846\n",
      "epoch: 63  train_loss: 2.2542994022369385\n",
      "epoch: 64  train_loss: 2.177757978439331\n",
      "epoch: 65  train_loss: 2.292231559753418\n",
      "epoch: 66  train_loss: 2.344034433364868\n",
      "epoch: 67  train_loss: 2.246304512023926\n",
      "epoch: 68  train_loss: 2.2634904384613037\n",
      "Early stopping!!!\n"
     ]
    },
    {
     "data": {
      "text/plain": [
       "<All keys matched successfully>"
      ]
     },
     "execution_count": 12,
     "metadata": {},
     "output_type": "execute_result"
    }
   ],
   "source": [
    "# training\n",
    "epochs = 200                    # number of training epochs\n",
    "warmup = 20                     # number of epochs to wait before enacting early stopping policy\n",
    "patience = 20                   # number of epochs with no improvement in eval metric to allow before early stopping\n",
    "optimizer = torch.optim.Adam(problem.parameters(), lr=lr)\n",
    "# create a trainer for the problem\n",
    "trainer = nm.trainer.Trainer(problem, loader_train, loader_dev, loader_test, optimizer, \n",
    "                            epochs=epochs, patience=patience, warmup=warmup)\n",
    "# training for the rounding problem\n",
    "best_model = trainer.train()\n",
    "# load best model dict\n",
    "problem.load_state_dict(best_model)"
   ]
  },
  {
   "cell_type": "code",
   "execution_count": 13,
   "id": "20a7a994-eeac-459a-a799-12e78394b2a9",
   "metadata": {},
   "outputs": [
    {
     "name": "stderr",
     "output_type": "stream",
     "text": [
      "100%|█████████████████████████████████████████████████████████████████████████████| 1000/1000 [00:07<00:00, 132.24it/s]\n"
     ]
    },
    {
     "name": "stdout",
     "output_type": "stream",
     "text": [
      "           Obj Val  Constraints Viol  Elapsed Time\n",
      "count  1000.000000       1000.000000   1000.000000\n",
      "mean     -0.249774          0.145520      0.006935\n",
      "std       0.069338          0.359052      0.001169\n",
      "min      -0.388125          0.000000      0.005000\n",
      "25%      -0.281723          0.000000      0.006084\n",
      "50%      -0.277095          0.000000      0.006600\n",
      "75%      -0.244082          0.000000      0.007408\n",
      "max       0.166659          1.572065      0.013440\n",
      "Number of infeasible solution: 212\n"
     ]
    }
   ],
   "source": [
    "params, sols, objvals, conviols, elapseds = [], [], [], [], []\n",
    "for p in tqdm(p_test):\n",
    "    # data point as tensor\n",
    "    datapoints = {\"p\": torch.tensor(np.array([p]), dtype=torch.float32), \"name\": \"test\"}\n",
    "    # infer\n",
    "    tick = time.time()\n",
    "    output = problem(datapoints)\n",
    "    tock = time.time()\n",
    "    # assign params\n",
    "    model.set_param_val({\"p\":p})\n",
    "    # assign vars\n",
    "    x = output[\"test_x_rnd\"]\n",
    "    for i in range(4):\n",
    "        model.vars[\"x\"][i].value = x[0,i].item()\n",
    "    # get solutions\n",
    "    xval, objval = model.get_val()    \n",
    "    params.append(list(p))\n",
    "    sols.append(list(list(xval.values())[0].values()))\n",
    "    objvals.append(objval)\n",
    "    conviols.append(sum(model.cal_violation()))\n",
    "    elapseds.append(tock - tick)\n",
    "df = pd.DataFrame({\"Param\":params, \"Sol\":sols, \"Obj Val\": objvals, \"Constraints Viol\": conviols, \"Elapsed Time\": elapseds})\n",
    "time.sleep(1)\n",
    "print(df.describe())\n",
    "print(\"Number of infeasible solution: {}\".format(np.sum(df[\"Constraints Viol\"] > 0)))\n",
    "df.to_csv(\"result/qp_nm.csv\")"
   ]
  },
  {
   "cell_type": "code",
   "execution_count": null,
   "id": "bac63114-fa6d-4705-b109-b584c2d2f1c2",
   "metadata": {},
   "outputs": [],
   "source": []
  }
 ],
 "metadata": {
  "kernelspec": {
   "display_name": "Python 3 (ipykernel)",
   "language": "python",
   "name": "python3"
  },
  "language_info": {
   "codemirror_mode": {
    "name": "ipython",
    "version": 3
   },
   "file_extension": ".py",
   "mimetype": "text/x-python",
   "name": "python",
   "nbconvert_exporter": "python",
   "pygments_lexer": "ipython3",
   "version": "3.10.13"
  }
 },
 "nbformat": 4,
 "nbformat_minor": 5
}
