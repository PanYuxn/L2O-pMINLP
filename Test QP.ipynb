{
 "cells": [
  {
   "cell_type": "code",
   "execution_count": 1,
   "id": "be61b914-e1af-43b9-9766-5092593f92dd",
   "metadata": {},
   "outputs": [],
   "source": [
    "import time\n",
    "\n",
    "import numpy as np\n",
    "import pandas as pd\n",
    "import torch\n",
    "from torch import nn\n",
    "from tqdm import tqdm\n",
    "\n",
    "# random seed\n",
    "np.random.seed(42)\n",
    "torch.manual_seed(42)\n",
    "torch.cuda.manual_seed(42)"
   ]
  },
  {
   "cell_type": "code",
   "execution_count": 2,
   "id": "35fe4527-9dbf-48f0-bfb3-62cda59092aa",
   "metadata": {},
   "outputs": [],
   "source": [
    "# turn off warning\n",
    "import logging\n",
    "logging.getLogger('pyomo.core').setLevel(logging.ERROR)"
   ]
  },
  {
   "cell_type": "markdown",
   "id": "c5560447-da9d-4cbe-aab4-538aa11c8ee8",
   "metadata": {},
   "source": [
    "## Problem Setting"
   ]
  },
  {
   "cell_type": "code",
   "execution_count": 3,
   "id": "52363c72-0d20-4c08-bd00-0f62aa73686c",
   "metadata": {},
   "outputs": [],
   "source": [
    "# init\n",
    "num_data = 5000   # number of data\n",
    "test_size = 1000  # number of test size\n",
    "val_size = 1000   # number of validation size\n",
    "train_size = num_data - test_size - val_size"
   ]
  },
  {
   "cell_type": "code",
   "execution_count": 4,
   "id": "f2e7f07c-6a97-44d6-aca7-56f395e0c964",
   "metadata": {},
   "outputs": [],
   "source": [
    "from src.problem import msQuadratic\n",
    "model = msQuadratic()"
   ]
  },
  {
   "cell_type": "code",
   "execution_count": 5,
   "id": "21938c00-d73f-4255-bc7c-bce6e8034cf8",
   "metadata": {},
   "outputs": [],
   "source": [
    "# parameters as input data\n",
    "p_low, p_high = 0.0, 1.0\n",
    "p_train = np.random.uniform(p_low, p_high, (train_size, 2)).astype(np.float32)\n",
    "p_test  = np.random.uniform(p_low, p_high, (test_size, 2)).astype(np.float32)\n",
    "p_dev   = np.random.uniform(p_low, p_high, (val_size, 2)).astype(np.float32)"
   ]
  },
  {
   "cell_type": "code",
   "execution_count": 6,
   "id": "3c1dba02-4b44-4327-8a2d-a58f5a0b6641",
   "metadata": {},
   "outputs": [
    {
     "name": "stderr",
     "output_type": "stream",
     "text": [
      "0it [00:00, ?it/s]"
     ]
    },
    {
     "name": "stdout",
     "output_type": "stream",
     "text": [
      "ERROR: evaluating object as numeric value: x[0]\n",
      "        (object: <class 'pyomo.core.base.var._GeneralVarData'>)\n",
      "    No value for uninitialized NumericValue object x[0]\n",
      "ERROR: evaluating object as numeric value: obj\n",
      "        (object: <class 'pyomo.core.base.objective.ScalarObjective'>)\n",
      "    No value for uninitialized NumericValue object x[0]\n"
     ]
    },
    {
     "name": "stderr",
     "output_type": "stream",
     "text": [
      "3000it [05:51,  8.53it/s]\n",
      "1000it [01:44,  9.60it/s]\n",
      "1000it [01:46,  9.43it/s]\n"
     ]
    }
   ],
   "source": [
    "from pyomo import opt as po\n",
    "# feasibility filter\n",
    "def feasibility_filter(p_data):\n",
    "    for i, p in tqdm(enumerate(p_data)):\n",
    "        # set param\n",
    "        model.set_param_val({\"p\":p})\n",
    "        # solve\n",
    "        _, _ = model.solve(\"scip\")\n",
    "        while model.res.solver.termination_condition == po.TerminationCondition.infeasible:\n",
    "            # generate a new p\n",
    "            p = np.random.uniform(p_low, p_high, 2).astype(np.float32)\n",
    "            # set param\n",
    "            model.set_param_val({\"p\":p})\n",
    "            # solve\n",
    "            _, _ = model.solve(\"scip\")\n",
    "        # update p\n",
    "        p_data[i] = p\n",
    "\n",
    "# make all data feasible\n",
    "feasibility_filter(p_train)\n",
    "feasibility_filter(p_test)\n",
    "feasibility_filter(p_dev)"
   ]
  },
  {
   "cell_type": "code",
   "execution_count": 7,
   "id": "5ea78c2a-4b04-45da-8474-e9ab899726be",
   "metadata": {},
   "outputs": [],
   "source": [
    "# nm datasets\n",
    "from neuromancer.dataset import DictDataset\n",
    "data_train = DictDataset({\"p\":p_train}, name=\"train\")\n",
    "data_test = DictDataset({\"p\":p_test}, name=\"test\")\n",
    "data_dev = DictDataset({\"p\":p_dev}, name=\"dev\")\n",
    "# torch dataloaders\n",
    "from torch.utils.data import DataLoader\n",
    "loader_train = DataLoader(data_train, batch_size=32, num_workers=0, collate_fn=data_train.collate_fn, shuffle=True)\n",
    "loader_test = DataLoader(data_test, batch_size=32, num_workers=0, collate_fn=data_test.collate_fn, shuffle=False)\n",
    "loader_dev = DataLoader(data_dev, batch_size=32, num_workers=0, collate_fn=data_dev.collate_fn, shuffle=True)"
   ]
  },
  {
   "cell_type": "markdown",
   "id": "a2b99751-3a6e-46dc-9e33-fdf68d813034",
   "metadata": {},
   "source": [
    "## Exact Solver"
   ]
  },
  {
   "cell_type": "code",
   "execution_count": 8,
   "id": "77e326fa-de2f-415e-a4d4-1f28eef6511a",
   "metadata": {},
   "outputs": [
    {
     "name": "stderr",
     "output_type": "stream",
     "text": [
      "100%|██████████████████████████████████████████████████████████████████████████████| 1000/1000 [01:24<00:00, 11.85it/s]\n"
     ]
    },
    {
     "name": "stdout",
     "output_type": "stream",
     "text": [
      "           Obj Val  Constraints Viol  Elapsed Time\n",
      "count  1000.000000            1000.0   1000.000000\n",
      "mean     -0.300508               0.0      0.083594\n",
      "std       0.017031               0.0      0.037765\n",
      "min      -0.310000               0.0      0.058508\n",
      "25%      -0.310000               0.0      0.061619\n",
      "50%      -0.310000               0.0      0.073384\n",
      "75%      -0.300000               0.0      0.077798\n",
      "max      -0.210132               0.0      0.244359\n",
      "Number of infeasible solution: 0\n"
     ]
    }
   ],
   "source": [
    "params, sols, objvals, conviols, elapseds = [], [], [], [], []\n",
    "for p in tqdm(p_test):\n",
    "    model.set_param_val({\"p\":p})\n",
    "    tick = time.time()\n",
    "    xval, objval = model.solve(\"scip\")\n",
    "    tock = time.time()\n",
    "    params.append(list(p))\n",
    "    sols.append(list(list(xval.values())[0].values()))\n",
    "    objvals.append(objval)\n",
    "    conviols.append(sum(model.cal_violation()))\n",
    "    elapseds.append(tock - tick)\n",
    "df = pd.DataFrame({\"Param\":params, \"Sol\":sols, \"Obj Val\": objvals, \"Constraints Viol\": conviols, \"Elapsed Time\": elapseds})\n",
    "time.sleep(1)\n",
    "print(df.describe())\n",
    "print(\"Number of infeasible solution: {}\".format(np.sum(df[\"Constraints Viol\"] > 0)))\n",
    "df.to_csv(\"result/qp_exact.csv\")"
   ]
  },
  {
   "cell_type": "markdown",
   "id": "3c6b6062-19a3-427d-86df-c76214fa3165",
   "metadata": {},
   "source": [
    "## Heuristic"
   ]
  },
  {
   "cell_type": "code",
   "execution_count": 9,
   "id": "a8512b84-b103-40f5-ad04-c45d8f9e773f",
   "metadata": {},
   "outputs": [],
   "source": [
    "model_heur = model.first_solution_heuristic()"
   ]
  },
  {
   "cell_type": "code",
   "execution_count": 10,
   "id": "827e4eee-f749-4b2b-8549-f75f15a06d0f",
   "metadata": {},
   "outputs": [
    {
     "name": "stderr",
     "output_type": "stream",
     "text": [
      "100%|██████████████████████████████████████████████████████████████████████████████| 1000/1000 [01:19<00:00, 12.56it/s]\n"
     ]
    },
    {
     "name": "stdout",
     "output_type": "stream",
     "text": [
      "           Obj Val  Constraints Viol  Elapsed Time\n",
      "count  1000.000000            1000.0   1000.000000\n",
      "mean     -0.235842               0.0      0.078855\n",
      "std       0.117741               0.0      0.034860\n",
      "min      -0.310000               0.0      0.058023\n",
      "25%      -0.300000               0.0      0.061376\n",
      "50%      -0.300000               0.0      0.062733\n",
      "75%      -0.260710               0.0      0.076504\n",
      "max       0.000000               0.0      0.186517\n",
      "Number of infeasible solution: 0\n"
     ]
    }
   ],
   "source": [
    "params, sols, objvals, conviols, elapseds = [], [], [], [], []\n",
    "for p in tqdm(p_test):\n",
    "    model_heur.set_param_val({\"p\":p})\n",
    "    tick = time.time()\n",
    "    xval, objval = model_heur.solve(\"scip\")\n",
    "    tock = time.time()\n",
    "    params.append(list(p))\n",
    "    sols.append(list(list(xval.values())[0].values()))\n",
    "    objvals.append(objval)\n",
    "    conviols.append(sum(model_heur.cal_violation()))\n",
    "    elapseds.append(tock - tick)\n",
    "df = pd.DataFrame({\"Param\":params, \"Sol\":sols, \"Obj Val\": objvals, \"Constraints Viol\": conviols, \"Elapsed Time\": elapseds})\n",
    "time.sleep(1)\n",
    "print(df.describe())\n",
    "print(\"Number of infeasible solution: {}\".format(np.sum(df[\"Constraints Viol\"] > 0)))\n",
    "df.to_csv(\"result/qp_heur.csv\")"
   ]
  },
  {
   "cell_type": "markdown",
   "id": "4b37075c-0eed-43fa-b5d2-4234518a3371",
   "metadata": {},
   "source": [
    "## Learnable Rounding"
   ]
  },
  {
   "cell_type": "code",
   "execution_count": 11,
   "id": "68fa0273-f822-44ed-a6b4-fb84e498dbcb",
   "metadata": {},
   "outputs": [],
   "source": [
    "# hyperparameters\n",
    "penalty_weight = 10   # weight of constraint violation penealty\n",
    "hlayers_sol = 4       # number of hidden layers for solution mapping\n",
    "hlayers_rnd = 3       # number of hidden layers for solution mapping\n",
    "hsize = 32            # width of hidden layers for solution mapping\n",
    "lr = 1e-2             # learning rate\n",
    "batch_size = 64       # batch size"
   ]
  },
  {
   "cell_type": "code",
   "execution_count": 12,
   "id": "092c9a37-f345-4a9a-ba61-e0bd6fc46bed",
   "metadata": {},
   "outputs": [],
   "source": [
    "# set problem\n",
    "import neuromancer as nm\n",
    "from src.problem import nmQuadratic\n",
    "from src.func.layer import netFC\n",
    "from src.func import roundGumbelModel\n",
    "# define quadratic objective functions and constraints for both problem types\n",
    "obj_rel, constrs_rel = nmQuadratic([\"x\"], [\"p\"], penalty_weight=penalty_weight)\n",
    "obj_rnd, constrs_rnd = nmQuadratic([\"x_rnd\"], [\"p\"], penalty_weight=penalty_weight)\n",
    "# build neural architecture for the solution map\n",
    "func = nm.modules.blocks.MLP(insize=2, outsize=4, bias=True,\n",
    "                             linear_map=nm.slim.maps[\"linear\"],\n",
    "                             nonlin=nn.ReLU, hsizes=[hsize]*hlayers_sol)\n",
    "smap = nm.system.Node(func, [\"p\"], [\"x\"], name=\"smap\")\n",
    "# define rounding model\n",
    "layers_rnd = netFC(input_dim=6, hidden_dims=[hsize]*hlayers_rnd, output_dim=4)\n",
    "rnd = roundGumbelModel(layers=layers_rnd, param_keys=[\"p\"], var_keys=[\"x\"], output_keys=[\"x_rnd\"],\n",
    "                       int_ind={\"x\":[2,3]}, continuous_update=False, name=\"round\")\n",
    "# build neuromancer problem for rounding\n",
    "components = [smap, rnd]\n",
    "loss = nm.loss.PenaltyLoss(obj_rnd, constrs_rnd)\n",
    "problem = nm.problem.Problem(components, loss)"
   ]
  },
  {
   "cell_type": "code",
   "execution_count": 13,
   "id": "da7fc7d1-cd00-4780-8613-b402c69ca357",
   "metadata": {},
   "outputs": [
    {
     "name": "stdout",
     "output_type": "stream",
     "text": [
      "epoch: 0  train_loss: 1.9006130695343018\n",
      "epoch: 1  train_loss: 0.8498107194900513\n",
      "epoch: 2  train_loss: 0.8236396312713623\n",
      "epoch: 3  train_loss: 0.3078206181526184\n",
      "epoch: 4  train_loss: 0.360994815826416\n",
      "epoch: 5  train_loss: 0.6205000877380371\n",
      "epoch: 6  train_loss: 0.6599565148353577\n",
      "epoch: 7  train_loss: 1.07606840133667\n",
      "epoch: 8  train_loss: 0.16626447439193726\n",
      "epoch: 9  train_loss: 0.037488069385290146\n",
      "epoch: 10  train_loss: 0.011245842091739178\n",
      "epoch: 11  train_loss: 0.1659967303276062\n",
      "epoch: 12  train_loss: 0.13184885680675507\n",
      "epoch: 13  train_loss: 0.06834141910076141\n",
      "epoch: 14  train_loss: 0.08455299586057663\n",
      "epoch: 15  train_loss: 0.07996489852666855\n",
      "epoch: 16  train_loss: 0.01878316141664982\n",
      "epoch: 17  train_loss: 0.18229149281978607\n",
      "epoch: 18  train_loss: 0.19630023837089539\n",
      "epoch: 19  train_loss: 0.011691409163177013\n",
      "epoch: 20  train_loss: 0.13464005291461945\n",
      "epoch: 21  train_loss: 0.16005240380764008\n",
      "epoch: 22  train_loss: 0.10071253031492233\n",
      "epoch: 23  train_loss: 0.24319495260715485\n",
      "epoch: 24  train_loss: 0.13701459765434265\n",
      "epoch: 25  train_loss: 0.1340608149766922\n",
      "epoch: 26  train_loss: 0.09225074201822281\n",
      "epoch: 27  train_loss: 0.0652281865477562\n",
      "epoch: 28  train_loss: 0.18333745002746582\n",
      "epoch: 29  train_loss: 0.2145068347454071\n",
      "epoch: 30  train_loss: 0.07833746820688248\n",
      "epoch: 31  train_loss: 0.12590950727462769\n",
      "epoch: 32  train_loss: 0.17889365553855896\n",
      "epoch: 33  train_loss: 0.18999610841274261\n",
      "epoch: 34  train_loss: -0.01384731288999319\n",
      "epoch: 35  train_loss: 0.26211053133010864\n",
      "epoch: 36  train_loss: 0.04768048971891403\n",
      "epoch: 37  train_loss: 0.3262397348880768\n",
      "epoch: 38  train_loss: 0.20877160131931305\n",
      "epoch: 39  train_loss: 0.10120122134685516\n",
      "epoch: 40  train_loss: 0.07615898549556732\n",
      "epoch: 41  train_loss: 0.07252083718776703\n",
      "epoch: 42  train_loss: -0.05709519237279892\n",
      "epoch: 43  train_loss: 0.10680539906024933\n",
      "epoch: 44  train_loss: 0.23602311313152313\n",
      "epoch: 45  train_loss: 0.20792995393276215\n",
      "epoch: 46  train_loss: 0.1245453879237175\n",
      "epoch: 47  train_loss: 0.1963016390800476\n",
      "epoch: 48  train_loss: -0.04158268868923187\n",
      "epoch: 49  train_loss: 0.20684213936328888\n",
      "epoch: 50  train_loss: -0.0011113894870504737\n",
      "epoch: 51  train_loss: 0.12187770009040833\n",
      "epoch: 52  train_loss: 0.25110068917274475\n",
      "epoch: 53  train_loss: 0.14202497899532318\n",
      "epoch: 54  train_loss: 0.030732834711670876\n",
      "epoch: 55  train_loss: 0.17314143478870392\n",
      "epoch: 56  train_loss: 0.06879643350839615\n",
      "epoch: 57  train_loss: 0.07660350203514099\n",
      "epoch: 58  train_loss: 0.28285667300224304\n",
      "epoch: 59  train_loss: 0.064274862408638\n",
      "epoch: 60  train_loss: 0.18942344188690186\n",
      "epoch: 61  train_loss: 0.08830129355192184\n",
      "epoch: 62  train_loss: 0.17188067734241486\n",
      "epoch: 63  train_loss: 0.09357956796884537\n",
      "epoch: 64  train_loss: 0.2285189926624298\n",
      "epoch: 65  train_loss: -0.09588921070098877\n",
      "epoch: 66  train_loss: 0.02189658209681511\n",
      "epoch: 67  train_loss: 0.16782671213150024\n",
      "epoch: 68  train_loss: 0.11983320862054825\n",
      "epoch: 69  train_loss: 0.16288329660892487\n",
      "epoch: 70  train_loss: 0.10469335317611694\n",
      "epoch: 71  train_loss: -0.028538338840007782\n",
      "epoch: 72  train_loss: 0.1403777003288269\n",
      "epoch: 73  train_loss: 0.18399327993392944\n",
      "epoch: 74  train_loss: 0.10914745926856995\n",
      "epoch: 75  train_loss: 0.20362241566181183\n",
      "epoch: 76  train_loss: 0.062230970710515976\n",
      "epoch: 77  train_loss: 0.1258014589548111\n",
      "epoch: 78  train_loss: 0.04506652429699898\n",
      "epoch: 79  train_loss: 0.13377834856510162\n",
      "epoch: 80  train_loss: 0.0014388776617124677\n",
      "epoch: 81  train_loss: 0.020578525960445404\n",
      "epoch: 82  train_loss: 0.09422886371612549\n",
      "epoch: 83  train_loss: 0.03177850320935249\n",
      "epoch: 84  train_loss: 0.12764351069927216\n",
      "Early stopping!!!\n"
     ]
    },
    {
     "data": {
      "text/plain": [
       "<All keys matched successfully>"
      ]
     },
     "execution_count": 13,
     "metadata": {},
     "output_type": "execute_result"
    }
   ],
   "source": [
    "# training\n",
    "epochs = 200                    # number of training epochs\n",
    "warmup = 20                     # number of epochs to wait before enacting early stopping policy\n",
    "patience = 20                   # number of epochs with no improvement in eval metric to allow before early stopping\n",
    "optimizer = torch.optim.Adam(problem.parameters(), lr=lr)\n",
    "# create a trainer for the problem\n",
    "trainer = nm.trainer.Trainer(problem, loader_train, loader_dev, loader_test, optimizer, \n",
    "                            epochs=epochs, patience=patience, warmup=warmup)\n",
    "# training for the rounding problem\n",
    "best_model = trainer.train()\n",
    "# load best model dict\n",
    "problem.load_state_dict(best_model)"
   ]
  },
  {
   "cell_type": "code",
   "execution_count": 14,
   "id": "20a7a994-eeac-459a-a799-12e78394b2a9",
   "metadata": {},
   "outputs": [
    {
     "name": "stderr",
     "output_type": "stream",
     "text": [
      "100%|██████████████████████████████████████████████████████████████████████████████| 1000/1000 [00:12<00:00, 78.16it/s]\n"
     ]
    },
    {
     "name": "stdout",
     "output_type": "stream",
     "text": [
      "           Obj Val  Constraints Viol  Elapsed Time\n",
      "count  1000.000000       1000.000000   1000.000000\n",
      "mean     -0.289489          0.000051      0.011645\n",
      "std       0.019035          0.001018      0.003067\n",
      "min      -0.297858          0.000000      0.006435\n",
      "25%      -0.297858          0.000000      0.009306\n",
      "50%      -0.297858          0.000000      0.010991\n",
      "75%      -0.291715          0.000000      0.013458\n",
      "max      -0.186733          0.029536      0.031913\n",
      "Number of infeasible solution: 4\n"
     ]
    }
   ],
   "source": [
    "params, sols, objvals, conviols, elapseds = [], [], [], [], []\n",
    "for p in tqdm(p_test):\n",
    "    # data point as tensor\n",
    "    datapoints = {\"p\": torch.tensor(np.array([p]), dtype=torch.float32), \"name\": \"test\"}\n",
    "    # infer\n",
    "    tick = time.time()\n",
    "    output = problem(datapoints)\n",
    "    tock = time.time()\n",
    "    # assign params\n",
    "    model.set_param_val({\"p\":p})\n",
    "    # assign vars\n",
    "    x = output[\"test_x_rnd\"]\n",
    "    for i in range(4):\n",
    "        model.vars[\"x\"][i].value = x[0,i].item()\n",
    "    # get solutions\n",
    "    xval, objval = model.get_val()    \n",
    "    params.append(list(p))\n",
    "    sols.append(list(list(xval.values())[0].values()))\n",
    "    objvals.append(objval)\n",
    "    conviols.append(sum(model.cal_violation()))\n",
    "    elapseds.append(tock - tick)\n",
    "df = pd.DataFrame({\"Param\":params, \"Sol\":sols, \"Obj Val\": objvals, \"Constraints Viol\": conviols, \"Elapsed Time\": elapseds})\n",
    "time.sleep(1)\n",
    "print(df.describe())\n",
    "print(\"Number of infeasible solution: {}\".format(np.sum(df[\"Constraints Viol\"] > 0)))\n",
    "df.to_csv(\"result/qp_nm.csv\")"
   ]
  },
  {
   "cell_type": "code",
   "execution_count": null,
   "id": "bac63114-fa6d-4705-b109-b584c2d2f1c2",
   "metadata": {},
   "outputs": [],
   "source": []
  }
 ],
 "metadata": {
  "kernelspec": {
   "display_name": "Python 3 (ipykernel)",
   "language": "python",
   "name": "python3"
  },
  "language_info": {
   "codemirror_mode": {
    "name": "ipython",
    "version": 3
   },
   "file_extension": ".py",
   "mimetype": "text/x-python",
   "name": "python",
   "nbconvert_exporter": "python",
   "pygments_lexer": "ipython3",
   "version": "3.10.13"
  }
 },
 "nbformat": 4,
 "nbformat_minor": 5
}
