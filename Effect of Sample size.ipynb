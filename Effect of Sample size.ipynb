{
 "cells": [
  {
   "cell_type": "code",
   "execution_count": 9,
   "id": "8bf584fe-9bdc-4ad5-b8fd-fa5837213f6d",
   "metadata": {},
   "outputs": [],
   "source": [
    "import pandas as pd\n",
    "import numpy as np\n",
    "from matplotlib import pyplot as plt\n",
    "import scienceplots\n",
    "plt.style.reload_library()\n",
    "plt.style.use(\"science\")\n",
    "from matplotlib import ticker\n",
    "import tol_colors as tc\n",
    "cset =  tc.tol_cset(\"light\")"
   ]
  },
  {
   "cell_type": "code",
   "execution_count": 10,
   "id": "35ff7fe9-2994-4fd8-8115-058db391ee78",
   "metadata": {},
   "outputs": [
    {
     "ename": "ParserError",
     "evalue": "Error tokenizing data. C error: EOF inside string starting at row 56",
     "output_type": "error",
     "traceback": [
      "\u001b[1;31m---------------------------------------------------------------------------\u001b[0m",
      "\u001b[1;31mParserError\u001b[0m                               Traceback (most recent call last)",
      "Cell \u001b[1;32mIn[10], line 4\u001b[0m\n\u001b[0;32m      2\u001b[0m rb_rc_800 \u001b[38;5;241m=\u001b[39m pd\u001b[38;5;241m.\u001b[39mread_csv(\u001b[38;5;124m\"\u001b[39m\u001b[38;5;124mresult/rb_cls100_10000-s.csv\u001b[39m\u001b[38;5;124m\"\u001b[39m, usecols\u001b[38;5;241m=\u001b[39m[\u001b[38;5;124m\"\u001b[39m\u001b[38;5;124mObj Val\u001b[39m\u001b[38;5;124m\"\u001b[39m, \u001b[38;5;124m\"\u001b[39m\u001b[38;5;124mNum Violations\u001b[39m\u001b[38;5;124m\"\u001b[39m])\n\u001b[0;32m      3\u001b[0m rb_lt_800 \u001b[38;5;241m=\u001b[39m pd\u001b[38;5;241m.\u001b[39mread_csv(\u001b[38;5;124m\"\u001b[39m\u001b[38;5;124mresult/rb_thd100_10000-s.csv\u001b[39m\u001b[38;5;124m\"\u001b[39m, usecols\u001b[38;5;241m=\u001b[39m[\u001b[38;5;124m\"\u001b[39m\u001b[38;5;124mObj Val\u001b[39m\u001b[38;5;124m\"\u001b[39m, \u001b[38;5;124m\"\u001b[39m\u001b[38;5;124mNum Violations\u001b[39m\u001b[38;5;124m\"\u001b[39m])\n\u001b[1;32m----> 4\u001b[0m rb_rc_8000 \u001b[38;5;241m=\u001b[39m \u001b[43mpd\u001b[49m\u001b[38;5;241;43m.\u001b[39;49m\u001b[43mread_csv\u001b[49m\u001b[43m(\u001b[49m\u001b[38;5;124;43m\"\u001b[39;49m\u001b[38;5;124;43mresult/rb_cls100_10000.csv\u001b[39;49m\u001b[38;5;124;43m\"\u001b[39;49m\u001b[43m,\u001b[49m\u001b[43m \u001b[49m\u001b[43musecols\u001b[49m\u001b[38;5;241;43m=\u001b[39;49m\u001b[43m[\u001b[49m\u001b[38;5;124;43m\"\u001b[39;49m\u001b[38;5;124;43mObj Val\u001b[39;49m\u001b[38;5;124;43m\"\u001b[39;49m\u001b[43m,\u001b[49m\u001b[43m \u001b[49m\u001b[38;5;124;43m\"\u001b[39;49m\u001b[38;5;124;43mNum Violations\u001b[39;49m\u001b[38;5;124;43m\"\u001b[39;49m\u001b[43m]\u001b[49m\u001b[43m)\u001b[49m\n\u001b[0;32m      5\u001b[0m rb_lt_8000 \u001b[38;5;241m=\u001b[39m pd\u001b[38;5;241m.\u001b[39mread_csv(\u001b[38;5;124m\"\u001b[39m\u001b[38;5;124mresult/rb_thd100_10000.csv\u001b[39m\u001b[38;5;124m\"\u001b[39m, usecols\u001b[38;5;241m=\u001b[39m[\u001b[38;5;124m\"\u001b[39m\u001b[38;5;124mObj Val\u001b[39m\u001b[38;5;124m\"\u001b[39m, \u001b[38;5;124m\"\u001b[39m\u001b[38;5;124mNum Violations\u001b[39m\u001b[38;5;124m\"\u001b[39m])\n\u001b[0;32m      6\u001b[0m rb_rc_80000 \u001b[38;5;241m=\u001b[39m pd\u001b[38;5;241m.\u001b[39mread_csv(\u001b[38;5;124m\"\u001b[39m\u001b[38;5;124mresult/rb_cls100_10000-l.csv\u001b[39m\u001b[38;5;124m\"\u001b[39m, usecols\u001b[38;5;241m=\u001b[39m[\u001b[38;5;124m\"\u001b[39m\u001b[38;5;124mObj Val\u001b[39m\u001b[38;5;124m\"\u001b[39m, \u001b[38;5;124m\"\u001b[39m\u001b[38;5;124mNum Violations\u001b[39m\u001b[38;5;124m\"\u001b[39m])\n",
      "File \u001b[1;32m~\\anaconda3\\Lib\\site-packages\\pandas\\io\\parsers\\readers.py:1026\u001b[0m, in \u001b[0;36mread_csv\u001b[1;34m(filepath_or_buffer, sep, delimiter, header, names, index_col, usecols, dtype, engine, converters, true_values, false_values, skipinitialspace, skiprows, skipfooter, nrows, na_values, keep_default_na, na_filter, verbose, skip_blank_lines, parse_dates, infer_datetime_format, keep_date_col, date_parser, date_format, dayfirst, cache_dates, iterator, chunksize, compression, thousands, decimal, lineterminator, quotechar, quoting, doublequote, escapechar, comment, encoding, encoding_errors, dialect, on_bad_lines, delim_whitespace, low_memory, memory_map, float_precision, storage_options, dtype_backend)\u001b[0m\n\u001b[0;32m   1013\u001b[0m kwds_defaults \u001b[38;5;241m=\u001b[39m _refine_defaults_read(\n\u001b[0;32m   1014\u001b[0m     dialect,\n\u001b[0;32m   1015\u001b[0m     delimiter,\n\u001b[1;32m   (...)\u001b[0m\n\u001b[0;32m   1022\u001b[0m     dtype_backend\u001b[38;5;241m=\u001b[39mdtype_backend,\n\u001b[0;32m   1023\u001b[0m )\n\u001b[0;32m   1024\u001b[0m kwds\u001b[38;5;241m.\u001b[39mupdate(kwds_defaults)\n\u001b[1;32m-> 1026\u001b[0m \u001b[38;5;28;01mreturn\u001b[39;00m \u001b[43m_read\u001b[49m\u001b[43m(\u001b[49m\u001b[43mfilepath_or_buffer\u001b[49m\u001b[43m,\u001b[49m\u001b[43m \u001b[49m\u001b[43mkwds\u001b[49m\u001b[43m)\u001b[49m\n",
      "File \u001b[1;32m~\\anaconda3\\Lib\\site-packages\\pandas\\io\\parsers\\readers.py:626\u001b[0m, in \u001b[0;36m_read\u001b[1;34m(filepath_or_buffer, kwds)\u001b[0m\n\u001b[0;32m    623\u001b[0m     \u001b[38;5;28;01mreturn\u001b[39;00m parser\n\u001b[0;32m    625\u001b[0m \u001b[38;5;28;01mwith\u001b[39;00m parser:\n\u001b[1;32m--> 626\u001b[0m     \u001b[38;5;28;01mreturn\u001b[39;00m \u001b[43mparser\u001b[49m\u001b[38;5;241;43m.\u001b[39;49m\u001b[43mread\u001b[49m\u001b[43m(\u001b[49m\u001b[43mnrows\u001b[49m\u001b[43m)\u001b[49m\n",
      "File \u001b[1;32m~\\anaconda3\\Lib\\site-packages\\pandas\\io\\parsers\\readers.py:1923\u001b[0m, in \u001b[0;36mTextFileReader.read\u001b[1;34m(self, nrows)\u001b[0m\n\u001b[0;32m   1916\u001b[0m nrows \u001b[38;5;241m=\u001b[39m validate_integer(\u001b[38;5;124m\"\u001b[39m\u001b[38;5;124mnrows\u001b[39m\u001b[38;5;124m\"\u001b[39m, nrows)\n\u001b[0;32m   1917\u001b[0m \u001b[38;5;28;01mtry\u001b[39;00m:\n\u001b[0;32m   1918\u001b[0m     \u001b[38;5;66;03m# error: \"ParserBase\" has no attribute \"read\"\u001b[39;00m\n\u001b[0;32m   1919\u001b[0m     (\n\u001b[0;32m   1920\u001b[0m         index,\n\u001b[0;32m   1921\u001b[0m         columns,\n\u001b[0;32m   1922\u001b[0m         col_dict,\n\u001b[1;32m-> 1923\u001b[0m     ) \u001b[38;5;241m=\u001b[39m \u001b[38;5;28;43mself\u001b[39;49m\u001b[38;5;241;43m.\u001b[39;49m\u001b[43m_engine\u001b[49m\u001b[38;5;241;43m.\u001b[39;49m\u001b[43mread\u001b[49m\u001b[43m(\u001b[49m\u001b[43m  \u001b[49m\u001b[38;5;66;43;03m# type: ignore[attr-defined]\u001b[39;49;00m\n\u001b[0;32m   1924\u001b[0m \u001b[43m        \u001b[49m\u001b[43mnrows\u001b[49m\n\u001b[0;32m   1925\u001b[0m \u001b[43m    \u001b[49m\u001b[43m)\u001b[49m\n\u001b[0;32m   1926\u001b[0m \u001b[38;5;28;01mexcept\u001b[39;00m \u001b[38;5;167;01mException\u001b[39;00m:\n\u001b[0;32m   1927\u001b[0m     \u001b[38;5;28mself\u001b[39m\u001b[38;5;241m.\u001b[39mclose()\n",
      "File \u001b[1;32m~\\anaconda3\\Lib\\site-packages\\pandas\\io\\parsers\\c_parser_wrapper.py:234\u001b[0m, in \u001b[0;36mCParserWrapper.read\u001b[1;34m(self, nrows)\u001b[0m\n\u001b[0;32m    232\u001b[0m \u001b[38;5;28;01mtry\u001b[39;00m:\n\u001b[0;32m    233\u001b[0m     \u001b[38;5;28;01mif\u001b[39;00m \u001b[38;5;28mself\u001b[39m\u001b[38;5;241m.\u001b[39mlow_memory:\n\u001b[1;32m--> 234\u001b[0m         chunks \u001b[38;5;241m=\u001b[39m \u001b[38;5;28;43mself\u001b[39;49m\u001b[38;5;241;43m.\u001b[39;49m\u001b[43m_reader\u001b[49m\u001b[38;5;241;43m.\u001b[39;49m\u001b[43mread_low_memory\u001b[49m\u001b[43m(\u001b[49m\u001b[43mnrows\u001b[49m\u001b[43m)\u001b[49m\n\u001b[0;32m    235\u001b[0m         \u001b[38;5;66;03m# destructive to chunks\u001b[39;00m\n\u001b[0;32m    236\u001b[0m         data \u001b[38;5;241m=\u001b[39m _concatenate_chunks(chunks)\n",
      "File \u001b[1;32mparsers.pyx:838\u001b[0m, in \u001b[0;36mpandas._libs.parsers.TextReader.read_low_memory\u001b[1;34m()\u001b[0m\n",
      "File \u001b[1;32mparsers.pyx:905\u001b[0m, in \u001b[0;36mpandas._libs.parsers.TextReader._read_rows\u001b[1;34m()\u001b[0m\n",
      "File \u001b[1;32mparsers.pyx:874\u001b[0m, in \u001b[0;36mpandas._libs.parsers.TextReader._tokenize_rows\u001b[1;34m()\u001b[0m\n",
      "File \u001b[1;32mparsers.pyx:891\u001b[0m, in \u001b[0;36mpandas._libs.parsers.TextReader._check_tokenize_status\u001b[1;34m()\u001b[0m\n",
      "File \u001b[1;32mparsers.pyx:2061\u001b[0m, in \u001b[0;36mpandas._libs.parsers.raise_parser_error\u001b[1;34m()\u001b[0m\n",
      "\u001b[1;31mParserError\u001b[0m: Error tokenizing data. C error: EOF inside string starting at row 56"
     ]
    }
   ],
   "source": [
    "# load data\n",
    "rb_rc_800 = pd.read_csv(\"result/rb_cls100_10000-s.csv\", usecols=[\"Obj Val\", \"Num Violations\"])\n",
    "rb_lt_800 = pd.read_csv(\"result/rb_thd100_10000-s.csv\", usecols=[\"Obj Val\", \"Num Violations\"])\n",
    "rb_rc_8000 = pd.read_csv(\"result/rb_cls100_10000.csv\", usecols=[\"Obj Val\", \"Num Violations\"])\n",
    "rb_lt_8000 = pd.read_csv(\"result/rb_thd100_10000.csv\", usecols=[\"Obj Val\", \"Num Violations\"])\n",
    "rb_rc_80000 = pd.read_csv(\"result/rb_cls100_10000-l.csv\", usecols=[\"Obj Val\", \"Num Violations\"])\n",
    "rb_lt_80000 = pd.read_csv(\"result/rb_thd100_10000-l.csv\", usecols=[\"Obj Val\", \"Num Violations\"])"
   ]
  },
  {
   "cell_type": "code",
   "execution_count": 11,
   "id": "8cdfda3a-836d-483e-9c86-b6c4db0d88cc",
   "metadata": {},
   "outputs": [
    {
     "ename": "NameError",
     "evalue": "name 'rb_rc_8000' is not defined",
     "output_type": "error",
     "traceback": [
      "\u001b[1;31m---------------------------------------------------------------------------\u001b[0m",
      "\u001b[1;31mNameError\u001b[0m                                 Traceback (most recent call last)",
      "Cell \u001b[1;32mIn[11], line 6\u001b[0m\n\u001b[0;32m      3\u001b[0m plt\u001b[38;5;241m.\u001b[39mfigure(figsize\u001b[38;5;241m=\u001b[39m(\u001b[38;5;241m8\u001b[39m, \u001b[38;5;241m6\u001b[39m))\n\u001b[0;32m      4\u001b[0m \u001b[38;5;66;03m# line\u001b[39;00m\n\u001b[0;32m      5\u001b[0m rc_frate \u001b[38;5;241m=\u001b[39m [(rb_rc_800[\u001b[38;5;124m\"\u001b[39m\u001b[38;5;124mNum Violations\u001b[39m\u001b[38;5;124m\"\u001b[39m] \u001b[38;5;241m>\u001b[39m \u001b[38;5;241m0\u001b[39m)\u001b[38;5;241m.\u001b[39mmean()\u001b[38;5;241m*\u001b[39m\u001b[38;5;241m100\u001b[39m, \n\u001b[1;32m----> 6\u001b[0m             (\u001b[43mrb_rc_8000\u001b[49m[\u001b[38;5;124m\"\u001b[39m\u001b[38;5;124mNum Violations\u001b[39m\u001b[38;5;124m\"\u001b[39m] \u001b[38;5;241m>\u001b[39m \u001b[38;5;241m0\u001b[39m)\u001b[38;5;241m.\u001b[39mmean()\u001b[38;5;241m*\u001b[39m\u001b[38;5;241m100\u001b[39m, \n\u001b[0;32m      7\u001b[0m             (rb_rc_80000[\u001b[38;5;124m\"\u001b[39m\u001b[38;5;124mNum Violations\u001b[39m\u001b[38;5;124m\"\u001b[39m] \u001b[38;5;241m>\u001b[39m \u001b[38;5;241m0\u001b[39m)\u001b[38;5;241m.\u001b[39mmean()\u001b[38;5;241m*\u001b[39m\u001b[38;5;241m100\u001b[39m]\n\u001b[0;32m      8\u001b[0m plt\u001b[38;5;241m.\u001b[39mplot(np\u001b[38;5;241m.\u001b[39marray(rc_frate), marker\u001b[38;5;241m=\u001b[39m\u001b[38;5;124m\"\u001b[39m\u001b[38;5;124mo\u001b[39m\u001b[38;5;124m\"\u001b[39m, linestyle\u001b[38;5;241m=\u001b[39m\u001b[38;5;124m\"\u001b[39m\u001b[38;5;124m-\u001b[39m\u001b[38;5;124m\"\u001b[39m, linewidth\u001b[38;5;241m=\u001b[39m\u001b[38;5;241m3\u001b[39m, markersize\u001b[38;5;241m=\u001b[39m\u001b[38;5;241m10\u001b[39m, label\u001b[38;5;241m=\u001b[39m\u001b[38;5;124m\"\u001b[39m\u001b[38;5;124mRC\u001b[39m\u001b[38;5;124m\"\u001b[39m, color\u001b[38;5;241m=\u001b[39mcset\u001b[38;5;241m.\u001b[39mmint)\n\u001b[0;32m      9\u001b[0m lt_frate \u001b[38;5;241m=\u001b[39m [(rb_lt_800[\u001b[38;5;124m\"\u001b[39m\u001b[38;5;124mNum Violations\u001b[39m\u001b[38;5;124m\"\u001b[39m] \u001b[38;5;241m>\u001b[39m \u001b[38;5;241m0\u001b[39m)\u001b[38;5;241m.\u001b[39mmean()\u001b[38;5;241m*\u001b[39m\u001b[38;5;241m100\u001b[39m, \n\u001b[0;32m     10\u001b[0m             (rb_lt_8000[\u001b[38;5;124m\"\u001b[39m\u001b[38;5;124mNum Violations\u001b[39m\u001b[38;5;124m\"\u001b[39m] \u001b[38;5;241m>\u001b[39m \u001b[38;5;241m0\u001b[39m)\u001b[38;5;241m.\u001b[39mmean()\u001b[38;5;241m*\u001b[39m\u001b[38;5;241m100\u001b[39m, \n\u001b[0;32m     11\u001b[0m             (rb_lt_80000[\u001b[38;5;124m\"\u001b[39m\u001b[38;5;124mNum Violations\u001b[39m\u001b[38;5;124m\"\u001b[39m] \u001b[38;5;241m>\u001b[39m \u001b[38;5;241m0\u001b[39m)\u001b[38;5;241m.\u001b[39mmean()\u001b[38;5;241m*\u001b[39m\u001b[38;5;241m100\u001b[39m]\n",
      "\u001b[1;31mNameError\u001b[0m: name 'rb_rc_8000' is not defined"
     ]
    },
    {
     "data": {
      "text/plain": [
       "<Figure size 800x600 with 0 Axes>"
      ]
     },
     "metadata": {},
     "output_type": "display_data"
    }
   ],
   "source": [
    "# line plot for feasibility rate\n",
    "# size\n",
    "plt.figure(figsize=(8, 6))\n",
    "# line\n",
    "rc_frate = [(rb_rc_800[\"Num Violations\"] > 0).mean()*100, \n",
    "            (rb_rc_8000[\"Num Violations\"] > 0).mean()*100, \n",
    "            (rb_rc_80000[\"Num Violations\"] > 0).mean()*100]\n",
    "plt.plot(np.array(rc_frate), marker=\"o\", linestyle=\"-\", linewidth=3, markersize=10, label=\"RC\", color=cset.mint)\n",
    "lt_frate = [(rb_lt_800[\"Num Violations\"] > 0).mean()*100, \n",
    "            (rb_lt_8000[\"Num Violations\"] > 0).mean()*100, \n",
    "            (rb_lt_80000[\"Num Violations\"] > 0).mean()*100]\n",
    "plt.plot(np.array(lt_frate), marker=\"o\", linestyle=\"-\", linewidth=3, markersize=10, label=\"LT\", color=cset.pink)\n",
    "# annotate\n",
    "for i, val in enumerate(rc_frate):\n",
    "    plt.text(i+0.1, val+1.5, f\"{val:.0f}\\%\", ha=\"center\", fontsize=20, color=cset.mint)\n",
    "for i, val in enumerate(lt_frate):\n",
    "    plt.text(i-0.1, val-2.5, f\"{val:.0f}\\%\", ha=\"center\", fontsize=20, color=cset.pink) \n",
    "# grid\n",
    "plt.grid(color=\"grey\", alpha=0.5, linewidth=0.5, which=\"major\", axis=\"y\")\n",
    "# style\n",
    "#plt.title(\"20000×5 Rosenbrock\", fontsize=36)\n",
    "plt.xlabel(\"Training Sample Size\", fontsize=32)\n",
    "plt.ylabel(\"\\% Feasibility Rate\", fontsize=32)\n",
    "plt.xticks(ticks=[0,1,2], labels=[\"800\", \"8,000\", \"80,000\"], fontsize=24)\n",
    "plt.yticks(fontsize=24)\n",
    "plt.xlim(-0.3, 2.3)\n",
    "plt.ylim(-3, 53)\n",
    "plt.legend(title=\"Method\", fontsize=22, title_fontsize=22)\n",
    "plt.savefig(\"./img/rb_frate.pdf\", dpi=300)\n",
    "\n",
    "# boxplot for objective value\n",
    "# size\n",
    "plt.figure(figsize=(8, 6))\n",
    "# box\n",
    "obj_rc = pd.DataFrame({\n",
    "    \"800\": rb_rc_800[\"Obj Val\"].values / 10**4,\n",
    "    \"8,000\": rb_rc_8000[\"Obj Val\"].values / 10**4,\n",
    "    \"80,000\": rb_rc_80000[\"Obj Val\"].values / 10**4\n",
    "})\n",
    "c = cset.mint\n",
    "bp1 = plt.boxplot(obj_rc, boxprops=dict(facecolor=c, color=c, linewidth=4), medianprops=dict(color=\"w\", linewidth=2), \n",
    "                  whiskerprops=dict(color=c, linewidth=2), capprops=dict(color=c, linewidth=2),\n",
    "                  flierprops=dict(markeredgecolor=c, marker=\"o\", markersize=5, markeredgewidth=2),\n",
    "                  patch_artist=True, positions=np.arange(3)-0.15, widths=0.24)\n",
    "obj_lt = pd.DataFrame({\n",
    "    \"800\": rb_lt_800[\"Obj Val\"].values / 10**4,\n",
    "    \"8,000\": rb_lt_8000[\"Obj Val\"].values / 10**4,\n",
    "    \"80,000\": rb_lt_80000[\"Obj Val\"].values / 10**4\n",
    "})\n",
    "c = cset.pink\n",
    "bp2 = plt.boxplot(obj_lt, boxprops=dict(facecolor=c, color=c, linewidth=4), medianprops=dict(color=\"w\", linewidth=2), \n",
    "                  whiskerprops=dict(color=c, linewidth=2), capprops=dict(color=c, linewidth=2),\n",
    "                  flierprops=dict(markeredgecolor=c, marker=\"o\", markersize=5, markeredgewidth=2),\n",
    "                  patch_artist=True, positions=np.arange(3)+0.15, widths=0.24)\n",
    "# vertical line\n",
    "plt.axvline(x=0.5, color=\"k\", linestyle=\"--\", linewidth=1, alpha=0.75)\n",
    "plt.axvline(x=1.5, color=\"k\", linestyle=\"--\", linewidth=1, alpha=0.75)\n",
    "# grid\n",
    "plt.grid(color=\"grey\", alpha=0.5, linewidth=0.5, which=\"major\", axis=\"y\")\n",
    "# style\n",
    "#plt.title(\"20000×5 Rosenbrock\", fontsize=36)\n",
    "plt.xlabel(\"Training Sample Size\", fontsize=32)\n",
    "plt.ylabel(\"Objective Value ($10^4$)\", fontsize=32)\n",
    "plt.xticks(ticks=[0,1,2], labels=[\"800\", \"8,000\", \"80,000\"], fontsize=24)\n",
    "plt.yticks(ticks=[5 * i for i in range(6)], fontsize=22)\n",
    "plt.yticks(fontsize=24)\n",
    "plt.xlim(-0.5, 2.5)\n",
    "plt.ylim(0, 26)\n",
    "plt.legend([bp1[\"boxes\"][0], bp2[\"boxes\"][0]], [\"RC\", \"LT\"], title=\"Method\", fontsize=22, title_fontsize=22)\n",
    "plt.savefig(\"./img/rb_obj.pdf\", dpi=300)"
   ]
  },
  {
   "cell_type": "code",
   "execution_count": null,
   "id": "449968e5-b27d-41fe-bed3-13dbf8ac08f9",
   "metadata": {},
   "outputs": [],
   "source": []
  }
 ],
 "metadata": {
  "kernelspec": {
   "display_name": "Python 3 (ipykernel)",
   "language": "python",
   "name": "python3"
  },
  "language_info": {
   "codemirror_mode": {
    "name": "ipython",
    "version": 3
   },
   "file_extension": ".py",
   "mimetype": "text/x-python",
   "name": "python",
   "nbconvert_exporter": "python",
   "pygments_lexer": "ipython3",
   "version": "3.11.10"
  }
 },
 "nbformat": 4,
 "nbformat_minor": 5
}
