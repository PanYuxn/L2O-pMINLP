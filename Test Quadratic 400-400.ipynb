{
 "cells": [
  {
   "cell_type": "code",
   "execution_count": 1,
   "id": "be61b914-e1af-43b9-9766-5092593f92dd",
   "metadata": {},
   "outputs": [],
   "source": [
    "import time\n",
    "\n",
    "import numpy as np\n",
    "import pandas as pd\n",
    "import torch\n",
    "from torch import nn\n",
    "from tqdm import tqdm\n",
    "\n",
    "# random seed\n",
    "np.random.seed(42)\n",
    "torch.manual_seed(42)\n",
    "torch.cuda.manual_seed(42)"
   ]
  },
  {
   "cell_type": "code",
   "execution_count": 2,
   "id": "35fe4527-9dbf-48f0-bfb3-62cda59092aa",
   "metadata": {},
   "outputs": [],
   "source": [
    "# turn off warning\n",
    "import logging\n",
    "logging.getLogger('pyomo.core').setLevel(logging.ERROR)"
   ]
  },
  {
   "cell_type": "markdown",
   "id": "c5560447-da9d-4cbe-aab4-538aa11c8ee8",
   "metadata": {},
   "source": [
    "## Problem Setting"
   ]
  },
  {
   "cell_type": "code",
   "execution_count": 3,
   "id": "52363c72-0d20-4c08-bd00-0f62aa73686c",
   "metadata": {},
   "outputs": [],
   "source": [
    "# init\n",
    "num_var = 400     # number of variables\n",
    "num_ineq = 400    # number of constraints\n",
    "num_data = 10000  # number of data\n",
    "test_size = 1000  # number of test size\n",
    "val_size = 1000   # number of validation size\n",
    "train_size = num_data - test_size - val_size"
   ]
  },
  {
   "cell_type": "code",
   "execution_count": 4,
   "id": "21938c00-d73f-4255-bc7c-bce6e8034cf8",
   "metadata": {},
   "outputs": [],
   "source": [
    "# data sample from uniform distribution\n",
    "b_samples = torch.from_numpy(np.random.uniform(-1, 1, size=(num_data, num_ineq))).float()\n",
    "data = {\"b\":b_samples}\n",
    "# data split\n",
    "from src.utlis import data_split\n",
    "data_train, data_test, data_dev = data_split(data, test_size=test_size, val_size=val_size)"
   ]
  },
  {
   "cell_type": "code",
   "execution_count": 5,
   "id": "5ecf81ff-627d-444d-8d90-121c7e20c217",
   "metadata": {},
   "outputs": [],
   "source": [
    "# torch dataloaders\n",
    "from torch.utils.data import DataLoader\n",
    "batch_size = 64\n",
    "loader_train = DataLoader(data_train, batch_size, num_workers=0, collate_fn=data_train.collate_fn, shuffle=True)\n",
    "loader_test = DataLoader(data_test, batch_size, num_workers=0, collate_fn=data_test.collate_fn, shuffle=False)\n",
    "loader_dev = DataLoader(data_dev, batch_size, num_workers=0, collate_fn=data_dev.collate_fn, shuffle=False)"
   ]
  },
  {
   "cell_type": "markdown",
   "id": "16ec0a67-54ea-4a9d-b037-0c7c9390e3f9",
   "metadata": {},
   "source": [
    "## Exact Solver"
   ]
  },
  {
   "cell_type": "code",
   "execution_count": 6,
   "id": "50aaabd7-90ed-4628-a1da-c98777868d92",
   "metadata": {},
   "outputs": [],
   "source": [
    "from src.problem import msQuadratic\n",
    "model = msQuadratic(num_var, num_ineq)"
   ]
  },
  {
   "cell_type": "markdown",
   "id": "cad38e16-1a87-4f11-92b4-b608f7f3ea11",
   "metadata": {},
   "source": [
    "## Heuristic - Round"
   ]
  },
  {
   "cell_type": "code",
   "execution_count": 7,
   "id": "03328361-3f39-461d-ac81-40c8c14717bb",
   "metadata": {},
   "outputs": [],
   "source": [
    "from src.heuristic import naive_round"
   ]
  },
  {
   "cell_type": "code",
   "execution_count": 8,
   "id": "2e57b62f-dfb4-4c87-b42e-e43b202ef96c",
   "metadata": {},
   "outputs": [
    {
     "name": "stderr",
     "output_type": "stream",
     "text": [
      "  2%|█▏                                                                            | 15/1000 [00:58<1:05:47,  4.01s/it]"
     ]
    },
    {
     "name": "stdout",
     "output_type": "stream",
     "text": [
      "ERROR: Unable to clone Pyomo component attribute. Component 'obj' contains an\n",
      "uncopyable field '_init_sense' (<class\n",
      "'pyomo.core.base.initializer.ConstantInitializer'>).  Setting field to `None`\n",
      "on new object\n"
     ]
    },
    {
     "name": "stderr",
     "output_type": "stream",
     "text": [
      " 10%|███████▊                                                                        | 98/1000 [06:06<54:56,  3.66s/it]"
     ]
    },
    {
     "name": "stdout",
     "output_type": "stream",
     "text": [
      "ERROR: Unable to clone Pyomo component attribute. Component 'OrderedScalarSet'\n",
      "contains an uncopyable field '_init_dimen' (<class\n",
      "'pyomo.core.base.initializer.ConstantInitializer'>).  Setting field to `None`\n",
      "on new object\n"
     ]
    },
    {
     "name": "stderr",
     "output_type": "stream",
     "text": [
      " 46%|████████████████████████████████████▎                                          | 459/1000 [28:10<32:29,  3.60s/it]"
     ]
    },
    {
     "name": "stdout",
     "output_type": "stream",
     "text": [
      "ERROR: Unable to clone Pyomo component attribute. Component 'obj' contains an\n",
      "uncopyable field '_init_sense' (<class\n",
      "'pyomo.core.base.initializer.ConstantInitializer'>).  Setting field to `None`\n",
      "on new object\n"
     ]
    },
    {
     "name": "stderr",
     "output_type": "stream",
     "text": [
      "100%|████████████████████████████████████████████████████████████████████████████| 1000/1000 [1:02:28<00:00,  3.75s/it]\n"
     ]
    },
    {
     "name": "stdout",
     "output_type": "stream",
     "text": [
      "           Obj Val  Constraints Viol  Elapsed Time\n",
      "count  1000.000000       1000.000000   1000.000000\n",
      "mean    -70.343501         48.109977      1.194081\n",
      "std       0.527485          4.199574      0.252281\n",
      "min     -72.033292         36.899955      0.726004\n",
      "25%     -70.680788         45.155021      1.006243\n",
      "50%     -70.355254         48.075926      1.259264\n",
      "75%     -70.002250         51.013367      1.337236\n",
      "max     -68.535647         62.058183      2.187687\n",
      "Number of infeasible solution: 1000\n"
     ]
    }
   ],
   "source": [
    "params, sols, objvals, conviols, elapseds = [], [], [], [], []\n",
    "for b in tqdm(data_test.datadict[\"b\"]):\n",
    "    # set params\n",
    "    model.set_param_val({\"b\":b.cpu().numpy()})\n",
    "    # relax\n",
    "    model_rel = model.relax()\n",
    "    # solve\n",
    "    tick = time.time()\n",
    "    xval_rel, _ = model_rel.solve(\"gurobi\")\n",
    "    xval, objval = naive_round(xval_rel, model)\n",
    "    tock = time.time()\n",
    "    # eval\n",
    "    params.append(list(b))\n",
    "    sols.append(list(list(xval.values())[0].values()))\n",
    "    objvals.append(objval)\n",
    "    conviols.append(sum(model.cal_violation()))\n",
    "    elapseds.append(tock - tick)\n",
    "df = pd.DataFrame({\"Param\":params, \"Sol\":sols, \"Obj Val\": objvals, \"Constraints Viol\": conviols, \"Elapsed Time\": elapseds})\n",
    "time.sleep(1)\n",
    "print(df.describe())\n",
    "print(\"Number of infeasible solution: {}\".format(np.sum(df[\"Constraints Viol\"] > 0)))\n",
    "df.to_csv(\"result/cq_heur_rnd_400-400.csv\")"
   ]
  },
  {
   "cell_type": "markdown",
   "id": "9819c60c-df5f-41c6-ae83-888c75aa78d7",
   "metadata": {},
   "source": [
    "## Learnable Rounding"
   ]
  },
  {
   "cell_type": "code",
   "execution_count": 9,
   "id": "6a4fb3e2-9c47-4c10-8116-e94be18ea59c",
   "metadata": {},
   "outputs": [],
   "source": [
    "# random seed\n",
    "np.random.seed(42)\n",
    "torch.manual_seed(42)\n",
    "torch.cuda.manual_seed(42)"
   ]
  },
  {
   "cell_type": "code",
   "execution_count": 10,
   "id": "536d2d58-67ba-408a-b72a-7c5bd54a5ff4",
   "metadata": {},
   "outputs": [],
   "source": [
    "# hyperparameters\n",
    "penalty_weight = 50   # weight of constraint violation penealty\n",
    "hlayers_sol = 5       # number of hidden layers for solution mapping\n",
    "hlayers_rnd = 4       # number of hidden layers for solution mapping\n",
    "hsize = 1024          # width of hidden layers for solution mapping\n",
    "lr = 1e-3             # learning rate"
   ]
  },
  {
   "cell_type": "code",
   "execution_count": 11,
   "id": "fee1241e-e53a-4cbb-927a-edcdb3537303",
   "metadata": {},
   "outputs": [],
   "source": [
    "# set problem\n",
    "import neuromancer as nm\n",
    "from src.problem import nmQuadratic\n",
    "from src.func.layer import netFC\n",
    "from src.func import roundGumbelModel\n",
    "# build neural architecture for the solution map\n",
    "func = nm.modules.blocks.MLP(insize=num_ineq, outsize=num_var, bias=True,\n",
    "                             linear_map=nm.slim.maps[\"linear\"],\n",
    "                             nonlin=nn.ReLU, hsizes=[hsize]*hlayers_sol)\n",
    "smap = nm.system.Node(func, [\"b\"], [\"x\"], name=\"smap\")\n",
    "# define rounding model\n",
    "layers_rnd = netFC(input_dim=num_ineq+num_var, hidden_dims=[hsize]*hlayers_rnd, output_dim=num_var)\n",
    "rnd = roundGumbelModel(layers=layers_rnd, param_keys=[\"b\"], var_keys=[\"x\"],  output_keys=[\"x_rnd\"], \n",
    "                       int_ind=model.int_ind, continuous_update=True, name=\"round\")\n",
    "# build neuromancer problem for rounding\n",
    "components = nn.ModuleList([smap, rnd]).to(\"cuda\")\n",
    "loss_fn = nmQuadratic([\"b\", \"x_rnd\"], num_var, num_ineq, penalty_weight)"
   ]
  },
  {
   "cell_type": "code",
   "execution_count": 12,
   "id": "e4f10263-5f69-4288-a4e8-8be83929c8d6",
   "metadata": {},
   "outputs": [
    {
     "name": "stdout",
     "output_type": "stream",
     "text": [
      "Epoch 0, Validation Loss: 13726.68\n",
      "Epoch 1, Validation Loss: 15.45\n",
      "Epoch 2, Validation Loss: -3.43\n",
      "Epoch 3, Validation Loss: -16.84\n",
      "Epoch 4, Validation Loss: -19.95\n",
      "Epoch 5, Validation Loss: -22.07\n",
      "Epoch 6, Validation Loss: -25.29\n",
      "Epoch 7, Validation Loss: -25.20\n",
      "Epoch 8, Validation Loss: -24.43\n",
      "Epoch 9, Validation Loss: -26.48\n",
      "Epoch 10, Validation Loss: -27.13\n",
      "Epoch 11, Validation Loss: -30.13\n",
      "Epoch 12, Validation Loss: -31.23\n",
      "Epoch 13, Validation Loss: -32.62\n",
      "Epoch 14, Validation Loss: -32.98\n",
      "Epoch 15, Validation Loss: -27.87\n",
      "Epoch 16, Validation Loss: -33.74\n",
      "Epoch 17, Validation Loss: -35.63\n",
      "Epoch 18, Validation Loss: -33.92\n",
      "Epoch 19, Validation Loss: -32.43\n",
      "Epoch 20, Validation Loss: -36.59\n",
      "Epoch 21, Validation Loss: -32.18\n",
      "Epoch 22, Validation Loss: -35.19\n",
      "Epoch 23, Validation Loss: -37.74\n",
      "Epoch 24, Validation Loss: -36.10\n",
      "Epoch 25, Validation Loss: -37.68\n",
      "Epoch 26, Validation Loss: -38.82\n",
      "Epoch 27, Validation Loss: -34.38\n",
      "Epoch 28, Validation Loss: -37.56\n",
      "Epoch 29, Validation Loss: -35.68\n",
      "Epoch 30, Validation Loss: -39.21\n",
      "Epoch 31, Validation Loss: -38.11\n",
      "Epoch 32, Validation Loss: -27.59\n",
      "Epoch 33, Validation Loss: -37.00\n",
      "Epoch 34, Validation Loss: -39.41\n",
      "Epoch 35, Validation Loss: -39.67\n",
      "Epoch 36, Validation Loss: -38.15\n",
      "Epoch 37, Validation Loss: -39.05\n",
      "Epoch 38, Validation Loss: -33.68\n",
      "Epoch 39, Validation Loss: -36.44\n",
      "Epoch 40, Validation Loss: -32.08\n",
      "Epoch 41, Validation Loss: -23.19\n",
      "Epoch 42, Validation Loss: 16.11\n",
      "Epoch 43, Validation Loss: -39.73\n",
      "Epoch 44, Validation Loss: -32.71\n",
      "Epoch 45, Validation Loss: -31.09\n",
      "Epoch 46, Validation Loss: -35.86\n",
      "Epoch 47, Validation Loss: -36.26\n",
      "Epoch 48, Validation Loss: -38.45\n",
      "Epoch 49, Validation Loss: -39.56\n",
      "Epoch 50, Validation Loss: -37.13\n",
      "Epoch 51, Validation Loss: -24.38\n",
      "Epoch 52, Validation Loss: -35.77\n",
      "Epoch 53, Validation Loss: -35.42\n",
      "Epoch 54, Validation Loss: -39.37\n",
      "Epoch 55, Validation Loss: -41.00\n",
      "Epoch 56, Validation Loss: -40.10\n",
      "Epoch 57, Validation Loss: -39.31\n",
      "Epoch 58, Validation Loss: -42.61\n",
      "Epoch 59, Validation Loss: -35.10\n",
      "Epoch 60, Validation Loss: -39.79\n",
      "Epoch 61, Validation Loss: -37.97\n",
      "Epoch 62, Validation Loss: -33.81\n",
      "Epoch 63, Validation Loss: -33.67\n",
      "Epoch 64, Validation Loss: -39.96\n",
      "Epoch 65, Validation Loss: -39.29\n",
      "Epoch 66, Validation Loss: -41.45\n",
      "Epoch 67, Validation Loss: -32.70\n",
      "Epoch 68, Validation Loss: -38.90\n",
      "Epoch 69, Validation Loss: -37.82\n",
      "Epoch 70, Validation Loss: -40.60\n",
      "Epoch 71, Validation Loss: -35.00\n",
      "Epoch 72, Validation Loss: -35.50\n",
      "Epoch 73, Validation Loss: -41.61\n",
      "Epoch 74, Validation Loss: -36.37\n",
      "Epoch 75, Validation Loss: -41.65\n",
      "Epoch 76, Validation Loss: -40.19\n",
      "Epoch 77, Validation Loss: -42.48\n",
      "Early stopping at epoch 77\n",
      "Best model loaded.\n",
      "Training complete.\n"
     ]
    }
   ],
   "source": [
    "from src.problem.neuromancer.trainer import trainer\n",
    "# training\n",
    "epochs = 200                    # number of training epochs\n",
    "warmup = 20                     # number of epochs to wait before enacting early stopping policy\n",
    "patience = 20                   # number of epochs with no improvement in eval metric to allow before early stopping\n",
    "optimizer = torch.optim.AdamW(components.parameters(), lr=lr)\n",
    "# create a trainer for the problem\n",
    "my_trainer = trainer(components, loss_fn, optimizer, epochs, patience, warmup, device=\"cuda\")\n",
    "# training for the rounding problem\n",
    "my_trainer.train(loader_train, loader_dev)"
   ]
  },
  {
   "cell_type": "code",
   "execution_count": 13,
   "id": "3e835084-eb75-45d9-bcbd-5fb4c613fb41",
   "metadata": {},
   "outputs": [
    {
     "name": "stderr",
     "output_type": "stream",
     "text": [
      "100%|██████████████████████████████████████████████████████████████████████████████| 1000/1000 [07:15<00:00,  2.30it/s]\n"
     ]
    },
    {
     "name": "stdout",
     "output_type": "stream",
     "text": [
      "           Obj Val  Constraints Viol  Elapsed Time\n",
      "count  1000.000000       1000.000000   1000.000000\n",
      "mean    -44.298379          0.032404      0.009528\n",
      "std       0.232836          0.089142      0.022423\n",
      "min     -44.741982          0.000000      0.002012\n",
      "25%     -44.440460          0.000000      0.003526\n",
      "50%     -44.361336          0.000000      0.004116\n",
      "75%     -44.293545          0.000000      0.006507\n",
      "max     -43.458989          0.643882      0.255444\n",
      "Number of infeasible solution: 203\n"
     ]
    }
   ],
   "source": [
    "params, sols, objvals, conviols, elapseds = [], [], [], [], []\n",
    "for b in tqdm(data_test.datadict[\"b\"]):\n",
    "    # data point as tensor\n",
    "    datapoints = {\"b\": torch.unsqueeze(b, 0).to(\"cuda\"), \n",
    "                  \"name\": \"test\"}\n",
    "    # infer\n",
    "    components.eval()\n",
    "    tick = time.time()\n",
    "    with torch.no_grad():\n",
    "        for comp in components:\n",
    "            datapoints.update(comp(datapoints))\n",
    "    tock = time.time()\n",
    "    # assign params\n",
    "    model.set_param_val({\"b\":b.cpu().numpy()})\n",
    "    # assign vars\n",
    "    x = datapoints[\"x_rnd\"]\n",
    "    for i in range(num_var):\n",
    "        model.vars[\"x\"][i].value = x[0,i].item()\n",
    "    # get solutions\n",
    "    xval, objval = model.get_val()    \n",
    "    params.append(list(b.cpu().numpy()))\n",
    "    sols.append(list(list(xval.values())[0].values()))\n",
    "    objvals.append(objval)\n",
    "    conviols.append(sum(model.cal_violation()))\n",
    "    elapseds.append(tock - tick)\n",
    "df = pd.DataFrame({\"Param\":params, \"Sol\":sols, \"Obj Val\": objvals, \"Constraints Viol\": conviols, \"Elapsed Time\": elapseds})\n",
    "time.sleep(1)\n",
    "print(df.describe())\n",
    "print(\"Number of infeasible solution: {}\".format(np.sum(df[\"Constraints Viol\"] > 0)))\n",
    "df.to_csv(\"result/cq_lr_400-400.csv\")"
   ]
  },
  {
   "cell_type": "markdown",
   "id": "2dbf8a72-29b9-49c4-b3c1-0d68895c1c1f",
   "metadata": {},
   "source": [
    "## Learnable Threshold"
   ]
  },
  {
   "cell_type": "code",
   "execution_count": 14,
   "id": "36c57dbb-8dee-4976-8922-82a155fe0128",
   "metadata": {},
   "outputs": [],
   "source": [
    "# random seed\n",
    "np.random.seed(42)\n",
    "torch.manual_seed(42)\n",
    "torch.cuda.manual_seed(42)"
   ]
  },
  {
   "cell_type": "code",
   "execution_count": 15,
   "id": "d46b9817-87ac-4af0-b387-b10c9a4998f4",
   "metadata": {},
   "outputs": [],
   "source": [
    "# hyperparameters\n",
    "penalty_weight = 50   # weight of constraint violation penealty\n",
    "hlayers_sol = 5       # number of hidden layers for solution mapping\n",
    "hlayers_rnd = 4       # number of hidden layers for solution mapping\n",
    "hsize = 1024          # width of hidden layers for solution mapping\n",
    "lr = 1e-3             # learning rate"
   ]
  },
  {
   "cell_type": "code",
   "execution_count": 16,
   "id": "fa8b147f-39c8-4eb7-bb95-93dd8e4cb1cf",
   "metadata": {},
   "outputs": [],
   "source": [
    "# set problem\n",
    "import neuromancer as nm\n",
    "from src.problem import nmQuadratic\n",
    "from src.func.layer import netFC\n",
    "from src.func import roundThresholdModel\n",
    "# build neural architecture for the solution map\n",
    "func = nm.modules.blocks.MLP(insize=num_ineq, outsize=num_var, bias=True,\n",
    "                             linear_map=nm.slim.maps[\"linear\"],\n",
    "                             nonlin=nn.ReLU, hsizes=[hsize]*hlayers_sol)\n",
    "smap = nm.system.Node(func, [\"b\"], [\"x\"], name=\"smap\")\n",
    "# define rounding model\n",
    "layers_rnd = netFC(input_dim=num_ineq+num_var, hidden_dims=[hsize]*hlayers_rnd, output_dim=num_var)\n",
    "rnd = roundThresholdModel(layers=layers_rnd, param_keys=[\"b\"], var_keys=[\"x\"],  output_keys=[\"x_rnd\"], \n",
    "                       int_ind=model.int_ind, continuous_update=True, name=\"round\")\n",
    "# build neuromancer problem for rounding\n",
    "components = nn.ModuleList([smap, rnd]).to(\"cuda\")\n",
    "loss_fn = nmQuadratic([\"b\", \"x_rnd\"], num_var, num_ineq, penalty_weight)"
   ]
  },
  {
   "cell_type": "code",
   "execution_count": 17,
   "id": "c6f5bb17-8c3c-4dcd-952d-caa1d7c4c4fa",
   "metadata": {},
   "outputs": [
    {
     "name": "stdout",
     "output_type": "stream",
     "text": [
      "Epoch 0, Validation Loss: 5021.31\n",
      "Epoch 1, Validation Loss: 5.84\n",
      "Epoch 2, Validation Loss: -8.14\n",
      "Epoch 3, Validation Loss: -17.01\n",
      "Epoch 4, Validation Loss: -18.40\n",
      "Epoch 5, Validation Loss: -23.67\n",
      "Epoch 6, Validation Loss: -25.98\n",
      "Epoch 7, Validation Loss: -28.61\n",
      "Epoch 8, Validation Loss: -31.35\n",
      "Epoch 9, Validation Loss: -25.37\n",
      "Epoch 10, Validation Loss: -32.33\n",
      "Epoch 11, Validation Loss: -24.39\n",
      "Epoch 12, Validation Loss: -32.31\n",
      "Epoch 13, Validation Loss: -31.70\n",
      "Epoch 14, Validation Loss: -36.19\n",
      "Epoch 15, Validation Loss: -35.86\n",
      "Epoch 16, Validation Loss: -36.12\n",
      "Epoch 17, Validation Loss: -33.82\n",
      "Epoch 18, Validation Loss: -30.85\n",
      "Epoch 19, Validation Loss: -36.47\n",
      "Epoch 20, Validation Loss: -35.70\n",
      "Epoch 21, Validation Loss: -36.51\n",
      "Epoch 22, Validation Loss: -36.34\n",
      "Epoch 23, Validation Loss: -33.03\n",
      "Epoch 24, Validation Loss: -36.77\n",
      "Epoch 25, Validation Loss: -38.21\n",
      "Epoch 26, Validation Loss: -35.23\n",
      "Epoch 27, Validation Loss: -38.40\n",
      "Epoch 28, Validation Loss: -38.18\n",
      "Epoch 29, Validation Loss: -36.73\n",
      "Epoch 30, Validation Loss: -35.63\n",
      "Epoch 31, Validation Loss: -39.09\n",
      "Epoch 32, Validation Loss: -36.12\n",
      "Epoch 33, Validation Loss: -37.15\n",
      "Epoch 34, Validation Loss: -41.47\n",
      "Epoch 35, Validation Loss: -36.99\n",
      "Epoch 36, Validation Loss: -39.29\n",
      "Epoch 37, Validation Loss: -39.15\n",
      "Epoch 38, Validation Loss: -39.65\n",
      "Epoch 39, Validation Loss: -37.89\n",
      "Epoch 40, Validation Loss: -40.79\n",
      "Epoch 41, Validation Loss: -35.23\n",
      "Epoch 42, Validation Loss: -37.04\n",
      "Epoch 43, Validation Loss: -39.83\n",
      "Epoch 44, Validation Loss: -39.86\n",
      "Epoch 45, Validation Loss: -41.85\n",
      "Epoch 46, Validation Loss: -40.55\n",
      "Epoch 47, Validation Loss: -30.28\n",
      "Epoch 48, Validation Loss: -37.59\n",
      "Epoch 49, Validation Loss: -15.10\n",
      "Epoch 50, Validation Loss: -39.33\n",
      "Epoch 51, Validation Loss: -40.95\n",
      "Epoch 52, Validation Loss: -35.45\n",
      "Epoch 53, Validation Loss: -40.55\n",
      "Epoch 54, Validation Loss: -36.99\n",
      "Epoch 55, Validation Loss: -41.51\n",
      "Epoch 56, Validation Loss: -41.03\n",
      "Epoch 57, Validation Loss: -40.41\n",
      "Epoch 58, Validation Loss: -40.93\n",
      "Epoch 59, Validation Loss: -38.72\n",
      "Epoch 60, Validation Loss: -22.93\n",
      "Epoch 61, Validation Loss: -30.96\n",
      "Epoch 62, Validation Loss: -43.26\n",
      "Epoch 63, Validation Loss: -40.31\n",
      "Epoch 64, Validation Loss: -37.32\n",
      "Epoch 65, Validation Loss: -42.41\n",
      "Epoch 66, Validation Loss: -43.41\n",
      "Epoch 67, Validation Loss: -41.17\n",
      "Epoch 68, Validation Loss: -33.53\n",
      "Epoch 69, Validation Loss: -39.93\n",
      "Epoch 70, Validation Loss: -42.99\n",
      "Epoch 71, Validation Loss: -38.34\n",
      "Epoch 72, Validation Loss: -40.21\n",
      "Epoch 73, Validation Loss: -42.39\n",
      "Epoch 74, Validation Loss: -41.05\n",
      "Epoch 75, Validation Loss: -43.11\n",
      "Epoch 76, Validation Loss: -41.18\n",
      "Epoch 77, Validation Loss: -37.53\n",
      "Epoch 78, Validation Loss: -38.59\n",
      "Epoch 79, Validation Loss: -36.38\n",
      "Epoch 80, Validation Loss: -42.83\n",
      "Epoch 81, Validation Loss: -38.74\n",
      "Epoch 82, Validation Loss: -40.65\n",
      "Epoch 83, Validation Loss: -39.16\n",
      "Epoch 84, Validation Loss: -38.92\n",
      "Epoch 85, Validation Loss: -43.16\n",
      "Early stopping at epoch 85\n",
      "Best model loaded.\n",
      "Training complete.\n"
     ]
    }
   ],
   "source": [
    "from src.problem.neuromancer.trainer import trainer\n",
    "# training\n",
    "epochs = 200                    # number of training epochs\n",
    "warmup = 20                     # number of epochs to wait before enacting early stopping policy\n",
    "patience = 20                   # number of epochs with no improvement in eval metric to allow before early stopping\n",
    "optimizer = torch.optim.AdamW(components.parameters(), lr=lr)\n",
    "# create a trainer for the problem\n",
    "my_trainer = trainer(components, loss_fn, optimizer, epochs, patience, warmup, device=\"cuda\")\n",
    "# training for the rounding problem\n",
    "my_trainer.train(loader_train, loader_dev)"
   ]
  },
  {
   "cell_type": "code",
   "execution_count": 18,
   "id": "6584d57e-6b4c-4262-82f5-55735ef17cac",
   "metadata": {},
   "outputs": [
    {
     "name": "stderr",
     "output_type": "stream",
     "text": [
      "100%|██████████████████████████████████████████████████████████████████████████████| 1000/1000 [07:28<00:00,  2.23it/s]\n"
     ]
    },
    {
     "name": "stdout",
     "output_type": "stream",
     "text": [
      "           Obj Val  Constraints Viol  Elapsed Time\n",
      "count  1000.000000       1000.000000   1000.000000\n",
      "mean    -43.856931          0.013985      0.009608\n",
      "std       0.280737          0.055502      0.021913\n",
      "min     -44.430156          0.000000      0.001997\n",
      "25%     -44.062661          0.000000      0.003516\n",
      "50%     -43.880585          0.000000      0.004206\n",
      "75%     -43.690001          0.000000      0.006601\n",
      "max     -42.142440          0.522837      0.269831\n",
      "Number of infeasible solution: 102\n"
     ]
    }
   ],
   "source": [
    "params, sols, objvals, conviols, elapseds = [], [], [], [], []\n",
    "for b in tqdm(data_test.datadict[\"b\"]):\n",
    "    # data point as tensor\n",
    "    datapoints = {\"b\": torch.unsqueeze(b, 0).to(\"cuda\"), \n",
    "                  \"name\": \"test\"}\n",
    "    # infer\n",
    "    components.eval()\n",
    "    tick = time.time()\n",
    "    with torch.no_grad():\n",
    "        for comp in components:\n",
    "            datapoints.update(comp(datapoints))\n",
    "    tock = time.time()\n",
    "    # assign params\n",
    "    model.set_param_val({\"b\":b.cpu().numpy()})\n",
    "    # assign vars\n",
    "    x = datapoints[\"x_rnd\"]\n",
    "    for i in range(num_var):\n",
    "        model.vars[\"x\"][i].value = x[0,i].item()\n",
    "    # get solutions\n",
    "    xval, objval = model.get_val()    \n",
    "    params.append(list(b.cpu().numpy()))\n",
    "    sols.append(list(list(xval.values())[0].values()))\n",
    "    objvals.append(objval)\n",
    "    conviols.append(sum(model.cal_violation()))\n",
    "    elapseds.append(tock - tick)\n",
    "df = pd.DataFrame({\"Param\":params, \"Sol\":sols, \"Obj Val\": objvals, \"Constraints Viol\": conviols, \"Elapsed Time\": elapseds})\n",
    "time.sleep(1)\n",
    "print(df.describe())\n",
    "print(\"Number of infeasible solution: {}\".format(np.sum(df[\"Constraints Viol\"] > 0)))\n",
    "df.to_csv(\"result/cq_lt_400-400.csv\")"
   ]
  },
  {
   "cell_type": "code",
   "execution_count": null,
   "id": "382a0a8a-d846-4182-ab69-7d618edea9cf",
   "metadata": {},
   "outputs": [],
   "source": []
  }
 ],
 "metadata": {
  "kernelspec": {
   "display_name": "Python 3 (ipykernel)",
   "language": "python",
   "name": "python3"
  },
  "language_info": {
   "codemirror_mode": {
    "name": "ipython",
    "version": 3
   },
   "file_extension": ".py",
   "mimetype": "text/x-python",
   "name": "python",
   "nbconvert_exporter": "python",
   "pygments_lexer": "ipython3",
   "version": "3.10.13"
  }
 },
 "nbformat": 4,
 "nbformat_minor": 5
}
