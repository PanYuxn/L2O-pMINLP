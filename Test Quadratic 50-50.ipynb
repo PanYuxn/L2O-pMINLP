{
 "cells": [
  {
   "cell_type": "code",
   "execution_count": 1,
   "id": "be61b914-e1af-43b9-9766-5092593f92dd",
   "metadata": {},
   "outputs": [],
   "source": [
    "import time\n",
    "\n",
    "import numpy as np\n",
    "import pandas as pd\n",
    "import torch\n",
    "from torch import nn\n",
    "from tqdm import tqdm\n",
    "\n",
    "# random seed\n",
    "np.random.seed(42)\n",
    "torch.manual_seed(42)\n",
    "torch.cuda.manual_seed(42)"
   ]
  },
  {
   "cell_type": "code",
   "execution_count": 2,
   "id": "35fe4527-9dbf-48f0-bfb3-62cda59092aa",
   "metadata": {},
   "outputs": [],
   "source": [
    "# turn off warning\n",
    "import logging\n",
    "logging.getLogger('pyomo.core').setLevel(logging.ERROR)"
   ]
  },
  {
   "cell_type": "markdown",
   "id": "c5560447-da9d-4cbe-aab4-538aa11c8ee8",
   "metadata": {},
   "source": [
    "## Problem Setting"
   ]
  },
  {
   "cell_type": "code",
   "execution_count": 3,
   "id": "52363c72-0d20-4c08-bd00-0f62aa73686c",
   "metadata": {},
   "outputs": [],
   "source": [
    "# init\n",
    "num_var = 50      # number of variables\n",
    "num_ineq = 50     # number of constraints\n",
    "num_data = 10000  # number of data\n",
    "test_size = 1000  # number of test size\n",
    "val_size = 1000   # number of validation size\n",
    "train_size = num_data - test_size - val_size"
   ]
  },
  {
   "cell_type": "code",
   "execution_count": 4,
   "id": "21938c00-d73f-4255-bc7c-bce6e8034cf8",
   "metadata": {},
   "outputs": [],
   "source": [
    "# data sample from uniform distribution\n",
    "b_samples = torch.from_numpy(np.random.uniform(-1, 1, size=(num_data, num_ineq))).float()\n",
    "data = {\"b\":b_samples}\n",
    "# data split\n",
    "from src.utlis import data_split\n",
    "data_train, data_test, data_dev = data_split(data, test_size=test_size, val_size=val_size)"
   ]
  },
  {
   "cell_type": "code",
   "execution_count": 5,
   "id": "5ecf81ff-627d-444d-8d90-121c7e20c217",
   "metadata": {},
   "outputs": [],
   "source": [
    "# torch dataloaders\n",
    "from torch.utils.data import DataLoader\n",
    "batch_size = 64\n",
    "loader_train = DataLoader(data_train, batch_size, num_workers=0, collate_fn=data_train.collate_fn, shuffle=True)\n",
    "loader_test = DataLoader(data_test, batch_size, num_workers=0, collate_fn=data_test.collate_fn, shuffle=False)\n",
    "loader_dev = DataLoader(data_dev, batch_size, num_workers=0, collate_fn=data_dev.collate_fn, shuffle=False)"
   ]
  },
  {
   "cell_type": "markdown",
   "id": "16ec0a67-54ea-4a9d-b037-0c7c9390e3f9",
   "metadata": {},
   "source": [
    "## Exact Solver"
   ]
  },
  {
   "cell_type": "code",
   "execution_count": 6,
   "id": "50aaabd7-90ed-4628-a1da-c98777868d92",
   "metadata": {},
   "outputs": [],
   "source": [
    "from src.problem import msQuadratic\n",
    "model = msQuadratic(num_var, num_ineq)"
   ]
  },
  {
   "cell_type": "markdown",
   "id": "cad38e16-1a87-4f11-92b4-b608f7f3ea11",
   "metadata": {},
   "source": [
    "## Heuristic - Round"
   ]
  },
  {
   "cell_type": "code",
   "execution_count": 7,
   "id": "03328361-3f39-461d-ac81-40c8c14717bb",
   "metadata": {},
   "outputs": [],
   "source": [
    "from src.heuristic import naive_round"
   ]
  },
  {
   "cell_type": "code",
   "execution_count": 8,
   "id": "2e57b62f-dfb4-4c87-b42e-e43b202ef96c",
   "metadata": {},
   "outputs": [
    {
     "name": "stderr",
     "output_type": "stream",
     "text": [
      "100%|██████████████████████████████████████████████████████████████████████████████| 1000/1000 [05:38<00:00,  2.95it/s]\n"
     ]
    },
    {
     "name": "stdout",
     "output_type": "stream",
     "text": [
      "           Obj Val  Constraints Viol  Elapsed Time\n",
      "count  1000.000000       1000.000000   1000.000000\n",
      "mean    -16.141183          1.883578      0.245323\n",
      "std       0.318926          0.487851      0.069632\n",
      "min     -16.979353          0.470149      0.156702\n",
      "25%     -16.366533          1.517763      0.199059\n",
      "50%     -16.138196          1.847186      0.231558\n",
      "75%     -15.916087          2.209809      0.272832\n",
      "max     -15.202193          3.384434      0.848458\n",
      "Number of infeasible solution: 1000\n"
     ]
    }
   ],
   "source": [
    "params, sols, objvals, conviols, elapseds = [], [], [], [], []\n",
    "for b in tqdm(data_test.datadict[\"b\"]):\n",
    "    # set params\n",
    "    model.set_param_val({\"b\":b.cpu().numpy()})\n",
    "    # relax\n",
    "    model_rel = model.relax()\n",
    "    # solve\n",
    "    tick = time.time()\n",
    "    xval_rel, _ = model_rel.solve(\"gurobi\")\n",
    "    xval, objval = naive_round(xval_rel, model)\n",
    "    tock = time.time()\n",
    "    # eval\n",
    "    params.append(list(b))\n",
    "    sols.append(list(list(xval.values())[0].values()))\n",
    "    objvals.append(objval)\n",
    "    conviols.append(sum(model.cal_violation()))\n",
    "    elapseds.append(tock - tick)\n",
    "df = pd.DataFrame({\"Param\":params, \"Sol\":sols, \"Obj Val\": objvals, \"Constraints Viol\": conviols, \"Elapsed Time\": elapseds})\n",
    "time.sleep(1)\n",
    "print(df.describe())\n",
    "print(\"Number of infeasible solution: {}\".format(np.sum(df[\"Constraints Viol\"] > 0)))\n",
    "df.to_csv(\"result/cq_heur_rnd_50-50.csv\")"
   ]
  },
  {
   "cell_type": "markdown",
   "id": "96304fbd-08f5-4be7-a81e-83c85332029c",
   "metadata": {},
   "source": [
    "## Heuristic - N1"
   ]
  },
  {
   "cell_type": "code",
   "execution_count": 9,
   "id": "356187af-e02d-4478-bf78-ada6a2e1b94b",
   "metadata": {},
   "outputs": [],
   "source": [
    "model_heur = model.first_solution_heuristic(nodes_limit=1)"
   ]
  },
  {
   "cell_type": "code",
   "execution_count": 10,
   "id": "f4c7fc52-cbbc-4414-bf1d-316d65c8db5b",
   "metadata": {},
   "outputs": [
    {
     "name": "stderr",
     "output_type": "stream",
     "text": [
      "100%|██████████████████████████████████████████████████████████████████████████████| 1000/1000 [04:14<00:00,  3.93it/s]\n"
     ]
    },
    {
     "name": "stdout",
     "output_type": "stream",
     "text": [
      "            Obj Val  Constraints Viol  Elapsed Time\n",
      "count  1.000000e+03            1000.0   1000.000000\n",
      "mean   1.587427e+17               0.0      0.243883\n",
      "std    1.495455e+17               0.0      0.111663\n",
      "min   -1.628116e+01               0.0      0.157912\n",
      "25%   -1.098950e+01               0.0      0.193062\n",
      "50%    2.266936e+17               0.0      0.224638\n",
      "75%    2.994127e+17               0.0      0.268512\n",
      "max    5.661554e+17               0.0      2.894798\n",
      "Number of infeasible solution: 0\n"
     ]
    }
   ],
   "source": [
    "params, sols, objvals, conviols, elapseds = [], [], [], [], []\n",
    "for b in tqdm(data_test.datadict[\"b\"]):\n",
    "    # set params\n",
    "    model_heur.set_param_val({\"b\":b.cpu().numpy()})\n",
    "    # solve\n",
    "    tick = time.time()\n",
    "    xval, objval = model_heur.solve(\"gurobi\")\n",
    "    tock = time.time()\n",
    "    # eval\n",
    "    params.append(list(b))\n",
    "    sols.append(list(list(xval.values())[0].values()))\n",
    "    objvals.append(objval)\n",
    "    conviols.append(sum(model_heur.cal_violation()))\n",
    "    elapseds.append(tock - tick)\n",
    "df = pd.DataFrame({\"Param\":params, \"Sol\":sols, \"Obj Val\": objvals, \"Constraints Viol\": conviols, \"Elapsed Time\": elapseds})\n",
    "time.sleep(1)\n",
    "print(df.describe())\n",
    "print(\"Number of infeasible solution: {}\".format(np.sum(df[\"Constraints Viol\"] > 0)))\n",
    "df.to_csv(\"result/cq_heur_n1_50-50.csv\")"
   ]
  },
  {
   "cell_type": "markdown",
   "id": "316273d7-690a-424a-bab4-6a7638457d87",
   "metadata": {},
   "source": [
    "### Heuristic - N3"
   ]
  },
  {
   "cell_type": "code",
   "execution_count": 11,
   "id": "52ce4b8c-8469-4aaa-9346-e650c2e19b81",
   "metadata": {},
   "outputs": [],
   "source": [
    "model_heur = model.first_solution_heuristic(nodes_limit=3)"
   ]
  },
  {
   "cell_type": "code",
   "execution_count": 12,
   "id": "c06bcc68-76fc-42af-89fc-dff179a85999",
   "metadata": {},
   "outputs": [
    {
     "name": "stderr",
     "output_type": "stream",
     "text": [
      "100%|██████████████████████████████████████████████████████████████████████████████| 1000/1000 [06:40<00:00,  2.50it/s]\n"
     ]
    },
    {
     "name": "stdout",
     "output_type": "stream",
     "text": [
      "            Obj Val  Constraints Viol  Elapsed Time\n",
      "count  1.000000e+03            1000.0   1000.000000\n",
      "mean   1.467174e+16               0.0      0.390463\n",
      "std    5.131523e+16               0.0      1.107813\n",
      "min   -1.657508e+01               0.0      0.163690\n",
      "25%   -1.536716e+01               0.0      0.223936\n",
      "50%   -1.346294e+01               0.0      0.276416\n",
      "75%    2.006904e+12               0.0      0.375336\n",
      "max    2.797341e+17               0.0     30.982206\n",
      "Number of infeasible solution: 0\n"
     ]
    }
   ],
   "source": [
    "params, sols, objvals, conviols, elapseds = [], [], [], [], []\n",
    "for b in tqdm(data_test.datadict[\"b\"]):\n",
    "    # set params\n",
    "    model_heur.set_param_val({\"b\":b.cpu().numpy()})\n",
    "    # solve\n",
    "    tick = time.time()\n",
    "    xval, objval = model_heur.solve(\"gurobi\")\n",
    "    tock = time.time()\n",
    "    # eval\n",
    "    params.append(list(b))\n",
    "    sols.append(list(list(xval.values())[0].values()))\n",
    "    objvals.append(objval)\n",
    "    conviols.append(sum(model_heur.cal_violation()))\n",
    "    elapseds.append(tock - tick)\n",
    "df = pd.DataFrame({\"Param\":params, \"Sol\":sols, \"Obj Val\": objvals, \"Constraints Viol\": conviols, \"Elapsed Time\": elapseds})\n",
    "time.sleep(1)\n",
    "print(df.describe())\n",
    "print(\"Number of infeasible solution: {}\".format(np.sum(df[\"Constraints Viol\"] > 0)))\n",
    "df.to_csv(\"result/cq_heur_n3_50-50.csv\")"
   ]
  },
  {
   "cell_type": "markdown",
   "id": "9819c60c-df5f-41c6-ae83-888c75aa78d7",
   "metadata": {},
   "source": [
    "## Learnable Rounding"
   ]
  },
  {
   "cell_type": "code",
   "execution_count": 7,
   "id": "6a4fb3e2-9c47-4c10-8116-e94be18ea59c",
   "metadata": {},
   "outputs": [],
   "source": [
    "# random seed\n",
    "np.random.seed(42)\n",
    "torch.manual_seed(42)\n",
    "torch.cuda.manual_seed(42)"
   ]
  },
  {
   "cell_type": "code",
   "execution_count": 8,
   "id": "536d2d58-67ba-408a-b72a-7c5bd54a5ff4",
   "metadata": {},
   "outputs": [],
   "source": [
    "# hyperparameters\n",
    "penalty_weight = 100  # weight of constraint violation penealty\n",
    "hlayers_sol = 5       # number of hidden layers for solution mapping\n",
    "hlayers_rnd = 4       # number of hidden layers for solution mapping\n",
    "hsize = 128           # width of hidden layers for solution mapping\n",
    "lr = 1e-3             # learning rate"
   ]
  },
  {
   "cell_type": "code",
   "execution_count": 9,
   "id": "fee1241e-e53a-4cbb-927a-edcdb3537303",
   "metadata": {},
   "outputs": [],
   "source": [
    "# set problem\n",
    "import neuromancer as nm\n",
    "from src.problem import nmQuadratic\n",
    "from src.func.layer import netFC\n",
    "from src.func import roundGumbelModel\n",
    "# build neural architecture for the solution map\n",
    "func = nm.modules.blocks.MLP(insize=num_ineq, outsize=num_var, bias=True,\n",
    "                             linear_map=nm.slim.maps[\"linear\"],\n",
    "                             nonlin=nn.ReLU, hsizes=[hsize]*hlayers_sol)\n",
    "smap = nm.system.Node(func, [\"b\"], [\"x\"], name=\"smap\")\n",
    "# define rounding model\n",
    "layers_rnd = netFC(input_dim=num_ineq+num_var, hidden_dims=[hsize]*hlayers_rnd, output_dim=num_var)\n",
    "rnd = roundGumbelModel(layers=layers_rnd, param_keys=[\"b\"], var_keys=[\"x\"],  output_keys=[\"x_rnd\"], \n",
    "                       int_ind=model.int_ind, continuous_update=True, name=\"round\")\n",
    "# build neuromancer problem for rounding\n",
    "components = nn.ModuleList([smap, rnd]).to(\"cuda\")\n",
    "loss_fn = nmQuadratic([\"b\", \"x_rnd\"], num_var, num_ineq, penalty_weight)"
   ]
  },
  {
   "cell_type": "code",
   "execution_count": 10,
   "id": "e4f10263-5f69-4288-a4e8-8be83929c8d6",
   "metadata": {},
   "outputs": [
    {
     "name": "stdout",
     "output_type": "stream",
     "text": [
      "Epoch 0, Validation Loss: 1485.66\n",
      "Epoch 1, Validation Loss: -5.64\n",
      "Epoch 2, Validation Loss: -9.07\n",
      "Epoch 3, Validation Loss: -9.55\n",
      "Epoch 4, Validation Loss: -9.64\n",
      "Epoch 5, Validation Loss: -9.82\n",
      "Epoch 6, Validation Loss: -9.87\n",
      "Epoch 7, Validation Loss: -10.24\n",
      "Epoch 8, Validation Loss: -9.79\n",
      "Epoch 9, Validation Loss: -10.43\n",
      "Epoch 10, Validation Loss: -9.97\n",
      "Epoch 11, Validation Loss: -10.78\n",
      "Epoch 12, Validation Loss: -10.11\n",
      "Epoch 13, Validation Loss: -9.76\n",
      "Epoch 14, Validation Loss: -10.43\n",
      "Epoch 15, Validation Loss: -10.54\n",
      "Epoch 16, Validation Loss: -11.11\n",
      "Epoch 17, Validation Loss: -10.76\n",
      "Epoch 18, Validation Loss: -11.18\n",
      "Epoch 19, Validation Loss: -10.93\n",
      "Epoch 20, Validation Loss: -10.53\n",
      "Epoch 21, Validation Loss: -10.88\n",
      "Epoch 22, Validation Loss: -11.63\n",
      "Epoch 23, Validation Loss: -11.36\n",
      "Epoch 24, Validation Loss: -11.32\n",
      "Epoch 25, Validation Loss: -11.22\n",
      "Epoch 26, Validation Loss: -11.46\n",
      "Epoch 27, Validation Loss: -11.38\n",
      "Epoch 28, Validation Loss: -11.84\n",
      "Epoch 29, Validation Loss: -10.57\n",
      "Epoch 30, Validation Loss: -11.49\n",
      "Epoch 31, Validation Loss: -11.54\n",
      "Epoch 32, Validation Loss: -11.27\n",
      "Epoch 33, Validation Loss: -11.30\n",
      "Epoch 34, Validation Loss: -11.16\n",
      "Epoch 35, Validation Loss: -11.31\n",
      "Epoch 36, Validation Loss: -11.51\n",
      "Epoch 37, Validation Loss: -11.53\n",
      "Epoch 38, Validation Loss: -11.03\n",
      "Epoch 39, Validation Loss: -11.64\n",
      "Epoch 40, Validation Loss: -11.52\n",
      "Epoch 41, Validation Loss: -11.45\n",
      "Epoch 42, Validation Loss: -11.70\n",
      "Epoch 43, Validation Loss: -11.90\n",
      "Epoch 44, Validation Loss: -11.46\n",
      "Epoch 45, Validation Loss: -11.89\n",
      "Epoch 46, Validation Loss: -11.24\n",
      "Epoch 47, Validation Loss: -11.62\n",
      "Epoch 48, Validation Loss: -11.64\n",
      "Epoch 49, Validation Loss: -11.61\n",
      "Epoch 50, Validation Loss: -11.85\n",
      "Epoch 51, Validation Loss: -11.62\n",
      "Epoch 52, Validation Loss: -11.76\n",
      "Epoch 53, Validation Loss: -11.96\n",
      "Epoch 54, Validation Loss: -11.84\n",
      "Epoch 55, Validation Loss: -12.16\n",
      "Epoch 56, Validation Loss: -11.95\n",
      "Epoch 57, Validation Loss: -12.01\n",
      "Epoch 58, Validation Loss: -11.59\n",
      "Epoch 59, Validation Loss: -12.04\n",
      "Epoch 60, Validation Loss: -11.89\n",
      "Epoch 61, Validation Loss: -11.76\n",
      "Epoch 62, Validation Loss: -11.74\n",
      "Epoch 63, Validation Loss: -11.90\n",
      "Epoch 64, Validation Loss: -11.83\n",
      "Epoch 65, Validation Loss: -12.30\n",
      "Epoch 66, Validation Loss: -12.00\n",
      "Epoch 67, Validation Loss: -12.16\n",
      "Epoch 68, Validation Loss: -12.19\n",
      "Epoch 69, Validation Loss: -11.86\n",
      "Epoch 70, Validation Loss: -12.10\n",
      "Epoch 71, Validation Loss: -11.82\n",
      "Epoch 72, Validation Loss: -12.09\n",
      "Epoch 73, Validation Loss: -12.13\n",
      "Epoch 74, Validation Loss: -12.27\n",
      "Epoch 75, Validation Loss: -11.92\n",
      "Epoch 76, Validation Loss: -12.15\n",
      "Epoch 77, Validation Loss: -12.14\n",
      "Epoch 78, Validation Loss: -12.18\n",
      "Epoch 79, Validation Loss: -12.04\n",
      "Epoch 80, Validation Loss: -12.04\n",
      "Epoch 81, Validation Loss: -12.18\n",
      "Epoch 82, Validation Loss: -11.94\n",
      "Epoch 83, Validation Loss: -12.32\n",
      "Epoch 84, Validation Loss: -12.22\n",
      "Epoch 85, Validation Loss: -12.49\n",
      "Epoch 86, Validation Loss: -12.18\n",
      "Epoch 87, Validation Loss: -12.51\n",
      "Epoch 88, Validation Loss: -12.26\n",
      "Epoch 89, Validation Loss: -12.03\n",
      "Epoch 90, Validation Loss: -12.28\n",
      "Epoch 91, Validation Loss: -12.20\n",
      "Epoch 92, Validation Loss: -12.09\n",
      "Epoch 93, Validation Loss: -12.22\n",
      "Epoch 94, Validation Loss: -12.36\n",
      "Epoch 95, Validation Loss: -12.40\n",
      "Epoch 96, Validation Loss: -12.33\n",
      "Epoch 97, Validation Loss: -12.50\n",
      "Epoch 98, Validation Loss: -12.57\n",
      "Epoch 99, Validation Loss: -12.52\n",
      "Epoch 100, Validation Loss: -12.41\n",
      "Epoch 101, Validation Loss: -12.50\n",
      "Epoch 102, Validation Loss: -12.27\n",
      "Epoch 103, Validation Loss: -12.51\n",
      "Epoch 104, Validation Loss: -12.17\n",
      "Epoch 105, Validation Loss: -12.26\n",
      "Epoch 106, Validation Loss: -12.59\n",
      "Epoch 107, Validation Loss: -12.56\n",
      "Epoch 108, Validation Loss: -12.42\n",
      "Epoch 109, Validation Loss: -12.42\n",
      "Epoch 110, Validation Loss: -12.38\n",
      "Epoch 111, Validation Loss: -12.14\n",
      "Epoch 112, Validation Loss: -12.71\n",
      "Epoch 113, Validation Loss: -12.45\n",
      "Epoch 114, Validation Loss: -12.69\n",
      "Epoch 115, Validation Loss: -12.57\n",
      "Epoch 116, Validation Loss: -12.34\n",
      "Epoch 117, Validation Loss: -12.22\n",
      "Epoch 118, Validation Loss: -12.84\n",
      "Epoch 119, Validation Loss: -12.59\n",
      "Epoch 120, Validation Loss: -12.55\n",
      "Epoch 121, Validation Loss: -12.72\n",
      "Epoch 122, Validation Loss: -12.32\n",
      "Epoch 123, Validation Loss: -12.50\n",
      "Epoch 124, Validation Loss: -12.69\n",
      "Epoch 125, Validation Loss: -12.63\n",
      "Epoch 126, Validation Loss: -12.64\n",
      "Epoch 127, Validation Loss: -12.62\n",
      "Epoch 128, Validation Loss: -12.56\n",
      "Epoch 129, Validation Loss: -12.66\n",
      "Epoch 130, Validation Loss: -12.42\n",
      "Epoch 131, Validation Loss: -12.59\n",
      "Epoch 132, Validation Loss: -12.72\n",
      "Epoch 133, Validation Loss: -12.50\n",
      "Epoch 134, Validation Loss: -12.68\n",
      "Epoch 135, Validation Loss: -12.57\n",
      "Epoch 136, Validation Loss: -12.86\n",
      "Epoch 137, Validation Loss: -12.79\n",
      "Epoch 138, Validation Loss: -12.51\n",
      "Epoch 139, Validation Loss: -12.76\n",
      "Epoch 140, Validation Loss: -12.90\n",
      "Epoch 141, Validation Loss: -12.99\n",
      "Epoch 142, Validation Loss: -12.72\n",
      "Epoch 143, Validation Loss: -12.99\n",
      "Epoch 144, Validation Loss: -12.53\n",
      "Epoch 145, Validation Loss: -12.88\n",
      "Epoch 146, Validation Loss: -12.89\n",
      "Epoch 147, Validation Loss: -12.84\n",
      "Epoch 148, Validation Loss: -12.44\n",
      "Epoch 149, Validation Loss: -12.95\n",
      "Epoch 150, Validation Loss: -12.70\n",
      "Epoch 151, Validation Loss: -12.96\n",
      "Epoch 152, Validation Loss: -12.78\n",
      "Epoch 153, Validation Loss: -12.69\n",
      "Epoch 154, Validation Loss: -12.74\n",
      "Epoch 155, Validation Loss: -12.89\n",
      "Epoch 156, Validation Loss: -12.89\n",
      "Epoch 157, Validation Loss: -12.83\n",
      "Epoch 158, Validation Loss: -12.69\n",
      "Epoch 159, Validation Loss: -12.71\n",
      "Epoch 160, Validation Loss: -12.72\n",
      "Early stopping at epoch 160\n",
      "Best model loaded.\n",
      "Training complete.\n"
     ]
    }
   ],
   "source": [
    "from src.problem.neuromancer.trainer import trainer\n",
    "# training\n",
    "epochs = 200                    # number of training epochs\n",
    "warmup = 20                     # number of epochs to wait before enacting early stopping policy\n",
    "patience = 20                   # number of epochs with no improvement in eval metric to allow before early stopping\n",
    "optimizer = torch.optim.AdamW(components.parameters(), lr=lr)\n",
    "# create a trainer for the problem\n",
    "my_trainer = trainer(components, loss_fn, optimizer, epochs, patience, warmup, device=\"cuda\")\n",
    "# training for the rounding problem\n",
    "my_trainer.train(loader_train, loader_dev)"
   ]
  },
  {
   "cell_type": "code",
   "execution_count": 11,
   "id": "3e835084-eb75-45d9-bcbd-5fb4c613fb41",
   "metadata": {},
   "outputs": [
    {
     "name": "stderr",
     "output_type": "stream",
     "text": [
      "100%|██████████████████████████████████████████████████████████████████████████████| 1000/1000 [00:14<00:00, 70.78it/s]\n"
     ]
    },
    {
     "name": "stdout",
     "output_type": "stream",
     "text": [
      "           Obj Val  Constraints Viol  Elapsed Time\n",
      "count  1000.000000       1000.000000   1000.000000\n",
      "mean    -13.117550          0.001559      0.003492\n",
      "std       0.227264          0.014197      0.001823\n",
      "min     -13.655529          0.000000      0.001000\n",
      "25%     -13.294534          0.000000      0.002511\n",
      "50%     -13.129359          0.000000      0.003004\n",
      "75%     -12.956336          0.000000      0.003714\n",
      "max     -12.345956          0.243642      0.012708\n",
      "Number of infeasible solution: 25\n"
     ]
    }
   ],
   "source": [
    "params, sols, objvals, conviols, elapseds = [], [], [], [], []\n",
    "for b in tqdm(data_test.datadict[\"b\"]):\n",
    "    # data point as tensor\n",
    "    datapoints = {\"b\": torch.unsqueeze(b, 0).to(\"cuda\"), \n",
    "                  \"name\": \"test\"}\n",
    "    # infer\n",
    "    components.eval()\n",
    "    tick = time.time()\n",
    "    with torch.no_grad():\n",
    "        for comp in components:\n",
    "            datapoints.update(comp(datapoints))\n",
    "    tock = time.time()\n",
    "    # assign params\n",
    "    model.set_param_val({\"b\":b.cpu().numpy()})\n",
    "    # assign vars\n",
    "    x = datapoints[\"x_rnd\"]\n",
    "    for i in range(num_var):\n",
    "        model.vars[\"x\"][i].value = x[0,i].item()\n",
    "    # get solutions\n",
    "    xval, objval = model.get_val()    \n",
    "    params.append(list(b.cpu().numpy()))\n",
    "    sols.append(list(list(xval.values())[0].values()))\n",
    "    objvals.append(objval)\n",
    "    conviols.append(sum(model.cal_violation()))\n",
    "    elapseds.append(tock - tick)\n",
    "df = pd.DataFrame({\"Param\":params, \"Sol\":sols, \"Obj Val\": objvals, \"Constraints Viol\": conviols, \"Elapsed Time\": elapseds})\n",
    "time.sleep(1)\n",
    "print(df.describe())\n",
    "print(\"Number of infeasible solution: {}\".format(np.sum(df[\"Constraints Viol\"] > 0)))\n",
    "df.to_csv(\"result/cq_lr_50-50.csv\")"
   ]
  },
  {
   "cell_type": "markdown",
   "id": "2dbf8a72-29b9-49c4-b3c1-0d68895c1c1f",
   "metadata": {},
   "source": [
    "## Learnable Threshold"
   ]
  },
  {
   "cell_type": "code",
   "execution_count": 12,
   "id": "36c57dbb-8dee-4976-8922-82a155fe0128",
   "metadata": {},
   "outputs": [],
   "source": [
    "# random seed\n",
    "np.random.seed(42)\n",
    "torch.manual_seed(42)\n",
    "torch.cuda.manual_seed(42)"
   ]
  },
  {
   "cell_type": "code",
   "execution_count": 13,
   "id": "d46b9817-87ac-4af0-b387-b10c9a4998f4",
   "metadata": {},
   "outputs": [],
   "source": [
    "# hyperparameters\n",
    "penalty_weight = 100  # weight of constraint violation penealty\n",
    "hlayers_sol = 5       # number of hidden layers for solution mapping\n",
    "hlayers_rnd = 4       # number of hidden layers for solution mapping\n",
    "hsize = 128           # width of hidden layers for solution mapping\n",
    "lr = 1e-3             # learning rate"
   ]
  },
  {
   "cell_type": "code",
   "execution_count": 14,
   "id": "fa8b147f-39c8-4eb7-bb95-93dd8e4cb1cf",
   "metadata": {},
   "outputs": [],
   "source": [
    "# set problem\n",
    "import neuromancer as nm\n",
    "from src.problem import nmQuadratic\n",
    "from src.func.layer import netFC\n",
    "from src.func import roundThresholdModel\n",
    "# build neural architecture for the solution map\n",
    "func = nm.modules.blocks.MLP(insize=num_ineq, outsize=num_var, bias=True,\n",
    "                             linear_map=nm.slim.maps[\"linear\"],\n",
    "                             nonlin=nn.ReLU, hsizes=[hsize]*hlayers_sol)\n",
    "smap = nm.system.Node(func, [\"b\"], [\"x\"], name=\"smap\")\n",
    "# define rounding model\n",
    "layers_rnd = netFC(input_dim=num_ineq+num_var, hidden_dims=[hsize]*hlayers_rnd, output_dim=num_var)\n",
    "rnd = roundThresholdModel(layers=layers_rnd, param_keys=[\"b\"], var_keys=[\"x\"],  output_keys=[\"x_rnd\"], \n",
    "                       int_ind=model.int_ind, continuous_update=True, name=\"round\")\n",
    "# build neuromancer problem for rounding\n",
    "components = nn.ModuleList([smap, rnd]).to(\"cuda\")\n",
    "loss_fn = nmQuadratic([\"b\", \"x_rnd\"], num_var, num_ineq, penalty_weight)"
   ]
  },
  {
   "cell_type": "code",
   "execution_count": 15,
   "id": "c6f5bb17-8c3c-4dcd-952d-caa1d7c4c4fa",
   "metadata": {},
   "outputs": [
    {
     "name": "stdout",
     "output_type": "stream",
     "text": [
      "Epoch 0, Validation Loss: 1241.19\n",
      "Epoch 1, Validation Loss: -7.48\n",
      "Epoch 2, Validation Loss: -10.38\n",
      "Epoch 3, Validation Loss: -11.51\n",
      "Epoch 4, Validation Loss: -10.83\n",
      "Epoch 5, Validation Loss: -11.64\n",
      "Epoch 6, Validation Loss: -9.95\n",
      "Epoch 7, Validation Loss: -11.33\n",
      "Epoch 8, Validation Loss: -10.87\n",
      "Epoch 9, Validation Loss: -11.41\n",
      "Epoch 10, Validation Loss: -11.45\n",
      "Epoch 11, Validation Loss: -11.53\n",
      "Epoch 12, Validation Loss: -11.29\n",
      "Epoch 13, Validation Loss: -11.65\n",
      "Epoch 14, Validation Loss: -11.77\n",
      "Epoch 15, Validation Loss: -10.87\n",
      "Epoch 16, Validation Loss: -11.74\n",
      "Epoch 17, Validation Loss: -11.14\n",
      "Epoch 18, Validation Loss: -10.88\n",
      "Epoch 19, Validation Loss: -11.39\n",
      "Epoch 20, Validation Loss: -12.05\n",
      "Epoch 21, Validation Loss: -11.94\n",
      "Epoch 22, Validation Loss: -12.02\n",
      "Epoch 23, Validation Loss: -11.78\n",
      "Epoch 24, Validation Loss: -11.98\n",
      "Epoch 25, Validation Loss: -11.52\n",
      "Epoch 26, Validation Loss: -12.05\n",
      "Epoch 27, Validation Loss: -11.74\n",
      "Epoch 28, Validation Loss: -12.06\n",
      "Epoch 29, Validation Loss: -12.11\n",
      "Epoch 30, Validation Loss: -11.84\n",
      "Epoch 31, Validation Loss: -12.18\n",
      "Epoch 32, Validation Loss: -11.87\n",
      "Epoch 33, Validation Loss: -12.20\n",
      "Epoch 34, Validation Loss: -11.68\n",
      "Epoch 35, Validation Loss: -11.89\n",
      "Epoch 36, Validation Loss: -12.05\n",
      "Epoch 37, Validation Loss: -12.09\n",
      "Epoch 38, Validation Loss: -12.07\n",
      "Epoch 39, Validation Loss: -12.19\n",
      "Epoch 40, Validation Loss: -12.37\n",
      "Epoch 41, Validation Loss: -12.11\n",
      "Epoch 42, Validation Loss: -11.98\n",
      "Epoch 43, Validation Loss: -12.35\n",
      "Epoch 44, Validation Loss: -12.26\n",
      "Epoch 45, Validation Loss: -12.04\n",
      "Epoch 46, Validation Loss: -12.43\n",
      "Epoch 47, Validation Loss: -11.94\n",
      "Epoch 48, Validation Loss: -12.13\n",
      "Epoch 49, Validation Loss: -12.02\n",
      "Epoch 50, Validation Loss: -12.38\n",
      "Epoch 51, Validation Loss: -12.25\n",
      "Epoch 52, Validation Loss: -12.04\n",
      "Epoch 53, Validation Loss: -11.85\n",
      "Epoch 54, Validation Loss: -12.07\n",
      "Epoch 55, Validation Loss: -12.16\n",
      "Epoch 56, Validation Loss: -12.21\n",
      "Epoch 57, Validation Loss: -12.46\n",
      "Epoch 58, Validation Loss: -12.20\n",
      "Epoch 59, Validation Loss: -11.58\n",
      "Epoch 60, Validation Loss: -12.48\n",
      "Epoch 61, Validation Loss: -12.65\n",
      "Epoch 62, Validation Loss: -12.25\n",
      "Epoch 63, Validation Loss: -12.37\n",
      "Epoch 64, Validation Loss: -12.48\n",
      "Epoch 65, Validation Loss: -12.22\n",
      "Epoch 66, Validation Loss: -12.61\n",
      "Epoch 67, Validation Loss: -12.70\n",
      "Epoch 68, Validation Loss: -12.40\n",
      "Epoch 69, Validation Loss: -12.16\n",
      "Epoch 70, Validation Loss: -12.30\n",
      "Epoch 71, Validation Loss: -12.63\n",
      "Epoch 72, Validation Loss: -12.39\n",
      "Epoch 73, Validation Loss: -12.02\n",
      "Epoch 74, Validation Loss: -12.62\n",
      "Epoch 75, Validation Loss: -12.57\n",
      "Epoch 76, Validation Loss: -12.82\n",
      "Epoch 77, Validation Loss: -12.44\n",
      "Epoch 78, Validation Loss: -12.41\n",
      "Epoch 79, Validation Loss: -11.95\n",
      "Epoch 80, Validation Loss: -12.55\n",
      "Epoch 81, Validation Loss: -12.52\n",
      "Epoch 82, Validation Loss: -12.68\n",
      "Epoch 83, Validation Loss: -12.85\n",
      "Epoch 84, Validation Loss: -12.79\n",
      "Epoch 85, Validation Loss: -12.60\n",
      "Epoch 86, Validation Loss: -12.67\n",
      "Epoch 87, Validation Loss: -12.79\n",
      "Epoch 88, Validation Loss: -12.40\n",
      "Epoch 89, Validation Loss: -12.61\n",
      "Epoch 90, Validation Loss: -12.39\n",
      "Epoch 91, Validation Loss: -12.46\n",
      "Epoch 92, Validation Loss: -12.56\n",
      "Epoch 93, Validation Loss: -12.42\n",
      "Epoch 94, Validation Loss: -12.82\n",
      "Epoch 95, Validation Loss: -12.75\n",
      "Epoch 96, Validation Loss: -12.62\n",
      "Epoch 97, Validation Loss: -12.71\n",
      "Epoch 98, Validation Loss: -12.71\n",
      "Epoch 99, Validation Loss: -12.81\n",
      "Epoch 100, Validation Loss: -12.60\n",
      "Epoch 101, Validation Loss: -12.64\n",
      "Epoch 102, Validation Loss: -12.64\n",
      "Early stopping at epoch 102\n",
      "Best model loaded.\n",
      "Training complete.\n"
     ]
    }
   ],
   "source": [
    "from src.problem.neuromancer.trainer import trainer\n",
    "# training\n",
    "epochs = 200                    # number of training epochs\n",
    "warmup = 20                     # number of epochs to wait before enacting early stopping policy\n",
    "patience = 20                   # number of epochs with no improvement in eval metric to allow before early stopping\n",
    "optimizer = torch.optim.AdamW(components.parameters(), lr=lr)\n",
    "# create a trainer for the problem\n",
    "my_trainer = trainer(components, loss_fn, optimizer, epochs, patience, warmup, device=\"cuda\")\n",
    "# training for the rounding problem\n",
    "my_trainer.train(loader_train, loader_dev)"
   ]
  },
  {
   "cell_type": "code",
   "execution_count": 16,
   "id": "6584d57e-6b4c-4262-82f5-55735ef17cac",
   "metadata": {},
   "outputs": [
    {
     "name": "stderr",
     "output_type": "stream",
     "text": [
      "100%|██████████████████████████████████████████████████████████████████████████████| 1000/1000 [00:14<00:00, 67.36it/s]\n"
     ]
    },
    {
     "name": "stdout",
     "output_type": "stream",
     "text": [
      "           Obj Val  Constraints Viol  Elapsed Time\n",
      "count  1000.000000       1000.000000   1000.000000\n",
      "mean    -12.909986          0.000760      0.003746\n",
      "std       0.254866          0.009741      0.001991\n",
      "min     -13.570656          0.000000      0.001347\n",
      "25%     -13.097337          0.000000      0.002521\n",
      "50%     -12.916770          0.000000      0.003139\n",
      "75%     -12.728706          0.000000      0.004084\n",
      "max     -12.053524          0.197861      0.014313\n",
      "Number of infeasible solution: 10\n"
     ]
    }
   ],
   "source": [
    "params, sols, objvals, conviols, elapseds = [], [], [], [], []\n",
    "for b in tqdm(data_test.datadict[\"b\"]):\n",
    "    # data point as tensor\n",
    "    datapoints = {\"b\": torch.unsqueeze(b, 0).to(\"cuda\"), \n",
    "                  \"name\": \"test\"}\n",
    "    # infer\n",
    "    components.eval()\n",
    "    tick = time.time()\n",
    "    with torch.no_grad():\n",
    "        for comp in components:\n",
    "            datapoints.update(comp(datapoints))\n",
    "    tock = time.time()\n",
    "    # assign params\n",
    "    model.set_param_val({\"b\":b.cpu().numpy()})\n",
    "    # assign vars\n",
    "    x = datapoints[\"x_rnd\"]\n",
    "    for i in range(num_var):\n",
    "        model.vars[\"x\"][i].value = x[0,i].item()\n",
    "    # get solutions\n",
    "    xval, objval = model.get_val()    \n",
    "    params.append(list(b.cpu().numpy()))\n",
    "    sols.append(list(list(xval.values())[0].values()))\n",
    "    objvals.append(objval)\n",
    "    conviols.append(sum(model.cal_violation()))\n",
    "    elapseds.append(tock - tick)\n",
    "df = pd.DataFrame({\"Param\":params, \"Sol\":sols, \"Obj Val\": objvals, \"Constraints Viol\": conviols, \"Elapsed Time\": elapseds})\n",
    "time.sleep(1)\n",
    "print(df.describe())\n",
    "print(\"Number of infeasible solution: {}\".format(np.sum(df[\"Constraints Viol\"] > 0)))\n",
    "df.to_csv(\"result/cq_lt_50-50.csv\")"
   ]
  },
  {
   "cell_type": "code",
   "execution_count": null,
   "id": "382a0a8a-d846-4182-ab69-7d618edea9cf",
   "metadata": {},
   "outputs": [],
   "source": []
  }
 ],
 "metadata": {
  "kernelspec": {
   "display_name": "Python 3 (ipykernel)",
   "language": "python",
   "name": "python3"
  },
  "language_info": {
   "codemirror_mode": {
    "name": "ipython",
    "version": 3
   },
   "file_extension": ".py",
   "mimetype": "text/x-python",
   "name": "python",
   "nbconvert_exporter": "python",
   "pygments_lexer": "ipython3",
   "version": "3.10.13"
  }
 },
 "nbformat": 4,
 "nbformat_minor": 5
}
