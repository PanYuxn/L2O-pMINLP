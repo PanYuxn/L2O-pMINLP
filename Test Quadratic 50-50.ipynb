{
 "cells": [
  {
   "cell_type": "code",
   "execution_count": 1,
   "id": "be61b914-e1af-43b9-9766-5092593f92dd",
   "metadata": {},
   "outputs": [],
   "source": [
    "import time\n",
    "\n",
    "import numpy as np\n",
    "import pandas as pd\n",
    "import torch\n",
    "from torch import nn\n",
    "from tqdm import tqdm\n",
    "\n",
    "# random seed\n",
    "np.random.seed(42)\n",
    "torch.manual_seed(42)\n",
    "torch.cuda.manual_seed(42)"
   ]
  },
  {
   "cell_type": "code",
   "execution_count": 2,
   "id": "35fe4527-9dbf-48f0-bfb3-62cda59092aa",
   "metadata": {},
   "outputs": [],
   "source": [
    "# turn off warning\n",
    "import logging\n",
    "logging.getLogger('pyomo.core').setLevel(logging.ERROR)"
   ]
  },
  {
   "cell_type": "markdown",
   "id": "c5560447-da9d-4cbe-aab4-538aa11c8ee8",
   "metadata": {},
   "source": [
    "## Problem Setting"
   ]
  },
  {
   "cell_type": "code",
   "execution_count": 3,
   "id": "52363c72-0d20-4c08-bd00-0f62aa73686c",
   "metadata": {},
   "outputs": [],
   "source": [
    "# init\n",
    "num_var = 50      # number of variables\n",
    "num_ineq = 50     # number of constraints\n",
    "num_data = 5000   # number of data\n",
    "test_size = 1000  # number of test size\n",
    "val_size = 1000   # number of validation size\n",
    "train_size = num_data - test_size - val_size"
   ]
  },
  {
   "cell_type": "code",
   "execution_count": 4,
   "id": "56341963-b7d7-4192-87eb-3f41dec003d2",
   "metadata": {},
   "outputs": [],
   "source": [
    "# generate parameters\n",
    "Q = torch.from_numpy(np.diag(np.random.random(size=num_var))).float().cuda()\n",
    "p = torch.from_numpy(np.random.random(num_var)).float().cuda()\n",
    "A = torch.from_numpy(np.random.normal(scale=1, size=(num_ineq, num_var))).float().cuda()"
   ]
  },
  {
   "cell_type": "code",
   "execution_count": 5,
   "id": "21938c00-d73f-4255-bc7c-bce6e8034cf8",
   "metadata": {},
   "outputs": [],
   "source": [
    "# data sample from uniform distribution\n",
    "b_samples = torch.from_numpy(np.random.uniform(-1, 1, size=(num_data, num_ineq))).float()\n",
    "data = {\"b\":b_samples}\n",
    "# data split\n",
    "from src.utlis import data_split\n",
    "data_train, data_test, data_dev = data_split(data, test_size=test_size, val_size=val_size)"
   ]
  },
  {
   "cell_type": "code",
   "execution_count": 6,
   "id": "5ecf81ff-627d-444d-8d90-121c7e20c217",
   "metadata": {},
   "outputs": [],
   "source": [
    "# torch dataloaders\n",
    "from torch.utils.data import DataLoader\n",
    "batch_size = 256\n",
    "loader_train = DataLoader(data_train, batch_size, num_workers=0, collate_fn=data_train.collate_fn, shuffle=True)\n",
    "loader_test = DataLoader(data_test, batch_size, num_workers=0, collate_fn=data_test.collate_fn, shuffle=False)\n",
    "loader_dev = DataLoader(data_dev, batch_size, num_workers=0, collate_fn=data_dev.collate_fn, shuffle=False)"
   ]
  },
  {
   "cell_type": "markdown",
   "id": "16ec0a67-54ea-4a9d-b037-0c7c9390e3f9",
   "metadata": {},
   "source": [
    "## Exact Solver"
   ]
  },
  {
   "cell_type": "code",
   "execution_count": 7,
   "id": "50aaabd7-90ed-4628-a1da-c98777868d92",
   "metadata": {},
   "outputs": [],
   "source": [
    "from src.problem import msConvexQuadratic\n",
    "model = msConvexQuadratic(Q.cpu().numpy(), p.cpu().numpy(), A.cpu().numpy())"
   ]
  },
  {
   "cell_type": "markdown",
   "id": "cad38e16-1a87-4f11-92b4-b608f7f3ea11",
   "metadata": {},
   "source": [
    "## Heuristic - Round"
   ]
  },
  {
   "cell_type": "code",
   "execution_count": 8,
   "id": "03328361-3f39-461d-ac81-40c8c14717bb",
   "metadata": {},
   "outputs": [],
   "source": [
    "from src.heuristic import naive_round"
   ]
  },
  {
   "cell_type": "code",
   "execution_count": null,
   "id": "2e57b62f-dfb4-4c87-b42e-e43b202ef96c",
   "metadata": {},
   "outputs": [
    {
     "name": "stderr",
     "output_type": "stream",
     "text": [
      " 56%|████████████████████████████████████████████▍                                  | 563/1000 [01:53<01:30,  4.83it/s]"
     ]
    },
    {
     "name": "stdout",
     "output_type": "stream",
     "text": [
      "ERROR: Unable to clone Pyomo component attribute. Component 'OrderedScalarSet'\n",
      "contains an uncopyable field '_init_dimen' (<class\n",
      "'pyomo.core.base.initializer.ConstantInitializer'>).  Setting field to `None`\n",
      "on new object\n",
      "ERROR: Unable to clone Pyomo component attribute. Component 'OrderedScalarSet'\n",
      "contains an uncopyable field '_init_values' (<class\n",
      "'pyomo.core.base.set.TuplizeValuesInitializer'>).  Setting field to `None` on\n",
      "new object\n"
     ]
    },
    {
     "name": "stderr",
     "output_type": "stream",
     "text": [
      "100%|██████████████████████████████████████████████████████████████████████████████| 1000/1000 [03:24<00:00,  4.88it/s]\n"
     ]
    },
    {
     "name": "stdout",
     "output_type": "stream",
     "text": [
      "           Obj Val  Constraints Viol  Elapsed Time\n",
      "count  1000.000000       1000.000000   1000.000000\n",
      "mean     -6.598289         27.415983      0.141020\n",
      "std       0.679915          4.354498      0.011523\n",
      "min      -8.946865         12.853340      0.122267\n",
      "25%      -7.103386         24.368541      0.132108\n",
      "50%      -6.618789         27.254992      0.139096\n",
      "75%      -6.098403         30.461335      0.147027\n",
      "max      -4.113986         39.903281      0.213240\n",
      "Number of infeasible solution: 1000\n"
     ]
    }
   ],
   "source": [
    "params, sols, objvals, conviols, elapseds = [], [], [], [], []\n",
    "for b in tqdm(data_test.datadict[\"b\"]):\n",
    "    # set params\n",
    "    model.set_param_val({\"b\":b.cpu().numpy()})\n",
    "    # relax\n",
    "    model_rel = model.relax()\n",
    "    # solve\n",
    "    tick = time.time()\n",
    "    xval_rel, _ = model_rel.solve(\"gurobi\")\n",
    "    xval, objval = naive_round(xval_rel, model)\n",
    "    tock = time.time()\n",
    "    # eval\n",
    "    params.append(list(b))\n",
    "    sols.append(list(list(xval.values())[0].values()))\n",
    "    objvals.append(objval)\n",
    "    conviols.append(sum(model.cal_violation()))\n",
    "    elapseds.append(tock - tick)\n",
    "df = pd.DataFrame({\"Param\":params, \"Sol\":sols, \"Obj Val\": objvals, \"Constraints Viol\": conviols, \"Elapsed Time\": elapseds})\n",
    "time.sleep(1)\n",
    "print(df.describe())\n",
    "print(\"Number of infeasible solution: {}\".format(np.sum(df[\"Constraints Viol\"] > 0)))\n",
    "df.to_csv(\"result/cq_heur_rnd_50-50.csv\")"
   ]
  },
  {
   "cell_type": "markdown",
   "id": "96304fbd-08f5-4be7-a81e-83c85332029c",
   "metadata": {},
   "source": [
    "## Heuristic - N1"
   ]
  },
  {
   "cell_type": "code",
   "execution_count": 8,
   "id": "356187af-e02d-4478-bf78-ada6a2e1b94b",
   "metadata": {},
   "outputs": [],
   "source": [
    "model_heur = model.first_solution_heuristic(nodes_limit=1)"
   ]
  },
  {
   "cell_type": "code",
   "execution_count": 9,
   "id": "f4c7fc52-cbbc-4414-bf1d-316d65c8db5b",
   "metadata": {},
   "outputs": [
    {
     "name": "stderr",
     "output_type": "stream",
     "text": [
      "100%|██████████████████████████████████████████████████████████████████████████████| 1000/1000 [33:55<00:00,  2.04s/it]\n"
     ]
    },
    {
     "name": "stdout",
     "output_type": "stream",
     "text": [
      "            Obj Val  Constraints Viol  Elapsed Time\n",
      "count  1.000000e+03            1000.0   1000.000000\n",
      "mean   6.581430e+19               0.0      2.027064\n",
      "std    4.115802e+19               0.0      0.758049\n",
      "min    3.538812e+01               0.0      0.132121\n",
      "25%    4.181990e+19               0.0      1.496810\n",
      "50%    5.541559e+19               0.0      1.938578\n",
      "75%    7.653952e+19               0.0      2.484729\n",
      "max    5.069081e+20               0.0      5.301784\n",
      "Number of infeasible solution: 0\n"
     ]
    }
   ],
   "source": [
    "params, sols, objvals, conviols, elapseds = [], [], [], [], []\n",
    "for b in tqdm(data_test.datadict[\"b\"]):\n",
    "    # set params\n",
    "    model_heur.set_param_val({\"b\":b.cpu().numpy()})\n",
    "    # solve\n",
    "    tick = time.time()\n",
    "    xval, objval = model_heur.solve(\"gurobi\")\n",
    "    tock = time.time()\n",
    "    # eval\n",
    "    params.append(list(b))\n",
    "    sols.append(list(list(xval.values())[0].values()))\n",
    "    objvals.append(objval)\n",
    "    conviols.append(sum(model_heur.cal_violation()))\n",
    "    elapseds.append(tock - tick)\n",
    "df = pd.DataFrame({\"Param\":params, \"Sol\":sols, \"Obj Val\": objvals, \"Constraints Viol\": conviols, \"Elapsed Time\": elapseds})\n",
    "time.sleep(1)\n",
    "print(df.describe())\n",
    "print(\"Number of infeasible solution: {}\".format(np.sum(df[\"Constraints Viol\"] > 0)))\n",
    "df.to_csv(\"result/cq_heur_n1_50-50.csv\")"
   ]
  },
  {
   "cell_type": "markdown",
   "id": "9819c60c-df5f-41c6-ae83-888c75aa78d7",
   "metadata": {},
   "source": [
    "## Learnable Rounding"
   ]
  },
  {
   "cell_type": "code",
   "execution_count": 10,
   "id": "6a4fb3e2-9c47-4c10-8116-e94be18ea59c",
   "metadata": {},
   "outputs": [],
   "source": [
    "# random seed\n",
    "np.random.seed(42)\n",
    "torch.manual_seed(42)\n",
    "torch.cuda.manual_seed(42)"
   ]
  },
  {
   "cell_type": "code",
   "execution_count": 11,
   "id": "536d2d58-67ba-408a-b72a-7c5bd54a5ff4",
   "metadata": {},
   "outputs": [],
   "source": [
    "# hyperparameters\n",
    "penalty_weight = 100  # weight of constraint violation penealty\n",
    "hlayers_sol = 4       # number of hidden layers for solution mapping\n",
    "hlayers_rnd = 4       # number of hidden layers for solution mapping\n",
    "hsize = 256           # width of hidden layers for solution mapping\n",
    "lr = 1e-3             # learning rate"
   ]
  },
  {
   "cell_type": "code",
   "execution_count": 12,
   "id": "fee1241e-e53a-4cbb-927a-edcdb3537303",
   "metadata": {},
   "outputs": [],
   "source": [
    "# set problem\n",
    "import neuromancer as nm\n",
    "from src.problem import nmConvexQuadratic\n",
    "from src.func.layer import netFC\n",
    "from src.func import roundGumbelModel\n",
    "# build neural architecture for the solution map\n",
    "func = nm.modules.blocks.MLP(insize=num_ineq, outsize=num_var, bias=True,\n",
    "                             linear_map=nm.slim.maps[\"linear\"],\n",
    "                             nonlin=nn.ReLU, hsizes=[hsize]*hlayers_sol)\n",
    "smap = nm.system.Node(func, [\"b\"], [\"x\"], name=\"smap\")\n",
    "# define rounding model\n",
    "layers_rnd = netFC(input_dim=num_ineq+num_var, hidden_dims=[hsize]*hlayers_rnd, output_dim=num_var)\n",
    "rnd = roundGumbelModel(layers=layers_rnd, param_keys=[\"b\"], var_keys=[\"x\"],  output_keys=[\"x_rnd\"], \n",
    "                       int_ind=model.int_ind, continuous_update=True, name=\"round\")\n",
    "# build neuromancer problem for rounding\n",
    "components = nn.ModuleList([smap, rnd]).to(\"cuda\")\n",
    "loss_fn = nmConvexQuadratic([\"b\", \"x_rnd\"], Q, p, A, penalty_weight)"
   ]
  },
  {
   "cell_type": "code",
   "execution_count": 13,
   "id": "e4f10263-5f69-4288-a4e8-8be83929c8d6",
   "metadata": {},
   "outputs": [
    {
     "name": "stdout",
     "output_type": "stream",
     "text": [
      "Epoch 0, Validation Loss: 8105.16\n",
      "Epoch 1, Validation Loss: 2460.32\n",
      "Epoch 2, Validation Loss: 344.46\n",
      "Epoch 3, Validation Loss: 229.78\n",
      "Epoch 4, Validation Loss: 180.33\n",
      "Epoch 5, Validation Loss: 184.75\n",
      "Epoch 6, Validation Loss: 162.84\n",
      "Epoch 7, Validation Loss: 162.88\n",
      "Epoch 8, Validation Loss: 140.48\n",
      "Epoch 9, Validation Loss: 136.81\n",
      "Epoch 10, Validation Loss: 153.91\n",
      "Epoch 11, Validation Loss: 154.13\n",
      "Epoch 12, Validation Loss: 133.18\n",
      "Epoch 13, Validation Loss: 135.87\n",
      "Epoch 14, Validation Loss: 128.70\n",
      "Epoch 15, Validation Loss: 114.85\n",
      "Epoch 16, Validation Loss: 107.65\n",
      "Epoch 17, Validation Loss: 119.52\n",
      "Epoch 18, Validation Loss: 97.29\n",
      "Epoch 19, Validation Loss: 101.99\n",
      "Epoch 20, Validation Loss: 113.70\n",
      "Epoch 21, Validation Loss: 110.49\n",
      "Epoch 22, Validation Loss: 108.35\n",
      "Epoch 23, Validation Loss: 100.44\n",
      "Epoch 24, Validation Loss: 102.84\n",
      "Epoch 25, Validation Loss: 105.04\n",
      "Epoch 26, Validation Loss: 97.01\n",
      "Epoch 27, Validation Loss: 102.15\n",
      "Epoch 28, Validation Loss: 101.61\n",
      "Epoch 29, Validation Loss: 84.26\n",
      "Epoch 30, Validation Loss: 122.52\n",
      "Epoch 31, Validation Loss: 93.26\n",
      "Epoch 32, Validation Loss: 89.15\n",
      "Epoch 33, Validation Loss: 85.07\n",
      "Epoch 34, Validation Loss: 85.73\n",
      "Epoch 35, Validation Loss: 82.70\n",
      "Epoch 36, Validation Loss: 87.31\n",
      "Epoch 37, Validation Loss: 106.64\n",
      "Epoch 38, Validation Loss: 90.30\n",
      "Epoch 39, Validation Loss: 76.91\n",
      "Epoch 40, Validation Loss: 89.00\n",
      "Epoch 41, Validation Loss: 89.86\n",
      "Epoch 42, Validation Loss: 85.57\n",
      "Epoch 43, Validation Loss: 103.81\n",
      "Epoch 44, Validation Loss: 85.33\n",
      "Epoch 45, Validation Loss: 107.70\n",
      "Epoch 46, Validation Loss: 100.84\n",
      "Epoch 47, Validation Loss: 74.69\n",
      "Epoch 48, Validation Loss: 91.15\n",
      "Epoch 49, Validation Loss: 89.28\n",
      "Epoch 50, Validation Loss: 82.20\n",
      "Epoch 51, Validation Loss: 83.71\n",
      "Epoch 52, Validation Loss: 75.93\n",
      "Epoch 53, Validation Loss: 76.22\n",
      "Epoch 54, Validation Loss: 91.36\n",
      "Epoch 55, Validation Loss: 80.06\n",
      "Epoch 56, Validation Loss: 80.00\n",
      "Epoch 57, Validation Loss: 65.50\n",
      "Epoch 58, Validation Loss: 72.84\n",
      "Epoch 59, Validation Loss: 75.50\n",
      "Epoch 60, Validation Loss: 81.01\n",
      "Epoch 61, Validation Loss: 86.73\n",
      "Epoch 62, Validation Loss: 92.04\n",
      "Epoch 63, Validation Loss: 65.20\n",
      "Epoch 64, Validation Loss: 70.76\n",
      "Epoch 65, Validation Loss: 111.16\n",
      "Epoch 66, Validation Loss: 100.14\n",
      "Epoch 67, Validation Loss: 61.84\n",
      "Epoch 68, Validation Loss: 62.66\n",
      "Epoch 69, Validation Loss: 85.19\n",
      "Epoch 70, Validation Loss: 65.92\n",
      "Epoch 71, Validation Loss: 61.59\n",
      "Epoch 72, Validation Loss: 133.18\n",
      "Epoch 73, Validation Loss: 59.31\n",
      "Epoch 74, Validation Loss: 81.72\n",
      "Epoch 75, Validation Loss: 75.45\n",
      "Epoch 76, Validation Loss: 56.49\n",
      "Epoch 77, Validation Loss: 73.92\n",
      "Epoch 78, Validation Loss: 71.37\n",
      "Epoch 79, Validation Loss: 201.44\n",
      "Epoch 80, Validation Loss: 68.61\n",
      "Epoch 81, Validation Loss: 78.53\n",
      "Epoch 82, Validation Loss: 74.70\n",
      "Epoch 83, Validation Loss: 73.11\n",
      "Epoch 84, Validation Loss: 87.37\n",
      "Epoch 85, Validation Loss: 59.63\n",
      "Epoch 86, Validation Loss: 69.63\n",
      "Epoch 87, Validation Loss: 120.79\n",
      "Epoch 88, Validation Loss: 96.39\n",
      "Epoch 89, Validation Loss: 67.79\n",
      "Epoch 90, Validation Loss: 57.85\n",
      "Epoch 91, Validation Loss: 115.47\n",
      "Epoch 92, Validation Loss: 74.64\n",
      "Epoch 93, Validation Loss: 54.51\n",
      "Epoch 94, Validation Loss: 59.56\n",
      "Epoch 95, Validation Loss: 70.76\n",
      "Epoch 96, Validation Loss: 75.88\n",
      "Epoch 97, Validation Loss: 60.23\n",
      "Epoch 98, Validation Loss: 56.53\n",
      "Epoch 99, Validation Loss: 57.54\n",
      "Epoch 100, Validation Loss: 83.52\n",
      "Epoch 101, Validation Loss: 51.44\n",
      "Epoch 102, Validation Loss: 60.65\n",
      "Epoch 103, Validation Loss: 274.77\n",
      "Epoch 104, Validation Loss: 65.53\n",
      "Epoch 105, Validation Loss: 61.75\n",
      "Epoch 106, Validation Loss: 107.25\n",
      "Epoch 107, Validation Loss: 53.55\n",
      "Epoch 108, Validation Loss: 73.04\n",
      "Epoch 109, Validation Loss: 385.88\n",
      "Epoch 110, Validation Loss: 105.03\n",
      "Epoch 111, Validation Loss: 52.34\n",
      "Epoch 112, Validation Loss: 68.64\n",
      "Epoch 113, Validation Loss: 61.46\n",
      "Epoch 114, Validation Loss: 188.80\n",
      "Epoch 115, Validation Loss: 45.97\n",
      "Epoch 116, Validation Loss: 53.37\n",
      "Epoch 117, Validation Loss: 49.48\n",
      "Epoch 118, Validation Loss: 51.50\n",
      "Epoch 119, Validation Loss: 53.51\n",
      "Epoch 120, Validation Loss: 32.32\n",
      "Epoch 121, Validation Loss: 57.00\n",
      "Epoch 122, Validation Loss: 44.04\n",
      "Epoch 123, Validation Loss: 46.29\n",
      "Epoch 124, Validation Loss: 44.99\n",
      "Epoch 125, Validation Loss: 57.89\n",
      "Epoch 126, Validation Loss: 69.97\n",
      "Epoch 127, Validation Loss: 37.66\n",
      "Epoch 128, Validation Loss: 37.48\n",
      "Epoch 129, Validation Loss: 43.59\n",
      "Epoch 130, Validation Loss: 48.06\n",
      "Epoch 131, Validation Loss: 50.87\n",
      "Epoch 132, Validation Loss: 40.50\n",
      "Epoch 133, Validation Loss: 39.01\n",
      "Epoch 134, Validation Loss: 47.19\n",
      "Epoch 135, Validation Loss: 107.84\n",
      "Epoch 136, Validation Loss: 61.89\n",
      "Epoch 137, Validation Loss: 52.37\n",
      "Epoch 138, Validation Loss: 37.49\n",
      "Epoch 139, Validation Loss: 38.30\n",
      "Early stopping at epoch 139\n",
      "Best model loaded.\n",
      "Training complete.\n"
     ]
    }
   ],
   "source": [
    "from src.problem.neuromancer.trainer import trainer\n",
    "# training\n",
    "epochs = 200                    # number of training epochs\n",
    "warmup = 20                     # number of epochs to wait before enacting early stopping policy\n",
    "patience = 20                   # number of epochs with no improvement in eval metric to allow before early stopping\n",
    "optimizer = torch.optim.AdamW(components.parameters(), lr=lr)\n",
    "# create a trainer for the problem\n",
    "my_trainer = trainer(components, loss_fn, optimizer, epochs, patience, warmup, device=\"cuda\")\n",
    "# training for the rounding problem\n",
    "my_trainer.train(loader_train, loader_dev)"
   ]
  },
  {
   "cell_type": "code",
   "execution_count": 14,
   "id": "3e835084-eb75-45d9-bcbd-5fb4c613fb41",
   "metadata": {},
   "outputs": [
    {
     "name": "stderr",
     "output_type": "stream",
     "text": [
      "100%|██████████████████████████████████████████████████████████████████████████████| 1000/1000 [00:13<00:00, 76.64it/s]\n"
     ]
    },
    {
     "name": "stdout",
     "output_type": "stream",
     "text": [
      "           Obj Val  Constraints Viol  Elapsed Time\n",
      "count  1000.000000       1000.000000   1000.000000\n",
      "mean     30.028164          0.012865      0.002660\n",
      "std       4.428941          0.113380      0.000705\n",
      "min      26.986815          0.000000      0.000998\n",
      "25%      28.973149          0.000000      0.002002\n",
      "50%      28.973149          0.000000      0.002512\n",
      "75%      29.206850          0.000000      0.003002\n",
      "max      98.188925          1.716585      0.009602\n",
      "Number of infeasible solution: 23\n"
     ]
    }
   ],
   "source": [
    "params, sols, objvals, conviols, elapseds = [], [], [], [], []\n",
    "for b in tqdm(data_test.datadict[\"b\"]):\n",
    "    # data point as tensor\n",
    "    datapoints = {\"b\": torch.unsqueeze(b, 0).to(\"cuda\"), \n",
    "                  \"name\": \"test\"}\n",
    "    # infer\n",
    "    components.eval()\n",
    "    tick = time.time()\n",
    "    with torch.no_grad():\n",
    "        for comp in components:\n",
    "            datapoints.update(comp(datapoints))\n",
    "    tock = time.time()\n",
    "    # assign params\n",
    "    model.set_param_val({\"b\":b.cpu().numpy()})\n",
    "    # assign vars\n",
    "    x = datapoints[\"x_rnd\"]\n",
    "    for i in range(num_var):\n",
    "        model.vars[\"x\"][i].value = x[0,i].item()\n",
    "    # get solutions\n",
    "    xval, objval = model.get_val()    \n",
    "    params.append(list(b.cpu().numpy()))\n",
    "    sols.append(list(list(xval.values())[0].values()))\n",
    "    objvals.append(objval)\n",
    "    conviols.append(sum(model.cal_violation()))\n",
    "    elapseds.append(tock - tick)\n",
    "df = pd.DataFrame({\"Param\":params, \"Sol\":sols, \"Obj Val\": objvals, \"Constraints Viol\": conviols, \"Elapsed Time\": elapseds})\n",
    "time.sleep(1)\n",
    "print(df.describe())\n",
    "print(\"Number of infeasible solution: {}\".format(np.sum(df[\"Constraints Viol\"] > 0)))\n",
    "df.to_csv(\"result/cq_lr_50-50.csv\")"
   ]
  },
  {
   "cell_type": "markdown",
   "id": "2dbf8a72-29b9-49c4-b3c1-0d68895c1c1f",
   "metadata": {},
   "source": [
    "## Learnable Threshold"
   ]
  },
  {
   "cell_type": "code",
   "execution_count": 15,
   "id": "36c57dbb-8dee-4976-8922-82a155fe0128",
   "metadata": {},
   "outputs": [],
   "source": [
    "# random seed\n",
    "np.random.seed(42)\n",
    "torch.manual_seed(42)\n",
    "torch.cuda.manual_seed(42)"
   ]
  },
  {
   "cell_type": "code",
   "execution_count": 16,
   "id": "d46b9817-87ac-4af0-b387-b10c9a4998f4",
   "metadata": {},
   "outputs": [],
   "source": [
    "# hyperparameters\n",
    "penalty_weight = 50  # weight of constraint violation penealty\n",
    "hlayers_sol = 4       # number of hidden layers for solution mapping\n",
    "hlayers_rnd = 4       # number of hidden layers for solution mapping\n",
    "hsize = 256           # width of hidden layers for solution mapping\n",
    "lr = 1e-3             # learning rate"
   ]
  },
  {
   "cell_type": "code",
   "execution_count": 18,
   "id": "fa8b147f-39c8-4eb7-bb95-93dd8e4cb1cf",
   "metadata": {},
   "outputs": [],
   "source": [
    "# set problem\n",
    "import neuromancer as nm\n",
    "from src.problem import nmConvexQuadratic\n",
    "from src.func.layer import netFC\n",
    "from src.func import roundThresholdModel\n",
    "# build neural architecture for the solution map\n",
    "func = nm.modules.blocks.MLP(insize=num_ineq, outsize=num_var, bias=True,\n",
    "                             linear_map=nm.slim.maps[\"linear\"],\n",
    "                             nonlin=nn.ReLU, hsizes=[hsize]*hlayers_sol)\n",
    "smap = nm.system.Node(func, [\"b\"], [\"x\"], name=\"smap\")\n",
    "# define rounding model\n",
    "layers_rnd = netFC(input_dim=num_ineq+num_var, hidden_dims=[hsize]*hlayers_rnd, output_dim=num_var)\n",
    "rnd = roundThresholdModel(layers=layers_rnd, param_keys=[\"b\"], var_keys=[\"x\"],  output_keys=[\"x_rnd\"], \n",
    "                       int_ind=model.int_ind, continuous_update=True, name=\"round\")\n",
    "# build neuromancer problem for rounding\n",
    "components = nn.ModuleList([smap, rnd]).to(\"cuda\")\n",
    "loss_fn = nmConvexQuadratic([\"b\", \"x_rnd\"], Q, p, A, penalty_weight)"
   ]
  },
  {
   "cell_type": "code",
   "execution_count": 19,
   "id": "c6f5bb17-8c3c-4dcd-952d-caa1d7c4c4fa",
   "metadata": {},
   "outputs": [
    {
     "name": "stdout",
     "output_type": "stream",
     "text": [
      "Epoch 0, Validation Loss: 620.86\n",
      "Epoch 1, Validation Loss: 884.61\n",
      "Epoch 2, Validation Loss: 82.56\n",
      "Epoch 3, Validation Loss: 71.43\n",
      "Epoch 4, Validation Loss: 68.33\n",
      "Epoch 5, Validation Loss: 49.42\n",
      "Epoch 6, Validation Loss: 46.40\n",
      "Epoch 7, Validation Loss: 54.44\n",
      "Epoch 8, Validation Loss: 50.86\n",
      "Epoch 9, Validation Loss: 44.80\n",
      "Epoch 10, Validation Loss: 47.08\n",
      "Epoch 11, Validation Loss: 37.76\n",
      "Epoch 12, Validation Loss: 41.17\n",
      "Epoch 13, Validation Loss: 60.02\n",
      "Epoch 14, Validation Loss: 52.21\n",
      "Epoch 15, Validation Loss: 65.79\n",
      "Epoch 16, Validation Loss: 50.45\n",
      "Epoch 17, Validation Loss: 42.37\n",
      "Epoch 18, Validation Loss: 40.77\n",
      "Epoch 19, Validation Loss: 50.37\n",
      "Epoch 20, Validation Loss: 56.23\n",
      "Epoch 21, Validation Loss: 36.67\n",
      "Epoch 22, Validation Loss: 33.13\n",
      "Epoch 23, Validation Loss: 57.98\n",
      "Epoch 24, Validation Loss: 38.94\n",
      "Epoch 25, Validation Loss: 38.92\n",
      "Epoch 26, Validation Loss: 48.42\n",
      "Epoch 27, Validation Loss: 36.59\n",
      "Epoch 28, Validation Loss: 36.28\n",
      "Epoch 29, Validation Loss: 40.72\n",
      "Epoch 30, Validation Loss: 38.97\n",
      "Epoch 31, Validation Loss: 40.79\n",
      "Epoch 32, Validation Loss: 41.09\n",
      "Epoch 33, Validation Loss: 42.57\n",
      "Epoch 34, Validation Loss: 46.77\n",
      "Epoch 35, Validation Loss: 41.99\n",
      "Epoch 36, Validation Loss: 42.28\n",
      "Epoch 37, Validation Loss: 41.53\n",
      "Epoch 38, Validation Loss: 35.55\n",
      "Epoch 39, Validation Loss: 42.93\n",
      "Epoch 40, Validation Loss: 47.10\n",
      "Epoch 41, Validation Loss: 35.68\n",
      "Early stopping at epoch 41\n",
      "Best model loaded.\n",
      "Training complete.\n"
     ]
    }
   ],
   "source": [
    "from src.problem.neuromancer.trainer import trainer\n",
    "# training\n",
    "epochs = 200                    # number of training epochs\n",
    "warmup = 20                     # number of epochs to wait before enacting early stopping policy\n",
    "patience = 20                   # number of epochs with no improvement in eval metric to allow before early stopping\n",
    "optimizer = torch.optim.AdamW(components.parameters(), lr=lr)\n",
    "# create a trainer for the problem\n",
    "my_trainer = trainer(components, loss_fn, optimizer, epochs, patience, warmup, device=\"cuda\")\n",
    "# training for the rounding problem\n",
    "my_trainer.train(loader_train, loader_dev)"
   ]
  },
  {
   "cell_type": "code",
   "execution_count": 20,
   "id": "6584d57e-6b4c-4262-82f5-55735ef17cac",
   "metadata": {},
   "outputs": [
    {
     "name": "stderr",
     "output_type": "stream",
     "text": [
      "100%|██████████████████████████████████████████████████████████████████████████████| 1000/1000 [00:15<00:00, 64.31it/s]\n"
     ]
    },
    {
     "name": "stdout",
     "output_type": "stream",
     "text": [
      "           Obj Val  Constraints Viol  Elapsed Time\n",
      "count  1000.000000       1000.000000   1000.000000\n",
      "mean     30.658783          0.053647      0.003111\n",
      "std       3.630421          0.197854      0.000928\n",
      "min      16.456278          0.000000      0.001001\n",
      "25%      28.798093          0.000000      0.002506\n",
      "50%      30.788295          0.000000      0.003000\n",
      "75%      30.990768          0.000000      0.003531\n",
      "max      47.348710          2.143152      0.006536\n",
      "Number of infeasible solution: 124\n"
     ]
    }
   ],
   "source": [
    "params, sols, objvals, conviols, elapseds = [], [], [], [], []\n",
    "for b in tqdm(data_test.datadict[\"b\"]):\n",
    "    # data point as tensor\n",
    "    datapoints = {\"b\": torch.unsqueeze(b, 0).to(\"cuda\"), \n",
    "                  \"name\": \"test\"}\n",
    "    # infer\n",
    "    components.eval()\n",
    "    tick = time.time()\n",
    "    with torch.no_grad():\n",
    "        for comp in components:\n",
    "            datapoints.update(comp(datapoints))\n",
    "    tock = time.time()\n",
    "    # assign params\n",
    "    model.set_param_val({\"b\":b.cpu().numpy()})\n",
    "    # assign vars\n",
    "    x = datapoints[\"x_rnd\"]\n",
    "    for i in range(num_var):\n",
    "        model.vars[\"x\"][i].value = x[0,i].item()\n",
    "    # get solutions\n",
    "    xval, objval = model.get_val()    \n",
    "    params.append(list(b.cpu().numpy()))\n",
    "    sols.append(list(list(xval.values())[0].values()))\n",
    "    objvals.append(objval)\n",
    "    conviols.append(sum(model.cal_violation()))\n",
    "    elapseds.append(tock - tick)\n",
    "df = pd.DataFrame({\"Param\":params, \"Sol\":sols, \"Obj Val\": objvals, \"Constraints Viol\": conviols, \"Elapsed Time\": elapseds})\n",
    "time.sleep(1)\n",
    "print(df.describe())\n",
    "print(\"Number of infeasible solution: {}\".format(np.sum(df[\"Constraints Viol\"] > 0)))\n",
    "df.to_csv(\"result/cq_lt_50-50.csv\")"
   ]
  },
  {
   "cell_type": "code",
   "execution_count": null,
   "id": "c89bcb04-0e0f-4bad-9a4a-bd6bed7660dd",
   "metadata": {},
   "outputs": [],
   "source": []
  }
 ],
 "metadata": {
  "kernelspec": {
   "display_name": "Python 3 (ipykernel)",
   "language": "python",
   "name": "python3"
  },
  "language_info": {
   "codemirror_mode": {
    "name": "ipython",
    "version": 3
   },
   "file_extension": ".py",
   "mimetype": "text/x-python",
   "name": "python",
   "nbconvert_exporter": "python",
   "pygments_lexer": "ipython3",
   "version": "3.10.13"
  }
 },
 "nbformat": 4,
 "nbformat_minor": 5
}
