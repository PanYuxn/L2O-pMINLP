{
 "cells": [
  {
   "cell_type": "code",
   "execution_count": 1,
   "id": "be61b914-e1af-43b9-9766-5092593f92dd",
   "metadata": {},
   "outputs": [],
   "source": [
    "import time\n",
    "\n",
    "import numpy as np\n",
    "import pandas as pd\n",
    "import torch\n",
    "from torch import nn\n",
    "from tqdm import tqdm\n",
    "\n",
    "# random seed\n",
    "np.random.seed(42)\n",
    "torch.manual_seed(42)\n",
    "torch.cuda.manual_seed(42)"
   ]
  },
  {
   "cell_type": "code",
   "execution_count": 2,
   "id": "35fe4527-9dbf-48f0-bfb3-62cda59092aa",
   "metadata": {},
   "outputs": [],
   "source": [
    "# turn off warning\n",
    "import logging\n",
    "logging.getLogger('pyomo.core').setLevel(logging.ERROR)"
   ]
  },
  {
   "cell_type": "markdown",
   "id": "c5560447-da9d-4cbe-aab4-538aa11c8ee8",
   "metadata": {},
   "source": [
    "## Problem Setting"
   ]
  },
  {
   "cell_type": "code",
   "execution_count": 3,
   "id": "52363c72-0d20-4c08-bd00-0f62aa73686c",
   "metadata": {},
   "outputs": [],
   "source": [
    "# init\n",
    "steepness = 50    # steepness factor\n",
    "num_blocks = 100  # number of expression blocks\n",
    "num_data = 5000   # number of data\n",
    "test_size = 1000  # number of test size\n",
    "val_size = 1000   # number of validation size\n",
    "train_size = num_data - test_size - val_size"
   ]
  },
  {
   "cell_type": "code",
   "execution_count": 4,
   "id": "21938c00-d73f-4255-bc7c-bce6e8034cf8",
   "metadata": {},
   "outputs": [],
   "source": [
    "# parameters as input data\n",
    "p_low, p_high = 1.0, 8.0\n",
    "a_low, a_high = 0.5, 4.5\n",
    "p_train = np.random.uniform(p_low, p_high, (train_size, 1)).astype(np.float32)\n",
    "p_test  = np.random.uniform(p_low, p_high, (test_size, 1)).astype(np.float32)\n",
    "p_dev   = np.random.uniform(p_low, p_high, (val_size, 1)).astype(np.float32)\n",
    "a_train = np.random.uniform(a_low, a_high, (train_size, num_blocks)).astype(np.float32)\n",
    "a_test  = np.random.uniform(a_low, a_high, (test_size, num_blocks)).astype(np.float32)\n",
    "a_dev   = np.random.uniform(a_low, a_high, (val_size, num_blocks)).astype(np.float32)"
   ]
  },
  {
   "cell_type": "code",
   "execution_count": 5,
   "id": "5ecf81ff-627d-444d-8d90-121c7e20c217",
   "metadata": {},
   "outputs": [],
   "source": [
    "# nm datasets\n",
    "from neuromancer.dataset import DictDataset\n",
    "data_train = DictDataset({\"p\":p_train, \"a\":a_train}, name=\"train\")\n",
    "data_test = DictDataset({\"p\":p_test, \"a\":a_test}, name=\"test\")\n",
    "data_dev = DictDataset({\"p\":p_dev, \"a\":a_dev}, name=\"dev\")\n",
    "# torch dataloaders\n",
    "from torch.utils.data import DataLoader\n",
    "loader_train = DataLoader(data_train, batch_size=32, num_workers=0, collate_fn=data_train.collate_fn, shuffle=True)\n",
    "loader_test = DataLoader(data_test, batch_size=32, num_workers=0, collate_fn=data_test.collate_fn, shuffle=False)\n",
    "loader_dev = DataLoader(data_dev, batch_size=32, num_workers=0, collate_fn=data_dev.collate_fn, shuffle=True)"
   ]
  },
  {
   "cell_type": "markdown",
   "id": "16ec0a67-54ea-4a9d-b037-0c7c9390e3f9",
   "metadata": {},
   "source": [
    "## Exact Solver"
   ]
  },
  {
   "cell_type": "code",
   "execution_count": 6,
   "id": "50aaabd7-90ed-4628-a1da-c98777868d92",
   "metadata": {},
   "outputs": [],
   "source": [
    "from src.problem import msRosenbrock\n",
    "model = msRosenbrock(steepness, num_blocks, timelimit=60)"
   ]
  },
  {
   "cell_type": "markdown",
   "id": "96304fbd-08f5-4be7-a81e-83c85332029c",
   "metadata": {},
   "source": [
    "## Heuristic - N1"
   ]
  },
  {
   "cell_type": "code",
   "execution_count": 7,
   "id": "356187af-e02d-4478-bf78-ada6a2e1b94b",
   "metadata": {},
   "outputs": [],
   "source": [
    "model_heur = model.first_solution_heuristic(nodes_limit=1)"
   ]
  },
  {
   "cell_type": "code",
   "execution_count": 8,
   "id": "f4c7fc52-cbbc-4414-bf1d-316d65c8db5b",
   "metadata": {},
   "outputs": [
    {
     "name": "stderr",
     "output_type": "stream",
     "text": [
      "100%|██████████████████████████████████████████████████████████████████████████████| 1000/1000 [06:10<00:00,  2.70it/s]\n"
     ]
    },
    {
     "name": "stdout",
     "output_type": "stream",
     "text": [
      "            Obj Val  Constraints Viol  Elapsed Time\n",
      "count  1.000000e+03            1000.0   1000.000000\n",
      "mean   1.749760e+12               0.0      0.368375\n",
      "std    9.192323e+12               0.0      0.154660\n",
      "min    5.592422e+02               0.0      0.217728\n",
      "25%    7.800283e+02               0.0      0.293457\n",
      "50%    8.765984e+02               0.0      0.324888\n",
      "75%    9.898740e+02               0.0      0.375477\n",
      "max    4.999513e+13               0.0      1.483054\n",
      "Number of infeasible solution: 0\n"
     ]
    }
   ],
   "source": [
    "params, sols, objvals, conviols, elapseds = [], [], [], [], []\n",
    "for p, a in tqdm(list(zip(p_dev, a_dev))):\n",
    "    # set params\n",
    "    model_heur.set_param_val({\"p\":p, \"a\":a})\n",
    "    # solve\n",
    "    tick = time.time()\n",
    "    xval, objval = model_heur.solve(\"scip\")\n",
    "    tock = time.time()\n",
    "    # eval\n",
    "    params.append(list(p)+list(a))\n",
    "    sols.append(list(list(xval.values())[0].values()))\n",
    "    objvals.append(objval)\n",
    "    conviols.append(sum(model_heur.cal_violation()))\n",
    "    elapseds.append(tock - tick)\n",
    "df = pd.DataFrame({\"Param\":params, \"Sol\":sols, \"Obj Val\": objvals, \"Constraints Viol\": conviols, \"Elapsed Time\": elapseds})\n",
    "time.sleep(1)\n",
    "print(df.describe())\n",
    "print(\"Number of infeasible solution: {}\".format(np.sum(df[\"Constraints Viol\"] > 0)))\n",
    "df.to_csv(\"result/rb_heur_n1_50-100.csv\")"
   ]
  },
  {
   "cell_type": "markdown",
   "id": "9819c60c-df5f-41c6-ae83-888c75aa78d7",
   "metadata": {},
   "source": [
    "## Learnable Rounding"
   ]
  },
  {
   "cell_type": "code",
   "execution_count": 9,
   "id": "536d2d58-67ba-408a-b72a-7c5bd54a5ff4",
   "metadata": {},
   "outputs": [],
   "source": [
    "# hyperparameters\n",
    "penalty_weight = 1000 # weight of constraint violation penealty\n",
    "hlayers_sol = 4       # number of hidden layers for solution mapping\n",
    "hlayers_rnd = 4       # number of hidden layers for solution mapping\n",
    "hsize = 256           # width of hidden layers for solution mapping\n",
    "lr = 1e-3             # learning rate\n",
    "batch_size = 64       # batch size"
   ]
  },
  {
   "cell_type": "code",
   "execution_count": 10,
   "id": "fee1241e-e53a-4cbb-927a-edcdb3537303",
   "metadata": {},
   "outputs": [],
   "source": [
    "# set problem\n",
    "import neuromancer as nm\n",
    "from src.problem import nmRosenbrock\n",
    "from src.func.layer import netFC\n",
    "from src.func import roundGumbelModel\n",
    "# build neural architecture for the solution map\n",
    "func = nm.modules.blocks.MLP(insize=num_blocks+1, outsize=2*num_blocks, bias=True,\n",
    "                             linear_map=nm.slim.maps[\"linear\"],\n",
    "                             nonlin=nn.ReLU, hsizes=[hsize]*hlayers_sol)\n",
    "smap = nm.system.Node(func, [\"p\", \"a\"], [\"x\"], name=\"smap\")\n",
    "# define rounding model\n",
    "layers_rnd = netFC(input_dim=3*num_blocks+1, hidden_dims=[hsize]*hlayers_rnd, output_dim=2*num_blocks)\n",
    "rnd = roundGumbelModel(layers=layers_rnd, param_keys=[\"p\", \"a\"], var_keys=[\"x\"],  output_keys=[\"x_rnd\"], \n",
    "                       int_ind=model.int_ind, continuous_update=True, name=\"round\")\n",
    "# build neuromancer problem for rounding\n",
    "components = nn.ModuleList([smap, rnd])\n",
    "loss_fn = nmRosenbrock([\"p\", \"a\", \"x_rnd\"], steepness, num_blocks)"
   ]
  },
  {
   "cell_type": "code",
   "execution_count": 11,
   "id": "e4f10263-5f69-4288-a4e8-8be83929c8d6",
   "metadata": {},
   "outputs": [
    {
     "name": "stdout",
     "output_type": "stream",
     "text": [
      "Epoch 0, Validation Loss: 14252.06\n",
      "Epoch 1, Validation Loss: 18579.37\n",
      "Epoch 2, Validation Loss: 1705.47\n",
      "Epoch 3, Validation Loss: 1314.75\n",
      "Epoch 4, Validation Loss: 1045.25\n",
      "Epoch 5, Validation Loss: 1087.64\n",
      "Epoch 6, Validation Loss: 2296.91\n",
      "Epoch 7, Validation Loss: 1062.06\n",
      "Epoch 8, Validation Loss: 1284.42\n",
      "Epoch 9, Validation Loss: 742.38\n",
      "Epoch 10, Validation Loss: 724.75\n",
      "Epoch 11, Validation Loss: 724.58\n",
      "Epoch 12, Validation Loss: 1533.65\n",
      "Epoch 13, Validation Loss: 611.55\n",
      "Epoch 14, Validation Loss: 838.61\n",
      "Epoch 15, Validation Loss: 842.80\n",
      "Epoch 16, Validation Loss: 726.72\n",
      "Epoch 17, Validation Loss: 684.70\n",
      "Epoch 18, Validation Loss: 712.34\n",
      "Epoch 19, Validation Loss: 680.49\n",
      "Epoch 20, Validation Loss: 739.94\n",
      "Epoch 21, Validation Loss: 752.61\n",
      "Epoch 22, Validation Loss: 987.68\n",
      "Epoch 23, Validation Loss: 707.38\n",
      "Epoch 24, Validation Loss: 696.95\n",
      "Epoch 25, Validation Loss: 725.75\n",
      "Epoch 26, Validation Loss: 630.35\n",
      "Epoch 27, Validation Loss: 593.27\n",
      "Epoch 28, Validation Loss: 672.58\n",
      "Epoch 29, Validation Loss: 938.12\n",
      "Epoch 30, Validation Loss: 780.49\n",
      "Epoch 31, Validation Loss: 809.59\n",
      "Epoch 32, Validation Loss: 707.90\n",
      "Epoch 33, Validation Loss: 687.73\n",
      "Epoch 34, Validation Loss: 663.36\n",
      "Epoch 35, Validation Loss: 683.98\n",
      "Epoch 36, Validation Loss: 613.55\n",
      "Epoch 37, Validation Loss: 716.79\n",
      "Epoch 38, Validation Loss: 626.72\n",
      "Epoch 39, Validation Loss: 651.33\n",
      "Epoch 40, Validation Loss: 610.94\n",
      "Epoch 41, Validation Loss: 654.74\n",
      "Epoch 42, Validation Loss: 617.45\n",
      "Epoch 43, Validation Loss: 1092.32\n",
      "Epoch 44, Validation Loss: 838.12\n",
      "Epoch 45, Validation Loss: 699.11\n",
      "Epoch 46, Validation Loss: 626.11\n",
      "Early stopping at epoch 46\n",
      "Best model loaded.\n",
      "Training complete.\n"
     ]
    }
   ],
   "source": [
    "from src.problem.neuromancer.trainer import trainer\n",
    "# training\n",
    "epochs = 200                    # number of training epochs\n",
    "warmup = 20                     # number of epochs to wait before enacting early stopping policy\n",
    "patience = 20                   # number of epochs with no improvement in eval metric to allow before early stopping\n",
    "optimizer = torch.optim.AdamW(components.parameters(), lr=lr)\n",
    "# create a trainer for the problem\n",
    "my_trainer = trainer(components, loss_fn, optimizer, epochs, patience, warmup)\n",
    "# training for the rounding problem\n",
    "my_trainer.train(loader_train, loader_dev)"
   ]
  },
  {
   "cell_type": "code",
   "execution_count": 12,
   "id": "3e835084-eb75-45d9-bcbd-5fb4c613fb41",
   "metadata": {},
   "outputs": [
    {
     "name": "stderr",
     "output_type": "stream",
     "text": [
      "100%|█████████████████████████████████████████████████████████████████████████████| 1000/1000 [00:06<00:00, 156.48it/s]\n"
     ]
    },
    {
     "name": "stdout",
     "output_type": "stream",
     "text": [
      "           Obj Val  Constraints Viol  Elapsed Time\n",
      "count  1000.000000       1000.000000   1000.000000\n",
      "mean    591.572404          0.009632      0.001098\n",
      "std     224.137861          0.194556      0.000453\n",
      "min     263.535047          0.000000      0.000000\n",
      "25%     398.548331          0.000000      0.001000\n",
      "50%     566.494457          0.000000      0.001001\n",
      "75%     752.265120          0.000000      0.001012\n",
      "max    1641.545864          5.298768      0.002639\n",
      "Number of infeasible solution: 4\n"
     ]
    }
   ],
   "source": [
    "params, sols, objvals, conviols, elapseds = [], [], [], [], []\n",
    "for p, a in tqdm(list(zip(p_dev, a_dev))):\n",
    "    # data point as tensor\n",
    "    datapoints = {\"p\": torch.tensor(np.array([p]), dtype=torch.float32), \n",
    "                  \"a\": torch.tensor(np.array([a]), dtype=torch.float32),\n",
    "                  \"name\": \"test\"}\n",
    "    # infer\n",
    "    components.eval()\n",
    "    tick = time.time()\n",
    "    with torch.no_grad():\n",
    "        for comp in components:\n",
    "            datapoints.update(comp(datapoints))\n",
    "    tock = time.time()\n",
    "    # assign params\n",
    "    model.set_param_val({\"p\":p, \"a\":a})\n",
    "    # assign vars\n",
    "    x = datapoints[\"x_rnd\"]\n",
    "    for i in range(2*num_blocks):\n",
    "        model.vars[\"x\"][i].value = x[0,i].item()\n",
    "    # get solutions\n",
    "    xval, objval = model.get_val()    \n",
    "    params.append(list(p)+list(a))\n",
    "    sols.append(list(list(xval.values())[0].values()))\n",
    "    objvals.append(objval)\n",
    "    conviols.append(sum(model.cal_violation()))\n",
    "    elapseds.append(tock - tick)\n",
    "df = pd.DataFrame({\"Param\":params, \"Sol\":sols, \"Obj Val\": objvals, \"Constraints Viol\": conviols, \"Elapsed Time\": elapseds})\n",
    "time.sleep(1)\n",
    "print(df.describe())\n",
    "print(\"Number of infeasible solution: {}\".format(np.sum(df[\"Constraints Viol\"] > 0)))\n",
    "df.to_csv(\"result/rb_lr_50-100.csv\")"
   ]
  },
  {
   "cell_type": "markdown",
   "id": "2dbf8a72-29b9-49c4-b3c1-0d68895c1c1f",
   "metadata": {},
   "source": [
    "## Learnable Threshold"
   ]
  },
  {
   "cell_type": "code",
   "execution_count": 13,
   "id": "d46b9817-87ac-4af0-b387-b10c9a4998f4",
   "metadata": {},
   "outputs": [],
   "source": [
    "# hyperparameters\n",
    "penalty_weight = 1000 # weight of constraint violation penealty\n",
    "hlayers_sol = 4       # number of hidden layers for solution mapping\n",
    "hlayers_rnd = 4       # number of hidden layers for solution mapping\n",
    "hsize = 256           # width of hidden layers for solution mapping\n",
    "lr = 1e-3             # learning rate\n",
    "batch_size = 64       # batch size"
   ]
  },
  {
   "cell_type": "code",
   "execution_count": 14,
   "id": "fa8b147f-39c8-4eb7-bb95-93dd8e4cb1cf",
   "metadata": {},
   "outputs": [],
   "source": [
    "# set problem\n",
    "import neuromancer as nm\n",
    "from src.problem import nmRosenbrock\n",
    "from src.func.layer import netFC\n",
    "from src.func import roundThresholdModel\n",
    "# build neural architecture for the solution map\n",
    "func = nm.modules.blocks.MLP(insize=num_blocks+1, outsize=2*num_blocks, bias=True,\n",
    "                             linear_map=nm.slim.maps[\"linear\"],\n",
    "                             nonlin=nn.ReLU, hsizes=[hsize]*hlayers_sol)\n",
    "smap = nm.system.Node(func, [\"p\", \"a\"], [\"x\"], name=\"smap\")\n",
    "# define rounding model\n",
    "layers_rnd = netFC(input_dim=3*num_blocks+1, hidden_dims=[hsize]*hlayers_rnd, output_dim=2*num_blocks)\n",
    "rnd = roundThresholdModel(layers=layers_rnd, param_keys=[\"p\", \"a\"], var_keys=[\"x\"],  output_keys=[\"x_rnd\"], \n",
    "                          int_ind=model.int_ind, continuous_update=True, name=\"round\")\n",
    "# build neuromancer problem for rounding\n",
    "components = nn.ModuleList([smap, rnd])\n",
    "loss_fn = nmRosenbrock([\"p\", \"a\", \"x_rnd\"], steepness, num_blocks)"
   ]
  },
  {
   "cell_type": "code",
   "execution_count": 15,
   "id": "c6f5bb17-8c3c-4dcd-952d-caa1d7c4c4fa",
   "metadata": {},
   "outputs": [
    {
     "name": "stdout",
     "output_type": "stream",
     "text": [
      "Epoch 0, Validation Loss: 11967.23\n",
      "Epoch 1, Validation Loss: 9519.18\n",
      "Epoch 2, Validation Loss: 1061.94\n",
      "Epoch 3, Validation Loss: 1005.62\n",
      "Epoch 4, Validation Loss: 887.19\n",
      "Epoch 5, Validation Loss: 816.39\n",
      "Epoch 6, Validation Loss: 1274.08\n",
      "Epoch 7, Validation Loss: 1320.71\n",
      "Epoch 8, Validation Loss: 768.93\n",
      "Epoch 9, Validation Loss: 754.42\n",
      "Epoch 10, Validation Loss: 691.60\n",
      "Epoch 11, Validation Loss: 760.88\n",
      "Epoch 12, Validation Loss: 754.72\n",
      "Epoch 13, Validation Loss: 1886.83\n",
      "Epoch 14, Validation Loss: 207339.47\n",
      "Epoch 15, Validation Loss: 718504.08\n",
      "Epoch 16, Validation Loss: 767.73\n",
      "Epoch 17, Validation Loss: 710.53\n",
      "Epoch 18, Validation Loss: 12303439.10\n",
      "Epoch 19, Validation Loss: 567408.22\n",
      "Epoch 20, Validation Loss: 851.06\n",
      "Epoch 21, Validation Loss: 723.20\n",
      "Epoch 22, Validation Loss: 758.00\n",
      "Epoch 23, Validation Loss: 786.17\n",
      "Epoch 24, Validation Loss: 702.97\n",
      "Epoch 25, Validation Loss: 671.91\n",
      "Epoch 26, Validation Loss: 746.69\n",
      "Epoch 27, Validation Loss: 14755.37\n",
      "Epoch 28, Validation Loss: 722.34\n",
      "Epoch 29, Validation Loss: 804.00\n",
      "Epoch 30, Validation Loss: 716.58\n",
      "Epoch 31, Validation Loss: 710.88\n",
      "Epoch 32, Validation Loss: 838.35\n",
      "Epoch 33, Validation Loss: 666.99\n",
      "Epoch 34, Validation Loss: 5019.06\n",
      "Epoch 35, Validation Loss: 810.71\n",
      "Epoch 36, Validation Loss: 679.37\n",
      "Epoch 37, Validation Loss: 659.81\n",
      "Epoch 38, Validation Loss: 924.92\n",
      "Epoch 39, Validation Loss: 78917.25\n",
      "Epoch 40, Validation Loss: 750.19\n",
      "Epoch 41, Validation Loss: 950.45\n",
      "Epoch 42, Validation Loss: 2262322.09\n",
      "Epoch 43, Validation Loss: 791.49\n",
      "Epoch 44, Validation Loss: 758.42\n",
      "Epoch 45, Validation Loss: 676.62\n",
      "Epoch 46, Validation Loss: 835.11\n",
      "Epoch 47, Validation Loss: 740.97\n",
      "Epoch 48, Validation Loss: 788.33\n",
      "Epoch 49, Validation Loss: 1368.56\n",
      "Epoch 50, Validation Loss: 762.30\n",
      "Epoch 51, Validation Loss: 742.95\n",
      "Epoch 52, Validation Loss: 721.84\n",
      "Epoch 53, Validation Loss: 876.82\n",
      "Epoch 54, Validation Loss: 636.06\n",
      "Epoch 55, Validation Loss: 721.46\n",
      "Epoch 56, Validation Loss: 702.11\n",
      "Epoch 57, Validation Loss: 670.42\n",
      "Epoch 58, Validation Loss: 897.73\n",
      "Epoch 59, Validation Loss: 685.74\n",
      "Epoch 60, Validation Loss: 650.74\n",
      "Epoch 61, Validation Loss: 936.95\n",
      "Epoch 62, Validation Loss: 666.41\n",
      "Epoch 63, Validation Loss: 872.63\n",
      "Epoch 64, Validation Loss: 869.51\n",
      "Epoch 65, Validation Loss: 771.51\n",
      "Epoch 66, Validation Loss: 628.88\n",
      "Epoch 67, Validation Loss: 792.54\n",
      "Epoch 68, Validation Loss: 708.12\n",
      "Epoch 69, Validation Loss: 767.42\n",
      "Epoch 70, Validation Loss: 1434.68\n",
      "Epoch 71, Validation Loss: 899.60\n",
      "Epoch 72, Validation Loss: 711.64\n",
      "Epoch 73, Validation Loss: 760.43\n",
      "Epoch 74, Validation Loss: 846.15\n",
      "Epoch 75, Validation Loss: 692.13\n",
      "Epoch 76, Validation Loss: 909.49\n",
      "Epoch 77, Validation Loss: 625.40\n",
      "Epoch 78, Validation Loss: 756.36\n",
      "Epoch 79, Validation Loss: 668.42\n",
      "Epoch 80, Validation Loss: 1038.96\n",
      "Epoch 81, Validation Loss: 631.08\n",
      "Epoch 82, Validation Loss: 766.76\n",
      "Epoch 83, Validation Loss: 894.50\n",
      "Epoch 84, Validation Loss: 702.19\n",
      "Epoch 85, Validation Loss: 840.47\n",
      "Epoch 86, Validation Loss: 707.22\n",
      "Epoch 87, Validation Loss: 1048.91\n",
      "Epoch 88, Validation Loss: 716.64\n",
      "Epoch 89, Validation Loss: 773.97\n",
      "Epoch 90, Validation Loss: 749.03\n",
      "Epoch 91, Validation Loss: 714.64\n",
      "Epoch 92, Validation Loss: 925.76\n",
      "Epoch 93, Validation Loss: 1114.94\n",
      "Epoch 94, Validation Loss: 797.00\n",
      "Epoch 95, Validation Loss: 790.95\n",
      "Epoch 96, Validation Loss: 87261.95\n",
      "Early stopping at epoch 96\n",
      "Best model loaded.\n",
      "Training complete.\n"
     ]
    }
   ],
   "source": [
    "from src.problem.neuromancer.trainer import trainer\n",
    "# training\n",
    "epochs = 200                    # number of training epochs\n",
    "warmup = 20                     # number of epochs to wait before enacting early stopping policy\n",
    "patience = 20                   # number of epochs with no improvement in eval metric to allow before early stopping\n",
    "optimizer = torch.optim.AdamW(components.parameters(), lr=lr)\n",
    "# create a trainer for the problem\n",
    "my_trainer = trainer(components, loss_fn, optimizer, epochs, patience, warmup)\n",
    "# training for the rounding problem\n",
    "my_trainer.train(loader_train, loader_dev)"
   ]
  },
  {
   "cell_type": "code",
   "execution_count": 16,
   "id": "6584d57e-6b4c-4262-82f5-55735ef17cac",
   "metadata": {},
   "outputs": [
    {
     "name": "stderr",
     "output_type": "stream",
     "text": [
      "100%|█████████████████████████████████████████████████████████████████████████████| 1000/1000 [00:06<00:00, 152.04it/s]\n"
     ]
    },
    {
     "name": "stdout",
     "output_type": "stream",
     "text": [
      "           Obj Val  Constraints Viol  Elapsed Time\n",
      "count  1000.000000       1000.000000   1000.000000\n",
      "mean    624.494589          0.005877      0.001186\n",
      "std     219.343950          0.185842      0.000494\n",
      "min     287.469959          0.000000      0.000000\n",
      "25%     463.392384          0.000000      0.001000\n",
      "50%     566.782938          0.000000      0.001003\n",
      "75%     738.285202          0.000000      0.001472\n",
      "max    1864.226095          5.876848      0.004025\n",
      "Number of infeasible solution: 1\n"
     ]
    }
   ],
   "source": [
    "params, sols, objvals, conviols, elapseds = [], [], [], [], []\n",
    "for p, a in tqdm(list(zip(p_dev, a_dev))):\n",
    "    # data point as tensor\n",
    "    datapoints = {\"p\": torch.tensor(np.array([p]), dtype=torch.float32), \n",
    "                  \"a\": torch.tensor(np.array([a]), dtype=torch.float32),\n",
    "                  \"name\": \"test\"}\n",
    "    # infer\n",
    "    components.eval()\n",
    "    tick = time.time()\n",
    "    with torch.no_grad():\n",
    "        for comp in components:\n",
    "            datapoints.update(comp(datapoints))\n",
    "    tock = time.time()\n",
    "    # assign params\n",
    "    model.set_param_val({\"p\":p, \"a\":a})\n",
    "    # assign vars\n",
    "    x = datapoints[\"x_rnd\"]\n",
    "    for i in range(2*num_blocks):\n",
    "        model.vars[\"x\"][i].value = x[0,i].item()\n",
    "    # get solutions\n",
    "    xval, objval = model.get_val()    \n",
    "    params.append(list(p)+list(a))\n",
    "    sols.append(list(list(xval.values())[0].values()))\n",
    "    objvals.append(objval)\n",
    "    conviols.append(sum(model.cal_violation()))\n",
    "    elapseds.append(tock - tick)\n",
    "df = pd.DataFrame({\"Param\":params, \"Sol\":sols, \"Obj Val\": objvals, \"Constraints Viol\": conviols, \"Elapsed Time\": elapseds})\n",
    "time.sleep(1)\n",
    "print(df.describe())\n",
    "print(\"Number of infeasible solution: {}\".format(np.sum(df[\"Constraints Viol\"] > 0)))\n",
    "df.to_csv(\"result/rb_lt_50-100.csv\")"
   ]
  },
  {
   "cell_type": "code",
   "execution_count": null,
   "id": "c89bcb04-0e0f-4bad-9a4a-bd6bed7660dd",
   "metadata": {},
   "outputs": [],
   "source": []
  }
 ],
 "metadata": {
  "kernelspec": {
   "display_name": "Python 3 (ipykernel)",
   "language": "python",
   "name": "python3"
  },
  "language_info": {
   "codemirror_mode": {
    "name": "ipython",
    "version": 3
   },
   "file_extension": ".py",
   "mimetype": "text/x-python",
   "name": "python",
   "nbconvert_exporter": "python",
   "pygments_lexer": "ipython3",
   "version": "3.10.13"
  }
 },
 "nbformat": 4,
 "nbformat_minor": 5
}
