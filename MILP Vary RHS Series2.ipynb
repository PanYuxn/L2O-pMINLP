{
 "cells": [
  {
   "cell_type": "code",
   "execution_count": 1,
   "id": "c1b20ab5-c96b-4200-9d62-428fba6e090d",
   "metadata": {},
   "outputs": [],
   "source": [
    "import os\n",
    "import time\n",
    "import random\n",
    "import gzip\n",
    "\n",
    "import gurobipy as gp\n",
    "from gurobipy import GRB \n",
    "import numpy as np\n",
    "import pandas as pd\n",
    "import torch\n",
    "from torch import nn\n",
    "from tqdm import tqdm"
   ]
  },
  {
   "cell_type": "code",
   "execution_count": 2,
   "id": "aaa4bba7-0e7e-42e0-8d93-b4f9825f26fd",
   "metadata": {},
   "outputs": [],
   "source": [
    "random.seed(42)\n",
    "np.random.seed(42)\n",
    "torch.manual_seed(42)\n",
    "torch.cuda.manual_seed(42)\n",
    "torch.backends.cudnn.deterministic = True\n",
    "torch.backends.cudnn.benchmark = False"
   ]
  },
  {
   "cell_type": "code",
   "execution_count": 3,
   "id": "1dbff04c-8afc-43c0-a2e1-6d49c00f4514",
   "metadata": {},
   "outputs": [
    {
     "name": "stdout",
     "output_type": "stream",
     "text": [
      "Set parameter Username\n",
      "Academic license - for non-commercial use only - expires 2024-12-25\n"
     ]
    }
   ],
   "source": [
    "# Disable Gurobi output globally\n",
    "gp.setParam(\"OutputFlag\", 0)"
   ]
  },
  {
   "cell_type": "markdown",
   "id": "40d4be44-d664-4fda-a898-f7852eba1758",
   "metadata": {},
   "source": [
    "### Load Data"
   ]
  },
  {
   "cell_type": "code",
   "execution_count": 4,
   "id": "f05722ed-b6ee-499d-9244-a88099138176",
   "metadata": {},
   "outputs": [],
   "source": [
    "def getVarTypes(model):\n",
    "    types = []\n",
    "    for var in model.getVars():\n",
    "        # classify as binary if integer with bounds [0, 1]\n",
    "        if var.VType == GRB.INTEGER and var.LB == 0 and var.UB == 1:\n",
    "            types.append(GRB.BINARY)\n",
    "        else:\n",
    "            types.append(var.VType)\n",
    "    return types\n",
    "\n",
    "def getObjVec(model):\n",
    "    obj_vector = np.array([var.Obj for var in model.getVars()])\n",
    "    return obj_vector\n",
    "\n",
    "def getConstrMat(model):\n",
    "    num_constraints = model.NumConstrs\n",
    "    num_variables = model.NumVars\n",
    "    A_matrix = np.zeros((num_constraints, num_variables))\n",
    "    for i, constraint in enumerate(model.getConstrs()):\n",
    "        # check the sense and adjust if necessary\n",
    "        if constraint.Sense == GRB.GREATER_EQUAL:\n",
    "            # multiply the constraint row and RHS by -1 to convert >= to <=\n",
    "            row = model.getRow(constraint)\n",
    "            for j in range(row.size()):\n",
    "                var = row.getVar(j)\n",
    "                col_index = var.index\n",
    "                A_matrix[i, col_index] = -row.getCoeff(j)\n",
    "        elif constraint.Sense == GRB.LESS_EQUAL:\n",
    "            # keep <= constraints as they are\n",
    "            row = model.getRow(constraint)\n",
    "            for j in range(row.size()):\n",
    "                var = row.getVar(j)\n",
    "                col_index = var.index\n",
    "                A_matrix[i, col_index] = row.getCoeff(j)\n",
    "        else:\n",
    "            # raise an error if an equality constraint is encountered\n",
    "            raise ValueError(f\"Equality constraint found in constraint {constraint.ConstrName}. This is not allowed.\")\n",
    "    return A_matrix\n",
    "\n",
    "def getRhsVec(model):\n",
    "    num_constraints = model.NumConstrs\n",
    "    num_variables = model.NumVars\n",
    "    b_vector = np.zeros(num_constraints)\n",
    "    for i, constraint in enumerate(model.getConstrs()):\n",
    "        # check the sense and adjust if necessary\n",
    "        if constraint.Sense == GRB.GREATER_EQUAL:\n",
    "            b_vector[i] = -constraint.RHS\n",
    "        elif constraint.Sense == GRB.LESS_EQUAL:\n",
    "            # keep <= constraints as they are\n",
    "            b_vector[i] = constraint.RHS\n",
    "        else:\n",
    "            # raise an error if an equality constraint is encountered\n",
    "            raise ValueError(f\"Equality constraint found in constraint {constraint.ConstrName}. This is not allowed.\")\n",
    "    return b_vector\n",
    "\n",
    "def getBounds(model):\n",
    "    # lower bound\n",
    "    lb_vector = np.array([var.LB for var in model.getVars()])\n",
    "    # upper bound\n",
    "    ub_vector = np.array([var.UB for var in model.getVars()])\n",
    "    return lb_vector, ub_vector"
   ]
  },
  {
   "cell_type": "code",
   "execution_count": 5,
   "id": "b2fe4b0b-edf6-4214-bc8f-42d90f3809af",
   "metadata": {},
   "outputs": [
    {
     "name": "stdout",
     "output_type": "stream",
     "text": [
      "RHS vector for:\n",
      "[[-18.69   1.19 -11.95 ...   0.     0.     0.  ]\n",
      " [ -2.97  -3.11 -13.05 ...   0.     0.     0.  ]\n",
      " [ -3.29  -3.02 -13.03 ...   0.     0.     0.  ]\n",
      " ...\n",
      " [-17.73   0.93 -12.02 ...   0.     0.     0.  ]\n",
      " [-18.05   1.01 -11.99 ...   0.     0.     0.  ]\n",
      " [-18.37   1.1  -11.97 ...   0.     0.     0.  ]]\n"
     ]
    }
   ],
   "source": [
    "# dir\n",
    "data_dir = r\".\\data\\datasets\\vary_rhs\\series_2\"\n",
    "# init data\n",
    "b_data = np.zeros((50, 1250))\n",
    "i = 0\n",
    "# go through files\n",
    "print(\"RHS vector for:\")\n",
    "for file_name in os.listdir(data_dir):\n",
    "    if file_name.endswith(\".mps.gz\"):\n",
    "        file_path = os.path.join(data_dir, file_name)\n",
    "        # read file\n",
    "        with gzip.open(file_path, \"rb\") as f:\n",
    "            with open(\"temp.mps\", \"wb\") as temp_file:\n",
    "                temp_file.write(f.read())\n",
    "        # load model\n",
    "        model = gp.read(\"temp.mps\")\n",
    "        # print or process the RHS vector as needed\n",
    "        rhs_vector = getRhsVec(model)\n",
    "        b_data[i] = rhs_vector\n",
    "        # counting\n",
    "        i += 1\n",
    "print(b_data)"
   ]
  },
  {
   "cell_type": "code",
   "execution_count": 6,
   "id": "39e00640-07c8-4683-80cd-fef3a8e0ee0f",
   "metadata": {},
   "outputs": [],
   "source": [
    "from sklearn.model_selection import train_test_split\n",
    "train_data, test_data = train_test_split(b_data, test_size=0.2, random_state=42)"
   ]
  },
  {
   "cell_type": "code",
   "execution_count": 7,
   "id": "c5591259-03f1-486a-8c27-fc1047962201",
   "metadata": {},
   "outputs": [],
   "source": [
    "# var type\n",
    "types = getVarTypes(model)\n",
    "# objective\n",
    "c = getObjVec(model)\n",
    "# constraint\n",
    "A = getConstrMat(model)\n",
    "# bound\n",
    "lb, ub = getBounds(model)"
   ]
  },
  {
   "cell_type": "code",
   "execution_count": 8,
   "id": "ee741ac2-8ba9-44fe-aae2-b37335cd8fae",
   "metadata": {},
   "outputs": [
    {
     "name": "stdout",
     "output_type": "stream",
     "text": [
      "First 500 types: ['C', 'C', 'C', 'C', 'C', 'C', 'C', 'C', 'C', 'C', 'C', 'C', 'C', 'C', 'C', 'C', 'C', 'C', 'C', 'C', 'C', 'C', 'C', 'C', 'C', 'C', 'C', 'C', 'C', 'C', 'C', 'C', 'C', 'C', 'C', 'C', 'C', 'C', 'C', 'C', 'C', 'C', 'C', 'C', 'C', 'C', 'C', 'C', 'C', 'C', 'C', 'C', 'C', 'C', 'C', 'C', 'C', 'C', 'C', 'C', 'C', 'C', 'C', 'C', 'C', 'C', 'C', 'C', 'C', 'C', 'C', 'C', 'C', 'C', 'C', 'C', 'C', 'C', 'C', 'C', 'C', 'C', 'C', 'C', 'C', 'C', 'C', 'C', 'C', 'C', 'C', 'C', 'C', 'C', 'C', 'C', 'C', 'C', 'C', 'C', 'C', 'C', 'C', 'C', 'C', 'C', 'C', 'C', 'C', 'C', 'C', 'C', 'C', 'C', 'C', 'C', 'C', 'C', 'C', 'C', 'C', 'C', 'C', 'C', 'C', 'C', 'C', 'C', 'C', 'C', 'C', 'C', 'C', 'C', 'C', 'C', 'C', 'C', 'C', 'C', 'C', 'C', 'C', 'C', 'C', 'C', 'C', 'C', 'C', 'C', 'C', 'C', 'C', 'C', 'C', 'C', 'C', 'C', 'C', 'C', 'C', 'C', 'C', 'C', 'C', 'C', 'C', 'C', 'C', 'C', 'C', 'C', 'C', 'C', 'C', 'C', 'C', 'C', 'C', 'C', 'C', 'C', 'C', 'C', 'C', 'C', 'C', 'C', 'C', 'C', 'C', 'C', 'C', 'C', 'C', 'C', 'C', 'C', 'C', 'C', 'C', 'C', 'C', 'C', 'C', 'C', 'C', 'C', 'C', 'C', 'C', 'C', 'C', 'C', 'C', 'C', 'C', 'C', 'C', 'C', 'C', 'C', 'C', 'C', 'C', 'C', 'C', 'C', 'C', 'C', 'C', 'C', 'C', 'C', 'C', 'C', 'C', 'C', 'C', 'C', 'C', 'C', 'C', 'C', 'C', 'C', 'C', 'C', 'C', 'C', 'C', 'C', 'C', 'C', 'C', 'C', 'C', 'C', 'C', 'C', 'C', 'C', 'C', 'C', 'C', 'C', 'C', 'C', 'C', 'C', 'C', 'C', 'C', 'C', 'C', 'C', 'C', 'C', 'C', 'C', 'C', 'C', 'C', 'C', 'C', 'C', 'C', 'C', 'C', 'C', 'C', 'C', 'C', 'C', 'C', 'C', 'C', 'C', 'C', 'C', 'C', 'C', 'C', 'C', 'C', 'C', 'C', 'C', 'C', 'C', 'C', 'C', 'C', 'C', 'C', 'C', 'C', 'C', 'C', 'C', 'C', 'C', 'C', 'C', 'C', 'C', 'C', 'C', 'C', 'C', 'C', 'C', 'C', 'C', 'C', 'C', 'C', 'C', 'C', 'C', 'C', 'C', 'C', 'C', 'C', 'C', 'C', 'C', 'C', 'C', 'C', 'C', 'C', 'C', 'C', 'C', 'C', 'C', 'C', 'C', 'C', 'C', 'C', 'C', 'C', 'C', 'C', 'C', 'C', 'C', 'C', 'C', 'C', 'C', 'C', 'C', 'C', 'C', 'C', 'C', 'C', 'C', 'C', 'C', 'C', 'C', 'C', 'C', 'C', 'C', 'C', 'C', 'C', 'C', 'C', 'C', 'C', 'C', 'C', 'C', 'C', 'C', 'C', 'C', 'C', 'C', 'C', 'C', 'C', 'C', 'C', 'C', 'C', 'C', 'C', 'C', 'C', 'C', 'C', 'C', 'C', 'C', 'C', 'C', 'C', 'C', 'C', 'C', 'C', 'C', 'C', 'C', 'C', 'C', 'C', 'C', 'C', 'C', 'C', 'C', 'C', 'C', 'C', 'C', 'C', 'C', 'C', 'C', 'C', 'C', 'C', 'C', 'C', 'C', 'C', 'C', 'C', 'C', 'C', 'C', 'C', 'C', 'C', 'C', 'C', 'C', 'C', 'C', 'C', 'C', 'C', 'C', 'C', 'C', 'C', 'C', 'C', 'C', 'C', 'C', 'C', 'C', 'C', 'C', 'C', 'C', 'C', 'C', 'C', 'C', 'C', 'C', 'C', 'C', 'C', 'C', 'C', 'C', 'C', 'C']\n",
      "The first 500 lower bounds are identical.\n",
      "Lower bound for first 500 variables: -inf\n",
      "The first 500 upper bounds are identical.\n",
      "Upper bound for first 500 variables: inf\n",
      "\n",
      "Last 500 types: ['B', 'B', 'B', 'B', 'B', 'B', 'B', 'B', 'B', 'B', 'B', 'B', 'B', 'B', 'B', 'B', 'B', 'B', 'B', 'B', 'B', 'B', 'B', 'B', 'B', 'B', 'B', 'B', 'B', 'B', 'B', 'B', 'B', 'B', 'B', 'B', 'B', 'B', 'B', 'B', 'B', 'B', 'B', 'B', 'B', 'B', 'B', 'B', 'B', 'B', 'B', 'B', 'B', 'B', 'B', 'B', 'B', 'B', 'B', 'B', 'B', 'B', 'B', 'B', 'B', 'B', 'B', 'B', 'B', 'B', 'B', 'B', 'B', 'B', 'B', 'B', 'B', 'B', 'B', 'B', 'B', 'B', 'B', 'B', 'B', 'B', 'B', 'B', 'B', 'B', 'B', 'B', 'B', 'B', 'B', 'B', 'B', 'B', 'B', 'B', 'B', 'B', 'B', 'B', 'B', 'B', 'B', 'B', 'B', 'B', 'B', 'B', 'B', 'B', 'B', 'B', 'B', 'B', 'B', 'B', 'B', 'B', 'B', 'B', 'B', 'B', 'B', 'B', 'B', 'B', 'B', 'B', 'B', 'B', 'B', 'B', 'B', 'B', 'B', 'B', 'B', 'B', 'B', 'B', 'B', 'B', 'B', 'B', 'B', 'B', 'B', 'B', 'B', 'B', 'B', 'B', 'B', 'B', 'B', 'B', 'B', 'B', 'B', 'B', 'B', 'B', 'B', 'B', 'B', 'B', 'B', 'B', 'B', 'B', 'B', 'B', 'B', 'B', 'B', 'B', 'B', 'B', 'B', 'B', 'B', 'B', 'B', 'B', 'B', 'B', 'B', 'B', 'B', 'B', 'B', 'B', 'B', 'B', 'B', 'B', 'B', 'B', 'B', 'B', 'B', 'B', 'B', 'B', 'B', 'B', 'B', 'B', 'B', 'B', 'B', 'B', 'B', 'B', 'B', 'B', 'B', 'B', 'B', 'B', 'B', 'B', 'B', 'B', 'B', 'B', 'B', 'B', 'B', 'B', 'B', 'B', 'B', 'B', 'B', 'B', 'B', 'B', 'B', 'B', 'B', 'B', 'B', 'B', 'B', 'B', 'B', 'B', 'B', 'B', 'B', 'B', 'B', 'B', 'B', 'B', 'B', 'B', 'B', 'B', 'B', 'B', 'B', 'B', 'B', 'B', 'B', 'B', 'B', 'B', 'B', 'B', 'B', 'B', 'B', 'B', 'B', 'B', 'B', 'B', 'B', 'B', 'B', 'B', 'B', 'B', 'B', 'B', 'B', 'B', 'B', 'B', 'B', 'B', 'B', 'B', 'B', 'B', 'B', 'B', 'B', 'B', 'B', 'B', 'B', 'B', 'B', 'B', 'B', 'B', 'B', 'B', 'B', 'B', 'B', 'B', 'B', 'B', 'B', 'B', 'B', 'B', 'B', 'B', 'B', 'B', 'B', 'B', 'B', 'B', 'B', 'B', 'B', 'B', 'B', 'B', 'B', 'B', 'B', 'B', 'B', 'B', 'B', 'B', 'B', 'B', 'B', 'B', 'B', 'B', 'B', 'B', 'B', 'B', 'B', 'B', 'B', 'B', 'B', 'B', 'B', 'B', 'B', 'B', 'B', 'B', 'B', 'B', 'B', 'B', 'B', 'B', 'B', 'B', 'B', 'B', 'B', 'B', 'B', 'B', 'B', 'B', 'B', 'B', 'B', 'B', 'B', 'B', 'B', 'B', 'B', 'B', 'B', 'B', 'B', 'B', 'B', 'B', 'B', 'B', 'B', 'B', 'B', 'B', 'B', 'B', 'B', 'B', 'B', 'B', 'B', 'B', 'B', 'B', 'B', 'B', 'B', 'B', 'B', 'B', 'B', 'B', 'B', 'B', 'B', 'B', 'B', 'B', 'B', 'B', 'B', 'B', 'B', 'B', 'B', 'B', 'B', 'B', 'B', 'B', 'B', 'B', 'B', 'B', 'B', 'B', 'B', 'B', 'B', 'B', 'B', 'B', 'B', 'B', 'B', 'B', 'B', 'B', 'B', 'B', 'B', 'B', 'B', 'B', 'B', 'B', 'B', 'B', 'B', 'B', 'B', 'B', 'B', 'B', 'B', 'B', 'B', 'B', 'B', 'B', 'B', 'B', 'B', 'B', 'B', 'B', 'B', 'B', 'B', 'B', 'B', 'B', 'B', 'B', 'B', 'B']\n",
      "The last 500 lower bounds are identical.\n",
      "Lower bound for last 500 variables: 0.0\n",
      "The last 500 upper bounds are identical.\n",
      "Upper bound for last 500 variables: 1.0\n"
     ]
    }
   ],
   "source": [
    "# check if the first 500 variable types are identical\n",
    "print(\"First 500 types:\", types[:500])\n",
    "# check if the first 500 lower bounds are identical\n",
    "first_500_lb_consistent = np.all(lb[:500] == lb[0])\n",
    "if first_500_lb_consistent:\n",
    "    print(\"The first 500 lower bounds are identical.\")\n",
    "    print(\"Lower bound for first 500 variables:\", lb[0])\n",
    "else:\n",
    "    print(\"The first 500 lower bounds are not identical.\")\n",
    "    print(\"First 500 lower bounds:\", lb[:500])\n",
    "# check if the first 250 upper bounds are identical\n",
    "first_250_ub_consistent = np.all(ub[:500] == ub[0])\n",
    "if first_250_ub_consistent:\n",
    "    print(\"The first 500 upper bounds are identical.\")\n",
    "    print(\"Upper bound for first 500 variables:\", ub[0])\n",
    "else:\n",
    "    print(\"The first 500 upper bounds are not identical.\")\n",
    "    print(\"First 500 upper bounds:\", ub[:500])\n",
    "\n",
    "print()\n",
    "\n",
    "# check if the last 250 variable types are identical\n",
    "print(\"Last 500 types:\", types[-500:])\n",
    "# check if the last 250 lower bounds are identical\n",
    "last_500_lb_consistent = np.all(lb[-500:] == lb[-500])\n",
    "if last_500_lb_consistent:\n",
    "    print(\"The last 500 lower bounds are identical.\")\n",
    "    print(\"Lower bound for last 500 variables:\", lb[-500])\n",
    "else:\n",
    "    print(\"The last 500 lower bounds are not identical.\")\n",
    "    print(\"Last 500 lower bounds:\", lb[-500:])\n",
    "# check if the last 250 upper bounds are identical\n",
    "last_500_ub_consistent = np.all(ub[-500:] == ub[-500])\n",
    "if last_500_ub_consistent:\n",
    "    print(\"The last 500 upper bounds are identical.\")\n",
    "    print(\"Upper bound for last 500 variables:\", ub[-500])\n",
    "else:\n",
    "    print(\"The last 500 upper bounds are not identical.\")\n",
    "    print(\"Last 500 upper bounds:\", ub[-500:])"
   ]
  },
  {
   "cell_type": "markdown",
   "id": "bd982f8a-bfe0-4bf3-83eb-5aa82033f58a",
   "metadata": {},
   "source": [
    "### Analysis"
   ]
  },
  {
   "cell_type": "code",
   "execution_count": 9,
   "id": "6691f894-6590-4fb3-a5b3-815fbfb73b8c",
   "metadata": {},
   "outputs": [
    {
     "name": "stdout",
     "output_type": "stream",
     "text": [
      "Minimum values for each column in b_data: [-18.69  -3.11 -13.05 ...   0.     0.     0.  ]\n",
      "Maximum values for each column in b_data: [ -2.97   1.19 -11.95 ...   0.     0.     0.  ]\n"
     ]
    }
   ],
   "source": [
    "# find the maximum and minimum values for each column in b_data\n",
    "train_data_col_max = np.max(train_data, axis=0)\n",
    "train_data_col_min = np.min(train_data, axis=0)\n",
    "print(\"Minimum values for each column in b_data:\", train_data_col_min)\n",
    "print(\"Maximum values for each column in b_data:\", train_data_col_max)"
   ]
  },
  {
   "cell_type": "code",
   "execution_count": 10,
   "id": "42f9f46a-67c7-4169-a428-740695ff5b27",
   "metadata": {},
   "outputs": [
    {
     "name": "stdout",
     "output_type": "stream",
     "text": [
      "Indices of columns in b_data where all entries are non-zero:\n",
      "[  0   1   2   3   4   5   6   7   8   9  10  11  12  13  14  15  16  17\n",
      "  18  19  20  21  22  23  24  25  26  27  28  29  30  31  32  33  34  35\n",
      "  36  37  39  40  41  42  43  44  45  46  47  48  49  50  51  52  53  54\n",
      "  55  56  57  58  59  60  61  62  63  64  65  66  67  68  69  70  71  72\n",
      "  73  74  75  76  77  78  79  80  81  83  84  85  86  87  88  89  90  91\n",
      "  92  93  94  95  96  97  98  99 100 101 102 103 104 105 106 107 108 109\n",
      " 110 111 112 113 114 115 116 117 118 119 120 121 122 123 124 125 126 127\n",
      " 128 129 130 131 133 134 135 136 137 138 139 140 141 142 143 144 145 146\n",
      " 147 148 149 150 151 152 153 154 155 156 157 158 159 160 161 162 163 164\n",
      " 165 166 167 168 169 170 171 172 173 174 175 176 177 178 179 180 181 182\n",
      " 183 184 185 186 187 188 189 190 191 192 193 194 195 196 197 198 199 200\n",
      " 201 202 203 204 205 206 207 208 209 210 211 212 213 214 215 216 217 218\n",
      " 219 220 221 222 223 224 225 226 227 228 229 230 231 233 234 235 236 237\n",
      " 238 239 240 241 242 243 244 245 246 247 248 249]\n"
     ]
    }
   ],
   "source": [
    "# identify columns with all non-zero elements in b_data\n",
    "non_zero_columns = np.all(train_data != 0, axis=0)\n",
    "non_zero_column_indices = np.where(non_zero_columns)[0]  # Get the indices of columns with all non-zero elements\n",
    "print(\"Indices of columns in b_data where all entries are non-zero:\")\n",
    "print(non_zero_column_indices)"
   ]
  },
  {
   "cell_type": "code",
   "execution_count": 11,
   "id": "b785d280-ee95-4ead-be59-33959787f542",
   "metadata": {},
   "outputs": [
    {
     "data": {
      "image/png": "[encoded data removed]",
      "text/plain": [
       "<Figure size 600x400 with 1 Axes>"
      ]
     },
     "metadata": {},
     "output_type": "display_data"
    }
   ],
   "source": [
    "import matplotlib.pyplot as plt\n",
    "# plot histogram for the a column\n",
    "plt.figure(figsize=(6, 4))\n",
    "plt.hist(train_data[:, 0], bins=20, edgecolor='black')\n",
    "plt.title(\"Distribution of First Column of training data\")\n",
    "plt.xlabel(\"Value\")\n",
    "plt.ylabel(\"Frequency\")\n",
    "plt.show()"
   ]
  },
  {
   "cell_type": "code",
   "execution_count": 12,
   "id": "d85de1a6-e72e-4a0c-bc23-af94cf8476e6",
   "metadata": {},
   "outputs": [
    {
     "data": {
      "image/png": "[encoded data removed]",
      "text/plain": [
       "<Figure size 600x400 with 1 Axes>"
      ]
     },
     "metadata": {},
     "output_type": "display_data"
    }
   ],
   "source": [
    "import matplotlib.pyplot as plt\n",
    "# plot histogram for the a column of b_data\n",
    "plt.figure(figsize=(6, 4))\n",
    "plt.hist(train_data[:, 1], bins=20, edgecolor='black')\n",
    "plt.title(\"Distribution of Second Column of training data\")\n",
    "plt.xlabel(\"Value\")\n",
    "plt.ylabel(\"Frequency\")\n",
    "plt.show()"
   ]
  },
  {
   "cell_type": "code",
   "execution_count": 13,
   "id": "f6bb32dc-a8d2-4837-a534-2acf186e791b",
   "metadata": {},
   "outputs": [
    {
     "data": {
      "image/png": "[encoded data removed]",
      "text/plain": [
       "<Figure size 600x400 with 1 Axes>"
      ]
     },
     "metadata": {},
     "output_type": "display_data"
    }
   ],
   "source": [
    "import matplotlib.pyplot as plt\n",
    "# plot histogram for the a column of\n",
    "plt.figure(figsize=(6, 4))\n",
    "plt.hist(train_data[:, 99], bins=20, edgecolor='black')\n",
    "plt.title(\"Distribution of 100th Column of training data\")\n",
    "plt.xlabel(\"Value\")\n",
    "plt.ylabel(\"Frequency\")\n",
    "plt.show()"
   ]
  },
  {
   "cell_type": "markdown",
   "id": "20eece33-34e3-4a49-be55-533d4942307d",
   "metadata": {},
   "source": [
    "### Generate Samples"
   ]
  },
  {
   "cell_type": "code",
   "execution_count": 14,
   "id": "8c08e860-4804-41d3-8424-424394331ba5",
   "metadata": {},
   "outputs": [
    {
     "name": "stdout",
     "output_type": "stream",
     "text": [
      "Sampled b_sample array:\n",
      "[[-1.26328180e+01  1.70428584e+00 -1.18040182e+01 ...  0.00000000e+00\n",
      "   0.00000000e+00  0.00000000e+00]\n",
      " [-1.39943688e+01 -1.68941363e+00 -1.14465900e+01 ...  0.00000000e+00\n",
      "   0.00000000e+00  0.00000000e+00]\n",
      " [-7.13125086e+00 -7.83421802e-01 -1.30714172e+01 ...  0.00000000e+00\n",
      "   0.00000000e+00  0.00000000e+00]\n",
      " ...\n",
      " [-9.46003224e+00 -2.02545317e+00 -1.12896774e+01 ...  0.00000000e+00\n",
      "   0.00000000e+00  0.00000000e+00]\n",
      " [-1.20397859e+01  1.20947859e-02 -1.36297970e+01 ...  0.00000000e+00\n",
      "   0.00000000e+00  0.00000000e+00]\n",
      " [-1.03376187e+01 -1.82784240e-01 -1.15633815e+01 ...  0.00000000e+00\n",
      "   0.00000000e+00  0.00000000e+00]]\n"
     ]
    }
   ],
   "source": [
    "# sample size\n",
    "sample_size = 8000\n",
    "# init sample\n",
    "train_sample = np.zeros((sample_size, train_data.shape[1]))\n",
    "# get the column-wise max and min values from train_data\n",
    "train_data_col_max = np.ceil(np.max(train_data, axis=0))[:250]\n",
    "train_data_col_min = np.floor(np.min(train_data, axis=0))[:250]\n",
    "# generate uniform random values for the first 250 rows between the min and max of each column\n",
    "train_sample[:, :250] = np.random.uniform(train_data_col_min, train_data_col_max, (sample_size, 250))\n",
    "# display the sampled b_sample array\n",
    "print(\"Sampled b_sample array:\")\n",
    "print(train_sample)"
   ]
  },
  {
   "cell_type": "markdown",
   "id": "23b33692-1fe3-4117-85cb-58c4f40340af",
   "metadata": {},
   "source": [
    "### Baseline "
   ]
  },
  {
   "cell_type": "code",
   "execution_count": 15,
   "id": "97e6be2f-2df1-48ed-bae2-e06b1db4962a",
   "metadata": {},
   "outputs": [],
   "source": [
    "def setRHS(model, b):\n",
    "    # reset\n",
    "    model.reset() \n",
    "    # update the RHS values\n",
    "    for constr, new_rhs in zip(model.getConstrs(), b):\n",
    "        constr.RHS = new_rhs"
   ]
  },
  {
   "cell_type": "markdown",
   "id": "dacab8c6-603a-4d87-9b7b-7192a12548ac",
   "metadata": {},
   "source": [
    "#### Exact Solver"
   ]
  },
  {
   "cell_type": "code",
   "execution_count": 16,
   "id": "db3f8cc3-7f4f-4a5f-8c86-3da5b23759a3",
   "metadata": {},
   "outputs": [
    {
     "name": "stderr",
     "output_type": "stream",
     "text": [
      "100%|██████████████████████████████████████████████████████████████████████████████████| 10/10 [00:32<00:00,  3.27s/it]\n"
     ]
    },
    {
     "name": "stdout",
     "output_type": "stream",
     "text": [
      "            Obj Val  Constraints Viol  Elapsed Time\n",
      "count     10.000000              10.0     10.000000\n",
      "mean  -17169.485687               0.0      3.257836\n",
      "std        1.269903               0.0      0.347903\n",
      "min   -17171.525260               0.0      2.712321\n",
      "25%   -17170.355450               0.0      3.022019\n",
      "50%   -17169.264223               0.0      3.287408\n",
      "75%   -17168.411405               0.0      3.404324\n",
      "max   -17167.980247               0.0      3.987588\n",
      "Total elapsed time for optimization: 32.58 seconds\n"
     ]
    }
   ],
   "source": [
    "# init model\n",
    "model = gp.read(\"temp.mps\")\n",
    "# init df\n",
    "params, sols, objvals, conviols, elapseds = [], [], [], [], []\n",
    "for b in tqdm(test_data):\n",
    "        # set rhs\n",
    "        setRHS(model, b)\n",
    "        # solve\n",
    "        tick = time.time()\n",
    "        model.optimize()\n",
    "        tock = time.time()\n",
    "        # record\n",
    "        params.append(list(b[:250]))\n",
    "        sols.append([var.x for var in model.getVars()])\n",
    "        objvals.append(model.objVal)\n",
    "        conviols.append(0)\n",
    "        elapseds.append(tock - tick)\n",
    "df = pd.DataFrame({\"Param\":params,\n",
    "                    \"Sol\":sols,\n",
    "                    \"Obj Val\": objvals,\n",
    "                    \"Constraints Viol\": conviols,\n",
    "                    \"Elapsed Time\": elapseds})\n",
    "time.sleep(1)\n",
    "print(df.describe())\n",
    "print(\"Total elapsed time for optimization: {:.2f} seconds\".format(df[\"Elapsed Time\"].sum()))\n",
    "df.to_csv(\"result/lp_exact_rhs-series2.csv\")"
   ]
  },
  {
   "cell_type": "markdown",
   "id": "0482fed4-0ad2-4778-b8b8-87ec9e504876",
   "metadata": {},
   "source": [
    "#### N1 Hueristic"
   ]
  },
  {
   "cell_type": "code",
   "execution_count": 17,
   "id": "713f93be-6dc6-45e7-84a9-4e9618be57d3",
   "metadata": {},
   "outputs": [
    {
     "name": "stderr",
     "output_type": "stream",
     "text": [
      "100%|██████████████████████████████████████████████████████████████████████████████████| 10/10 [00:01<00:00,  5.73it/s]\n"
     ]
    },
    {
     "name": "stdout",
     "output_type": "stream",
     "text": [
      "           Obj Val  Constraints Viol  Elapsed Time\n",
      "count    10.000000              10.0     10.000000\n",
      "mean  -7409.652066               0.0      0.168594\n",
      "std       0.084518               0.0      0.009324\n",
      "min   -7409.778049               0.0      0.158386\n",
      "25%   -7409.713027               0.0      0.161828\n",
      "50%   -7409.647334               0.0      0.168466\n",
      "75%   -7409.586088               0.0      0.170633\n",
      "max   -7409.530987               0.0      0.190636\n",
      "Total elapsed time for optimization: 1.69 seconds\n"
     ]
    }
   ],
   "source": [
    "# init model\n",
    "model = gp.read(\"temp.mps\")\n",
    "# limit to root node\n",
    "model.setParam(\"SolutionLimit\", 1) \n",
    "# init df\n",
    "params, sols, objvals, conviols, elapseds = [], [], [], [], []\n",
    "for b in tqdm(test_data):\n",
    "        # set rhs\n",
    "        setRHS(model, b)\n",
    "        # solve\n",
    "        tick = time.time()\n",
    "        model.optimize()\n",
    "        tock = time.time()\n",
    "        # record\n",
    "        params.append(list(b[:250]))\n",
    "        sols.append([var.x for var in model.getVars()])\n",
    "        objvals.append(model.objVal)\n",
    "        conviols.append(0)\n",
    "        elapseds.append(tock - tick)\n",
    "df = pd.DataFrame({\"Param\":params,\n",
    "                    \"Sol\":sols,\n",
    "                    \"Obj Val\": objvals,\n",
    "                    \"Constraints Viol\": conviols,\n",
    "                    \"Elapsed Time\": elapseds})\n",
    "time.sleep(1)\n",
    "print(df.describe())\n",
    "print(\"Total elapsed time for optimization: {:.2f} seconds\".format(df[\"Elapsed Time\"].sum()))\n",
    "df.to_csv(\"result/lp_root_rhs-series2.csv\")"
   ]
  },
  {
   "cell_type": "markdown",
   "id": "2ef84ca8-6b5b-4b73-beeb-888d05d37f05",
   "metadata": {},
   "source": [
    "### Learning-to-Optimize"
   ]
  },
  {
   "cell_type": "code",
   "execution_count": 18,
   "id": "8c474cff-64a9-44a9-ae06-b114b3cc89ce",
   "metadata": {},
   "outputs": [],
   "source": [
    "# hpyerparameters\n",
    "batch_size = 64\n",
    "hlayers_sol = 5\n",
    "hlayers_rnd = 4\n",
    "hsize = 256\n",
    "lr = 1e-3\n",
    "penalty_weight = 10000"
   ]
  },
  {
   "cell_type": "code",
   "execution_count": 19,
   "id": "ac85f1a2-0a29-4d86-9cae-b872ad76dae1",
   "metadata": {},
   "outputs": [],
   "source": [
    "from torch.utils.data import DataLoader\n",
    "from neuromancer.dataset import DictDataset\n",
    "# get dataset\n",
    "data_train = DictDataset({\"b\":torch.from_numpy(train_sample[:,:250]).float()}, name=\"train\")\n",
    "data_val = DictDataset({\"b\":torch.from_numpy(train_data[:,:250]).float()}, name=\"train\")\n",
    "# set dataloader\n",
    "loader_train = DataLoader(data_train, batch_size, num_workers=0,\n",
    "                          collate_fn=data_train.collate_fn, shuffle=True)\n",
    "loader_val   = DataLoader(data_val, batch_size, num_workers=0,\n",
    "                          collate_fn=data_train.collate_fn, shuffle=True)"
   ]
  },
  {
   "cell_type": "code",
   "execution_count": 20,
   "id": "fe5780be-00ed-4376-85bc-875f3561ec51",
   "metadata": {},
   "outputs": [],
   "source": [
    "class penaltyLoss(nn.Module):\n",
    "    \"\"\"\n",
    "    Penalty loss function for linear optimization problems.\n",
    "    \"\"\"\n",
    "    def __init__(self, input_keys, A, c, lb, ub, penalty_weight=50, output_key=\"loss\"):\n",
    "        \"\"\"\n",
    "        Initialize penalty loss with problem parameters.\n",
    "        \"\"\"\n",
    "        super().__init__()\n",
    "        self.b_key, self.x_key = input_keys\n",
    "        self.output_key = output_key\n",
    "        self.penalty_weight = penalty_weight\n",
    "        self.device = None\n",
    "        # fixed coefficients\n",
    "        self.A = torch.from_numpy(A).float()\n",
    "        self.c = torch.from_numpy(c).float()\n",
    "        self.lb = torch.from_numpy(lb).float()\n",
    "        self.ub = torch.from_numpy(ub).float()\n",
    "\n",
    "    def forward(self, input_dict):\n",
    "        \"\"\"\n",
    "        Forward pass to compute the penalty loss.\n",
    "        \"\"\"\n",
    "        # objective function calculation\n",
    "        obj_value = self.cal_obj(input_dict)\n",
    "        # constraint violation calculation\n",
    "        viol_value = self.cal_constr_viol(input_dict)\n",
    "        # penalized loss\n",
    "        loss = obj_value + self.penalty_weight * viol_value\n",
    "        # mean loss\n",
    "        input_dict[self.output_key] = torch.mean(loss)\n",
    "        return input_dict\n",
    "\n",
    "    def cal_obj(self, input_dict):\n",
    "        \"\"\"\n",
    "        Calculate the linear objective function.\n",
    "        \"\"\"\n",
    "        x = input_dict[self.x_key]\n",
    "        # move parameters to the correct device if not already set\n",
    "        if self.device is None:\n",
    "            self.device = x.device\n",
    "            self.c = self.c.to(self.device)\n",
    "            self.A = self.A.to(self.device)\n",
    "            self.lb = self.lb.to(self.device)\n",
    "            self.ub = self.ub.to(self.device)\n",
    "        # calculate c^T x for the objective\n",
    "        obj_term = torch.einsum(\"n,bn->b\", self.c, x)\n",
    "        return obj_term\n",
    "\n",
    "    def cal_constr_viol(self, input_dict):\n",
    "        \"\"\"\n",
    "        Calculate constraint and bounds violations.\n",
    "        \"\"\"\n",
    "        x, b = input_dict[self.x_key], input_dict[self.b_key]\n",
    "        # fill 0 for rhs\n",
    "        b = torch.cat([b, torch.zeros(b.shape[0], self.A.shape[0] - b.shape[1], device=b.device)], dim=1)\n",
    "        # calculate constraint violations (Ax <= b)\n",
    "        lhs = torch.einsum(\"mn,bn->bm\", self.A, x)  # Ax\n",
    "        constr_violation = (torch.relu(lhs - b + 1e-3) ** 2).sum(dim=1)  # Max(0, Ax - b)\n",
    "        # calculate bounds violations\n",
    "        lower_violation = (torch.relu(self.lb - x + 1e-3) ** 2).sum(dim=1)  # x >= lb\n",
    "        upper_violation = (torch.relu(x - self.ub + 1e-3) ** 2).sum(dim=1)  # x <= ub\n",
    "        return constr_violation + lower_violation + upper_violation\n",
    "\n",
    "    def get_constr_viol(self, input_dict):\n",
    "        \"\"\"\n",
    "        Calculate constraint and bounds violations.\n",
    "        \"\"\"\n",
    "        x, b = input_dict[self.x_key], input_dict[self.b_key]\n",
    "        # fill 0 for rhs\n",
    "        b = torch.cat([b, torch.zeros(b.shape[0], self.A.shape[0] - b.shape[1], device=b.device)], dim=1)\n",
    "        # calculate constraint violations (Ax <= b)\n",
    "        lhs = torch.einsum(\"mn,bn->bm\", self.A, x)  # Ax\n",
    "        constr_violation = torch.relu(lhs - b - 1e-5).sum(dim=1)  # Max(0, Ax - b)\n",
    "        # calculate bounds violations\n",
    "        lower_violation = torch.relu(self.lb - x - 1e-5).sum(dim=1)  # x >= lb\n",
    "        upper_violation = torch.relu(x - self.ub - 1e-5).sum(dim=1)  # x <= ub\n",
    "        return constr_violation + lower_violation + upper_violation"
   ]
  },
  {
   "cell_type": "markdown",
   "id": "d82c0228-fe20-4121-a016-94270d3c79c5",
   "metadata": {},
   "source": [
    "#### Rounding Classification"
   ]
  },
  {
   "cell_type": "code",
   "execution_count": 21,
   "id": "b7fef6da-65b1-47f0-89e3-58ada5bae053",
   "metadata": {},
   "outputs": [],
   "source": [
    "random.seed(42)\n",
    "np.random.seed(42)\n",
    "torch.manual_seed(42)\n",
    "torch.cuda.manual_seed(42)"
   ]
  },
  {
   "cell_type": "code",
   "execution_count": 22,
   "id": "afad3c94-a80b-47d9-a512-7a42aa4c3401",
   "metadata": {},
   "outputs": [],
   "source": [
    "import neuromancer as nm\n",
    "from src.func.layer import netFC\n",
    "from src.func import roundGumbelModel\n",
    "# build neural architecture for the solution map\n",
    "func = nm.modules.blocks.MLP(insize=250, outsize=model.NumVars, bias=True,\n",
    "                             linear_map=nm.slim.maps[\"linear\"],\n",
    "                             nonlin=nn.ReLU, hsizes=[hsize]*hlayers_sol)\n",
    "smap = nm.system.Node(func, [\"b\"], [\"x\"], name=\"smap\")\n",
    "# define rounding model\n",
    "layers_rnd = netFC(input_dim=250+model.NumVars,\n",
    "                   hidden_dims=[hsize]*hlayers_rnd,\n",
    "                   output_dim=model.NumVars)\n",
    "rnd = roundGumbelModel(layers=layers_rnd, param_keys=[\"b\"], var_keys=[\"x\"],\n",
    "                       output_keys=[\"x_rnd\"], bin_ind={\"x\":range(500,1000)},\n",
    "                       continuous_update=True, name=\"round\")\n",
    "# build neuromancer problem for rounding\n",
    "components = nn.ModuleList([smap, rnd]).to(\"cuda\")\n",
    "loss_fn = penaltyLoss([\"b\", \"x_rnd\"], A, c, lb, ub, penalty_weight)"
   ]
  },
  {
   "cell_type": "code",
   "execution_count": 23,
   "id": "61691c38-60fb-4b68-a9e3-d4541bf64938",
   "metadata": {},
   "outputs": [
    {
     "name": "stdout",
     "output_type": "stream",
     "text": [
      "Epoch 0, Iters 0, Validation Loss: 601187648.00\n",
      "Epoch 0, Iters 125, Training Loss: 769436819.87, Validation Loss: 1451151232.00\n",
      "Epoch 1, Iters 250, Training Loss: 36093297.65, Validation Loss: 46055456.00\n",
      "Epoch 2, Iters 375, Training Loss: 14153777.38, Validation Loss: 8747938.00\n",
      "Epoch 3, Iters 500, Training Loss: 6867552.38, Validation Loss: 9504016.00\n",
      "Epoch 4, Iters 625, Training Loss: 3285779.23, Validation Loss: 3090753.25\n",
      "Epoch 5, Iters 750, Training Loss: 1521221.94, Validation Loss: 42051548.00\n",
      "Epoch 6, Iters 875, Training Loss: 968295.46, Validation Loss: 377280.66\n",
      "Epoch 7, Iters 1000, Training Loss: 532239.75, Validation Loss: 198019.66\n",
      "Epoch 8, Iters 1125, Training Loss: 417240.98, Validation Loss: 184068.78\n",
      "Epoch 9, Iters 1250, Training Loss: 274862.18, Validation Loss: 70756.57\n",
      "Epoch 10, Iters 1375, Training Loss: 165707.97, Validation Loss: 158303.98\n",
      "Epoch 11, Iters 1500, Training Loss: 173569.90, Validation Loss: 31555.00\n",
      "Epoch 12, Iters 1625, Training Loss: 116210.98, Validation Loss: 94065.18\n",
      "Epoch 13, Iters 1750, Training Loss: 83118.87, Validation Loss: 24449.01\n",
      "Epoch 14, Iters 1875, Training Loss: 63449.18, Validation Loss: 21590.92\n",
      "Epoch 15, Iters 2000, Training Loss: 51432.44, Validation Loss: 134.42\n",
      "Epoch 16, Iters 2125, Training Loss: 49077.12, Validation Loss: 59317.89\n",
      "Epoch 17, Iters 2250, Training Loss: 24112.44, Validation Loss: 10338.23\n",
      "Epoch 18, Iters 2375, Training Loss: 28577.17, Validation Loss: 14072.88\n",
      "Epoch 19, Iters 2500, Training Loss: 26353.95, Validation Loss: -2976.57\n",
      "Epoch 20, Iters 2625, Training Loss: 16580.39, Validation Loss: -2494.70\n",
      "Epoch 21, Iters 2750, Training Loss: 16260.92, Validation Loss: -3409.57\n",
      "Epoch 22, Iters 2875, Training Loss: 19031.62, Validation Loss: -3450.24\n",
      "Epoch 23, Iters 3000, Training Loss: 22647.13, Validation Loss: 842.34\n",
      "Epoch 24, Iters 3125, Training Loss: 13651.23, Validation Loss: -4091.92\n",
      "Epoch 25, Iters 3250, Training Loss: 3739.00, Validation Loss: 4710.39\n",
      "Epoch 26, Iters 3375, Training Loss: 11455.95, Validation Loss: -5676.88\n",
      "Epoch 27, Iters 3500, Training Loss: 9283.87, Validation Loss: -5628.74\n",
      "Epoch 28, Iters 3625, Training Loss: 7385.92, Validation Loss: -6205.49\n",
      "Epoch 29, Iters 3750, Training Loss: 9204.49, Validation Loss: -4714.71\n",
      "Epoch 30, Iters 3875, Training Loss: 9353.89, Validation Loss: -6200.28\n",
      "Epoch 31, Iters 4000, Training Loss: 9033.02, Validation Loss: -5062.07\n",
      "Epoch 32, Iters 4125, Training Loss: 9705.60, Validation Loss: -6200.26\n",
      "Epoch 33, Iters 4250, Training Loss: 14155.78, Validation Loss: -5199.77\n",
      "Epoch 34, Iters 4375, Training Loss: 4521.81, Validation Loss: -2594.38\n",
      "Epoch 35, Iters 4500, Training Loss: 12368.41, Validation Loss: -7017.41\n",
      "Epoch 36, Iters 4625, Training Loss: 4317.18, Validation Loss: -7487.73\n",
      "Epoch 37, Iters 4750, Training Loss: 5993.08, Validation Loss: -7480.20\n",
      "Epoch 38, Iters 4875, Training Loss: 7908.72, Validation Loss: -5383.13\n",
      "Epoch 39, Iters 5000, Training Loss: 12768.79, Validation Loss: -7125.27\n",
      "Epoch 40, Iters 5125, Training Loss: 1183.70, Validation Loss: -7794.61\n",
      "Epoch 41, Iters 5250, Training Loss: 3102.45, Validation Loss: -6107.79\n",
      "Epoch 42, Iters 5375, Training Loss: 11896.03, Validation Loss: -7933.27\n",
      "Epoch 43, Iters 5500, Training Loss: 2470.32, Validation Loss: -7315.80\n",
      "Epoch 44, Iters 5625, Training Loss: 7033.24, Validation Loss: -8674.25\n",
      "Epoch 45, Iters 5750, Training Loss: -1260.45, Validation Loss: -8735.00\n",
      "Epoch 46, Iters 5875, Training Loss: 10283.63, Validation Loss: -8512.28\n",
      "Epoch 47, Iters 6000, Training Loss: 6728.61, Validation Loss: -8115.24\n",
      "Epoch 48, Iters 6125, Training Loss: 1431.42, Validation Loss: -8737.09\n",
      "Epoch 49, Iters 6250, Training Loss: 3793.39, Validation Loss: -9605.50\n",
      "Epoch 50, Iters 6375, Training Loss: 2642.36, Validation Loss: -9691.45\n",
      "Epoch 51, Iters 6500, Training Loss: 4409.60, Validation Loss: -9252.94\n",
      "Epoch 52, Iters 6625, Training Loss: 14660.36, Validation Loss: -8926.63\n",
      "Epoch 53, Iters 6750, Training Loss: 2923.23, Validation Loss: -8060.73\n",
      "Epoch 54, Iters 6875, Training Loss: 3933.04, Validation Loss: -9004.25\n",
      "Epoch 55, Iters 7000, Training Loss: 476.63, Validation Loss: -7191.95\n",
      "Epoch 56, Iters 7125, Training Loss: 5481.77, Validation Loss: -7822.35\n",
      "Epoch 57, Iters 7250, Training Loss: 27.90, Validation Loss: -8341.73\n",
      "Epoch 58, Iters 7375, Training Loss: 3552.12, Validation Loss: -8823.48\n",
      "Epoch 59, Iters 7500, Training Loss: 4786.03, Validation Loss: -9076.29\n",
      "Epoch 60, Iters 7625, Training Loss: 3257.18, Validation Loss: -8668.51\n",
      "Epoch 61, Iters 7750, Training Loss: -1880.75, Validation Loss: -9502.84\n",
      "Epoch 62, Iters 7875, Training Loss: 1769.47, Validation Loss: -9303.59\n",
      "Epoch 63, Iters 8000, Training Loss: 23.25, Validation Loss: -7744.57\n",
      "Epoch 64, Iters 8125, Training Loss: -900.67, Validation Loss: -9354.19\n",
      "Epoch 65, Iters 8250, Training Loss: -948.30, Validation Loss: -9724.49\n",
      "Epoch 66, Iters 8375, Training Loss: -874.15, Validation Loss: -9316.03\n",
      "Epoch 67, Iters 8500, Training Loss: -177.75, Validation Loss: -8949.37\n",
      "Epoch 68, Iters 8625, Training Loss: -1916.41, Validation Loss: -9081.80\n",
      "Epoch 69, Iters 8750, Training Loss: -1944.35, Validation Loss: -2201.94\n",
      "Epoch 70, Iters 8875, Training Loss: -2884.29, Validation Loss: -9566.25\n",
      "Epoch 71, Iters 9000, Training Loss: -796.36, Validation Loss: -9938.44\n",
      "Epoch 72, Iters 9125, Training Loss: 4016.94, Validation Loss: -9337.60\n",
      "Epoch 73, Iters 9250, Training Loss: -458.27, Validation Loss: -9990.50\n",
      "Epoch 74, Iters 9375, Training Loss: -296.62, Validation Loss: -9286.21\n",
      "Epoch 75, Iters 9500, Training Loss: 507.53, Validation Loss: -10021.56\n",
      "Epoch 76, Iters 9625, Training Loss: -439.94, Validation Loss: -9839.50\n",
      "Epoch 77, Iters 9750, Training Loss: -829.61, Validation Loss: -9203.62\n",
      "Epoch 78, Iters 9875, Training Loss: 288.92, Validation Loss: -9707.41\n",
      "Epoch 79, Iters 10000, Training Loss: -3253.75, Validation Loss: -9821.44\n",
      "Epoch 80, Iters 10125, Training Loss: 233.38, Validation Loss: -8958.01\n",
      "Epoch 81, Iters 10250, Training Loss: 1836.49, Validation Loss: -9026.78\n",
      "Epoch 82, Iters 10375, Training Loss: -3496.92, Validation Loss: -10445.17\n",
      "Epoch 83, Iters 10500, Training Loss: 5798.26, Validation Loss: -9623.00\n",
      "Epoch 84, Iters 10625, Training Loss: 5325.77, Validation Loss: -9522.85\n",
      "Epoch 85, Iters 10750, Training Loss: 150.47, Validation Loss: -9241.89\n",
      "Epoch 86, Iters 10875, Training Loss: -1809.94, Validation Loss: -9157.90\n",
      "Epoch 87, Iters 11000, Training Loss: 338.73, Validation Loss: -10005.12\n",
      "Epoch 88, Iters 11125, Training Loss: 7157.90, Validation Loss: -9773.52\n",
      "Epoch 89, Iters 11250, Training Loss: -3259.80, Validation Loss: -9937.13\n",
      "Epoch 90, Iters 11375, Training Loss: -3617.56, Validation Loss: -10064.16\n",
      "Epoch 91, Iters 11500, Training Loss: 545.34, Validation Loss: -2098.46\n",
      "Epoch 92, Iters 11625, Training Loss: -2195.85, Validation Loss: -8992.03\n",
      "Epoch 93, Iters 11750, Training Loss: -2292.21, Validation Loss: -9565.85\n",
      "Epoch 94, Iters 11875, Training Loss: 675.17, Validation Loss: -8236.14\n",
      "Epoch 95, Iters 12000, Training Loss: -295.63, Validation Loss: -10159.09\n",
      "Epoch 96, Iters 12125, Training Loss: -2931.47, Validation Loss: -10411.83\n",
      "Epoch 97, Iters 12250, Training Loss: 693.96, Validation Loss: -10185.20\n",
      "Epoch 98, Iters 12375, Training Loss: 1113.14, Validation Loss: -9829.29\n",
      "Epoch 99, Iters 12500, Training Loss: -1473.49, Validation Loss: -9914.84\n",
      "Epoch 100, Iters 12625, Training Loss: 2056.86, Validation Loss: -10387.59\n",
      "Epoch 101, Iters 12750, Training Loss: -1425.80, Validation Loss: -8421.30\n",
      "Epoch 102, Iters 12875, Training Loss: -1516.50, Validation Loss: -10193.94\n",
      "Epoch 103, Iters 13000, Training Loss: 256.31, Validation Loss: -9485.50\n",
      "Epoch 104, Iters 13125, Training Loss: -2684.17, Validation Loss: -10270.75\n",
      "Epoch 105, Iters 13250, Training Loss: -1926.85, Validation Loss: -5734.04\n",
      "Epoch 106, Iters 13375, Training Loss: -2916.62, Validation Loss: -9833.84\n",
      "Epoch 107, Iters 13500, Training Loss: -3025.17, Validation Loss: -10427.52\n",
      "Epoch 108, Iters 13625, Training Loss: -433.13, Validation Loss: -10071.71\n",
      "Epoch 109, Iters 13750, Training Loss: 1549.64, Validation Loss: -10472.80\n",
      "Epoch 110, Iters 13875, Training Loss: -2729.31, Validation Loss: -10294.50\n",
      "Epoch 111, Iters 14000, Training Loss: -2295.11, Validation Loss: -9766.75\n",
      "Epoch 112, Iters 14125, Training Loss: -5041.76, Validation Loss: -10027.17\n",
      "Epoch 113, Iters 14250, Training Loss: -1080.49, Validation Loss: -10203.31\n",
      "Epoch 114, Iters 14375, Training Loss: -3411.23, Validation Loss: -9591.91\n",
      "Epoch 115, Iters 14500, Training Loss: -4576.20, Validation Loss: -10617.33\n",
      "Epoch 116, Iters 14625, Training Loss: -2469.72, Validation Loss: -8601.35\n",
      "Epoch 117, Iters 14750, Training Loss: -240.14, Validation Loss: -9839.09\n",
      "Epoch 118, Iters 14875, Training Loss: -4314.97, Validation Loss: -9865.74\n",
      "Epoch 119, Iters 15000, Training Loss: -2478.14, Validation Loss: -2552.21\n",
      "Epoch 120, Iters 15125, Training Loss: 1345.71, Validation Loss: -10470.25\n",
      "Epoch 121, Iters 15250, Training Loss: -4488.57, Validation Loss: -10467.07\n",
      "Epoch 122, Iters 15375, Training Loss: -3727.88, Validation Loss: -9790.68\n",
      "Epoch 123, Iters 15500, Training Loss: -3528.92, Validation Loss: -10411.24\n",
      "Epoch 124, Iters 15625, Training Loss: -2381.64, Validation Loss: -10328.14\n",
      "Epoch 125, Iters 15750, Training Loss: -3016.36, Validation Loss: -8960.22\n",
      "Epoch 126, Iters 15875, Training Loss: -3263.06, Validation Loss: -9874.41\n",
      "Epoch 127, Iters 16000, Training Loss: 239.54, Validation Loss: -10325.96\n",
      "Epoch 128, Iters 16125, Training Loss: -4021.93, Validation Loss: -10571.95\n",
      "Epoch 129, Iters 16250, Training Loss: -4786.24, Validation Loss: -6953.99\n",
      "Epoch 130, Iters 16375, Training Loss: -2078.19, Validation Loss: -9380.43\n",
      "Epoch 131, Iters 16500, Training Loss: 2092.49, Validation Loss: -9862.33\n",
      "Epoch 132, Iters 16625, Training Loss: -1624.69, Validation Loss: -9944.92\n",
      "Epoch 133, Iters 16750, Training Loss: -3622.00, Validation Loss: -10044.16\n",
      "Epoch 134, Iters 16875, Training Loss: -1888.44, Validation Loss: -10637.22\n",
      "Epoch 135, Iters 17000, Training Loss: -3688.32, Validation Loss: -8595.84\n",
      "Epoch 136, Iters 17125, Training Loss: -4241.12, Validation Loss: -10482.23\n",
      "Epoch 137, Iters 17250, Training Loss: -4777.50, Validation Loss: -10591.17\n",
      "Epoch 138, Iters 17375, Training Loss: -1543.74, Validation Loss: -10551.52\n",
      "Epoch 139, Iters 17500, Training Loss: -3631.80, Validation Loss: -10067.30\n",
      "Epoch 140, Iters 17625, Training Loss: -4245.78, Validation Loss: -10191.18\n",
      "Epoch 141, Iters 17750, Training Loss: -4717.08, Validation Loss: -10122.49\n",
      "Epoch 142, Iters 17875, Training Loss: -2164.49, Validation Loss: -9794.58\n",
      "Epoch 143, Iters 18000, Training Loss: -2596.06, Validation Loss: -9687.56\n",
      "Epoch 144, Iters 18125, Training Loss: -2941.01, Validation Loss: -10125.06\n",
      "Epoch 145, Iters 18250, Training Loss: -3746.89, Validation Loss: -10809.90\n",
      "Epoch 146, Iters 18375, Training Loss: 111.29, Validation Loss: -10412.98\n",
      "Epoch 147, Iters 18500, Training Loss: -1505.03, Validation Loss: -10628.31\n",
      "Epoch 148, Iters 18625, Training Loss: -3479.03, Validation Loss: -10819.33\n",
      "Epoch 149, Iters 18750, Training Loss: -3702.85, Validation Loss: -10546.74\n",
      "Epoch 150, Iters 18875, Training Loss: -3612.10, Validation Loss: -10575.64\n",
      "Epoch 151, Iters 19000, Training Loss: -5198.01, Validation Loss: -10637.80\n",
      "Epoch 152, Iters 19125, Training Loss: 187.23, Validation Loss: -10007.41\n",
      "Epoch 153, Iters 19250, Training Loss: -219.82, Validation Loss: -9495.65\n",
      "Epoch 154, Iters 19375, Training Loss: -3845.11, Validation Loss: -10341.16\n",
      "Epoch 155, Iters 19500, Training Loss: -1576.05, Validation Loss: -10309.59\n",
      "Epoch 156, Iters 19625, Training Loss: -4141.86, Validation Loss: -8673.41\n",
      "Epoch 157, Iters 19750, Training Loss: -4797.75, Validation Loss: -10785.90\n",
      "Epoch 158, Iters 19875, Training Loss: -3957.69, Validation Loss: -10279.09\n",
      "Epoch 159, Iters 20000, Training Loss: -4887.33, Validation Loss: -10095.35\n",
      "Epoch 160, Iters 20125, Training Loss: -3771.16, Validation Loss: -10482.53\n",
      "Epoch 161, Iters 20250, Training Loss: -1413.43, Validation Loss: -10379.80\n",
      "Epoch 162, Iters 20375, Training Loss: 1711.70, Validation Loss: -6528.62\n",
      "Epoch 163, Iters 20500, Training Loss: -786.58, Validation Loss: -10767.04\n",
      "Epoch 164, Iters 20625, Training Loss: -4437.97, Validation Loss: -9808.95\n",
      "Epoch 165, Iters 20750, Training Loss: -3136.59, Validation Loss: -10416.53\n",
      "Epoch 166, Iters 20875, Training Loss: -4706.64, Validation Loss: -10513.10\n",
      "Epoch 167, Iters 21000, Training Loss: -2240.56, Validation Loss: -10978.33\n",
      "Epoch 168, Iters 21125, Training Loss: -1658.62, Validation Loss: -10880.27\n",
      "Epoch 169, Iters 21250, Training Loss: -6285.99, Validation Loss: -9710.78\n",
      "Epoch 170, Iters 21375, Training Loss: -3486.01, Validation Loss: -10622.46\n",
      "Epoch 171, Iters 21500, Training Loss: -4265.28, Validation Loss: -10561.85\n",
      "Epoch 172, Iters 21625, Training Loss: -5598.06, Validation Loss: -10805.88\n",
      "Epoch 173, Iters 21750, Training Loss: -4305.15, Validation Loss: -9403.62\n",
      "Epoch 174, Iters 21875, Training Loss: -3585.68, Validation Loss: -10925.84\n",
      "Epoch 175, Iters 22000, Training Loss: -4254.70, Validation Loss: -10552.81\n",
      "Epoch 176, Iters 22125, Training Loss: -4884.65, Validation Loss: -10753.81\n",
      "Epoch 177, Iters 22250, Training Loss: -1916.31, Validation Loss: -8229.12\n",
      "Epoch 178, Iters 22375, Training Loss: -1932.87, Validation Loss: -10716.22\n",
      "Epoch 179, Iters 22500, Training Loss: -4584.74, Validation Loss: -10290.58\n",
      "Epoch 180, Iters 22625, Training Loss: -5762.88, Validation Loss: -10732.78\n",
      "Epoch 181, Iters 22750, Training Loss: -4395.67, Validation Loss: -11104.49\n",
      "Epoch 182, Iters 22875, Training Loss: -4.85, Validation Loss: -11025.12\n",
      "Epoch 183, Iters 23000, Training Loss: -3930.27, Validation Loss: -11022.41\n",
      "Epoch 184, Iters 23125, Training Loss: -1729.57, Validation Loss: -10530.12\n",
      "Epoch 185, Iters 23250, Training Loss: -803.18, Validation Loss: -10786.70\n",
      "Epoch 186, Iters 23375, Training Loss: -6080.16, Validation Loss: -11037.95\n",
      "Epoch 187, Iters 23500, Training Loss: -5974.39, Validation Loss: -10974.69\n",
      "Epoch 188, Iters 23625, Training Loss: -4921.30, Validation Loss: -9672.46\n",
      "Epoch 189, Iters 23750, Training Loss: -752.68, Validation Loss: -10329.68\n",
      "Epoch 190, Iters 23875, Training Loss: -1747.93, Validation Loss: -10224.98\n",
      "Epoch 191, Iters 24000, Training Loss: -4734.69, Validation Loss: -11114.68\n",
      "Epoch 192, Iters 24125, Training Loss: -6529.19, Validation Loss: -10858.91\n",
      "Epoch 193, Iters 24250, Training Loss: -5436.76, Validation Loss: -11058.84\n",
      "Epoch 194, Iters 24375, Training Loss: -273.06, Validation Loss: -10684.44\n",
      "Epoch 195, Iters 24500, Training Loss: -5157.25, Validation Loss: -11152.68\n",
      "Epoch 196, Iters 24625, Training Loss: -2617.05, Validation Loss: -10813.55\n",
      "Epoch 197, Iters 24750, Training Loss: -4019.63, Validation Loss: -10421.77\n",
      "Epoch 198, Iters 24875, Training Loss: -6154.61, Validation Loss: -11071.55\n",
      "Epoch 199, Iters 25000, Training Loss: -1005.31, Validation Loss: -9732.00\n",
      "Training complete.\n",
      "The training time is 281.81 sec.\n"
     ]
    }
   ],
   "source": [
    "from src.problem.neuromancer.trainer import trainer\n",
    "# training\n",
    "epochs = 200                    # number of training epochs\n",
    "warmup = 20                    # number of epochs to wait before enacting early stopping policy\n",
    "patience = 20                   # number of epochs with no improvement in eval metric to allow before early stopping\n",
    "optimizer = torch.optim.AdamW(components.parameters(), lr=lr)\n",
    "# create a trainer for the problem\n",
    "my_trainer = trainer(components, loss_fn, optimizer, epochs=epochs, patience=patience, warmup=warmup, device=\"cuda\")\n",
    "# training for the rounding problem\n",
    "my_trainer.train(loader_train, loader_val)"
   ]
  },
  {
   "cell_type": "code",
   "execution_count": 24,
   "id": "e45e0270-e288-4511-84c5-b5be97c3c632",
   "metadata": {},
   "outputs": [
    {
     "name": "stderr",
     "output_type": "stream",
     "text": [
      "100%|█████████████████████████████████████████████████████████████████████████████████| 10/10 [00:00<00:00, 168.22it/s]\n"
     ]
    },
    {
     "name": "stdout",
     "output_type": "stream",
     "text": [
      "            Obj Val  Constraints Viol  Elapsed Time\n",
      "count     10.000000         10.000000     10.000000\n",
      "mean  -11333.951053          2.676047      0.003862\n",
      "std       18.172082          0.015114      0.000707\n",
      "min   -11359.429729          2.655293      0.003012\n",
      "25%   -11350.034075          2.663533      0.003518\n",
      "50%   -11331.907742          2.673794      0.003676\n",
      "75%   -11320.323254          2.689656      0.004097\n",
      "max   -11306.742206          2.698342      0.005028\n",
      "Total elapsed time for optimization: 0.04 seconds\n",
      "Number of infeasible solution: 10\n"
     ]
    }
   ],
   "source": [
    "# init model\n",
    "model = gp.read(\"temp.mps\")\n",
    "# init df\n",
    "params, sols, objvals, conviols, elapseds = [], [], [], [], []\n",
    "for b in tqdm(test_data):\n",
    "    # data point as tensor\n",
    "    datapoints = {\"b\": torch.unsqueeze(torch.tensor(b).float()[:250], 0).to(\"cuda\"),\n",
    "                  \"name\": \"test\"}\n",
    "    # infer\n",
    "    components.eval()\n",
    "    tick = time.time()\n",
    "    with torch.no_grad():\n",
    "        for comp in components:\n",
    "            datapoints.update(comp(datapoints))\n",
    "    tock = time.time()\n",
    "    # get solutions\n",
    "    x_val = datapoints[\"x_rnd\"][0].detach().cpu().numpy()\n",
    "    params.append(list(b))\n",
    "    sols.append(list(x_val))\n",
    "    objvals.append(c@x_val)\n",
    "    conviols.append(loss_fn.get_constr_viol(datapoints)[0].item())\n",
    "    elapseds.append(tock - tick)\n",
    "df = pd.DataFrame({\"Param\":params,\n",
    "                   \"Sol\":sols,\n",
    "                   \"Obj Val\": objvals,\n",
    "                   \"Constraints Viol\": conviols,\n",
    "                   \"Elapsed Time\": elapseds})\n",
    "time.sleep(1)\n",
    "print(df.describe())\n",
    "print(\"Total elapsed time for optimization: {:.2f} seconds\".format(df[\"Elapsed Time\"].sum()))\n",
    "print(\"Number of infeasible solution: {}\".format(np.sum(df[\"Constraints Viol\"] > 0)))\n",
    "df.to_csv(\"result/lp_cls_rhs-series2-g.csv\")"
   ]
  },
  {
   "cell_type": "markdown",
   "id": "171c518f-4f8e-424b-bfd2-f179719aa0b0",
   "metadata": {},
   "source": [
    "#### Learnable Threshold"
   ]
  },
  {
   "cell_type": "code",
   "execution_count": 25,
   "id": "fb5e2b4f-5001-4379-97f9-174a67b635f6",
   "metadata": {},
   "outputs": [],
   "source": [
    "random.seed(42)\n",
    "np.random.seed(42)\n",
    "torch.manual_seed(42)\n",
    "torch.cuda.manual_seed(42)"
   ]
  },
  {
   "cell_type": "code",
   "execution_count": 26,
   "id": "a29326d5-a8fb-4134-9c84-a57f771b3dac",
   "metadata": {},
   "outputs": [],
   "source": [
    "import neuromancer as nm\n",
    "from src.func.layer import netFC\n",
    "from src.func import roundThresholdModel\n",
    "# build neural architecture for the solution map\n",
    "func = nm.modules.blocks.MLP(insize=250, outsize=model.NumVars, bias=True,\n",
    "                             linear_map=nm.slim.maps[\"linear\"],\n",
    "                             nonlin=nn.ReLU, hsizes=[hsize]*hlayers_sol)\n",
    "smap = nm.system.Node(func, [\"b\"], [\"x\"], name=\"smap\")\n",
    "# define rounding model\n",
    "layers_rnd = netFC(input_dim=250+model.NumVars,\n",
    "                   hidden_dims=[hsize]*hlayers_rnd,\n",
    "                   output_dim=model.NumVars)\n",
    "rnd = roundThresholdModel(layers=layers_rnd, param_keys=[\"b\"], var_keys=[\"x\"],\n",
    "                         output_keys=[\"x_rnd\"], bin_ind={\"x\":range(500,1000)},\n",
    "                         continuous_update=True, name=\"round\")\n",
    "# build neuromancer problem for rounding\n",
    "components = nn.ModuleList([smap, rnd]).to(\"cuda\")\n",
    "loss_fn = penaltyLoss([\"b\", \"x_rnd\"], A, c, lb, ub, penalty_weight)"
   ]
  },
  {
   "cell_type": "code",
   "execution_count": 27,
   "id": "ccced445-aa9e-4407-96e5-54abce448e0c",
   "metadata": {},
   "outputs": [
    {
     "name": "stdout",
     "output_type": "stream",
     "text": [
      "Epoch 0, Iters 0, Validation Loss: 1047256512.00\n",
      "Epoch 0, Iters 125, Training Loss: 861665818.21, Validation Loss: 743262016.00\n",
      "Epoch 1, Iters 250, Training Loss: 22711112.84, Validation Loss: 28392884.00\n",
      "Epoch 2, Iters 375, Training Loss: 19093492.72, Validation Loss: 24249974.00\n",
      "Epoch 3, Iters 500, Training Loss: 17753963.19, Validation Loss: 16812390.00\n",
      "Epoch 4, Iters 625, Training Loss: 17025906.93, Validation Loss: 14264760.00\n",
      "Epoch 5, Iters 750, Training Loss: 15740293.45, Validation Loss: 18601678.00\n",
      "Epoch 6, Iters 875, Training Loss: 15540812.70, Validation Loss: 14715095.00\n",
      "Epoch 7, Iters 1000, Training Loss: 14162799.63, Validation Loss: 15365587.00\n",
      "Epoch 8, Iters 1125, Training Loss: 13784575.11, Validation Loss: 19018206.00\n",
      "Epoch 9, Iters 1250, Training Loss: 13618960.65, Validation Loss: 13296845.00\n",
      "Epoch 10, Iters 1375, Training Loss: 14296776.69, Validation Loss: 17406864.00\n",
      "Epoch 11, Iters 1500, Training Loss: 14135208.07, Validation Loss: 14638888.00\n",
      "Epoch 12, Iters 1625, Training Loss: 13073469.56, Validation Loss: 14571864.00\n",
      "Epoch 13, Iters 1750, Training Loss: 12534705.45, Validation Loss: 9418995.00\n",
      "Epoch 14, Iters 1875, Training Loss: 12299835.91, Validation Loss: 10755546.00\n",
      "Epoch 15, Iters 2000, Training Loss: 11008527.70, Validation Loss: 11285064.00\n",
      "Epoch 16, Iters 2125, Training Loss: 10870152.14, Validation Loss: 7345525.00\n",
      "Epoch 17, Iters 2250, Training Loss: 10610172.25, Validation Loss: 6894987.50\n",
      "Epoch 18, Iters 2375, Training Loss: 9228406.12, Validation Loss: 11050134.00\n",
      "Epoch 19, Iters 2500, Training Loss: 9502663.25, Validation Loss: 5408572.00\n",
      "Epoch 20, Iters 2625, Training Loss: 10213252.06, Validation Loss: 8677083.00\n",
      "Epoch 21, Iters 2750, Training Loss: 9510565.48, Validation Loss: 8919809.00\n",
      "Epoch 22, Iters 2875, Training Loss: 9539230.49, Validation Loss: 9193690.00\n",
      "Epoch 23, Iters 3000, Training Loss: 9295441.52, Validation Loss: 8296225.50\n",
      "Epoch 24, Iters 3125, Training Loss: 9456378.27, Validation Loss: 9690475.00\n",
      "Epoch 25, Iters 3250, Training Loss: 10506110.00, Validation Loss: 9027367.00\n",
      "Epoch 26, Iters 3375, Training Loss: 9324982.69, Validation Loss: 11044811.00\n",
      "Epoch 27, Iters 3500, Training Loss: 9311703.53, Validation Loss: 7344237.00\n",
      "Epoch 28, Iters 3625, Training Loss: 9092467.81, Validation Loss: 4945077.00\n",
      "Epoch 29, Iters 3750, Training Loss: 8753731.55, Validation Loss: 8138655.50\n",
      "Epoch 30, Iters 3875, Training Loss: 8655642.54, Validation Loss: 6705788.00\n",
      "Epoch 31, Iters 4000, Training Loss: 8345586.20, Validation Loss: 5872296.50\n",
      "Epoch 32, Iters 4125, Training Loss: 8238709.52, Validation Loss: 6080723.50\n",
      "Epoch 33, Iters 4250, Training Loss: 8627671.46, Validation Loss: 7973047.50\n",
      "Epoch 34, Iters 4375, Training Loss: 8840785.46, Validation Loss: 7910073.00\n",
      "Epoch 35, Iters 4500, Training Loss: 8381133.23, Validation Loss: 9486066.00\n",
      "Epoch 36, Iters 4625, Training Loss: 8159995.29, Validation Loss: 8278325.50\n",
      "Epoch 37, Iters 4750, Training Loss: 7681825.66, Validation Loss: 6589775.50\n",
      "Epoch 38, Iters 4875, Training Loss: 7112750.39, Validation Loss: 4416895.50\n",
      "Epoch 39, Iters 5000, Training Loss: 8249683.53, Validation Loss: 4512177.00\n",
      "Epoch 40, Iters 5125, Training Loss: 8662073.64, Validation Loss: 4254537.50\n",
      "Epoch 41, Iters 5250, Training Loss: 7244387.22, Validation Loss: 6721249.50\n",
      "Epoch 42, Iters 5375, Training Loss: 7379077.20, Validation Loss: 7574483.50\n",
      "Epoch 43, Iters 5500, Training Loss: 9189714.29, Validation Loss: 7662617.50\n",
      "Epoch 44, Iters 5625, Training Loss: 7849754.42, Validation Loss: 3930194.50\n",
      "Epoch 45, Iters 5750, Training Loss: 7447560.22, Validation Loss: 4514645.50\n",
      "Epoch 46, Iters 5875, Training Loss: 7105035.40, Validation Loss: 5065683.00\n",
      "Epoch 47, Iters 6000, Training Loss: 7069709.98, Validation Loss: 3240845.25\n",
      "Epoch 48, Iters 6125, Training Loss: 6928231.19, Validation Loss: 5537094.00\n",
      "Epoch 49, Iters 6250, Training Loss: 6828017.08, Validation Loss: 5136751.50\n",
      "Epoch 50, Iters 6375, Training Loss: 6946508.71, Validation Loss: 5264971.50\n",
      "Epoch 51, Iters 6500, Training Loss: 6616525.01, Validation Loss: 5691863.00\n",
      "Epoch 52, Iters 6625, Training Loss: 9982092.35, Validation Loss: 10987571.00\n",
      "Epoch 53, Iters 6750, Training Loss: 11317342.04, Validation Loss: 6214168.00\n",
      "Epoch 54, Iters 6875, Training Loss: 9167618.45, Validation Loss: 13216298.00\n",
      "Epoch 55, Iters 7000, Training Loss: 7956127.18, Validation Loss: 4730722.50\n",
      "Epoch 56, Iters 7125, Training Loss: 7491700.67, Validation Loss: 4338926.50\n",
      "Epoch 57, Iters 7250, Training Loss: 7183781.80, Validation Loss: 4005159.25\n",
      "Epoch 58, Iters 7375, Training Loss: 6713021.88, Validation Loss: 10591229.00\n",
      "Epoch 59, Iters 7500, Training Loss: 6582859.74, Validation Loss: 6732011.50\n",
      "Epoch 60, Iters 7625, Training Loss: 6742295.42, Validation Loss: 8313377.00\n",
      "Epoch 61, Iters 7750, Training Loss: 7705260.08, Validation Loss: 7421185.50\n",
      "Epoch 62, Iters 7875, Training Loss: 7346550.79, Validation Loss: 5530611.50\n",
      "Epoch 63, Iters 8000, Training Loss: 6420300.92, Validation Loss: 7325785.00\n",
      "Epoch 64, Iters 8125, Training Loss: 6823456.36, Validation Loss: 10751047.00\n",
      "Epoch 65, Iters 8250, Training Loss: 6813152.04, Validation Loss: 4893160.50\n",
      "Epoch 66, Iters 8375, Training Loss: 7017604.24, Validation Loss: 6318341.50\n",
      "Epoch 67, Iters 8500, Training Loss: 7294631.73, Validation Loss: 5158211.50\n",
      "Early stopping at iters 8500\n",
      "Best model loaded.\n",
      "Training complete.\n",
      "The training time is 106.14 sec.\n"
     ]
    }
   ],
   "source": [
    "from src.problem.neuromancer.trainer import trainer\n",
    "# training\n",
    "epochs = 200                    # number of training epochs\n",
    "warmup = 20                     # number of epochs to wait before enacting early stopping policy\n",
    "patience = 20                   # number of epochs with no improvement in eval metric to allow before early stopping\n",
    "optimizer = torch.optim.AdamW(components.parameters(), lr=lr)\n",
    "# create a trainer for the problem\n",
    "my_trainer = trainer(components, loss_fn, optimizer, epochs=epochs, patience=patience, warmup=warmup, device=\"cuda\")\n",
    "# training for the rounding problem\n",
    "my_trainer.train(loader_train, loader_val)"
   ]
  },
  {
   "cell_type": "code",
   "execution_count": 28,
   "id": "c786ef9c-a2fc-48e7-8cb8-d8b7981adab6",
   "metadata": {},
   "outputs": [
    {
     "name": "stderr",
     "output_type": "stream",
     "text": [
      "100%|█████████████████████████████████████████████████████████████████████████████████| 10/10 [00:00<00:00, 189.65it/s]\n"
     ]
    },
    {
     "name": "stdout",
     "output_type": "stream",
     "text": [
      "          Obj Val  Constraints Viol  Elapsed Time\n",
      "count   10.000000         10.000000     10.000000\n",
      "mean  -312.363269        127.734721      0.003879\n",
      "std     50.710645         19.449343      0.000815\n",
      "min   -386.408176        106.318130      0.002999\n",
      "25%   -339.847469        115.801147      0.003105\n",
      "50%   -318.915877        120.883945      0.003754\n",
      "75%   -267.270809        141.723131      0.004454\n",
      "max   -243.263057        160.700272      0.005169\n",
      "Total elapsed time for optimization: 0.04 seconds\n",
      "Number of infeasible solution: 10\n"
     ]
    }
   ],
   "source": [
    "# init model\n",
    "model = gp.read(\"temp.mps\")\n",
    "# init df\n",
    "params, sols, objvals, conviols, elapseds = [], [], [], [], []\n",
    "for b in tqdm(test_data):\n",
    "    # data point as tensor\n",
    "    datapoints = {\"b\": torch.unsqueeze(torch.tensor(b).float()[:250], 0).to(\"cuda\"),\n",
    "                  \"name\": \"test\"}\n",
    "    # infer\n",
    "    components.eval()\n",
    "    tick = time.time()\n",
    "    with torch.no_grad():\n",
    "        for comp in components:\n",
    "            datapoints.update(comp(datapoints))\n",
    "    tock = time.time()\n",
    "    # get solutions\n",
    "    x_val = datapoints[\"x_rnd\"][0].detach().cpu().numpy()\n",
    "    params.append(list(b))\n",
    "    sols.append(list(x_val))\n",
    "    objvals.append(c@x_val)\n",
    "    conviols.append(loss_fn.get_constr_viol(datapoints)[0].item())\n",
    "    elapseds.append(tock - tick)\n",
    "df = pd.DataFrame({\"Param\":params,\n",
    "                   \"Sol\":sols,\n",
    "                   \"Obj Val\": objvals,\n",
    "                   \"Constraints Viol\": conviols,\n",
    "                   \"Elapsed Time\": elapseds})\n",
    "time.sleep(1)\n",
    "print(df.describe())\n",
    "print(\"Total elapsed time for optimization: {:.2f} seconds\".format(df[\"Elapsed Time\"].sum()))\n",
    "print(\"Number of infeasible solution: {}\".format(np.sum(df[\"Constraints Viol\"] > 0)))\n",
    "df.to_csv(\"result/lp_thd_rhs-series2.csv\")"
   ]
  },
  {
   "cell_type": "code",
   "execution_count": null,
   "id": "f7e64ef8-a066-42ac-899b-17a6d3fa9552",
   "metadata": {},
   "outputs": [],
   "source": []
  }
 ],
 "metadata": {
  "kernelspec": {
   "display_name": "Python 3 (ipykernel)",
   "language": "python",
   "name": "python3"
  },
  "language_info": {
   "codemirror_mode": {
    "name": "ipython",
    "version": 3
   },
   "file_extension": ".py",
   "mimetype": "text/x-python",
   "name": "python",
   "nbconvert_exporter": "python",
   "pygments_lexer": "ipython3",
   "version": "3.10.13"
  }
 },
 "nbformat": 4,
 "nbformat_minor": 5
}
