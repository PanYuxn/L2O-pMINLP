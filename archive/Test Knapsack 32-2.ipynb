{
 "cells": [
  {
   "cell_type": "code",
   "execution_count": 1,
   "id": "be61b914-e1af-43b9-9766-5092593f92dd",
   "metadata": {},
   "outputs": [],
   "source": [
    "import time\n",
    "\n",
    "import numpy as np\n",
    "import pandas as pd\n",
    "import torch\n",
    "from torch import nn\n",
    "from tqdm import tqdm\n",
    "\n",
    "# random seed\n",
    "np.random.seed(42)\n",
    "torch.manual_seed(42)\n",
    "torch.cuda.manual_seed(42)"
   ]
  },
  {
   "cell_type": "code",
   "execution_count": 2,
   "id": "35fe4527-9dbf-48f0-bfb3-62cda59092aa",
   "metadata": {},
   "outputs": [],
   "source": [
    "# turn off warning\n",
    "import logging\n",
    "logging.getLogger('pyomo.core').setLevel(logging.ERROR)"
   ]
  },
  {
   "cell_type": "markdown",
   "id": "c5560447-da9d-4cbe-aab4-538aa11c8ee8",
   "metadata": {},
   "source": [
    "## Problem Setting"
   ]
  },
  {
   "cell_type": "code",
   "execution_count": 3,
   "id": "52363c72-0d20-4c08-bd00-0f62aa73686c",
   "metadata": {},
   "outputs": [],
   "source": [
    "# init\n",
    "num_items = 32    # number of items\n",
    "dim = 2           # dimension of constraints\n",
    "caps = [20] * dim # capacity\n",
    "num_data = 5000   # number of data\n",
    "test_size = 1000  # number of test size\n",
    "val_size = 1000   # number of validation size\n",
    "train_size = num_data - test_size - val_size"
   ]
  },
  {
   "cell_type": "code",
   "execution_count": 4,
   "id": "21938c00-d73f-4255-bc7c-bce6e8034cf8",
   "metadata": {},
   "outputs": [
    {
     "name": "stdout",
     "output_type": "stream",
     "text": [
      "Auto-Sklearn cannot be imported.\n"
     ]
    }
   ],
   "source": [
    "# generate data from PyEPO\n",
    "import pyepo\n",
    "weights, _, c = pyepo.data.knapsack.genData(num_data=num_data, num_features=5, num_items=num_items, dim=dim, deg=4, noise_width=0.5)\n",
    "# data type\n",
    "c = c.astype(np.float32)\n",
    "# data split\n",
    "from sklearn.model_selection import train_test_split\n",
    "c_train, c_dev = train_test_split(c, test_size=1000, random_state=42, shuffle=True)\n",
    "c_train, c_test = train_test_split(c_train, test_size=1000, random_state=42, shuffle=True)\n",
    "# normalize\n",
    "c_min = np.min(c_train, axis=0, keepdims=True)\n",
    "c_max = np.max(c_train, axis=0, keepdims=True)\n",
    "c_train_norm = (c_train - c_min) / (c_max - c_min)\n",
    "c_min = np.min(c_dev, axis=0, keepdims=True)\n",
    "c_max = np.max(c_dev, axis=0, keepdims=True)\n",
    "c_dev_norm = (c_dev - c_min) / (c_max - c_min)\n",
    "c_min = np.min(c_test, axis=0, keepdims=True)\n",
    "c_max = np.max(c_test, axis=0, keepdims=True)\n",
    "c_test_norm = (c_test - c_min) / (c_max - c_min)"
   ]
  },
  {
   "cell_type": "code",
   "execution_count": 5,
   "id": "5ecf81ff-627d-444d-8d90-121c7e20c217",
   "metadata": {},
   "outputs": [],
   "source": [
    "# nm datasets\n",
    "from neuromancer.dataset import DictDataset\n",
    "data_train = DictDataset({\"c\":c_train_norm}, name=\"train\")\n",
    "data_test = DictDataset({\"c\":c_test_norm}, name=\"test\")\n",
    "data_dev = DictDataset({\"c\":c_dev_norm,}, name=\"dev\")\n",
    "# torch dataloaders\n",
    "from torch.utils.data import DataLoader\n",
    "batch_size = 64\n",
    "loader_train = DataLoader(data_train, batch_size, num_workers=0, collate_fn=data_train.collate_fn, shuffle=True)\n",
    "loader_test = DataLoader(data_test, batch_size, num_workers=0, collate_fn=data_test.collate_fn, shuffle=False)\n",
    "loader_dev = DataLoader(data_dev, batch_size, num_workers=0, collate_fn=data_dev.collate_fn, shuffle=False)"
   ]
  },
  {
   "cell_type": "markdown",
   "id": "a2b99751-3a6e-46dc-9e33-fdf68d813034",
   "metadata": {},
   "source": [
    "## Exact Solver"
   ]
  },
  {
   "cell_type": "code",
   "execution_count": 6,
   "id": "f2e7f07c-6a97-44d6-aca7-56f395e0c964",
   "metadata": {},
   "outputs": [],
   "source": [
    "from src.problem import msKnapsack\n",
    "model = msKnapsack(weights, caps, timelimit=60)"
   ]
  },
  {
   "cell_type": "code",
   "execution_count": null,
   "id": "77e326fa-de2f-415e-a4d4-1f28eef6511a",
   "metadata": {},
   "outputs": [],
   "source": [
    "params, sols, objvals, conviols, elapseds = [], [], [], [], []\n",
    "for c in tqdm(c_test):\n",
    "    # set params\n",
    "    model.set_param_val({\"c\":c})\n",
    "    # solve\n",
    "    tick = time.time()\n",
    "    xval, objval = model.solve(\"gurobi\")\n",
    "    tock = time.time()\n",
    "    # eval\n",
    "    params.append(list(c))\n",
    "    sols.append(list(list(xval.values())[0].values()))\n",
    "    objvals.append(objval)\n",
    "    conviols.append(sum(model.cal_violation()))\n",
    "    elapseds.append(tock - tick)\n",
    "df = pd.DataFrame({\"Param\":params, \"Sol\":sols, \"Obj Val\": objvals, \"Constraints Viol\": conviols, \"Elapsed Time\": elapseds})\n",
    "time.sleep(1)\n",
    "print(df.describe())\n",
    "print(\"Number of infeasible solution: {}\".format(np.sum(df[\"Constraints Viol\"] > 0)))\n",
    "df.to_csv(\"result/kp_exact_32-2.csv\")"
   ]
  },
  {
   "cell_type": "markdown",
   "id": "28b8053d-2fb9-419e-ab27-56d35a7310c2",
   "metadata": {},
   "source": [
    "## Heuristic - Round"
   ]
  },
  {
   "cell_type": "code",
   "execution_count": 36,
   "id": "8ac297ea-1ea4-4368-bbcf-e64f185397da",
   "metadata": {},
   "outputs": [],
   "source": [
    "from src.heuristic import floor_round"
   ]
  },
  {
   "cell_type": "code",
   "execution_count": 37,
   "id": "317ca34b-ef96-4149-9354-cc76439f4713",
   "metadata": {},
   "outputs": [
    {
     "name": "stderr",
     "output_type": "stream",
     "text": [
      "100%|██████████████████████████████████████████████████████████████████████████████| 1000/1000 [02:13<00:00,  7.51it/s]\n"
     ]
    },
    {
     "name": "stdout",
     "output_type": "stream",
     "text": [
      "           Obj Val  Constraints Viol  Elapsed Time\n",
      "count  1000.000000            1000.0   1000.000000\n",
      "mean     27.230000               0.0      0.127379\n",
      "std      17.369421               0.0      0.015239\n",
      "min       6.000000               0.0      0.113603\n",
      "25%      15.000000               0.0      0.119143\n",
      "50%      23.000000               0.0      0.120829\n",
      "75%      34.000000               0.0      0.133908\n",
      "max     131.000000               0.0      0.385531\n",
      "Number of infeasible solution: 0\n"
     ]
    }
   ],
   "source": [
    "params, sols, objvals, conviols, elapseds = [], [], [], [], []\n",
    "for c in tqdm((c_test)):\n",
    "    # set params\n",
    "    model.set_param_val({\"c\":c})\n",
    "    # relax\n",
    "    model_rel = model.relax()\n",
    "    # solve\n",
    "    tick = time.time()\n",
    "    xval_rel, _ = model_rel.solve(\"gurobi\")\n",
    "    xval, objval = floor_round(xval_rel, model)\n",
    "    tock = time.time()\n",
    "    # eval\n",
    "    params.append(list(c))\n",
    "    sols.append(list(list(xval.values())[0].values()))\n",
    "    objvals.append(objval)\n",
    "    conviols.append(sum(model.cal_violation()))\n",
    "    elapseds.append(tock - tick)\n",
    "df = pd.DataFrame({\"Param\":params, \"Sol\":sols, \"Obj Val\": objvals, \"Constraints Viol\": conviols, \"Elapsed Time\": elapseds})\n",
    "time.sleep(1)\n",
    "print(df.describe())\n",
    "print(\"Number of infeasible solution: {}\".format(np.sum(df[\"Constraints Viol\"] > 0)))\n",
    "df.to_csv(\"result/kp_heur_rnd_32-2.csv\")"
   ]
  },
  {
   "cell_type": "markdown",
   "id": "39252c5b-845e-4ac3-817a-35732961069f",
   "metadata": {},
   "source": [
    "## Heuristic - RENS"
   ]
  },
  {
   "cell_type": "code",
   "execution_count": 20,
   "id": "992534ca-a00f-4d6d-b45f-ae8e15657948",
   "metadata": {},
   "outputs": [],
   "source": [
    "from src.heuristic import rens"
   ]
  },
  {
   "cell_type": "code",
   "execution_count": 23,
   "id": "4e007de6-c08f-4e43-8d45-9001f99decb4",
   "metadata": {},
   "outputs": [
    {
     "name": "stderr",
     "output_type": "stream",
     "text": [
      " 41%|████████████████████████████████▋                                              | 413/1000 [01:50<02:37,  3.73it/s]\n"
     ]
    },
    {
     "ename": "KeyboardInterrupt",
     "evalue": "",
     "output_type": "error",
     "traceback": [
      "\u001b[1;31m---------------------------------------------------------------------------\u001b[0m",
      "\u001b[1;31mKeyboardInterrupt\u001b[0m                         Traceback (most recent call last)",
      "Cell \u001b[1;32mIn[23], line 9\u001b[0m\n\u001b[0;32m      7\u001b[0m \u001b[38;5;66;03m# solve\u001b[39;00m\n\u001b[0;32m      8\u001b[0m tick \u001b[38;5;241m=\u001b[39m time\u001b[38;5;241m.\u001b[39mtime()\n\u001b[1;32m----> 9\u001b[0m xval_rel, _ \u001b[38;5;241m=\u001b[39m \u001b[43mmodel_rel\u001b[49m\u001b[38;5;241;43m.\u001b[39;49m\u001b[43msolve\u001b[49m\u001b[43m(\u001b[49m\u001b[38;5;124;43m\"\u001b[39;49m\u001b[38;5;124;43mgurobi\u001b[39;49m\u001b[38;5;124;43m\"\u001b[39;49m\u001b[43m)\u001b[49m\n\u001b[0;32m     10\u001b[0m xval, objval \u001b[38;5;241m=\u001b[39m rens(xval_rel, model)\n\u001b[0;32m     11\u001b[0m tock \u001b[38;5;241m=\u001b[39m time\u001b[38;5;241m.\u001b[39mtime()\n",
      "File \u001b[1;32mC:\\OneDrive\\Study\\UofT\\Research\\DMIPL\\src\\problem\\math_solver\\abc_solver.py:65\u001b[0m, in \u001b[0;36mabcParamSolver.solve\u001b[1;34m(self, max_iter, tee, keepfiles)\u001b[0m\n\u001b[0;32m     61\u001b[0m \u001b[38;5;250m\u001b[39m\u001b[38;5;124;03m\"\"\"\u001b[39;00m\n\u001b[0;32m     62\u001b[0m \u001b[38;5;124;03mSolve the model and return variable values and the objective value\u001b[39;00m\n\u001b[0;32m     63\u001b[0m \u001b[38;5;124;03m\"\"\"\u001b[39;00m\n\u001b[0;32m     64\u001b[0m \u001b[38;5;66;03m# solve the model\u001b[39;00m\n\u001b[1;32m---> 65\u001b[0m \u001b[38;5;28mself\u001b[39m\u001b[38;5;241m.\u001b[39mres \u001b[38;5;241m=\u001b[39m \u001b[38;5;28;43mself\u001b[39;49m\u001b[38;5;241;43m.\u001b[39;49m\u001b[43mopt\u001b[49m\u001b[38;5;241;43m.\u001b[39;49m\u001b[43msolve\u001b[49m\u001b[43m(\u001b[49m\u001b[38;5;28;43mself\u001b[39;49m\u001b[38;5;241;43m.\u001b[39;49m\u001b[43mmodel\u001b[49m\u001b[43m,\u001b[49m\u001b[43m \u001b[49m\u001b[43mtee\u001b[49m\u001b[38;5;241;43m=\u001b[39;49m\u001b[43mtee\u001b[49m\u001b[43m,\u001b[49m\u001b[43m \u001b[49m\u001b[43mkeepfiles\u001b[49m\u001b[38;5;241;43m=\u001b[39;49m\u001b[43mkeepfiles\u001b[49m\u001b[43m)\u001b[49m\n\u001b[0;32m     66\u001b[0m \u001b[38;5;66;03m# get variable values and objective value\u001b[39;00m\n\u001b[0;32m     67\u001b[0m xval, objval \u001b[38;5;241m=\u001b[39m \u001b[38;5;28mself\u001b[39m\u001b[38;5;241m.\u001b[39mget_val()\n",
      "File \u001b[1;32m~\\anaconda3\\envs\\neuromancer\\lib\\site-packages\\pyomo\\opt\\base\\solvers.py:610\u001b[0m, in \u001b[0;36mOptSolver.solve\u001b[1;34m(self, *args, **kwds)\u001b[0m\n\u001b[0;32m    607\u001b[0m \u001b[38;5;28;01mif\u001b[39;00m \u001b[38;5;129;01mnot\u001b[39;00m _model \u001b[38;5;129;01mis\u001b[39;00m \u001b[38;5;28;01mNone\u001b[39;00m:\n\u001b[0;32m    608\u001b[0m     \u001b[38;5;28mself\u001b[39m\u001b[38;5;241m.\u001b[39m_initialize_callbacks(_model)\n\u001b[1;32m--> 610\u001b[0m _status \u001b[38;5;241m=\u001b[39m \u001b[38;5;28;43mself\u001b[39;49m\u001b[38;5;241;43m.\u001b[39;49m\u001b[43m_apply_solver\u001b[49m\u001b[43m(\u001b[49m\u001b[43m)\u001b[49m\n\u001b[0;32m    611\u001b[0m \u001b[38;5;28;01mif\u001b[39;00m \u001b[38;5;28mhasattr\u001b[39m(\u001b[38;5;28mself\u001b[39m, \u001b[38;5;124m'\u001b[39m\u001b[38;5;124m_transformation_data\u001b[39m\u001b[38;5;124m'\u001b[39m):\n\u001b[0;32m    612\u001b[0m     \u001b[38;5;28;01mdel\u001b[39;00m \u001b[38;5;28mself\u001b[39m\u001b[38;5;241m.\u001b[39m_transformation_data\n",
      "File \u001b[1;32m~\\anaconda3\\envs\\neuromancer\\lib\\site-packages\\pyomo\\opt\\solver\\shellcmd.py:266\u001b[0m, in \u001b[0;36mSystemCallSolver._apply_solver\u001b[1;34m(self)\u001b[0m\n\u001b[0;32m    263\u001b[0m         \u001b[38;5;28mprint\u001b[39m(\u001b[38;5;124m\"\u001b[39m\u001b[38;5;124mSolver problem files: \u001b[39m\u001b[38;5;132;01m%s\u001b[39;00m\u001b[38;5;124m\"\u001b[39m \u001b[38;5;241m%\u001b[39m \u001b[38;5;28mstr\u001b[39m(\u001b[38;5;28mself\u001b[39m\u001b[38;5;241m.\u001b[39m_problem_files))\n\u001b[0;32m    265\u001b[0m sys\u001b[38;5;241m.\u001b[39mstdout\u001b[38;5;241m.\u001b[39mflush()\n\u001b[1;32m--> 266\u001b[0m \u001b[38;5;28mself\u001b[39m\u001b[38;5;241m.\u001b[39m_rc, \u001b[38;5;28mself\u001b[39m\u001b[38;5;241m.\u001b[39m_log \u001b[38;5;241m=\u001b[39m \u001b[38;5;28;43mself\u001b[39;49m\u001b[38;5;241;43m.\u001b[39;49m\u001b[43m_execute_command\u001b[49m\u001b[43m(\u001b[49m\u001b[38;5;28;43mself\u001b[39;49m\u001b[38;5;241;43m.\u001b[39;49m\u001b[43m_command\u001b[49m\u001b[43m)\u001b[49m\n\u001b[0;32m    267\u001b[0m sys\u001b[38;5;241m.\u001b[39mstdout\u001b[38;5;241m.\u001b[39mflush()\n\u001b[0;32m    268\u001b[0m \u001b[38;5;28;01mreturn\u001b[39;00m Bunch(rc\u001b[38;5;241m=\u001b[39m\u001b[38;5;28mself\u001b[39m\u001b[38;5;241m.\u001b[39m_rc, log\u001b[38;5;241m=\u001b[39m\u001b[38;5;28mself\u001b[39m\u001b[38;5;241m.\u001b[39m_log)\n",
      "File \u001b[1;32m~\\anaconda3\\envs\\neuromancer\\lib\\site-packages\\pyomo\\opt\\solver\\shellcmd.py:333\u001b[0m, in \u001b[0;36mSystemCallSolver._execute_command\u001b[1;34m(self, command)\u001b[0m\n\u001b[0;32m    330\u001b[0m     ostreams\u001b[38;5;241m.\u001b[39mappend(sys\u001b[38;5;241m.\u001b[39mstdout)\n\u001b[0;32m    332\u001b[0m \u001b[38;5;28;01mtry\u001b[39;00m:\n\u001b[1;32m--> 333\u001b[0m     \u001b[38;5;28;01mwith\u001b[39;00m TeeStream(\u001b[38;5;241m*\u001b[39mostreams) \u001b[38;5;28;01mas\u001b[39;00m t:\n\u001b[0;32m    334\u001b[0m         results \u001b[38;5;241m=\u001b[39m subprocess\u001b[38;5;241m.\u001b[39mrun(\n\u001b[0;32m    335\u001b[0m             command\u001b[38;5;241m.\u001b[39mcmd,\n\u001b[0;32m    336\u001b[0m             \u001b[38;5;28minput\u001b[39m\u001b[38;5;241m=\u001b[39m_input,\n\u001b[1;32m   (...)\u001b[0m\n\u001b[0;32m    342\u001b[0m             cwd\u001b[38;5;241m=\u001b[39mcommand\u001b[38;5;241m.\u001b[39mcwd \u001b[38;5;28;01mif\u001b[39;00m \u001b[38;5;124m\"\u001b[39m\u001b[38;5;124mcwd\u001b[39m\u001b[38;5;124m\"\u001b[39m \u001b[38;5;129;01min\u001b[39;00m command \u001b[38;5;28;01melse\u001b[39;00m \u001b[38;5;28;01mNone\u001b[39;00m,\n\u001b[0;32m    343\u001b[0m         )\n\u001b[0;32m    344\u001b[0m         t\u001b[38;5;241m.\u001b[39mSTDOUT\u001b[38;5;241m.\u001b[39mflush()\n",
      "File \u001b[1;32m~\\anaconda3\\envs\\neuromancer\\lib\\site-packages\\pyomo\\common\\tee.py:430\u001b[0m, in \u001b[0;36mTeeStream.__exit__\u001b[1;34m(self, et, ev, tb)\u001b[0m\n\u001b[0;32m    429\u001b[0m \u001b[38;5;28;01mdef\u001b[39;00m \u001b[38;5;21m__exit__\u001b[39m(\u001b[38;5;28mself\u001b[39m, et, ev, tb):\n\u001b[1;32m--> 430\u001b[0m     \u001b[38;5;28;43mself\u001b[39;49m\u001b[38;5;241;43m.\u001b[39;49m\u001b[43mclose\u001b[49m\u001b[43m(\u001b[49m\u001b[43met\u001b[49m\u001b[43m \u001b[49m\u001b[38;5;129;43;01mis\u001b[39;49;00m\u001b[43m \u001b[49m\u001b[38;5;129;43;01mnot\u001b[39;49;00m\u001b[43m \u001b[49m\u001b[38;5;28;43;01mNone\u001b[39;49;00m\u001b[43m)\u001b[49m\n",
      "File \u001b[1;32m~\\anaconda3\\envs\\neuromancer\\lib\\site-packages\\pyomo\\common\\tee.py:398\u001b[0m, in \u001b[0;36mTeeStream.close\u001b[1;34m(self, in_exception)\u001b[0m\n\u001b[0;32m    396\u001b[0m \u001b[38;5;28;01mwhile\u001b[39;00m \u001b[38;5;28;01mTrue\u001b[39;00m:\n\u001b[0;32m    397\u001b[0m     \u001b[38;5;28;01mfor\u001b[39;00m th \u001b[38;5;129;01min\u001b[39;00m \u001b[38;5;28mself\u001b[39m\u001b[38;5;241m.\u001b[39m_threads:\n\u001b[1;32m--> 398\u001b[0m         \u001b[43mth\u001b[49m\u001b[38;5;241;43m.\u001b[39;49m\u001b[43mjoin\u001b[49m\u001b[43m(\u001b[49m\u001b[43m_poll\u001b[49m\u001b[43m)\u001b[49m\n\u001b[0;32m    399\u001b[0m     \u001b[38;5;28mself\u001b[39m\u001b[38;5;241m.\u001b[39m_threads[:] \u001b[38;5;241m=\u001b[39m [th \u001b[38;5;28;01mfor\u001b[39;00m th \u001b[38;5;129;01min\u001b[39;00m \u001b[38;5;28mself\u001b[39m\u001b[38;5;241m.\u001b[39m_threads \u001b[38;5;28;01mif\u001b[39;00m th\u001b[38;5;241m.\u001b[39mis_alive()]\n\u001b[0;32m    400\u001b[0m     \u001b[38;5;28;01mif\u001b[39;00m \u001b[38;5;129;01mnot\u001b[39;00m \u001b[38;5;28mself\u001b[39m\u001b[38;5;241m.\u001b[39m_threads:\n",
      "File \u001b[1;32m~\\anaconda3\\envs\\neuromancer\\lib\\threading.py:1100\u001b[0m, in \u001b[0;36mThread.join\u001b[1;34m(self, timeout)\u001b[0m\n\u001b[0;32m   1096\u001b[0m     \u001b[38;5;28mself\u001b[39m\u001b[38;5;241m.\u001b[39m_wait_for_tstate_lock()\n\u001b[0;32m   1097\u001b[0m \u001b[38;5;28;01melse\u001b[39;00m:\n\u001b[0;32m   1098\u001b[0m     \u001b[38;5;66;03m# the behavior of a negative timeout isn't documented, but\u001b[39;00m\n\u001b[0;32m   1099\u001b[0m     \u001b[38;5;66;03m# historically .join(timeout=x) for x<0 has acted as if timeout=0\u001b[39;00m\n\u001b[1;32m-> 1100\u001b[0m     \u001b[38;5;28;43mself\u001b[39;49m\u001b[38;5;241;43m.\u001b[39;49m\u001b[43m_wait_for_tstate_lock\u001b[49m\u001b[43m(\u001b[49m\u001b[43mtimeout\u001b[49m\u001b[38;5;241;43m=\u001b[39;49m\u001b[38;5;28;43mmax\u001b[39;49m\u001b[43m(\u001b[49m\u001b[43mtimeout\u001b[49m\u001b[43m,\u001b[49m\u001b[43m \u001b[49m\u001b[38;5;241;43m0\u001b[39;49m\u001b[43m)\u001b[49m\u001b[43m)\u001b[49m\n",
      "File \u001b[1;32m~\\anaconda3\\envs\\neuromancer\\lib\\threading.py:1116\u001b[0m, in \u001b[0;36mThread._wait_for_tstate_lock\u001b[1;34m(self, block, timeout)\u001b[0m\n\u001b[0;32m   1113\u001b[0m     \u001b[38;5;28;01mreturn\u001b[39;00m\n\u001b[0;32m   1115\u001b[0m \u001b[38;5;28;01mtry\u001b[39;00m:\n\u001b[1;32m-> 1116\u001b[0m     \u001b[38;5;28;01mif\u001b[39;00m \u001b[43mlock\u001b[49m\u001b[38;5;241;43m.\u001b[39;49m\u001b[43macquire\u001b[49m\u001b[43m(\u001b[49m\u001b[43mblock\u001b[49m\u001b[43m,\u001b[49m\u001b[43m \u001b[49m\u001b[43mtimeout\u001b[49m\u001b[43m)\u001b[49m:\n\u001b[0;32m   1117\u001b[0m         lock\u001b[38;5;241m.\u001b[39mrelease()\n\u001b[0;32m   1118\u001b[0m         \u001b[38;5;28mself\u001b[39m\u001b[38;5;241m.\u001b[39m_stop()\n",
      "\u001b[1;31mKeyboardInterrupt\u001b[0m: "
     ]
    }
   ],
   "source": [
    "params, sols, objvals, conviols, elapseds = [], [], [], [], []\n",
    "for c in tqdm(c_test):\n",
    "    # set params\n",
    "    model.set_param_val({\"c\":c})\n",
    "    # relax\n",
    "    model_rel = model.relax()\n",
    "    # solve\n",
    "    tick = time.time()\n",
    "    xval_rel, _ = model_rel.solve(\"gurobi\")\n",
    "    xval, objval = rens(xval_rel, model)\n",
    "    tock = time.time()\n",
    "    # eval\n",
    "    params.append(list(c))\n",
    "    sols.append(list(list(xval.values())[0].values()))\n",
    "    objvals.append(objval)\n",
    "    conviols.append(sum(model.cal_violation()))\n",
    "    elapseds.append(tock - tick)\n",
    "df = pd.DataFrame({\"Param\":params, \"Sol\":sols, \"Obj Val\": objvals, \"Constraints Viol\": conviols, \"Elapsed Time\": elapseds})\n",
    "time.sleep(1)\n",
    "print(df.describe())\n",
    "print(\"Number of infeasible solution: {}\".format(np.sum(df[\"Constraints Viol\"] > 0)))\n",
    "df.to_csv(\"result/kp_heur_rens_32-2.csv\")"
   ]
  },
  {
   "cell_type": "markdown",
   "id": "96304fbd-08f5-4be7-a81e-83c85332029c",
   "metadata": {},
   "source": [
    "## Heuristic - N1"
   ]
  },
  {
   "cell_type": "code",
   "execution_count": 12,
   "id": "356187af-e02d-4478-bf78-ada6a2e1b94b",
   "metadata": {},
   "outputs": [],
   "source": [
    "model_heur = model.first_solution_heuristic(nodes_limit=1)"
   ]
  },
  {
   "cell_type": "code",
   "execution_count": 13,
   "id": "f4c7fc52-cbbc-4414-bf1d-316d65c8db5b",
   "metadata": {},
   "outputs": [
    {
     "name": "stderr",
     "output_type": "stream",
     "text": [
      "100%|██████████████████████████████████████████████████████████████████████████████| 1000/1000 [02:08<00:00,  7.76it/s]\n"
     ]
    },
    {
     "name": "stdout",
     "output_type": "stream",
     "text": [
      "       Obj Val  Constraints Viol  Elapsed Time\n",
      "count   1000.0            1000.0   1000.000000\n",
      "mean       4.0               0.0      0.127728\n",
      "std        0.0               0.0      0.012178\n",
      "min        4.0               0.0      0.108544\n",
      "25%        4.0               0.0      0.123038\n",
      "50%        4.0               0.0      0.124130\n",
      "75%        4.0               0.0      0.125644\n",
      "max        4.0               0.0      0.386401\n",
      "Number of infeasible solution: 0\n"
     ]
    }
   ],
   "source": [
    "params, sols, objvals, conviols, elapseds = [], [], [], [], []\n",
    "for c in tqdm(c_test):\n",
    "    # set params\n",
    "    model.set_param_val({\"c\":c})\n",
    "    # solve\n",
    "    tick = time.time()\n",
    "    xval, objval = model_heur.solve(\"gurobi\")\n",
    "    tock = time.time()\n",
    "    # eval\n",
    "    params.append(list(c))\n",
    "    sols.append(list(list(xval.values())[0].values()))\n",
    "    objvals.append(objval)\n",
    "    conviols.append(sum(model_heur.cal_violation()))\n",
    "    elapseds.append(tock - tick)\n",
    "df = pd.DataFrame({\"Param\":params, \"Sol\":sols, \"Obj Val\": objvals, \"Constraints Viol\": conviols, \"Elapsed Time\": elapseds})\n",
    "time.sleep(1)\n",
    "print(df.describe())\n",
    "print(\"Number of infeasible solution: {}\".format(np.sum(df[\"Constraints Viol\"] > 0)))\n",
    "df.to_csv(\"result/kp_heur_n1_32-2.csv\")"
   ]
  },
  {
   "cell_type": "markdown",
   "id": "9819c60c-df5f-41c6-ae83-888c75aa78d7",
   "metadata": {},
   "source": [
    "## Learnable Rounding"
   ]
  },
  {
   "cell_type": "code",
   "execution_count": 7,
   "id": "6c2bdd74-a0d1-4afa-b610-4f29559a5860",
   "metadata": {},
   "outputs": [],
   "source": [
    "# random seed\n",
    "np.random.seed(42)\n",
    "torch.manual_seed(42)\n",
    "torch.cuda.manual_seed(42)"
   ]
  },
  {
   "cell_type": "code",
   "execution_count": 8,
   "id": "536d2d58-67ba-408a-b72a-7c5bd54a5ff4",
   "metadata": {},
   "outputs": [],
   "source": [
    "# hyperparameters\n",
    "penalty_weight = 1    # weight of constraint violation penealty\n",
    "hlayers_sol = 4       # number of hidden layers for solution mapping\n",
    "hlayers_rnd = 4       # number of hidden layers for solution mapping\n",
    "hsize = 128           # width of hidden layers for solution mapping\n",
    "lr = 1e-3             # learning rate"
   ]
  },
  {
   "cell_type": "code",
   "execution_count": 9,
   "id": "fee1241e-e53a-4cbb-927a-edcdb3537303",
   "metadata": {},
   "outputs": [],
   "source": [
    "# set problem\n",
    "import neuromancer as nm\n",
    "from src.problem import nmKnapsack\n",
    "from src.func.layer import netFC\n",
    "from src.func import roundGumbelModel\n",
    "# build neural architecture for the solution map\n",
    "func = nm.modules.blocks.MLP(insize=num_items, outsize=num_items, bias=True, linear_map=nm.slim.maps[\"linear\"],\n",
    "                             nonlin=nn.ReLU, hsizes=[hsize]*hlayers_sol)\n",
    "smap = nm.system.Node(func, [\"c\"], [\"x\"], name=\"smap\")\n",
    "# define rounding model\n",
    "layers_rnd = netFC(input_dim=2*num_items, hidden_dims=[hsize]*hlayers_rnd, output_dim=num_items)\n",
    "rnd = roundGumbelModel(layers=layers_rnd, param_keys=[\"c\"], var_keys=[\"x\"],  output_keys=[\"x_rnd\"], \n",
    "                       bin_ind={\"x\":range(num_items)}, continuous_update=True, name=\"round\")\n",
    "# build neuromancer problem for rounding\n",
    "components = nn.ModuleList([smap, rnd]).to(\"cuda\")\n",
    "loss_fn = nmKnapsack([\"c\", \"x_rnd\"], weights, caps, penalty_weight)\n",
    "loss_fn2 = nmKnapsack([\"c\", \"x\"], weights, caps, penalty_weight, output_key=\"loss2\")"
   ]
  },
  {
   "cell_type": "code",
   "execution_count": 10,
   "id": "e4f10263-5f69-4288-a4e8-8be83929c8d6",
   "metadata": {},
   "outputs": [
    {
     "name": "stdout",
     "output_type": "stream",
     "text": [
      "Epoch 0, Validation Loss: 134.94\n",
      "Epoch 1, Validation Loss: 22.04\n",
      "Epoch 2, Validation Loss: 50.36\n",
      "Epoch 3, Validation Loss: 30.92\n",
      "Epoch 4, Validation Loss: 25.67\n",
      "Epoch 5, Validation Loss: 19.62\n",
      "Epoch 6, Validation Loss: 18.95\n",
      "Epoch 7, Validation Loss: 23.02\n",
      "Epoch 8, Validation Loss: 8.87\n",
      "Epoch 9, Validation Loss: 7.26\n",
      "Epoch 10, Validation Loss: 8.61\n",
      "Epoch 11, Validation Loss: 7.62\n",
      "Epoch 12, Validation Loss: 9.13\n",
      "Epoch 13, Validation Loss: 14.34\n",
      "Epoch 14, Validation Loss: 13.05\n",
      "Epoch 15, Validation Loss: 9.72\n",
      "Epoch 16, Validation Loss: 10.69\n",
      "Epoch 17, Validation Loss: 8.96\n",
      "Epoch 18, Validation Loss: 7.38\n",
      "Epoch 19, Validation Loss: 8.46\n",
      "Epoch 20, Validation Loss: 8.72\n",
      "Epoch 21, Validation Loss: 11.12\n",
      "Epoch 22, Validation Loss: 10.18\n",
      "Epoch 23, Validation Loss: 4.85\n",
      "Epoch 24, Validation Loss: 7.35\n",
      "Epoch 25, Validation Loss: 7.87\n",
      "Epoch 26, Validation Loss: 5.73\n",
      "Epoch 27, Validation Loss: 8.89\n",
      "Epoch 28, Validation Loss: 9.30\n",
      "Epoch 29, Validation Loss: 6.47\n",
      "Epoch 30, Validation Loss: 8.25\n",
      "Epoch 31, Validation Loss: 5.06\n",
      "Epoch 32, Validation Loss: 6.06\n",
      "Epoch 33, Validation Loss: 3.19\n",
      "Epoch 34, Validation Loss: 3.98\n",
      "Epoch 35, Validation Loss: 2.03\n",
      "Epoch 36, Validation Loss: 0.50\n",
      "Epoch 37, Validation Loss: 1.20\n",
      "Epoch 38, Validation Loss: 0.74\n",
      "Epoch 39, Validation Loss: -0.25\n",
      "Epoch 40, Validation Loss: 0.98\n",
      "Epoch 41, Validation Loss: -0.30\n",
      "Epoch 42, Validation Loss: -0.55\n",
      "Epoch 43, Validation Loss: -0.56\n",
      "Epoch 44, Validation Loss: 0.55\n",
      "Epoch 45, Validation Loss: -0.54\n",
      "Epoch 46, Validation Loss: 0.61\n",
      "Epoch 47, Validation Loss: 2.60\n",
      "Epoch 48, Validation Loss: -0.49\n",
      "Epoch 49, Validation Loss: -0.57\n",
      "Epoch 50, Validation Loss: 0.25\n",
      "Epoch 51, Validation Loss: 0.38\n",
      "Epoch 52, Validation Loss: 0.63\n",
      "Epoch 53, Validation Loss: -0.39\n",
      "Epoch 54, Validation Loss: -0.19\n",
      "Epoch 55, Validation Loss: -0.45\n",
      "Epoch 56, Validation Loss: 0.13\n",
      "Epoch 57, Validation Loss: -0.56\n",
      "Epoch 58, Validation Loss: -0.70\n",
      "Epoch 59, Validation Loss: -0.71\n",
      "Epoch 60, Validation Loss: -0.73\n",
      "Epoch 61, Validation Loss: -0.74\n",
      "Epoch 62, Validation Loss: -0.74\n",
      "Epoch 63, Validation Loss: -0.75\n",
      "Epoch 64, Validation Loss: -0.75\n",
      "Epoch 65, Validation Loss: -0.75\n",
      "Epoch 66, Validation Loss: -0.75\n",
      "Epoch 67, Validation Loss: -0.76\n",
      "Epoch 68, Validation Loss: -0.77\n",
      "Epoch 69, Validation Loss: -0.77\n",
      "Epoch 70, Validation Loss: -0.77\n",
      "Epoch 71, Validation Loss: -0.77\n",
      "Epoch 72, Validation Loss: -0.77\n",
      "Epoch 73, Validation Loss: -0.77\n",
      "Epoch 74, Validation Loss: -0.77\n",
      "Epoch 75, Validation Loss: -0.77\n",
      "Epoch 76, Validation Loss: -0.42\n",
      "Epoch 77, Validation Loss: -0.77\n",
      "Epoch 78, Validation Loss: -0.77\n",
      "Epoch 79, Validation Loss: -0.77\n",
      "Epoch 80, Validation Loss: -0.77\n",
      "Epoch 81, Validation Loss: -0.79\n",
      "Epoch 82, Validation Loss: -0.81\n",
      "Epoch 83, Validation Loss: -0.81\n",
      "Epoch 84, Validation Loss: -0.83\n",
      "Epoch 85, Validation Loss: -0.85\n",
      "Epoch 86, Validation Loss: -0.85\n",
      "Epoch 87, Validation Loss: -0.86\n",
      "Epoch 88, Validation Loss: -0.86\n",
      "Epoch 89, Validation Loss: -0.86\n",
      "Epoch 90, Validation Loss: -0.86\n",
      "Epoch 91, Validation Loss: -0.86\n",
      "Epoch 92, Validation Loss: -0.86\n",
      "Epoch 93, Validation Loss: -0.86\n",
      "Epoch 94, Validation Loss: -0.86\n",
      "Epoch 95, Validation Loss: -0.86\n",
      "Epoch 96, Validation Loss: -0.86\n",
      "Epoch 97, Validation Loss: -0.86\n",
      "Epoch 98, Validation Loss: -0.86\n",
      "Epoch 99, Validation Loss: -0.85\n",
      "Epoch 100, Validation Loss: -0.86\n",
      "Epoch 101, Validation Loss: -0.86\n",
      "Epoch 102, Validation Loss: -0.86\n",
      "Epoch 103, Validation Loss: -0.86\n",
      "Epoch 104, Validation Loss: -0.86\n",
      "Epoch 105, Validation Loss: -0.85\n",
      "Epoch 106, Validation Loss: -0.85\n",
      "Epoch 107, Validation Loss: -0.86\n",
      "Epoch 108, Validation Loss: -0.86\n",
      "Epoch 109, Validation Loss: -0.86\n",
      "Epoch 110, Validation Loss: -0.86\n",
      "Epoch 111, Validation Loss: -0.86\n",
      "Epoch 112, Validation Loss: -0.86\n",
      "Epoch 113, Validation Loss: -0.85\n",
      "Epoch 114, Validation Loss: -0.86\n",
      "Epoch 115, Validation Loss: -0.86\n",
      "Epoch 116, Validation Loss: -0.86\n",
      "Epoch 117, Validation Loss: -0.86\n",
      "Epoch 118, Validation Loss: -0.86\n",
      "Epoch 119, Validation Loss: -0.86\n",
      "Epoch 120, Validation Loss: -0.86\n",
      "Epoch 121, Validation Loss: -0.86\n",
      "Epoch 122, Validation Loss: -0.86\n",
      "Epoch 123, Validation Loss: -0.84\n",
      "Epoch 124, Validation Loss: -0.86\n",
      "Epoch 125, Validation Loss: -0.86\n",
      "Epoch 126, Validation Loss: -0.86\n",
      "Epoch 127, Validation Loss: -0.86\n",
      "Epoch 128, Validation Loss: -0.86\n",
      "Epoch 129, Validation Loss: -0.86\n",
      "Epoch 130, Validation Loss: -0.86\n",
      "Epoch 131, Validation Loss: -0.86\n",
      "Epoch 132, Validation Loss: -0.86\n",
      "Epoch 133, Validation Loss: -0.86\n",
      "Epoch 134, Validation Loss: -0.86\n",
      "Epoch 135, Validation Loss: -0.86\n",
      "Epoch 136, Validation Loss: -0.86\n",
      "Epoch 137, Validation Loss: -0.86\n",
      "Epoch 138, Validation Loss: -0.86\n",
      "Epoch 139, Validation Loss: 0.58\n",
      "Epoch 140, Validation Loss: -0.86\n",
      "Epoch 141, Validation Loss: -0.86\n",
      "Epoch 142, Validation Loss: -0.86\n",
      "Epoch 143, Validation Loss: -0.76\n",
      "Epoch 144, Validation Loss: 0.65\n",
      "Epoch 145, Validation Loss: -0.77\n",
      "Epoch 146, Validation Loss: 0.84\n",
      "Epoch 147, Validation Loss: 0.13\n",
      "Epoch 148, Validation Loss: 0.92\n",
      "Epoch 149, Validation Loss: 0.27\n",
      "Epoch 150, Validation Loss: 0.69\n",
      "Epoch 151, Validation Loss: 0.25\n",
      "Early stopping at epoch 151\n",
      "Best model loaded.\n",
      "Training complete.\n"
     ]
    }
   ],
   "source": [
    "from src.problem.neuromancer.trainer import trainer2\n",
    "# training\n",
    "epochs = 200                    # number of training epochs\n",
    "warmup = 20                     # number of epochs to wait before enacting early stopping policy\n",
    "patience = 20                   # number of epochs with no improvement in eval metric to allow before early stopping\n",
    "optimizer = torch.optim.AdamW(components.parameters(), lr=lr)\n",
    "# create a trainer for the problem\n",
    "my_trainer = trainer2(components, loss_fn, loss_fn2, optimizer, epochs, patience, warmup, device=\"cuda\")\n",
    "# training for the rounding problem\n",
    "my_trainer.train(loader_train, loader_dev, loss_weight=10)"
   ]
  },
  {
   "cell_type": "code",
   "execution_count": 13,
   "id": "3e835084-eb75-45d9-bcbd-5fb4c613fb41",
   "metadata": {},
   "outputs": [
    {
     "name": "stderr",
     "output_type": "stream",
     "text": [
      "100%|█████████████████████████████████████████████████████████████████████████████| 1000/1000 [00:05<00:00, 187.22it/s]\n"
     ]
    },
    {
     "name": "stdout",
     "output_type": "stream",
     "text": [
      "           Obj Val  Constraints Viol  Elapsed Time\n",
      "count  1000.000000            1000.0   1000.000000\n",
      "mean     14.506000               0.0      0.002267\n",
      "std       6.868125               0.0      0.000667\n",
      "min       5.000000               0.0      0.000998\n",
      "25%      11.000000               0.0      0.002000\n",
      "50%      13.000000               0.0      0.002001\n",
      "75%      17.000000               0.0      0.002512\n",
      "max      99.000000               0.0      0.008106\n",
      "Number of infeasible solution: 0\n"
     ]
    }
   ],
   "source": [
    "params, sols, objvals, conviols, elapseds = [], [], [], [], []\n",
    "for c, c_orig in tqdm(list(zip(c_test_norm, c_test))):\n",
    "    # data point as tensor\n",
    "    datapoints = {\"c\": torch.tensor(np.array([c]), dtype=torch.float32).to(\"cuda\"), \n",
    "                  \"name\": \"test\"}\n",
    "    # infer\n",
    "    components.eval()\n",
    "    tick = time.time()\n",
    "    with torch.no_grad():\n",
    "        for comp in components:\n",
    "            datapoints.update(comp(datapoints))\n",
    "    tock = time.time()\n",
    "    # assign params\n",
    "    model.set_param_val({\"c\":c_orig})\n",
    "    # assign vars\n",
    "    x = datapoints[\"x_rnd\"]\n",
    "    for i in range(num_items):\n",
    "        model.vars[\"x\"][i].value = x[0,i].item()\n",
    "    # get solutions\n",
    "    xval, objval = model.get_val()    \n",
    "    params.append(list(c))\n",
    "    sols.append(list(list(xval.values())[0].values()))\n",
    "    objvals.append(objval)\n",
    "    conviols.append(sum(model.cal_violation()))\n",
    "    elapseds.append(tock - tick)\n",
    "df = pd.DataFrame({\"Param\":params, \"Sol\":sols, \"Obj Val\": objvals, \"Constraints Viol\": conviols, \"Elapsed Time\": elapseds})\n",
    "time.sleep(1)\n",
    "print(df.describe())\n",
    "print(\"Number of infeasible solution: {}\".format(np.sum(df[\"Constraints Viol\"] > 0)))\n",
    "df.to_csv(\"result/kp_lr_32-2.csv\")"
   ]
  },
  {
   "cell_type": "markdown",
   "id": "2dbf8a72-29b9-49c4-b3c1-0d68895c1c1f",
   "metadata": {},
   "source": [
    "## Learnable Threshold"
   ]
  },
  {
   "cell_type": "code",
   "execution_count": 48,
   "id": "7912a689-22cd-4d7b-a50f-d136dbdf5940",
   "metadata": {},
   "outputs": [],
   "source": [
    "# random seed\n",
    "np.random.seed(42)\n",
    "torch.manual_seed(42)\n",
    "torch.cuda.manual_seed(42)"
   ]
  },
  {
   "cell_type": "code",
   "execution_count": 49,
   "id": "d46b9817-87ac-4af0-b387-b10c9a4998f4",
   "metadata": {},
   "outputs": [],
   "source": [
    "# hyperparameters\n",
    "penalty_weight = 1    # weight of constraint violation penealty\n",
    "hlayers_sol = 4       # number of hidden layers for solution mapping\n",
    "hlayers_rnd = 4       # number of hidden layers for solution mapping\n",
    "hsize = 128           # width of hidden layers for solution mapping\n",
    "lr = 1e-3             # learning rate"
   ]
  },
  {
   "cell_type": "code",
   "execution_count": 50,
   "id": "fa8b147f-39c8-4eb7-bb95-93dd8e4cb1cf",
   "metadata": {},
   "outputs": [],
   "source": [
    "# set problem\n",
    "import neuromancer as nm\n",
    "from src.problem import nmKnapsack\n",
    "from src.func.layer import netFC\n",
    "from src.func import roundThresholdModel\n",
    "# build neural architecture for the solution map\n",
    "func = nm.modules.blocks.MLP(insize=num_items, outsize=num_items, bias=True, linear_map=nm.slim.maps[\"linear\"],\n",
    "                             nonlin=nn.ReLU, hsizes=[hsize]*hlayers_sol)\n",
    "smap = nm.system.Node(func, [\"c\"], [\"x\"], name=\"smap\")\n",
    "# define rounding model\n",
    "layers_rnd = netFC(input_dim=2*num_items, hidden_dims=[hsize]*hlayers_rnd, output_dim=num_items)\n",
    "rnd = roundThresholdModel(layers=layers_rnd, param_keys=[\"c\"], var_keys=[\"x\"],  output_keys=[\"x_rnd\"], \n",
    "                          bin_ind={\"x\":range(num_items)}, continuous_update=True, name=\"round\")\n",
    "# build neuromancer problem for rounding\n",
    "components = nn.ModuleList([smap, rnd]).to(\"cuda\")\n",
    "loss_fn = nmKnapsack([\"c\", \"x_rnd\"], weights, caps, penalty_weight)"
   ]
  },
  {
   "cell_type": "code",
   "execution_count": 51,
   "id": "c6f5bb17-8c3c-4dcd-952d-caa1d7c4c4fa",
   "metadata": {},
   "outputs": [
    {
     "name": "stdout",
     "output_type": "stream",
     "text": [
      "Epoch 0, Validation Loss: 702.18\n",
      "Epoch 1, Validation Loss: 0.00\n",
      "Epoch 2, Validation Loss: 0.00\n",
      "Epoch 3, Validation Loss: -0.00\n",
      "Epoch 4, Validation Loss: -0.04\n",
      "Epoch 5, Validation Loss: -0.38\n",
      "Epoch 6, Validation Loss: -0.34\n",
      "Epoch 7, Validation Loss: -0.57\n",
      "Epoch 8, Validation Loss: -0.63\n",
      "Epoch 9, Validation Loss: -0.89\n",
      "Epoch 10, Validation Loss: -0.89\n",
      "Epoch 11, Validation Loss: -0.77\n",
      "Epoch 12, Validation Loss: -0.77\n",
      "Epoch 13, Validation Loss: -0.85\n",
      "Epoch 14, Validation Loss: -0.77\n",
      "Epoch 15, Validation Loss: -0.64\n",
      "Epoch 16, Validation Loss: -0.51\n",
      "Epoch 17, Validation Loss: -0.59\n",
      "Epoch 18, Validation Loss: -0.59\n",
      "Epoch 19, Validation Loss: -0.55\n",
      "Epoch 20, Validation Loss: -0.43\n",
      "Epoch 21, Validation Loss: -0.59\n",
      "Epoch 22, Validation Loss: -0.51\n",
      "Epoch 23, Validation Loss: -0.53\n",
      "Epoch 24, Validation Loss: -0.54\n",
      "Epoch 25, Validation Loss: -0.53\n",
      "Epoch 26, Validation Loss: -0.59\n",
      "Epoch 27, Validation Loss: -0.72\n",
      "Epoch 28, Validation Loss: -0.64\n",
      "Epoch 29, Validation Loss: -0.68\n",
      "Epoch 30, Validation Loss: -0.77\n",
      "Epoch 31, Validation Loss: -0.71\n",
      "Epoch 32, Validation Loss: -0.76\n",
      "Epoch 33, Validation Loss: -0.70\n",
      "Epoch 34, Validation Loss: -0.57\n",
      "Epoch 35, Validation Loss: -0.50\n",
      "Epoch 36, Validation Loss: -0.74\n",
      "Epoch 37, Validation Loss: -0.79\n",
      "Epoch 38, Validation Loss: -0.78\n",
      "Epoch 39, Validation Loss: -0.82\n",
      "Epoch 40, Validation Loss: -0.79\n",
      "Epoch 41, Validation Loss: -0.76\n",
      "Epoch 42, Validation Loss: -0.79\n",
      "Epoch 43, Validation Loss: -0.79\n",
      "Epoch 44, Validation Loss: -0.80\n",
      "Epoch 45, Validation Loss: -0.79\n",
      "Epoch 46, Validation Loss: -0.81\n",
      "Epoch 47, Validation Loss: -0.81\n",
      "Epoch 48, Validation Loss: -0.81\n",
      "Epoch 49, Validation Loss: -0.80\n",
      "Epoch 50, Validation Loss: -0.83\n",
      "Epoch 51, Validation Loss: -0.84\n",
      "Epoch 52, Validation Loss: -0.85\n",
      "Epoch 53, Validation Loss: -0.83\n",
      "Epoch 54, Validation Loss: -0.80\n",
      "Epoch 55, Validation Loss: -0.81\n",
      "Epoch 56, Validation Loss: -0.87\n",
      "Epoch 57, Validation Loss: -0.85\n",
      "Epoch 58, Validation Loss: -0.71\n",
      "Epoch 59, Validation Loss: -0.78\n",
      "Epoch 60, Validation Loss: -0.75\n",
      "Epoch 61, Validation Loss: -0.80\n",
      "Epoch 62, Validation Loss: -0.79\n",
      "Epoch 63, Validation Loss: -0.75\n",
      "Epoch 64, Validation Loss: -0.79\n",
      "Epoch 65, Validation Loss: -0.78\n",
      "Epoch 66, Validation Loss: -0.79\n",
      "Epoch 67, Validation Loss: -0.78\n",
      "Epoch 68, Validation Loss: -0.81\n",
      "Epoch 69, Validation Loss: -0.81\n",
      "Epoch 70, Validation Loss: -0.79\n",
      "Epoch 71, Validation Loss: -0.78\n",
      "Epoch 72, Validation Loss: -0.79\n",
      "Epoch 73, Validation Loss: -0.78\n",
      "Epoch 74, Validation Loss: -0.77\n",
      "Epoch 75, Validation Loss: -0.74\n",
      "Early stopping at epoch 75\n",
      "Best model loaded.\n",
      "Training complete.\n"
     ]
    }
   ],
   "source": [
    "from src.problem.neuromancer.trainer import trainer\n",
    "# training\n",
    "epochs = 200                    # number of training epochs\n",
    "warmup = 20                     # number of epochs to wait before enacting early stopping policy\n",
    "patience = 20                   # number of epochs with no improvement in eval metric to allow before early stopping\n",
    "optimizer = torch.optim.AdamW(components.parameters(), lr=lr)\n",
    "# create a trainer for the problem\n",
    "my_trainer = trainer(components, loss_fn, optimizer, epochs, patience, warmup, device=\"cuda\")\n",
    "# training for the rounding problem\n",
    "my_trainer.train(loader_train, loader_dev)"
   ]
  },
  {
   "cell_type": "code",
   "execution_count": null,
   "id": "6584d57e-6b4c-4262-82f5-55735ef17cac",
   "metadata": {},
   "outputs": [],
   "source": [
    "params, sols, objvals, conviols, elapseds = [], [], [], [], []\n",
    "for c, c_orig in tqdm(list(zip(c_test_norm, c_test))):\n",
    "    # data point as tensor\n",
    "    datapoints = {\"c\": torch.tensor(np.array([c]), dtype=torch.float32).to(\"cuda\"), \n",
    "                  \"name\": \"test\"}\n",
    "    # infer\n",
    "    components.eval()\n",
    "    tick = time.time()\n",
    "    with torch.no_grad():\n",
    "        for comp in components:\n",
    "            datapoints.update(comp(datapoints))\n",
    "    tock = time.time()\n",
    "    # assign params\n",
    "    model.set_param_val({\"c\":c_orig})\n",
    "    # assign vars\n",
    "    x = datapoints[\"x_rnd\"]\n",
    "    for i in range(num_items):\n",
    "        model.vars[\"x\"][i].value = x[0,i].item()\n",
    "    # get solutions\n",
    "    xval, objval = model.get_val()    \n",
    "    params.append(list(c))\n",
    "    sols.append(list(list(xval.values())[0].values()))\n",
    "    objvals.append(objval)\n",
    "    conviols.append(sum(model.cal_violation()))\n",
    "    elapseds.append(tock - tick)\n",
    "df = pd.DataFrame({\"Param\":params, \"Sol\":sols, \"Obj Val\": objvals, \"Constraints Viol\": conviols, \"Elapsed Time\": elapseds})\n",
    "time.sleep(1)\n",
    "print(df.describe())\n",
    "print(\"Number of infeasible solution: {}\".format(np.sum(df[\"Constraints Viol\"] > 0)))\n",
    "df.to_csv(\"result/kp_lt_32-2.csv\")"
   ]
  },
  {
   "cell_type": "code",
   "execution_count": null,
   "id": "c89bcb04-0e0f-4bad-9a4a-bd6bed7660dd",
   "metadata": {},
   "outputs": [],
   "source": []
  }
 ],
 "metadata": {
  "kernelspec": {
   "display_name": "Python 3 (ipykernel)",
   "language": "python",
   "name": "python3"
  },
  "language_info": {
   "codemirror_mode": {
    "name": "ipython",
    "version": 3
   },
   "file_extension": ".py",
   "mimetype": "text/x-python",
   "name": "python",
   "nbconvert_exporter": "python",
   "pygments_lexer": "ipython3",
   "version": "3.10.13"
  }
 },
 "nbformat": 4,
 "nbformat_minor": 5
}
