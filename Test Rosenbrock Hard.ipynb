{
 "cells": [
  {
   "cell_type": "code",
   "execution_count": 1,
   "id": "be61b914-e1af-43b9-9766-5092593f92dd",
   "metadata": {},
   "outputs": [],
   "source": [
    "import time\n",
    "\n",
    "import numpy as np\n",
    "import pandas as pd\n",
    "import torch\n",
    "from torch import nn\n",
    "from tqdm import tqdm\n",
    "\n",
    "# random seed\n",
    "np.random.seed(42)\n",
    "torch.manual_seed(42)\n",
    "torch.cuda.manual_seed(42)"
   ]
  },
  {
   "cell_type": "code",
   "execution_count": 2,
   "id": "35fe4527-9dbf-48f0-bfb3-62cda59092aa",
   "metadata": {},
   "outputs": [],
   "source": [
    "# turn off warning\n",
    "import logging\n",
    "logging.getLogger('pyomo.core').setLevel(logging.ERROR)"
   ]
  },
  {
   "cell_type": "markdown",
   "id": "c5560447-da9d-4cbe-aab4-538aa11c8ee8",
   "metadata": {},
   "source": [
    "## Problem Setting"
   ]
  },
  {
   "cell_type": "code",
   "execution_count": 3,
   "id": "52363c72-0d20-4c08-bd00-0f62aa73686c",
   "metadata": {},
   "outputs": [],
   "source": [
    "# init\n",
    "steepness = 50    # steepness factor\n",
    "num_blocks = 3    # number of expression blocks\n",
    "num_data = 5000   # number of data\n",
    "test_size = 1000  # number of test size\n",
    "val_size = 1000   # number of validation size\n",
    "train_size = num_data - test_size - val_size"
   ]
  },
  {
   "cell_type": "code",
   "execution_count": 4,
   "id": "21938c00-d73f-4255-bc7c-bce6e8034cf8",
   "metadata": {},
   "outputs": [],
   "source": [
    "# parameters as input data\n",
    "p_low, p_high = 1.0, 8.0\n",
    "a_low, a_high = 0.5, 4.5\n",
    "p_train = np.random.uniform(p_low, p_high, (train_size, 1)).astype(np.float32)\n",
    "p_test  = np.random.uniform(p_low, p_high, (test_size, 1)).astype(np.float32)\n",
    "p_dev   = np.random.uniform(p_low, p_high, (val_size, 1)).astype(np.float32)\n",
    "a_train = np.random.uniform(a_low, a_high, (train_size, num_blocks)).astype(np.float32)\n",
    "a_test  = np.random.uniform(a_low, a_high, (test_size, num_blocks)).astype(np.float32)\n",
    "a_dev   = np.random.uniform(a_low, a_high, (val_size, num_blocks)).astype(np.float32)"
   ]
  },
  {
   "cell_type": "code",
   "execution_count": 5,
   "id": "5ecf81ff-627d-444d-8d90-121c7e20c217",
   "metadata": {},
   "outputs": [],
   "source": [
    "# nm datasets\n",
    "from neuromancer.dataset import DictDataset\n",
    "data_train = DictDataset({\"p\":p_train, \"a\":a_train}, name=\"train\")\n",
    "data_test = DictDataset({\"p\":p_test, \"a\":a_test}, name=\"test\")\n",
    "data_dev = DictDataset({\"p\":p_dev, \"a\":a_dev}, name=\"dev\")\n",
    "# torch dataloaders\n",
    "from torch.utils.data import DataLoader\n",
    "loader_train = DataLoader(data_train, batch_size=32, num_workers=0, collate_fn=data_train.collate_fn, shuffle=True)\n",
    "loader_test = DataLoader(data_test, batch_size=32, num_workers=0, collate_fn=data_test.collate_fn, shuffle=False)\n",
    "loader_dev = DataLoader(data_dev, batch_size=32, num_workers=0, collate_fn=data_dev.collate_fn, shuffle=True)"
   ]
  },
  {
   "cell_type": "markdown",
   "id": "a2b99751-3a6e-46dc-9e33-fdf68d813034",
   "metadata": {},
   "source": [
    "## Exact Solver"
   ]
  },
  {
   "cell_type": "code",
   "execution_count": 6,
   "id": "f2e7f07c-6a97-44d6-aca7-56f395e0c964",
   "metadata": {},
   "outputs": [],
   "source": [
    "from src.problem import msRosenbrock\n",
    "model = msRosenbrock(steepness, num_blocks, timelimit=60)"
   ]
  },
  {
   "cell_type": "code",
   "execution_count": null,
   "id": "77e326fa-de2f-415e-a4d4-1f28eef6511a",
   "metadata": {},
   "outputs": [
    {
     "name": "stderr",
     "output_type": "stream",
     "text": [
      " 28%|████████████████████▌                                                     | 278/1000 [4:08:17<11:53:48, 59.32s/it]"
     ]
    }
   ],
   "source": [
    "params, sols, objvals, conviols, elapseds = [], [], [], [], []\n",
    "for p, a in tqdm(list(zip(p_test,a_test))):\n",
    "    model.set_param_val({\"p\":p, \"a\":a})\n",
    "    tick = time.time()\n",
    "    xval, objval = model.solve(\"scip\")\n",
    "    tock = time.time()\n",
    "    params.append(list(p)+list(a))\n",
    "    sols.append(list(xval.values()))\n",
    "    objvals.append(objval)\n",
    "    conviols.append(sum(model.cal_violation()))\n",
    "    elapseds.append(tock - tick)\n",
    "df = pd.DataFrame({\"Sol\":sols, \"Obj Val\": objvals, \"Constraints Viol\": conviols, \"Elapsed Time\": elapseds})\n",
    "time.sleep(1)\n",
    "print(df.describe())\n",
    "print(\"Number of infeasible solution: {}\".format(np.sum(df[\"Constraints Viol\"] > 0)))\n",
    "df.to_csv(\"result/rb_exact_h.csv\")"
   ]
  },
  {
   "cell_type": "markdown",
   "id": "96304fbd-08f5-4be7-a81e-83c85332029c",
   "metadata": {},
   "source": [
    "## Heuristic"
   ]
  },
  {
   "cell_type": "code",
   "execution_count": 7,
   "id": "356187af-e02d-4478-bf78-ada6a2e1b94b",
   "metadata": {},
   "outputs": [],
   "source": [
    "model_heur = model.first_solution_heuristic()"
   ]
  },
  {
   "cell_type": "code",
   "execution_count": 8,
   "id": "f4c7fc52-cbbc-4414-bf1d-316d65c8db5b",
   "metadata": {},
   "outputs": [
    {
     "name": "stderr",
     "output_type": "stream",
     "text": [
      "100%|██████████████████████████████████████████████████████████████████████████████| 1000/1000 [01:41<00:00,  9.89it/s]\n"
     ]
    },
    {
     "name": "stdout",
     "output_type": "stream",
     "text": [
      "           Obj Val  Constraints Viol  Elapsed Time\n",
      "count  1000.000000            1000.0   1000.000000\n",
      "mean   2058.082082               0.0      0.100494\n",
      "std    1482.102604               0.0      0.086598\n",
      "min     136.944849               0.0      0.058631\n",
      "25%     848.698516               0.0      0.076327\n",
      "50%    1686.359197               0.0      0.077869\n",
      "75%    3386.700965               0.0      0.093074\n",
      "max    4933.410491               0.0      1.824080\n",
      "Number of infeasible solution: 0\n"
     ]
    }
   ],
   "source": [
    "params, sols, objvals, conviols, elapseds = [], [], [], [], []\n",
    "for p, a in tqdm(list(zip(p_test,a_test))):\n",
    "    model_heur.set_param_val({\"p\":p, \"a\":a})\n",
    "    tick = time.time()\n",
    "    xval, objval = model_heur.solve(\"scip\")\n",
    "    tock = time.time()\n",
    "    params.append(list(p)+list(a))\n",
    "    sols.append(list(xval.values()))\n",
    "    objvals.append(objval)\n",
    "    conviols.append(sum(model_heur.cal_violation()))\n",
    "    elapseds.append(tock - tick)\n",
    "df = pd.DataFrame({\"Sol\":sols, \"Obj Val\": objvals, \"Constraints Viol\": conviols, \"Elapsed Time\": elapseds})\n",
    "time.sleep(1)\n",
    "print(df.describe())\n",
    "print(\"Number of infeasible solution: {}\".format(np.sum(df[\"Constraints Viol\"] > 0)))\n",
    "df.to_csv(\"result/rb_heur_h.csv\")"
   ]
  },
  {
   "cell_type": "markdown",
   "id": "9819c60c-df5f-41c6-ae83-888c75aa78d7",
   "metadata": {},
   "source": [
    "## Learnable Rounding"
   ]
  },
  {
   "cell_type": "code",
   "execution_count": 9,
   "id": "536d2d58-67ba-408a-b72a-7c5bd54a5ff4",
   "metadata": {},
   "outputs": [],
   "source": [
    "# hyperparameters\n",
    "penalty_weight = 50   # weight of constraint violation penealty\n",
    "hlayers_sol = 4       # number of hidden layers for solution mapping\n",
    "hlayers_rnd = 4       # number of hidden layers for solution mapping\n",
    "hsize = 64            # width of hidden layers for solution mapping\n",
    "lr = 1e-3             # learning rate\n",
    "batch_size = 64       # batch size"
   ]
  },
  {
   "cell_type": "code",
   "execution_count": 10,
   "id": "fee1241e-e53a-4cbb-927a-edcdb3537303",
   "metadata": {},
   "outputs": [],
   "source": [
    "# set problem\n",
    "import neuromancer as nm\n",
    "from src.problem import nmRosenbrock\n",
    "from src.func.layer import netFC\n",
    "from src.func import roundGumbelModel\n",
    "# define Rosenbrock objective functions and constraints for both problem types\n",
    "obj_rel, constrs_rel = nmRosenbrock([\"x\"], [\"p\", \"a\"], steepness, num_blocks, penalty_weight=penalty_weight)\n",
    "obj_rnd, constrs_rnd = nmRosenbrock([\"x_rnd\"], [\"p\", \"a\"], steepness, num_blocks, penalty_weight=penalty_weight)\n",
    "# build neural architecture for the solution map\n",
    "func = nm.modules.blocks.MLP(insize=num_blocks+1, outsize=2*num_blocks, bias=True,\n",
    "                             linear_map=nm.slim.maps[\"linear\"],\n",
    "                             nonlin=nn.ReLU, hsizes=[hsize]*hlayers_sol)\n",
    "smap = nm.system.Node(func, [\"p\", \"a\"], [\"x\"], name=\"smap\")\n",
    "# define rounding model\n",
    "layers_rnd = netFC(input_dim=3*num_blocks+1, hidden_dims=[hsize]*hlayers_rnd, output_dim=2*num_blocks)\n",
    "rnd = roundGumbelModel(layers=layers_rnd, param_keys=[\"p\", \"a\"], var_keys=[\"x\"],  output_keys=[\"x_rnd\"], \n",
    "                       int_ind=model.int_ind, continuous_update=True, name=\"round\")\n",
    "# build neuromancer problem for rounding\n",
    "components = [smap, rnd]\n",
    "loss = nm.loss.PenaltyLoss(obj_rnd, constrs_rnd)\n",
    "problem = nm.problem.Problem(components, loss)"
   ]
  },
  {
   "cell_type": "code",
   "execution_count": 11,
   "id": "e4f10263-5f69-4288-a4e8-8be83929c8d6",
   "metadata": {},
   "outputs": [
    {
     "name": "stdout",
     "output_type": "stream",
     "text": [
      "epoch: 0  train_loss: 350.35992431640625\n",
      "epoch: 1  train_loss: 168.89566040039062\n",
      "epoch: 2  train_loss: 112.10063934326172\n",
      "epoch: 3  train_loss: 97.0390625\n",
      "epoch: 4  train_loss: 91.27782440185547\n",
      "epoch: 5  train_loss: 79.82402801513672\n",
      "epoch: 6  train_loss: 76.89816284179688\n",
      "epoch: 7  train_loss: 70.11566925048828\n",
      "epoch: 8  train_loss: 61.8148078918457\n",
      "epoch: 9  train_loss: 57.20465850830078\n",
      "epoch: 10  train_loss: 54.40156555175781\n",
      "epoch: 11  train_loss: 54.01080322265625\n",
      "epoch: 12  train_loss: 51.78118133544922\n",
      "epoch: 13  train_loss: 43.07748794555664\n",
      "epoch: 14  train_loss: 31.86257553100586\n",
      "epoch: 15  train_loss: 31.884004592895508\n",
      "epoch: 16  train_loss: 29.979877471923828\n",
      "epoch: 17  train_loss: 29.706727981567383\n",
      "epoch: 18  train_loss: 27.639928817749023\n",
      "epoch: 19  train_loss: 27.75702476501465\n",
      "epoch: 20  train_loss: 27.499441146850586\n",
      "epoch: 21  train_loss: 26.14260482788086\n",
      "epoch: 22  train_loss: 24.70989418029785\n",
      "epoch: 23  train_loss: 24.579294204711914\n",
      "epoch: 24  train_loss: 24.59266471862793\n",
      "epoch: 25  train_loss: 24.949146270751953\n",
      "epoch: 26  train_loss: 23.72576332092285\n",
      "epoch: 27  train_loss: 22.9615535736084\n",
      "epoch: 28  train_loss: 23.58100700378418\n",
      "epoch: 29  train_loss: 23.837696075439453\n",
      "epoch: 30  train_loss: 23.514999389648438\n",
      "epoch: 31  train_loss: 24.241891860961914\n",
      "epoch: 32  train_loss: 23.77788734436035\n",
      "epoch: 33  train_loss: 23.31232261657715\n",
      "epoch: 34  train_loss: 24.269086837768555\n",
      "epoch: 35  train_loss: 22.21054458618164\n",
      "epoch: 36  train_loss: 23.87493324279785\n",
      "epoch: 37  train_loss: 23.273090362548828\n",
      "epoch: 38  train_loss: 23.548826217651367\n",
      "epoch: 39  train_loss: 22.9399471282959\n",
      "epoch: 40  train_loss: 22.144250869750977\n",
      "epoch: 41  train_loss: 23.40188217163086\n",
      "epoch: 42  train_loss: 22.659120559692383\n",
      "epoch: 43  train_loss: 21.780841827392578\n",
      "epoch: 44  train_loss: 21.647613525390625\n",
      "epoch: 45  train_loss: 22.353811264038086\n",
      "epoch: 46  train_loss: 21.176542282104492\n",
      "epoch: 47  train_loss: 21.12318229675293\n",
      "epoch: 48  train_loss: 22.342809677124023\n",
      "epoch: 49  train_loss: 21.682579040527344\n",
      "epoch: 50  train_loss: 21.75298500061035\n",
      "epoch: 51  train_loss: 20.740825653076172\n",
      "epoch: 52  train_loss: 22.052095413208008\n",
      "epoch: 53  train_loss: 20.45381736755371\n",
      "epoch: 54  train_loss: 21.32338523864746\n",
      "epoch: 55  train_loss: 21.698091506958008\n",
      "epoch: 56  train_loss: 21.840641021728516\n",
      "epoch: 57  train_loss: 20.040781021118164\n",
      "epoch: 58  train_loss: 22.294410705566406\n",
      "epoch: 59  train_loss: 20.526447296142578\n",
      "epoch: 60  train_loss: 21.19316864013672\n",
      "epoch: 61  train_loss: 21.129222869873047\n",
      "epoch: 62  train_loss: 22.403356552124023\n",
      "epoch: 63  train_loss: 21.633331298828125\n",
      "epoch: 64  train_loss: 21.12689781188965\n",
      "epoch: 65  train_loss: 22.13325309753418\n",
      "epoch: 66  train_loss: 21.290578842163086\n",
      "epoch: 67  train_loss: 21.219520568847656\n",
      "epoch: 68  train_loss: 21.351377487182617\n",
      "epoch: 69  train_loss: 20.467227935791016\n",
      "epoch: 70  train_loss: 20.91897964477539\n",
      "epoch: 71  train_loss: 20.62620735168457\n",
      "epoch: 72  train_loss: 21.691396713256836\n",
      "epoch: 73  train_loss: 20.774141311645508\n",
      "epoch: 74  train_loss: 21.009010314941406\n",
      "epoch: 75  train_loss: 20.958215713500977\n",
      "epoch: 76  train_loss: 21.12883949279785\n",
      "epoch: 77  train_loss: 21.037012100219727\n",
      "epoch: 78  train_loss: 21.873939514160156\n",
      "epoch: 79  train_loss: 21.412811279296875\n",
      "epoch: 80  train_loss: 21.116966247558594\n",
      "epoch: 81  train_loss: 22.372018814086914\n",
      "epoch: 82  train_loss: 19.894004821777344\n",
      "epoch: 83  train_loss: 21.190570831298828\n",
      "epoch: 84  train_loss: 21.743776321411133\n",
      "epoch: 85  train_loss: 21.33836555480957\n",
      "Early stopping!!!\n"
     ]
    },
    {
     "data": {
      "text/plain": [
       "<All keys matched successfully>"
      ]
     },
     "execution_count": 11,
     "metadata": {},
     "output_type": "execute_result"
    }
   ],
   "source": [
    "# training\n",
    "epochs = 200                    # number of training epochs\n",
    "warmup = 20                     # number of epochs to wait before enacting early stopping policy\n",
    "patience = 20                   # number of epochs with no improvement in eval metric to allow before early stopping\n",
    "optimizer = torch.optim.Adam(problem.parameters(), lr=lr)\n",
    "# create a trainer for the problem\n",
    "trainer = nm.trainer.Trainer(problem, loader_train, loader_dev, loader_test, optimizer, \n",
    "                             epochs=epochs, patience=patience, warmup=warmup)\n",
    "# training for the rounding problem\n",
    "best_model = trainer.train()\n",
    "# load best model dict\n",
    "problem.load_state_dict(best_model)"
   ]
  },
  {
   "cell_type": "code",
   "execution_count": 12,
   "id": "3e835084-eb75-45d9-bcbd-5fb4c613fb41",
   "metadata": {},
   "outputs": [
    {
     "name": "stderr",
     "output_type": "stream",
     "text": [
      "100%|█████████████████████████████████████████████████████████████████████████████| 1000/1000 [00:03<00:00, 292.44it/s]\n"
     ]
    },
    {
     "name": "stdout",
     "output_type": "stream",
     "text": [
      "           Obj Val  Constraints Viol  Elapsed Time\n",
      "count  1000.000000       1000.000000   1000.000000\n",
      "mean     17.476046          0.002930      0.002929\n",
      "std      12.083094          0.017888      0.000933\n",
      "min       0.443262          0.000000      0.001000\n",
      "25%       7.832842          0.000000      0.002005\n",
      "50%      14.225649          0.000000      0.002999\n",
      "75%      25.376602          0.000000      0.003510\n",
      "max      67.831450          0.211462      0.008544\n",
      "Number of infeasible solution: 36\n"
     ]
    }
   ],
   "source": [
    "params, sols, objvals, conviols, elapseds = [], [], [], [], []\n",
    "for p, a in tqdm(list(zip(p_test,a_test))):\n",
    "    # data point as tensor\n",
    "    datapoints = {\"p\": torch.tensor(np.array([p]), dtype=torch.float32), \n",
    "                  \"a\": torch.tensor(np.array([a]), dtype=torch.float32),\n",
    "                  \"name\": \"test\"}\n",
    "    # infer\n",
    "    tick = time.time()\n",
    "    output = problem(datapoints)\n",
    "    tock = time.time()\n",
    "    # assign params\n",
    "    model.set_param_val({\"p\":p, \"a\":a})\n",
    "    # assign vars\n",
    "    x = output[\"test_x_rnd\"]\n",
    "    for i in range(2*num_blocks):\n",
    "        model.vars[\"x\"][i].value = x[0,i].item()\n",
    "    # get solutions\n",
    "    xval, objval = model.get_val()    \n",
    "    params.append(list(p))\n",
    "    sols.append(list(list(xval.values())[0].values()))\n",
    "    objvals.append(objval)\n",
    "    conviols.append(sum(model.cal_violation()))\n",
    "    elapseds.append(tock - tick)\n",
    "df = pd.DataFrame({\"Param\":params, \"Sol\":sols, \"Obj Val\": objvals, \"Constraints Viol\": conviols, \"Elapsed Time\": elapseds})\n",
    "time.sleep(1)\n",
    "print(df.describe())\n",
    "print(\"Number of infeasible solution: {}\".format(np.sum(df[\"Constraints Viol\"] > 0)))\n",
    "df.to_csv(\"result/rb_nm_h.csv\")"
   ]
  },
  {
   "cell_type": "code",
   "execution_count": null,
   "id": "18e5ebaf-0fb6-4a76-9e61-8ccb3abc99dd",
   "metadata": {},
   "outputs": [],
   "source": []
  }
 ],
 "metadata": {
  "kernelspec": {
   "display_name": "Python 3 (ipykernel)",
   "language": "python",
   "name": "python3"
  },
  "language_info": {
   "codemirror_mode": {
    "name": "ipython",
    "version": 3
   },
   "file_extension": ".py",
   "mimetype": "text/x-python",
   "name": "python",
   "nbconvert_exporter": "python",
   "pygments_lexer": "ipython3",
   "version": "3.10.13"
  }
 },
 "nbformat": 4,
 "nbformat_minor": 5
}
